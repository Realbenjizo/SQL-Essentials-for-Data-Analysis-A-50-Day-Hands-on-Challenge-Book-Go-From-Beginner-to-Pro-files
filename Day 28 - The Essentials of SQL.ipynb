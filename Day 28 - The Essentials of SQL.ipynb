{
 "cells": [
  {
   "cell_type": "markdown",
   "id": "7l0dz3vzKjvs",
   "metadata": {
    "id": "7l0dz3vzKjvs"
   },
   "source": [
    "## Question 1: **Answers**"
   ]
  },
  {
   "cell_type": "code",
   "execution_count": 1,
   "id": "ea21631a",
   "metadata": {
    "executionInfo": {
     "elapsed": 593,
     "status": "ok",
     "timestamp": 1752925238244,
     "user": {
      "displayName": "Benjamin Bennett Alexander",
      "userId": "14614847693800833280"
     },
     "user_tz": -180
    },
    "id": "ea21631a"
   },
   "outputs": [],
   "source": [
    "import pandas as pd\n",
    "import sqlite3"
   ]
  },
  {
   "cell_type": "code",
   "execution_count": null,
   "id": "105ee82f",
   "metadata": {
    "executionInfo": {
     "elapsed": 277,
     "status": "ok",
     "timestamp": 1752925238519,
     "user": {
      "displayName": "Benjamin Bennett Alexander",
      "userId": "14614847693800833280"
     },
     "user_tz": -180
    },
    "id": "105ee82f"
   },
   "outputs": [],
   "source": [
    "def add_data_to_database(input_data):\n",
    "    try:\n",
    "        # Creating a DataFrame\n",
    "        data = pd.read_csv(input_data)\n",
    "        engine = sqlite3.connect('sneaker_business_records.db')\n",
    "        data.to_sql('sneakers', con=engine, index = False)\n",
    "    except Exception as e:\n",
    "        print(f\"An error occurred: {e}\")\n",
    "\n",
    "data = \"/content/sneaker_business.csv\"\n",
    "add_data_to_database(data)"
   ]
  },
  {
   "cell_type": "code",
   "execution_count": 3,
   "id": "b4955c4e",
   "metadata": {
    "executionInfo": {
     "elapsed": 169,
     "status": "ok",
     "timestamp": 1752925238693,
     "user": {
      "displayName": "Benjamin Bennett Alexander",
      "userId": "14614847693800833280"
     },
     "user_tz": -180
    },
    "id": "b4955c4e"
   },
   "outputs": [],
   "source": [
    "# Loading SQL extension\n",
    "%load_ext sql"
   ]
  },
  {
   "cell_type": "code",
   "execution_count": 4,
   "id": "b6a9d0b6",
   "metadata": {
    "executionInfo": {
     "elapsed": 23,
     "status": "ok",
     "timestamp": 1752925238735,
     "user": {
      "displayName": "Benjamin Bennett Alexander",
      "userId": "14614847693800833280"
     },
     "user_tz": -180
    },
    "id": "b6a9d0b6"
   },
   "outputs": [],
   "source": [
    "#  Connecting to the database\n",
    "%sql sqlite:///sneaker_business_records.db"
   ]
  },
  {
   "cell_type": "code",
   "execution_count": 5,
   "id": "SyI6WiexsSn9",
   "metadata": {
    "executionInfo": {
     "elapsed": 132,
     "status": "ok",
     "timestamp": 1752925238871,
     "user": {
      "displayName": "Benjamin Bennett Alexander",
      "userId": "14614847693800833280"
     },
     "user_tz": -180
    },
    "id": "SyI6WiexsSn9"
   },
   "outputs": [],
   "source": [
    "# Default to duplicated style\n",
    "%config SqlMagic.style = '_DEPRECATED_DEFAULT'"
   ]
  },
  {
   "cell_type": "code",
   "execution_count": 6,
   "id": "77a3751e",
   "metadata": {
    "colab": {
     "base_uri": "https://localhost:8080/",
     "height": 177
    },
    "executionInfo": {
     "elapsed": 85,
     "status": "ok",
     "timestamp": 1752925238875,
     "user": {
      "displayName": "Benjamin Bennett Alexander",
      "userId": "14614847693800833280"
     },
     "user_tz": -180
    },
    "id": "77a3751e",
    "outputId": "ee4af314-b597-4ac7-9cd8-fb38ff22f34f"
   },
   "outputs": [
    {
     "name": "stdout",
     "output_type": "stream",
     "text": [
      " * sqlite:///sneaker_business_records.db\n",
      "Done.\n"
     ]
    },
    {
     "data": {
      "text/html": [
       "<table>\n",
       "    <thead>\n",
       "        <tr>\n",
       "            <th>sneaker_id</th>\n",
       "            <th>model</th>\n",
       "            <th>price</th>\n",
       "            <th>release_date</th>\n",
       "            <th>colorway</th>\n",
       "            <th>size</th>\n",
       "        </tr>\n",
       "    </thead>\n",
       "    <tbody>\n",
       "        <tr>\n",
       "            <td>1</td>\n",
       "            <td>Air Jordan 1 Retro High OG</td>\n",
       "            <td>160.0</td>\n",
       "            <td>2022-09-17</td>\n",
       "            <td>Black/White</td>\n",
       "            <td>10.5</td>\n",
       "        </tr>\n",
       "        <tr>\n",
       "            <td>2</td>\n",
       "            <td>Nike Air Force 1 &#x27;07 LV8</td>\n",
       "            <td>100.0</td>\n",
       "            <td>2022-09-17</td>\n",
       "            <td>White/Black</td>\n",
       "            <td>8.5</td>\n",
       "        </tr>\n",
       "        <tr>\n",
       "            <td>3</td>\n",
       "            <td>Adidas Yeezy Boost 350 V2</td>\n",
       "            <td>220.0</td>\n",
       "            <td>2022-09-18</td>\n",
       "            <td>Cream White</td>\n",
       "            <td>10.0</td>\n",
       "        </tr>\n",
       "        <tr>\n",
       "            <td>4</td>\n",
       "            <td>New Balance 990v5</td>\n",
       "            <td>160.0</td>\n",
       "            <td>2022-09-18</td>\n",
       "            <td>Grey/Black/White</td>\n",
       "            <td>11.5</td>\n",
       "        </tr>\n",
       "        <tr>\n",
       "            <td>5</td>\n",
       "            <td>Converse Chuck Taylor All-Star</td>\n",
       "            <td>70.0</td>\n",
       "            <td>2022-09-19</td>\n",
       "            <td>White/Black</td>\n",
       "            <td>9.5</td>\n",
       "        </tr>\n",
       "    </tbody>\n",
       "</table>"
      ],
      "text/plain": [
       "[(1, 'Air Jordan 1 Retro High OG', 160.0, '2022-09-17', 'Black/White', 10.5),\n",
       " (2, \"Nike Air Force 1 '07 LV8\", 100.0, '2022-09-17', 'White/Black', 8.5),\n",
       " (3, 'Adidas Yeezy Boost 350 V2', 220.0, '2022-09-18', 'Cream White', 10.0),\n",
       " (4, 'New Balance 990v5', 160.0, '2022-09-18', 'Grey/Black/White', 11.5),\n",
       " (5, 'Converse Chuck Taylor All-Star', 70.0, '2022-09-19', 'White/Black', 9.5)]"
      ]
     },
     "execution_count": 6,
     "metadata": {},
     "output_type": "execute_result"
    }
   ],
   "source": [
    "%%sql\n",
    "SELECT * FROM sneakers LIMIT 5;"
   ]
  },
  {
   "cell_type": "markdown",
   "id": "ddc90d8a",
   "metadata": {
    "id": "ddc90d8a"
   },
   "source": [
    "## Question 2: **Answer**"
   ]
  },
  {
   "cell_type": "code",
   "execution_count": 7,
   "id": "e2e4a2ae",
   "metadata": {
    "colab": {
     "base_uri": "https://localhost:8080/",
     "height": 94
    },
    "executionInfo": {
     "elapsed": 38,
     "status": "ok",
     "timestamp": 1752925238876,
     "user": {
      "displayName": "Benjamin Bennett Alexander",
      "userId": "14614847693800833280"
     },
     "user_tz": -180
    },
    "id": "e2e4a2ae",
    "outputId": "1a02eee2-f9c3-461c-80b9-32aae122d884"
   },
   "outputs": [
    {
     "name": "stdout",
     "output_type": "stream",
     "text": [
      " * sqlite:///sneaker_business_records.db\n",
      "Done.\n"
     ]
    },
    {
     "data": {
      "text/html": [
       "<table>\n",
       "    <thead>\n",
       "        <tr>\n",
       "            <th>model</th>\n",
       "            <th>colorway</th>\n",
       "        </tr>\n",
       "    </thead>\n",
       "    <tbody>\n",
       "        <tr>\n",
       "            <td>Brooks Hyperion Tempo</td>\n",
       "            <td>Black/White</td>\n",
       "        </tr>\n",
       "    </tbody>\n",
       "</table>"
      ],
      "text/plain": [
       "[('Brooks Hyperion Tempo', 'Black/White')]"
      ]
     },
     "execution_count": 7,
     "metadata": {},
     "output_type": "execute_result"
    }
   ],
   "source": [
    "%%sql\n",
    "SELECT\n",
    "    model,\n",
    "    colorway\n",
    "FROM sneakers\n",
    "WHERE model LIKE '%Tempo';"
   ]
  },
  {
   "cell_type": "markdown",
   "id": "c95558b5",
   "metadata": {
    "id": "c95558b5"
   },
   "source": [
    "## Question 3: **Answer**"
   ]
  },
  {
   "cell_type": "code",
   "execution_count": 8,
   "id": "8fa48a33",
   "metadata": {
    "colab": {
     "base_uri": "https://localhost:8080/",
     "height": 94
    },
    "executionInfo": {
     "elapsed": 39,
     "status": "ok",
     "timestamp": 1752925238900,
     "user": {
      "displayName": "Benjamin Bennett Alexander",
      "userId": "14614847693800833280"
     },
     "user_tz": -180
    },
    "id": "8fa48a33",
    "outputId": "92685672-da46-4ac4-de16-7a62990b2efd"
   },
   "outputs": [
    {
     "name": "stdout",
     "output_type": "stream",
     "text": [
      " * sqlite:///sneaker_business_records.db\n",
      "Done.\n"
     ]
    },
    {
     "data": {
      "text/html": [
       "<table>\n",
       "    <thead>\n",
       "        <tr>\n",
       "            <th>september_sneakers_value</th>\n",
       "            <th>october_sneakers_value</th>\n",
       "        </tr>\n",
       "    </thead>\n",
       "    <tbody>\n",
       "        <tr>\n",
       "            <td>1815.0</td>\n",
       "            <td>1665.0</td>\n",
       "        </tr>\n",
       "    </tbody>\n",
       "</table>"
      ],
      "text/plain": [
       "[(1815.0, 1665.0)]"
      ]
     },
     "execution_count": 8,
     "metadata": {},
     "output_type": "execute_result"
    }
   ],
   "source": [
    "%%sql\n",
    "SELECT\n",
    "    september_sneakers_value,\n",
    "    october_sneakers_value\n",
    "FROM (\n",
    "    SELECT\n",
    "        SUM(CASE WHEN STRFTIME('%m', release_date) = '09'\n",
    "            THEN price ELSE 0 END) AS september_sneakers_value,\n",
    "\n",
    "        SUM(CASE WHEN STRFTIME('%m', release_date) = '10'\n",
    "            THEN price ELSE 0 END) AS october_sneakers_value\n",
    "    FROM sneakers\n",
    ") AS sneaker_value_calculation;"
   ]
  },
  {
   "cell_type": "markdown",
   "id": "WKLx4YRXdUvE",
   "metadata": {
    "id": "WKLx4YRXdUvE"
   },
   "source": [
    "## Question 4: **Answer**"
   ]
  },
  {
   "cell_type": "code",
   "execution_count": 9,
   "id": "f835fd23",
   "metadata": {
    "colab": {
     "base_uri": "https://localhost:8080/",
     "height": 156
    },
    "executionInfo": {
     "elapsed": 108,
     "status": "ok",
     "timestamp": 1752925239009,
     "user": {
      "displayName": "Benjamin Bennett Alexander",
      "userId": "14614847693800833280"
     },
     "user_tz": -180
    },
    "id": "f835fd23",
    "outputId": "76f8f2c1-dfcf-4dec-bbe7-d263ee209a67"
   },
   "outputs": [
    {
     "name": "stdout",
     "output_type": "stream",
     "text": [
      " * sqlite:///sneaker_business_records.db\n",
      "Done.\n"
     ]
    },
    {
     "data": {
      "text/html": [
       "<table>\n",
       "    <thead>\n",
       "        <tr>\n",
       "            <th>model</th>\n",
       "            <th>average_price</th>\n",
       "            <th>category</th>\n",
       "        </tr>\n",
       "    </thead>\n",
       "    <tbody>\n",
       "        <tr>\n",
       "            <td>Air Jordan 1 Retro High OG</td>\n",
       "            <td>160.0</td>\n",
       "            <td>Premium</td>\n",
       "        </tr>\n",
       "        <tr>\n",
       "            <td>Nike Air Force 1 &#x27;07 LV8</td>\n",
       "            <td>100.0</td>\n",
       "            <td>Standard</td>\n",
       "        </tr>\n",
       "        <tr>\n",
       "            <td>Nike Air Zoom Pegasus 39</td>\n",
       "            <td>125.0</td>\n",
       "            <td>Premium</td>\n",
       "        </tr>\n",
       "        <tr>\n",
       "            <td>Nike Dunk Low</td>\n",
       "            <td>110.0</td>\n",
       "            <td>Premium</td>\n",
       "        </tr>\n",
       "    </tbody>\n",
       "</table>"
      ],
      "text/plain": [
       "[('Air Jordan 1 Retro High OG', 160.0, 'Premium'),\n",
       " (\"Nike Air Force 1 '07 LV8\", 100.0, 'Standard'),\n",
       " ('Nike Air Zoom Pegasus 39', 125.0, 'Premium'),\n",
       " ('Nike Dunk Low', 110.0, 'Premium')]"
      ]
     },
     "execution_count": 9,
     "metadata": {},
     "output_type": "execute_result"
    }
   ],
   "source": [
    "%%sql\n",
    "WITH nike_and_jordan AS (\n",
    "    SELECT\n",
    "        model,\n",
    "        AVG(price) AS average_price\n",
    "    FROM sneakers\n",
    "    WHERE (price > 50 AND release_date > '2022-09-01')\n",
    "           AND (model LIKE 'Nike%' OR  model LIKE '%jordan%')\n",
    "   GROUP BY model\n",
    ")\n",
    "SELECT\n",
    "    model,\n",
    "    average_price,\n",
    "    CASE\n",
    "        WHEN average_price > 100 THEN 'Premium' ELSE 'Standard'\n",
    "    END category\n",
    "FROM nike_and_jordan;"
   ]
  },
  {
   "cell_type": "markdown",
   "id": "f7c009f7",
   "metadata": {
    "id": "f7c009f7"
   },
   "source": [
    "## Question 5: **Answer**"
   ]
  },
  {
   "cell_type": "code",
   "execution_count": 10,
   "id": "8msL6UEu6F8q",
   "metadata": {
    "colab": {
     "base_uri": "https://localhost:8080/",
     "height": 94
    },
    "executionInfo": {
     "elapsed": 61,
     "status": "ok",
     "timestamp": 1752925239010,
     "user": {
      "displayName": "Benjamin Bennett Alexander",
      "userId": "14614847693800833280"
     },
     "user_tz": -180
    },
    "id": "8msL6UEu6F8q",
    "outputId": "6188b0da-776d-4452-c218-7f338ad9eacc"
   },
   "outputs": [
    {
     "name": "stdout",
     "output_type": "stream",
     "text": [
      " * sqlite:///sneaker_business_records.db\n",
      "Done.\n"
     ]
    },
    {
     "data": {
      "text/html": [
       "<table>\n",
       "    <thead>\n",
       "        <tr>\n",
       "            <th>count_black_white</th>\n",
       "            <th>count_navy_yellow</th>\n",
       "            <th>total_sneakers</th>\n",
       "            <th>combined_percentage</th>\n",
       "        </tr>\n",
       "    </thead>\n",
       "    <tbody>\n",
       "        <tr>\n",
       "            <td>6.0</td>\n",
       "            <td>2.0</td>\n",
       "            <td>27</td>\n",
       "            <td>29.63</td>\n",
       "        </tr>\n",
       "    </tbody>\n",
       "</table>"
      ],
      "text/plain": [
       "[(6.0, 2.0, 27, 29.63)]"
      ]
     },
     "execution_count": 10,
     "metadata": {},
     "output_type": "execute_result"
    }
   ],
   "source": [
    "%%sql\n",
    "WITH black_white AS (\n",
    "    SELECT\n",
    "        colorway,\n",
    "        CAST(COUNT(model) AS REAL) AS count_black_white\n",
    "    FROM sneakers\n",
    "    WHERE colorway LIKE 'Black/White'\n",
    "    GROUP BY colorway\n",
    "),\n",
    "navy_yellow AS (\n",
    "    SELECT\n",
    "        colorway,\n",
    "        CAST(COUNT(model) AS REAL) AS count_navy_yellow\n",
    "    FROM sneakers\n",
    "    WHERE colorway LIKE 'Navy/Yellow'\n",
    "    GROUP BY colorway\n",
    "),\n",
    "total_count AS (\n",
    "    SELECT\n",
    "        model,\n",
    "        COUNT(*) AS total_sneakers\n",
    "    FROM sneakers\n",
    ")\n",
    "SELECT\n",
    "    bw.count_black_white,\n",
    "    ny.count_navy_yellow,\n",
    "    tc.total_sneakers,\n",
    "    ROUND(((ny.count_navy_yellow + bw.count_black_white)/tc.total_sneakers * 100), 2)\n",
    "    AS combined_percentage\n",
    "FROM black_white bw\n",
    "CROSS JOIN navy_yellow ny, total_count tc;"
   ]
  },
  {
   "cell_type": "code",
   "execution_count": 11,
   "id": "SzLxUJHS90h5",
   "metadata": {
    "colab": {
     "base_uri": "https://localhost:8080/",
     "height": 94
    },
    "executionInfo": {
     "elapsed": 41,
     "status": "ok",
     "timestamp": 1752925239012,
     "user": {
      "displayName": "Benjamin Bennett Alexander",
      "userId": "14614847693800833280"
     },
     "user_tz": -180
    },
    "id": "SzLxUJHS90h5",
    "outputId": "98b65a8c-04da-4c97-ff9b-1532310efef3"
   },
   "outputs": [
    {
     "name": "stdout",
     "output_type": "stream",
     "text": [
      " * sqlite:///sneaker_business_records.db\n",
      "Done.\n"
     ]
    },
    {
     "data": {
      "text/html": [
       "<table>\n",
       "    <thead>\n",
       "        <tr>\n",
       "            <th>count_black_white</th>\n",
       "            <th>count_navy_yellow</th>\n",
       "            <th>total_sneakers</th>\n",
       "            <th>combined_percentage</th>\n",
       "        </tr>\n",
       "    </thead>\n",
       "    <tbody>\n",
       "        <tr>\n",
       "            <td>6</td>\n",
       "            <td>2</td>\n",
       "            <td>27</td>\n",
       "            <td>29.63</td>\n",
       "        </tr>\n",
       "    </tbody>\n",
       "</table>"
      ],
      "text/plain": [
       "[(6, 2, 27, 29.63)]"
      ]
     },
     "execution_count": 11,
     "metadata": {},
     "output_type": "execute_result"
    }
   ],
   "source": [
    "%%sql\n",
    "SELECT\n",
    "    (SELECT COUNT(model) FROM sneakers WHERE colorway LIKE 'Black/White')\n",
    "    AS count_black_white,\n",
    "\n",
    "    (SELECT COUNT(model) FROM sneakers WHERE colorway LIKE 'Navy/Yellow')\n",
    "    AS count_navy_yellow,\n",
    "\n",
    "    (SELECT COUNT(*) FROM sneakers) AS total_sneakers,\n",
    "\n",
    "    ROUND(\n",
    "        ((SELECT COUNT(model) FROM sneakers WHERE colorway LIKE 'Black/White') +\n",
    "           (SELECT COUNT(model) FROM sneakers WHERE colorway LIKE 'Navy/Yellow')\n",
    "        ) * 1.0 / (SELECT COUNT(*) FROM sneakers) * 100, 2\n",
    "    ) AS combined_percentage;"
   ]
  }
 ],
 "metadata": {
  "colab": {
   "provenance": []
  },
  "kernelspec": {
   "display_name": "Python 3 (ipykernel)",
   "language": "python",
   "name": "python3"
  },
  "language_info": {
   "codemirror_mode": {
    "name": "ipython",
    "version": 3
   },
   "file_extension": ".py",
   "mimetype": "text/x-python",
   "name": "python",
   "nbconvert_exporter": "python",
   "pygments_lexer": "ipython3",
   "version": "3.10.5"
  }
 },
 "nbformat": 4,
 "nbformat_minor": 5
}

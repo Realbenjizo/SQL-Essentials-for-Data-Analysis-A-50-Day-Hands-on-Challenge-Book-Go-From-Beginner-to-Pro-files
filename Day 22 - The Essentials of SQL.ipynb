{
 "cells": [
  {
   "cell_type": "markdown",
   "id": "Pb1ViZ-slSqH",
   "metadata": {
    "id": "Pb1ViZ-slSqH"
   },
   "source": [
    "## Question 1: **Answers**"
   ]
  },
  {
   "cell_type": "code",
   "execution_count": 1,
   "id": "6623ac30",
   "metadata": {
    "executionInfo": {
     "elapsed": 37,
     "status": "ok",
     "timestamp": 1752856164248,
     "user": {
      "displayName": "Benjamin Bennett Alexander",
      "userId": "14614847693800833280"
     },
     "user_tz": -180
    },
    "id": "6623ac30"
   },
   "outputs": [],
   "source": [
    "import sqlite3\n",
    "import csv"
   ]
  },
  {
   "cell_type": "code",
   "execution_count": null,
   "id": "f3d1d9f4",
   "metadata": {
    "colab": {
     "base_uri": "https://localhost:8080/"
    },
    "executionInfo": {
     "elapsed": 423,
     "status": "ok",
     "timestamp": 1752856164677,
     "user": {
      "displayName": "Benjamin Bennett Alexander",
      "userId": "14614847693800833280"
     },
     "user_tz": -180
    },
    "id": "f3d1d9f4",
    "outputId": "6cb29241-29d7-445b-b006-a82bbd366d51"
   },
   "outputs": [
    {
     "name": "stdout",
     "output_type": "stream",
     "text": [
      "Data successfully saved in the database\n"
     ]
    }
   ],
   "source": [
    "def load_crime_stats_data(input_data):\n",
    "    try:\n",
    "        # connecting to database and creating a cursor\n",
    "        conn = sqlite3.connect(\"city_crime_database.db\")\n",
    "        cursor = conn.cursor()\n",
    "        # Creating table\n",
    "        cursor.execute(\"\"\"\n",
    "            CREATE TABLE IF NOT EXISTS crimes_data (\n",
    "                city TEXT,\n",
    "                year INT,\n",
    "                violent_crime_rate FLOAT,\n",
    "                property_crime_rate FLOAT\n",
    "                )\n",
    "        \"\"\" )\n",
    "        with open(input_data, \"r\") as csv_file:\n",
    "            csv_reader = csv.reader(csv_file)\n",
    "            # Skip the header row\n",
    "            next(csv_reader)\n",
    "            for row in csv_reader:\n",
    "                cursor.execute(\"INSERT INTO crimes_data VALUES (?, ?, ?, ?)\", row)\n",
    "        conn.commit()\n",
    "        print(\"Data successfully saved in the database\")\n",
    "    except Exception as e:\n",
    "        print(f\"Error occured: {e}\")\n",
    "    finally:\n",
    "        conn.close()\n",
    "\n",
    "# Loading data\n",
    "data = \"/content/City_Crime_Rates.csv\"\n",
    "load_crime_stats_data(data)\n"
   ]
  },
  {
   "cell_type": "code",
   "execution_count": 3,
   "id": "13ffe4fa",
   "metadata": {
    "executionInfo": {
     "elapsed": 1259,
     "status": "ok",
     "timestamp": 1752856165942,
     "user": {
      "displayName": "Benjamin Bennett Alexander",
      "userId": "14614847693800833280"
     },
     "user_tz": -180
    },
    "id": "13ffe4fa"
   },
   "outputs": [],
   "source": [
    "# Loading the extension\n",
    "%load_ext sql"
   ]
  },
  {
   "cell_type": "code",
   "execution_count": 4,
   "id": "226d28c2",
   "metadata": {
    "executionInfo": {
     "elapsed": 54,
     "status": "ok",
     "timestamp": 1752856165993,
     "user": {
      "displayName": "Benjamin Bennett Alexander",
      "userId": "14614847693800833280"
     },
     "user_tz": -180
    },
    "id": "226d28c2"
   },
   "outputs": [],
   "source": [
    "# Using the extension to connect to database\n",
    "%sql sqlite:///city_crime_database.db"
   ]
  },
  {
   "cell_type": "code",
   "execution_count": 5,
   "id": "Ps_zXpEjm83t",
   "metadata": {
    "executionInfo": {
     "elapsed": 120,
     "status": "ok",
     "timestamp": 1752856166119,
     "user": {
      "displayName": "Benjamin Bennett Alexander",
      "userId": "14614847693800833280"
     },
     "user_tz": -180
    },
    "id": "Ps_zXpEjm83t"
   },
   "outputs": [],
   "source": [
    "# Default to duplicated style\n",
    "%config SqlMagic.style = '_DEPRECATED_DEFAULT'"
   ]
  },
  {
   "cell_type": "code",
   "execution_count": 6,
   "id": "10e5959b",
   "metadata": {
    "colab": {
     "base_uri": "https://localhost:8080/",
     "height": 177
    },
    "executionInfo": {
     "elapsed": 70,
     "status": "ok",
     "timestamp": 1752856166138,
     "user": {
      "displayName": "Benjamin Bennett Alexander",
      "userId": "14614847693800833280"
     },
     "user_tz": -180
    },
    "id": "10e5959b",
    "outputId": "895fb9a3-e77b-4f5c-9dac-fc368e53022a"
   },
   "outputs": [
    {
     "name": "stdout",
     "output_type": "stream",
     "text": [
      " * sqlite:///city_crime_database.db\n",
      "Done.\n"
     ]
    },
    {
     "data": {
      "text/html": [
       "<table>\n",
       "    <thead>\n",
       "        <tr>\n",
       "            <th>city</th>\n",
       "            <th>year</th>\n",
       "            <th>violent_crime_rate</th>\n",
       "            <th>property_crime_rate</th>\n",
       "        </tr>\n",
       "    </thead>\n",
       "    <tbody>\n",
       "        <tr>\n",
       "            <td>New York City</td>\n",
       "            <td>2020</td>\n",
       "            <td>610.1</td>\n",
       "            <td>686.8</td>\n",
       "        </tr>\n",
       "        <tr>\n",
       "            <td>New York City</td>\n",
       "            <td>2021</td>\n",
       "            <td>588.8</td>\n",
       "            <td>574.1</td>\n",
       "        </tr>\n",
       "        <tr>\n",
       "            <td>Los Angeles</td>\n",
       "            <td>2020</td>\n",
       "            <td>572.2</td>\n",
       "            <td>184.8</td>\n",
       "        </tr>\n",
       "        <tr>\n",
       "            <td>Los Angeles</td>\n",
       "            <td>2021</td>\n",
       "            <td>546.5</td>\n",
       "            <td>926.8</td>\n",
       "        </tr>\n",
       "        <tr>\n",
       "            <td>Chicago</td>\n",
       "            <td>2020</td>\n",
       "            <td>648.3</td>\n",
       "            <td>320.7</td>\n",
       "        </tr>\n",
       "    </tbody>\n",
       "</table>"
      ],
      "text/plain": [
       "[('New York City', 2020, 610.1, 686.8),\n",
       " ('New York City', 2021, 588.8, 574.1),\n",
       " ('Los Angeles', 2020, 572.2, 184.8),\n",
       " ('Los Angeles', 2021, 546.5, 926.8),\n",
       " ('Chicago', 2020, 648.3, 320.7)]"
      ]
     },
     "execution_count": 6,
     "metadata": {},
     "output_type": "execute_result"
    }
   ],
   "source": [
    "%%sql\n",
    "SELECT * FROM crimes_data\n",
    "LIMIT 5;"
   ]
  },
  {
   "cell_type": "markdown",
   "id": "84325c7f",
   "metadata": {
    "id": "84325c7f"
   },
   "source": [
    "## Questions 2: **Answer**"
   ]
  },
  {
   "cell_type": "code",
   "execution_count": 7,
   "id": "ADLsNmA87Cg3",
   "metadata": {
    "colab": {
     "base_uri": "https://localhost:8080/",
     "height": 115
    },
    "executionInfo": {
     "elapsed": 109,
     "status": "ok",
     "timestamp": 1752856166220,
     "user": {
      "displayName": "Benjamin Bennett Alexander",
      "userId": "14614847693800833280"
     },
     "user_tz": -180
    },
    "id": "ADLsNmA87Cg3",
    "outputId": "6492b409-75b9-4bae-f60f-34f40a426fc4"
   },
   "outputs": [
    {
     "name": "stdout",
     "output_type": "stream",
     "text": [
      " * sqlite:///city_crime_database.db\n",
      "Done.\n"
     ]
    },
    {
     "data": {
      "text/html": [
       "<table>\n",
       "    <thead>\n",
       "        <tr>\n",
       "            <th>city</th>\n",
       "            <th>year</th>\n",
       "            <th>violent_crime_rate</th>\n",
       "        </tr>\n",
       "    </thead>\n",
       "    <tbody>\n",
       "        <tr>\n",
       "            <td>Chicago</td>\n",
       "            <td>2021</td>\n",
       "            <td>&nbsp;&nbsp;&nbsp;&nbsp;&nbsp;&nbsp;&nbsp;&nbsp;&nbsp;&nbsp;&nbsp;&nbsp;&nbsp;&nbsp;&nbsp;611.5</td>\n",
       "        </tr>\n",
       "        <tr>\n",
       "            <td>San Jose</td>\n",
       "            <td>2021</td>\n",
       "            <td>&nbsp;&nbsp;&nbsp;&nbsp;&nbsp;&nbsp;&nbsp;&nbsp;&nbsp;&nbsp;&nbsp;&nbsp;&nbsp;&nbsp;&nbsp;266.2</td>\n",
       "        </tr>\n",
       "    </tbody>\n",
       "</table>"
      ],
      "text/plain": [
       "[('Chicago', 2021, '               611.5'),\n",
       " ('San Jose', 2021, '               266.2')]"
      ]
     },
     "execution_count": 7,
     "metadata": {},
     "output_type": "execute_result"
    }
   ],
   "source": [
    "%%sql\n",
    "-- Finding maximum rate\n",
    "WITH max_rate AS (\n",
    "    SELECT MAX(violent_crime_rate) AS max_rate\n",
    "    FROM crimes_data\n",
    "    WHERE Year = 2021\n",
    "),\n",
    "-- Finding minimum rate\n",
    "min_rate AS (\n",
    "    SELECT MIN(violent_crime_rate) AS min_rate\n",
    "    FROM crimes_data\n",
    "    WHERE Year = 2021\n",
    ")\n",
    "--Main query to return cities with min and max\n",
    "SELECT DISTINCT\n",
    "    City,\n",
    "    Year,\n",
    "    printf(\"%20s\", (violent_crime_rate)) AS violent_crime_rate\n",
    "FROM crimes_data\n",
    "WHERE Year = 2021 AND violent_crime_rate = (SELECT max_rate FROM max_rate)\n",
    "                  OR violent_crime_rate = (SELECT min_rate FROM min_rate);"
   ]
  },
  {
   "cell_type": "markdown",
   "id": "f040738f",
   "metadata": {
    "id": "f040738f"
   },
   "source": [
    "## Questions 3: **Answer**"
   ]
  },
  {
   "cell_type": "code",
   "execution_count": 8,
   "id": "49a9756c",
   "metadata": {
    "colab": {
     "base_uri": "https://localhost:8080/",
     "height": 94
    },
    "executionInfo": {
     "elapsed": 38,
     "status": "ok",
     "timestamp": 1752856166269,
     "user": {
      "displayName": "Benjamin Bennett Alexander",
      "userId": "14614847693800833280"
     },
     "user_tz": -180
    },
    "id": "49a9756c",
    "outputId": "4a904d4d-4e98-4d06-e134-40f1ab6000ee"
   },
   "outputs": [
    {
     "name": "stdout",
     "output_type": "stream",
     "text": [
      " * sqlite:///city_crime_database.db\n",
      "Done.\n"
     ]
    },
    {
     "data": {
      "text/html": [
       "<table>\n",
       "    <thead>\n",
       "        <tr>\n",
       "            <th>city</th>\n",
       "            <th>property_crime_rate</th>\n",
       "        </tr>\n",
       "    </thead>\n",
       "    <tbody>\n",
       "        <tr>\n",
       "            <td>Fort Worth</td>\n",
       "            <td>&nbsp;&nbsp;&nbsp;&nbsp;&nbsp;&nbsp;&nbsp;&nbsp;&nbsp;&nbsp;&nbsp;&nbsp;&nbsp;&nbsp;&nbsp;&nbsp;&nbsp;3.7</td>\n",
       "        </tr>\n",
       "    </tbody>\n",
       "</table>"
      ],
      "text/plain": [
       "[('Fort Worth', '                 3.7')]"
      ]
     },
     "execution_count": 8,
     "metadata": {},
     "output_type": "execute_result"
    }
   ],
   "source": [
    "%%sql\n",
    "-- Retrieving the minimum crime rate\n",
    "WITH minimum_rate AS (\n",
    "    SELECT MIN(property_crime_rate) AS min_rate\n",
    "    FROM crimes_data\n",
    "    WHERE Year = 2021\n",
    ")\n",
    "-- Main query to retrieve city with minimum rate\n",
    "SELECT\n",
    "    DISTINCT City,\n",
    "    printf('%20s',property_crime_rate) AS property_crime_rate\n",
    "FROM crimes_data\n",
    "WHERE Year = 2021 AND property_crime_rate = (SELECT min_rate FROM minimum_rate);"
   ]
  },
  {
   "cell_type": "markdown",
   "id": "50dd7f7a",
   "metadata": {
    "id": "50dd7f7a"
   },
   "source": [
    "## Questions 4: **Answer**"
   ]
  },
  {
   "cell_type": "code",
   "execution_count": 9,
   "id": "e0e34624",
   "metadata": {
    "colab": {
     "base_uri": "https://localhost:8080/",
     "height": 94
    },
    "executionInfo": {
     "elapsed": 62,
     "status": "ok",
     "timestamp": 1752856166339,
     "user": {
      "displayName": "Benjamin Bennett Alexander",
      "userId": "14614847693800833280"
     },
     "user_tz": -180
    },
    "id": "e0e34624",
    "outputId": "a7cedf41-c05f-44c5-811c-5b4b623e3cb8"
   },
   "outputs": [
    {
     "name": "stdout",
     "output_type": "stream",
     "text": [
      " * sqlite:///city_crime_database.db\n",
      "Done.\n"
     ]
    },
    {
     "data": {
      "text/html": [
       "<table>\n",
       "    <thead>\n",
       "        <tr>\n",
       "            <th>City</th>\n",
       "            <th>Year</th>\n",
       "            <th>property_crime_rate_change</th>\n",
       "        </tr>\n",
       "    </thead>\n",
       "    <tbody>\n",
       "        <tr>\n",
       "            <td>Los Angeles</td>\n",
       "            <td>2021</td>\n",
       "            <td>&nbsp;&nbsp;&nbsp;&nbsp;&nbsp;&nbsp;&nbsp;&nbsp;&nbsp;&nbsp;&nbsp;&nbsp;&nbsp;&nbsp;&nbsp;742.0</td>\n",
       "        </tr>\n",
       "    </tbody>\n",
       "</table>"
      ],
      "text/plain": [
       "[('Los Angeles', 2021, '               742.0')]"
      ]
     },
     "execution_count": 9,
     "metadata": {},
     "output_type": "execute_result"
    }
   ],
   "source": [
    "%%sql\n",
    "WITH changes_in_crime_rates AS (\n",
    "  SELECT\n",
    "        City,\n",
    "        Year,\n",
    "        property_crime_rate - LAG(property_crime_rate)\n",
    "        OVER (PARTITION BY City ORDER BY Year) AS crime_rate_change\n",
    "  FROM crimes_data\n",
    "),\n",
    "-- Calculating largest crime rate change\n",
    "max_change AS (\n",
    "  SELECT\n",
    "        MAX(crime_rate_change) AS max_change\n",
    "  FROM changes_in_crime_rates\n",
    ")\n",
    "-- Selecting city with highest crime rate change\n",
    "SELECT\n",
    "    City,\n",
    "    Year,\n",
    "    printf('%20s',crime_rate_change) AS property_crime_rate_change\n",
    "FROM changes_in_crime_rates\n",
    "WHERE crime_rate_change = (SELECT max_change FROM max_change)\n",
    "ORDER BY City, Year;"
   ]
  },
  {
   "cell_type": "markdown",
   "id": "e1b73981",
   "metadata": {
    "id": "e1b73981"
   },
   "source": [
    "## Questions 5: **Answer**"
   ]
  },
  {
   "cell_type": "code",
   "execution_count": 10,
   "id": "0YGcPK3i8FS4",
   "metadata": {
    "colab": {
     "base_uri": "https://localhost:8080/",
     "height": 177
    },
    "executionInfo": {
     "elapsed": 39,
     "status": "ok",
     "timestamp": 1752856166386,
     "user": {
      "displayName": "Benjamin Bennett Alexander",
      "userId": "14614847693800833280"
     },
     "user_tz": -180
    },
    "id": "0YGcPK3i8FS4",
    "outputId": "e00d9b85-25ea-4807-80b2-d6bd843f9f0e"
   },
   "outputs": [
    {
     "name": "stdout",
     "output_type": "stream",
     "text": [
      " * sqlite:///city_crime_database.db\n",
      "Done.\n"
     ]
    },
    {
     "data": {
      "text/html": [
       "<table>\n",
       "    <thead>\n",
       "        <tr>\n",
       "            <th>Year</th>\n",
       "            <th>City</th>\n",
       "            <th>total_city_crimes_2020</th>\n",
       "            <th>rank_position</th>\n",
       "        </tr>\n",
       "    </thead>\n",
       "    <tbody>\n",
       "        <tr>\n",
       "            <td>2020</td>\n",
       "            <td>San Antonio</td>\n",
       "            <td>1371.6</td>\n",
       "            <td>1</td>\n",
       "        </tr>\n",
       "        <tr>\n",
       "            <td>2020</td>\n",
       "            <td>Dallas</td>\n",
       "            <td>1308.0</td>\n",
       "            <td>2</td>\n",
       "        </tr>\n",
       "        <tr>\n",
       "            <td>2020</td>\n",
       "            <td>New York City</td>\n",
       "            <td>1296.9</td>\n",
       "            <td>3</td>\n",
       "        </tr>\n",
       "        <tr>\n",
       "            <td>2020</td>\n",
       "            <td>Phoenix</td>\n",
       "            <td>1184.7</td>\n",
       "            <td>4</td>\n",
       "        </tr>\n",
       "        <tr>\n",
       "            <td>2020</td>\n",
       "            <td>Houston</td>\n",
       "            <td>1058.6</td>\n",
       "            <td>5</td>\n",
       "        </tr>\n",
       "    </tbody>\n",
       "</table>"
      ],
      "text/plain": [
       "[(2020, 'San Antonio', 1371.6, 1),\n",
       " (2020, 'Dallas', 1308.0, 2),\n",
       " (2020, 'New York City', 1296.9, 3),\n",
       " (2020, 'Phoenix', 1184.7, 4),\n",
       " (2020, 'Houston', 1058.6, 5)]"
      ]
     },
     "execution_count": 10,
     "metadata": {},
     "output_type": "execute_result"
    }
   ],
   "source": [
    "%%sql\n",
    "WITH crime_totals AS (\n",
    "    SELECT\n",
    "        Year,\n",
    "        City,\n",
    "        SUM(violent_crime_rate + property_crime_rate)\n",
    "        AS total_city_crimes_2020,\n",
    "        DENSE_RANK() OVER (ORDER BY violent_crime_rate + property_crime_rate DESC)\n",
    "        AS rank_position\n",
    "    FROM crimes_data\n",
    "    WHERE Year = 2020\n",
    "    GROUP BY Year, City\n",
    ")\n",
    "SELECT\n",
    "    Year,\n",
    "    City,\n",
    "    total_city_crimes_2020,\n",
    "    rank_position\n",
    "FROM Crime_Totals\n",
    "WHERE rank_position <= 5;"
   ]
  }
 ],
 "metadata": {
  "colab": {
   "provenance": []
  },
  "kernelspec": {
   "display_name": "Python 3 (ipykernel)",
   "language": "python",
   "name": "python3"
  },
  "language_info": {
   "codemirror_mode": {
    "name": "ipython",
    "version": 3
   },
   "file_extension": ".py",
   "mimetype": "text/x-python",
   "name": "python",
   "nbconvert_exporter": "python",
   "pygments_lexer": "ipython3",
   "version": "3.10.5"
  }
 },
 "nbformat": 4,
 "nbformat_minor": 5
}

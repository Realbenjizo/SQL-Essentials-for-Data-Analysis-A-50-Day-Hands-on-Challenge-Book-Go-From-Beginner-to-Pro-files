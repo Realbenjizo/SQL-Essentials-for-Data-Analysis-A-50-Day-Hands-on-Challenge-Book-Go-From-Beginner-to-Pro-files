{
 "cells": [
  {
   "cell_type": "markdown",
   "id": "vSwCU91B9BHP",
   "metadata": {
    "id": "vSwCU91B9BHP"
   },
   "source": [
    "## Question 1. Answer"
   ]
  },
  {
   "cell_type": "code",
   "execution_count": 1,
   "id": "76211e91",
   "metadata": {
    "executionInfo": {
     "elapsed": 21,
     "status": "ok",
     "timestamp": 1752849387455,
     "user": {
      "displayName": "Benjamin Bennett Alexander",
      "userId": "14614847693800833280"
     },
     "user_tz": -180
    },
    "id": "76211e91"
   },
   "outputs": [],
   "source": [
    "import sqlite3\n",
    "import csv"
   ]
  },
  {
   "cell_type": "code",
   "execution_count": null,
   "id": "1bb58793",
   "metadata": {
    "colab": {
     "base_uri": "https://localhost:8080/"
    },
    "executionInfo": {
     "elapsed": 1427,
     "status": "ok",
     "timestamp": 1752849388945,
     "user": {
      "displayName": "Benjamin Bennett Alexander",
      "userId": "14614847693800833280"
     },
     "user_tz": -180
    },
    "id": "1bb58793",
    "outputId": "cf75528c-0204-4dec-b242-efc141228ad4"
   },
   "outputs": [
    {
     "name": "stdout",
     "output_type": "stream",
     "text": [
      "Data loaded successfully\n"
     ]
    }
   ],
   "source": [
    "def famous_writers_data(data):\n",
    "    try:\n",
    "        # Connecting to database\n",
    "        conn = sqlite3.connect('famous_writers.db')\n",
    "        cursor = conn.cursor()\n",
    "        # Creating table\n",
    "        cursor.execute(\"\"\"\n",
    "        CREATE TABLE IF NOT EXISTS writers (\n",
    "            writer_id PRIMARY KEY,\n",
    "            name TEXT,\n",
    "            birth_year INT,\n",
    "            nationality TEXT,\n",
    "            notable_work TEXT)\n",
    "            \"\"\"\n",
    "        )\n",
    "        with open(data, \"r\") as csv_file:\n",
    "            csv_reader = csv.reader(csv_file)\n",
    "            # skip headers\n",
    "            next(csv_reader)\n",
    "            for row in csv_reader:\n",
    "                cursor.execute(\"INSERT INTO writers VALUES (?, ?, ?, ?, ?)\", row)\n",
    "        conn.commit()\n",
    "        print(\"Data loaded successfully\")\n",
    "    except Exception as e:\n",
    "        print(f\"Error: {e}\")\n",
    "    finally:\n",
    "        conn.close()\n",
    "\n",
    "# Loading data\n",
    "data = \"/content/famous_writers.csv\"\n",
    "famous_writers_data(data)"
   ]
  },
  {
   "cell_type": "code",
   "execution_count": 3,
   "id": "2UkDBBRLwHGe",
   "metadata": {
    "executionInfo": {
     "elapsed": 1145,
     "status": "ok",
     "timestamp": 1752849390087,
     "user": {
      "displayName": "Benjamin Bennett Alexander",
      "userId": "14614847693800833280"
     },
     "user_tz": -180
    },
    "id": "2UkDBBRLwHGe"
   },
   "outputs": [],
   "source": [
    "# Loading Magic Extension\n",
    "%load_ext sql"
   ]
  },
  {
   "cell_type": "code",
   "execution_count": 4,
   "id": "9a92458c",
   "metadata": {
    "executionInfo": {
     "elapsed": 67,
     "status": "ok",
     "timestamp": 1752849390143,
     "user": {
      "displayName": "Benjamin Bennett Alexander",
      "userId": "14614847693800833280"
     },
     "user_tz": -180
    },
    "id": "9a92458c"
   },
   "outputs": [],
   "source": [
    "# Using the extension to connect to database\n",
    "%sql sqlite:///famous_writers.db"
   ]
  },
  {
   "cell_type": "code",
   "execution_count": 5,
   "id": "v-1XdTthZwrM",
   "metadata": {
    "executionInfo": {
     "elapsed": 5,
     "status": "ok",
     "timestamp": 1752849390154,
     "user": {
      "displayName": "Benjamin Bennett Alexander",
      "userId": "14614847693800833280"
     },
     "user_tz": -180
    },
    "id": "v-1XdTthZwrM"
   },
   "outputs": [],
   "source": [
    "%config SqlMagic.style = '_DEPRECATED_DEFAULT'"
   ]
  },
  {
   "cell_type": "code",
   "execution_count": 6,
   "id": "c213ad38",
   "metadata": {
    "colab": {
     "base_uri": "https://localhost:8080/",
     "height": 177
    },
    "executionInfo": {
     "elapsed": 89,
     "status": "ok",
     "timestamp": 1752849390247,
     "user": {
      "displayName": "Benjamin Bennett Alexander",
      "userId": "14614847693800833280"
     },
     "user_tz": -180
    },
    "id": "c213ad38",
    "outputId": "7f72ae45-2e6b-4b78-8adb-576e9ccd3553"
   },
   "outputs": [
    {
     "name": "stdout",
     "output_type": "stream",
     "text": [
      " * sqlite:///famous_writers.db\n",
      "Done.\n"
     ]
    },
    {
     "data": {
      "text/html": [
       "<table>\n",
       "    <thead>\n",
       "        <tr>\n",
       "            <th>writer_id</th>\n",
       "            <th>name</th>\n",
       "            <th>birth_year</th>\n",
       "            <th>nationality</th>\n",
       "            <th>notable_work</th>\n",
       "        </tr>\n",
       "    </thead>\n",
       "    <tbody>\n",
       "        <tr>\n",
       "            <td>1</td>\n",
       "            <td>Leo Tolstoy</td>\n",
       "            <td>1828</td>\n",
       "            <td>Russian</td>\n",
       "            <td>&nbsp;&nbsp;War and Peace</td>\n",
       "        </tr>\n",
       "        <tr>\n",
       "            <td>2</td>\n",
       "            <td>Charles Dickens</td>\n",
       "            <td>1812</td>\n",
       "            <td>English</td>\n",
       "            <td>&nbsp;&nbsp;Great Expectations</td>\n",
       "        </tr>\n",
       "        <tr>\n",
       "            <td>3</td>\n",
       "            <td>Fyodor Dostoevsky</td>\n",
       "            <td>1821</td>\n",
       "            <td>Russian</td>\n",
       "            <td>&nbsp;&nbsp;Crime and Punishment</td>\n",
       "        </tr>\n",
       "        <tr>\n",
       "            <td>4</td>\n",
       "            <td>Mark Twain</td>\n",
       "            <td>1835</td>\n",
       "            <td>American</td>\n",
       "            <td>Adventures of Huckleberry Finn</td>\n",
       "        </tr>\n",
       "        <tr>\n",
       "            <td>5</td>\n",
       "            <td>Jane Austen</td>\n",
       "            <td>1775</td>\n",
       "            <td>English</td>\n",
       "            <td>Pride and Prejudice</td>\n",
       "        </tr>\n",
       "    </tbody>\n",
       "</table>"
      ],
      "text/plain": [
       "[('1', 'Leo Tolstoy', 1828, 'Russian', '  War and Peace'),\n",
       " ('2', 'Charles Dickens', 1812, 'English', '  Great Expectations'),\n",
       " ('3', 'Fyodor Dostoevsky', 1821, 'Russian', '  Crime and Punishment'),\n",
       " ('4', 'Mark Twain', 1835, 'American', 'Adventures of Huckleberry Finn'),\n",
       " ('5', 'Jane Austen', 1775, 'English', 'Pride and Prejudice')]"
      ]
     },
     "execution_count": 6,
     "metadata": {},
     "output_type": "execute_result"
    }
   ],
   "source": [
    "%%sql\n",
    "SELECT * FROM writers LIMIT 5;"
   ]
  },
  {
   "cell_type": "markdown",
   "id": "82a4fe4b",
   "metadata": {
    "id": "82a4fe4b"
   },
   "source": [
    "## Question 2. Answer (Part A)"
   ]
  },
  {
   "cell_type": "code",
   "execution_count": 7,
   "id": "5b7acefd",
   "metadata": {
    "colab": {
     "base_uri": "https://localhost:8080/",
     "height": 177
    },
    "executionInfo": {
     "elapsed": 62,
     "status": "ok",
     "timestamp": 1752849390317,
     "user": {
      "displayName": "Benjamin Bennett Alexander",
      "userId": "14614847693800833280"
     },
     "user_tz": -180
    },
    "id": "5b7acefd",
    "outputId": "8fdd30c8-81f8-42ae-e892-3d58287c140e"
   },
   "outputs": [
    {
     "name": "stdout",
     "output_type": "stream",
     "text": [
      " * sqlite:///famous_writers.db\n",
      "Done.\n"
     ]
    },
    {
     "data": {
      "text/html": [
       "<table>\n",
       "    <thead>\n",
       "        <tr>\n",
       "            <th>writer_id</th>\n",
       "            <th>notable_work</th>\n",
       "            <th>whitespace_status</th>\n",
       "        </tr>\n",
       "    </thead>\n",
       "    <tbody>\n",
       "        <tr>\n",
       "            <td>1</td>\n",
       "            <td>&nbsp;&nbsp;War and Peace</td>\n",
       "            <td>leading or trailing whitespace found</td>\n",
       "        </tr>\n",
       "        <tr>\n",
       "            <td>2</td>\n",
       "            <td>&nbsp;&nbsp;Great Expectations</td>\n",
       "            <td>leading or trailing whitespace found</td>\n",
       "        </tr>\n",
       "        <tr>\n",
       "            <td>3</td>\n",
       "            <td>&nbsp;&nbsp;Crime and Punishment</td>\n",
       "            <td>leading or trailing whitespace found</td>\n",
       "        </tr>\n",
       "        <tr>\n",
       "            <td>9</td>\n",
       "            <td>&nbsp;&nbsp;The Metamorphosis</td>\n",
       "            <td>leading or trailing whitespace found</td>\n",
       "        </tr>\n",
       "        <tr>\n",
       "            <td>10</td>\n",
       "            <td>&nbsp;&nbsp;The Old Man and the Sea</td>\n",
       "            <td>leading or trailing whitespace found</td>\n",
       "        </tr>\n",
       "    </tbody>\n",
       "</table>"
      ],
      "text/plain": [
       "[('1', '  War and Peace', 'leading or trailing whitespace found'),\n",
       " ('2', '  Great Expectations', 'leading or trailing whitespace found'),\n",
       " ('3', '  Crime and Punishment', 'leading or trailing whitespace found'),\n",
       " ('9', '  The Metamorphosis', 'leading or trailing whitespace found'),\n",
       " ('10', '  The Old Man and the Sea', 'leading or trailing whitespace found')]"
      ]
     },
     "execution_count": 7,
     "metadata": {},
     "output_type": "execute_result"
    }
   ],
   "source": [
    "%%sql\n",
    "SELECT\n",
    "    writer_id,\n",
    "    notable_work,\n",
    "    CASE\n",
    "        WHEN notable_work <> TRIM(notable_work) THEN\n",
    "        'leading or trailing whitespace found'\n",
    "        ELSE 'NO leading or trailing whitespace found'\n",
    "    END AS whitespace_status\n",
    "FROM writers\n",
    "WHERE whitespace_status LIKE 'leading or trailing whitespace found'\n",
    "LIMIT 5;"
   ]
  },
  {
   "cell_type": "markdown",
   "id": "FZUb3qZW-icP",
   "metadata": {
    "id": "FZUb3qZW-icP"
   },
   "source": [
    "## Part B. Answer"
   ]
  },
  {
   "cell_type": "code",
   "execution_count": 8,
   "id": "78726943",
   "metadata": {
    "colab": {
     "base_uri": "https://localhost:8080/",
     "height": 94
    },
    "executionInfo": {
     "elapsed": 35,
     "status": "ok",
     "timestamp": 1752849390357,
     "user": {
      "displayName": "Benjamin Bennett Alexander",
      "userId": "14614847693800833280"
     },
     "user_tz": -180
    },
    "id": "78726943",
    "outputId": "eeb70b6f-5986-485d-9354-26168559b7e7"
   },
   "outputs": [
    {
     "name": "stdout",
     "output_type": "stream",
     "text": [
      " * sqlite:///famous_writers.db\n",
      "Done.\n"
     ]
    },
    {
     "data": {
      "text/html": [
       "<table>\n",
       "    <thead>\n",
       "        <tr>\n",
       "            <th>rows_count_with_whitespace</th>\n",
       "        </tr>\n",
       "    </thead>\n",
       "    <tbody>\n",
       "        <tr>\n",
       "            <td>28</td>\n",
       "        </tr>\n",
       "    </tbody>\n",
       "</table>"
      ],
      "text/plain": [
       "[(28,)]"
      ]
     },
     "execution_count": 8,
     "metadata": {},
     "output_type": "execute_result"
    }
   ],
   "source": [
    "%%sql\n",
    "SELECT\n",
    "    COUNT(*) AS rows_count_with_whitespace\n",
    "FROM writers\n",
    "WHERE notable_work <> TRIM(notable_work);"
   ]
  },
  {
   "cell_type": "markdown",
   "id": "I2HLHhFb-xYH",
   "metadata": {
    "id": "I2HLHhFb-xYH"
   },
   "source": [
    "## Part C. Answer"
   ]
  },
  {
   "cell_type": "code",
   "execution_count": 9,
   "id": "4c017a59",
   "metadata": {
    "colab": {
     "base_uri": "https://localhost:8080/"
    },
    "executionInfo": {
     "elapsed": 9,
     "status": "ok",
     "timestamp": 1752849390370,
     "user": {
      "displayName": "Benjamin Bennett Alexander",
      "userId": "14614847693800833280"
     },
     "user_tz": -180
    },
    "id": "4c017a59",
    "outputId": "28b45291-1c59-4517-fc92-7ab278859ff9"
   },
   "outputs": [
    {
     "name": "stdout",
     "output_type": "stream",
     "text": [
      " * sqlite:///famous_writers.db\n",
      "28 rows affected.\n"
     ]
    },
    {
     "data": {
      "text/plain": [
       "[]"
      ]
     },
     "execution_count": 9,
     "metadata": {},
     "output_type": "execute_result"
    }
   ],
   "source": [
    "%%sql\n",
    "UPDATE writers\n",
    "SET notable_work = TRIM(notable_work)\n",
    "WHERE notable_work <> TRIM(notable_work);"
   ]
  },
  {
   "cell_type": "code",
   "execution_count": 10,
   "id": "1d288c5e",
   "metadata": {
    "colab": {
     "base_uri": "https://localhost:8080/",
     "height": 94
    },
    "executionInfo": {
     "elapsed": 14,
     "status": "ok",
     "timestamp": 1752849390386,
     "user": {
      "displayName": "Benjamin Bennett Alexander",
      "userId": "14614847693800833280"
     },
     "user_tz": -180
    },
    "id": "1d288c5e",
    "outputId": "7f69cd9f-5b59-402a-f88b-dec0f47dda3e"
   },
   "outputs": [
    {
     "name": "stdout",
     "output_type": "stream",
     "text": [
      " * sqlite:///famous_writers.db\n",
      "Done.\n"
     ]
    },
    {
     "data": {
      "text/html": [
       "<table>\n",
       "    <thead>\n",
       "        <tr>\n",
       "            <th>count_with_whitespace</th>\n",
       "        </tr>\n",
       "    </thead>\n",
       "    <tbody>\n",
       "        <tr>\n",
       "            <td>0</td>\n",
       "        </tr>\n",
       "    </tbody>\n",
       "</table>"
      ],
      "text/plain": [
       "[(0,)]"
      ]
     },
     "execution_count": 10,
     "metadata": {},
     "output_type": "execute_result"
    }
   ],
   "source": [
    "%%sql\n",
    "SELECT\n",
    "    COUNT(*) AS count_with_whitespace\n",
    "FROM writers\n",
    "WHERE notable_work <> TRIM(notable_work);"
   ]
  },
  {
   "cell_type": "markdown",
   "id": "a253d3c1",
   "metadata": {
    "id": "a253d3c1"
   },
   "source": [
    "## Question 3. Answer"
   ]
  },
  {
   "cell_type": "code",
   "execution_count": 11,
   "id": "72e39f6b",
   "metadata": {
    "colab": {
     "base_uri": "https://localhost:8080/",
     "height": 136
    },
    "executionInfo": {
     "elapsed": 87,
     "status": "ok",
     "timestamp": 1752849390479,
     "user": {
      "displayName": "Benjamin Bennett Alexander",
      "userId": "14614847693800833280"
     },
     "user_tz": -180
    },
    "id": "72e39f6b",
    "outputId": "e5717394-998e-49dd-b623-85f051328727"
   },
   "outputs": [
    {
     "name": "stdout",
     "output_type": "stream",
     "text": [
      " * sqlite:///famous_writers.db\n",
      "Done.\n"
     ]
    },
    {
     "data": {
      "text/html": [
       "<table>\n",
       "    <thead>\n",
       "        <tr>\n",
       "            <th>notable_work</th>\n",
       "            <th>notable_work_length</th>\n",
       "        </tr>\n",
       "    </thead>\n",
       "    <tbody>\n",
       "        <tr>\n",
       "            <td>Strange Case of Dr Jekyll and Mr Hyde</td>\n",
       "            <td>37</td>\n",
       "        </tr>\n",
       "        <tr>\n",
       "            <td>Adventures of Huckleberry Finn</td>\n",
       "            <td>30</td>\n",
       "        </tr>\n",
       "        <tr>\n",
       "            <td>One Hundred Years of Solitude</td>\n",
       "            <td>29</td>\n",
       "        </tr>\n",
       "    </tbody>\n",
       "</table>"
      ],
      "text/plain": [
       "[('Strange Case of Dr Jekyll and Mr Hyde', 37),\n",
       " ('Adventures of Huckleberry Finn', 30),\n",
       " ('One Hundred Years of Solitude', 29)]"
      ]
     },
     "execution_count": 11,
     "metadata": {},
     "output_type": "execute_result"
    }
   ],
   "source": [
    "%%sql\n",
    "SELECT\n",
    "    notable_work,\n",
    "    LENGTH(notable_work) AS notable_work_length\n",
    "FROM writers\n",
    "ORDER BY notable_work_length DESC\n",
    "LIMIT 3;"
   ]
  },
  {
   "cell_type": "markdown",
   "id": "a7359d85",
   "metadata": {
    "id": "a7359d85"
   },
   "source": [
    "## Question 4. Answer"
   ]
  },
  {
   "cell_type": "code",
   "execution_count": 12,
   "id": "68c0cac7",
   "metadata": {
    "colab": {
     "base_uri": "https://localhost:8080/",
     "height": 94
    },
    "executionInfo": {
     "elapsed": 82,
     "status": "ok",
     "timestamp": 1752849390488,
     "user": {
      "displayName": "Benjamin Bennett Alexander",
      "userId": "14614847693800833280"
     },
     "user_tz": -180
    },
    "id": "68c0cac7",
    "outputId": "022025b1-0b4b-4b1a-e93c-96eb5bb0f5ec"
   },
   "outputs": [
    {
     "name": "stdout",
     "output_type": "stream",
     "text": [
      " * sqlite:///famous_writers.db\n",
      "Done.\n"
     ]
    },
    {
     "data": {
      "text/html": [
       "<table>\n",
       "    <thead>\n",
       "        <tr>\n",
       "            <th>notable_work</th>\n",
       "            <th>index_of_letter_a</th>\n",
       "        </tr>\n",
       "    </thead>\n",
       "    <tbody>\n",
       "        <tr>\n",
       "            <td>The Picture of Dorian Gray</td>\n",
       "            <td>&nbsp;&nbsp;&nbsp;&nbsp;&nbsp;&nbsp;&nbsp;&nbsp;&nbsp;&nbsp;&nbsp;&nbsp;&nbsp;&nbsp;&nbsp;&nbsp;&nbsp;&nbsp;20</td>\n",
       "        </tr>\n",
       "    </tbody>\n",
       "</table>"
      ],
      "text/plain": [
       "[('The Picture of Dorian Gray', '                  20')]"
      ]
     },
     "execution_count": 12,
     "metadata": {},
     "output_type": "execute_result"
    }
   ],
   "source": [
    "%%sql\n",
    "SELECT\n",
    "    notable_work,\n",
    "    printf(\"%20s\", INSTR(notable_work, \"a\")) AS\n",
    "    index_of_letter_a\n",
    "FROM writers\n",
    "ORDER BY index_of_letter_a DESC LIMIT 1;"
   ]
  },
  {
   "cell_type": "markdown",
   "id": "1e3bbde4",
   "metadata": {
    "id": "1e3bbde4"
   },
   "source": [
    "## Question 5. Answer"
   ]
  },
  {
   "cell_type": "code",
   "execution_count": 13,
   "id": "9cffd4a9",
   "metadata": {
    "colab": {
     "base_uri": "https://localhost:8080/",
     "height": 177
    },
    "executionInfo": {
     "elapsed": 15,
     "status": "ok",
     "timestamp": 1752849390500,
     "user": {
      "displayName": "Benjamin Bennett Alexander",
      "userId": "14614847693800833280"
     },
     "user_tz": -180
    },
    "id": "9cffd4a9",
    "outputId": "b576ec2c-7b13-4a91-bacd-1f992dea63a2"
   },
   "outputs": [
    {
     "name": "stdout",
     "output_type": "stream",
     "text": [
      " * sqlite:///famous_writers.db\n",
      "Done.\n"
     ]
    },
    {
     "data": {
      "text/html": [
       "<table>\n",
       "    <thead>\n",
       "        <tr>\n",
       "            <th>name_with_nationality</th>\n",
       "        </tr>\n",
       "    </thead>\n",
       "    <tbody>\n",
       "        <tr>\n",
       "            <td>Leo Tolstoy, Russian</td>\n",
       "        </tr>\n",
       "        <tr>\n",
       "            <td>Charles Dickens, English</td>\n",
       "        </tr>\n",
       "        <tr>\n",
       "            <td>Fyodor Dostoevsky, Russian</td>\n",
       "        </tr>\n",
       "        <tr>\n",
       "            <td>Mark Twain, American</td>\n",
       "        </tr>\n",
       "        <tr>\n",
       "            <td>Jane Austen, English</td>\n",
       "        </tr>\n",
       "    </tbody>\n",
       "</table>"
      ],
      "text/plain": [
       "[('Leo Tolstoy, Russian',),\n",
       " ('Charles Dickens, English',),\n",
       " ('Fyodor Dostoevsky, Russian',),\n",
       " ('Mark Twain, American',),\n",
       " ('Jane Austen, English',)]"
      ]
     },
     "execution_count": 13,
     "metadata": {},
     "output_type": "execute_result"
    }
   ],
   "source": [
    "%%sql\n",
    "SELECT\n",
    "    name || ', ' || nationality AS name_with_nationality\n",
    "FROM writers\n",
    "LIMIT 5;"
   ]
  },
  {
   "cell_type": "markdown",
   "id": "f85460a1",
   "metadata": {
    "id": "f85460a1"
   },
   "source": [
    "##  Question 6. Answer"
   ]
  },
  {
   "cell_type": "code",
   "execution_count": 14,
   "id": "jCx89PlvknIc",
   "metadata": {
    "colab": {
     "base_uri": "https://localhost:8080/",
     "height": 177
    },
    "executionInfo": {
     "elapsed": 11,
     "status": "ok",
     "timestamp": 1752849390530,
     "user": {
      "displayName": "Benjamin Bennett Alexander",
      "userId": "14614847693800833280"
     },
     "user_tz": -180
    },
    "id": "jCx89PlvknIc",
    "outputId": "4968e42c-5cf0-449f-fb1b-9aebc9a97374"
   },
   "outputs": [
    {
     "name": "stdout",
     "output_type": "stream",
     "text": [
      " * sqlite:///famous_writers.db\n",
      "Done.\n"
     ]
    },
    {
     "data": {
      "text/html": [
       "<table>\n",
       "    <thead>\n",
       "        <tr>\n",
       "            <th>notable_work_last_five_letters</th>\n",
       "        </tr>\n",
       "    </thead>\n",
       "    <tbody>\n",
       "        <tr>\n",
       "            <td>Peace</td>\n",
       "        </tr>\n",
       "        <tr>\n",
       "            <td>tions</td>\n",
       "        </tr>\n",
       "        <tr>\n",
       "            <td>hment</td>\n",
       "        </tr>\n",
       "        <tr>\n",
       "            <td> Finn</td>\n",
       "        </tr>\n",
       "        <tr>\n",
       "            <td>udice</td>\n",
       "        </tr>\n",
       "    </tbody>\n",
       "</table>"
      ],
      "text/plain": [
       "[('Peace',), ('tions',), ('hment',), (' Finn',), ('udice',)]"
      ]
     },
     "execution_count": 14,
     "metadata": {},
     "output_type": "execute_result"
    }
   ],
   "source": [
    "%%sql\n",
    "SELECT\n",
    "    SUBSTR(notable_work, -5) AS notable_work_last_five_letters\n",
    "FROM writers\n",
    "LIMIT 5;"
   ]
  },
  {
   "cell_type": "code",
   "execution_count": 15,
   "id": "c1082098",
   "metadata": {
    "executionInfo": {
     "elapsed": 3,
     "status": "ok",
     "timestamp": 1752849390538,
     "user": {
      "displayName": "Benjamin Bennett Alexander",
      "userId": "14614847693800833280"
     },
     "user_tz": -180
    },
    "id": "c1082098"
   },
   "outputs": [],
   "source": [
    "# %%sql\n",
    "# DROP TABLE writers;"
   ]
  }
 ],
 "metadata": {
  "colab": {
   "provenance": []
  },
  "kernelspec": {
   "display_name": "Python 3 (ipykernel)",
   "language": "python",
   "name": "python3"
  },
  "language_info": {
   "codemirror_mode": {
    "name": "ipython",
    "version": 3
   },
   "file_extension": ".py",
   "mimetype": "text/x-python",
   "name": "python",
   "nbconvert_exporter": "python",
   "pygments_lexer": "ipython3",
   "version": "3.10.5"
  }
 },
 "nbformat": 4,
 "nbformat_minor": 5
}

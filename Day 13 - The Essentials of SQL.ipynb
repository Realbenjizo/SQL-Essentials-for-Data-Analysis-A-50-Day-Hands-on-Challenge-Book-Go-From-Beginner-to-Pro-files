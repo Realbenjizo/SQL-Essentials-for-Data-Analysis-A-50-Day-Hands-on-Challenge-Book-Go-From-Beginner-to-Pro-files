{
 "cells": [
  {
   "cell_type": "markdown",
   "id": "qa1QzYBKzMB7",
   "metadata": {
    "id": "qa1QzYBKzMB7"
   },
   "source": [
    "## 1. Question 1: **Answer**"
   ]
  },
  {
   "cell_type": "code",
   "execution_count": 1,
   "id": "928ce9ac",
   "metadata": {
    "executionInfo": {
     "elapsed": 12,
     "status": "ok",
     "timestamp": 1752849972647,
     "user": {
      "displayName": "Benjamin Bennett Alexander",
      "userId": "14614847693800833280"
     },
     "user_tz": -180
    },
    "id": "928ce9ac"
   },
   "outputs": [],
   "source": [
    "import sqlite3\n",
    "import csv"
   ]
  },
  {
   "cell_type": "code",
   "execution_count": null,
   "id": "aefa2dce",
   "metadata": {
    "colab": {
     "base_uri": "https://localhost:8080/"
    },
    "executionInfo": {
     "elapsed": 2639,
     "status": "ok",
     "timestamp": 1752849975307,
     "user": {
      "displayName": "Benjamin Bennett Alexander",
      "userId": "14614847693800833280"
     },
     "user_tz": -180
    },
    "id": "aefa2dce",
    "outputId": "0c609d33-e89b-462c-d076-50fdf37b1d18"
   },
   "outputs": [
    {
     "name": "stdout",
     "output_type": "stream",
     "text": [
      "Data loaded succesfully\n"
     ]
    }
   ],
   "source": [
    "def load_student_data(data):\n",
    "    try:\n",
    "        conn = sqlite3.connect(\"student_grades_data.db\")\n",
    "        cursor = conn.cursor()\n",
    "\n",
    "        cursor.execute(\"\"\"\n",
    "        CREATE TABLE IF NOT EXISTS grades (\n",
    "            Student_id PRIMARY KEY,\n",
    "            subject TEXT,\n",
    "            score INTEGER)\n",
    "            \"\"\"\n",
    "        )\n",
    "        with open(data, \"r\") as csv_file:\n",
    "            csv_reader = csv.reader(csv_file)\n",
    "            next(csv_reader)\n",
    "            for row in csv_reader:\n",
    "                cursor.execute(\"INSERT INTO grades VALUES (?, ?, ?)\", row)\n",
    "        conn.commit()\n",
    "        print(\"Data loaded succesfully\")\n",
    "    except sqlite3.Error as e:\n",
    "        print(f\"Error: {e}\")\n",
    "    finally:\n",
    "        conn.close()\n",
    "\n",
    "# Loading data\n",
    "data = \"/content/student_grades.csv\"\n",
    "load_student_data(data)"
   ]
  },
  {
   "cell_type": "code",
   "execution_count": 3,
   "id": "9a66173a",
   "metadata": {
    "executionInfo": {
     "elapsed": 1124,
     "status": "ok",
     "timestamp": 1752849976441,
     "user": {
      "displayName": "Benjamin Bennett Alexander",
      "userId": "14614847693800833280"
     },
     "user_tz": -180
    },
    "id": "9a66173a"
   },
   "outputs": [],
   "source": [
    "# Loading the extension\n",
    "%load_ext sql"
   ]
  },
  {
   "cell_type": "code",
   "execution_count": 4,
   "id": "cc1c364d",
   "metadata": {
    "executionInfo": {
     "elapsed": 33,
     "status": "ok",
     "timestamp": 1752849976478,
     "user": {
      "displayName": "Benjamin Bennett Alexander",
      "userId": "14614847693800833280"
     },
     "user_tz": -180
    },
    "id": "cc1c364d"
   },
   "outputs": [],
   "source": [
    "# Using the extension to connect to database\n",
    "%sql sqlite:///student_grades_data.db"
   ]
  },
  {
   "cell_type": "code",
   "execution_count": 5,
   "id": "8S0ty8N6laGX",
   "metadata": {
    "executionInfo": {
     "elapsed": 3,
     "status": "ok",
     "timestamp": 1752849976495,
     "user": {
      "displayName": "Benjamin Bennett Alexander",
      "userId": "14614847693800833280"
     },
     "user_tz": -180
    },
    "id": "8S0ty8N6laGX"
   },
   "outputs": [],
   "source": [
    "# Default to duplicated style\n",
    "%config SqlMagic.style = '_DEPRECATED_DEFAULT'"
   ]
  },
  {
   "cell_type": "code",
   "execution_count": 6,
   "id": "0825ee67",
   "metadata": {
    "colab": {
     "base_uri": "https://localhost:8080/",
     "height": 281
    },
    "executionInfo": {
     "elapsed": 120,
     "status": "ok",
     "timestamp": 1752849976629,
     "user": {
      "displayName": "Benjamin Bennett Alexander",
      "userId": "14614847693800833280"
     },
     "user_tz": -180
    },
    "id": "0825ee67",
    "outputId": "a2e2d43c-8803-402a-97e7-82875ec239bd"
   },
   "outputs": [
    {
     "name": "stdout",
     "output_type": "stream",
     "text": [
      " * sqlite:///student_grades_data.db\n",
      "Done.\n"
     ]
    },
    {
     "data": {
      "text/html": [
       "<table>\n",
       "    <thead>\n",
       "        <tr>\n",
       "            <th>Student_id</th>\n",
       "            <th>subject</th>\n",
       "            <th>score</th>\n",
       "        </tr>\n",
       "    </thead>\n",
       "    <tbody>\n",
       "        <tr>\n",
       "            <td>1</td>\n",
       "            <td>Math</td>\n",
       "            <td>85</td>\n",
       "        </tr>\n",
       "        <tr>\n",
       "            <td>2</td>\n",
       "            <td>Science</td>\n",
       "            <td>92</td>\n",
       "        </tr>\n",
       "        <tr>\n",
       "            <td>3</td>\n",
       "            <td>English</td>\n",
       "            <td>78</td>\n",
       "        </tr>\n",
       "        <tr>\n",
       "            <td>4</td>\n",
       "            <td>History</td>\n",
       "            <td>65</td>\n",
       "        </tr>\n",
       "        <tr>\n",
       "            <td>5</td>\n",
       "            <td>Math</td>\n",
       "            <td>98</td>\n",
       "        </tr>\n",
       "        <tr>\n",
       "            <td>6</td>\n",
       "            <td>Science</td>\n",
       "            <td>80</td>\n",
       "        </tr>\n",
       "        <tr>\n",
       "            <td>7</td>\n",
       "            <td>English</td>\n",
       "            <td>90</td>\n",
       "        </tr>\n",
       "        <tr>\n",
       "            <td>8</td>\n",
       "            <td>History</td>\n",
       "            <td>60</td>\n",
       "        </tr>\n",
       "        <tr>\n",
       "            <td>9</td>\n",
       "            <td>Math</td>\n",
       "            <td>68</td>\n",
       "        </tr>\n",
       "        <tr>\n",
       "            <td>10</td>\n",
       "            <td>Science</td>\n",
       "            <td>55</td>\n",
       "        </tr>\n",
       "    </tbody>\n",
       "</table>"
      ],
      "text/plain": [
       "[('1', 'Math', 85),\n",
       " ('2', 'Science', 92),\n",
       " ('3', 'English', 78),\n",
       " ('4', 'History', 65),\n",
       " ('5', 'Math', 98),\n",
       " ('6', 'Science', 80),\n",
       " ('7', 'English', 90),\n",
       " ('8', 'History', 60),\n",
       " ('9', 'Math', 68),\n",
       " ('10', 'Science', 55)]"
      ]
     },
     "execution_count": 6,
     "metadata": {},
     "output_type": "execute_result"
    }
   ],
   "source": [
    "%%sql\n",
    "SELECT * FROM grades;"
   ]
  },
  {
   "cell_type": "markdown",
   "id": "7c0fa05d",
   "metadata": {
    "id": "7c0fa05d"
   },
   "source": [
    "## Question 2: **Answer**"
   ]
  },
  {
   "cell_type": "code",
   "execution_count": 7,
   "id": "dbc87cd0",
   "metadata": {
    "colab": {
     "base_uri": "https://localhost:8080/"
    },
    "executionInfo": {
     "elapsed": 9,
     "status": "ok",
     "timestamp": 1752849976643,
     "user": {
      "displayName": "Benjamin Bennett Alexander",
      "userId": "14614847693800833280"
     },
     "user_tz": -180
    },
    "id": "dbc87cd0",
    "outputId": "94edb935-a6cc-45ba-dd41-c1c84f0ef608"
   },
   "outputs": [
    {
     "name": "stdout",
     "output_type": "stream",
     "text": [
      " * sqlite:///student_grades_data.db\n",
      "Done.\n"
     ]
    },
    {
     "data": {
      "text/plain": [
       "[]"
      ]
     },
     "execution_count": 7,
     "metadata": {},
     "output_type": "execute_result"
    }
   ],
   "source": [
    "%%sql\n",
    "-- Step 1: Adding a scored_grading column\n",
    "ALTER TABLE grades\n",
    "ADD COLUMN score_grading TEXT;"
   ]
  },
  {
   "cell_type": "code",
   "execution_count": 8,
   "id": "acd99c74",
   "metadata": {
    "colab": {
     "base_uri": "https://localhost:8080/"
    },
    "executionInfo": {
     "elapsed": 203,
     "status": "ok",
     "timestamp": 1752849976849,
     "user": {
      "displayName": "Benjamin Bennett Alexander",
      "userId": "14614847693800833280"
     },
     "user_tz": -180
    },
    "id": "acd99c74",
    "outputId": "2f47f175-7954-4496-8724-a7e6774b8dc7"
   },
   "outputs": [
    {
     "name": "stdout",
     "output_type": "stream",
     "text": [
      " * sqlite:///student_grades_data.db\n",
      "10 rows affected.\n"
     ]
    },
    {
     "data": {
      "text/plain": [
       "[]"
      ]
     },
     "execution_count": 8,
     "metadata": {},
     "output_type": "execute_result"
    }
   ],
   "source": [
    "%%sql\n",
    "-- Step 2: Update the score_grading column based on the score\n",
    "UPDATE grades\n",
    "SET score_grading = CASE\n",
    "                        WHEN score >= 90 THEN 'A'\n",
    "                        WHEN score BETWEEN 80 AND 89 THEN 'B'\n",
    "                        WHEN score BETWEEN 70 AND 79 THEN 'C'\n",
    "                        WHEN score BETWEEN 60 AND 69 THEN 'D'\n",
    "                        ELSE 'F'\n",
    "                    END;"
   ]
  },
  {
   "cell_type": "code",
   "execution_count": 9,
   "id": "bdf65fcd",
   "metadata": {
    "colab": {
     "base_uri": "https://localhost:8080/",
     "height": 177
    },
    "executionInfo": {
     "elapsed": 18,
     "status": "ok",
     "timestamp": 1752849976871,
     "user": {
      "displayName": "Benjamin Bennett Alexander",
      "userId": "14614847693800833280"
     },
     "user_tz": -180
    },
    "id": "bdf65fcd",
    "outputId": "d926eedd-f411-4869-c23b-c3f3d3015a7f"
   },
   "outputs": [
    {
     "name": "stdout",
     "output_type": "stream",
     "text": [
      " * sqlite:///student_grades_data.db\n",
      "Done.\n"
     ]
    },
    {
     "data": {
      "text/html": [
       "<table>\n",
       "    <thead>\n",
       "        <tr>\n",
       "            <th>Student_id</th>\n",
       "            <th>subject</th>\n",
       "            <th>score</th>\n",
       "            <th>score_grading</th>\n",
       "        </tr>\n",
       "    </thead>\n",
       "    <tbody>\n",
       "        <tr>\n",
       "            <td>1</td>\n",
       "            <td>Math</td>\n",
       "            <td>85</td>\n",
       "            <td>B</td>\n",
       "        </tr>\n",
       "        <tr>\n",
       "            <td>2</td>\n",
       "            <td>Science</td>\n",
       "            <td>92</td>\n",
       "            <td>A</td>\n",
       "        </tr>\n",
       "        <tr>\n",
       "            <td>3</td>\n",
       "            <td>English</td>\n",
       "            <td>78</td>\n",
       "            <td>C</td>\n",
       "        </tr>\n",
       "        <tr>\n",
       "            <td>4</td>\n",
       "            <td>History</td>\n",
       "            <td>65</td>\n",
       "            <td>D</td>\n",
       "        </tr>\n",
       "        <tr>\n",
       "            <td>5</td>\n",
       "            <td>Math</td>\n",
       "            <td>98</td>\n",
       "            <td>A</td>\n",
       "        </tr>\n",
       "    </tbody>\n",
       "</table>"
      ],
      "text/plain": [
       "[('1', 'Math', 85, 'B'),\n",
       " ('2', 'Science', 92, 'A'),\n",
       " ('3', 'English', 78, 'C'),\n",
       " ('4', 'History', 65, 'D'),\n",
       " ('5', 'Math', 98, 'A')]"
      ]
     },
     "execution_count": 9,
     "metadata": {},
     "output_type": "execute_result"
    }
   ],
   "source": [
    "%%sql\n",
    "SELECT * FROM grades LIMIT 5;"
   ]
  },
  {
   "cell_type": "markdown",
   "id": "fe1eb411",
   "metadata": {
    "id": "fe1eb411"
   },
   "source": [
    "## Question 3: **Answer**"
   ]
  },
  {
   "cell_type": "code",
   "execution_count": 10,
   "id": "cb3f47bf",
   "metadata": {
    "colab": {
     "base_uri": "https://localhost:8080/"
    },
    "executionInfo": {
     "elapsed": 13,
     "status": "ok",
     "timestamp": 1752849976887,
     "user": {
      "displayName": "Benjamin Bennett Alexander",
      "userId": "14614847693800833280"
     },
     "user_tz": -180
    },
    "id": "cb3f47bf",
    "outputId": "04d5664e-924a-4242-b11b-3eedb0b6b0a6"
   },
   "outputs": [
    {
     "name": "stdout",
     "output_type": "stream",
     "text": [
      " * sqlite:///student_grades_data.db\n",
      "Done.\n"
     ]
    },
    {
     "data": {
      "text/plain": [
       "[]"
      ]
     },
     "execution_count": 10,
     "metadata": {},
     "output_type": "execute_result"
    }
   ],
   "source": [
    "%%sql\n",
    "-- Step 1: Adding a flags column\n",
    "ALTER TABLE grades\n",
    "ADD COLUMN flags TEXT;"
   ]
  },
  {
   "cell_type": "code",
   "execution_count": 11,
   "id": "3fbed9f5",
   "metadata": {
    "colab": {
     "base_uri": "https://localhost:8080/"
    },
    "executionInfo": {
     "elapsed": 103,
     "status": "ok",
     "timestamp": 1752849976993,
     "user": {
      "displayName": "Benjamin Bennett Alexander",
      "userId": "14614847693800833280"
     },
     "user_tz": -180
    },
    "id": "3fbed9f5",
    "outputId": "928be344-eacb-4252-bafe-65934ee10fee"
   },
   "outputs": [
    {
     "name": "stdout",
     "output_type": "stream",
     "text": [
      " * sqlite:///student_grades_data.db\n",
      "10 rows affected.\n"
     ]
    },
    {
     "data": {
      "text/plain": [
       "[]"
      ]
     },
     "execution_count": 11,
     "metadata": {},
     "output_type": "execute_result"
    }
   ],
   "source": [
    "%%sql\n",
    "-- Step 2: Update the flags column with values\n",
    "UPDATE grades\n",
    "SET flags =\n",
    "    CASE\n",
    "        WHEN score >= 75 THEN 'High performer'\n",
    "        ELSE 'Not high performer'\n",
    "    END;"
   ]
  },
  {
   "cell_type": "code",
   "execution_count": 12,
   "id": "2b43ecfa",
   "metadata": {
    "colab": {
     "base_uri": "https://localhost:8080/",
     "height": 177
    },
    "executionInfo": {
     "elapsed": 71,
     "status": "ok",
     "timestamp": 1752849977074,
     "user": {
      "displayName": "Benjamin Bennett Alexander",
      "userId": "14614847693800833280"
     },
     "user_tz": -180
    },
    "id": "2b43ecfa",
    "outputId": "d652c8a9-aab9-4a11-e7a5-3fd05a39cfc9"
   },
   "outputs": [
    {
     "name": "stdout",
     "output_type": "stream",
     "text": [
      " * sqlite:///student_grades_data.db\n",
      "Done.\n"
     ]
    },
    {
     "data": {
      "text/html": [
       "<table>\n",
       "    <thead>\n",
       "        <tr>\n",
       "            <th>Student_id</th>\n",
       "            <th>subject</th>\n",
       "            <th>score</th>\n",
       "            <th>score_grading</th>\n",
       "            <th>flags</th>\n",
       "        </tr>\n",
       "    </thead>\n",
       "    <tbody>\n",
       "        <tr>\n",
       "            <td>1</td>\n",
       "            <td>Math</td>\n",
       "            <td>85</td>\n",
       "            <td>B</td>\n",
       "            <td>High performer</td>\n",
       "        </tr>\n",
       "        <tr>\n",
       "            <td>2</td>\n",
       "            <td>Science</td>\n",
       "            <td>92</td>\n",
       "            <td>A</td>\n",
       "            <td>High performer</td>\n",
       "        </tr>\n",
       "        <tr>\n",
       "            <td>3</td>\n",
       "            <td>English</td>\n",
       "            <td>78</td>\n",
       "            <td>C</td>\n",
       "            <td>High performer</td>\n",
       "        </tr>\n",
       "        <tr>\n",
       "            <td>4</td>\n",
       "            <td>History</td>\n",
       "            <td>65</td>\n",
       "            <td>D</td>\n",
       "            <td>Not high performer</td>\n",
       "        </tr>\n",
       "        <tr>\n",
       "            <td>5</td>\n",
       "            <td>Math</td>\n",
       "            <td>98</td>\n",
       "            <td>A</td>\n",
       "            <td>High performer</td>\n",
       "        </tr>\n",
       "    </tbody>\n",
       "</table>"
      ],
      "text/plain": [
       "[('1', 'Math', 85, 'B', 'High performer'),\n",
       " ('2', 'Science', 92, 'A', 'High performer'),\n",
       " ('3', 'English', 78, 'C', 'High performer'),\n",
       " ('4', 'History', 65, 'D', 'Not high performer'),\n",
       " ('5', 'Math', 98, 'A', 'High performer')]"
      ]
     },
     "execution_count": 12,
     "metadata": {},
     "output_type": "execute_result"
    }
   ],
   "source": [
    "%%sql\n",
    "SELECT * FROM grades LIMIT 5;"
   ]
  },
  {
   "cell_type": "code",
   "execution_count": 13,
   "id": "0442c91d",
   "metadata": {
    "colab": {
     "base_uri": "https://localhost:8080/",
     "height": 94
    },
    "executionInfo": {
     "elapsed": 54,
     "status": "ok",
     "timestamp": 1752849977077,
     "user": {
      "displayName": "Benjamin Bennett Alexander",
      "userId": "14614847693800833280"
     },
     "user_tz": -180
    },
    "id": "0442c91d",
    "outputId": "5d379c08-26fd-4f42-bb03-d340a40708cc"
   },
   "outputs": [
    {
     "name": "stdout",
     "output_type": "stream",
     "text": [
      " * sqlite:///student_grades_data.db\n",
      "Done.\n"
     ]
    },
    {
     "data": {
      "text/html": [
       "<table>\n",
       "    <thead>\n",
       "        <tr>\n",
       "            <th>number_of_high_perfomers</th>\n",
       "        </tr>\n",
       "    </thead>\n",
       "    <tbody>\n",
       "        <tr>\n",
       "            <td>6</td>\n",
       "        </tr>\n",
       "    </tbody>\n",
       "</table>"
      ],
      "text/plain": [
       "[(6,)]"
      ]
     },
     "execution_count": 13,
     "metadata": {},
     "output_type": "execute_result"
    }
   ],
   "source": [
    "%%sql\n",
    "SELECT\n",
    "    COUNT(*) AS number_of_high_perfomers\n",
    "FROM grades\n",
    "WHERE flags = 'High performer';"
   ]
  },
  {
   "cell_type": "markdown",
   "id": "03671f4d",
   "metadata": {
    "id": "03671f4d"
   },
   "source": [
    "## Question 4: **Answer**"
   ]
  },
  {
   "cell_type": "code",
   "execution_count": 14,
   "id": "15e63235",
   "metadata": {
    "colab": {
     "base_uri": "https://localhost:8080/",
     "height": 94
    },
    "executionInfo": {
     "elapsed": 39,
     "status": "ok",
     "timestamp": 1752849977079,
     "user": {
      "displayName": "Benjamin Bennett Alexander",
      "userId": "14614847693800833280"
     },
     "user_tz": -180
    },
    "id": "15e63235",
    "outputId": "fc21cf7f-fdd0-4cdd-c6c5-b172aa0bd01c"
   },
   "outputs": [
    {
     "name": "stdout",
     "output_type": "stream",
     "text": [
      " * sqlite:///student_grades_data.db\n",
      "Done.\n"
     ]
    },
    {
     "data": {
      "text/html": [
       "<table>\n",
       "    <thead>\n",
       "        <tr>\n",
       "            <th>subject</th>\n",
       "            <th>average_math_score</th>\n",
       "        </tr>\n",
       "    </thead>\n",
       "    <tbody>\n",
       "        <tr>\n",
       "            <td>Math</td>\n",
       "            <td>91.5</td>\n",
       "        </tr>\n",
       "    </tbody>\n",
       "</table>"
      ],
      "text/plain": [
       "[('Math', 91.5)]"
      ]
     },
     "execution_count": 14,
     "metadata": {},
     "output_type": "execute_result"
    }
   ],
   "source": [
    "%%sql\n",
    "SELECT\n",
    "    subject,\n",
    "    AVG(score) AS average_math_score\n",
    "FROM grades\n",
    "WHERE subject = 'Math' AND flags = 'High performer';"
   ]
  },
  {
   "cell_type": "markdown",
   "id": "57865d9f",
   "metadata": {
    "id": "57865d9f"
   },
   "source": [
    "## Question 5: **Answer**"
   ]
  },
  {
   "cell_type": "code",
   "execution_count": 15,
   "id": "9bf8e851",
   "metadata": {
    "colab": {
     "base_uri": "https://localhost:8080/",
     "height": 94
    },
    "executionInfo": {
     "elapsed": 25,
     "status": "ok",
     "timestamp": 1752849977082,
     "user": {
      "displayName": "Benjamin Bennett Alexander",
      "userId": "14614847693800833280"
     },
     "user_tz": -180
    },
    "id": "9bf8e851",
    "outputId": "f1e913d3-2750-4f76-e0a8-9fc0dbb7feef"
   },
   "outputs": [
    {
     "name": "stdout",
     "output_type": "stream",
     "text": [
      " * sqlite:///student_grades_data.db\n",
      "Done.\n"
     ]
    },
    {
     "data": {
      "text/html": [
       "<table>\n",
       "    <thead>\n",
       "        <tr>\n",
       "            <th>excellent_count</th>\n",
       "        </tr>\n",
       "    </thead>\n",
       "    <tbody>\n",
       "        <tr>\n",
       "            <td>4</td>\n",
       "        </tr>\n",
       "    </tbody>\n",
       "</table>"
      ],
      "text/plain": [
       "[(4,)]"
      ]
     },
     "execution_count": 15,
     "metadata": {},
     "output_type": "execute_result"
    }
   ],
   "source": [
    "%%sql\n",
    "SELECT\n",
    "    COUNT(*) AS excellent_count\n",
    "FROM\n",
    "    (SELECT\n",
    "    score,\n",
    "    CASE\n",
    "        WHEN score >= 85 THEN 'Excellent'\n",
    "        WHEN score BETWEEN 70 AND 84 THEN 'Good'\n",
    "        ELSE 'Poor'\n",
    "    END AS student_standing\n",
    "    FROM grades) AS student_grading\n",
    "WHERE student_standing = 'Excellent';"
   ]
  },
  {
   "cell_type": "code",
   "execution_count": 16,
   "id": "7529e168",
   "metadata": {
    "executionInfo": {
     "elapsed": 4,
     "status": "ok",
     "timestamp": 1752849977085,
     "user": {
      "displayName": "Benjamin Bennett Alexander",
      "userId": "14614847693800833280"
     },
     "user_tz": -180
    },
    "id": "7529e168"
   },
   "outputs": [],
   "source": [
    "# %%sql\n",
    "# DROP TABLE grades;"
   ]
  }
 ],
 "metadata": {
  "colab": {
   "provenance": []
  },
  "kernelspec": {
   "display_name": "Python 3 (ipykernel)",
   "language": "python",
   "name": "python3"
  },
  "language_info": {
   "codemirror_mode": {
    "name": "ipython",
    "version": 3
   },
   "file_extension": ".py",
   "mimetype": "text/x-python",
   "name": "python",
   "nbconvert_exporter": "python",
   "pygments_lexer": "ipython3",
   "version": "3.10.5"
  }
 },
 "nbformat": 4,
 "nbformat_minor": 5
}

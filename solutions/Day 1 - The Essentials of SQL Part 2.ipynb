{
 "cells": [
  {
   "cell_type": "code",
   "execution_count": null,
   "id": "063281fe",
   "metadata": {
    "id": "063281fe"
   },
   "outputs": [],
   "source": [
    "import pandas as pd\n",
    "import sqlite3"
   ]
  },
  {
   "cell_type": "code",
   "execution_count": null,
   "id": "f9aebd30",
   "metadata": {
    "id": "f9aebd30"
   },
   "outputs": [],
   "source": [
    "# Loading data into a DataFrame\n",
    "df = pd.read_csv(\"/content/animals.csv\")\n",
    "\n",
    "# Using a context manager to handle the database connection\n",
    "with sqlite3.connect('zoo_data.db') as connection:\n",
    "    # Creating a table and loading data into the database\n",
    "    df.to_sql('animals', connection, if_exists='replace', index=False)"
   ]
  },
  {
   "cell_type": "code",
   "execution_count": null,
   "id": "A8gTtpZBAzSw",
   "metadata": {
    "id": "A8gTtpZBAzSw"
   },
   "outputs": [],
   "source": [
    "# Loading the SQL magic\n",
    "%load_ext sql"
   ]
  },
  {
   "cell_type": "code",
   "execution_count": null,
   "id": "6Pzuj3BuEQze",
   "metadata": {
    "id": "6Pzuj3BuEQze"
   },
   "outputs": [],
   "source": [
    "%config SqlMagic.style = '_DEPRECATED_DEFAULT'"
   ]
  },
  {
   "cell_type": "code",
   "execution_count": null,
   "id": "Qr0PzqqaxHC6",
   "metadata": {
    "id": "Qr0PzqqaxHC6"
   },
   "outputs": [],
   "source": [
    "# Connecting to the SQLite database\n",
    "%sql sqlite:///zoo_data.db"
   ]
  },
  {
   "cell_type": "code",
   "execution_count": null,
   "id": "ddc129e5",
   "metadata": {
    "colab": {
     "base_uri": "https://localhost:8080/",
     "height": 281
    },
    "executionInfo": {
     "elapsed": 81,
     "status": "ok",
     "timestamp": 1752766722098,
     "user": {
      "displayName": "Benjamin Bennett Alexander",
      "userId": "14614847693800833280"
     },
     "user_tz": -180
    },
    "id": "ddc129e5",
    "outputId": "ff3d7d96-b715-40d3-db96-7b56d78774d4"
   },
   "outputs": [
    {
     "name": "stdout",
     "output_type": "stream",
     "text": [
      " * sqlite:///zoo_data.db\n",
      "Done.\n"
     ]
    },
    {
     "data": {
      "text/html": [
       "<table>\n",
       "    <thead>\n",
       "        <tr>\n",
       "            <th>animal_id</th>\n",
       "            <th>name</th>\n",
       "            <th>species</th>\n",
       "            <th>age</th>\n",
       "            <th>habitat</th>\n",
       "        </tr>\n",
       "    </thead>\n",
       "    <tbody>\n",
       "        <tr>\n",
       "            <td>1</td>\n",
       "            <td>Leo</td>\n",
       "            <td>Lion</td>\n",
       "            <td>5</td>\n",
       "            <td>Savannah</td>\n",
       "        </tr>\n",
       "        <tr>\n",
       "            <td>2</td>\n",
       "            <td>Ellie</td>\n",
       "            <td>Elephant</td>\n",
       "            <td>10</td>\n",
       "            <td>Grasslands</td>\n",
       "        </tr>\n",
       "        <tr>\n",
       "            <td>3</td>\n",
       "            <td>Zara</td>\n",
       "            <td>Zebra</td>\n",
       "            <td>7</td>\n",
       "            <td>Savannah</td>\n",
       "        </tr>\n",
       "        <tr>\n",
       "            <td>4</td>\n",
       "            <td>Manny</td>\n",
       "            <td>Monkey</td>\n",
       "            <td>3</td>\n",
       "            <td>Tropical Forest</td>\n",
       "        </tr>\n",
       "        <tr>\n",
       "            <td>5</td>\n",
       "            <td>Gerry</td>\n",
       "            <td>Giraffe</td>\n",
       "            <td>8</td>\n",
       "            <td>Savannah</td>\n",
       "        </tr>\n",
       "        <tr>\n",
       "            <td>6</td>\n",
       "            <td>Perry</td>\n",
       "            <td>Penguin</td>\n",
       "            <td>4</td>\n",
       "            <td>Polar</td>\n",
       "        </tr>\n",
       "        <tr>\n",
       "            <td>7</td>\n",
       "            <td>Tina</td>\n",
       "            <td>Tiger</td>\n",
       "            <td>6</td>\n",
       "            <td>Rainforest</td>\n",
       "        </tr>\n",
       "        <tr>\n",
       "            <td>8</td>\n",
       "            <td>Rocky</td>\n",
       "            <td>Rhinoceros</td>\n",
       "            <td>12</td>\n",
       "            <td>Grasslands</td>\n",
       "        </tr>\n",
       "        <tr>\n",
       "            <td>9</td>\n",
       "            <td>Sammy</td>\n",
       "            <td>Snake</td>\n",
       "            <td>2</td>\n",
       "            <td>Desert</td>\n",
       "        </tr>\n",
       "        <tr>\n",
       "            <td>10</td>\n",
       "            <td>Bella</td>\n",
       "            <td>Bear</td>\n",
       "            <td>9</td>\n",
       "            <td>Forest</td>\n",
       "        </tr>\n",
       "    </tbody>\n",
       "</table>"
      ],
      "text/plain": [
       "[(1, 'Leo', 'Lion', 5, 'Savannah'),\n",
       " (2, 'Ellie', 'Elephant', 10, 'Grasslands'),\n",
       " (3, 'Zara', 'Zebra', 7, 'Savannah'),\n",
       " (4, 'Manny', 'Monkey', 3, 'Tropical Forest'),\n",
       " (5, 'Gerry', 'Giraffe', 8, 'Savannah'),\n",
       " (6, 'Perry', 'Penguin', 4, 'Polar'),\n",
       " (7, 'Tina', 'Tiger', 6, 'Rainforest'),\n",
       " (8, 'Rocky', 'Rhinoceros', 12, 'Grasslands'),\n",
       " (9, 'Sammy', 'Snake', 2, 'Desert'),\n",
       " (10, 'Bella', 'Bear', 9, 'Forest')]"
      ]
     },
     "execution_count": 6,
     "metadata": {},
     "output_type": "execute_result"
    }
   ],
   "source": [
    "%%sql\n",
    "SELECT * FROM animals;"
   ]
  },
  {
   "cell_type": "code",
   "execution_count": null,
   "id": "eG9LUGVuQOg7",
   "metadata": {
    "colab": {
     "base_uri": "https://localhost:8080/"
    },
    "executionInfo": {
     "elapsed": 24,
     "status": "ok",
     "timestamp": 1752766722126,
     "user": {
      "displayName": "Benjamin Bennett Alexander",
      "userId": "14614847693800833280"
     },
     "user_tz": -180
    },
    "id": "eG9LUGVuQOg7",
    "outputId": "5c6e10d9-8ca6-4cd3-e8f7-8e2169459000"
   },
   "outputs": [
    {
     "name": "stdout",
     "output_type": "stream",
     "text": [
      " * sqlite:///zoo_data.db\n",
      "Done.\n"
     ]
    },
    {
     "data": {
      "text/plain": [
       "[]"
      ]
     },
     "execution_count": 7,
     "metadata": {},
     "output_type": "execute_result"
    }
   ],
   "source": [
    "%%sql\n",
    "DROP TABLE animals;"
   ]
  },
  {
   "cell_type": "code",
   "execution_count": null,
   "id": "LouEvAOb1Xt2",
   "metadata": {
    "id": "LouEvAOb1Xt2"
   },
   "outputs": [],
   "source": [
    "import csv"
   ]
  },
  {
   "cell_type": "code",
   "execution_count": null,
   "id": "04b7772c",
   "metadata": {
    "colab": {
     "base_uri": "https://localhost:8080/"
    },
    "executionInfo": {
     "elapsed": 80,
     "status": "ok",
     "timestamp": 1752766722221,
     "user": {
      "displayName": "Benjamin Bennett Alexander",
      "userId": "14614847693800833280"
     },
     "user_tz": -180
    },
    "id": "04b7772c",
    "outputId": "6fa22640-2b03-46fc-ec91-b2b206cda8c7"
   },
   "outputs": [
    {
     "name": "stdout",
     "output_type": "stream",
     "text": [
      " * sqlite:///zoo_data.db\n",
      "Done.\n"
     ]
    },
    {
     "data": {
      "text/plain": [
       "[]"
      ]
     },
     "execution_count": 9,
     "metadata": {},
     "output_type": "execute_result"
    }
   ],
   "source": [
    "%%sql\n",
    "CREATE TABLE IF NOT EXISTS animals (\n",
    "    animal_id INTEGER PRIMARY KEY,\n",
    "    name TEXT VARCHAR(255) NOT NULL,\n",
    "    species TEXT,\n",
    "    age INTEGER,\n",
    "    habitat TEXT\n",
    " );"
   ]
  },
  {
   "cell_type": "code",
   "execution_count": null,
   "id": "77xXRY9MUoLw",
   "metadata": {
    "id": "77xXRY9MUoLw"
   },
   "outputs": [],
   "source": [
    "# Connect to SQLite database\n",
    "connection = sqlite3.connect('zoo_data.db')\n",
    "# Create cursor object\n",
    "cursor = connection.cursor()\n",
    "\n",
    "# Open the CSV file and read its content\n",
    "file = \"/content/animals.csv\"\n",
    "\n",
    "\n",
    "with open(file, 'r') as csv_file:\n",
    "    csv_reader = csv.reader(csv_file)\n",
    "    # Skip the header row\n",
    "    next(csv_reader)\n",
    "    # Insert data into the table\n",
    "    for row in csv_reader:\n",
    "        cursor.execute('INSERT INTO animals VALUES (?, ?, ?, ?, ?)', row)\n",
    "\n",
    "# Commit the changes and close the connection\n",
    "connection.commit()\n",
    "connection.close()"
   ]
  },
  {
   "cell_type": "code",
   "execution_count": null,
   "id": "vPCdTc8qe9s3",
   "metadata": {
    "colab": {
     "base_uri": "https://localhost:8080/",
     "height": 281
    },
    "executionInfo": {
     "elapsed": 24,
     "status": "ok",
     "timestamp": 1752766722249,
     "user": {
      "displayName": "Benjamin Bennett Alexander",
      "userId": "14614847693800833280"
     },
     "user_tz": -180
    },
    "id": "vPCdTc8qe9s3",
    "outputId": "7219c358-5821-4466-cbde-9a16e50a86a2"
   },
   "outputs": [
    {
     "name": "stdout",
     "output_type": "stream",
     "text": [
      " * sqlite:///zoo_data.db\n",
      "Done.\n"
     ]
    },
    {
     "data": {
      "text/html": [
       "<table>\n",
       "    <thead>\n",
       "        <tr>\n",
       "            <th>animal_id</th>\n",
       "            <th>name</th>\n",
       "            <th>species</th>\n",
       "            <th>age</th>\n",
       "            <th>habitat</th>\n",
       "        </tr>\n",
       "    </thead>\n",
       "    <tbody>\n",
       "        <tr>\n",
       "            <td>1</td>\n",
       "            <td>Leo</td>\n",
       "            <td>Lion</td>\n",
       "            <td>5</td>\n",
       "            <td>Savannah</td>\n",
       "        </tr>\n",
       "        <tr>\n",
       "            <td>2</td>\n",
       "            <td>Ellie</td>\n",
       "            <td>Elephant</td>\n",
       "            <td>10</td>\n",
       "            <td>Grasslands</td>\n",
       "        </tr>\n",
       "        <tr>\n",
       "            <td>3</td>\n",
       "            <td>Zara</td>\n",
       "            <td>Zebra</td>\n",
       "            <td>7</td>\n",
       "            <td>Savannah</td>\n",
       "        </tr>\n",
       "        <tr>\n",
       "            <td>4</td>\n",
       "            <td>Manny</td>\n",
       "            <td>Monkey</td>\n",
       "            <td>3</td>\n",
       "            <td>Tropical Forest</td>\n",
       "        </tr>\n",
       "        <tr>\n",
       "            <td>5</td>\n",
       "            <td>Gerry</td>\n",
       "            <td>Giraffe</td>\n",
       "            <td>8</td>\n",
       "            <td>Savannah</td>\n",
       "        </tr>\n",
       "        <tr>\n",
       "            <td>6</td>\n",
       "            <td>Perry</td>\n",
       "            <td>Penguin</td>\n",
       "            <td>4</td>\n",
       "            <td>Polar</td>\n",
       "        </tr>\n",
       "        <tr>\n",
       "            <td>7</td>\n",
       "            <td>Tina</td>\n",
       "            <td>Tiger</td>\n",
       "            <td>6</td>\n",
       "            <td>Rainforest</td>\n",
       "        </tr>\n",
       "        <tr>\n",
       "            <td>8</td>\n",
       "            <td>Rocky</td>\n",
       "            <td>Rhinoceros</td>\n",
       "            <td>12</td>\n",
       "            <td>Grasslands</td>\n",
       "        </tr>\n",
       "        <tr>\n",
       "            <td>9</td>\n",
       "            <td>Sammy</td>\n",
       "            <td>Snake</td>\n",
       "            <td>2</td>\n",
       "            <td>Desert</td>\n",
       "        </tr>\n",
       "        <tr>\n",
       "            <td>10</td>\n",
       "            <td>Bella</td>\n",
       "            <td>Bear</td>\n",
       "            <td>9</td>\n",
       "            <td>Forest</td>\n",
       "        </tr>\n",
       "    </tbody>\n",
       "</table>"
      ],
      "text/plain": [
       "[(1, 'Leo', 'Lion', 5, 'Savannah'),\n",
       " (2, 'Ellie', 'Elephant', 10, 'Grasslands'),\n",
       " (3, 'Zara', 'Zebra', 7, 'Savannah'),\n",
       " (4, 'Manny', 'Monkey', 3, 'Tropical Forest'),\n",
       " (5, 'Gerry', 'Giraffe', 8, 'Savannah'),\n",
       " (6, 'Perry', 'Penguin', 4, 'Polar'),\n",
       " (7, 'Tina', 'Tiger', 6, 'Rainforest'),\n",
       " (8, 'Rocky', 'Rhinoceros', 12, 'Grasslands'),\n",
       " (9, 'Sammy', 'Snake', 2, 'Desert'),\n",
       " (10, 'Bella', 'Bear', 9, 'Forest')]"
      ]
     },
     "execution_count": 11,
     "metadata": {},
     "output_type": "execute_result"
    }
   ],
   "source": [
    "%%sql\n",
    "SELECT * FROM animals;"
   ]
  },
  {
   "cell_type": "code",
   "execution_count": null,
   "id": "PByOaXgUgQu1",
   "metadata": {
    "colab": {
     "base_uri": "https://localhost:8080/",
     "height": 281
    },
    "executionInfo": {
     "elapsed": 86,
     "status": "ok",
     "timestamp": 1752766722338,
     "user": {
      "displayName": "Benjamin Bennett Alexander",
      "userId": "14614847693800833280"
     },
     "user_tz": -180
    },
    "id": "PByOaXgUgQu1",
    "outputId": "5ad2d0e4-e5d1-4dee-8901-bba1792787b0"
   },
   "outputs": [
    {
     "name": "stdout",
     "output_type": "stream",
     "text": [
      " * sqlite:///zoo_data.db\n",
      "Done.\n"
     ]
    },
    {
     "data": {
      "text/html": [
       "<table>\n",
       "    <thead>\n",
       "        <tr>\n",
       "            <th>name</th>\n",
       "            <th>species</th>\n",
       "        </tr>\n",
       "    </thead>\n",
       "    <tbody>\n",
       "        <tr>\n",
       "            <td>Leo</td>\n",
       "            <td>Lion</td>\n",
       "        </tr>\n",
       "        <tr>\n",
       "            <td>Ellie</td>\n",
       "            <td>Elephant</td>\n",
       "        </tr>\n",
       "        <tr>\n",
       "            <td>Zara</td>\n",
       "            <td>Zebra</td>\n",
       "        </tr>\n",
       "        <tr>\n",
       "            <td>Manny</td>\n",
       "            <td>Monkey</td>\n",
       "        </tr>\n",
       "        <tr>\n",
       "            <td>Gerry</td>\n",
       "            <td>Giraffe</td>\n",
       "        </tr>\n",
       "        <tr>\n",
       "            <td>Perry</td>\n",
       "            <td>Penguin</td>\n",
       "        </tr>\n",
       "        <tr>\n",
       "            <td>Tina</td>\n",
       "            <td>Tiger</td>\n",
       "        </tr>\n",
       "        <tr>\n",
       "            <td>Rocky</td>\n",
       "            <td>Rhinoceros</td>\n",
       "        </tr>\n",
       "        <tr>\n",
       "            <td>Sammy</td>\n",
       "            <td>Snake</td>\n",
       "        </tr>\n",
       "        <tr>\n",
       "            <td>Bella</td>\n",
       "            <td>Bear</td>\n",
       "        </tr>\n",
       "    </tbody>\n",
       "</table>"
      ],
      "text/plain": [
       "[('Leo', 'Lion'),\n",
       " ('Ellie', 'Elephant'),\n",
       " ('Zara', 'Zebra'),\n",
       " ('Manny', 'Monkey'),\n",
       " ('Gerry', 'Giraffe'),\n",
       " ('Perry', 'Penguin'),\n",
       " ('Tina', 'Tiger'),\n",
       " ('Rocky', 'Rhinoceros'),\n",
       " ('Sammy', 'Snake'),\n",
       " ('Bella', 'Bear')]"
      ]
     },
     "execution_count": 12,
     "metadata": {},
     "output_type": "execute_result"
    }
   ],
   "source": [
    "%%sql\n",
    "SELECT name, species\n",
    "FROM animals;"
   ]
  },
  {
   "cell_type": "code",
   "execution_count": null,
   "id": "BvhWhwLKhdll",
   "metadata": {
    "colab": {
     "base_uri": "https://localhost:8080/",
     "height": 177
    },
    "executionInfo": {
     "elapsed": 26,
     "status": "ok",
     "timestamp": 1752766722367,
     "user": {
      "displayName": "Benjamin Bennett Alexander",
      "userId": "14614847693800833280"
     },
     "user_tz": -180
    },
    "id": "BvhWhwLKhdll",
    "outputId": "45cb93b8-2130-4ec0-c8bf-085e6e1baebf"
   },
   "outputs": [
    {
     "name": "stdout",
     "output_type": "stream",
     "text": [
      " * sqlite:///zoo_data.db\n",
      "Done.\n"
     ]
    },
    {
     "data": {
      "text/html": [
       "<table>\n",
       "    <thead>\n",
       "        <tr>\n",
       "            <th>animal_id</th>\n",
       "            <th>name</th>\n",
       "            <th>species</th>\n",
       "        </tr>\n",
       "    </thead>\n",
       "    <tbody>\n",
       "        <tr>\n",
       "            <td>1</td>\n",
       "            <td>Leo</td>\n",
       "            <td>Lion</td>\n",
       "        </tr>\n",
       "        <tr>\n",
       "            <td>2</td>\n",
       "            <td>Ellie</td>\n",
       "            <td>Elephant</td>\n",
       "        </tr>\n",
       "        <tr>\n",
       "            <td>3</td>\n",
       "            <td>Zara</td>\n",
       "            <td>Zebra</td>\n",
       "        </tr>\n",
       "        <tr>\n",
       "            <td>4</td>\n",
       "            <td>Manny</td>\n",
       "            <td>Monkey</td>\n",
       "        </tr>\n",
       "        <tr>\n",
       "            <td>5</td>\n",
       "            <td>Gerry</td>\n",
       "            <td>Giraffe</td>\n",
       "        </tr>\n",
       "    </tbody>\n",
       "</table>"
      ],
      "text/plain": [
       "[(1, 'Leo', 'Lion'),\n",
       " (2, 'Ellie', 'Elephant'),\n",
       " (3, 'Zara', 'Zebra'),\n",
       " (4, 'Manny', 'Monkey'),\n",
       " (5, 'Gerry', 'Giraffe')]"
      ]
     },
     "execution_count": 13,
     "metadata": {},
     "output_type": "execute_result"
    }
   ],
   "source": [
    "%%sql\n",
    "SELECT animal_id, name, species\n",
    "FROM animals\n",
    "LIMIT 5;"
   ]
  },
  {
   "cell_type": "code",
   "execution_count": null,
   "id": "KwBxLsclz9QO",
   "metadata": {
    "colab": {
     "base_uri": "https://localhost:8080/",
     "height": 177
    },
    "executionInfo": {
     "elapsed": 26,
     "status": "ok",
     "timestamp": 1752766722399,
     "user": {
      "displayName": "Benjamin Bennett Alexander",
      "userId": "14614847693800833280"
     },
     "user_tz": -180
    },
    "id": "KwBxLsclz9QO",
    "outputId": "58fb68c1-ad2d-423f-bd08-12342dfd53e2"
   },
   "outputs": [
    {
     "name": "stdout",
     "output_type": "stream",
     "text": [
      " * sqlite:///zoo_data.db\n",
      "Done.\n"
     ]
    },
    {
     "data": {
      "text/html": [
       "<table>\n",
       "    <thead>\n",
       "        <tr>\n",
       "            <th>animal_id</th>\n",
       "            <th>name</th>\n",
       "            <th>species</th>\n",
       "        </tr>\n",
       "    </thead>\n",
       "    <tbody>\n",
       "        <tr>\n",
       "            <td>6</td>\n",
       "            <td>Perry</td>\n",
       "            <td>Penguin</td>\n",
       "        </tr>\n",
       "        <tr>\n",
       "            <td>7</td>\n",
       "            <td>Tina</td>\n",
       "            <td>Tiger</td>\n",
       "        </tr>\n",
       "        <tr>\n",
       "            <td>8</td>\n",
       "            <td>Rocky</td>\n",
       "            <td>Rhinoceros</td>\n",
       "        </tr>\n",
       "        <tr>\n",
       "            <td>9</td>\n",
       "            <td>Sammy</td>\n",
       "            <td>Snake</td>\n",
       "        </tr>\n",
       "        <tr>\n",
       "            <td>10</td>\n",
       "            <td>Bella</td>\n",
       "            <td>Bear</td>\n",
       "        </tr>\n",
       "    </tbody>\n",
       "</table>"
      ],
      "text/plain": [
       "[(6, 'Perry', 'Penguin'),\n",
       " (7, 'Tina', 'Tiger'),\n",
       " (8, 'Rocky', 'Rhinoceros'),\n",
       " (9, 'Sammy', 'Snake'),\n",
       " (10, 'Bella', 'Bear')]"
      ]
     },
     "execution_count": 14,
     "metadata": {},
     "output_type": "execute_result"
    }
   ],
   "source": [
    "%%sql\n",
    "SELECT\n",
    "    animal_id,\n",
    "    name,\n",
    "    species\n",
    "FROM animals\n",
    "LIMIT 5 OFFSET 5;"
   ]
  },
  {
   "cell_type": "code",
   "execution_count": null,
   "id": "5HQDj-pRhygO",
   "metadata": {
    "colab": {
     "base_uri": "https://localhost:8080/",
     "height": 136
    },
    "executionInfo": {
     "elapsed": 67,
     "status": "ok",
     "timestamp": 1752766722471,
     "user": {
      "displayName": "Benjamin Bennett Alexander",
      "userId": "14614847693800833280"
     },
     "user_tz": -180
    },
    "id": "5HQDj-pRhygO",
    "outputId": "226e8644-abd2-406f-96b0-31f5cb04e44f"
   },
   "outputs": [
    {
     "name": "stdout",
     "output_type": "stream",
     "text": [
      " * sqlite:///zoo_data.db\n",
      "Done.\n"
     ]
    },
    {
     "data": {
      "text/html": [
       "<table>\n",
       "    <thead>\n",
       "        <tr>\n",
       "            <th>name</th>\n",
       "            <th>species</th>\n",
       "            <th>age</th>\n",
       "        </tr>\n",
       "    </thead>\n",
       "    <tbody>\n",
       "        <tr>\n",
       "            <td>Rocky</td>\n",
       "            <td>Rhinoceros</td>\n",
       "            <td>12</td>\n",
       "        </tr>\n",
       "        <tr>\n",
       "            <td>Ellie</td>\n",
       "            <td>Elephant</td>\n",
       "            <td>10</td>\n",
       "        </tr>\n",
       "        <tr>\n",
       "            <td>Bella</td>\n",
       "            <td>Bear</td>\n",
       "            <td>9</td>\n",
       "        </tr>\n",
       "    </tbody>\n",
       "</table>"
      ],
      "text/plain": [
       "[('Rocky', 'Rhinoceros', 12), ('Ellie', 'Elephant', 10), ('Bella', 'Bear', 9)]"
      ]
     },
     "execution_count": 15,
     "metadata": {},
     "output_type": "execute_result"
    }
   ],
   "source": [
    "%%sql\n",
    "SELECT\n",
    "    name,\n",
    "    species,\n",
    "    age\n",
    "FROM animals\n",
    "ORDER BY age DESC\n",
    "LIMIT 3;"
   ]
  },
  {
   "cell_type": "code",
   "execution_count": null,
   "id": "_hloS4FVjYeu",
   "metadata": {
    "colab": {
     "base_uri": "https://localhost:8080/",
     "height": 136
    },
    "executionInfo": {
     "elapsed": 181,
     "status": "ok",
     "timestamp": 1752766722655,
     "user": {
      "displayName": "Benjamin Bennett Alexander",
      "userId": "14614847693800833280"
     },
     "user_tz": -180
    },
    "id": "_hloS4FVjYeu",
    "outputId": "63731638-3949-4b09-f3eb-3a8023c5cdf7"
   },
   "outputs": [
    {
     "name": "stdout",
     "output_type": "stream",
     "text": [
      " * sqlite:///zoo_data.db\n",
      "Done.\n"
     ]
    },
    {
     "data": {
      "text/html": [
       "<table>\n",
       "    <thead>\n",
       "        <tr>\n",
       "            <th>name</th>\n",
       "            <th>species</th>\n",
       "            <th>age</th>\n",
       "        </tr>\n",
       "    </thead>\n",
       "    <tbody>\n",
       "        <tr>\n",
       "            <td>Sammy</td>\n",
       "            <td>Snake</td>\n",
       "            <td>2</td>\n",
       "        </tr>\n",
       "        <tr>\n",
       "            <td>Manny</td>\n",
       "            <td>Monkey</td>\n",
       "            <td>3</td>\n",
       "        </tr>\n",
       "        <tr>\n",
       "            <td>Perry</td>\n",
       "            <td>Penguin</td>\n",
       "            <td>4</td>\n",
       "        </tr>\n",
       "    </tbody>\n",
       "</table>"
      ],
      "text/plain": [
       "[('Sammy', 'Snake', 2), ('Manny', 'Monkey', 3), ('Perry', 'Penguin', 4)]"
      ]
     },
     "execution_count": 16,
     "metadata": {},
     "output_type": "execute_result"
    }
   ],
   "source": [
    "%%sql\n",
    "SELECT name, species,age\n",
    "FROM animals\n",
    "ORDER BY age\n",
    "LIMIT 3;"
   ]
  },
  {
   "cell_type": "code",
   "execution_count": null,
   "id": "w0wDCUsZj7oW",
   "metadata": {
    "colab": {
     "base_uri": "https://localhost:8080/",
     "height": 136
    },
    "executionInfo": {
     "elapsed": 161,
     "status": "ok",
     "timestamp": 1752766722657,
     "user": {
      "displayName": "Benjamin Bennett Alexander",
      "userId": "14614847693800833280"
     },
     "user_tz": -180
    },
    "id": "w0wDCUsZj7oW",
    "outputId": "fe238f29-fabd-4926-8d33-441e66f6b5f4"
   },
   "outputs": [
    {
     "name": "stdout",
     "output_type": "stream",
     "text": [
      " * sqlite:///zoo_data.db\n",
      "Done.\n"
     ]
    },
    {
     "data": {
      "text/html": [
       "<table>\n",
       "    <thead>\n",
       "        <tr>\n",
       "            <th>name</th>\n",
       "            <th>species</th>\n",
       "            <th>age</th>\n",
       "        </tr>\n",
       "    </thead>\n",
       "    <tbody>\n",
       "        <tr>\n",
       "            <td>Sammy</td>\n",
       "            <td>Snake</td>\n",
       "            <td>2</td>\n",
       "        </tr>\n",
       "        <tr>\n",
       "            <td>Manny</td>\n",
       "            <td>Monkey</td>\n",
       "            <td>3</td>\n",
       "        </tr>\n",
       "        <tr>\n",
       "            <td>Perry</td>\n",
       "            <td>Penguin</td>\n",
       "            <td>4</td>\n",
       "        </tr>\n",
       "    </tbody>\n",
       "</table>"
      ],
      "text/plain": [
       "[('Sammy', 'Snake', 2), ('Manny', 'Monkey', 3), ('Perry', 'Penguin', 4)]"
      ]
     },
     "execution_count": 17,
     "metadata": {},
     "output_type": "execute_result"
    }
   ],
   "source": [
    "%%sql\n",
    "SELECT name, species,age\n",
    "FROM animals\n",
    "ORDER BY age ASC -- Explicitly passing ASC\n",
    "LIMIT 3;"
   ]
  },
  {
   "cell_type": "code",
   "execution_count": null,
   "id": "fPC4hGXsADsz",
   "metadata": {
    "colab": {
     "base_uri": "https://localhost:8080/",
     "height": 281
    },
    "executionInfo": {
     "elapsed": 121,
     "status": "ok",
     "timestamp": 1752766722658,
     "user": {
      "displayName": "Benjamin Bennett Alexander",
      "userId": "14614847693800833280"
     },
     "user_tz": -180
    },
    "id": "fPC4hGXsADsz",
    "outputId": "41f7ab35-528c-4c25-fd2d-19dc1464327a"
   },
   "outputs": [
    {
     "name": "stdout",
     "output_type": "stream",
     "text": [
      " * sqlite:///zoo_data.db\n",
      "Done.\n"
     ]
    },
    {
     "data": {
      "text/html": [
       "<table>\n",
       "    <thead>\n",
       "        <tr>\n",
       "            <th>animal_id</th>\n",
       "            <th>habitat</th>\n",
       "            <th>name</th>\n",
       "            <th>species</th>\n",
       "            <th>age</th>\n",
       "        </tr>\n",
       "    </thead>\n",
       "    <tbody>\n",
       "        <tr>\n",
       "            <td>4</td>\n",
       "            <td>Tropical Forest</td>\n",
       "            <td>Manny</td>\n",
       "            <td>Monkey</td>\n",
       "            <td>3</td>\n",
       "        </tr>\n",
       "        <tr>\n",
       "            <td>1</td>\n",
       "            <td>Savannah</td>\n",
       "            <td>Leo</td>\n",
       "            <td>Lion</td>\n",
       "            <td>5</td>\n",
       "        </tr>\n",
       "        <tr>\n",
       "            <td>3</td>\n",
       "            <td>Savannah</td>\n",
       "            <td>Zara</td>\n",
       "            <td>Zebra</td>\n",
       "            <td>7</td>\n",
       "        </tr>\n",
       "        <tr>\n",
       "            <td>5</td>\n",
       "            <td>Savannah</td>\n",
       "            <td>Gerry</td>\n",
       "            <td>Giraffe</td>\n",
       "            <td>8</td>\n",
       "        </tr>\n",
       "        <tr>\n",
       "            <td>7</td>\n",
       "            <td>Rainforest</td>\n",
       "            <td>Tina</td>\n",
       "            <td>Tiger</td>\n",
       "            <td>6</td>\n",
       "        </tr>\n",
       "        <tr>\n",
       "            <td>6</td>\n",
       "            <td>Polar</td>\n",
       "            <td>Perry</td>\n",
       "            <td>Penguin</td>\n",
       "            <td>4</td>\n",
       "        </tr>\n",
       "        <tr>\n",
       "            <td>2</td>\n",
       "            <td>Grasslands</td>\n",
       "            <td>Ellie</td>\n",
       "            <td>Elephant</td>\n",
       "            <td>10</td>\n",
       "        </tr>\n",
       "        <tr>\n",
       "            <td>8</td>\n",
       "            <td>Grasslands</td>\n",
       "            <td>Rocky</td>\n",
       "            <td>Rhinoceros</td>\n",
       "            <td>12</td>\n",
       "        </tr>\n",
       "        <tr>\n",
       "            <td>10</td>\n",
       "            <td>Forest</td>\n",
       "            <td>Bella</td>\n",
       "            <td>Bear</td>\n",
       "            <td>9</td>\n",
       "        </tr>\n",
       "        <tr>\n",
       "            <td>9</td>\n",
       "            <td>Desert</td>\n",
       "            <td>Sammy</td>\n",
       "            <td>Snake</td>\n",
       "            <td>2</td>\n",
       "        </tr>\n",
       "    </tbody>\n",
       "</table>"
      ],
      "text/plain": [
       "[(4, 'Tropical Forest', 'Manny', 'Monkey', 3),\n",
       " (1, 'Savannah', 'Leo', 'Lion', 5),\n",
       " (3, 'Savannah', 'Zara', 'Zebra', 7),\n",
       " (5, 'Savannah', 'Gerry', 'Giraffe', 8),\n",
       " (7, 'Rainforest', 'Tina', 'Tiger', 6),\n",
       " (6, 'Polar', 'Perry', 'Penguin', 4),\n",
       " (2, 'Grasslands', 'Ellie', 'Elephant', 10),\n",
       " (8, 'Grasslands', 'Rocky', 'Rhinoceros', 12),\n",
       " (10, 'Forest', 'Bella', 'Bear', 9),\n",
       " (9, 'Desert', 'Sammy', 'Snake', 2)]"
      ]
     },
     "execution_count": 18,
     "metadata": {},
     "output_type": "execute_result"
    }
   ],
   "source": [
    "%%sql\n",
    "SELECT animal_id, habitat,  name, species, age\n",
    "FROM animals\n",
    "-- Sorting by two columns\n",
    "ORDER BY habitat DESC, age ASC;"
   ]
  },
  {
   "cell_type": "code",
   "execution_count": null,
   "id": "IIAKmRLHfO2h",
   "metadata": {
    "colab": {
     "base_uri": "https://localhost:8080/",
     "height": 115
    },
    "executionInfo": {
     "elapsed": 98,
     "status": "ok",
     "timestamp": 1752766722715,
     "user": {
      "displayName": "Benjamin Bennett Alexander",
      "userId": "14614847693800833280"
     },
     "user_tz": -180
    },
    "id": "IIAKmRLHfO2h",
    "outputId": "3a24bd7c-0534-44c7-cc3e-904ab3ac4e42"
   },
   "outputs": [
    {
     "name": "stdout",
     "output_type": "stream",
     "text": [
      " * sqlite:///zoo_data.db\n",
      "Done.\n"
     ]
    },
    {
     "data": {
      "text/html": [
       "<table>\n",
       "    <thead>\n",
       "        <tr>\n",
       "            <th>habitat</th>\n",
       "        </tr>\n",
       "    </thead>\n",
       "    <tbody>\n",
       "        <tr>\n",
       "            <td>Tropical Forest</td>\n",
       "        </tr>\n",
       "        <tr>\n",
       "            <td>savannah</td>\n",
       "        </tr>\n",
       "    </tbody>\n",
       "</table>"
      ],
      "text/plain": [
       "[('Tropical Forest',), ('savannah',)]"
      ]
     },
     "execution_count": 19,
     "metadata": {},
     "output_type": "execute_result"
    }
   ],
   "source": [
    "%%sql\n",
    "SELECT 'savannah' AS habitat\n",
    "\n",
    "UNION ALL -- Combining two queries\n",
    "\n",
    "SELECT 'Tropical Forest' AS habitat\n",
    "ORDER BY habitat ASC;"
   ]
  },
  {
   "cell_type": "code",
   "execution_count": null,
   "id": "DinvMEmEnddE",
   "metadata": {
    "colab": {
     "base_uri": "https://localhost:8080/",
     "height": 115
    },
    "executionInfo": {
     "elapsed": 110,
     "status": "ok",
     "timestamp": 1752766722770,
     "user": {
      "displayName": "Benjamin Bennett Alexander",
      "userId": "14614847693800833280"
     },
     "user_tz": -180
    },
    "id": "DinvMEmEnddE",
    "outputId": "d48d7c42-20e3-439c-8772-1fad9006f438"
   },
   "outputs": [
    {
     "name": "stdout",
     "output_type": "stream",
     "text": [
      " * sqlite:///zoo_data.db\n",
      "Done.\n"
     ]
    },
    {
     "data": {
      "text/html": [
       "<table>\n",
       "    <thead>\n",
       "        <tr>\n",
       "            <th>habitat</th>\n",
       "        </tr>\n",
       "    </thead>\n",
       "    <tbody>\n",
       "        <tr>\n",
       "            <td>savannah</td>\n",
       "        </tr>\n",
       "        <tr>\n",
       "            <td>Tropical Forest</td>\n",
       "        </tr>\n",
       "    </tbody>\n",
       "</table>"
      ],
      "text/plain": [
       "[('savannah',), ('Tropical Forest',)]"
      ]
     },
     "execution_count": 20,
     "metadata": {},
     "output_type": "execute_result"
    }
   ],
   "source": [
    "%%sql\n",
    "SELECT 'savannah' AS habitat\n",
    "\n",
    "UNION ALL -- Combining two queries\n",
    "\n",
    "SELECT 'Tropical Forest'\n",
    "ORDER BY habitat COLLATE NOCASE ASC;"
   ]
  },
  {
   "cell_type": "code",
   "execution_count": null,
   "id": "HXqaYX9VVrMX",
   "metadata": {
    "colab": {
     "base_uri": "https://localhost:8080/",
     "height": 177
    },
    "executionInfo": {
     "elapsed": 82,
     "status": "ok",
     "timestamp": 1752766722772,
     "user": {
      "displayName": "Benjamin Bennett Alexander",
      "userId": "14614847693800833280"
     },
     "user_tz": -180
    },
    "id": "HXqaYX9VVrMX",
    "outputId": "7a4501b5-e54a-432b-b816-2745cb3d4495"
   },
   "outputs": [
    {
     "name": "stdout",
     "output_type": "stream",
     "text": [
      " * sqlite:///zoo_data.db\n",
      "Done.\n"
     ]
    },
    {
     "data": {
      "text/html": [
       "<table>\n",
       "    <thead>\n",
       "        <tr>\n",
       "            <th>animal_id</th>\n",
       "            <th>habitat</th>\n",
       "            <th>name</th>\n",
       "            <th>species</th>\n",
       "            <th>age</th>\n",
       "        </tr>\n",
       "    </thead>\n",
       "    <tbody>\n",
       "        <tr>\n",
       "            <td>4</td>\n",
       "            <td>Tropical Forest</td>\n",
       "            <td>Manny</td>\n",
       "            <td>Monkey</td>\n",
       "            <td>3</td>\n",
       "        </tr>\n",
       "        <tr>\n",
       "            <td>1</td>\n",
       "            <td>Savannah</td>\n",
       "            <td>Leo</td>\n",
       "            <td>Lion</td>\n",
       "            <td>5</td>\n",
       "        </tr>\n",
       "        <tr>\n",
       "            <td>3</td>\n",
       "            <td>Savannah</td>\n",
       "            <td>Zara</td>\n",
       "            <td>Zebra</td>\n",
       "            <td>7</td>\n",
       "        </tr>\n",
       "        <tr>\n",
       "            <td>5</td>\n",
       "            <td>Savannah</td>\n",
       "            <td>Gerry</td>\n",
       "            <td>Giraffe</td>\n",
       "            <td>8</td>\n",
       "        </tr>\n",
       "        <tr>\n",
       "            <td>7</td>\n",
       "            <td>Rainforest</td>\n",
       "            <td>Tina</td>\n",
       "            <td>Tiger</td>\n",
       "            <td>6</td>\n",
       "        </tr>\n",
       "    </tbody>\n",
       "</table>"
      ],
      "text/plain": [
       "[(4, 'Tropical Forest', 'Manny', 'Monkey', 3),\n",
       " (1, 'Savannah', 'Leo', 'Lion', 5),\n",
       " (3, 'Savannah', 'Zara', 'Zebra', 7),\n",
       " (5, 'Savannah', 'Gerry', 'Giraffe', 8),\n",
       " (7, 'Rainforest', 'Tina', 'Tiger', 6)]"
      ]
     },
     "execution_count": 21,
     "metadata": {},
     "output_type": "execute_result"
    }
   ],
   "source": [
    "%%sql\n",
    "SELECT animal_id, habitat,  name, species, age\n",
    "FROM animals\n",
    "ORDER BY habitat DESC\n",
    "LIMIT 5;"
   ]
  },
  {
   "cell_type": "code",
   "execution_count": null,
   "id": "3Wl2nQFosx5i",
   "metadata": {
    "colab": {
     "base_uri": "https://localhost:8080/",
     "height": 177
    },
    "executionInfo": {
     "elapsed": 119,
     "status": "ok",
     "timestamp": 1752766722832,
     "user": {
      "displayName": "Benjamin Bennett Alexander",
      "userId": "14614847693800833280"
     },
     "user_tz": -180
    },
    "id": "3Wl2nQFosx5i",
    "outputId": "3c9caf7f-03fd-41dd-d4eb-ea1fe1f2dcef"
   },
   "outputs": [
    {
     "name": "stdout",
     "output_type": "stream",
     "text": [
      " * sqlite:///zoo_data.db\n",
      "Done.\n"
     ]
    },
    {
     "data": {
      "text/html": [
       "<table>\n",
       "    <thead>\n",
       "        <tr>\n",
       "            <th>animal_id</th>\n",
       "            <th>habitat</th>\n",
       "            <th>name</th>\n",
       "            <th>species</th>\n",
       "            <th>age</th>\n",
       "        </tr>\n",
       "    </thead>\n",
       "    <tbody>\n",
       "        <tr>\n",
       "            <td>2</td>\n",
       "            <td>Grasslands</td>\n",
       "            <td>Ellie</td>\n",
       "            <td>Elephant</td>\n",
       "            <td>10</td>\n",
       "        </tr>\n",
       "        <tr>\n",
       "            <td>4</td>\n",
       "            <td>Tropical Forest</td>\n",
       "            <td>Manny</td>\n",
       "            <td>Monkey</td>\n",
       "            <td>3</td>\n",
       "        </tr>\n",
       "        <tr>\n",
       "            <td>5</td>\n",
       "            <td>Savannah</td>\n",
       "            <td>Gerry</td>\n",
       "            <td>Giraffe</td>\n",
       "            <td>8</td>\n",
       "        </tr>\n",
       "        <tr>\n",
       "            <td>6</td>\n",
       "            <td>Polar</td>\n",
       "            <td>Perry</td>\n",
       "            <td>Penguin</td>\n",
       "            <td>4</td>\n",
       "        </tr>\n",
       "        <tr>\n",
       "            <td>8</td>\n",
       "            <td>Grasslands</td>\n",
       "            <td>Rocky</td>\n",
       "            <td>Rhinoceros</td>\n",
       "            <td>12</td>\n",
       "        </tr>\n",
       "    </tbody>\n",
       "</table>"
      ],
      "text/plain": [
       "[(2, 'Grasslands', 'Ellie', 'Elephant', 10),\n",
       " (4, 'Tropical Forest', 'Manny', 'Monkey', 3),\n",
       " (5, 'Savannah', 'Gerry', 'Giraffe', 8),\n",
       " (6, 'Polar', 'Perry', 'Penguin', 4),\n",
       " (8, 'Grasslands', 'Rocky', 'Rhinoceros', 12)]"
      ]
     },
     "execution_count": 22,
     "metadata": {},
     "output_type": "execute_result"
    }
   ],
   "source": [
    "%%sql\n",
    "SELECT animal_id, habitat,  name, species, age\n",
    "FROM animals\n",
    "ORDER BY LENGTH(name) DESC\n",
    "LIMIT 5;"
   ]
  },
  {
   "cell_type": "code",
   "execution_count": null,
   "id": "bajQpVQqklDI",
   "metadata": {
    "colab": {
     "base_uri": "https://localhost:8080/",
     "height": 94
    },
    "executionInfo": {
     "elapsed": 48,
     "status": "ok",
     "timestamp": 1752766722840,
     "user": {
      "displayName": "Benjamin Bennett Alexander",
      "userId": "14614847693800833280"
     },
     "user_tz": -180
    },
    "id": "bajQpVQqklDI",
    "outputId": "44896bfb-93e3-4550-9933-2139d8a400be"
   },
   "outputs": [
    {
     "name": "stdout",
     "output_type": "stream",
     "text": [
      " * sqlite:///zoo_data.db\n",
      "Done.\n"
     ]
    },
    {
     "data": {
      "text/html": [
       "<table>\n",
       "    <thead>\n",
       "        <tr>\n",
       "            <th>animal_id</th>\n",
       "            <th>name</th>\n",
       "            <th>species</th>\n",
       "            <th>age</th>\n",
       "            <th>habitat</th>\n",
       "        </tr>\n",
       "    </thead>\n",
       "    <tbody>\n",
       "        <tr>\n",
       "            <td>9</td>\n",
       "            <td>Sammy</td>\n",
       "            <td>Snake</td>\n",
       "            <td>2</td>\n",
       "            <td>Desert</td>\n",
       "        </tr>\n",
       "    </tbody>\n",
       "</table>"
      ],
      "text/plain": [
       "[(9, 'Sammy', 'Snake', 2, 'Desert')]"
      ]
     },
     "execution_count": 23,
     "metadata": {},
     "output_type": "execute_result"
    }
   ],
   "source": [
    "%%sql\n",
    "SELECT * FROM animals\n",
    "WHERE age = 2;"
   ]
  },
  {
   "cell_type": "code",
   "execution_count": null,
   "id": "3Nia4IE2k5dN",
   "metadata": {
    "colab": {
     "base_uri": "https://localhost:8080/",
     "height": 115
    },
    "executionInfo": {
     "elapsed": 70,
     "status": "ok",
     "timestamp": 1752766722912,
     "user": {
      "displayName": "Benjamin Bennett Alexander",
      "userId": "14614847693800833280"
     },
     "user_tz": -180
    },
    "id": "3Nia4IE2k5dN",
    "outputId": "8ea3d6bd-222d-4990-93ad-0080cf350cb9"
   },
   "outputs": [
    {
     "name": "stdout",
     "output_type": "stream",
     "text": [
      " * sqlite:///zoo_data.db\n",
      "Done.\n"
     ]
    },
    {
     "data": {
      "text/html": [
       "<table>\n",
       "    <thead>\n",
       "        <tr>\n",
       "            <th>animal_id</th>\n",
       "            <th>name</th>\n",
       "            <th>species</th>\n",
       "            <th>age</th>\n",
       "            <th>habitat</th>\n",
       "        </tr>\n",
       "    </thead>\n",
       "    <tbody>\n",
       "        <tr>\n",
       "            <td>3</td>\n",
       "            <td>Zara</td>\n",
       "            <td>Zebra</td>\n",
       "            <td>7</td>\n",
       "            <td>Savannah</td>\n",
       "        </tr>\n",
       "        <tr>\n",
       "            <td>5</td>\n",
       "            <td>Gerry</td>\n",
       "            <td>Giraffe</td>\n",
       "            <td>8</td>\n",
       "            <td>Savannah</td>\n",
       "        </tr>\n",
       "    </tbody>\n",
       "</table>"
      ],
      "text/plain": [
       "[(3, 'Zara', 'Zebra', 7, 'Savannah'), (5, 'Gerry', 'Giraffe', 8, 'Savannah')]"
      ]
     },
     "execution_count": 24,
     "metadata": {},
     "output_type": "execute_result"
    }
   ],
   "source": [
    "%%sql\n",
    "SELECT * FROM animals\n",
    "WHERE age > 5 AND habitat = 'Savannah';"
   ]
  },
  {
   "cell_type": "code",
   "execution_count": null,
   "id": "BHAXVOGllecu",
   "metadata": {
    "colab": {
     "base_uri": "https://localhost:8080/",
     "height": 219
    },
    "executionInfo": {
     "elapsed": 23,
     "status": "ok",
     "timestamp": 1752766722938,
     "user": {
      "displayName": "Benjamin Bennett Alexander",
      "userId": "14614847693800833280"
     },
     "user_tz": -180
    },
    "id": "BHAXVOGllecu",
    "outputId": "c914cf99-ca22-4fd9-b255-10257c1d6ccb"
   },
   "outputs": [
    {
     "name": "stdout",
     "output_type": "stream",
     "text": [
      " * sqlite:///zoo_data.db\n",
      "Done.\n"
     ]
    },
    {
     "data": {
      "text/html": [
       "<table>\n",
       "    <thead>\n",
       "        <tr>\n",
       "            <th>animal_id</th>\n",
       "            <th>name</th>\n",
       "            <th>species</th>\n",
       "            <th>age</th>\n",
       "            <th>habitat</th>\n",
       "        </tr>\n",
       "    </thead>\n",
       "    <tbody>\n",
       "        <tr>\n",
       "            <td>1</td>\n",
       "            <td>Leo</td>\n",
       "            <td>Lion</td>\n",
       "            <td>5</td>\n",
       "            <td>Savannah</td>\n",
       "        </tr>\n",
       "        <tr>\n",
       "            <td>2</td>\n",
       "            <td>Ellie</td>\n",
       "            <td>Elephant</td>\n",
       "            <td>10</td>\n",
       "            <td>Grasslands</td>\n",
       "        </tr>\n",
       "        <tr>\n",
       "            <td>3</td>\n",
       "            <td>Zara</td>\n",
       "            <td>Zebra</td>\n",
       "            <td>7</td>\n",
       "            <td>Savannah</td>\n",
       "        </tr>\n",
       "        <tr>\n",
       "            <td>5</td>\n",
       "            <td>Gerry</td>\n",
       "            <td>Giraffe</td>\n",
       "            <td>8</td>\n",
       "            <td>Savannah</td>\n",
       "        </tr>\n",
       "        <tr>\n",
       "            <td>7</td>\n",
       "            <td>Tina</td>\n",
       "            <td>Tiger</td>\n",
       "            <td>6</td>\n",
       "            <td>Rainforest</td>\n",
       "        </tr>\n",
       "        <tr>\n",
       "            <td>8</td>\n",
       "            <td>Rocky</td>\n",
       "            <td>Rhinoceros</td>\n",
       "            <td>12</td>\n",
       "            <td>Grasslands</td>\n",
       "        </tr>\n",
       "        <tr>\n",
       "            <td>10</td>\n",
       "            <td>Bella</td>\n",
       "            <td>Bear</td>\n",
       "            <td>9</td>\n",
       "            <td>Forest</td>\n",
       "        </tr>\n",
       "    </tbody>\n",
       "</table>"
      ],
      "text/plain": [
       "[(1, 'Leo', 'Lion', 5, 'Savannah'),\n",
       " (2, 'Ellie', 'Elephant', 10, 'Grasslands'),\n",
       " (3, 'Zara', 'Zebra', 7, 'Savannah'),\n",
       " (5, 'Gerry', 'Giraffe', 8, 'Savannah'),\n",
       " (7, 'Tina', 'Tiger', 6, 'Rainforest'),\n",
       " (8, 'Rocky', 'Rhinoceros', 12, 'Grasslands'),\n",
       " (10, 'Bella', 'Bear', 9, 'Forest')]"
      ]
     },
     "execution_count": 25,
     "metadata": {},
     "output_type": "execute_result"
    }
   ],
   "source": [
    "%%sql\n",
    "SELECT * FROM animals\n",
    "WHERE age > 5 OR habitat = 'Savannah';"
   ]
  },
  {
   "cell_type": "code",
   "execution_count": null,
   "id": "x0UgStwPmrBT",
   "metadata": {
    "colab": {
     "base_uri": "https://localhost:8080/",
     "height": 94
    },
    "executionInfo": {
     "elapsed": 30,
     "status": "ok",
     "timestamp": 1752766722973,
     "user": {
      "displayName": "Benjamin Bennett Alexander",
      "userId": "14614847693800833280"
     },
     "user_tz": -180
    },
    "id": "x0UgStwPmrBT",
    "outputId": "96162b5e-6f0d-4d61-aa1b-7bb39f84ea03"
   },
   "outputs": [
    {
     "name": "stdout",
     "output_type": "stream",
     "text": [
      " * sqlite:///zoo_data.db\n",
      "Done.\n"
     ]
    },
    {
     "data": {
      "text/html": [
       "<table>\n",
       "    <thead>\n",
       "        <tr>\n",
       "            <th>animal_id</th>\n",
       "            <th>name</th>\n",
       "            <th>species</th>\n",
       "            <th>age</th>\n",
       "            <th>habitat</th>\n",
       "        </tr>\n",
       "    </thead>\n",
       "    <tbody>\n",
       "        <tr>\n",
       "            <td>1</td>\n",
       "            <td>Leo</td>\n",
       "            <td>Lion</td>\n",
       "            <td>5</td>\n",
       "            <td>Savannah</td>\n",
       "        </tr>\n",
       "    </tbody>\n",
       "</table>"
      ],
      "text/plain": [
       "[(1, 'Leo', 'Lion', 5, 'Savannah')]"
      ]
     },
     "execution_count": 26,
     "metadata": {},
     "output_type": "execute_result"
    }
   ],
   "source": [
    "%%sql\n",
    "SELECT * FROM animals\n",
    "WHERE (age > 5 OR habitat = 'Savannah')\n",
    "      AND species = 'Lion';"
   ]
  },
  {
   "cell_type": "code",
   "execution_count": null,
   "id": "KqA4lZRsnkUA",
   "metadata": {
    "colab": {
     "base_uri": "https://localhost:8080/",
     "height": 177
    },
    "executionInfo": {
     "elapsed": 27,
     "status": "ok",
     "timestamp": 1752766723007,
     "user": {
      "displayName": "Benjamin Bennett Alexander",
      "userId": "14614847693800833280"
     },
     "user_tz": -180
    },
    "id": "KqA4lZRsnkUA",
    "outputId": "3a3fa090-0c2a-44eb-8966-9e3cdebd935e"
   },
   "outputs": [
    {
     "name": "stdout",
     "output_type": "stream",
     "text": [
      " * sqlite:///zoo_data.db\n",
      "Done.\n"
     ]
    },
    {
     "data": {
      "text/html": [
       "<table>\n",
       "    <thead>\n",
       "        <tr>\n",
       "            <th>animal_id</th>\n",
       "            <th>name</th>\n",
       "            <th>species</th>\n",
       "            <th>age</th>\n",
       "            <th>habitat</th>\n",
       "        </tr>\n",
       "    </thead>\n",
       "    <tbody>\n",
       "        <tr>\n",
       "            <td>4</td>\n",
       "            <td>Manny</td>\n",
       "            <td>Monkey</td>\n",
       "            <td>3</td>\n",
       "            <td>Tropical Forest</td>\n",
       "        </tr>\n",
       "        <tr>\n",
       "            <td>5</td>\n",
       "            <td>Gerry</td>\n",
       "            <td>Giraffe</td>\n",
       "            <td>8</td>\n",
       "            <td>Savannah</td>\n",
       "        </tr>\n",
       "        <tr>\n",
       "            <td>6</td>\n",
       "            <td>Perry</td>\n",
       "            <td>Penguin</td>\n",
       "            <td>4</td>\n",
       "            <td>Polar</td>\n",
       "        </tr>\n",
       "        <tr>\n",
       "            <td>8</td>\n",
       "            <td>Rocky</td>\n",
       "            <td>Rhinoceros</td>\n",
       "            <td>12</td>\n",
       "            <td>Grasslands</td>\n",
       "        </tr>\n",
       "        <tr>\n",
       "            <td>9</td>\n",
       "            <td>Sammy</td>\n",
       "            <td>Snake</td>\n",
       "            <td>2</td>\n",
       "            <td>Desert</td>\n",
       "        </tr>\n",
       "    </tbody>\n",
       "</table>"
      ],
      "text/plain": [
       "[(4, 'Manny', 'Monkey', 3, 'Tropical Forest'),\n",
       " (5, 'Gerry', 'Giraffe', 8, 'Savannah'),\n",
       " (6, 'Perry', 'Penguin', 4, 'Polar'),\n",
       " (8, 'Rocky', 'Rhinoceros', 12, 'Grasslands'),\n",
       " (9, 'Sammy', 'Snake', 2, 'Desert')]"
      ]
     },
     "execution_count": 27,
     "metadata": {},
     "output_type": "execute_result"
    }
   ],
   "source": [
    "%%sql\n",
    "SELECT * FROM animals\n",
    "WHERE name LIKE '%y';"
   ]
  },
  {
   "cell_type": "code",
   "execution_count": null,
   "id": "WippagLAlOV2",
   "metadata": {
    "colab": {
     "base_uri": "https://localhost:8080/",
     "height": 94
    },
    "executionInfo": {
     "elapsed": 61,
     "status": "ok",
     "timestamp": 1752766723071,
     "user": {
      "displayName": "Benjamin Bennett Alexander",
      "userId": "14614847693800833280"
     },
     "user_tz": -180
    },
    "id": "WippagLAlOV2",
    "outputId": "9ddcd3a3-778f-466d-c1fe-35ca482f2d3e"
   },
   "outputs": [
    {
     "name": "stdout",
     "output_type": "stream",
     "text": [
      " * sqlite:///zoo_data.db\n",
      "Done.\n"
     ]
    },
    {
     "data": {
      "text/html": [
       "<table>\n",
       "    <thead>\n",
       "        <tr>\n",
       "            <th>animal_id</th>\n",
       "            <th>name</th>\n",
       "            <th>species</th>\n",
       "            <th>age</th>\n",
       "            <th>habitat</th>\n",
       "        </tr>\n",
       "    </thead>\n",
       "    <tbody>\n",
       "        <tr>\n",
       "            <td>8</td>\n",
       "            <td>Rocky</td>\n",
       "            <td>Rhinoceros</td>\n",
       "            <td>12</td>\n",
       "            <td>Grasslands</td>\n",
       "        </tr>\n",
       "    </tbody>\n",
       "</table>"
      ],
      "text/plain": [
       "[(8, 'Rocky', 'Rhinoceros', 12, 'Grasslands')]"
      ]
     },
     "execution_count": 28,
     "metadata": {},
     "output_type": "execute_result"
    }
   ],
   "source": [
    "%%sql\n",
    "SELECT * FROM animals\n",
    "WHERE name LIKE 'R%y';"
   ]
  },
  {
   "cell_type": "code",
   "execution_count": null,
   "id": "I3xCyBuplS_m",
   "metadata": {
    "colab": {
     "base_uri": "https://localhost:8080/",
     "height": 115
    },
    "executionInfo": {
     "elapsed": 148,
     "status": "ok",
     "timestamp": 1752766723222,
     "user": {
      "displayName": "Benjamin Bennett Alexander",
      "userId": "14614847693800833280"
     },
     "user_tz": -180
    },
    "id": "I3xCyBuplS_m",
    "outputId": "34e0a289-78a5-4e69-f068-3d2e619aaa10"
   },
   "outputs": [
    {
     "name": "stdout",
     "output_type": "stream",
     "text": [
      " * sqlite:///zoo_data.db\n",
      "Done.\n"
     ]
    },
    {
     "data": {
      "text/html": [
       "<table>\n",
       "    <thead>\n",
       "        <tr>\n",
       "            <th>animal_id</th>\n",
       "            <th>name</th>\n",
       "            <th>species</th>\n",
       "            <th>age</th>\n",
       "            <th>habitat</th>\n",
       "        </tr>\n",
       "    </thead>\n",
       "    <tbody>\n",
       "        <tr>\n",
       "            <td>5</td>\n",
       "            <td>Gerry</td>\n",
       "            <td>Giraffe</td>\n",
       "            <td>8</td>\n",
       "            <td>Savannah</td>\n",
       "        </tr>\n",
       "        <tr>\n",
       "            <td>6</td>\n",
       "            <td>Perry</td>\n",
       "            <td>Penguin</td>\n",
       "            <td>4</td>\n",
       "            <td>Polar</td>\n",
       "        </tr>\n",
       "    </tbody>\n",
       "</table>"
      ],
      "text/plain": [
       "[(5, 'Gerry', 'Giraffe', 8, 'Savannah'), (6, 'Perry', 'Penguin', 4, 'Polar')]"
      ]
     },
     "execution_count": 29,
     "metadata": {},
     "output_type": "execute_result"
    }
   ],
   "source": [
    "%%sql\n",
    "SELECT * FROM animals\n",
    "WHERE name LIKE '%er%';"
   ]
  },
  {
   "cell_type": "code",
   "execution_count": null,
   "id": "pLPgh2mPlmIX",
   "metadata": {
    "colab": {
     "base_uri": "https://localhost:8080/",
     "height": 115
    },
    "executionInfo": {
     "elapsed": 124,
     "status": "ok",
     "timestamp": 1752766723223,
     "user": {
      "displayName": "Benjamin Bennett Alexander",
      "userId": "14614847693800833280"
     },
     "user_tz": -180
    },
    "id": "pLPgh2mPlmIX",
    "outputId": "c9f644a4-d97c-4c1c-aee5-ecc4fe05a222"
   },
   "outputs": [
    {
     "name": "stdout",
     "output_type": "stream",
     "text": [
      " * sqlite:///zoo_data.db\n",
      "Done.\n"
     ]
    },
    {
     "data": {
      "text/html": [
       "<table>\n",
       "    <thead>\n",
       "        <tr>\n",
       "            <th>animal_id</th>\n",
       "            <th>name</th>\n",
       "            <th>species</th>\n",
       "            <th>age</th>\n",
       "            <th>habitat</th>\n",
       "        </tr>\n",
       "    </thead>\n",
       "    <tbody>\n",
       "        <tr>\n",
       "            <td>5</td>\n",
       "            <td>Gerry</td>\n",
       "            <td>Giraffe</td>\n",
       "            <td>8</td>\n",
       "            <td>Savannah</td>\n",
       "        </tr>\n",
       "        <tr>\n",
       "            <td>6</td>\n",
       "            <td>Perry</td>\n",
       "            <td>Penguin</td>\n",
       "            <td>4</td>\n",
       "            <td>Polar</td>\n",
       "        </tr>\n",
       "    </tbody>\n",
       "</table>"
      ],
      "text/plain": [
       "[(5, 'Gerry', 'Giraffe', 8, 'Savannah'), (6, 'Perry', 'Penguin', 4, 'Polar')]"
      ]
     },
     "execution_count": 30,
     "metadata": {},
     "output_type": "execute_result"
    }
   ],
   "source": [
    "%%sql\n",
    "SELECT * FROM animals\n",
    "WHERE name LIKE '_e_r%';"
   ]
  },
  {
   "cell_type": "code",
   "execution_count": null,
   "id": "_HuY00QOPGIp",
   "metadata": {
    "colab": {
     "base_uri": "https://localhost:8080/",
     "height": 94
    },
    "executionInfo": {
     "elapsed": 95,
     "status": "ok",
     "timestamp": 1752766723224,
     "user": {
      "displayName": "Benjamin Bennett Alexander",
      "userId": "14614847693800833280"
     },
     "user_tz": -180
    },
    "id": "_HuY00QOPGIp",
    "outputId": "1e482f0b-54d2-478a-8c5c-8fa768e8039f"
   },
   "outputs": [
    {
     "name": "stdout",
     "output_type": "stream",
     "text": [
      " * sqlite:///zoo_data.db\n",
      "Done.\n"
     ]
    },
    {
     "data": {
      "text/html": [
       "<table>\n",
       "    <thead>\n",
       "        <tr>\n",
       "            <th>animal_id</th>\n",
       "            <th>name</th>\n",
       "            <th>species</th>\n",
       "            <th>age</th>\n",
       "            <th>habitat</th>\n",
       "        </tr>\n",
       "    </thead>\n",
       "    <tbody>\n",
       "        <tr>\n",
       "            <td>4</td>\n",
       "            <td>Manny</td>\n",
       "            <td>Monkey</td>\n",
       "            <td>3</td>\n",
       "            <td>Tropical Forest</td>\n",
       "        </tr>\n",
       "    </tbody>\n",
       "</table>"
      ],
      "text/plain": [
       "[(4, 'Manny', 'Monkey', 3, 'Tropical Forest')]"
      ]
     },
     "execution_count": 31,
     "metadata": {},
     "output_type": "execute_result"
    }
   ],
   "source": [
    "%%sql\n",
    "SELECT * FROM animals\n",
    "WHERE name LIKE 'm%';"
   ]
  },
  {
   "cell_type": "code",
   "execution_count": null,
   "id": "GeM-PVXTn_sX",
   "metadata": {
    "colab": {
     "base_uri": "https://localhost:8080/",
     "height": 74
    },
    "executionInfo": {
     "elapsed": 36,
     "status": "ok",
     "timestamp": 1752766723237,
     "user": {
      "displayName": "Benjamin Bennett Alexander",
      "userId": "14614847693800833280"
     },
     "user_tz": -180
    },
    "id": "GeM-PVXTn_sX",
    "outputId": "7eedf93d-c4aa-4a44-cfe3-a4da86264830"
   },
   "outputs": [
    {
     "name": "stdout",
     "output_type": "stream",
     "text": [
      " * sqlite:///zoo_data.db\n",
      "Done.\n"
     ]
    },
    {
     "data": {
      "text/html": [
       "<table>\n",
       "    <thead>\n",
       "        <tr>\n",
       "            <th>animal_id</th>\n",
       "            <th>name</th>\n",
       "            <th>species</th>\n",
       "            <th>age</th>\n",
       "            <th>habitat</th>\n",
       "        </tr>\n",
       "    </thead>\n",
       "    <tbody>\n",
       "    </tbody>\n",
       "</table>"
      ],
      "text/plain": [
       "[]"
      ]
     },
     "execution_count": 32,
     "metadata": {},
     "output_type": "execute_result"
    }
   ],
   "source": [
    "%%sql\n",
    "SELECT * FROM animals\n",
    "WHERE name GLOB 'm*';"
   ]
  },
  {
   "cell_type": "code",
   "execution_count": null,
   "id": "HS1visk8BGCK",
   "metadata": {
    "colab": {
     "base_uri": "https://localhost:8080/",
     "height": 136
    },
    "executionInfo": {
     "elapsed": 42,
     "status": "ok",
     "timestamp": 1752766723280,
     "user": {
      "displayName": "Benjamin Bennett Alexander",
      "userId": "14614847693800833280"
     },
     "user_tz": -180
    },
    "id": "HS1visk8BGCK",
    "outputId": "a1f7b554-fae6-4091-be1c-fc63f50c935d"
   },
   "outputs": [
    {
     "name": "stdout",
     "output_type": "stream",
     "text": [
      " * sqlite:///zoo_data.db\n",
      "Done.\n"
     ]
    },
    {
     "data": {
      "text/html": [
       "<table>\n",
       "    <thead>\n",
       "        <tr>\n",
       "            <th>animal_id</th>\n",
       "            <th>name</th>\n",
       "            <th>species</th>\n",
       "            <th>age</th>\n",
       "            <th>habitat</th>\n",
       "        </tr>\n",
       "    </thead>\n",
       "    <tbody>\n",
       "        <tr>\n",
       "            <td>1</td>\n",
       "            <td>Leo</td>\n",
       "            <td>Lion</td>\n",
       "            <td>5</td>\n",
       "            <td>Savannah</td>\n",
       "        </tr>\n",
       "        <tr>\n",
       "            <td>4</td>\n",
       "            <td>Manny</td>\n",
       "            <td>Monkey</td>\n",
       "            <td>3</td>\n",
       "            <td>Tropical Forest</td>\n",
       "        </tr>\n",
       "        <tr>\n",
       "            <td>6</td>\n",
       "            <td>Perry</td>\n",
       "            <td>Penguin</td>\n",
       "            <td>4</td>\n",
       "            <td>Polar</td>\n",
       "        </tr>\n",
       "    </tbody>\n",
       "</table>"
      ],
      "text/plain": [
       "[(1, 'Leo', 'Lion', 5, 'Savannah'),\n",
       " (4, 'Manny', 'Monkey', 3, 'Tropical Forest'),\n",
       " (6, 'Perry', 'Penguin', 4, 'Polar')]"
      ]
     },
     "execution_count": 33,
     "metadata": {},
     "output_type": "execute_result"
    }
   ],
   "source": [
    "%%sql\n",
    "SELECT * FROM animals\n",
    "WHERE age BETWEEN 3 AND 5;"
   ]
  },
  {
   "cell_type": "code",
   "execution_count": null,
   "id": "9M7fzQogBVAH",
   "metadata": {
    "colab": {
     "base_uri": "https://localhost:8080/",
     "height": 177
    },
    "executionInfo": {
     "elapsed": 74,
     "status": "ok",
     "timestamp": 1752766723364,
     "user": {
      "displayName": "Benjamin Bennett Alexander",
      "userId": "14614847693800833280"
     },
     "user_tz": -180
    },
    "id": "9M7fzQogBVAH",
    "outputId": "cc0a5941-8789-4b13-8861-6bab6da4ced5"
   },
   "outputs": [
    {
     "name": "stdout",
     "output_type": "stream",
     "text": [
      " * sqlite:///zoo_data.db\n",
      "Done.\n"
     ]
    },
    {
     "data": {
      "text/html": [
       "<table>\n",
       "    <thead>\n",
       "        <tr>\n",
       "            <th>animal_id</th>\n",
       "            <th>name</th>\n",
       "            <th>species</th>\n",
       "            <th>age</th>\n",
       "            <th>habitat</th>\n",
       "        </tr>\n",
       "    </thead>\n",
       "    <tbody>\n",
       "        <tr>\n",
       "            <td>1</td>\n",
       "            <td>Leo</td>\n",
       "            <td>Lion</td>\n",
       "            <td>5</td>\n",
       "            <td>Savannah</td>\n",
       "        </tr>\n",
       "        <tr>\n",
       "            <td>4</td>\n",
       "            <td>Manny</td>\n",
       "            <td>Monkey</td>\n",
       "            <td>3</td>\n",
       "            <td>Tropical Forest</td>\n",
       "        </tr>\n",
       "        <tr>\n",
       "            <td>6</td>\n",
       "            <td>Perry</td>\n",
       "            <td>Penguin</td>\n",
       "            <td>4</td>\n",
       "            <td>Polar</td>\n",
       "        </tr>\n",
       "        <tr>\n",
       "            <td>8</td>\n",
       "            <td>Rocky</td>\n",
       "            <td>Rhinoceros</td>\n",
       "            <td>12</td>\n",
       "            <td>Grasslands</td>\n",
       "        </tr>\n",
       "        <tr>\n",
       "            <td>9</td>\n",
       "            <td>Sammy</td>\n",
       "            <td>Snake</td>\n",
       "            <td>2</td>\n",
       "            <td>Desert</td>\n",
       "        </tr>\n",
       "    </tbody>\n",
       "</table>"
      ],
      "text/plain": [
       "[(1, 'Leo', 'Lion', 5, 'Savannah'),\n",
       " (4, 'Manny', 'Monkey', 3, 'Tropical Forest'),\n",
       " (6, 'Perry', 'Penguin', 4, 'Polar'),\n",
       " (8, 'Rocky', 'Rhinoceros', 12, 'Grasslands'),\n",
       " (9, 'Sammy', 'Snake', 2, 'Desert')]"
      ]
     },
     "execution_count": 34,
     "metadata": {},
     "output_type": "execute_result"
    }
   ],
   "source": [
    "%%sql\n",
    "SELECT * FROM animals\n",
    "WHERE name BETWEEN 'L' AND 'T';"
   ]
  },
  {
   "cell_type": "code",
   "execution_count": null,
   "id": "OhGdhywPB8iW",
   "metadata": {
    "colab": {
     "base_uri": "https://localhost:8080/",
     "height": 177
    },
    "executionInfo": {
     "elapsed": 25,
     "status": "ok",
     "timestamp": 1752766723384,
     "user": {
      "displayName": "Benjamin Bennett Alexander",
      "userId": "14614847693800833280"
     },
     "user_tz": -180
    },
    "id": "OhGdhywPB8iW",
    "outputId": "b082a0ff-cc54-4f94-a98d-63947ff66787"
   },
   "outputs": [
    {
     "name": "stdout",
     "output_type": "stream",
     "text": [
      " * sqlite:///zoo_data.db\n",
      "Done.\n"
     ]
    },
    {
     "data": {
      "text/html": [
       "<table>\n",
       "    <thead>\n",
       "        <tr>\n",
       "            <th>animal_id</th>\n",
       "            <th>name</th>\n",
       "            <th>species</th>\n",
       "            <th>age</th>\n",
       "            <th>habitat</th>\n",
       "        </tr>\n",
       "    </thead>\n",
       "    <tbody>\n",
       "        <tr>\n",
       "            <td>1</td>\n",
       "            <td>Leo</td>\n",
       "            <td>Lion</td>\n",
       "            <td>5</td>\n",
       "            <td>Savannah</td>\n",
       "        </tr>\n",
       "        <tr>\n",
       "            <td>3</td>\n",
       "            <td>Zara</td>\n",
       "            <td>Zebra</td>\n",
       "            <td>7</td>\n",
       "            <td>Savannah</td>\n",
       "        </tr>\n",
       "        <tr>\n",
       "            <td>5</td>\n",
       "            <td>Gerry</td>\n",
       "            <td>Giraffe</td>\n",
       "            <td>8</td>\n",
       "            <td>Savannah</td>\n",
       "        </tr>\n",
       "        <tr>\n",
       "            <td>6</td>\n",
       "            <td>Perry</td>\n",
       "            <td>Penguin</td>\n",
       "            <td>4</td>\n",
       "            <td>Polar</td>\n",
       "        </tr>\n",
       "        <tr>\n",
       "            <td>7</td>\n",
       "            <td>Tina</td>\n",
       "            <td>Tiger</td>\n",
       "            <td>6</td>\n",
       "            <td>Rainforest</td>\n",
       "        </tr>\n",
       "    </tbody>\n",
       "</table>"
      ],
      "text/plain": [
       "[(1, 'Leo', 'Lion', 5, 'Savannah'),\n",
       " (3, 'Zara', 'Zebra', 7, 'Savannah'),\n",
       " (5, 'Gerry', 'Giraffe', 8, 'Savannah'),\n",
       " (6, 'Perry', 'Penguin', 4, 'Polar'),\n",
       " (7, 'Tina', 'Tiger', 6, 'Rainforest')]"
      ]
     },
     "execution_count": 35,
     "metadata": {},
     "output_type": "execute_result"
    }
   ],
   "source": [
    "%%sql\n",
    "SELECT * FROM animals\n",
    "WHERE habitat BETWEEN 'Polar'\n",
    "      AND 'Savannah';"
   ]
  },
  {
   "cell_type": "code",
   "execution_count": null,
   "id": "mOJNtbj1CY_l",
   "metadata": {
    "colab": {
     "base_uri": "https://localhost:8080/",
     "height": 136
    },
    "executionInfo": {
     "elapsed": 35,
     "status": "ok",
     "timestamp": 1752766723422,
     "user": {
      "displayName": "Benjamin Bennett Alexander",
      "userId": "14614847693800833280"
     },
     "user_tz": -180
    },
    "id": "mOJNtbj1CY_l",
    "outputId": "2c2a4c37-9704-480b-dcb5-170db45ed0ad"
   },
   "outputs": [
    {
     "name": "stdout",
     "output_type": "stream",
     "text": [
      " * sqlite:///zoo_data.db\n",
      "Done.\n"
     ]
    },
    {
     "data": {
      "text/html": [
       "<table>\n",
       "    <thead>\n",
       "        <tr>\n",
       "            <th>name</th>\n",
       "            <th>age</th>\n",
       "        </tr>\n",
       "    </thead>\n",
       "    <tbody>\n",
       "        <tr>\n",
       "            <td>Zara</td>\n",
       "            <td>7</td>\n",
       "        </tr>\n",
       "        <tr>\n",
       "            <td>Perry</td>\n",
       "            <td>4</td>\n",
       "        </tr>\n",
       "        <tr>\n",
       "            <td>Sammy</td>\n",
       "            <td>2</td>\n",
       "        </tr>\n",
       "    </tbody>\n",
       "</table>"
      ],
      "text/plain": [
       "[('Zara', 7), ('Perry', 4), ('Sammy', 2)]"
      ]
     },
     "execution_count": 36,
     "metadata": {},
     "output_type": "execute_result"
    }
   ],
   "source": [
    "%%sql\n",
    "SELECT name, age\n",
    "FROM animals\n",
    "WHERE name IN ('Perry', 'Zara', 'Sammy');"
   ]
  },
  {
   "cell_type": "code",
   "execution_count": null,
   "id": "2Sc6NDk0Zy7M",
   "metadata": {
    "colab": {
     "base_uri": "https://localhost:8080/",
     "height": 136
    },
    "executionInfo": {
     "elapsed": 67,
     "status": "ok",
     "timestamp": 1752766723496,
     "user": {
      "displayName": "Benjamin Bennett Alexander",
      "userId": "14614847693800833280"
     },
     "user_tz": -180
    },
    "id": "2Sc6NDk0Zy7M",
    "outputId": "eff054fc-5b79-446c-8a3f-329d13fe470e"
   },
   "outputs": [
    {
     "name": "stdout",
     "output_type": "stream",
     "text": [
      " * sqlite:///zoo_data.db\n",
      "Done.\n"
     ]
    },
    {
     "data": {
      "text/html": [
       "<table>\n",
       "    <thead>\n",
       "        <tr>\n",
       "            <th>name</th>\n",
       "            <th>age</th>\n",
       "        </tr>\n",
       "    </thead>\n",
       "    <tbody>\n",
       "        <tr>\n",
       "            <td>Zara</td>\n",
       "            <td>7</td>\n",
       "        </tr>\n",
       "        <tr>\n",
       "            <td>Perry</td>\n",
       "            <td>4</td>\n",
       "        </tr>\n",
       "        <tr>\n",
       "            <td>Sammy</td>\n",
       "            <td>2</td>\n",
       "        </tr>\n",
       "    </tbody>\n",
       "</table>"
      ],
      "text/plain": [
       "[('Zara', 7), ('Perry', 4), ('Sammy', 2)]"
      ]
     },
     "execution_count": 37,
     "metadata": {},
     "output_type": "execute_result"
    }
   ],
   "source": [
    "%%sql\n",
    "SELECT name, age\n",
    "FROM animals\n",
    "WHERE name = 'Perry' OR name = 'Zara'\n",
    "              OR name = 'Sammy';"
   ]
  },
  {
   "cell_type": "code",
   "execution_count": null,
   "id": "bjyFUwJRCys_",
   "metadata": {
    "colab": {
     "base_uri": "https://localhost:8080/",
     "height": 219
    },
    "executionInfo": {
     "elapsed": 23,
     "status": "ok",
     "timestamp": 1752766723522,
     "user": {
      "displayName": "Benjamin Bennett Alexander",
      "userId": "14614847693800833280"
     },
     "user_tz": -180
    },
    "id": "bjyFUwJRCys_",
    "outputId": "1ae9b2d8-bbc5-4587-cd22-d2dbe5b84ae6"
   },
   "outputs": [
    {
     "name": "stdout",
     "output_type": "stream",
     "text": [
      " * sqlite:///zoo_data.db\n",
      "Done.\n"
     ]
    },
    {
     "data": {
      "text/html": [
       "<table>\n",
       "    <thead>\n",
       "        <tr>\n",
       "            <th>habitat</th>\n",
       "        </tr>\n",
       "    </thead>\n",
       "    <tbody>\n",
       "        <tr>\n",
       "            <td>Savannah</td>\n",
       "        </tr>\n",
       "        <tr>\n",
       "            <td>Grasslands</td>\n",
       "        </tr>\n",
       "        <tr>\n",
       "            <td>Tropical Forest</td>\n",
       "        </tr>\n",
       "        <tr>\n",
       "            <td>Polar</td>\n",
       "        </tr>\n",
       "        <tr>\n",
       "            <td>Rainforest</td>\n",
       "        </tr>\n",
       "        <tr>\n",
       "            <td>Desert</td>\n",
       "        </tr>\n",
       "        <tr>\n",
       "            <td>Forest</td>\n",
       "        </tr>\n",
       "    </tbody>\n",
       "</table>"
      ],
      "text/plain": [
       "[('Savannah',),\n",
       " ('Grasslands',),\n",
       " ('Tropical Forest',),\n",
       " ('Polar',),\n",
       " ('Rainforest',),\n",
       " ('Desert',),\n",
       " ('Forest',)]"
      ]
     },
     "execution_count": 38,
     "metadata": {},
     "output_type": "execute_result"
    }
   ],
   "source": [
    "%%sql\n",
    "SELECT DISTINCT habitat\n",
    "FROM animals;"
   ]
  },
  {
   "cell_type": "code",
   "execution_count": null,
   "id": "_G2p7HcIxSHm",
   "metadata": {
    "colab": {
     "base_uri": "https://localhost:8080/",
     "height": 281
    },
    "executionInfo": {
     "elapsed": 33,
     "status": "ok",
     "timestamp": 1752766723558,
     "user": {
      "displayName": "Benjamin Bennett Alexander",
      "userId": "14614847693800833280"
     },
     "user_tz": -180
    },
    "id": "_G2p7HcIxSHm",
    "outputId": "4acf972d-826a-4f95-d42d-19d00e00ff29"
   },
   "outputs": [
    {
     "name": "stdout",
     "output_type": "stream",
     "text": [
      " * sqlite:///zoo_data.db\n",
      "Done.\n"
     ]
    },
    {
     "data": {
      "text/html": [
       "<table>\n",
       "    <thead>\n",
       "        <tr>\n",
       "            <th>name</th>\n",
       "            <th>habitat</th>\n",
       "        </tr>\n",
       "    </thead>\n",
       "    <tbody>\n",
       "        <tr>\n",
       "            <td>Leo</td>\n",
       "            <td>Savannah</td>\n",
       "        </tr>\n",
       "        <tr>\n",
       "            <td>Ellie</td>\n",
       "            <td>Grasslands</td>\n",
       "        </tr>\n",
       "        <tr>\n",
       "            <td>Zara</td>\n",
       "            <td>Savannah</td>\n",
       "        </tr>\n",
       "        <tr>\n",
       "            <td>Manny</td>\n",
       "            <td>Tropical Forest</td>\n",
       "        </tr>\n",
       "        <tr>\n",
       "            <td>Gerry</td>\n",
       "            <td>Savannah</td>\n",
       "        </tr>\n",
       "        <tr>\n",
       "            <td>Perry</td>\n",
       "            <td>Polar</td>\n",
       "        </tr>\n",
       "        <tr>\n",
       "            <td>Tina</td>\n",
       "            <td>Rainforest</td>\n",
       "        </tr>\n",
       "        <tr>\n",
       "            <td>Rocky</td>\n",
       "            <td>Grasslands</td>\n",
       "        </tr>\n",
       "        <tr>\n",
       "            <td>Sammy</td>\n",
       "            <td>Desert</td>\n",
       "        </tr>\n",
       "        <tr>\n",
       "            <td>Bella</td>\n",
       "            <td>Forest</td>\n",
       "        </tr>\n",
       "    </tbody>\n",
       "</table>"
      ],
      "text/plain": [
       "[('Leo', 'Savannah'),\n",
       " ('Ellie', 'Grasslands'),\n",
       " ('Zara', 'Savannah'),\n",
       " ('Manny', 'Tropical Forest'),\n",
       " ('Gerry', 'Savannah'),\n",
       " ('Perry', 'Polar'),\n",
       " ('Tina', 'Rainforest'),\n",
       " ('Rocky', 'Grasslands'),\n",
       " ('Sammy', 'Desert'),\n",
       " ('Bella', 'Forest')]"
      ]
     },
     "execution_count": 39,
     "metadata": {},
     "output_type": "execute_result"
    }
   ],
   "source": [
    "%%sql\n",
    "SELECT DISTINCT name, habitat\n",
    "FROM animals;"
   ]
  },
  {
   "cell_type": "code",
   "execution_count": null,
   "id": "zqf2ECXg4iZr",
   "metadata": {
    "colab": {
     "base_uri": "https://localhost:8080/",
     "height": 115
    },
    "executionInfo": {
     "elapsed": 61,
     "status": "ok",
     "timestamp": 1752766723643,
     "user": {
      "displayName": "Benjamin Bennett Alexander",
      "userId": "14614847693800833280"
     },
     "user_tz": -180
    },
    "id": "zqf2ECXg4iZr",
    "outputId": "0cd960a2-e28a-4063-e31d-ec9cccfd272a"
   },
   "outputs": [
    {
     "name": "stdout",
     "output_type": "stream",
     "text": [
      " * sqlite:///zoo_data.db\n",
      "Done.\n"
     ]
    },
    {
     "data": {
      "text/html": [
       "<table>\n",
       "    <thead>\n",
       "        <tr>\n",
       "            <th>habitat</th>\n",
       "        </tr>\n",
       "    </thead>\n",
       "    <tbody>\n",
       "        <tr>\n",
       "            <td>SAVANNAH</td>\n",
       "        </tr>\n",
       "        <tr>\n",
       "            <td>Savannah</td>\n",
       "        </tr>\n",
       "    </tbody>\n",
       "</table>"
      ],
      "text/plain": [
       "[('SAVANNAH',), ('Savannah',)]"
      ]
     },
     "execution_count": 40,
     "metadata": {},
     "output_type": "execute_result"
    }
   ],
   "source": [
    "%%sql\n",
    "SELECT DISTINCT habitat\n",
    "FROM (\n",
    "    SELECT 'Savannah' AS habitat\n",
    "    UNION\n",
    "    SELECT 'SAVANNAH'\n",
    ");"
   ]
  },
  {
   "cell_type": "code",
   "execution_count": null,
   "id": "wX0x2B4g44ms",
   "metadata": {
    "colab": {
     "base_uri": "https://localhost:8080/",
     "height": 94
    },
    "executionInfo": {
     "elapsed": 538,
     "status": "ok",
     "timestamp": 1752766724185,
     "user": {
      "displayName": "Benjamin Bennett Alexander",
      "userId": "14614847693800833280"
     },
     "user_tz": -180
    },
    "id": "wX0x2B4g44ms",
    "outputId": "be57adb5-dff3-4cf7-8bbc-1dbe0ff3eaad"
   },
   "outputs": [
    {
     "name": "stdout",
     "output_type": "stream",
     "text": [
      " * sqlite:///zoo_data.db\n",
      "Done.\n"
     ]
    },
    {
     "data": {
      "text/html": [
       "<table>\n",
       "    <thead>\n",
       "        <tr>\n",
       "            <th>habitat</th>\n",
       "        </tr>\n",
       "    </thead>\n",
       "    <tbody>\n",
       "        <tr>\n",
       "            <td>savannah</td>\n",
       "        </tr>\n",
       "    </tbody>\n",
       "</table>"
      ],
      "text/plain": [
       "[('savannah',)]"
      ]
     },
     "execution_count": 41,
     "metadata": {},
     "output_type": "execute_result"
    }
   ],
   "source": [
    "%%sql\n",
    "SELECT DISTINCT LOWER(habitat) AS habitat\n",
    "FROM (\n",
    "    SELECT 'Savannah' AS habitat\n",
    "    UNION ALL\n",
    "    SELECT 'SAVANNAH'\n",
    ");"
   ]
  },
  {
   "cell_type": "code",
   "execution_count": null,
   "id": "envZ52ly6MUF",
   "metadata": {
    "colab": {
     "base_uri": "https://localhost:8080/",
     "height": 94
    },
    "executionInfo": {
     "elapsed": 227,
     "status": "ok",
     "timestamp": 1752766724214,
     "user": {
      "displayName": "Benjamin Bennett Alexander",
      "userId": "14614847693800833280"
     },
     "user_tz": -180
    },
    "id": "envZ52ly6MUF",
    "outputId": "fdf57847-e892-4084-a5fb-f1cded2b129f"
   },
   "outputs": [
    {
     "name": "stdout",
     "output_type": "stream",
     "text": [
      " * sqlite:///zoo_data.db\n",
      "Done.\n"
     ]
    },
    {
     "data": {
      "text/html": [
       "<table>\n",
       "    <thead>\n",
       "        <tr>\n",
       "            <th>habitat</th>\n",
       "        </tr>\n",
       "    </thead>\n",
       "    <tbody>\n",
       "        <tr>\n",
       "            <td>Savannah</td>\n",
       "        </tr>\n",
       "    </tbody>\n",
       "</table>"
      ],
      "text/plain": [
       "[('Savannah',)]"
      ]
     },
     "execution_count": 42,
     "metadata": {},
     "output_type": "execute_result"
    }
   ],
   "source": [
    "%%sql\n",
    "SELECT DISTINCT habitat COLLATE NOCASE AS habitat\n",
    "FROM (\n",
    "    SELECT 'Savannah' AS habitat\n",
    "    UNION ALL\n",
    "    SELECT 'SAVANNAH'\n",
    ");"
   ]
  },
  {
   "cell_type": "code",
   "execution_count": null,
   "id": "SjZbnEI-GIm_",
   "metadata": {
    "colab": {
     "base_uri": "https://localhost:8080/",
     "height": 94
    },
    "executionInfo": {
     "elapsed": 168,
     "status": "ok",
     "timestamp": 1752766724215,
     "user": {
      "displayName": "Benjamin Bennett Alexander",
      "userId": "14614847693800833280"
     },
     "user_tz": -180
    },
    "id": "SjZbnEI-GIm_",
    "outputId": "37e9566c-23e6-4f87-d194-2e83957a11fd"
   },
   "outputs": [
    {
     "name": "stdout",
     "output_type": "stream",
     "text": [
      " * sqlite:///zoo_data.db\n",
      "Done.\n"
     ]
    },
    {
     "data": {
      "text/html": [
       "<table>\n",
       "    <thead>\n",
       "        <tr>\n",
       "            <th>number_of_values_in_habitat</th>\n",
       "        </tr>\n",
       "    </thead>\n",
       "    <tbody>\n",
       "        <tr>\n",
       "            <td>10</td>\n",
       "        </tr>\n",
       "    </tbody>\n",
       "</table>"
      ],
      "text/plain": [
       "[(10,)]"
      ]
     },
     "execution_count": 43,
     "metadata": {},
     "output_type": "execute_result"
    }
   ],
   "source": [
    "%%sql\n",
    "SELECT COUNT(habitat) AS number_of_values_in_habitat\n",
    "FROM animals;"
   ]
  },
  {
   "cell_type": "code",
   "execution_count": null,
   "id": "FiC3_saDiZI8",
   "metadata": {
    "id": "FiC3_saDiZI8"
   },
   "outputs": [],
   "source": []
  },
  {
   "cell_type": "code",
   "execution_count": null,
   "id": "RB6lC8R7D1nk",
   "metadata": {
    "colab": {
     "base_uri": "https://localhost:8080/",
     "height": 94
    },
    "executionInfo": {
     "elapsed": 196,
     "status": "ok",
     "timestamp": 1752766724473,
     "user": {
      "displayName": "Benjamin Bennett Alexander",
      "userId": "14614847693800833280"
     },
     "user_tz": -180
    },
    "id": "RB6lC8R7D1nk",
    "outputId": "0ccaf36b-39be-465c-ea70-b744e7b819d7"
   },
   "outputs": [
    {
     "name": "stdout",
     "output_type": "stream",
     "text": [
      " * sqlite:///zoo_data.db\n",
      "Done.\n"
     ]
    },
    {
     "data": {
      "text/html": [
       "<table>\n",
       "    <thead>\n",
       "        <tr>\n",
       "            <th>unique_values_in_habitat</th>\n",
       "        </tr>\n",
       "    </thead>\n",
       "    <tbody>\n",
       "        <tr>\n",
       "            <td>7</td>\n",
       "        </tr>\n",
       "    </tbody>\n",
       "</table>"
      ],
      "text/plain": [
       "[(7,)]"
      ]
     },
     "execution_count": 44,
     "metadata": {},
     "output_type": "execute_result"
    }
   ],
   "source": [
    "%%sql\n",
    "SELECT COUNT(DISTINCT(habitat))\n",
    "        AS unique_values_in_habitat\n",
    "FROM animals;"
   ]
  },
  {
   "cell_type": "code",
   "execution_count": null,
   "id": "VK2K8XVwE0Qt",
   "metadata": {
    "colab": {
     "base_uri": "https://localhost:8080/",
     "height": 94
    },
    "executionInfo": {
     "elapsed": 154,
     "status": "ok",
     "timestamp": 1752766724478,
     "user": {
      "displayName": "Benjamin Bennett Alexander",
      "userId": "14614847693800833280"
     },
     "user_tz": -180
    },
    "id": "VK2K8XVwE0Qt",
    "outputId": "cc3a0d06-c0ef-44ea-a173-1287d9a412b4"
   },
   "outputs": [
    {
     "name": "stdout",
     "output_type": "stream",
     "text": [
      " * sqlite:///zoo_data.db\n",
      "Done.\n"
     ]
    },
    {
     "data": {
      "text/html": [
       "<table>\n",
       "    <thead>\n",
       "        <tr>\n",
       "            <th>total_rows_in_table</th>\n",
       "        </tr>\n",
       "    </thead>\n",
       "    <tbody>\n",
       "        <tr>\n",
       "            <td>10</td>\n",
       "        </tr>\n",
       "    </tbody>\n",
       "</table>"
      ],
      "text/plain": [
       "[(10,)]"
      ]
     },
     "execution_count": 45,
     "metadata": {},
     "output_type": "execute_result"
    }
   ],
   "source": [
    "%%sql\n",
    "SELECT COUNT(*) AS total_rows_in_table\n",
    "FROM animals;"
   ]
  },
  {
   "cell_type": "code",
   "execution_count": null,
   "id": "-dYSDXgFFHFl",
   "metadata": {
    "colab": {
     "base_uri": "https://localhost:8080/",
     "height": 94
    },
    "executionInfo": {
     "elapsed": 37,
     "status": "ok",
     "timestamp": 1752766724479,
     "user": {
      "displayName": "Benjamin Bennett Alexander",
      "userId": "14614847693800833280"
     },
     "user_tz": -180
    },
    "id": "-dYSDXgFFHFl",
    "outputId": "ca2bfc85-0ec4-4511-82db-667e9e8b8d5f"
   },
   "outputs": [
    {
     "name": "stdout",
     "output_type": "stream",
     "text": [
      " * sqlite:///zoo_data.db\n",
      "Done.\n"
     ]
    },
    {
     "data": {
      "text/html": [
       "<table>\n",
       "    <thead>\n",
       "        <tr>\n",
       "            <th>number_of_savannah_rows</th>\n",
       "        </tr>\n",
       "    </thead>\n",
       "    <tbody>\n",
       "        <tr>\n",
       "            <td>3</td>\n",
       "        </tr>\n",
       "    </tbody>\n",
       "</table>"
      ],
      "text/plain": [
       "[(3,)]"
      ]
     },
     "execution_count": 46,
     "metadata": {},
     "output_type": "execute_result"
    }
   ],
   "source": [
    "%%sql\n",
    "SELECT COUNT(*) AS number_of_savannah_rows\n",
    "FROM animals\n",
    "WHERE habitat = 'Savannah';"
   ]
  },
  {
   "cell_type": "code",
   "execution_count": null,
   "id": "7XqBwTpkFy38",
   "metadata": {
    "colab": {
     "base_uri": "https://localhost:8080/",
     "height": 94
    },
    "executionInfo": {
     "elapsed": 57,
     "status": "ok",
     "timestamp": 1752766724527,
     "user": {
      "displayName": "Benjamin Bennett Alexander",
      "userId": "14614847693800833280"
     },
     "user_tz": -180
    },
    "id": "7XqBwTpkFy38",
    "outputId": "acf11f96-d6eb-40a2-ec4b-ea67b91b00ac"
   },
   "outputs": [
    {
     "name": "stdout",
     "output_type": "stream",
     "text": [
      " * sqlite:///zoo_data.db\n",
      "Done.\n"
     ]
    },
    {
     "data": {
      "text/html": [
       "<table>\n",
       "    <thead>\n",
       "        <tr>\n",
       "            <th>age_of_youngest_animal</th>\n",
       "        </tr>\n",
       "    </thead>\n",
       "    <tbody>\n",
       "        <tr>\n",
       "            <td>2</td>\n",
       "        </tr>\n",
       "    </tbody>\n",
       "</table>"
      ],
      "text/plain": [
       "[(2,)]"
      ]
     },
     "execution_count": 47,
     "metadata": {},
     "output_type": "execute_result"
    }
   ],
   "source": [
    "%%sql\n",
    "SELECT MIN(age) AS age_of_youngest_animal\n",
    "FROM animals;"
   ]
  },
  {
   "cell_type": "code",
   "execution_count": null,
   "id": "hT1Q518EuTdu",
   "metadata": {
    "colab": {
     "base_uri": "https://localhost:8080/",
     "height": 94
    },
    "executionInfo": {
     "elapsed": 29,
     "status": "ok",
     "timestamp": 1752766724531,
     "user": {
      "displayName": "Benjamin Bennett Alexander",
      "userId": "14614847693800833280"
     },
     "user_tz": -180
    },
    "id": "hT1Q518EuTdu",
    "outputId": "30a3fbd2-7bd9-437f-96e5-e1859742792c"
   },
   "outputs": [
    {
     "name": "stdout",
     "output_type": "stream",
     "text": [
      " * sqlite:///zoo_data.db\n",
      "Done.\n"
     ]
    },
    {
     "data": {
      "text/html": [
       "<table>\n",
       "    <thead>\n",
       "        <tr>\n",
       "            <th>lexicographically_min_name</th>\n",
       "        </tr>\n",
       "    </thead>\n",
       "    <tbody>\n",
       "        <tr>\n",
       "            <td>Bella</td>\n",
       "        </tr>\n",
       "    </tbody>\n",
       "</table>"
      ],
      "text/plain": [
       "[('Bella',)]"
      ]
     },
     "execution_count": 48,
     "metadata": {},
     "output_type": "execute_result"
    }
   ],
   "source": [
    "%%sql\n",
    "SELECT MIN(name) AS lexicographically_min_name\n",
    "FROM animals;"
   ]
  },
  {
   "cell_type": "code",
   "execution_count": null,
   "id": "1B7IeHNXGFee",
   "metadata": {
    "colab": {
     "base_uri": "https://localhost:8080/",
     "height": 94
    },
    "executionInfo": {
     "elapsed": 72,
     "status": "ok",
     "timestamp": 1752766724604,
     "user": {
      "displayName": "Benjamin Bennett Alexander",
      "userId": "14614847693800833280"
     },
     "user_tz": -180
    },
    "id": "1B7IeHNXGFee",
    "outputId": "762ec5a9-a61b-44c3-b32a-2d5868f9b262"
   },
   "outputs": [
    {
     "name": "stdout",
     "output_type": "stream",
     "text": [
      " * sqlite:///zoo_data.db\n",
      "Done.\n"
     ]
    },
    {
     "data": {
      "text/html": [
       "<table>\n",
       "    <thead>\n",
       "        <tr>\n",
       "            <th>age_of_oldest_animal</th>\n",
       "        </tr>\n",
       "    </thead>\n",
       "    <tbody>\n",
       "        <tr>\n",
       "            <td>12</td>\n",
       "        </tr>\n",
       "    </tbody>\n",
       "</table>"
      ],
      "text/plain": [
       "[(12,)]"
      ]
     },
     "execution_count": 49,
     "metadata": {},
     "output_type": "execute_result"
    }
   ],
   "source": [
    "%%sql\n",
    "SELECT MAX(age) AS age_of_oldest_animal\n",
    "FROM animals;"
   ]
  },
  {
   "cell_type": "code",
   "execution_count": null,
   "id": "b_J8xTgeGjWO",
   "metadata": {
    "colab": {
     "base_uri": "https://localhost:8080/",
     "height": 94
    },
    "executionInfo": {
     "elapsed": 30,
     "status": "ok",
     "timestamp": 1752766724636,
     "user": {
      "displayName": "Benjamin Bennett Alexander",
      "userId": "14614847693800833280"
     },
     "user_tz": -180
    },
    "id": "b_J8xTgeGjWO",
    "outputId": "d1ebaf98-8dfc-49bf-9352-43d73d27d026"
   },
   "outputs": [
    {
     "name": "stdout",
     "output_type": "stream",
     "text": [
      " * sqlite:///zoo_data.db\n",
      "Done.\n"
     ]
    },
    {
     "data": {
      "text/html": [
       "<table>\n",
       "    <thead>\n",
       "        <tr>\n",
       "            <th>total_age_of_forest_animals</th>\n",
       "        </tr>\n",
       "    </thead>\n",
       "    <tbody>\n",
       "        <tr>\n",
       "            <td>18</td>\n",
       "        </tr>\n",
       "    </tbody>\n",
       "</table>"
      ],
      "text/plain": [
       "[(18,)]"
      ]
     },
     "execution_count": 50,
     "metadata": {},
     "output_type": "execute_result"
    }
   ],
   "source": [
    "%%sql\n",
    "SELECT SUM(age) AS total_age_of_forest_animals\n",
    "FROM animals\n",
    "WHERE habitat LIKE '%forest';"
   ]
  },
  {
   "cell_type": "code",
   "execution_count": null,
   "id": "gGxDUi6_uZuW",
   "metadata": {
    "colab": {
     "base_uri": "https://localhost:8080/",
     "height": 94
    },
    "executionInfo": {
     "elapsed": 26,
     "status": "ok",
     "timestamp": 1752766724655,
     "user": {
      "displayName": "Benjamin Bennett Alexander",
      "userId": "14614847693800833280"
     },
     "user_tz": -180
    },
    "id": "gGxDUi6_uZuW",
    "outputId": "5dc551e8-b3e2-4803-988f-982dbbc5f449"
   },
   "outputs": [
    {
     "name": "stdout",
     "output_type": "stream",
     "text": [
      " * sqlite:///zoo_data.db\n",
      "Done.\n"
     ]
    },
    {
     "data": {
      "text/html": [
       "<table>\n",
       "    <thead>\n",
       "        <tr>\n",
       "            <th>total_age_of_forest_animals</th>\n",
       "        </tr>\n",
       "    </thead>\n",
       "    <tbody>\n",
       "        <tr>\n",
       "            <td>18</td>\n",
       "        </tr>\n",
       "    </tbody>\n",
       "</table>"
      ],
      "text/plain": [
       "[(18,)]"
      ]
     },
     "execution_count": 51,
     "metadata": {},
     "output_type": "execute_result"
    }
   ],
   "source": [
    "%%sql\n",
    "SELECT SUM(age) AS total_age_of_forest_animals\n",
    "FROM animals\n",
    "-- Explicitly suppress case-sensitivity\n",
    "WHERE habitat LIKE '%forest' COLLATE NOCASE;"
   ]
  },
  {
   "cell_type": "code",
   "execution_count": null,
   "id": "yxVwfDqwGzC-",
   "metadata": {
    "colab": {
     "base_uri": "https://localhost:8080/",
     "height": 94
    },
    "executionInfo": {
     "elapsed": 23,
     "status": "ok",
     "timestamp": 1752766724679,
     "user": {
      "displayName": "Benjamin Bennett Alexander",
      "userId": "14614847693800833280"
     },
     "user_tz": -180
    },
    "id": "yxVwfDqwGzC-",
    "outputId": "7f9bb742-f1b2-46a2-ffd1-22c4c705dabb"
   },
   "outputs": [
    {
     "name": "stdout",
     "output_type": "stream",
     "text": [
      " * sqlite:///zoo_data.db\n",
      "Done.\n"
     ]
    },
    {
     "data": {
      "text/html": [
       "<table>\n",
       "    <thead>\n",
       "        <tr>\n",
       "            <th>average_age_of_not_forest_animals</th>\n",
       "        </tr>\n",
       "    </thead>\n",
       "    <tbody>\n",
       "        <tr>\n",
       "            <td>6.857142857142857</td>\n",
       "        </tr>\n",
       "    </tbody>\n",
       "</table>"
      ],
      "text/plain": [
       "[(6.857142857142857,)]"
      ]
     },
     "execution_count": 52,
     "metadata": {},
     "output_type": "execute_result"
    }
   ],
   "source": [
    "%%sql\n",
    "SELECT AVG(age) AS average_age_of_not_forest_animals\n",
    "FROM animals\n",
    "WHERE habitat NOT LIKE '%forest';"
   ]
  },
  {
   "cell_type": "code",
   "execution_count": null,
   "id": "kaeedsRqHFaE",
   "metadata": {
    "colab": {
     "base_uri": "https://localhost:8080/",
     "height": 94
    },
    "executionInfo": {
     "elapsed": 52,
     "status": "ok",
     "timestamp": 1752766724734,
     "user": {
      "displayName": "Benjamin Bennett Alexander",
      "userId": "14614847693800833280"
     },
     "user_tz": -180
    },
    "id": "kaeedsRqHFaE",
    "outputId": "c3b8c47b-96fb-401c-c271-9f94e3bf5cc4"
   },
   "outputs": [
    {
     "name": "stdout",
     "output_type": "stream",
     "text": [
      " * sqlite:///zoo_data.db\n",
      "Done.\n"
     ]
    },
    {
     "data": {
      "text/html": [
       "<table>\n",
       "    <thead>\n",
       "        <tr>\n",
       "            <th>habitat</th>\n",
       "            <th>count_of_animals_in_each_habitat</th>\n",
       "        </tr>\n",
       "    </thead>\n",
       "    <tbody>\n",
       "        <tr>\n",
       "            <td>Savannah</td>\n",
       "            <td>10</td>\n",
       "        </tr>\n",
       "    </tbody>\n",
       "</table>"
      ],
      "text/plain": [
       "[('Savannah', 10)]"
      ]
     },
     "execution_count": 53,
     "metadata": {},
     "output_type": "execute_result"
    }
   ],
   "source": [
    "%%sql\n",
    "SELECT\n",
    "    habitat,\n",
    "    COUNT(species) AS count_of_animals_in_each_habitat\n",
    "FROM animals;"
   ]
  },
  {
   "cell_type": "code",
   "execution_count": null,
   "id": "HuScmD0tHZi8",
   "metadata": {
    "colab": {
     "base_uri": "https://localhost:8080/",
     "height": 219
    },
    "executionInfo": {
     "elapsed": 21,
     "status": "ok",
     "timestamp": 1752766724758,
     "user": {
      "displayName": "Benjamin Bennett Alexander",
      "userId": "14614847693800833280"
     },
     "user_tz": -180
    },
    "id": "HuScmD0tHZi8",
    "outputId": "92b11d84-045a-414f-db29-516a717f30ea"
   },
   "outputs": [
    {
     "name": "stdout",
     "output_type": "stream",
     "text": [
      " * sqlite:///zoo_data.db\n",
      "Done.\n"
     ]
    },
    {
     "data": {
      "text/html": [
       "<table>\n",
       "    <thead>\n",
       "        <tr>\n",
       "            <th>habitat</th>\n",
       "            <th>count_of_animals_in_each_habitat</th>\n",
       "        </tr>\n",
       "    </thead>\n",
       "    <tbody>\n",
       "        <tr>\n",
       "            <td>Desert</td>\n",
       "            <td>1</td>\n",
       "        </tr>\n",
       "        <tr>\n",
       "            <td>Forest</td>\n",
       "            <td>1</td>\n",
       "        </tr>\n",
       "        <tr>\n",
       "            <td>Grasslands</td>\n",
       "            <td>2</td>\n",
       "        </tr>\n",
       "        <tr>\n",
       "            <td>Polar</td>\n",
       "            <td>1</td>\n",
       "        </tr>\n",
       "        <tr>\n",
       "            <td>Rainforest</td>\n",
       "            <td>1</td>\n",
       "        </tr>\n",
       "        <tr>\n",
       "            <td>Savannah</td>\n",
       "            <td>3</td>\n",
       "        </tr>\n",
       "        <tr>\n",
       "            <td>Tropical Forest</td>\n",
       "            <td>1</td>\n",
       "        </tr>\n",
       "    </tbody>\n",
       "</table>"
      ],
      "text/plain": [
       "[('Desert', 1),\n",
       " ('Forest', 1),\n",
       " ('Grasslands', 2),\n",
       " ('Polar', 1),\n",
       " ('Rainforest', 1),\n",
       " ('Savannah', 3),\n",
       " ('Tropical Forest', 1)]"
      ]
     },
     "execution_count": 54,
     "metadata": {},
     "output_type": "execute_result"
    }
   ],
   "source": [
    "%%sql\n",
    "SELECT\n",
    "    habitat,\n",
    "    COUNT(species) AS count_of_animals_in_each_habitat\n",
    "FROM animals\n",
    "GROUP BY habitat;"
   ]
  },
  {
   "cell_type": "code",
   "execution_count": null,
   "id": "sdU0SkCnH7ma",
   "metadata": {
    "colab": {
     "base_uri": "https://localhost:8080/",
     "height": 94
    },
    "executionInfo": {
     "elapsed": 25,
     "status": "ok",
     "timestamp": 1752766724787,
     "user": {
      "displayName": "Benjamin Bennett Alexander",
      "userId": "14614847693800833280"
     },
     "user_tz": -180
    },
    "id": "sdU0SkCnH7ma",
    "outputId": "c6300276-1c80-4f36-ac97-0642e2f7dca4"
   },
   "outputs": [
    {
     "name": "stdout",
     "output_type": "stream",
     "text": [
      " * sqlite:///zoo_data.db\n",
      "Done.\n"
     ]
    },
    {
     "data": {
      "text/html": [
       "<table>\n",
       "    <thead>\n",
       "        <tr>\n",
       "            <th>habitat</th>\n",
       "            <th>count_of_animals_in_each_habitat</th>\n",
       "        </tr>\n",
       "    </thead>\n",
       "    <tbody>\n",
       "        <tr>\n",
       "            <td>Savannah</td>\n",
       "            <td>3</td>\n",
       "        </tr>\n",
       "    </tbody>\n",
       "</table>"
      ],
      "text/plain": [
       "[('Savannah', 3)]"
      ]
     },
     "execution_count": 55,
     "metadata": {},
     "output_type": "execute_result"
    }
   ],
   "source": [
    "%%sql\n",
    "SELECT\n",
    "    habitat,\n",
    "    COUNT(species) AS count_of_animals_in_each_habitat\n",
    "FROM animals\n",
    "GROUP BY habitat\n",
    "ORDER BY count_of_animals_in_each_habitat DESC\n",
    "LIMIT 1;"
   ]
  },
  {
   "cell_type": "code",
   "execution_count": null,
   "id": "CiQ372XyISxu",
   "metadata": {
    "colab": {
     "base_uri": "https://localhost:8080/",
     "height": 115
    },
    "executionInfo": {
     "elapsed": 23,
     "status": "ok",
     "timestamp": 1752766724813,
     "user": {
      "displayName": "Benjamin Bennett Alexander",
      "userId": "14614847693800833280"
     },
     "user_tz": -180
    },
    "id": "CiQ372XyISxu",
    "outputId": "e38473ea-7042-47a7-d0fd-9171d7a631af"
   },
   "outputs": [
    {
     "name": "stdout",
     "output_type": "stream",
     "text": [
      " * sqlite:///zoo_data.db\n",
      "Done.\n"
     ]
    },
    {
     "data": {
      "text/html": [
       "<table>\n",
       "    <thead>\n",
       "        <tr>\n",
       "            <th>habitat</th>\n",
       "            <th>total_age_in_each_habitat</th>\n",
       "        </tr>\n",
       "    </thead>\n",
       "    <tbody>\n",
       "        <tr>\n",
       "            <td>Rainforest</td>\n",
       "            <td>6</td>\n",
       "        </tr>\n",
       "        <tr>\n",
       "            <td>Forest</td>\n",
       "            <td>9</td>\n",
       "        </tr>\n",
       "    </tbody>\n",
       "</table>"
      ],
      "text/plain": [
       "[('Rainforest', 6), ('Forest', 9)]"
      ]
     },
     "execution_count": 56,
     "metadata": {},
     "output_type": "execute_result"
    }
   ],
   "source": [
    "%%sql\n",
    "SELECT\n",
    "       habitat,\n",
    "       SUM(age) AS total_age_in_each_habitat\n",
    "FROM animals\n",
    "WHERE habitat IN ('Rainforest', 'Forest')\n",
    "GROUP BY habitat\n",
    "ORDER BY total_age_in_each_habitat ASC;"
   ]
  },
  {
   "cell_type": "code",
   "execution_count": null,
   "id": "bRZjqZpuIpnE",
   "metadata": {
    "colab": {
     "base_uri": "https://localhost:8080/",
     "height": 94
    },
    "executionInfo": {
     "elapsed": 71,
     "status": "ok",
     "timestamp": 1752766724887,
     "user": {
      "displayName": "Benjamin Bennett Alexander",
      "userId": "14614847693800833280"
     },
     "user_tz": -180
    },
    "id": "bRZjqZpuIpnE",
    "outputId": "f07c20d7-9ba8-460f-e18a-e3d07be3dbc8"
   },
   "outputs": [
    {
     "name": "stdout",
     "output_type": "stream",
     "text": [
      " * sqlite:///zoo_data.db\n",
      "Done.\n"
     ]
    },
    {
     "data": {
      "text/html": [
       "<table>\n",
       "    <thead>\n",
       "        <tr>\n",
       "            <th>habitat</th>\n",
       "            <th>total_age_in_each_habitat</th>\n",
       "        </tr>\n",
       "    </thead>\n",
       "    <tbody>\n",
       "        <tr>\n",
       "            <td>Forest</td>\n",
       "            <td>9</td>\n",
       "        </tr>\n",
       "    </tbody>\n",
       "</table>"
      ],
      "text/plain": [
       "[('Forest', 9)]"
      ]
     },
     "execution_count": 57,
     "metadata": {},
     "output_type": "execute_result"
    }
   ],
   "source": [
    "%%sql\n",
    "SELECT\n",
    "    habitat,\n",
    "    SUM(age) AS total_age_in_each_habitat\n",
    "FROM animals\n",
    "WHERE habitat IN ('Rainforest', 'Forest')\n",
    "GROUP BY habitat\n",
    "HAVING habitat = 'Forest';"
   ]
  },
  {
   "cell_type": "code",
   "execution_count": null,
   "id": "OK9V0lf2JAgU",
   "metadata": {
    "colab": {
     "base_uri": "https://localhost:8080/",
     "height": 177
    },
    "executionInfo": {
     "elapsed": 25,
     "status": "ok",
     "timestamp": 1752766724897,
     "user": {
      "displayName": "Benjamin Bennett Alexander",
      "userId": "14614847693800833280"
     },
     "user_tz": -180
    },
    "id": "OK9V0lf2JAgU",
    "outputId": "e145ace5-1af3-4b4a-efb4-5a81a1d647fa"
   },
   "outputs": [
    {
     "name": "stdout",
     "output_type": "stream",
     "text": [
      " * sqlite:///zoo_data.db\n",
      "Done.\n"
     ]
    },
    {
     "data": {
      "text/html": [
       "<table>\n",
       "    <thead>\n",
       "        <tr>\n",
       "            <th>habitat</th>\n",
       "            <th>total_age_in_each_habitat</th>\n",
       "        </tr>\n",
       "    </thead>\n",
       "    <tbody>\n",
       "        <tr>\n",
       "            <td>Desert</td>\n",
       "            <td>2</td>\n",
       "        </tr>\n",
       "        <tr>\n",
       "            <td>Forest</td>\n",
       "            <td>9</td>\n",
       "        </tr>\n",
       "        <tr>\n",
       "            <td>Polar</td>\n",
       "            <td>4</td>\n",
       "        </tr>\n",
       "        <tr>\n",
       "            <td>Rainforest</td>\n",
       "            <td>6</td>\n",
       "        </tr>\n",
       "        <tr>\n",
       "            <td>Tropical Forest</td>\n",
       "            <td>3</td>\n",
       "        </tr>\n",
       "    </tbody>\n",
       "</table>"
      ],
      "text/plain": [
       "[('Desert', 2),\n",
       " ('Forest', 9),\n",
       " ('Polar', 4),\n",
       " ('Rainforest', 6),\n",
       " ('Tropical Forest', 3)]"
      ]
     },
     "execution_count": 58,
     "metadata": {},
     "output_type": "execute_result"
    }
   ],
   "source": [
    "%%sql\n",
    "SELECT\n",
    "    habitat,\n",
    "    SUM(age) AS total_age_in_each_habitat\n",
    "FROM animals\n",
    "GROUP BY habitat\n",
    "HAVING SUM(age) < 10; -- aggregate function with HAVING clause"
   ]
  },
  {
   "cell_type": "code",
   "execution_count": null,
   "id": "vtKl8NHHQyS1",
   "metadata": {
    "id": "vtKl8NHHQyS1"
   },
   "outputs": [],
   "source": []
  }
 ],
 "metadata": {
  "colab": {
   "provenance": []
  },
  "kernelspec": {
   "display_name": "Python 3 (ipykernel)",
   "language": "python",
   "name": "python3"
  },
  "language_info": {
   "codemirror_mode": {
    "name": "ipython",
    "version": 3
   },
   "file_extension": ".py",
   "mimetype": "text/x-python",
   "name": "python",
   "nbconvert_exporter": "python",
   "pygments_lexer": "ipython3",
   "version": "3.10.5"
  }
 },
 "nbformat": 4,
 "nbformat_minor": 5
}

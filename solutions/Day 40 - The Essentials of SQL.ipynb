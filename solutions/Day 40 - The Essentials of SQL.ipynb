{
 "cells": [
  {
   "cell_type": "markdown",
   "id": "ymBe8iKHIi3V",
   "metadata": {
    "id": "ymBe8iKHIi3V"
   },
   "source": [
    "## Question 1: **Answer**"
   ]
  },
  {
   "cell_type": "code",
   "execution_count": 1,
   "id": "1a294c5f",
   "metadata": {
    "executionInfo": {
     "elapsed": 630,
     "status": "ok",
     "timestamp": 1752943367934,
     "user": {
      "displayName": "Benjamin Bennett Alexander",
      "userId": "14614847693800833280"
     },
     "user_tz": -180
    },
    "id": "1a294c5f"
   },
   "outputs": [],
   "source": [
    "import pandas as pd\n",
    "import sqlite3"
   ]
  },
  {
   "cell_type": "code",
   "execution_count": null,
   "id": "7d1c7a56",
   "metadata": {
    "executionInfo": {
     "elapsed": 1758,
     "status": "ok",
     "timestamp": 1752943369700,
     "user": {
      "displayName": "Benjamin Bennett Alexander",
      "userId": "14614847693800833280"
     },
     "user_tz": -180
    },
    "id": "7d1c7a56"
   },
   "outputs": [],
   "source": [
    "def add_data_to_database(iphone_revenue, iphone_units):\n",
    "    try:\n",
    "        # Creating DataFrames from CSV files\n",
    "        df_revenue = pd.read_csv(iphone_revenue)\n",
    "        df_units = pd.read_csv(iphone_units)\n",
    "        # Connecting to database\n",
    "        engine = sqlite3.connect(\"apple_data.db\")\n",
    "        df_revenue.to_sql(\"iphone_revenue\", con=engine, index = False)\n",
    "        df_units.to_sql(\"iphone_units\", con=engine, index = False)\n",
    "        engine.close()\n",
    "    except ValueError:\n",
    "            print(\"Table already exists\")\n",
    "\n",
    "# Loading data\n",
    "iphone_revenue = \"/content/apple_iphone_revenue.csv\"\n",
    "iphone_units =  \"/content/apple_iphone_unit_sales.csv\"\n",
    "\n",
    "add_data_to_database(iphone_revenue, iphone_units)"
   ]
  },
  {
   "cell_type": "code",
   "execution_count": 3,
   "id": "Mli03aKce6kN",
   "metadata": {
    "executionInfo": {
     "elapsed": 792,
     "status": "ok",
     "timestamp": 1752943370499,
     "user": {
      "displayName": "Benjamin Bennett Alexander",
      "userId": "14614847693800833280"
     },
     "user_tz": -180
    },
    "id": "Mli03aKce6kN"
   },
   "outputs": [],
   "source": [
    "# Loading Magic extension\n",
    "%load_ext sql"
   ]
  },
  {
   "cell_type": "code",
   "execution_count": 4,
   "id": "bD3dP3AvfB4v",
   "metadata": {
    "executionInfo": {
     "elapsed": 3,
     "status": "ok",
     "timestamp": 1752943370506,
     "user": {
      "displayName": "Benjamin Bennett Alexander",
      "userId": "14614847693800833280"
     },
     "user_tz": -180
    },
    "id": "bD3dP3AvfB4v"
   },
   "outputs": [],
   "source": [
    "# Connecting to the database\n",
    "%sql sqlite:///apple_data.db"
   ]
  },
  {
   "cell_type": "code",
   "execution_count": 5,
   "id": "2mewdW4HhLBf",
   "metadata": {
    "executionInfo": {
     "elapsed": 4,
     "status": "ok",
     "timestamp": 1752943370515,
     "user": {
      "displayName": "Benjamin Bennett Alexander",
      "userId": "14614847693800833280"
     },
     "user_tz": -180
    },
    "id": "2mewdW4HhLBf"
   },
   "outputs": [],
   "source": [
    "# Default to duplicated style\n",
    "%config SqlMagic.style = '_DEPRECATED_DEFAULT'"
   ]
  },
  {
   "cell_type": "code",
   "execution_count": 6,
   "id": "ed883027",
   "metadata": {
    "colab": {
     "base_uri": "https://localhost:8080/",
     "height": 177
    },
    "executionInfo": {
     "elapsed": 33,
     "status": "ok",
     "timestamp": 1752943370551,
     "user": {
      "displayName": "Benjamin Bennett Alexander",
      "userId": "14614847693800833280"
     },
     "user_tz": -180
    },
    "id": "ed883027",
    "outputId": "61430483-5501-4d5f-ec23-9bc701d17a6e"
   },
   "outputs": [
    {
     "name": "stdout",
     "output_type": "stream",
     "text": [
      " * sqlite:///apple_data.db\n",
      "Done.\n"
     ]
    },
    {
     "data": {
      "text/html": [
       "<table>\n",
       "    <thead>\n",
       "        <tr>\n",
       "            <th>ID</th>\n",
       "            <th>category</th>\n",
       "            <th>iPhone_revenue_billion</th>\n",
       "            <th>YOY growth</th>\n",
       "        </tr>\n",
       "    </thead>\n",
       "    <tbody>\n",
       "        <tr>\n",
       "            <td>101</td>\n",
       "            <td>Q2/07</td>\n",
       "            <td>0.141</td>\n",
       "            <td>None</td>\n",
       "        </tr>\n",
       "        <tr>\n",
       "            <td>102</td>\n",
       "            <td>Q3/07</td>\n",
       "            <td>0.489</td>\n",
       "            <td>None</td>\n",
       "        </tr>\n",
       "        <tr>\n",
       "            <td>103</td>\n",
       "            <td>Q4/07</td>\n",
       "            <td>1.036</td>\n",
       "            <td>None</td>\n",
       "        </tr>\n",
       "        <tr>\n",
       "            <td>104</td>\n",
       "            <td>Q1/08</td>\n",
       "            <td>0.817</td>\n",
       "            <td>None</td>\n",
       "        </tr>\n",
       "        <tr>\n",
       "            <td>105</td>\n",
       "            <td>Q2/08</td>\n",
       "            <td>0.483</td>\n",
       "            <td>242.55</td>\n",
       "        </tr>\n",
       "    </tbody>\n",
       "</table>"
      ],
      "text/plain": [
       "[(101, 'Q2/07', 0.141, None),\n",
       " (102, 'Q3/07', 0.489, None),\n",
       " (103, 'Q4/07', 1.036, None),\n",
       " (104, 'Q1/08', 0.817, None),\n",
       " (105, 'Q2/08', 0.483, 242.55)]"
      ]
     },
     "execution_count": 6,
     "metadata": {},
     "output_type": "execute_result"
    }
   ],
   "source": [
    "%%sql\n",
    "SELECT * FROM iphone_revenue\n",
    "LIMIT 5;"
   ]
  },
  {
   "cell_type": "code",
   "execution_count": 7,
   "id": "c8931b7b",
   "metadata": {
    "colab": {
     "base_uri": "https://localhost:8080/",
     "height": 177
    },
    "executionInfo": {
     "elapsed": 82,
     "status": "ok",
     "timestamp": 1752943370638,
     "user": {
      "displayName": "Benjamin Bennett Alexander",
      "userId": "14614847693800833280"
     },
     "user_tz": -180
    },
    "id": "c8931b7b",
    "outputId": "03b964f2-bddf-465f-b68f-269650b353b7"
   },
   "outputs": [
    {
     "name": "stdout",
     "output_type": "stream",
     "text": [
      " * sqlite:///apple_data.db\n",
      "Done.\n"
     ]
    },
    {
     "data": {
      "text/html": [
       "<table>\n",
       "    <thead>\n",
       "        <tr>\n",
       "            <th>category</th>\n",
       "            <th>iPhone_units_millions</th>\n",
       "            <th>YOY growth</th>\n",
       "            <th>sales_id</th>\n",
       "        </tr>\n",
       "    </thead>\n",
       "    <tbody>\n",
       "        <tr>\n",
       "            <td>Q2/07</td>\n",
       "            <td>0.27</td>\n",
       "            <td>None</td>\n",
       "            <td>101</td>\n",
       "        </tr>\n",
       "        <tr>\n",
       "            <td>Q3/07</td>\n",
       "            <td>1.119</td>\n",
       "            <td>None</td>\n",
       "            <td>102</td>\n",
       "        </tr>\n",
       "        <tr>\n",
       "            <td>Q4/07</td>\n",
       "            <td>2.315</td>\n",
       "            <td>None</td>\n",
       "            <td>103</td>\n",
       "        </tr>\n",
       "        <tr>\n",
       "            <td>Q1/08</td>\n",
       "            <td>1.703</td>\n",
       "            <td>None</td>\n",
       "            <td>104</td>\n",
       "        </tr>\n",
       "        <tr>\n",
       "            <td>Q2/08</td>\n",
       "            <td>0.717</td>\n",
       "            <td>165.56</td>\n",
       "            <td>105</td>\n",
       "        </tr>\n",
       "    </tbody>\n",
       "</table>"
      ],
      "text/plain": [
       "[('Q2/07', 0.27, None, 101),\n",
       " ('Q3/07', 1.119, None, 102),\n",
       " ('Q4/07', 2.315, None, 103),\n",
       " ('Q1/08', 1.703, None, 104),\n",
       " ('Q2/08', 0.717, 165.56, 105)]"
      ]
     },
     "execution_count": 7,
     "metadata": {},
     "output_type": "execute_result"
    }
   ],
   "source": [
    "%%sql\n",
    "SELECT * FROM iphone_units\n",
    "LIMIT 5;"
   ]
  },
  {
   "cell_type": "markdown",
   "id": "cc5ffc37",
   "metadata": {
    "id": "cc5ffc37"
   },
   "source": [
    "## Question 1: **Part B Answer**"
   ]
  },
  {
   "cell_type": "code",
   "execution_count": 8,
   "id": "44dddcb0",
   "metadata": {
    "colab": {
     "base_uri": "https://localhost:8080/"
    },
    "executionInfo": {
     "elapsed": 15,
     "status": "ok",
     "timestamp": 1752943370658,
     "user": {
      "displayName": "Benjamin Bennett Alexander",
      "userId": "14614847693800833280"
     },
     "user_tz": -180
    },
    "id": "44dddcb0",
    "outputId": "677de003-cbbd-4d77-afc2-4d8b8af72dc1"
   },
   "outputs": [
    {
     "name": "stdout",
     "output_type": "stream",
     "text": [
      " * sqlite:///apple_data.db\n",
      "Done.\n"
     ]
    },
    {
     "data": {
      "text/plain": [
       "[]"
      ]
     },
     "execution_count": 8,
     "metadata": {},
     "output_type": "execute_result"
    }
   ],
   "source": [
    "%%sql\n",
    "ALTER TABLE iphone_units\n",
    "    RENAME 'YOY growth' TO 'yoy_growth';"
   ]
  },
  {
   "cell_type": "code",
   "execution_count": 9,
   "id": "8820c8ab",
   "metadata": {
    "colab": {
     "base_uri": "https://localhost:8080/"
    },
    "executionInfo": {
     "elapsed": 19,
     "status": "ok",
     "timestamp": 1752943370683,
     "user": {
      "displayName": "Benjamin Bennett Alexander",
      "userId": "14614847693800833280"
     },
     "user_tz": -180
    },
    "id": "8820c8ab",
    "outputId": "0df54528-79cf-46c6-cd3e-1700b146233d"
   },
   "outputs": [
    {
     "name": "stdout",
     "output_type": "stream",
     "text": [
      " * sqlite:///apple_data.db\n",
      "Done.\n"
     ]
    },
    {
     "data": {
      "text/plain": [
       "[]"
      ]
     },
     "execution_count": 9,
     "metadata": {},
     "output_type": "execute_result"
    }
   ],
   "source": [
    "%%sql\n",
    "ALTER TABLE iphone_revenue\n",
    "    RENAME 'YOY growth' TO 'yoy_growth';"
   ]
  },
  {
   "cell_type": "markdown",
   "id": "cda636d4",
   "metadata": {
    "id": "cda636d4"
   },
   "source": [
    "## Question 2: **Answer**"
   ]
  },
  {
   "cell_type": "code",
   "execution_count": 10,
   "id": "a8c305a3",
   "metadata": {
    "colab": {
     "base_uri": "https://localhost:8080/",
     "height": 94
    },
    "executionInfo": {
     "elapsed": 96,
     "status": "ok",
     "timestamp": 1752943370783,
     "user": {
      "displayName": "Benjamin Bennett Alexander",
      "userId": "14614847693800833280"
     },
     "user_tz": -180
    },
    "id": "a8c305a3",
    "outputId": "2ca8a675-ef80-49fd-bf71-d6f7e820f171"
   },
   "outputs": [
    {
     "name": "stdout",
     "output_type": "stream",
     "text": [
      " * sqlite:///apple_data.db\n",
      "Done.\n"
     ]
    },
    {
     "data": {
      "text/html": [
       "<table>\n",
       "    <thead>\n",
       "        <tr>\n",
       "            <th>category</th>\n",
       "            <th>min_units</th>\n",
       "            <th>min_revenue</th>\n",
       "        </tr>\n",
       "    </thead>\n",
       "    <tbody>\n",
       "        <tr>\n",
       "            <td>Q2/07</td>\n",
       "            <td>0.27</td>\n",
       "            <td>0.141</td>\n",
       "        </tr>\n",
       "    </tbody>\n",
       "</table>"
      ],
      "text/plain": [
       "[('Q2/07', 0.27, 0.141)]"
      ]
     },
     "execution_count": 10,
     "metadata": {},
     "output_type": "execute_result"
    }
   ],
   "source": [
    "%%sql\n",
    "-- CTE to join and aggregate units and revenue\n",
    "WITH min_units_and_revenue AS (\n",
    "    SELECT\n",
    "        ir.category,\n",
    "        SUM(iu.iphone_units_millions) AS total_units,\n",
    "        SUM(ir.iphone_revenue_billion) AS total_revenue\n",
    "    FROM iphone_revenue ir\n",
    "    INNER JOIN iphone_units iu\n",
    "    -- joining tables on respective IDS\n",
    "    ON ir.ID = iu.sales_id\n",
    "    GROUP BY ir.category)\n",
    "\n",
    "-- Main query returns the quarter with min units & revenue\n",
    "SELECT\n",
    "    category,\n",
    "    total_units AS min_units,\n",
    "    total_revenue AS min_revenue\n",
    "FROM min_units_and_revenue\n",
    "WHERE total_units = (SELECT MIN(total_units)\n",
    "                    FROM min_units_and_revenue) AND\n",
    "                    total_revenue = (SELECT MIN(total_revenue)\n",
    "                                     FROM min_units_and_revenue)"
   ]
  },
  {
   "cell_type": "markdown",
   "id": "4ab02b9a",
   "metadata": {
    "id": "4ab02b9a"
   },
   "source": [
    "## Question 3: **Answer**"
   ]
  },
  {
   "cell_type": "code",
   "execution_count": 11,
   "id": "qNenSUD_jh1M",
   "metadata": {
    "colab": {
     "base_uri": "https://localhost:8080/",
     "height": 94
    },
    "executionInfo": {
     "elapsed": 77,
     "status": "ok",
     "timestamp": 1752943370788,
     "user": {
      "displayName": "Benjamin Bennett Alexander",
      "userId": "14614847693800833280"
     },
     "user_tz": -180
    },
    "id": "qNenSUD_jh1M",
    "outputId": "fb799197-735b-461b-8795-600fddbf3876"
   },
   "outputs": [
    {
     "name": "stdout",
     "output_type": "stream",
     "text": [
      " * sqlite:///apple_data.db\n",
      "Done.\n"
     ]
    },
    {
     "data": {
      "text/html": [
       "<table>\n",
       "    <thead>\n",
       "        <tr>\n",
       "            <th>quarter_4_sales</th>\n",
       "            <th>quarter_1_sales</th>\n",
       "            <th>difference</th>\n",
       "        </tr>\n",
       "    </thead>\n",
       "    <tbody>\n",
       "        <tr>\n",
       "            <td>209.72</td>\n",
       "            <td>132.32</td>\n",
       "            <td>77.4</td>\n",
       "        </tr>\n",
       "    </tbody>\n",
       "</table>"
      ],
      "text/plain": [
       "[(209.72, 132.32, 77.4)]"
      ]
     },
     "execution_count": 11,
     "metadata": {},
     "output_type": "execute_result"
    }
   ],
   "source": [
    "%%sql\n",
    "-- filter rows for quarter 4 and\n",
    "WITH quarterly_revenue AS (\n",
    "    SELECT\n",
    "        category,\n",
    "        CASE\n",
    "            WHEN category LIKE '%Q4%' THEN 'Q4'\n",
    "            WHEN category LIKE '%Q1%' THEN 'Q1'\n",
    "            ELSE NULL\n",
    "        END AS quarter,\n",
    "        SUM(iphone_revenue_billion) AS total_revenue\n",
    "    FROM iphone_revenue\n",
    "    WHERE category LIKE '%Q4%' OR category LIKE '%Q1%'\n",
    "    -- Filter for the period 2007-2015 by extracting the year from the category\n",
    "    AND CAST(SUBSTR(category, 4, 2) AS INTEGER) BETWEEN 7 AND 15\n",
    "    GROUP BY category, quarter\n",
    "),\n",
    "-- Calculate total revenue for each quarter\n",
    "quarter_comparison AS (\n",
    "    SELECT\n",
    "        ROUND(SUM(CASE WHEN quarter = 'Q4' THEN total_revenue ELSE 0 END), 2)\n",
    "        AS quarter_4_sales,\n",
    "        ROUND(SUM(CASE WHEN quarter = 'Q1' THEN total_revenue ELSE 0 END), 2)\n",
    "        AS quarter_1_sales\n",
    "    FROM quarterly_revenue\n",
    ")\n",
    "-- Returning Q4 and Q1 sales and the difference\n",
    "SELECT\n",
    "    quarter_4_sales,\n",
    "    quarter_1_sales,\n",
    "    ROUND((quarter_4_sales - quarter_1_sales), 2) AS difference\n",
    "FROM quarter_comparison;"
   ]
  },
  {
   "cell_type": "markdown",
   "id": "981b6739",
   "metadata": {
    "id": "981b6739"
   },
   "source": [
    "## Question 4: **Answer**"
   ]
  },
  {
   "cell_type": "code",
   "execution_count": 12,
   "id": "ed3e1702",
   "metadata": {
    "colab": {
     "base_uri": "https://localhost:8080/",
     "height": 281
    },
    "executionInfo": {
     "elapsed": 26,
     "status": "ok",
     "timestamp": 1752943370789,
     "user": {
      "displayName": "Benjamin Bennett Alexander",
      "userId": "14614847693800833280"
     },
     "user_tz": -180
    },
    "id": "ed3e1702",
    "outputId": "0f3d8c79-a7c7-4d5b-b466-5e38838b892b"
   },
   "outputs": [
    {
     "name": "stdout",
     "output_type": "stream",
     "text": [
      " * sqlite:///apple_data.db\n",
      "Done.\n"
     ]
    },
    {
     "data": {
      "text/html": [
       "<table>\n",
       "    <thead>\n",
       "        <tr>\n",
       "            <th>category</th>\n",
       "            <th>iPhone_units_millions</th>\n",
       "            <th>iPhone_revenue_billion</th>\n",
       "            <th>revenue_growth</th>\n",
       "        </tr>\n",
       "    </thead>\n",
       "    <tbody>\n",
       "        <tr>\n",
       "            <td>Q2/08</td>\n",
       "            <td>0.717</td>\n",
       "            <td>0.483</td>\n",
       "            <td>242.55</td>\n",
       "        </tr>\n",
       "        <tr>\n",
       "            <td>Q3/08</td>\n",
       "            <td>6.892</td>\n",
       "            <td>4.406</td>\n",
       "            <td>801.02</td>\n",
       "        </tr>\n",
       "        <tr>\n",
       "            <td>Q4/08</td>\n",
       "            <td>4.363</td>\n",
       "            <td>2.94</td>\n",
       "            <td>183.78</td>\n",
       "        </tr>\n",
       "        <tr>\n",
       "            <td>Q1/09</td>\n",
       "            <td>3.793</td>\n",
       "            <td>2.427</td>\n",
       "            <td>197.06</td>\n",
       "        </tr>\n",
       "        <tr>\n",
       "            <td>Q2/09</td>\n",
       "            <td>5.208</td>\n",
       "            <td>3.06</td>\n",
       "            <td>533.54</td>\n",
       "        </tr>\n",
       "        <tr>\n",
       "            <td>Q3/09</td>\n",
       "            <td>7.367</td>\n",
       "            <td>4.606</td>\n",
       "            <td>4.54</td>\n",
       "        </tr>\n",
       "        <tr>\n",
       "            <td>Q4/09</td>\n",
       "            <td>8.737</td>\n",
       "            <td>5.578</td>\n",
       "            <td>89.73</td>\n",
       "        </tr>\n",
       "        <tr>\n",
       "            <td>Q1/10</td>\n",
       "            <td>8.752</td>\n",
       "            <td>5.445</td>\n",
       "            <td>124.35</td>\n",
       "        </tr>\n",
       "        <tr>\n",
       "            <td>Q2/10</td>\n",
       "            <td>8.398</td>\n",
       "            <td>5.334</td>\n",
       "            <td>74.31</td>\n",
       "        </tr>\n",
       "        <tr>\n",
       "            <td>Q3/10</td>\n",
       "            <td>14.102</td>\n",
       "            <td>8.822</td>\n",
       "            <td>91.53</td>\n",
       "        </tr>\n",
       "    </tbody>\n",
       "</table>"
      ],
      "text/plain": [
       "[('Q2/08', 0.717, 0.483, 242.55),\n",
       " ('Q3/08', 6.892, 4.406, 801.02),\n",
       " ('Q4/08', 4.363, 2.94, 183.78),\n",
       " ('Q1/09', 3.793, 2.427, 197.06),\n",
       " ('Q2/09', 5.208, 3.06, 533.54),\n",
       " ('Q3/09', 7.367, 4.606, 4.54),\n",
       " ('Q4/09', 8.737, 5.578, 89.73),\n",
       " ('Q1/10', 8.752, 5.445, 124.35),\n",
       " ('Q2/10', 8.398, 5.334, 74.31),\n",
       " ('Q3/10', 14.102, 8.822, 91.53)]"
      ]
     },
     "execution_count": 12,
     "metadata": {},
     "output_type": "execute_result"
    }
   ],
   "source": [
    "%%sql\n",
    "SELECT\n",
    "    ir.category,\n",
    "    iu.iphone_units_millions,\n",
    "    ir.iphone_revenue_billion,\n",
    "    ir.yoy_growth AS revenue_growth\n",
    "FROM iphone_revenue ir\n",
    "INNER JOIN iphone_units iu\n",
    "ON iu.sales_id = ir.ID\n",
    "-- Exclude rows with NULL values in revenue_growth\n",
    "WHERE revenue_growth IS NOT NULL\n",
    "LIMIT 10;"
   ]
  },
  {
   "cell_type": "markdown",
   "id": "6994065d",
   "metadata": {
    "id": "6994065d"
   },
   "source": [
    "## Question 5: **Answer**"
   ]
  },
  {
   "cell_type": "code",
   "execution_count": 13,
   "id": "DKu3St_TwHOU",
   "metadata": {
    "colab": {
     "base_uri": "https://localhost:8080/",
     "height": 94
    },
    "executionInfo": {
     "elapsed": 60,
     "status": "ok",
     "timestamp": 1752943370841,
     "user": {
      "displayName": "Benjamin Bennett Alexander",
      "userId": "14614847693800833280"
     },
     "user_tz": -180
    },
    "id": "DKu3St_TwHOU",
    "outputId": "efcfa1fd-97dc-4aa5-b941-e0335a727d2d"
   },
   "outputs": [
    {
     "name": "stdout",
     "output_type": "stream",
     "text": [
      " * sqlite:///apple_data.db\n",
      "Done.\n"
     ]
    },
    {
     "data": {
      "text/html": [
       "<table>\n",
       "    <thead>\n",
       "        <tr>\n",
       "            <th>quarter</th>\n",
       "            <th>yoy_growth</th>\n",
       "            <th>total_revenue</th>\n",
       "            <th>total_units</th>\n",
       "        </tr>\n",
       "    </thead>\n",
       "    <tbody>\n",
       "        <tr>\n",
       "            <td>Q2/16</td>\n",
       "            <td>-23.34</td>\n",
       "            <td>24.048</td>\n",
       "            <td>40.399</td>\n",
       "        </tr>\n",
       "    </tbody>\n",
       "</table>"
      ],
      "text/plain": [
       "[('Q2/16', -23.34, 24.048, 40.399)]"
      ]
     },
     "execution_count": 13,
     "metadata": {},
     "output_type": "execute_result"
    }
   ],
   "source": [
    "%%sql\n",
    "-- Calculate total revenue and units per quarter\n",
    "WITH per_quarter_data AS (\n",
    "    SELECT\n",
    "        iphone_revenue.category AS quarter,\n",
    "        iphone_revenue.yoy_growth,\n",
    "        SUM(iphone_revenue.iphone_revenue_billion)\n",
    "        AS total_revenue,\n",
    "        SUM(iphone_units.iphone_units_millions)\n",
    "        AS total_units\n",
    "    FROM iphone_revenue\n",
    "    INNER JOIN iphone_units\n",
    "    ON iphone_revenue.ID = iphone_units.sales_id\n",
    "    WHERE iphone_revenue.yoy_growth IS NOT NULL\n",
    "    GROUP BY iphone_revenue.category)\n",
    "-- Returning quarter with minimum growth\n",
    "SELECT\n",
    "    pqd.quarter,\n",
    "    MIN(pqd.yoy_growth) AS yoy_growth,\n",
    "    pqd.total_revenue,\n",
    "    pqd.total_units\n",
    "FROM per_quarter_data pqd\n",
    "INNER JOIN per_quarter_data pqd2\n",
    "ON pqd.yoy_growth = pqd2.yoy_growth;"
   ]
  },
  {
   "cell_type": "code",
   "execution_count": 14,
   "id": "55f5cdfd",
   "metadata": {
    "executionInfo": {
     "elapsed": 4,
     "status": "ok",
     "timestamp": 1752943370851,
     "user": {
      "displayName": "Benjamin Bennett Alexander",
      "userId": "14614847693800833280"
     },
     "user_tz": -180
    },
    "id": "55f5cdfd"
   },
   "outputs": [],
   "source": [
    "# %%sql\n",
    "# DROP TABLE iphone_revenue;"
   ]
  },
  {
   "cell_type": "code",
   "execution_count": 15,
   "id": "ba18b1c5",
   "metadata": {
    "executionInfo": {
     "elapsed": 5,
     "status": "ok",
     "timestamp": 1752943370860,
     "user": {
      "displayName": "Benjamin Bennett Alexander",
      "userId": "14614847693800833280"
     },
     "user_tz": -180
    },
    "id": "ba18b1c5"
   },
   "outputs": [],
   "source": [
    "# %%sql\n",
    "# DROP TABLE iphone_units;"
   ]
  },
  {
   "cell_type": "code",
   "execution_count": 15,
   "id": "e1da37d0",
   "metadata": {
    "executionInfo": {
     "elapsed": 4,
     "status": "ok",
     "timestamp": 1752943370869,
     "user": {
      "displayName": "Benjamin Bennett Alexander",
      "userId": "14614847693800833280"
     },
     "user_tz": -180
    },
    "id": "e1da37d0"
   },
   "outputs": [],
   "source": []
  }
 ],
 "metadata": {
  "colab": {
   "provenance": []
  },
  "kernelspec": {
   "display_name": "Python 3 (ipykernel)",
   "language": "python",
   "name": "python3"
  },
  "language_info": {
   "codemirror_mode": {
    "name": "ipython",
    "version": 3
   },
   "file_extension": ".py",
   "mimetype": "text/x-python",
   "name": "python",
   "nbconvert_exporter": "python",
   "pygments_lexer": "ipython3",
   "version": "3.10.5"
  }
 },
 "nbformat": 4,
 "nbformat_minor": 5
}

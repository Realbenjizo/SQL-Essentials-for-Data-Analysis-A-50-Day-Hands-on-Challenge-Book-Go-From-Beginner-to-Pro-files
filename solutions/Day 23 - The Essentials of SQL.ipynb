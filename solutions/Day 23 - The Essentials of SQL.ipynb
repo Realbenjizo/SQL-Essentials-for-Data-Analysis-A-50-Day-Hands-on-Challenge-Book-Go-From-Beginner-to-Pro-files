{
 "cells": [
  {
   "cell_type": "markdown",
   "id": "mXt4h5UqoKEq",
   "metadata": {
    "id": "mXt4h5UqoKEq"
   },
   "source": [
    "## Question 1: **Answer**"
   ]
  },
  {
   "cell_type": "code",
   "execution_count": 1,
   "id": "ff9508a2",
   "metadata": {
    "executionInfo": {
     "elapsed": 14,
     "status": "ok",
     "timestamp": 1752857440117,
     "user": {
      "displayName": "Benjamin Bennett Alexander",
      "userId": "14614847693800833280"
     },
     "user_tz": -180
    },
    "id": "ff9508a2"
   },
   "outputs": [],
   "source": [
    "import sqlite3\n",
    "import csv"
   ]
  },
  {
   "cell_type": "code",
   "execution_count": null,
   "id": "101fccab",
   "metadata": {
    "colab": {
     "base_uri": "https://localhost:8080/"
    },
    "executionInfo": {
     "elapsed": 31,
     "status": "ok",
     "timestamp": 1752857440153,
     "user": {
      "displayName": "Benjamin Bennett Alexander",
      "userId": "14614847693800833280"
     },
     "user_tz": -180
    },
    "id": "101fccab",
    "outputId": "aabec6e6-7f4b-45e2-cfce-5ec5e4c23497"
   },
   "outputs": [
    {
     "name": "stdout",
     "output_type": "stream",
     "text": [
      "Error: UNIQUE constraint failed: results.ID\n"
     ]
    }
   ],
   "source": [
    "def load_student_data(input_data):\n",
    "    try:\n",
    "        # Connecting to database and creating cursor\n",
    "        conn = sqlite3.connect(\"student_marks_record.db\")\n",
    "        cursor = conn.cursor()\n",
    "        # Creating table\n",
    "        cursor.execute(\"\"\"\n",
    "            CREATE TABLE IF NOT EXISTS results (\n",
    "                ID PRIMARY KEY,\n",
    "                first_name TEXT,\n",
    "                last_name TEXT,\n",
    "                marks INT\n",
    "            )\n",
    "        \"\"\"\n",
    "                )\n",
    "        with open(input_data, \"r\") as csv_file:\n",
    "            csv_reader = csv.reader(csv_file)\n",
    "            # Skip the header row\n",
    "            next(csv_reader)\n",
    "            for row in csv_reader:\n",
    "                cursor.execute(\"INSERT INTO results VALUES (?, ?, ?, ?)\", row)\n",
    "        print(\"Data successfully saved in the database\")\n",
    "        conn.commit()\n",
    "    except Exception as e:\n",
    "        print(f\"Error: {e}\")\n",
    "    finally:\n",
    "        conn.close()\n",
    "\n",
    "# Loading data\n",
    "data = \"/content/student_marks.csv\"\n",
    "load_student_data(data)"
   ]
  },
  {
   "cell_type": "code",
   "execution_count": 3,
   "id": "1f34b128",
   "metadata": {
    "executionInfo": {
     "elapsed": 1548,
     "status": "ok",
     "timestamp": 1752857441706,
     "user": {
      "displayName": "Benjamin Bennett Alexander",
      "userId": "14614847693800833280"
     },
     "user_tz": -180
    },
    "id": "1f34b128"
   },
   "outputs": [],
   "source": [
    "# Loading the extension\n",
    "%load_ext sql"
   ]
  },
  {
   "cell_type": "code",
   "execution_count": 4,
   "id": "8ce7a23f",
   "metadata": {
    "executionInfo": {
     "elapsed": 23,
     "status": "ok",
     "timestamp": 1752857441733,
     "user": {
      "displayName": "Benjamin Bennett Alexander",
      "userId": "14614847693800833280"
     },
     "user_tz": -180
    },
    "id": "8ce7a23f"
   },
   "outputs": [],
   "source": [
    "# Using the extension to connect to database\n",
    "%sql sqlite:///student_marks_record.db"
   ]
  },
  {
   "cell_type": "code",
   "execution_count": 5,
   "id": "hznJdmN2PhCE",
   "metadata": {
    "executionInfo": {
     "elapsed": 32,
     "status": "ok",
     "timestamp": 1752857441768,
     "user": {
      "displayName": "Benjamin Bennett Alexander",
      "userId": "14614847693800833280"
     },
     "user_tz": -180
    },
    "id": "hznJdmN2PhCE"
   },
   "outputs": [],
   "source": [
    "# Default to duplicated style\n",
    "%config SqlMagic.style = '_DEPRECATED_DEFAULT'"
   ]
  },
  {
   "cell_type": "code",
   "execution_count": 6,
   "id": "dbaf02e8",
   "metadata": {
    "colab": {
     "base_uri": "https://localhost:8080/",
     "height": 177
    },
    "executionInfo": {
     "elapsed": 77,
     "status": "ok",
     "timestamp": 1752857441863,
     "user": {
      "displayName": "Benjamin Bennett Alexander",
      "userId": "14614847693800833280"
     },
     "user_tz": -180
    },
    "id": "dbaf02e8",
    "outputId": "fb2e90bf-8e2f-4a0c-c9f3-7ee492ef01e3"
   },
   "outputs": [
    {
     "name": "stdout",
     "output_type": "stream",
     "text": [
      " * sqlite:///student_marks_record.db\n",
      "Done.\n"
     ]
    },
    {
     "data": {
      "text/html": [
       "<table>\n",
       "    <thead>\n",
       "        <tr>\n",
       "            <th>ID</th>\n",
       "            <th>first_name</th>\n",
       "            <th>last_name</th>\n",
       "            <th>marks</th>\n",
       "        </tr>\n",
       "    </thead>\n",
       "    <tbody>\n",
       "        <tr>\n",
       "            <td>101</td>\n",
       "            <td>Emma</td>\n",
       "            <td>Smith</td>\n",
       "            <td>85</td>\n",
       "        </tr>\n",
       "        <tr>\n",
       "            <td>102</td>\n",
       "            <td>Liam</td>\n",
       "            <td>Johnson</td>\n",
       "            <td>92</td>\n",
       "        </tr>\n",
       "        <tr>\n",
       "            <td>103</td>\n",
       "            <td>Olivia</td>\n",
       "            <td>Williams</td>\n",
       "            <td>78</td>\n",
       "        </tr>\n",
       "        <tr>\n",
       "            <td>104</td>\n",
       "            <td>Noah</td>\n",
       "            <td>Brown</td>\n",
       "            <td>95</td>\n",
       "        </tr>\n",
       "        <tr>\n",
       "            <td>105</td>\n",
       "            <td>Ava</td>\n",
       "            <td>Jones</td>\n",
       "            <td>88</td>\n",
       "        </tr>\n",
       "    </tbody>\n",
       "</table>"
      ],
      "text/plain": [
       "[('101', 'Emma', 'Smith', 85),\n",
       " ('102', 'Liam', 'Johnson', 92),\n",
       " ('103', 'Olivia', 'Williams', 78),\n",
       " ('104', 'Noah', 'Brown', 95),\n",
       " ('105', 'Ava', 'Jones', 88)]"
      ]
     },
     "execution_count": 6,
     "metadata": {},
     "output_type": "execute_result"
    }
   ],
   "source": [
    "%%sql\n",
    "SELECT * FROM results\n",
    "LIMIT 5;"
   ]
  },
  {
   "cell_type": "markdown",
   "id": "d_JdlDNhoXwT",
   "metadata": {
    "id": "d_JdlDNhoXwT"
   },
   "source": []
  },
  {
   "cell_type": "markdown",
   "id": "d0a30d84",
   "metadata": {
    "id": "d0a30d84"
   },
   "source": [
    "## Question 2: **Answer**"
   ]
  },
  {
   "cell_type": "code",
   "execution_count": 7,
   "id": "b42d5c0d",
   "metadata": {
    "colab": {
     "base_uri": "https://localhost:8080/",
     "height": 94
    },
    "executionInfo": {
     "elapsed": 35,
     "status": "ok",
     "timestamp": 1752857441903,
     "user": {
      "displayName": "Benjamin Bennett Alexander",
      "userId": "14614847693800833280"
     },
     "user_tz": -180
    },
    "id": "b42d5c0d",
    "outputId": "f9b0a865-6e6e-43b6-9358-7deb1a2e0d8f"
   },
   "outputs": [
    {
     "name": "stdout",
     "output_type": "stream",
     "text": [
      " * sqlite:///student_marks_record.db\n",
      "Done.\n"
     ]
    },
    {
     "data": {
      "text/html": [
       "<table>\n",
       "    <thead>\n",
       "        <tr>\n",
       "            <th>marks_between_80_and_90</th>\n",
       "        </tr>\n",
       "    </thead>\n",
       "    <tbody>\n",
       "        <tr>\n",
       "            <td>14</td>\n",
       "        </tr>\n",
       "    </tbody>\n",
       "</table>"
      ],
      "text/plain": [
       "[(14,)]"
      ]
     },
     "execution_count": 7,
     "metadata": {},
     "output_type": "execute_result"
    }
   ],
   "source": [
    "%%sql\n",
    "SELECT\n",
    "    COUNT(*) AS marks_between_80_and_90\n",
    "FROM results\n",
    "WHERE marks BETWEEN 80 AND 90;"
   ]
  },
  {
   "cell_type": "markdown",
   "id": "47bc3083",
   "metadata": {
    "id": "47bc3083"
   },
   "source": [
    "## Question 3: **Answer**"
   ]
  },
  {
   "cell_type": "code",
   "execution_count": 8,
   "id": "a720904c",
   "metadata": {
    "colab": {
     "base_uri": "https://localhost:8080/",
     "height": 94
    },
    "executionInfo": {
     "elapsed": 26,
     "status": "ok",
     "timestamp": 1752857441934,
     "user": {
      "displayName": "Benjamin Bennett Alexander",
      "userId": "14614847693800833280"
     },
     "user_tz": -180
    },
    "id": "a720904c",
    "outputId": "888fcc5d-6b87-4729-9ad1-66bbafe4b69e"
   },
   "outputs": [
    {
     "name": "stdout",
     "output_type": "stream",
     "text": [
      " * sqlite:///student_marks_record.db\n",
      "Done.\n"
     ]
    },
    {
     "data": {
      "text/html": [
       "<table>\n",
       "    <thead>\n",
       "        <tr>\n",
       "            <th>last_name</th>\n",
       "            <th>marks</th>\n",
       "        </tr>\n",
       "    </thead>\n",
       "    <tbody>\n",
       "        <tr>\n",
       "            <td>Taylor</td>\n",
       "            <td>96</td>\n",
       "        </tr>\n",
       "    </tbody>\n",
       "</table>"
      ],
      "text/plain": [
       "[('Taylor', 96)]"
      ]
     },
     "execution_count": 8,
     "metadata": {},
     "output_type": "execute_result"
    }
   ],
   "source": [
    "%%sql\n",
    "SELECT\n",
    "    last_name,\n",
    "    marks\n",
    "FROM results\n",
    "ORDER BY marks DESC\n",
    "LIMIT 1;"
   ]
  },
  {
   "cell_type": "markdown",
   "id": "ec61db83",
   "metadata": {
    "id": "ec61db83"
   },
   "source": [
    "## Question 4: **Answer**"
   ]
  },
  {
   "cell_type": "code",
   "execution_count": 9,
   "id": "43594422",
   "metadata": {
    "colab": {
     "base_uri": "https://localhost:8080/",
     "height": 177
    },
    "executionInfo": {
     "elapsed": 35,
     "status": "ok",
     "timestamp": 1752857441974,
     "user": {
      "displayName": "Benjamin Bennett Alexander",
      "userId": "14614847693800833280"
     },
     "user_tz": -180
    },
    "id": "43594422",
    "outputId": "10e3a68c-ae2e-4091-ae63-c4345fadb2f1"
   },
   "outputs": [
    {
     "name": "stdout",
     "output_type": "stream",
     "text": [
      " * sqlite:///student_marks_record.db\n",
      "Done.\n"
     ]
    },
    {
     "data": {
      "text/html": [
       "<table>\n",
       "    <thead>\n",
       "        <tr>\n",
       "            <th>first_name</th>\n",
       "            <th>last_name</th>\n",
       "            <th>marks</th>\n",
       "        </tr>\n",
       "    </thead>\n",
       "    <tbody>\n",
       "        <tr>\n",
       "            <td>Abigail</td>\n",
       "            <td>Thomas</td>\n",
       "            <td>95</td>\n",
       "        </tr>\n",
       "        <tr>\n",
       "            <td>Mia</td>\n",
       "            <td>Garcia</td>\n",
       "            <td>94</td>\n",
       "        </tr>\n",
       "        <tr>\n",
       "            <td>Ella</td>\n",
       "            <td>Brown</td>\n",
       "            <td>89</td>\n",
       "        </tr>\n",
       "        <tr>\n",
       "            <td>Logan</td>\n",
       "            <td>Anderson</td>\n",
       "            <td>78</td>\n",
       "        </tr>\n",
       "        <tr>\n",
       "            <td>Caden</td>\n",
       "            <td>Smith</td>\n",
       "            <td>77</td>\n",
       "        </tr>\n",
       "    </tbody>\n",
       "</table>"
      ],
      "text/plain": [
       "[('Abigail', 'Thomas', 95),\n",
       " ('Mia', 'Garcia', 94),\n",
       " ('Ella', 'Brown', 89),\n",
       " ('Logan', 'Anderson', 78),\n",
       " ('Caden', 'Smith', 77)]"
      ]
     },
     "execution_count": 9,
     "metadata": {},
     "output_type": "execute_result"
    }
   ],
   "source": [
    "%%sql\n",
    "SELECT\n",
    "    first_name,\n",
    "    last_name,\n",
    "    marks\n",
    "FROM results\n",
    "WHERE first_name IN ('Abigail', 'Caden',\n",
    "                  'Ella', 'Logan', 'Mia')\n",
    "ORDER BY marks DESC;"
   ]
  },
  {
   "cell_type": "markdown",
   "id": "118e5dc3",
   "metadata": {
    "id": "118e5dc3"
   },
   "source": [
    "## Question 5: **Answer**"
   ]
  },
  {
   "cell_type": "code",
   "execution_count": 10,
   "id": "d8884b29",
   "metadata": {
    "colab": {
     "base_uri": "https://localhost:8080/",
     "height": 177
    },
    "executionInfo": {
     "elapsed": 19,
     "status": "ok",
     "timestamp": 1752857441996,
     "user": {
      "displayName": "Benjamin Bennett Alexander",
      "userId": "14614847693800833280"
     },
     "user_tz": -180
    },
    "id": "d8884b29",
    "outputId": "17de87eb-250c-426e-ba55-007798486467"
   },
   "outputs": [
    {
     "name": "stdout",
     "output_type": "stream",
     "text": [
      " * sqlite:///student_marks_record.db\n",
      "Done.\n"
     ]
    },
    {
     "data": {
      "text/html": [
       "<table>\n",
       "    <thead>\n",
       "        <tr>\n",
       "            <th>marks</th>\n",
       "            <th>num_of_students</th>\n",
       "        </tr>\n",
       "    </thead>\n",
       "    <tbody>\n",
       "        <tr>\n",
       "            <td>89</td>\n",
       "            <td>3</td>\n",
       "        </tr>\n",
       "        <tr>\n",
       "            <td>95</td>\n",
       "            <td>2</td>\n",
       "        </tr>\n",
       "        <tr>\n",
       "            <td>94</td>\n",
       "            <td>2</td>\n",
       "        </tr>\n",
       "        <tr>\n",
       "            <td>92</td>\n",
       "            <td>2</td>\n",
       "        </tr>\n",
       "        <tr>\n",
       "            <td>91</td>\n",
       "            <td>2</td>\n",
       "        </tr>\n",
       "    </tbody>\n",
       "</table>"
      ],
      "text/plain": [
       "[(89, 3), (95, 2), (94, 2), (92, 2), (91, 2)]"
      ]
     },
     "execution_count": 10,
     "metadata": {},
     "output_type": "execute_result"
    }
   ],
   "source": [
    "%%sql\n",
    "SELECT\n",
    "    marks,\n",
    "    COUNT(*) AS num_of_students\n",
    "FROM results\n",
    "GROUP BY marks\n",
    "ORDER BY num_of_students DESC\n",
    "LIMIT 5;"
   ]
  },
  {
   "cell_type": "markdown",
   "id": "23b46f29",
   "metadata": {
    "id": "23b46f29"
   },
   "source": [
    "## Question 6: **Answer**"
   ]
  },
  {
   "cell_type": "code",
   "execution_count": 11,
   "id": "948c1a8e",
   "metadata": {
    "colab": {
     "base_uri": "https://localhost:8080/",
     "height": 94
    },
    "executionInfo": {
     "elapsed": 84,
     "status": "ok",
     "timestamp": 1752857442084,
     "user": {
      "displayName": "Benjamin Bennett Alexander",
      "userId": "14614847693800833280"
     },
     "user_tz": -180
    },
    "id": "948c1a8e",
    "outputId": "f31160f0-f4a0-4f29-c11c-bd61a3503502"
   },
   "outputs": [
    {
     "name": "stdout",
     "output_type": "stream",
     "text": [
      " * sqlite:///student_marks_record.db\n",
      "Done.\n"
     ]
    },
    {
     "data": {
      "text/html": [
       "<table>\n",
       "    <thead>\n",
       "        <tr>\n",
       "            <th>average_marks_abigail_amelia</th>\n",
       "        </tr>\n",
       "    </thead>\n",
       "    <tbody>\n",
       "        <tr>\n",
       "            <td>92.5</td>\n",
       "        </tr>\n",
       "    </tbody>\n",
       "</table>"
      ],
      "text/plain": [
       "[(92.5,)]"
      ]
     },
     "execution_count": 11,
     "metadata": {},
     "output_type": "execute_result"
    }
   ],
   "source": [
    "%%sql\n",
    "SELECT\n",
    "    AVG(marks) AS average_marks_abigail_amelia\n",
    "FROM results\n",
    "WHERE first_name IN ('Abigail', 'Amelia');"
   ]
  },
  {
   "cell_type": "markdown",
   "id": "c936ea5c",
   "metadata": {
    "id": "c936ea5c"
   },
   "source": [
    "## Question 7: **Answer**"
   ]
  },
  {
   "cell_type": "code",
   "execution_count": 12,
   "id": "d4ec9f89",
   "metadata": {
    "colab": {
     "base_uri": "https://localhost:8080/",
     "height": 94
    },
    "executionInfo": {
     "elapsed": 26,
     "status": "ok",
     "timestamp": 1752857442091,
     "user": {
      "displayName": "Benjamin Bennett Alexander",
      "userId": "14614847693800833280"
     },
     "user_tz": -180
    },
    "id": "d4ec9f89",
    "outputId": "1143e060-6162-4554-d47b-4fb1fb1985de"
   },
   "outputs": [
    {
     "name": "stdout",
     "output_type": "stream",
     "text": [
      " * sqlite:///student_marks_record.db\n",
      "Done.\n"
     ]
    },
    {
     "data": {
      "text/html": [
       "<table>\n",
       "    <thead>\n",
       "        <tr>\n",
       "            <th>first_name</th>\n",
       "            <th>last_name</th>\n",
       "            <th>marks</th>\n",
       "            <th>first_name_1</th>\n",
       "            <th>last_name_1</th>\n",
       "            <th>marks_1</th>\n",
       "        </tr>\n",
       "    </thead>\n",
       "    <tbody>\n",
       "        <tr>\n",
       "            <td>Lucas</td>\n",
       "            <td>Davis</td>\n",
       "            <td>76</td>\n",
       "            <td>Zoe</td>\n",
       "            <td>Taylor</td>\n",
       "            <td>96</td>\n",
       "        </tr>\n",
       "    </tbody>\n",
       "</table>"
      ],
      "text/plain": [
       "[('Lucas', 'Davis', 76, 'Zoe', 'Taylor', 96)]"
      ]
     },
     "execution_count": 12,
     "metadata": {},
     "output_type": "execute_result"
    }
   ],
   "source": [
    "%%sql\n",
    "SELECT * FROM\n",
    "     --subquery to return student with lowest mark\n",
    "            (SELECT\n",
    "                first_name,\n",
    "                last_name,\n",
    "                marks\n",
    "            FROM results\n",
    "            ORDER BY marks ASC\n",
    "            LIMIT 1)\n",
    "            AS student_lowest_mark,\n",
    "    --subquery to return student with highest mark\n",
    "            (SELECT\n",
    "                first_name,\n",
    "                last_name,\n",
    "                marks\n",
    "            FROM results\n",
    "            ORDER BY marks DESC\n",
    "            LIMIT 1)\n",
    "            AS student_highest_mark;"
   ]
  },
  {
   "cell_type": "markdown",
   "id": "_lQ2-HMJqwGh",
   "metadata": {
    "id": "_lQ2-HMJqwGh"
   },
   "source": [
    "## Question 8: **Answer**"
   ]
  },
  {
   "cell_type": "code",
   "execution_count": 13,
   "id": "JCh7jIQJQgxz",
   "metadata": {
    "colab": {
     "base_uri": "https://localhost:8080/",
     "height": 219
    },
    "executionInfo": {
     "elapsed": 19,
     "status": "ok",
     "timestamp": 1752857442111,
     "user": {
      "displayName": "Benjamin Bennett Alexander",
      "userId": "14614847693800833280"
     },
     "user_tz": -180
    },
    "id": "JCh7jIQJQgxz",
    "outputId": "c7cfe827-0230-4f2c-982f-20ccf07b3ef9"
   },
   "outputs": [
    {
     "name": "stdout",
     "output_type": "stream",
     "text": [
      " * sqlite:///student_marks_record.db\n",
      "Done.\n"
     ]
    },
    {
     "data": {
      "text/html": [
       "<table>\n",
       "    <thead>\n",
       "        <tr>\n",
       "            <th>first_name</th>\n",
       "            <th>last_name</th>\n",
       "            <th>marks</th>\n",
       "            <th>position</th>\n",
       "        </tr>\n",
       "    </thead>\n",
       "    <tbody>\n",
       "        <tr>\n",
       "            <td>Lucas</td>\n",
       "            <td>Davis</td>\n",
       "            <td>76</td>\n",
       "            <td>1</td>\n",
       "        </tr>\n",
       "        <tr>\n",
       "            <td>Caden</td>\n",
       "            <td>Smith</td>\n",
       "            <td>77</td>\n",
       "            <td>2</td>\n",
       "        </tr>\n",
       "        <tr>\n",
       "            <td>Olivia</td>\n",
       "            <td>Williams</td>\n",
       "            <td>78</td>\n",
       "            <td>3</td>\n",
       "        </tr>\n",
       "        <tr>\n",
       "            <td>Logan</td>\n",
       "            <td>Anderson</td>\n",
       "            <td>78</td>\n",
       "            <td>3</td>\n",
       "        </tr>\n",
       "        <tr>\n",
       "            <td>Aiden</td>\n",
       "            <td>Smith</td>\n",
       "            <td>79</td>\n",
       "            <td>4</td>\n",
       "        </tr>\n",
       "        <tr>\n",
       "            <td>Ethan</td>\n",
       "            <td>Smith</td>\n",
       "            <td>79</td>\n",
       "            <td>4</td>\n",
       "        </tr>\n",
       "        <tr>\n",
       "            <td>Aiden</td>\n",
       "            <td>Martinez</td>\n",
       "            <td>80</td>\n",
       "            <td>5</td>\n",
       "        </tr>\n",
       "    </tbody>\n",
       "</table>"
      ],
      "text/plain": [
       "[('Lucas', 'Davis', 76, 1),\n",
       " ('Caden', 'Smith', 77, 2),\n",
       " ('Olivia', 'Williams', 78, 3),\n",
       " ('Logan', 'Anderson', 78, 3),\n",
       " ('Aiden', 'Smith', 79, 4),\n",
       " ('Ethan', 'Smith', 79, 4),\n",
       " ('Aiden', 'Martinez', 80, 5)]"
      ]
     },
     "execution_count": 13,
     "metadata": {},
     "output_type": "execute_result"
    }
   ],
   "source": [
    "%%sql\n",
    "-- Ranking students based on marks\n",
    "WITH ranked_results AS (\n",
    "    SELECT\n",
    "        first_name,\n",
    "        last_name,\n",
    "        marks,\n",
    "        DENSE_RANK() OVER (ORDER BY marks ASC) AS position\n",
    "    FROM results\n",
    ")\n",
    "-- Select students ranked 5th or lower\n",
    "SELECT\n",
    "    first_name,\n",
    "    last_name,\n",
    "    marks,\n",
    "    position\n",
    "FROM ranked_results\n",
    "WHERE position <= 5;"
   ]
  },
  {
   "cell_type": "code",
   "execution_count": 14,
   "id": "bc685d02",
   "metadata": {
    "executionInfo": {
     "elapsed": 4,
     "status": "ok",
     "timestamp": 1752857442119,
     "user": {
      "displayName": "Benjamin Bennett Alexander",
      "userId": "14614847693800833280"
     },
     "user_tz": -180
    },
    "id": "bc685d02"
   },
   "outputs": [],
   "source": [
    "# %%sql\n",
    "# DROP TABLE results;"
   ]
  }
 ],
 "metadata": {
  "celltoolbar": "Raw Cell Format",
  "colab": {
   "provenance": []
  },
  "kernelspec": {
   "display_name": "Python 3 (ipykernel)",
   "language": "python",
   "name": "python3"
  },
  "language_info": {
   "codemirror_mode": {
    "name": "ipython",
    "version": 3
   },
   "file_extension": ".py",
   "mimetype": "text/x-python",
   "name": "python",
   "nbconvert_exporter": "python",
   "pygments_lexer": "ipython3",
   "version": "3.10.5"
  }
 },
 "nbformat": 4,
 "nbformat_minor": 5
}

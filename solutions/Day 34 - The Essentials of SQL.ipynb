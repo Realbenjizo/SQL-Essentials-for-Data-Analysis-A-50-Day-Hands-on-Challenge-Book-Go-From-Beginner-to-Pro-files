{
 "cells": [
  {
   "cell_type": "markdown",
   "id": "s7QaAbOvw5Mt",
   "metadata": {
    "id": "s7QaAbOvw5Mt"
   },
   "source": [
    "## Question 1: **Answer**"
   ]
  },
  {
   "cell_type": "code",
   "execution_count": 1,
   "id": "09b42da4",
   "metadata": {
    "executionInfo": {
     "elapsed": 777,
     "status": "ok",
     "timestamp": 1752931250878,
     "user": {
      "displayName": "Benjamin Bennett Alexander",
      "userId": "14614847693800833280"
     },
     "user_tz": -180
    },
    "id": "09b42da4"
   },
   "outputs": [],
   "source": [
    "import pandas as pd\n",
    "import sqlite3"
   ]
  },
  {
   "cell_type": "code",
   "execution_count": null,
   "id": "710accd6",
   "metadata": {
    "executionInfo": {
     "elapsed": 1299,
     "status": "ok",
     "timestamp": 1752931252173,
     "user": {
      "displayName": "Benjamin Bennett Alexander",
      "userId": "14614847693800833280"
     },
     "user_tz": -180
    },
    "id": "710accd6"
   },
   "outputs": [],
   "source": [
    "def add_data_to_database(input_data):\n",
    "    try:\n",
    "        df = pd.read_csv(input_data)\n",
    "        engine = sqlite3.connect(\"housing_data.db\")\n",
    "        df.to_sql('housing',con=engine, index = False)\n",
    "        engine.close()\n",
    "    except Exception as e:\n",
    "            print(f\"Error: {e}\")\n",
    "\n",
    "# Loading data\n",
    "data = \"/content/housing_dataset.csv\"\n",
    "add_data_to_database(data)"
   ]
  },
  {
   "cell_type": "code",
   "execution_count": 3,
   "id": "e85bc30c",
   "metadata": {
    "executionInfo": {
     "elapsed": 1097,
     "status": "ok",
     "timestamp": 1752931253263,
     "user": {
      "displayName": "Benjamin Bennett Alexander",
      "userId": "14614847693800833280"
     },
     "user_tz": -180
    },
    "id": "e85bc30c"
   },
   "outputs": [],
   "source": [
    "# Loading SQL extension\n",
    "%load_ext sql"
   ]
  },
  {
   "cell_type": "code",
   "execution_count": 4,
   "id": "2639960e",
   "metadata": {
    "executionInfo": {
     "elapsed": 67,
     "status": "ok",
     "timestamp": 1752931253333,
     "user": {
      "displayName": "Benjamin Bennett Alexander",
      "userId": "14614847693800833280"
     },
     "user_tz": -180
    },
    "id": "2639960e"
   },
   "outputs": [],
   "source": [
    "# Connecting to the database\n",
    "%sql sqlite:///housing_data.db"
   ]
  },
  {
   "cell_type": "code",
   "execution_count": 5,
   "id": "dTRll_g1uTGV",
   "metadata": {
    "executionInfo": {
     "elapsed": 10,
     "status": "ok",
     "timestamp": 1752931253348,
     "user": {
      "displayName": "Benjamin Bennett Alexander",
      "userId": "14614847693800833280"
     },
     "user_tz": -180
    },
    "id": "dTRll_g1uTGV"
   },
   "outputs": [],
   "source": [
    "# Default to duplicated style\n",
    "%config SqlMagic.style = '_DEPRECATED_DEFAULT'"
   ]
  },
  {
   "cell_type": "code",
   "execution_count": 6,
   "id": "8d81e2e7",
   "metadata": {
    "colab": {
     "base_uri": "https://localhost:8080/",
     "height": 177
    },
    "executionInfo": {
     "elapsed": 53,
     "status": "ok",
     "timestamp": 1752931253405,
     "user": {
      "displayName": "Benjamin Bennett Alexander",
      "userId": "14614847693800833280"
     },
     "user_tz": -180
    },
    "id": "8d81e2e7",
    "outputId": "75d18892-0d8d-4463-edb0-d1f447ee301c"
   },
   "outputs": [
    {
     "name": "stdout",
     "output_type": "stream",
     "text": [
      " * sqlite:///housing_data.db\n",
      "Done.\n"
     ]
    },
    {
     "data": {
      "text/html": [
       "<table>\n",
       "    <thead>\n",
       "        <tr>\n",
       "            <th>State</th>\n",
       "            <th>City</th>\n",
       "            <th>Median_Home_Price_2006</th>\n",
       "            <th>Median_Home_Price_2008</th>\n",
       "            <th>Foreclosure_Rate_2007</th>\n",
       "            <th>Foreclosure_Rate_2009</th>\n",
       "            <th>Unemployment_Rate_2007</th>\n",
       "            <th>Unemployment_Rate_2009</th>\n",
       "            <th>Median_Household_Income_2006</th>\n",
       "            <th>Median_Household_Income_2008</th>\n",
       "        </tr>\n",
       "    </thead>\n",
       "    <tbody>\n",
       "        <tr>\n",
       "            <td>CA</td>\n",
       "            <td>Los Angeles</td>\n",
       "            <td>$520,000</td>\n",
       "            <td>$430,000</td>\n",
       "            <td>1.50%</td>\n",
       "            <td>7.20%</td>\n",
       "            <td>4.50%</td>\n",
       "            <td>10.30%</td>\n",
       "            <td>$78,000</td>\n",
       "            <td>$65,000</td>\n",
       "        </tr>\n",
       "        <tr>\n",
       "            <td>FL</td>\n",
       "            <td>Miami</td>\n",
       "            <td>$380,000</td>\n",
       "            <td>$290,000</td>\n",
       "            <td>2.80%</td>\n",
       "            <td>9.50%</td>\n",
       "            <td>4.20%</td>\n",
       "            <td>11.70%</td>\n",
       "            <td>$55,000</td>\n",
       "            <td>$48,000</td>\n",
       "        </tr>\n",
       "        <tr>\n",
       "            <td>NV</td>\n",
       "            <td>Las Vegas</td>\n",
       "            <td>$410,000</td>\n",
       "            <td>$310,000</td>\n",
       "            <td>3.10%</td>\n",
       "            <td>12.40%</td>\n",
       "            <td>5.70%</td>\n",
       "            <td>14.20%</td>\n",
       "            <td>$62,000</td>\n",
       "            <td>$51,000</td>\n",
       "        </tr>\n",
       "        <tr>\n",
       "            <td>AZ</td>\n",
       "            <td>Phoenix</td>\n",
       "            <td>$250,000</td>\n",
       "            <td>$200,000</td>\n",
       "            <td>1.20%</td>\n",
       "            <td>6.80%</td>\n",
       "            <td>3.90%</td>\n",
       "            <td>9.60%</td>\n",
       "            <td>$58,000</td>\n",
       "            <td>$49,000</td>\n",
       "        </tr>\n",
       "        <tr>\n",
       "            <td>CA</td>\n",
       "            <td>San Diego</td>\n",
       "            <td>$480,000</td>\n",
       "            <td>$390,000</td>\n",
       "            <td>1.80%</td>\n",
       "            <td>8.10%</td>\n",
       "            <td>4.70%</td>\n",
       "            <td>11.00%</td>\n",
       "            <td>$72,000</td>\n",
       "            <td>$60,000</td>\n",
       "        </tr>\n",
       "    </tbody>\n",
       "</table>"
      ],
      "text/plain": [
       "[('CA', 'Los Angeles', '$520,000', '$430,000', '1.50%', '7.20%', '4.50%', '10.30%', '$78,000', '$65,000'),\n",
       " ('FL', 'Miami', '$380,000', '$290,000', '2.80%', '9.50%', '4.20%', '11.70%', '$55,000', '$48,000'),\n",
       " ('NV', 'Las Vegas', '$410,000', '$310,000', '3.10%', '12.40%', '5.70%', '14.20%', '$62,000', '$51,000'),\n",
       " ('AZ', 'Phoenix', '$250,000', '$200,000', '1.20%', '6.80%', '3.90%', '9.60%', '$58,000', '$49,000'),\n",
       " ('CA', 'San Diego', '$480,000', '$390,000', '1.80%', '8.10%', '4.70%', '11.00%', '$72,000', '$60,000')]"
      ]
     },
     "execution_count": 6,
     "metadata": {},
     "output_type": "execute_result"
    }
   ],
   "source": [
    "%%sql\n",
    "SELECT * FROM housing LIMIT 5;"
   ]
  },
  {
   "cell_type": "markdown",
   "id": "DePfrRU4xAgn",
   "metadata": {
    "id": "DePfrRU4xAgn"
   },
   "source": [
    "## Question 2: **Answer**"
   ]
  },
  {
   "cell_type": "code",
   "execution_count": 7,
   "id": "7318d3f3",
   "metadata": {
    "colab": {
     "base_uri": "https://localhost:8080/"
    },
    "executionInfo": {
     "elapsed": 23,
     "status": "ok",
     "timestamp": 1752931253559,
     "user": {
      "displayName": "Benjamin Bennett Alexander",
      "userId": "14614847693800833280"
     },
     "user_tz": -180
    },
    "id": "7318d3f3",
    "outputId": "4c7b8de0-9b4f-45b4-9bb0-b98d8fa984c4"
   },
   "outputs": [
    {
     "name": "stdout",
     "output_type": "stream",
     "text": [
      " * sqlite:///housing_data.db\n",
      "Done.\n"
     ]
    },
    {
     "data": {
      "text/plain": [
       "[]"
      ]
     },
     "execution_count": 7,
     "metadata": {},
     "output_type": "execute_result"
    }
   ],
   "source": [
    "%%sql\n",
    "CREATE TABLE housing_copy AS\n",
    "SELECT * FROM housing;"
   ]
  },
  {
   "cell_type": "markdown",
   "id": "73e9923e",
   "metadata": {
    "id": "73e9923e"
   },
   "source": [
    "#### 2.  Clean the columns( Remove the '$' and '%' from the columns.)"
   ]
  },
  {
   "cell_type": "code",
   "execution_count": 8,
   "id": "33e7c576",
   "metadata": {
    "colab": {
     "base_uri": "https://localhost:8080/"
    },
    "executionInfo": {
     "elapsed": 19,
     "status": "ok",
     "timestamp": 1752931253582,
     "user": {
      "displayName": "Benjamin Bennett Alexander",
      "userId": "14614847693800833280"
     },
     "user_tz": -180
    },
    "id": "33e7c576",
    "outputId": "1822ef08-ad7f-417e-91bf-20c5b4df9748"
   },
   "outputs": [
    {
     "name": "stdout",
     "output_type": "stream",
     "text": [
      " * sqlite:///housing_data.db\n",
      "11 rows affected.\n"
     ]
    },
    {
     "data": {
      "text/plain": [
       "[]"
      ]
     },
     "execution_count": 8,
     "metadata": {},
     "output_type": "execute_result"
    }
   ],
   "source": [
    "%%sql\n",
    "UPDATE housing_copy\n",
    "SET\n",
    "    Median_Home_Price_2006 = REPLACE(REPLACE(Median_Home_Price_2006, '$', ''), ',', ''),\n",
    "    Median_Home_Price_2008 = REPLACE(REPLACE(Median_Home_Price_2008, '$', ''), ',', ''),\n",
    "    Median_Household_Income_2006 = REPLACE(REPLACE(Median_Household_Income_2006, '$', ''), ',', ''),\n",
    "    Median_Household_Income_2008 = REPLACE(REPLACE(Median_Household_Income_2008, '$', ''), ',', ''),\n",
    "    Foreclosure_Rate_2007 = REPLACE(Foreclosure_Rate_2007, '%', ''),\n",
    "    Foreclosure_Rate_2009 = REPLACE(Foreclosure_Rate_2009, '%', ''),\n",
    "    Unemployment_Rate_2007 = REPLACE(Unemployment_Rate_2007, '%', ''),\n",
    "    Unemployment_Rate_2009 = REPLACE(Unemployment_Rate_2009, '%', '');"
   ]
  },
  {
   "cell_type": "code",
   "execution_count": 9,
   "id": "1b0d3e0d",
   "metadata": {
    "colab": {
     "base_uri": "https://localhost:8080/",
     "height": 301
    },
    "executionInfo": {
     "elapsed": 22,
     "status": "ok",
     "timestamp": 1752931253603,
     "user": {
      "displayName": "Benjamin Bennett Alexander",
      "userId": "14614847693800833280"
     },
     "user_tz": -180
    },
    "id": "1b0d3e0d",
    "outputId": "b2c6a711-11ea-4699-f3bc-7fef6293c402"
   },
   "outputs": [
    {
     "name": "stdout",
     "output_type": "stream",
     "text": [
      " * sqlite:///housing_data.db\n",
      "Done.\n"
     ]
    },
    {
     "data": {
      "text/html": [
       "<table>\n",
       "    <thead>\n",
       "        <tr>\n",
       "            <th>State</th>\n",
       "            <th>City</th>\n",
       "            <th>Median_Home_Price_2006</th>\n",
       "            <th>Median_Home_Price_2008</th>\n",
       "            <th>Foreclosure_Rate_2007</th>\n",
       "            <th>Foreclosure_Rate_2009</th>\n",
       "            <th>Unemployment_Rate_2007</th>\n",
       "            <th>Unemployment_Rate_2009</th>\n",
       "            <th>Median_Household_Income_2006</th>\n",
       "            <th>Median_Household_Income_2008</th>\n",
       "        </tr>\n",
       "    </thead>\n",
       "    <tbody>\n",
       "        <tr>\n",
       "            <td>CA</td>\n",
       "            <td>Los Angeles</td>\n",
       "            <td>520000</td>\n",
       "            <td>430000</td>\n",
       "            <td>1.50</td>\n",
       "            <td>7.20</td>\n",
       "            <td>4.50</td>\n",
       "            <td>10.30</td>\n",
       "            <td>78000</td>\n",
       "            <td>65000</td>\n",
       "        </tr>\n",
       "        <tr>\n",
       "            <td>FL</td>\n",
       "            <td>Miami</td>\n",
       "            <td>380000</td>\n",
       "            <td>290000</td>\n",
       "            <td>2.80</td>\n",
       "            <td>9.50</td>\n",
       "            <td>4.20</td>\n",
       "            <td>11.70</td>\n",
       "            <td>55000</td>\n",
       "            <td>48000</td>\n",
       "        </tr>\n",
       "        <tr>\n",
       "            <td>NV</td>\n",
       "            <td>Las Vegas</td>\n",
       "            <td>410000</td>\n",
       "            <td>310000</td>\n",
       "            <td>3.10</td>\n",
       "            <td>12.40</td>\n",
       "            <td>5.70</td>\n",
       "            <td>14.20</td>\n",
       "            <td>62000</td>\n",
       "            <td>51000</td>\n",
       "        </tr>\n",
       "        <tr>\n",
       "            <td>AZ</td>\n",
       "            <td>Phoenix</td>\n",
       "            <td>250000</td>\n",
       "            <td>200000</td>\n",
       "            <td>1.20</td>\n",
       "            <td>6.80</td>\n",
       "            <td>3.90</td>\n",
       "            <td>9.60</td>\n",
       "            <td>58000</td>\n",
       "            <td>49000</td>\n",
       "        </tr>\n",
       "        <tr>\n",
       "            <td>CA</td>\n",
       "            <td>San Diego</td>\n",
       "            <td>480000</td>\n",
       "            <td>390000</td>\n",
       "            <td>1.80</td>\n",
       "            <td>8.10</td>\n",
       "            <td>4.70</td>\n",
       "            <td>11.00</td>\n",
       "            <td>72000</td>\n",
       "            <td>60000</td>\n",
       "        </tr>\n",
       "        <tr>\n",
       "            <td>FL</td>\n",
       "            <td>Orlando</td>\n",
       "            <td>220000</td>\n",
       "            <td>180000</td>\n",
       "            <td>2.10</td>\n",
       "            <td>8.70</td>\n",
       "            <td>4.10</td>\n",
       "            <td>10.90</td>\n",
       "            <td>52000</td>\n",
       "            <td>44000</td>\n",
       "        </tr>\n",
       "        <tr>\n",
       "            <td>CA</td>\n",
       "            <td>San Jose</td>\n",
       "            <td>750000</td>\n",
       "            <td>620000</td>\n",
       "            <td>1.00</td>\n",
       "            <td>5.40</td>\n",
       "            <td>4.30</td>\n",
       "            <td>8.20</td>\n",
       "            <td>95000</td>\n",
       "            <td>80000</td>\n",
       "        </tr>\n",
       "        <tr>\n",
       "            <td>NV</td>\n",
       "            <td>Reno</td>\n",
       "            <td>340000</td>\n",
       "            <td>270000</td>\n",
       "            <td>2.40</td>\n",
       "            <td>9.80</td>\n",
       "            <td>5.40</td>\n",
       "            <td>12.90</td>\n",
       "            <td>60000</td>\n",
       "            <td>50000</td>\n",
       "        </tr>\n",
       "        <tr>\n",
       "            <td>CA</td>\n",
       "            <td>Sacramento</td>\n",
       "            <td>320000</td>\n",
       "            <td>270000</td>\n",
       "            <td>1.40</td>\n",
       "            <td>7.10</td>\n",
       "            <td>4.80</td>\n",
       "            <td>10.50</td>\n",
       "            <td>65000</td>\n",
       "            <td>56000</td>\n",
       "        </tr>\n",
       "        <tr>\n",
       "            <td>FL</td>\n",
       "            <td>Tampa</td>\n",
       "            <td>210000</td>\n",
       "            <td>170000</td>\n",
       "            <td>2.60</td>\n",
       "            <td>9.20</td>\n",
       "            <td>4.00</td>\n",
       "            <td>11.40</td>\n",
       "            <td>50000</td>\n",
       "            <td>42000</td>\n",
       "        </tr>\n",
       "        <tr>\n",
       "            <td>TX</td>\n",
       "            <td>Dallas</td>\n",
       "            <td>280000</td>\n",
       "            <td>230000</td>\n",
       "            <td>1.90</td>\n",
       "            <td>9.20</td>\n",
       "            <td>4.50</td>\n",
       "            <td>11.40</td>\n",
       "            <td>55000</td>\n",
       "            <td>42000</td>\n",
       "        </tr>\n",
       "    </tbody>\n",
       "</table>"
      ],
      "text/plain": [
       "[('CA', 'Los Angeles', '520000', '430000', '1.50', '7.20', '4.50', '10.30', '78000', '65000'),\n",
       " ('FL', 'Miami', '380000', '290000', '2.80', '9.50', '4.20', '11.70', '55000', '48000'),\n",
       " ('NV', 'Las Vegas', '410000', '310000', '3.10', '12.40', '5.70', '14.20', '62000', '51000'),\n",
       " ('AZ', 'Phoenix', '250000', '200000', '1.20', '6.80', '3.90', '9.60', '58000', '49000'),\n",
       " ('CA', 'San Diego', '480000', '390000', '1.80', '8.10', '4.70', '11.00', '72000', '60000'),\n",
       " ('FL', 'Orlando', '220000', '180000', '2.10', '8.70', '4.10', '10.90', '52000', '44000'),\n",
       " ('CA', 'San Jose', '750000', '620000', '1.00', '5.40', '4.30', '8.20', '95000', '80000'),\n",
       " ('NV', 'Reno', '340000', '270000', '2.40', '9.80', '5.40', '12.90', '60000', '50000'),\n",
       " ('CA', 'Sacramento', '320000', '270000', '1.40', '7.10', '4.80', '10.50', '65000', '56000'),\n",
       " ('FL', 'Tampa', '210000', '170000', '2.60', '9.20', '4.00', '11.40', '50000', '42000'),\n",
       " ('TX', 'Dallas', '280000', '230000', '1.90', '9.20', '4.50', '11.40', '55000', '42000')]"
      ]
     },
     "execution_count": 9,
     "metadata": {},
     "output_type": "execute_result"
    }
   ],
   "source": [
    "%%sql\n",
    "SELECT * FROM housing_copy;"
   ]
  },
  {
   "cell_type": "markdown",
   "id": "d4109d79",
   "metadata": {
    "id": "d4109d79"
   },
   "source": [
    "## Question 3: **Answer**"
   ]
  },
  {
   "cell_type": "code",
   "execution_count": 10,
   "id": "vMFFvwj6Z8Zv",
   "metadata": {
    "colab": {
     "base_uri": "https://localhost:8080/",
     "height": 94
    },
    "executionInfo": {
     "elapsed": 57,
     "status": "ok",
     "timestamp": 1752931253688,
     "user": {
      "displayName": "Benjamin Bennett Alexander",
      "userId": "14614847693800833280"
     },
     "user_tz": -180
    },
    "id": "vMFFvwj6Z8Zv",
    "outputId": "5b335be7-ee57-496e-cb00-88b4242c17c6"
   },
   "outputs": [
    {
     "name": "stdout",
     "output_type": "stream",
     "text": [
      " * sqlite:///housing_data.db\n",
      "Done.\n"
     ]
    },
    {
     "data": {
      "text/html": [
       "<table>\n",
       "    <thead>\n",
       "        <tr>\n",
       "            <th>city</th>\n",
       "            <th>price_decline</th>\n",
       "            <th>max_decline</th>\n",
       "        </tr>\n",
       "    </thead>\n",
       "    <tbody>\n",
       "        <tr>\n",
       "            <td>Miami</td>\n",
       "            <td>90000</td>\n",
       "            <td>23.68</td>\n",
       "        </tr>\n",
       "    </tbody>\n",
       "</table>"
      ],
      "text/plain": [
       "[('Miami', 90000, 23.68)]"
      ]
     },
     "execution_count": 10,
     "metadata": {},
     "output_type": "execute_result"
    }
   ],
   "source": [
    "%%sql\n",
    "-- calculating price decline per city\n",
    "WITH percent_decline AS (SELECT\n",
    "    city,\n",
    "    (Median_Home_Price_2006 - Median_Home_Price_2008) AS price_decline,\n",
    "    (((Median_Home_Price_2006 - Median_Home_Price_2008 )/\n",
    "            CAST(Median_Home_Price_2006 AS FLOAT)) * 100)\n",
    "    AS decline_percentage\n",
    "FROM housing_copy\n",
    "GROUP BY city)\n",
    "-- Returning city with second highest price decline\n",
    "SELECT\n",
    "    city,\n",
    "    price_decline,\n",
    "    ROUND(Max(decline_percentage), 2) AS max_decline\n",
    "FROM percent_decline\n",
    "WHERE decline_percentage < (SELECT MAX(decline_percentage)\n",
    "                            FROM percent_decline);"
   ]
  },
  {
   "cell_type": "markdown",
   "id": "9781f9b6",
   "metadata": {
    "id": "9781f9b6"
   },
   "source": [
    "## Question 4: **Answer**"
   ]
  },
  {
   "cell_type": "code",
   "execution_count": 11,
   "id": "7bc97eb1",
   "metadata": {
    "colab": {
     "base_uri": "https://localhost:8080/",
     "height": 115
    },
    "executionInfo": {
     "elapsed": 76,
     "status": "ok",
     "timestamp": 1752931253773,
     "user": {
      "displayName": "Benjamin Bennett Alexander",
      "userId": "14614847693800833280"
     },
     "user_tz": -180
    },
    "id": "7bc97eb1",
    "outputId": "feb72994-27f9-4658-82d8-d7928b8d251e"
   },
   "outputs": [
    {
     "name": "stdout",
     "output_type": "stream",
     "text": [
      " * sqlite:///housing_data.db\n",
      "Done.\n"
     ]
    },
    {
     "data": {
      "text/html": [
       "<table>\n",
       "    <thead>\n",
       "        <tr>\n",
       "            <th>City</th>\n",
       "            <th>price_decline</th>\n",
       "            <th>foreclosure_increase</th>\n",
       "        </tr>\n",
       "    </thead>\n",
       "    <tbody>\n",
       "        <tr>\n",
       "            <td>Los Angeles</td>\n",
       "            <td>90000</td>\n",
       "            <td>5.7</td>\n",
       "        </tr>\n",
       "        <tr>\n",
       "            <td>Phoenix</td>\n",
       "            <td>50000</td>\n",
       "            <td>5.6</td>\n",
       "        </tr>\n",
       "    </tbody>\n",
       "</table>"
      ],
      "text/plain": [
       "[('Los Angeles', 90000, 5.7), ('Phoenix', 50000, 5.6)]"
      ]
     },
     "execution_count": 11,
     "metadata": {},
     "output_type": "execute_result"
    }
   ],
   "source": [
    "%%sql\n",
    "SELECT city,\n",
    "       (Median_Home_Price_2006 - Median_Home_Price_2008)\n",
    "        AS price_decline,\n",
    "       (Foreclosure_Rate_2009 - Foreclosure_Rate_2007)\n",
    "        AS foreclosure_increase\n",
    "FROM housing_copy\n",
    "WHERE city IN ('Los Angeles', 'Phoenix')\n",
    "OrDER by foreclosure_increase DESC;"
   ]
  },
  {
   "cell_type": "markdown",
   "id": "a08a4645",
   "metadata": {
    "id": "a08a4645"
   },
   "source": [
    "## Question 5: **Answer**"
   ]
  },
  {
   "cell_type": "code",
   "execution_count": 12,
   "id": "e6960ae7",
   "metadata": {
    "colab": {
     "base_uri": "https://localhost:8080/",
     "height": 115
    },
    "executionInfo": {
     "elapsed": 81,
     "status": "ok",
     "timestamp": 1752931253813,
     "user": {
      "displayName": "Benjamin Bennett Alexander",
      "userId": "14614847693800833280"
     },
     "user_tz": -180
    },
    "id": "e6960ae7",
    "outputId": "1365ab05-c2f1-431f-a60a-6a8c382358c5"
   },
   "outputs": [
    {
     "name": "stdout",
     "output_type": "stream",
     "text": [
      " * sqlite:///housing_data.db\n",
      "Done.\n"
     ]
    },
    {
     "data": {
      "text/html": [
       "<table>\n",
       "    <thead>\n",
       "        <tr>\n",
       "            <th>State</th>\n",
       "            <th>absolute_increase</th>\n",
       "            <th>percentage_increase</th>\n",
       "        </tr>\n",
       "    </thead>\n",
       "    <tbody>\n",
       "        <tr>\n",
       "            <td>FL</td>\n",
       "            <td>6.7</td>\n",
       "            <td>239.29</td>\n",
       "        </tr>\n",
       "        <tr>\n",
       "            <td>AZ</td>\n",
       "            <td>5.6</td>\n",
       "            <td>466.67</td>\n",
       "        </tr>\n",
       "    </tbody>\n",
       "</table>"
      ],
      "text/plain": [
       "[('FL', 6.7, 239.29), ('AZ', 5.6, 466.67)]"
      ]
     },
     "execution_count": 12,
     "metadata": {},
     "output_type": "execute_result"
    }
   ],
   "source": [
    "%%sql\n",
    "-- Calculating foreclosure changes\n",
    "WITH foreclosure_changes AS (\n",
    "    SELECT\n",
    "        State,\n",
    "        (Foreclosure_Rate_2009 - Foreclosure_Rate_2007)\n",
    "        AS absolute_increase,\n",
    "        -- Calculating percentage increase in foreclosures\n",
    "        ROUND(((Foreclosure_Rate_2009 - Foreclosure_Rate_2007) /\n",
    "                Foreclosure_Rate_2007) * 100, 2)\n",
    "        AS percentage_increase\n",
    "    FROM housing_copy\n",
    ")\n",
    "-- Returning max and min absolute and percentage increase\n",
    "SELECT\n",
    "    State,\n",
    "    absolute_increase,\n",
    "    percentage_increase\n",
    "FROM foreclosure_changes\n",
    "WHERE percentage_increase = (SELECT MAX(percentage_increase)\n",
    "                             FROM foreclosure_changes)\n",
    "    OR percentage_increase = (SELECT MIN(percentage_increase)\n",
    "                              FROM foreclosure_changes);"
   ]
  },
  {
   "cell_type": "markdown",
   "id": "PG2lX6OKQavw",
   "metadata": {
    "id": "PG2lX6OKQavw"
   },
   "source": [
    "## Question 6: **Answer**"
   ]
  },
  {
   "cell_type": "code",
   "execution_count": 13,
   "id": "uJoaKLBmQFJ4",
   "metadata": {
    "colab": {
     "base_uri": "https://localhost:8080/",
     "height": 136
    },
    "executionInfo": {
     "elapsed": 132,
     "status": "ok",
     "timestamp": 1752931253903,
     "user": {
      "displayName": "Benjamin Bennett Alexander",
      "userId": "14614847693800833280"
     },
     "user_tz": -180
    },
    "id": "uJoaKLBmQFJ4",
    "outputId": "9ad79064-cc1d-4b99-c9eb-6ff78924390e"
   },
   "outputs": [
    {
     "name": "stdout",
     "output_type": "stream",
     "text": [
      " * sqlite:///housing_data.db\n",
      "Done.\n"
     ]
    },
    {
     "data": {
      "text/html": [
       "<table>\n",
       "    <thead>\n",
       "        <tr>\n",
       "            <th>State</th>\n",
       "            <th>foreclosure_increase_avg</th>\n",
       "            <th>rank</th>\n",
       "        </tr>\n",
       "    </thead>\n",
       "    <tbody>\n",
       "        <tr>\n",
       "            <td>NV</td>\n",
       "            <td>8.35</td>\n",
       "            <td>1</td>\n",
       "        </tr>\n",
       "        <tr>\n",
       "            <td>TX</td>\n",
       "            <td>7.3</td>\n",
       "            <td>2</td>\n",
       "        </tr>\n",
       "        <tr>\n",
       "            <td>FL</td>\n",
       "            <td>6.63</td>\n",
       "            <td>3</td>\n",
       "        </tr>\n",
       "    </tbody>\n",
       "</table>"
      ],
      "text/plain": [
       "[('NV', 8.35, 1), ('TX', 7.3, 2), ('FL', 6.63, 3)]"
      ]
     },
     "execution_count": 13,
     "metadata": {},
     "output_type": "execute_result"
    }
   ],
   "source": [
    "%%sql\n",
    "-- Ranking states  by changes in foreclosure rates\n",
    "WITH state_foreclosure_changes AS (\n",
    "    SELECT\n",
    "        State,\n",
    "        ROUND(AVG(Foreclosure_Rate_2009 - Foreclosure_Rate_2007), 2)\n",
    "        AS foreclosure_increase_avg,\n",
    "        DENSE_RANK() OVER (ORDER BY AVG(Foreclosure_Rate_2009 - Foreclosure_Rate_2007) DESC)\n",
    "        AS rank\n",
    "    FROM housing_copy\n",
    "    GROUP BY State\n",
    ")\n",
    "-- Returning the top 3 ranked states\n",
    "SELECT\n",
    "    State,\n",
    "    foreclosure_increase_avg,\n",
    "    rank\n",
    "FROM state_foreclosure_changes\n",
    "WHERE rank <= 3;"
   ]
  },
  {
   "cell_type": "code",
   "execution_count": 14,
   "id": "zDkTFdKsQVk4",
   "metadata": {
    "executionInfo": {
     "elapsed": 19,
     "status": "ok",
     "timestamp": 1752931253929,
     "user": {
      "displayName": "Benjamin Bennett Alexander",
      "userId": "14614847693800833280"
     },
     "user_tz": -180
    },
    "id": "zDkTFdKsQVk4"
   },
   "outputs": [],
   "source": [
    "# %%sql\n",
    "# DROP TABLE housing_copy;"
   ]
  }
 ],
 "metadata": {
  "colab": {
   "provenance": []
  },
  "kernelspec": {
   "display_name": "Python 3 (ipykernel)",
   "language": "python",
   "name": "python3"
  },
  "language_info": {
   "codemirror_mode": {
    "name": "ipython",
    "version": 3
   },
   "file_extension": ".py",
   "mimetype": "text/x-python",
   "name": "python",
   "nbconvert_exporter": "python",
   "pygments_lexer": "ipython3",
   "version": "3.10.5"
  }
 },
 "nbformat": 4,
 "nbformat_minor": 5
}

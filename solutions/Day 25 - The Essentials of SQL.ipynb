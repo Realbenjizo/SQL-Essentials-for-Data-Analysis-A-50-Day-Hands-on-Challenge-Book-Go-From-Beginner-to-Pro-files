{
 "cells": [
  {
   "cell_type": "markdown",
   "id": "GZs4bKhs59BB",
   "metadata": {
    "id": "GZs4bKhs59BB"
   },
   "source": [
    "## Question 1: **Answer**"
   ]
  },
  {
   "cell_type": "code",
   "execution_count": 1,
   "id": "d83b4df3",
   "metadata": {
    "executionInfo": {
     "elapsed": 407,
     "status": "ok",
     "timestamp": 1752918779831,
     "user": {
      "displayName": "Benjamin Bennett Alexander",
      "userId": "14614847693800833280"
     },
     "user_tz": -180
    },
    "id": "d83b4df3"
   },
   "outputs": [],
   "source": [
    "import pandas as pd\n",
    "import sqlite3"
   ]
  },
  {
   "cell_type": "code",
   "execution_count": null,
   "id": "21fb22aa",
   "metadata": {
    "executionInfo": {
     "elapsed": 1151,
     "status": "ok",
     "timestamp": 1752918781007,
     "user": {
      "displayName": "Benjamin Bennett Alexander",
      "userId": "14614847693800833280"
     },
     "user_tz": -180
    },
    "id": "21fb22aa"
   },
   "outputs": [],
   "source": [
    "def add_data_to_database(data):\n",
    "    try:\n",
    "        data = pd.read_csv(data)\n",
    "        engine = sqlite3.connect(\"mechanics_data.db\")\n",
    "        data.to_sql('mechanics',con=engine, index = False)\n",
    "        engine.close()\n",
    "    except Exception as e:\n",
    "            print(f\"Error: {e}\")\n",
    "\n",
    "data = \"/content/mechanics_contact_info_data.csv\"\n",
    "add_data_to_database(data)"
   ]
  },
  {
   "cell_type": "code",
   "execution_count": 3,
   "id": "50f1d0a9",
   "metadata": {
    "executionInfo": {
     "elapsed": 741,
     "status": "ok",
     "timestamp": 1752918781760,
     "user": {
      "displayName": "Benjamin Bennett Alexander",
      "userId": "14614847693800833280"
     },
     "user_tz": -180
    },
    "id": "50f1d0a9"
   },
   "outputs": [],
   "source": [
    "%load_ext sql"
   ]
  },
  {
   "cell_type": "code",
   "execution_count": 4,
   "id": "1b71f3f7",
   "metadata": {
    "executionInfo": {
     "elapsed": 23,
     "status": "ok",
     "timestamp": 1752918781806,
     "user": {
      "displayName": "Benjamin Bennett Alexander",
      "userId": "14614847693800833280"
     },
     "user_tz": -180
    },
    "id": "1b71f3f7"
   },
   "outputs": [],
   "source": [
    "# Connecting to the database\n",
    "%sql sqlite:///mechanics_data.db"
   ]
  },
  {
   "cell_type": "code",
   "execution_count": 5,
   "id": "giG2rnfES9Fi",
   "metadata": {
    "executionInfo": {
     "elapsed": 5,
     "status": "ok",
     "timestamp": 1752918781815,
     "user": {
      "displayName": "Benjamin Bennett Alexander",
      "userId": "14614847693800833280"
     },
     "user_tz": -180
    },
    "id": "giG2rnfES9Fi"
   },
   "outputs": [],
   "source": [
    "# Default to duplicated style\n",
    "%config SqlMagic.style = '_DEPRECATED_DEFAULT'"
   ]
  },
  {
   "cell_type": "code",
   "execution_count": 6,
   "id": "3bcc0b6f",
   "metadata": {
    "colab": {
     "base_uri": "https://localhost:8080/",
     "height": 177
    },
    "executionInfo": {
     "elapsed": 60,
     "status": "ok",
     "timestamp": 1752918781973,
     "user": {
      "displayName": "Benjamin Bennett Alexander",
      "userId": "14614847693800833280"
     },
     "user_tz": -180
    },
    "id": "3bcc0b6f",
    "outputId": "e924cd44-f296-4894-a717-528c6bb9374a"
   },
   "outputs": [
    {
     "name": "stdout",
     "output_type": "stream",
     "text": [
      " * sqlite:///mechanics_data.db\n",
      "Done.\n"
     ]
    },
    {
     "data": {
      "text/html": [
       "<table>\n",
       "    <thead>\n",
       "        <tr>\n",
       "            <th>MechanicID</th>\n",
       "            <th>FirstName</th>\n",
       "            <th>LastName</th>\n",
       "            <th>Email</th>\n",
       "            <th>Phone</th>\n",
       "            <th>Address</th>\n",
       "            <th>State</th>\n",
       "            <th>ZipCode</th>\n",
       "            <th>Specialization</th>\n",
       "            <th>ExperienceYears</th>\n",
       "        </tr>\n",
       "    </thead>\n",
       "    <tbody>\n",
       "        <tr>\n",
       "            <td>100</td>\n",
       "            <td>John</td>\n",
       "            <td>Doe</td>\n",
       "            <td>john.doe@example.com</td>\n",
       "            <td>(555) 123-4567</td>\n",
       "            <td>123 Main St</td>\n",
       "            <td>CA</td>\n",
       "            <td>12345.0</td>\n",
       "            <td>General Repairs</td>\n",
       "            <td>10.0</td>\n",
       "        </tr>\n",
       "        <tr>\n",
       "            <td>101</td>\n",
       "            <td>Susan</td>\n",
       "            <td>Smith</td>\n",
       "            <td>susan.smith@example.com</td>\n",
       "            <td>(555) 987-6543</td>\n",
       "            <td>456 Oak St</td>\n",
       "            <td>NY</td>\n",
       "            <td>56789.0</td>\n",
       "            <td>Brake Systems</td>\n",
       "            <td>8.0</td>\n",
       "        </tr>\n",
       "        <tr>\n",
       "            <td>102</td>\n",
       "            <td>Michael</td>\n",
       "            <td>Johnson</td>\n",
       "            <td>michael.johnson@example.com</td>\n",
       "            <td>(555) 234-5678</td>\n",
       "            <td>789 Elm St</td>\n",
       "            <td>TX</td>\n",
       "            <td>67890.0</td>\n",
       "            <td>Engine Diagnostics</td>\n",
       "            <td>12.0</td>\n",
       "        </tr>\n",
       "        <tr>\n",
       "            <td>103</td>\n",
       "            <td>Lisa</td>\n",
       "            <td>Brown</td>\n",
       "            <td>lisa.brown@example.com</td>\n",
       "            <td>(555) 345-6789</td>\n",
       "            <td>101 Pine St</td>\n",
       "            <td>FL</td>\n",
       "            <td>78901.0</td>\n",
       "            <td>Transmission Services</td>\n",
       "            <td>9.0</td>\n",
       "        </tr>\n",
       "        <tr>\n",
       "            <td>104</td>\n",
       "            <td>Robert</td>\n",
       "            <td>Miller</td>\n",
       "            <td>robert.miller@example.com</td>\n",
       "            <td>(555) 876-5432</td>\n",
       "            <td>202 Cedar St</td>\n",
       "            <td>WA</td>\n",
       "            <td>89012.0</td>\n",
       "            <td>Suspension Repairs</td>\n",
       "            <td>11.0</td>\n",
       "        </tr>\n",
       "    </tbody>\n",
       "</table>"
      ],
      "text/plain": [
       "[(100, 'John', 'Doe', 'john.doe@example.com', '(555) 123-4567', '123 Main St', 'CA', 12345.0, 'General Repairs', 10.0),\n",
       " (101, 'Susan', 'Smith', 'susan.smith@example.com', '(555) 987-6543', '456 Oak St', 'NY', 56789.0, 'Brake Systems', 8.0),\n",
       " (102, 'Michael', 'Johnson', 'michael.johnson@example.com', '(555) 234-5678', '789 Elm St', 'TX', 67890.0, 'Engine Diagnostics', 12.0),\n",
       " (103, 'Lisa', 'Brown', 'lisa.brown@example.com', '(555) 345-6789', '101 Pine St', 'FL', 78901.0, 'Transmission Services', 9.0),\n",
       " (104, 'Robert', 'Miller', 'robert.miller@example.com', '(555) 876-5432', '202 Cedar St', 'WA', 89012.0, 'Suspension Repairs', 11.0)]"
      ]
     },
     "execution_count": 6,
     "metadata": {},
     "output_type": "execute_result"
    }
   ],
   "source": [
    "%%sql\n",
    "SELECT * FROM mechanics\n",
    "LIMIT 5;"
   ]
  },
  {
   "cell_type": "markdown",
   "id": "b283e001",
   "metadata": {
    "id": "b283e001"
   },
   "source": [
    "## Question 2: **Answer**"
   ]
  },
  {
   "cell_type": "code",
   "execution_count": 7,
   "id": "8bcd8015",
   "metadata": {
    "colab": {
     "base_uri": "https://localhost:8080/",
     "height": 94
    },
    "executionInfo": {
     "elapsed": 17,
     "status": "ok",
     "timestamp": 1752918781994,
     "user": {
      "displayName": "Benjamin Bennett Alexander",
      "userId": "14614847693800833280"
     },
     "user_tz": -180
    },
    "id": "8bcd8015",
    "outputId": "f9e8b2bf-b9fd-491a-f386-9c6971d1d759"
   },
   "outputs": [
    {
     "name": "stdout",
     "output_type": "stream",
     "text": [
      " * sqlite:///mechanics_data.db\n",
      "Done.\n"
     ]
    },
    {
     "data": {
      "text/html": [
       "<table>\n",
       "    <thead>\n",
       "        <tr>\n",
       "            <th>Email</th>\n",
       "            <th>Phone</th>\n",
       "        </tr>\n",
       "    </thead>\n",
       "    <tbody>\n",
       "        <tr>\n",
       "            <td>ella.cooper@example.com</td>\n",
       "            <td>(555) 789-0123</td>\n",
       "        </tr>\n",
       "    </tbody>\n",
       "</table>"
      ],
      "text/plain": [
       "[('ella.cooper@example.com', '(555) 789-0123')]"
      ]
     },
     "execution_count": 7,
     "metadata": {},
     "output_type": "execute_result"
    }
   ],
   "source": [
    "%%sql\n",
    "SELECT\n",
    "    Email,\n",
    "    Phone\n",
    "FROM mechanics\n",
    "WHERE FirstName = 'Ella'\n",
    "    AND LastName = 'Cooper'\n",
    "    AND Specialization = 'Transmission Services';"
   ]
  },
  {
   "cell_type": "markdown",
   "id": "dce430d6",
   "metadata": {
    "id": "dce430d6"
   },
   "source": [
    "## Question 3: **Answer**"
   ]
  },
  {
   "cell_type": "code",
   "execution_count": 8,
   "id": "b1190a26",
   "metadata": {
    "colab": {
     "base_uri": "https://localhost:8080/",
     "height": 115
    },
    "executionInfo": {
     "elapsed": 17,
     "status": "ok",
     "timestamp": 1752918782015,
     "user": {
      "displayName": "Benjamin Bennett Alexander",
      "userId": "14614847693800833280"
     },
     "user_tz": -180
    },
    "id": "b1190a26",
    "outputId": "dd6ab8b3-5c2c-4571-b42c-9eb782c6b796"
   },
   "outputs": [
    {
     "name": "stdout",
     "output_type": "stream",
     "text": [
      " * sqlite:///mechanics_data.db\n",
      "Done.\n"
     ]
    },
    {
     "data": {
      "text/html": [
       "<table>\n",
       "    <thead>\n",
       "        <tr>\n",
       "            <th>LastName</th>\n",
       "            <th>Email</th>\n",
       "        </tr>\n",
       "    </thead>\n",
       "    <tbody>\n",
       "        <tr>\n",
       "            <td>Price</td>\n",
       "            <td>andrew.price@example.com</td>\n",
       "        </tr>\n",
       "        <tr>\n",
       "            <td>Brooks</td>\n",
       "            <td>sofia.brooks@example.com</td>\n",
       "        </tr>\n",
       "    </tbody>\n",
       "</table>"
      ],
      "text/plain": [
       "[('Price', 'andrew.price@example.com'), ('Brooks', 'sofia.brooks@example.com')]"
      ]
     },
     "execution_count": 8,
     "metadata": {},
     "output_type": "execute_result"
    }
   ],
   "source": [
    "%%sql\n",
    "SELECT\n",
    "    LastName,\n",
    "    Email\n",
    "FROM mechanics\n",
    "WHERE State = 'TX'\n",
    "    AND Specialization IN ('Electrical Systems', 'Air Conditioning');"
   ]
  },
  {
   "cell_type": "markdown",
   "id": "e3b55cec",
   "metadata": {
    "id": "e3b55cec"
   },
   "source": [
    "## Question 4: **Answer**"
   ]
  },
  {
   "cell_type": "code",
   "execution_count": 9,
   "id": "76258ec6",
   "metadata": {
    "colab": {
     "base_uri": "https://localhost:8080/",
     "height": 115
    },
    "executionInfo": {
     "elapsed": 24,
     "status": "ok",
     "timestamp": 1752918782045,
     "user": {
      "displayName": "Benjamin Bennett Alexander",
      "userId": "14614847693800833280"
     },
     "user_tz": -180
    },
    "id": "76258ec6",
    "outputId": "45d964fc-617f-4c87-feaf-f6709e60ce83"
   },
   "outputs": [
    {
     "name": "stdout",
     "output_type": "stream",
     "text": [
      " * sqlite:///mechanics_data.db\n",
      "Done.\n"
     ]
    },
    {
     "data": {
      "text/html": [
       "<table>\n",
       "    <thead>\n",
       "        <tr>\n",
       "            <th>LastName</th>\n",
       "            <th>FirstName</th>\n",
       "            <th>ExperienceYears</th>\n",
       "            <th>Specialization</th>\n",
       "        </tr>\n",
       "    </thead>\n",
       "    <tbody>\n",
       "        <tr>\n",
       "            <td>White</td>\n",
       "            <td>James</td>\n",
       "            <td>11.0</td>\n",
       "            <td>Transmission Services</td>\n",
       "        </tr>\n",
       "        <tr>\n",
       "            <td>Hall</td>\n",
       "            <td>Liam</td>\n",
       "            <td>10.0</td>\n",
       "            <td>Transmission Services</td>\n",
       "        </tr>\n",
       "    </tbody>\n",
       "</table>"
      ],
      "text/plain": [
       "[('White', 'James', 11.0, 'Transmission Services'),\n",
       " ('Hall', 'Liam', 10.0, 'Transmission Services')]"
      ]
     },
     "execution_count": 9,
     "metadata": {},
     "output_type": "execute_result"
    }
   ],
   "source": [
    "%%sql\n",
    "SELECT\n",
    "    LastName,\n",
    "    FirstName,\n",
    "    ExperienceYears,\n",
    "    Specialization\n",
    "FROM mechanics\n",
    "WHERE Specialization = 'Transmission Services'\n",
    "    AND ExperienceYears >= 10;"
   ]
  },
  {
   "cell_type": "markdown",
   "id": "6e57d9f2",
   "metadata": {
    "id": "6e57d9f2"
   },
   "source": [
    "## Question 5: **Answer**"
   ]
  },
  {
   "cell_type": "code",
   "execution_count": 10,
   "id": "c9c3bd7f",
   "metadata": {
    "colab": {
     "base_uri": "https://localhost:8080/",
     "height": 177
    },
    "executionInfo": {
     "elapsed": 44,
     "status": "ok",
     "timestamp": 1752918782094,
     "user": {
      "displayName": "Benjamin Bennett Alexander",
      "userId": "14614847693800833280"
     },
     "user_tz": -180
    },
    "id": "c9c3bd7f",
    "outputId": "980d71c1-9174-4e3f-86b2-ba2d65dc7448"
   },
   "outputs": [
    {
     "name": "stdout",
     "output_type": "stream",
     "text": [
      " * sqlite:///mechanics_data.db\n",
      "Done.\n"
     ]
    },
    {
     "data": {
      "text/html": [
       "<table>\n",
       "    <thead>\n",
       "        <tr>\n",
       "            <th>State</th>\n",
       "            <th>number_of_mechanics</th>\n",
       "        </tr>\n",
       "    </thead>\n",
       "    <tbody>\n",
       "        <tr>\n",
       "            <td>TX</td>\n",
       "            <td>5</td>\n",
       "        </tr>\n",
       "        <tr>\n",
       "            <td>NY</td>\n",
       "            <td>5</td>\n",
       "        </tr>\n",
       "        <tr>\n",
       "            <td>FL</td>\n",
       "            <td>5</td>\n",
       "        </tr>\n",
       "        <tr>\n",
       "            <td>CA</td>\n",
       "            <td>5</td>\n",
       "        </tr>\n",
       "        <tr>\n",
       "            <td>WA</td>\n",
       "            <td>4</td>\n",
       "        </tr>\n",
       "    </tbody>\n",
       "</table>"
      ],
      "text/plain": [
       "[('TX', 5), ('NY', 5), ('FL', 5), ('CA', 5), ('WA', 4)]"
      ]
     },
     "execution_count": 10,
     "metadata": {},
     "output_type": "execute_result"
    }
   ],
   "source": [
    "%%sql\n",
    "SELECT\n",
    "    State,\n",
    "    COUNT(*) AS number_of_mechanics\n",
    "FROM mechanics\n",
    "GROUP BY State\n",
    "ORDER BY number_of_mechanics DESC\n",
    "LIMIT 5;"
   ]
  },
  {
   "cell_type": "markdown",
   "id": "ed8286d2",
   "metadata": {
    "id": "ed8286d2"
   },
   "source": [
    "## Question 6: **Answer**"
   ]
  },
  {
   "cell_type": "code",
   "execution_count": 11,
   "id": "67d2c608",
   "metadata": {
    "colab": {
     "base_uri": "https://localhost:8080/",
     "height": 94
    },
    "executionInfo": {
     "elapsed": 55,
     "status": "ok",
     "timestamp": 1752918782152,
     "user": {
      "displayName": "Benjamin Bennett Alexander",
      "userId": "14614847693800833280"
     },
     "user_tz": -180
    },
    "id": "67d2c608",
    "outputId": "e739cd81-51f8-4941-d015-36b7988fa068"
   },
   "outputs": [
    {
     "name": "stdout",
     "output_type": "stream",
     "text": [
      " * sqlite:///mechanics_data.db\n",
      "Done.\n"
     ]
    },
    {
     "data": {
      "text/html": [
       "<table>\n",
       "    <thead>\n",
       "        <tr>\n",
       "            <th>smith_exists</th>\n",
       "        </tr>\n",
       "    </thead>\n",
       "    <tbody>\n",
       "        <tr>\n",
       "            <td>0</td>\n",
       "        </tr>\n",
       "    </tbody>\n",
       "</table>"
      ],
      "text/plain": [
       "[(0,)]"
      ]
     },
     "execution_count": 11,
     "metadata": {},
     "output_type": "execute_result"
    }
   ],
   "source": [
    "%%sql\n",
    "SELECT\n",
    "CASE\n",
    "    WHEN MAX(CASE WHEN Specialization LIKE 'Electrical%'\n",
    "             AND LastName LIKE 'Smith' THEN 1 ELSE 0 END) = 1\n",
    "    THEN 1\n",
    "    ELSE 0\n",
    "END AS smith_exists\n",
    "FROM mechanics;"
   ]
  },
  {
   "cell_type": "markdown",
   "id": "60a67453",
   "metadata": {
    "id": "60a67453"
   },
   "source": [
    "## Question 7: **Answer**"
   ]
  },
  {
   "cell_type": "code",
   "execution_count": 12,
   "id": "75b4c135",
   "metadata": {
    "colab": {
     "base_uri": "https://localhost:8080/",
     "height": 94
    },
    "executionInfo": {
     "elapsed": 20,
     "status": "ok",
     "timestamp": 1752918782176,
     "user": {
      "displayName": "Benjamin Bennett Alexander",
      "userId": "14614847693800833280"
     },
     "user_tz": -180
    },
    "id": "75b4c135",
    "outputId": "319d89f6-b105-47cd-8e87-a2b4bc794de1"
   },
   "outputs": [
    {
     "name": "stdout",
     "output_type": "stream",
     "text": [
      " * sqlite:///mechanics_data.db\n",
      "Done.\n"
     ]
    },
    {
     "data": {
      "text/html": [
       "<table>\n",
       "    <thead>\n",
       "        <tr>\n",
       "            <th>total_experience_in_tx</th>\n",
       "            <th>total_experience_in_ca</th>\n",
       "        </tr>\n",
       "    </thead>\n",
       "    <tbody>\n",
       "        <tr>\n",
       "            <td>60.0</td>\n",
       "            <td>50.0</td>\n",
       "        </tr>\n",
       "    </tbody>\n",
       "</table>"
      ],
      "text/plain": [
       "[(60.0, 50.0)]"
      ]
     },
     "execution_count": 12,
     "metadata": {},
     "output_type": "execute_result"
    }
   ],
   "source": [
    "%%sql\n",
    "SELECT\n",
    "-- Subquery to sum total experience in Texas\n",
    "    (SELECT SUM(ExperienceYears)\n",
    "     FROM mechanics\n",
    "     WHERE State = 'TX') AS total_experience_in_tx,\n",
    "-- Subquery to sum total experience in California\n",
    "    (SELECT SUM(ExperienceYears)\n",
    "     FROM mechanics\n",
    "     WHERE State = 'CA') AS total_experience_in_ca;"
   ]
  }
 ],
 "metadata": {
  "colab": {
   "provenance": []
  },
  "kernelspec": {
   "display_name": "Python 3 (ipykernel)",
   "language": "python",
   "name": "python3"
  },
  "language_info": {
   "codemirror_mode": {
    "name": "ipython",
    "version": 3
   },
   "file_extension": ".py",
   "mimetype": "text/x-python",
   "name": "python",
   "nbconvert_exporter": "python",
   "pygments_lexer": "ipython3",
   "version": "3.10.5"
  }
 },
 "nbformat": 4,
 "nbformat_minor": 5
}

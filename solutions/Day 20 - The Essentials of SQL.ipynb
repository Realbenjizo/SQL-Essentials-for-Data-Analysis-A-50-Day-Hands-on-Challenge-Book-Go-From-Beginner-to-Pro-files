{
 "cells": [
  {
   "cell_type": "markdown",
   "metadata": {
    "id": "vMopArUKrl1f"
   },
   "source": [
    "## Question 1. Answer"
   ]
  },
  {
   "cell_type": "code",
   "execution_count": 1,
   "metadata": {
    "executionInfo": {
     "elapsed": 30,
     "status": "ok",
     "timestamp": 1752836933853,
     "user": {
      "displayName": "Benjamin Bennett Alexander",
      "userId": "14614847693800833280"
     },
     "user_tz": -180
    },
    "id": "w1I8i4j2YXp1"
   },
   "outputs": [],
   "source": [
    "import sqlite3\n",
    "import csv"
   ]
  },
  {
   "cell_type": "code",
   "execution_count": null,
   "metadata": {
    "colab": {
     "base_uri": "https://localhost:8080/"
    },
    "executionInfo": {
     "elapsed": 38,
     "status": "ok",
     "timestamp": 1752836933888,
     "user": {
      "displayName": "Benjamin Bennett Alexander",
      "userId": "14614847693800833280"
     },
     "user_tz": -180
    },
    "id": "gaqUxk5MZXmu",
    "outputId": "d58f9038-d129-4487-bfdc-8bf0ede84943"
   },
   "outputs": [
    {
     "name": "stdout",
     "output_type": "stream",
     "text": [
      "Error occurred: UNIQUE constraint failed: scientists.scientist_id\n"
     ]
    }
   ],
   "source": [
    "def load_scientists_from_csv(data):\n",
    "    try:\n",
    "        # Connecting to the database\n",
    "        conn = sqlite3.connect('scientists_data.db')\n",
    "        cursor = conn.cursor()\n",
    "\n",
    "        # Creating table if it doesn't exist\n",
    "        cursor.execute('''\n",
    "            CREATE TABLE IF NOT EXISTS scientists (\n",
    "                scientist_id INTEGER PRIMARY KEY,\n",
    "                name TEXT,\n",
    "                birth_year INT,\n",
    "                nationality TEXT,\n",
    "                accomplishment TEXT\n",
    "            )\n",
    "        ''')\n",
    "        # Loading data from the CSV file\n",
    "        with open(data, 'r') as csv_file:\n",
    "            csv_reader = csv.reader(csv_file)\n",
    "            next(csv_reader)  # Skip the header row\n",
    "            for row in csv_reader:\n",
    "                cursor.execute(\"INSERT INTO scientists VALUES (?, ?, ?, ?, ?)\", row)\n",
    "        conn.commit()\n",
    "        print(\"Data loaded successfully!\")\n",
    "    except Exception as e:\n",
    "        print(f\"Error occurred: {e}\")\n",
    "    finally:\n",
    "        conn.close()\n",
    "\n",
    "# Loading data\n",
    "data = \"/content/scientists1.csv\"\n",
    "load_scientists_from_csv(data)"
   ]
  },
  {
   "cell_type": "code",
   "execution_count": 3,
   "metadata": {
    "executionInfo": {
     "elapsed": 569,
     "status": "ok",
     "timestamp": 1752836934464,
     "user": {
      "displayName": "Benjamin Bennett Alexander",
      "userId": "14614847693800833280"
     },
     "user_tz": -180
    },
    "id": "4bQIgkGrwgVA"
   },
   "outputs": [],
   "source": [
    "%load_ext sql"
   ]
  },
  {
   "cell_type": "code",
   "execution_count": 4,
   "metadata": {
    "executionInfo": {
     "elapsed": 39,
     "status": "ok",
     "timestamp": 1752836934509,
     "user": {
      "displayName": "Benjamin Bennett Alexander",
      "userId": "14614847693800833280"
     },
     "user_tz": -180
    },
    "id": "l61gYWCxdKa2"
   },
   "outputs": [],
   "source": [
    "%sql sqlite:///scientists_data.db"
   ]
  },
  {
   "cell_type": "code",
   "execution_count": 5,
   "metadata": {
    "executionInfo": {
     "elapsed": 36,
     "status": "ok",
     "timestamp": 1752836934514,
     "user": {
      "displayName": "Benjamin Bennett Alexander",
      "userId": "14614847693800833280"
     },
     "user_tz": -180
    },
    "id": "HZEYmogxi9w7"
   },
   "outputs": [],
   "source": [
    "%config SqlMagic.style = '_DEPRECATED_DEFAULT'"
   ]
  },
  {
   "cell_type": "code",
   "execution_count": 6,
   "metadata": {
    "colab": {
     "base_uri": "https://localhost:8080/",
     "height": 177
    },
    "executionInfo": {
     "elapsed": 32,
     "status": "ok",
     "timestamp": 1752836934517,
     "user": {
      "displayName": "Benjamin Bennett Alexander",
      "userId": "14614847693800833280"
     },
     "user_tz": -180
    },
    "id": "4D-JN71WdzsV",
    "outputId": "e70f33fb-792a-4734-a3bd-e95c8898c533"
   },
   "outputs": [
    {
     "name": "stdout",
     "output_type": "stream",
     "text": [
      " * sqlite:///scientists_data.db\n",
      "Done.\n"
     ]
    },
    {
     "data": {
      "text/html": [
       "<table>\n",
       "    <thead>\n",
       "        <tr>\n",
       "            <th>scientist_id</th>\n",
       "            <th>name</th>\n",
       "            <th>birth_year</th>\n",
       "            <th>nationality</th>\n",
       "            <th>accomplishment</th>\n",
       "        </tr>\n",
       "    </thead>\n",
       "    <tbody>\n",
       "        <tr>\n",
       "            <td>1</td>\n",
       "            <td>Albert  Einstein</td>\n",
       "            <td>1879</td>\n",
       "            <td>German</td>\n",
       "            <td>Theory_of_Relativity</td>\n",
       "        </tr>\n",
       "        <tr>\n",
       "            <td>2</td>\n",
       "            <td>Marie  Curie</td>\n",
       "            <td>1867</td>\n",
       "            <td>Polish</td>\n",
       "            <td>Radioactivity</td>\n",
       "        </tr>\n",
       "        <tr>\n",
       "            <td>3</td>\n",
       "            <td>Isaac  Newton</td>\n",
       "            <td>1643</td>\n",
       "            <td>English</td>\n",
       "            <td>Laws_of_Motion</td>\n",
       "        </tr>\n",
       "        <tr>\n",
       "            <td>4</td>\n",
       "            <td>Charles  Darwin</td>\n",
       "            <td>1809</td>\n",
       "            <td>English</td>\n",
       "            <td>Theory_of_Evolution</td>\n",
       "        </tr>\n",
       "        <tr>\n",
       "            <td>5</td>\n",
       "            <td>Nikola  Tesla</td>\n",
       "            <td>1856</td>\n",
       "            <td>Serbian</td>\n",
       "            <td>AC_Electricity</td>\n",
       "        </tr>\n",
       "    </tbody>\n",
       "</table>"
      ],
      "text/plain": [
       "[(1, 'Albert  Einstein', 1879, 'German', 'Theory_of_Relativity'),\n",
       " (2, 'Marie  Curie', 1867, 'Polish', 'Radioactivity'),\n",
       " (3, 'Isaac  Newton', 1643, 'English', 'Laws_of_Motion'),\n",
       " (4, 'Charles  Darwin', 1809, 'English', 'Theory_of_Evolution'),\n",
       " (5, 'Nikola  Tesla', 1856, 'Serbian', 'AC_Electricity')]"
      ]
     },
     "execution_count": 6,
     "metadata": {},
     "output_type": "execute_result"
    }
   ],
   "source": [
    "%%sql\n",
    "SELECT * FROM scientists\n",
    "LIMIT 5;"
   ]
  },
  {
   "cell_type": "markdown",
   "metadata": {
    "id": "yKsC3tV3jvgC"
   },
   "source": [
    "## Question 2. Answer"
   ]
  },
  {
   "cell_type": "code",
   "execution_count": 7,
   "metadata": {
    "colab": {
     "base_uri": "https://localhost:8080/"
    },
    "executionInfo": {
     "elapsed": 33,
     "status": "ok",
     "timestamp": 1752836934641,
     "user": {
      "displayName": "Benjamin Bennett Alexander",
      "userId": "14614847693800833280"
     },
     "user_tz": -180
    },
    "id": "r0b7G1-0j0ii",
    "outputId": "9b124eee-817d-4f12-c570-2a8aea0a5921"
   },
   "outputs": [
    {
     "name": "stdout",
     "output_type": "stream",
     "text": [
      " * sqlite:///scientists_data.db\n",
      "40 rows affected.\n"
     ]
    },
    {
     "data": {
      "text/plain": [
       "[]"
      ]
     },
     "execution_count": 7,
     "metadata": {},
     "output_type": "execute_result"
    }
   ],
   "source": [
    "%%sql\n",
    "UPDATE scientists\n",
    "SET name = TRIM(name),\n",
    "    nationality = TRIM(nationality),\n",
    "    accomplishment = TRIM(accomplishment);"
   ]
  },
  {
   "cell_type": "code",
   "execution_count": 8,
   "metadata": {
    "colab": {
     "base_uri": "https://localhost:8080/",
     "height": 94
    },
    "executionInfo": {
     "elapsed": 18,
     "status": "ok",
     "timestamp": 1752836934661,
     "user": {
      "displayName": "Benjamin Bennett Alexander",
      "userId": "14614847693800833280"
     },
     "user_tz": -180
    },
    "id": "C2oAYyPCZd2G",
    "outputId": "053458cf-1018-4c5d-c54a-59709b50d27a"
   },
   "outputs": [
    {
     "name": "stdout",
     "output_type": "stream",
     "text": [
      " * sqlite:///scientists_data.db\n",
      "Done.\n"
     ]
    },
    {
     "data": {
      "text/html": [
       "<table>\n",
       "    <thead>\n",
       "        <tr>\n",
       "            <th>leading_trailing_spaces_count</th>\n",
       "        </tr>\n",
       "    </thead>\n",
       "    <tbody>\n",
       "        <tr>\n",
       "            <td>0</td>\n",
       "        </tr>\n",
       "    </tbody>\n",
       "</table>"
      ],
      "text/plain": [
       "[(0,)]"
      ]
     },
     "execution_count": 8,
     "metadata": {},
     "output_type": "execute_result"
    }
   ],
   "source": [
    "%%sql\n",
    "SELECT COUNT(*) AS leading_trailing_spaces_count\n",
    "FROM scientists\n",
    "WHERE LENGTH(name) != LENGTH(TRIM(name))\n",
    "   OR LENGTH(nationality) != LENGTH(TRIM(nationality))\n",
    "   OR LENGTH(accomplishment) != LENGTH(TRIM(accomplishment));"
   ]
  },
  {
   "cell_type": "markdown",
   "metadata": {
    "id": "n16wvcjLlRQx"
   },
   "source": [
    "## Question 3.\tAnswer"
   ]
  },
  {
   "cell_type": "code",
   "execution_count": 9,
   "metadata": {
    "colab": {
     "base_uri": "https://localhost:8080/",
     "height": 177
    },
    "executionInfo": {
     "elapsed": 52,
     "status": "ok",
     "timestamp": 1752836934716,
     "user": {
      "displayName": "Benjamin Bennett Alexander",
      "userId": "14614847693800833280"
     },
     "user_tz": -180
    },
    "id": "OfPmnUOslNqw",
    "outputId": "c42b8e91-80d8-4b6a-ddd3-7fb799e53402"
   },
   "outputs": [
    {
     "name": "stdout",
     "output_type": "stream",
     "text": [
      " * sqlite:///scientists_data.db\n",
      "Done.\n"
     ]
    },
    {
     "data": {
      "text/html": [
       "<table>\n",
       "    <thead>\n",
       "        <tr>\n",
       "            <th>first_name</th>\n",
       "        </tr>\n",
       "    </thead>\n",
       "    <tbody>\n",
       "        <tr>\n",
       "            <td>Albert</td>\n",
       "        </tr>\n",
       "        <tr>\n",
       "            <td>Marie</td>\n",
       "        </tr>\n",
       "        <tr>\n",
       "            <td>Isaac</td>\n",
       "        </tr>\n",
       "        <tr>\n",
       "            <td>Charles</td>\n",
       "        </tr>\n",
       "        <tr>\n",
       "            <td>Nikola</td>\n",
       "        </tr>\n",
       "    </tbody>\n",
       "</table>"
      ],
      "text/plain": [
       "[('Albert',), ('Marie',), ('Isaac',), ('Charles',), ('Nikola',)]"
      ]
     },
     "execution_count": 9,
     "metadata": {},
     "output_type": "execute_result"
    }
   ],
   "source": [
    "%%sql\n",
    "SELECT\n",
    "    SUBSTR(name, 1, INSTR(name, ' ') - 1) AS first_name\n",
    "FROM scientists\n",
    "LIMIT 5;"
   ]
  },
  {
   "cell_type": "markdown",
   "metadata": {
    "id": "r4xYxiaGmPGb"
   },
   "source": [
    "## Question 4.\tAnswer"
   ]
  },
  {
   "cell_type": "code",
   "execution_count": 10,
   "metadata": {
    "colab": {
     "base_uri": "https://localhost:8080/"
    },
    "executionInfo": {
     "elapsed": 25,
     "status": "ok",
     "timestamp": 1752836934719,
     "user": {
      "displayName": "Benjamin Bennett Alexander",
      "userId": "14614847693800833280"
     },
     "user_tz": -180
    },
    "id": "IeT1MTqAmXDQ",
    "outputId": "5247dd78-f2bc-42d3-ee44-cd969b2376cc"
   },
   "outputs": [
    {
     "name": "stdout",
     "output_type": "stream",
     "text": [
      " * sqlite:///scientists_data.db\n",
      "40 rows affected.\n"
     ]
    },
    {
     "data": {
      "text/plain": [
       "[]"
      ]
     },
     "execution_count": 10,
     "metadata": {},
     "output_type": "execute_result"
    }
   ],
   "source": [
    "%%sql\n",
    "UPDATE scientists\n",
    "SET accomplishment = REPLACE(accomplishment, ' ', '_');"
   ]
  },
  {
   "cell_type": "code",
   "execution_count": 11,
   "metadata": {
    "colab": {
     "base_uri": "https://localhost:8080/",
     "height": 177
    },
    "executionInfo": {
     "elapsed": 24,
     "status": "ok",
     "timestamp": 1752836934738,
     "user": {
      "displayName": "Benjamin Bennett Alexander",
      "userId": "14614847693800833280"
     },
     "user_tz": -180
    },
    "id": "GFgR2MRHnl7U",
    "outputId": "578aa82e-cb95-4cbb-c199-ed6327532e9a"
   },
   "outputs": [
    {
     "name": "stdout",
     "output_type": "stream",
     "text": [
      " * sqlite:///scientists_data.db\n",
      "Done.\n"
     ]
    },
    {
     "data": {
      "text/html": [
       "<table>\n",
       "    <thead>\n",
       "        <tr>\n",
       "            <th>accomplishment</th>\n",
       "        </tr>\n",
       "    </thead>\n",
       "    <tbody>\n",
       "        <tr>\n",
       "            <td>Theory_of_Relativity</td>\n",
       "        </tr>\n",
       "        <tr>\n",
       "            <td>Radioactivity</td>\n",
       "        </tr>\n",
       "        <tr>\n",
       "            <td>Laws_of_Motion</td>\n",
       "        </tr>\n",
       "        <tr>\n",
       "            <td>Theory_of_Evolution</td>\n",
       "        </tr>\n",
       "        <tr>\n",
       "            <td>AC_Electricity</td>\n",
       "        </tr>\n",
       "    </tbody>\n",
       "</table>"
      ],
      "text/plain": [
       "[('Theory_of_Relativity',),\n",
       " ('Radioactivity',),\n",
       " ('Laws_of_Motion',),\n",
       " ('Theory_of_Evolution',),\n",
       " ('AC_Electricity',)]"
      ]
     },
     "execution_count": 11,
     "metadata": {},
     "output_type": "execute_result"
    }
   ],
   "source": [
    "%%sql\n",
    "SELECT accomplishment FROM scientists\n",
    "LIMIT 5;"
   ]
  },
  {
   "cell_type": "markdown",
   "metadata": {
    "id": "1n_qjdqyneOC"
   },
   "source": [
    "## Question 5. Answer"
   ]
  },
  {
   "cell_type": "code",
   "execution_count": 12,
   "metadata": {
    "colab": {
     "base_uri": "https://localhost:8080/",
     "height": 177
    },
    "executionInfo": {
     "elapsed": 18,
     "status": "ok",
     "timestamp": 1752836934785,
     "user": {
      "displayName": "Benjamin Bennett Alexander",
      "userId": "14614847693800833280"
     },
     "user_tz": -180
    },
    "id": "3kAVzXjpHJMw",
    "outputId": "2fc2ad1c-eb2f-45e6-cdbc-0786ef446387"
   },
   "outputs": [
    {
     "name": "stdout",
     "output_type": "stream",
     "text": [
      " * sqlite:///scientists_data.db\n",
      "Done.\n"
     ]
    },
    {
     "data": {
      "text/html": [
       "<table>\n",
       "    <thead>\n",
       "        <tr>\n",
       "            <th>first_name_birth_year</th>\n",
       "        </tr>\n",
       "    </thead>\n",
       "    <tbody>\n",
       "        <tr>\n",
       "            <td>Albert_1879</td>\n",
       "        </tr>\n",
       "        <tr>\n",
       "            <td>Marie_1867</td>\n",
       "        </tr>\n",
       "        <tr>\n",
       "            <td>Isaac_1643</td>\n",
       "        </tr>\n",
       "        <tr>\n",
       "            <td>Charles_1809</td>\n",
       "        </tr>\n",
       "        <tr>\n",
       "            <td>Nikola_1856</td>\n",
       "        </tr>\n",
       "    </tbody>\n",
       "</table>"
      ],
      "text/plain": [
       "[('Albert_1879',),\n",
       " ('Marie_1867',),\n",
       " ('Isaac_1643',),\n",
       " ('Charles_1809',),\n",
       " ('Nikola_1856',)]"
      ]
     },
     "execution_count": 12,
     "metadata": {},
     "output_type": "execute_result"
    }
   ],
   "source": [
    "%%sql\n",
    "SELECT\n",
    "    SUBSTR(name, 1, INSTR(name, ' ') - 1) || '_' ||\n",
    "    birth_year AS first_name_birth_year\n",
    "FROM scientists\n",
    "LIMIT 5;"
   ]
  },
  {
   "cell_type": "markdown",
   "metadata": {
    "id": "cznjif3CodJg"
   },
   "source": [
    "## Question 6.\tAnswer"
   ]
  },
  {
   "cell_type": "code",
   "execution_count": 13,
   "metadata": {
    "colab": {
     "base_uri": "https://localhost:8080/"
    },
    "executionInfo": {
     "elapsed": 74,
     "status": "ok",
     "timestamp": 1752836934864,
     "user": {
      "displayName": "Benjamin Bennett Alexander",
      "userId": "14614847693800833280"
     },
     "user_tz": -180
    },
    "id": "ASipZn4gKlPo",
    "outputId": "17658b21-1c84-4ea9-8cb7-bbb6691e4dbd"
   },
   "outputs": [
    {
     "name": "stdout",
     "output_type": "stream",
     "text": [
      " * sqlite:///scientists_data.db\n",
      "40 rows affected.\n"
     ]
    },
    {
     "data": {
      "text/plain": [
       "[]"
      ]
     },
     "execution_count": 13,
     "metadata": {},
     "output_type": "execute_result"
    }
   ],
   "source": [
    "%%sql\n",
    "UPDATE scientists\n",
    "SET name = UPPER(SUBSTR(name, 1, 1)) ||\n",
    "           LOWER(SUBSTR(name, 2, INSTR(name, ' ') - 1)) ||\n",
    "           ' ' ||\n",
    "           UPPER(SUBSTR(name, INSTR(name, ' ') + 1, 1)) ||\n",
    "           LOWER(SUBSTR(name, INSTR(name, ' ') + 2))\n",
    "WHERE name IS NOT NULL;"
   ]
  },
  {
   "cell_type": "code",
   "execution_count": 14,
   "metadata": {
    "colab": {
     "base_uri": "https://localhost:8080/",
     "height": 177
    },
    "executionInfo": {
     "elapsed": 16,
     "status": "ok",
     "timestamp": 1752836934883,
     "user": {
      "displayName": "Benjamin Bennett Alexander",
      "userId": "14614847693800833280"
     },
     "user_tz": -180
    },
    "id": "jZ_5iyhWYSUL",
    "outputId": "6ccf5b6b-ca27-44ca-cc38-ebdb36741ca1"
   },
   "outputs": [
    {
     "name": "stdout",
     "output_type": "stream",
     "text": [
      " * sqlite:///scientists_data.db\n",
      "Done.\n"
     ]
    },
    {
     "data": {
      "text/html": [
       "<table>\n",
       "    <thead>\n",
       "        <tr>\n",
       "            <th>name</th>\n",
       "        </tr>\n",
       "    </thead>\n",
       "    <tbody>\n",
       "        <tr>\n",
       "            <td>Albert   einstein</td>\n",
       "        </tr>\n",
       "        <tr>\n",
       "            <td>Marie   curie</td>\n",
       "        </tr>\n",
       "        <tr>\n",
       "            <td>Isaac   newton</td>\n",
       "        </tr>\n",
       "        <tr>\n",
       "            <td>Charles   darwin</td>\n",
       "        </tr>\n",
       "        <tr>\n",
       "            <td>Nikola   tesla</td>\n",
       "        </tr>\n",
       "    </tbody>\n",
       "</table>"
      ],
      "text/plain": [
       "[('Albert   einstein',),\n",
       " ('Marie   curie',),\n",
       " ('Isaac   newton',),\n",
       " ('Charles   darwin',),\n",
       " ('Nikola   tesla',)]"
      ]
     },
     "execution_count": 14,
     "metadata": {},
     "output_type": "execute_result"
    }
   ],
   "source": [
    "%%sql\n",
    "SELECT name FROM scientists\n",
    "LIMIT 5;"
   ]
  },
  {
   "cell_type": "code",
   "execution_count": 15,
   "metadata": {
    "executionInfo": {
     "elapsed": 4,
     "status": "ok",
     "timestamp": 1752836934890,
     "user": {
      "displayName": "Benjamin Bennett Alexander",
      "userId": "14614847693800833280"
     },
     "user_tz": -180
    },
    "id": "HSwsC8WdK5No"
   },
   "outputs": [],
   "source": [
    "# %%sql\n",
    "# DROP TABLE scientists;"
   ]
  }
 ],
 "metadata": {
  "colab": {
   "authorship_tag": "ABX9TyM/G8Gqfpv5Mssx4DncU+mT",
   "mount_file_id": "1ef5xQ_AIay9R6LSEo07myLc4dJy5Rwsp",
   "provenance": []
  },
  "kernelspec": {
   "display_name": "Python 3",
   "name": "python3"
  },
  "language_info": {
   "name": "python"
  }
 },
 "nbformat": 4,
 "nbformat_minor": 0
}

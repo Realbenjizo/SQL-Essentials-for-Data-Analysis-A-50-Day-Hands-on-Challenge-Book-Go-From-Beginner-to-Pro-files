{
 "cells": [
  {
   "cell_type": "markdown",
   "metadata": {
    "id": "SZ8rpeRt-MA-"
   },
   "source": [
    "## Question 1: **Answer**"
   ]
  },
  {
   "cell_type": "code",
   "execution_count": 1,
   "metadata": {
    "executionInfo": {
     "elapsed": 428,
     "status": "ok",
     "timestamp": 1752947452538,
     "user": {
      "displayName": "Benjamin Bennett Alexander",
      "userId": "14614847693800833280"
     },
     "user_tz": -180
    },
    "id": "DK0rL7vW1LZk"
   },
   "outputs": [],
   "source": [
    "import pandas as pd\n",
    "import sqlite3\n",
    "import matplotlib.pyplot as plt"
   ]
  },
  {
   "cell_type": "code",
   "execution_count": null,
   "metadata": {
    "colab": {
     "base_uri": "https://localhost:8080/"
    },
    "executionInfo": {
     "elapsed": 12,
     "status": "ok",
     "timestamp": 1752947452553,
     "user": {
      "displayName": "Benjamin Bennett Alexander",
      "userId": "14614847693800833280"
     },
     "user_tz": -180
    },
    "id": "qlUremv61t7l",
    "outputId": "8f049087-3a98-4971-afa6-5a254de8ab0c"
   },
   "outputs": [
    {
     "name": "stdout",
     "output_type": "stream",
     "text": [
      "Error: Table 'rankings' already exists.\n"
     ]
    }
   ],
   "source": [
    "def add_data_to_database(data):\n",
    "    try:\n",
    "        df = pd.read_csv(data, encoding='unicode_escape')\n",
    "        # Connecting to database\n",
    "        engine = sqlite3.connect(\"university_rankings.db\")\n",
    "        df.to_sql(\"rankings\", con=engine, index = False)\n",
    "        engine.close()\n",
    "    except Exception as e:\n",
    "            print(f'Error: {e}')\n",
    "\n",
    "# Loading CSV files\n",
    "data = \"/content/national_universities_rankings.csv\"\n",
    "add_data_to_database(data)"
   ]
  },
  {
   "cell_type": "code",
   "execution_count": 3,
   "metadata": {
    "executionInfo": {
     "elapsed": 150,
     "status": "ok",
     "timestamp": 1752947452705,
     "user": {
      "displayName": "Benjamin Bennett Alexander",
      "userId": "14614847693800833280"
     },
     "user_tz": -180
    },
    "id": "f9BBMigM1XPn"
   },
   "outputs": [],
   "source": [
    "# Loading SQL extension\n",
    "%load_ext sql\n",
    "# Connecting to the database\n",
    "%sql sqlite:///university_rankings.db"
   ]
  },
  {
   "cell_type": "code",
   "execution_count": 4,
   "metadata": {
    "executionInfo": {
     "elapsed": 53,
     "status": "ok",
     "timestamp": 1752947452762,
     "user": {
      "displayName": "Benjamin Bennett Alexander",
      "userId": "14614847693800833280"
     },
     "user_tz": -180
    },
    "id": "zNJYF7vCtxX8"
   },
   "outputs": [],
   "source": [
    "# Default to duplicated style\n",
    "%config SqlMagic.style = '_DEPRECATED_DEFAULT'"
   ]
  },
  {
   "cell_type": "code",
   "execution_count": 5,
   "metadata": {
    "colab": {
     "base_uri": "https://localhost:8080/",
     "height": 177
    },
    "executionInfo": {
     "elapsed": 12,
     "status": "ok",
     "timestamp": 1752947452802,
     "user": {
      "displayName": "Benjamin Bennett Alexander",
      "userId": "14614847693800833280"
     },
     "user_tz": -180
    },
    "id": "GDahX-EX1iXm",
    "outputId": "b036b305-2b9a-49f9-93f3-b6dc4ea44932"
   },
   "outputs": [
    {
     "name": "stdout",
     "output_type": "stream",
     "text": [
      " * sqlite:///university_rankings.db\n",
      "Done.\n"
     ]
    },
    {
     "data": {
      "text/html": [
       "<table>\n",
       "    <thead>\n",
       "        <tr>\n",
       "            <th>Name</th>\n",
       "            <th>Location</th>\n",
       "            <th>Rank</th>\n",
       "            <th>Tuition and fees</th>\n",
       "            <th>In-state</th>\n",
       "            <th>Undergrad Enrollment</th>\n",
       "        </tr>\n",
       "    </thead>\n",
       "    <tbody>\n",
       "        <tr>\n",
       "            <td>Princeton University</td>\n",
       "            <td>Princeton, NJ</td>\n",
       "            <td>1</td>\n",
       "            <td>$45,320 </td>\n",
       "            <td>None</td>\n",
       "            <td>5,402</td>\n",
       "        </tr>\n",
       "        <tr>\n",
       "            <td>Harvard University</td>\n",
       "            <td>Cambridge, MA</td>\n",
       "            <td>2</td>\n",
       "            <td>$47,074 </td>\n",
       "            <td>None</td>\n",
       "            <td>6,699</td>\n",
       "        </tr>\n",
       "        <tr>\n",
       "            <td>University of Chicago</td>\n",
       "            <td>Chicago, IL</td>\n",
       "            <td>3</td>\n",
       "            <td>$52,491 </td>\n",
       "            <td>None</td>\n",
       "            <td>5,844</td>\n",
       "        </tr>\n",
       "        <tr>\n",
       "            <td>Yale University</td>\n",
       "            <td>New Haven, CT</td>\n",
       "            <td>3</td>\n",
       "            <td>$49,480 </td>\n",
       "            <td>None</td>\n",
       "            <td>5,532</td>\n",
       "        </tr>\n",
       "        <tr>\n",
       "            <td>Columbia University</td>\n",
       "            <td>New York, NY</td>\n",
       "            <td>5</td>\n",
       "            <td>$55,056 </td>\n",
       "            <td>None</td>\n",
       "            <td>6,102</td>\n",
       "        </tr>\n",
       "    </tbody>\n",
       "</table>"
      ],
      "text/plain": [
       "[('Princeton University', 'Princeton, NJ', 1, '$45,320 ', None, '5,402'),\n",
       " ('Harvard University', 'Cambridge, MA', 2, '$47,074 ', None, '6,699'),\n",
       " ('University of Chicago', 'Chicago, IL', 3, '$52,491 ', None, '5,844'),\n",
       " ('Yale University', 'New Haven, CT', 3, '$49,480 ', None, '5,532'),\n",
       " ('Columbia University', 'New York, NY', 5, '$55,056 ', None, '6,102')]"
      ]
     },
     "execution_count": 5,
     "metadata": {},
     "output_type": "execute_result"
    }
   ],
   "source": [
    "%%sql\n",
    "SELECT * FROM rankings\n",
    "LIMIT 5;"
   ]
  },
  {
   "cell_type": "markdown",
   "metadata": {
    "id": "_0XdHJdn-UVu"
   },
   "source": [
    "## Question 2: **Answer**"
   ]
  },
  {
   "cell_type": "code",
   "execution_count": 6,
   "metadata": {
    "colab": {
     "base_uri": "https://localhost:8080/"
    },
    "executionInfo": {
     "elapsed": 64,
     "status": "ok",
     "timestamp": 1752947452870,
     "user": {
      "displayName": "Benjamin Bennett Alexander",
      "userId": "14614847693800833280"
     },
     "user_tz": -180
    },
    "id": "1q4sUm34HX52",
    "outputId": "e09e43e5-ec08-4667-aa71-6756d0f03ab1"
   },
   "outputs": [
    {
     "name": "stdout",
     "output_type": "stream",
     "text": [
      " * sqlite:///university_rankings.db\n",
      "(sqlite3.OperationalError) table rankings_copy already exists\n",
      "[SQL: CREATE TABLE rankings_copy AS\n",
      "SELECT * FROM rankings;]\n",
      "(Background on this error at: https://sqlalche.me/e/20/e3q8)\n"
     ]
    }
   ],
   "source": [
    "%%sql\n",
    "CREATE TABLE rankings_copy AS\n",
    "SELECT * FROM rankings;"
   ]
  },
  {
   "cell_type": "code",
   "execution_count": 7,
   "metadata": {
    "colab": {
     "base_uri": "https://localhost:8080/"
    },
    "executionInfo": {
     "elapsed": 16,
     "status": "ok",
     "timestamp": 1752947452914,
     "user": {
      "displayName": "Benjamin Bennett Alexander",
      "userId": "14614847693800833280"
     },
     "user_tz": -180
    },
    "id": "xfbP5yO0Hg6w",
    "outputId": "474f5d57-02cb-443e-8745-9609f56a41c1"
   },
   "outputs": [
    {
     "name": "stdout",
     "output_type": "stream",
     "text": [
      " * sqlite:///university_rankings.db\n",
      "Done.\n",
      "Done.\n",
      "Done.\n",
      "(sqlite3.OperationalError) no such column: \"Tuition and fees\"\n",
      "[SQL: ALTER TABLE rankings_copy\n",
      "    RENAME 'Tuition and fees' to 'tuition_and_fees';]\n",
      "(Background on this error at: https://sqlalche.me/e/20/e3q8)\n"
     ]
    }
   ],
   "source": [
    "%%sql\n",
    "ALTER TABLE rankings_copy\n",
    "    RENAME 'Name' to 'name';\n",
    "\n",
    "ALTER TABLE rankings_copy\n",
    "    RENAME 'Location' to 'location';\n",
    "\n",
    "ALTER TABLE rankings_copy\n",
    "    RENAME 'Rank' to 'rank';\n",
    "\n",
    "ALTER TABLE rankings_copy\n",
    "    RENAME 'Tuition and fees' to 'tuition_and_fees';\n",
    "\n",
    "ALTER TABLE rankings_copy\n",
    "    RENAME 'In-state' to 'in_state';\n",
    "\n",
    "ALTER TABLE rankings_copy\n",
    "    RENAME 'Undergrad Enrollment' to 'undergrad_enrollment';"
   ]
  },
  {
   "cell_type": "code",
   "execution_count": 8,
   "metadata": {
    "colab": {
     "base_uri": "https://localhost:8080/",
     "height": 177
    },
    "executionInfo": {
     "elapsed": 24,
     "status": "ok",
     "timestamp": 1752947452936,
     "user": {
      "displayName": "Benjamin Bennett Alexander",
      "userId": "14614847693800833280"
     },
     "user_tz": -180
    },
    "id": "RYzdzhLLJmgL",
    "outputId": "982652f8-01db-40a4-aea9-9ef37083d0d4"
   },
   "outputs": [
    {
     "name": "stdout",
     "output_type": "stream",
     "text": [
      " * sqlite:///university_rankings.db\n",
      "Done.\n"
     ]
    },
    {
     "data": {
      "text/html": [
       "<table>\n",
       "    <thead>\n",
       "        <tr>\n",
       "            <th>name</th>\n",
       "            <th>location</th>\n",
       "            <th>rank</th>\n",
       "            <th>tuition_and_fees</th>\n",
       "            <th>in_state</th>\n",
       "            <th>undergrad_enrollment</th>\n",
       "        </tr>\n",
       "    </thead>\n",
       "    <tbody>\n",
       "        <tr>\n",
       "            <td>Princeton University</td>\n",
       "            <td>Princeton, NJ</td>\n",
       "            <td>1</td>\n",
       "            <td>$45,320 </td>\n",
       "            <td>None</td>\n",
       "            <td>5,402</td>\n",
       "        </tr>\n",
       "        <tr>\n",
       "            <td>Harvard University</td>\n",
       "            <td>Cambridge, MA</td>\n",
       "            <td>2</td>\n",
       "            <td>$47,074 </td>\n",
       "            <td>None</td>\n",
       "            <td>6,699</td>\n",
       "        </tr>\n",
       "        <tr>\n",
       "            <td>University of Chicago</td>\n",
       "            <td>Chicago, IL</td>\n",
       "            <td>3</td>\n",
       "            <td>$52,491 </td>\n",
       "            <td>None</td>\n",
       "            <td>5,844</td>\n",
       "        </tr>\n",
       "        <tr>\n",
       "            <td>Yale University</td>\n",
       "            <td>New Haven, CT</td>\n",
       "            <td>3</td>\n",
       "            <td>$49,480 </td>\n",
       "            <td>None</td>\n",
       "            <td>5,532</td>\n",
       "        </tr>\n",
       "        <tr>\n",
       "            <td>Columbia University</td>\n",
       "            <td>New York, NY</td>\n",
       "            <td>5</td>\n",
       "            <td>$55,056 </td>\n",
       "            <td>None</td>\n",
       "            <td>6,102</td>\n",
       "        </tr>\n",
       "    </tbody>\n",
       "</table>"
      ],
      "text/plain": [
       "[('Princeton University', 'Princeton, NJ', 1, '$45,320 ', None, '5,402'),\n",
       " ('Harvard University', 'Cambridge, MA', 2, '$47,074 ', None, '6,699'),\n",
       " ('University of Chicago', 'Chicago, IL', 3, '$52,491 ', None, '5,844'),\n",
       " ('Yale University', 'New Haven, CT', 3, '$49,480 ', None, '5,532'),\n",
       " ('Columbia University', 'New York, NY', 5, '$55,056 ', None, '6,102')]"
      ]
     },
     "execution_count": 8,
     "metadata": {},
     "output_type": "execute_result"
    }
   ],
   "source": [
    "%%sql\n",
    "SELECT * FROM rankings_copy\n",
    "LIMIT 5"
   ]
  },
  {
   "cell_type": "markdown",
   "metadata": {
    "id": "kUHdVCb0HzbW"
   },
   "source": [
    "## Question 3: **Answer**"
   ]
  },
  {
   "cell_type": "code",
   "execution_count": 9,
   "metadata": {
    "colab": {
     "base_uri": "https://localhost:8080/",
     "height": 94
    },
    "executionInfo": {
     "elapsed": 44,
     "status": "ok",
     "timestamp": 1752947452983,
     "user": {
      "displayName": "Benjamin Bennett Alexander",
      "userId": "14614847693800833280"
     },
     "user_tz": -180
    },
    "id": "7Ol6PVW9HhRe",
    "outputId": "09e73e3e-2b29-4d6d-f6fd-2e19939dab61"
   },
   "outputs": [
    {
     "name": "stdout",
     "output_type": "stream",
     "text": [
      " * sqlite:///university_rankings.db\n",
      "Done.\n"
     ]
    },
    {
     "data": {
      "text/html": [
       "<table>\n",
       "    <thead>\n",
       "        <tr>\n",
       "            <th>percentage_with_in_state_fees</th>\n",
       "            <th>percentage_no_state_fees</th>\n",
       "        </tr>\n",
       "    </thead>\n",
       "    <tbody>\n",
       "        <tr>\n",
       "            <td>57.58</td>\n",
       "            <td>42.42</td>\n",
       "        </tr>\n",
       "    </tbody>\n",
       "</table>"
      ],
      "text/plain": [
       "[(57.58, 42.42)]"
      ]
     },
     "execution_count": 9,
     "metadata": {},
     "output_type": "execute_result"
    }
   ],
   "source": [
    "%%sql\n",
    "SELECT\n",
    "    ROUND(AVG(CASE WHEN in_state IS NOT NULL THEN 1.0 ELSE 0.0 END) * 100, 2)\n",
    "    AS percentage_with_in_state_fees,\n",
    "    ROUND(AVG(CASE WHEN in_state IS NULL THEN 1.0 ELSE 0.0 END) * 100, 2)\n",
    "    AS percentage_no_state_fees\n",
    "FROM rankings_copy;"
   ]
  },
  {
   "cell_type": "markdown",
   "metadata": {
    "id": "z6UGyTrNIPFN"
   },
   "source": [
    " ## Question 4: **Answer**"
   ]
  },
  {
   "cell_type": "code",
   "execution_count": 10,
   "metadata": {
    "colab": {
     "base_uri": "https://localhost:8080/",
     "height": 115
    },
    "executionInfo": {
     "elapsed": 17,
     "status": "ok",
     "timestamp": 1752947453003,
     "user": {
      "displayName": "Benjamin Bennett Alexander",
      "userId": "14614847693800833280"
     },
     "user_tz": -180
    },
    "id": "oU9dMZskXo95",
    "outputId": "1ee3f9cb-acba-431e-9702-22234ee01d7c"
   },
   "outputs": [
    {
     "name": "stdout",
     "output_type": "stream",
     "text": [
      " * sqlite:///university_rankings.db\n",
      "Done.\n"
     ]
    },
    {
     "data": {
      "text/html": [
       "<table>\n",
       "    <thead>\n",
       "        <tr>\n",
       "            <th>fee_category</th>\n",
       "            <th>percentage</th>\n",
       "        </tr>\n",
       "    </thead>\n",
       "    <tbody>\n",
       "        <tr>\n",
       "            <td>With In-State Fees</td>\n",
       "            <td>80.44</td>\n",
       "        </tr>\n",
       "        <tr>\n",
       "            <td>Without In-State Fees</td>\n",
       "            <td>19.56</td>\n",
       "        </tr>\n",
       "    </tbody>\n",
       "</table>"
      ],
      "text/plain": [
       "[('With In-State Fees', 80.44), ('Without In-State Fees', 19.56)]"
      ]
     },
     "execution_count": 10,
     "metadata": {},
     "output_type": "execute_result"
    }
   ],
   "source": [
    "%%sql\n",
    "-- Creating two categories and aggregate students\n",
    "WITH categories_fees_status AS (\n",
    "    SELECT\n",
    "        CASE\n",
    "            WHEN in_state IS NOT NULL THEN 'With In-State Fees'\n",
    "            ELSE 'Without In-State Fees'\n",
    "        END AS fee_category,\n",
    "        SUM(REPLACE(undergrad_enrollment, ',', '')) AS total_students\n",
    "    FROM rankings_copy\n",
    "    GROUP BY fee_category\n",
    "),\n",
    "-- Calculating total students\n",
    "total_students AS (\n",
    "    SELECT\n",
    "        SUM(total_students) AS all_students\n",
    "    FROM categories_fees_status\n",
    ")\n",
    "-- Calculating percentage per category\n",
    "SELECT\n",
    "    fee_category,\n",
    "    ROUND((total_students * 100.0) / (SELECT all_students\n",
    "                                      FROM total_students), 2)\n",
    "    AS percentage\n",
    "FROM categories_fees_status;"
   ]
  },
  {
   "cell_type": "markdown",
   "metadata": {
    "id": "coNBawa0yxRP"
   },
   "source": [
    "## Question 5: **Answer**"
   ]
  },
  {
   "cell_type": "code",
   "execution_count": 11,
   "metadata": {
    "colab": {
     "base_uri": "https://localhost:8080/",
     "height": 94
    },
    "executionInfo": {
     "elapsed": 20,
     "status": "ok",
     "timestamp": 1752947453026,
     "user": {
      "displayName": "Benjamin Bennett Alexander",
      "userId": "14614847693800833280"
     },
     "user_tz": -180
    },
    "id": "GLZzfEgeeilF",
    "outputId": "04703413-1f74-434b-a68f-e7ec3352c4e6"
   },
   "outputs": [
    {
     "name": "stdout",
     "output_type": "stream",
     "text": [
      " * sqlite:///university_rankings.db\n",
      "Done.\n"
     ]
    },
    {
     "data": {
      "text/html": [
       "<table>\n",
       "    <thead>\n",
       "        <tr>\n",
       "            <th>total_tuition_top_3</th>\n",
       "            <th>total_tuition_bottom_3</th>\n",
       "            <th>difference</th>\n",
       "        </tr>\n",
       "    </thead>\n",
       "    <tbody>\n",
       "        <tr>\n",
       "            <td>1140648130.0</td>\n",
       "            <td>5932622264.0</td>\n",
       "            <td>4791974134.0</td>\n",
       "        </tr>\n",
       "    </tbody>\n",
       "</table>"
      ],
      "text/plain": [
       "[(1140648130.0, 5932622264.0, 4791974134.0)]"
      ]
     },
     "execution_count": 11,
     "metadata": {},
     "output_type": "execute_result"
    }
   ],
   "source": [
    "%%sql\n",
    "-- University name, rank and total fees\n",
    "WITH ranked_universities AS (\n",
    "    SELECT\n",
    "        name,\n",
    "        rank,\n",
    "        CAST(REPLACE(REPLACE(tuition_and_fees, '$', ''), ',','') AS REAL) AS tuition,\n",
    "        CAST(REPLACE(undergrad_enrollment, ',','') AS INTEGER) AS undergrad_enrollment\n",
    "    FROM rankings_copy\n",
    "),\n",
    "-- Calculate total tuition fees for top 3 ranked universities\n",
    "top_3_tuition AS (\n",
    "    SELECT\n",
    "        SUM(tuition * undergrad_enrollment) AS total_tuition_top_3\n",
    "    FROM ranked_universities\n",
    "    WHERE rank IN (1, 2, 3)\n",
    "),\n",
    "-- Calculate total tuition fees for bottom 3 ranked universities\n",
    "bottom_3_tuition AS (\n",
    "    SELECT\n",
    "        SUM(tuition * undergrad_enrollment) AS total_tuition_bottom_3\n",
    "    FROM ranked_universities\n",
    "    WHERE rank IN (SELECT DISTINCT(rank)\n",
    "                    FROM ranked_universities\n",
    "                    ORDER BY rank DESC\n",
    "                    LIMIT 3 )\n",
    ")\n",
    "-- Returning top ranked, bottom ranked fees and difference\n",
    "SELECT\n",
    "    total_tuition_top_3,\n",
    "    total_tuition_bottom_3,\n",
    "    ABS(total_tuition_top_3 - total_tuition_bottom_3) AS difference\n",
    "FROM top_3_tuition\n",
    "JOIN bottom_3_tuition\n",
    "ON 1=1;"
   ]
  },
  {
   "cell_type": "markdown",
   "metadata": {
    "id": "FYCXkL99JKOr"
   },
   "source": [
    "## Question 6: **Answer**"
   ]
  },
  {
   "cell_type": "code",
   "execution_count": 12,
   "metadata": {
    "colab": {
     "base_uri": "https://localhost:8080/",
     "height": 94
    },
    "executionInfo": {
     "elapsed": 21,
     "status": "ok",
     "timestamp": 1752947453052,
     "user": {
      "displayName": "Benjamin Bennett Alexander",
      "userId": "14614847693800833280"
     },
     "user_tz": -180
    },
    "id": "wK7rvzXO-7UO",
    "outputId": "d07f8ded-d3cd-4f7d-cee5-d8f4d3a308c4"
   },
   "outputs": [
    {
     "name": "stdout",
     "output_type": "stream",
     "text": [
      " * sqlite:///university_rankings.db\n",
      "Done.\n"
     ]
    },
    {
     "data": {
      "text/html": [
       "<table>\n",
       "    <thead>\n",
       "        <tr>\n",
       "            <th>highest_ranked_sch</th>\n",
       "            <th>highest_total_fees</th>\n",
       "            <th>lowest_ranked_sch</th>\n",
       "            <th>lowest_total_fees</th>\n",
       "        </tr>\n",
       "    </thead>\n",
       "    <tbody>\n",
       "        <tr>\n",
       "            <td>Michigan State University</td>\n",
       "            <td>1530099870</td>\n",
       "            <td>SUNY College of Environmental Science and Forestry</td>\n",
       "            <td>32403180</td>\n",
       "        </tr>\n",
       "    </tbody>\n",
       "</table>"
      ],
      "text/plain": [
       "[('Michigan State University', 1530099870, 'SUNY College of Environmental Science and Forestry', 32403180)]"
      ]
     },
     "execution_count": 12,
     "metadata": {},
     "output_type": "execute_result"
    }
   ],
   "source": [
    "%%sql\n",
    "-- Clean columns and calculate total fees\n",
    "WITH calculate_total_fees AS (\n",
    "    SELECT\n",
    "        name,\n",
    "        CAST(REPLACE(REPLACE(tuition_and_fees, '$', ''), ',', '') AS INTEGER) *\n",
    "        CAST(REPLACE(undergrad_enrollment, ',', '') AS INTEGER) AS total_fees\n",
    "    FROM rankings_copy\n",
    "\n",
    "),\n",
    "-- Rank schools based on total fees raised\n",
    "school_rank AS(\n",
    "    SELECT\n",
    "        name,\n",
    "        total_fees,\n",
    "        RANK() OVER (ORDER BY total_fees) AS rank\n",
    "    FROM calculate_total_fees\n",
    ")\n",
    "-- Return the schools with highest and lowest ranks\n",
    "SELECT\n",
    "    FIRST_VALUE(name) OVER (ORDER BY rank DESC) AS highest_ranked_sch,\n",
    "    FIRST_VALUE(total_fees) OVER (ORDER BY rank DESC) AS highest_total_fees,\n",
    "\n",
    "    LAST_VALUE(name) OVER (ORDER BY rank DESC ROWS BETWEEN UNBOUNDED PRECEDING AND\n",
    "                                        UNBOUNDED FOLLOWING) AS lowest_ranked_sch,\n",
    "    LAST_VALUE(total_fees) OVER (ORDER BY rank DESC ROWS BETWEEN UNBOUNDED PRECEDING\n",
    "                                        AND UNBOUNDED FOLLOWING) AS lowest_total_fees\n",
    "FROM school_rank\n",
    "LIMIT 1;"
   ]
  },
  {
   "cell_type": "markdown",
   "metadata": {
    "id": "_YkdDBPu_DzO"
   },
   "source": [
    "## Part B: **Answer**"
   ]
  },
  {
   "cell_type": "code",
   "execution_count": 13,
   "metadata": {
    "executionInfo": {
     "elapsed": 8,
     "status": "ok",
     "timestamp": 1752947453058,
     "user": {
      "displayName": "Benjamin Bennett Alexander",
      "userId": "14614847693800833280"
     },
     "user_tz": -180
    },
    "id": "a7PJjswuGkLn"
   },
   "outputs": [],
   "source": [
    "query = \"\"\"\n",
    "WITH calculate_total_fees AS (\n",
    "    SELECT\n",
    "        name,\n",
    "        CAST(REPLACE(REPLACE(tuition_and_fees, '$', ''), ',', '') AS INTEGER) *\n",
    "        CAST(REPLACE(undergrad_enrollment, ',', '') AS INTEGER) AS total_fees\n",
    "    FROM rankings_copy\n",
    "\n",
    "),\n",
    "-- Rank schools based on total fees raised\n",
    "school_rank AS(\n",
    "    SELECT\n",
    "        name,\n",
    "        total_fees,\n",
    "        RANK() OVER (ORDER BY total_fees) AS rank\n",
    "    FROM calculate_total_fees\n",
    ")\n",
    "-- Return the schools with highest and lowest ranks\n",
    "SELECT\n",
    "    FIRST_VALUE(name) OVER (ORDER BY rank DESC) AS highest_ranked_sch,\n",
    "    FIRST_VALUE(total_fees) OVER (ORDER BY rank DESC) AS highest_total_fees,\n",
    "\n",
    "    LAST_VALUE(name) OVER (ORDER BY rank DESC ROWS BETWEEN UNBOUNDED PRECEDING AND\n",
    "                                        UNBOUNDED FOLLOWING) AS lowest_ranked_sch,\n",
    "    LAST_VALUE(total_fees) OVER (ORDER BY rank DESC ROWS BETWEEN UNBOUNDED PRECEDING\n",
    "                                        AND UNBOUNDED FOLLOWING) AS lowest_total_fees\n",
    "FROM school_rank\n",
    "LIMIT 1;\n",
    "\n",
    "\"\"\""
   ]
  },
  {
   "cell_type": "code",
   "execution_count": 14,
   "metadata": {
    "colab": {
     "base_uri": "https://localhost:8080/"
    },
    "executionInfo": {
     "elapsed": 82,
     "status": "ok",
     "timestamp": 1752947453144,
     "user": {
      "displayName": "Benjamin Bennett Alexander",
      "userId": "14614847693800833280"
     },
     "user_tz": -180
    },
    "id": "yIlVBr9XGvN-",
    "outputId": "2b79622c-ee5f-467a-b7ad-713e823cdde5"
   },
   "outputs": [
    {
     "name": "stdout",
     "output_type": "stream",
     "text": [
      "          highest_ranked_sch  highest_total_fees  \\\n",
      "0  Michigan State University          1530099870   \n",
      "\n",
      "                                   lowest_ranked_sch  lowest_total_fees  \n",
      "0  SUNY College of Environmental Science and Fore...           32403180  \n"
     ]
    }
   ],
   "source": [
    "# Creating connection to the database\n",
    "connection = sqlite3.connect(\"university_rankings.db\")\n",
    "# Creating a Dataframe from query\n",
    "df = pd.read_sql_query(query, connection)\n",
    "print(df)"
   ]
  },
  {
   "cell_type": "code",
   "execution_count": 15,
   "metadata": {
    "colab": {
     "base_uri": "https://localhost:8080/",
     "height": 576
    },
    "executionInfo": {
     "elapsed": 51,
     "status": "ok",
     "timestamp": 1752947453188,
     "user": {
      "displayName": "Benjamin Bennett Alexander",
      "userId": "14614847693800833280"
     },
     "user_tz": -180
    },
    "id": "GvSpP3tIHGiI",
    "outputId": "126e3a1d-d02b-48c6-fc1b-7497422aa3cf"
   },
   "outputs": [
    {
     "data": {
      "image/png": "[encoded data removed]",
      "text/plain": [
       "<Figure size 1000x600 with 1 Axes>"
      ]
     },
     "metadata": {},
     "output_type": "display_data"
    }
   ],
   "source": [
    "# Retrieving names from the DataFrame\n",
    "sch_names = [df['highest_ranked_sch'][0], df['lowest_ranked_sch'][0]]\n",
    "# Retrieving values from the DataFrame\n",
    "values = [df['highest_total_fees'][0], df['lowest_total_fees'][0]]\n",
    "\n",
    "# Creating a plot\n",
    "fig, ax = plt.subplots(figsize = (10, 6))\n",
    "ax.bar(sch_names, values, label = sch_names, color = [\"Purple\", \"Blue\"])\n",
    "ax.set_ylabel(\"Total Fees\", fontsize= 12)\n",
    "ax.set_xlabel(\"School Name\", fontsize= 12)\n",
    "ax.set_yticks(values)\n",
    "plt.title(\"Schools With Highest and Lowest Total Fees\", fontsize = 20)\n",
    "plt.show()\n",
    "connection.close()"
   ]
  },
  {
   "cell_type": "markdown",
   "metadata": {
    "id": "KvZzRXQRCg7q"
   },
   "source": [
    "## Question 7: **Answer**"
   ]
  },
  {
   "cell_type": "code",
   "execution_count": 16,
   "metadata": {
    "colab": {
     "base_uri": "https://localhost:8080/",
     "height": 94
    },
    "executionInfo": {
     "elapsed": 26,
     "status": "ok",
     "timestamp": 1752947453191,
     "user": {
      "displayName": "Benjamin Bennett Alexander",
      "userId": "14614847693800833280"
     },
     "user_tz": -180
    },
    "id": "l1HVbBDDHPno",
    "outputId": "ae020fe4-fcea-41e5-fea3-f21b3a220676"
   },
   "outputs": [
    {
     "name": "stdout",
     "output_type": "stream",
     "text": [
      " * sqlite:///university_rankings.db\n",
      "Done.\n"
     ]
    },
    {
     "data": {
      "text/html": [
       "<table>\n",
       "    <thead>\n",
       "        <tr>\n",
       "            <th>max_cumulative_enrollment_total</th>\n",
       "        </tr>\n",
       "    </thead>\n",
       "    <tbody>\n",
       "        <tr>\n",
       "            <td>17945</td>\n",
       "        </tr>\n",
       "    </tbody>\n",
       "</table>"
      ],
      "text/plain": [
       "[(17945,)]"
      ]
     },
     "execution_count": 16,
     "metadata": {},
     "output_type": "execute_result"
    }
   ],
   "source": [
    "%%sql\n",
    "WITH RECURSIVE cumulative_enrollment AS (\n",
    "    -- Starting with the highest-ranked university\n",
    "    SELECT\n",
    "        rank,\n",
    "        CAST(REPLACE(undergrad_enrollment, ',', '') AS INTEGER)\n",
    "        AS cumulative_enrollment\n",
    "    FROM rankings_copy\n",
    "    WHERE rank = 1\n",
    "\n",
    "    UNION ALL\n",
    "\n",
    "    -- Adding the enrollment of the next university in rank order\n",
    "    SELECT\n",
    "        r.rank,\n",
    "          c.cumulative_enrollment + CAST(REPLACE(r.undergrad_enrollment, ',', '') AS INTEGER)\n",
    "        AS cumulative_enrollment\n",
    "    FROM cumulative_enrollment c\n",
    "    JOIN rankings_copy r\n",
    "    ON r.rank = c.rank + 1\n",
    "    WHERE r.rank <= 3\n",
    ")\n",
    "SELECT\n",
    "    MAX(cumulative_enrollment) AS max_cumulative_enrollment_total\n",
    "FROM cumulative_enrollment;"
   ]
  },
  {
   "cell_type": "code",
   "execution_count": 17,
   "metadata": {
    "executionInfo": {
     "elapsed": 22,
     "status": "ok",
     "timestamp": 1752947453207,
     "user": {
      "displayName": "Benjamin Bennett Alexander",
      "userId": "14614847693800833280"
     },
     "user_tz": -180
    },
    "id": "QQdbRnPg38Tj"
   },
   "outputs": [],
   "source": [
    "# %%sql\n",
    "# DROP TABLE rankings_copy;"
   ]
  },
  {
   "cell_type": "code",
   "execution_count": 18,
   "metadata": {
    "executionInfo": {
     "elapsed": 6,
     "status": "ok",
     "timestamp": 1752947453217,
     "user": {
      "displayName": "Benjamin Bennett Alexander",
      "userId": "14614847693800833280"
     },
     "user_tz": -180
    },
    "id": "vWUbIxjY5eut"
   },
   "outputs": [],
   "source": [
    "# %%sql\n",
    "# DROP TABLE rankings;"
   ]
  }
 ],
 "metadata": {
  "colab": {
   "authorship_tag": "ABX9TyNvDxiIDbjXEqNpeHZnnNj9",
   "mount_file_id": "1OimvXHPnxk-JRtjLCJ5jW8ardtpYh8rr",
   "provenance": []
  },
  "kernelspec": {
   "display_name": "Python 3",
   "name": "python3"
  },
  "language_info": {
   "name": "python"
  }
 },
 "nbformat": 4,
 "nbformat_minor": 0
}

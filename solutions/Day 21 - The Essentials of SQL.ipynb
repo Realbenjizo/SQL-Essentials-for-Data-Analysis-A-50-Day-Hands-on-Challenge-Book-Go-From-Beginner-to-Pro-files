{
 "cells": [
  {
   "cell_type": "markdown",
   "id": "zvzCRWQPfPmO",
   "metadata": {
    "id": "zvzCRWQPfPmO"
   },
   "source": [
    "## Question 1: **Answers**"
   ]
  },
  {
   "cell_type": "code",
   "execution_count": 1,
   "id": "9fd51c0b",
   "metadata": {
    "executionInfo": {
     "elapsed": 698,
     "status": "ok",
     "timestamp": 1752855101058,
     "user": {
      "displayName": "Benjamin Bennett Alexander",
      "userId": "14614847693800833280"
     },
     "user_tz": -180
    },
    "id": "9fd51c0b"
   },
   "outputs": [],
   "source": [
    "import pandas as pd\n",
    "import sqlite3"
   ]
  },
  {
   "cell_type": "code",
   "execution_count": null,
   "id": "c861f2e4",
   "metadata": {
    "executionInfo": {
     "elapsed": 1505,
     "status": "ok",
     "timestamp": 1752855102558,
     "user": {
      "displayName": "Benjamin Bennett Alexander",
      "userId": "14614847693800833280"
     },
     "user_tz": -180
    },
    "id": "c861f2e4"
   },
   "outputs": [],
   "source": [
    "def add_data_to_database(data):\n",
    "    try:\n",
    "        data = pd.read_csv(data)\n",
    "        # Connect to SQL and create a database\n",
    "        engine = sqlite3.connect('customers_records.db')\n",
    "        # Creating a table called 'purchases'\n",
    "        data.to_sql('purchases', con=engine, index = False)\n",
    "        engine.close()\n",
    "    except Exception as e:\n",
    "        print(f\"Error: {e}\")\n",
    "\n",
    "data = \"/content/customer_purchases.csv\"\n",
    "add_data_to_database(data)"
   ]
  },
  {
   "cell_type": "code",
   "execution_count": 3,
   "id": "8d8f1dac",
   "metadata": {
    "executionInfo": {
     "elapsed": 216,
     "status": "ok",
     "timestamp": 1752855102778,
     "user": {
      "displayName": "Benjamin Bennett Alexander",
      "userId": "14614847693800833280"
     },
     "user_tz": -180
    },
    "id": "8d8f1dac"
   },
   "outputs": [],
   "source": [
    "# Loading SQL extension\n",
    "%load_ext sql"
   ]
  },
  {
   "cell_type": "code",
   "execution_count": 4,
   "id": "a723c023",
   "metadata": {
    "executionInfo": {
     "elapsed": 23,
     "status": "ok",
     "timestamp": 1752855102825,
     "user": {
      "displayName": "Benjamin Bennett Alexander",
      "userId": "14614847693800833280"
     },
     "user_tz": -180
    },
    "id": "a723c023"
   },
   "outputs": [],
   "source": [
    "# Connecting to the database\n",
    "%sql sqlite:///customers_records.db"
   ]
  },
  {
   "cell_type": "code",
   "execution_count": 5,
   "id": "KDealiRw8xsH",
   "metadata": {
    "executionInfo": {
     "elapsed": 136,
     "status": "ok",
     "timestamp": 1752855102966,
     "user": {
      "displayName": "Benjamin Bennett Alexander",
      "userId": "14614847693800833280"
     },
     "user_tz": -180
    },
    "id": "KDealiRw8xsH"
   },
   "outputs": [],
   "source": [
    "# Default to duplicated style\n",
    "%config SqlMagic.style = '_DEPRECATED_DEFAULT'"
   ]
  },
  {
   "cell_type": "markdown",
   "id": "8844893c",
   "metadata": {
    "id": "8844893c"
   },
   "source": [
    "#### 1. View the first five rows of the table?¶"
   ]
  },
  {
   "cell_type": "code",
   "execution_count": 6,
   "id": "29b337aa",
   "metadata": {
    "colab": {
     "base_uri": "https://localhost:8080/",
     "height": 177
    },
    "executionInfo": {
     "elapsed": 135,
     "status": "ok",
     "timestamp": 1752855102969,
     "user": {
      "displayName": "Benjamin Bennett Alexander",
      "userId": "14614847693800833280"
     },
     "user_tz": -180
    },
    "id": "29b337aa",
    "outputId": "2b87282a-e3a7-4362-b14a-d4cf4e8fa216"
   },
   "outputs": [
    {
     "name": "stdout",
     "output_type": "stream",
     "text": [
      " * sqlite:///customers_records.db\n",
      "Done.\n"
     ]
    },
    {
     "data": {
      "text/html": [
       "<table>\n",
       "    <thead>\n",
       "        <tr>\n",
       "            <th>customer_name</th>\n",
       "            <th>product_name</th>\n",
       "            <th>purchase_type</th>\n",
       "            <th>amount_paid</th>\n",
       "            <th>date_of_purchase</th>\n",
       "        </tr>\n",
       "    </thead>\n",
       "    <tbody>\n",
       "        <tr>\n",
       "            <td>Juliette Martin</td>\n",
       "            <td>Laptop</td>\n",
       "            <td>Walk-in Store</td>\n",
       "            <td>1200</td>\n",
       "            <td>2023-12-23</td>\n",
       "        </tr>\n",
       "        <tr>\n",
       "            <td>Lena Schneider</td>\n",
       "            <td>Mouse</td>\n",
       "            <td>Online</td>\n",
       "            <td>20</td>\n",
       "            <td>2023-12-24</td>\n",
       "        </tr>\n",
       "        <tr>\n",
       "            <td>Anna Nowicka</td>\n",
       "            <td>Ink Cartridges</td>\n",
       "            <td>Walk-in Store</td>\n",
       "            <td>50</td>\n",
       "            <td>2023-12-26</td>\n",
       "        </tr>\n",
       "        <tr>\n",
       "            <td>Alejandro Gonzalez</td>\n",
       "            <td>Monitor</td>\n",
       "            <td>Online</td>\n",
       "            <td>150</td>\n",
       "            <td>2023-12-26</td>\n",
       "        </tr>\n",
       "        <tr>\n",
       "            <td>Max Schmidt</td>\n",
       "            <td>Headphones</td>\n",
       "            <td>Walk-in Store</td>\n",
       "            <td>100</td>\n",
       "            <td>2023-12-27</td>\n",
       "        </tr>\n",
       "    </tbody>\n",
       "</table>"
      ],
      "text/plain": [
       "[('Juliette Martin', 'Laptop', 'Walk-in Store', 1200, '2023-12-23'),\n",
       " ('Lena Schneider', 'Mouse', 'Online', 20, '2023-12-24'),\n",
       " ('Anna Nowicka', 'Ink Cartridges', 'Walk-in Store', 50, '2023-12-26'),\n",
       " ('Alejandro Gonzalez', 'Monitor', 'Online', 150, '2023-12-26'),\n",
       " ('Max Schmidt', 'Headphones', 'Walk-in Store', 100, '2023-12-27')]"
      ]
     },
     "execution_count": 6,
     "metadata": {},
     "output_type": "execute_result"
    }
   ],
   "source": [
    "%%sql\n",
    "SELECT * FROM purchases\n",
    "LIMIT 5;"
   ]
  },
  {
   "cell_type": "markdown",
   "id": "d9235438",
   "metadata": {
    "id": "d9235438"
   },
   "source": [
    "## Question 2: **Answers**"
   ]
  },
  {
   "cell_type": "code",
   "execution_count": 7,
   "id": "9720ec51",
   "metadata": {
    "colab": {
     "base_uri": "https://localhost:8080/",
     "height": 94
    },
    "executionInfo": {
     "elapsed": 78,
     "status": "ok",
     "timestamp": 1752855103017,
     "user": {
      "displayName": "Benjamin Bennett Alexander",
      "userId": "14614847693800833280"
     },
     "user_tz": -180
    },
    "id": "9720ec51",
    "outputId": "3a983718-ddc8-4aff-cb94-e1124b9e2e73"
   },
   "outputs": [
    {
     "name": "stdout",
     "output_type": "stream",
     "text": [
      " * sqlite:///customers_records.db\n",
      "Done.\n"
     ]
    },
    {
     "data": {
      "text/html": [
       "<table>\n",
       "    <thead>\n",
       "        <tr>\n",
       "            <th>count_of_rows_in_table</th>\n",
       "        </tr>\n",
       "    </thead>\n",
       "    <tbody>\n",
       "        <tr>\n",
       "            <td>29</td>\n",
       "        </tr>\n",
       "    </tbody>\n",
       "</table>"
      ],
      "text/plain": [
       "[(29,)]"
      ]
     },
     "execution_count": 7,
     "metadata": {},
     "output_type": "execute_result"
    }
   ],
   "source": [
    "%%sql\n",
    "SELECT COUNT(*) AS count_of_rows_in_table\n",
    "FROM purchases;"
   ]
  },
  {
   "cell_type": "markdown",
   "id": "1ddcb7d2",
   "metadata": {
    "id": "1ddcb7d2"
   },
   "source": [
    "## Questions 3: **Answers**"
   ]
  },
  {
   "cell_type": "code",
   "execution_count": 8,
   "id": "16a99f06",
   "metadata": {
    "colab": {
     "base_uri": "https://localhost:8080/",
     "height": 94
    },
    "executionInfo": {
     "elapsed": 34,
     "status": "ok",
     "timestamp": 1752855103018,
     "user": {
      "displayName": "Benjamin Bennett Alexander",
      "userId": "14614847693800833280"
     },
     "user_tz": -180
    },
    "id": "16a99f06",
    "outputId": "7cedcfeb-7848-41be-f5de-f9d734bf7a8b"
   },
   "outputs": [
    {
     "name": "stdout",
     "output_type": "stream",
     "text": [
      " * sqlite:///customers_records.db\n",
      "Done.\n"
     ]
    },
    {
     "data": {
      "text/html": [
       "<table>\n",
       "    <thead>\n",
       "        <tr>\n",
       "            <th>customer_name</th>\n",
       "            <th>unique_products_bought</th>\n",
       "        </tr>\n",
       "    </thead>\n",
       "    <tbody>\n",
       "        <tr>\n",
       "            <td>Andrea Esposito</td>\n",
       "            <td>&nbsp;&nbsp;&nbsp;&nbsp;&nbsp;&nbsp;&nbsp;&nbsp;&nbsp;&nbsp;&nbsp;&nbsp;&nbsp;&nbsp;&nbsp;&nbsp;&nbsp;&nbsp;&nbsp;2</td>\n",
       "        </tr>\n",
       "    </tbody>\n",
       "</table>"
      ],
      "text/plain": [
       "[('Andrea Esposito', '                   2')]"
      ]
     },
     "execution_count": 8,
     "metadata": {},
     "output_type": "execute_result"
    }
   ],
   "source": [
    "%%sql\n",
    "SELECT\n",
    "    customer_name,\n",
    "    printf('%20s', COUNT(DISTINCT(product_name)))\n",
    "    AS unique_products_bought\n",
    "FROM purchases\n",
    "WHERE customer_name = 'Andrea Esposito';"
   ]
  },
  {
   "cell_type": "markdown",
   "id": "6faada7e",
   "metadata": {
    "id": "6faada7e"
   },
   "source": [
    "## Questions 4: **Answers**"
   ]
  },
  {
   "cell_type": "code",
   "execution_count": 9,
   "id": "f920ddef",
   "metadata": {
    "colab": {
     "base_uri": "https://localhost:8080/",
     "height": 198
    },
    "executionInfo": {
     "elapsed": 24,
     "status": "ok",
     "timestamp": 1752855103027,
     "user": {
      "displayName": "Benjamin Bennett Alexander",
      "userId": "14614847693800833280"
     },
     "user_tz": -180
    },
    "id": "f920ddef",
    "outputId": "e395e9c9-3c43-49ef-a946-ea1ba0d46082"
   },
   "outputs": [
    {
     "name": "stdout",
     "output_type": "stream",
     "text": [
      " * sqlite:///customers_records.db\n",
      "Done.\n"
     ]
    },
    {
     "data": {
      "text/html": [
       "<table>\n",
       "    <thead>\n",
       "        <tr>\n",
       "            <th>product_name</th>\n",
       "            <th>total_amount_brought_in</th>\n",
       "        </tr>\n",
       "    </thead>\n",
       "    <tbody>\n",
       "        <tr>\n",
       "            <td>Screen Protector</td>\n",
       "            <td>10</td>\n",
       "        </tr>\n",
       "        <tr>\n",
       "            <td>Stylus</td>\n",
       "            <td>10</td>\n",
       "        </tr>\n",
       "        <tr>\n",
       "            <td>Keyboard Cover</td>\n",
       "            <td>15</td>\n",
       "        </tr>\n",
       "        <tr>\n",
       "            <td>Mousepad</td>\n",
       "            <td>15</td>\n",
       "        </tr>\n",
       "        <tr>\n",
       "            <td>Mouse</td>\n",
       "            <td>20</td>\n",
       "        </tr>\n",
       "        <tr>\n",
       "            <td>Water Bottle</td>\n",
       "            <td>20</td>\n",
       "        </tr>\n",
       "    </tbody>\n",
       "</table>"
      ],
      "text/plain": [
       "[('Screen Protector', 10),\n",
       " ('Stylus', 10),\n",
       " ('Keyboard Cover', 15),\n",
       " ('Mousepad', 15),\n",
       " ('Mouse', 20),\n",
       " ('Water Bottle', 20)]"
      ]
     },
     "execution_count": 9,
     "metadata": {},
     "output_type": "execute_result"
    }
   ],
   "source": [
    "%%sql\n",
    "SELECT\n",
    "    product_name,\n",
    "    SUM(amount_paid) AS total_amount_brought_in\n",
    "FROM purchases\n",
    "GROUP BY product_name\n",
    "HAVING total_amount_brought_in < 30\n",
    "ORDER BY amount_paid ASC;"
   ]
  },
  {
   "cell_type": "markdown",
   "id": "65751311",
   "metadata": {
    "id": "65751311"
   },
   "source": [
    "## Questions 5: **Answers**"
   ]
  },
  {
   "cell_type": "code",
   "execution_count": 10,
   "id": "ceb16982",
   "metadata": {
    "colab": {
     "base_uri": "https://localhost:8080/",
     "height": 94
    },
    "executionInfo": {
     "elapsed": 34,
     "status": "ok",
     "timestamp": 1752855103063,
     "user": {
      "displayName": "Benjamin Bennett Alexander",
      "userId": "14614847693800833280"
     },
     "user_tz": -180
    },
    "id": "ceb16982",
    "outputId": "39bec145-4e65-42f3-e034-06d82e89edbe"
   },
   "outputs": [
    {
     "name": "stdout",
     "output_type": "stream",
     "text": [
      " * sqlite:///customers_records.db\n",
      "Done.\n"
     ]
    },
    {
     "data": {
      "text/html": [
       "<table>\n",
       "    <thead>\n",
       "        <tr>\n",
       "            <th>product_name</th>\n",
       "            <th>count_online_purchases</th>\n",
       "        </tr>\n",
       "    </thead>\n",
       "    <tbody>\n",
       "        <tr>\n",
       "            <td>Charging Cable</td>\n",
       "            <td>&nbsp;&nbsp;&nbsp;&nbsp;&nbsp;&nbsp;&nbsp;&nbsp;&nbsp;&nbsp;&nbsp;&nbsp;&nbsp;&nbsp;&nbsp;&nbsp;&nbsp;&nbsp;&nbsp;2</td>\n",
       "        </tr>\n",
       "    </tbody>\n",
       "</table>"
      ],
      "text/plain": [
       "[('Charging Cable', '                   2')]"
      ]
     },
     "execution_count": 10,
     "metadata": {},
     "output_type": "execute_result"
    }
   ],
   "source": [
    "%%sql\n",
    "SELECT\n",
    "    product_name,\n",
    "    printf('%20s', COUNT(purchase_type)) AS count_online_purchases\n",
    "FROM purchases\n",
    "WHERE product_name = 'Charging Cable'\n",
    "      AND purchase_type = 'Online';"
   ]
  },
  {
   "cell_type": "markdown",
   "id": "a8b58d2f",
   "metadata": {
    "id": "a8b58d2f"
   },
   "source": [
    "## Question 6: **Answers**"
   ]
  },
  {
   "cell_type": "code",
   "execution_count": 11,
   "id": "12d6011d",
   "metadata": {
    "colab": {
     "base_uri": "https://localhost:8080/",
     "height": 94
    },
    "executionInfo": {
     "elapsed": 15,
     "status": "ok",
     "timestamp": 1752855103103,
     "user": {
      "displayName": "Benjamin Bennett Alexander",
      "userId": "14614847693800833280"
     },
     "user_tz": -180
    },
    "id": "12d6011d",
    "outputId": "6fc9beb3-a831-4610-cac8-902231f1274f"
   },
   "outputs": [
    {
     "name": "stdout",
     "output_type": "stream",
     "text": [
      " * sqlite:///customers_records.db\n",
      "Done.\n"
     ]
    },
    {
     "data": {
      "text/html": [
       "<table>\n",
       "    <thead>\n",
       "        <tr>\n",
       "            <th>customer_name</th>\n",
       "            <th>refund_status</th>\n",
       "        </tr>\n",
       "    </thead>\n",
       "    <tbody>\n",
       "        <tr>\n",
       "            <td>Lorenzo Rossi</td>\n",
       "            <td>Not Eligible for Refund</td>\n",
       "        </tr>\n",
       "    </tbody>\n",
       "</table>"
      ],
      "text/plain": [
       "[('Lorenzo Rossi', 'Not Eligible for Refund')]"
      ]
     },
     "execution_count": 11,
     "metadata": {},
     "output_type": "execute_result"
    }
   ],
   "source": [
    "%%sql\n",
    "SELECT\n",
    "    customer_name,\n",
    "    CASE\n",
    "        WHEN\n",
    "            product_name = 'Smartwatch' AND\n",
    "            purchase_type = 'Online' AND\n",
    "            -- Checking if purchase with 30 days\n",
    "            JULIANDAY('2024-05-20') - JULIANDAY(date_of_purchase) <= 30\n",
    "            THEN 'Eligible for Refund'\n",
    "        ELSE 'Not Eligible for Refund'\n",
    "    END AS refund_status\n",
    "FROM purchases\n",
    "WHERE customer_name = 'Lorenzo Rossi';"
   ]
  },
  {
   "cell_type": "markdown",
   "id": "4c8615a2",
   "metadata": {
    "id": "4c8615a2"
   },
   "source": [
    "## Question 7: **Answers**"
   ]
  },
  {
   "cell_type": "code",
   "execution_count": 12,
   "id": "_IJ2QS4WwN5Y",
   "metadata": {
    "colab": {
     "base_uri": "https://localhost:8080/",
     "height": 94
    },
    "executionInfo": {
     "elapsed": 16,
     "status": "ok",
     "timestamp": 1752855103124,
     "user": {
      "displayName": "Benjamin Bennett Alexander",
      "userId": "14614847693800833280"
     },
     "user_tz": -180
    },
    "id": "_IJ2QS4WwN5Y",
    "outputId": "a033f7b7-c81a-4391-9a3b-d43401a9f186"
   },
   "outputs": [
    {
     "name": "stdout",
     "output_type": "stream",
     "text": [
      " * sqlite:///customers_records.db\n",
      "Done.\n"
     ]
    },
    {
     "data": {
      "text/html": [
       "<table>\n",
       "    <thead>\n",
       "        <tr>\n",
       "            <th>customers_with_multiple_buys</th>\n",
       "        </tr>\n",
       "    </thead>\n",
       "    <tbody>\n",
       "        <tr>\n",
       "            <td>4</td>\n",
       "        </tr>\n",
       "    </tbody>\n",
       "</table>"
      ],
      "text/plain": [
       "[(4,)]"
      ]
     },
     "execution_count": 12,
     "metadata": {},
     "output_type": "execute_result"
    }
   ],
   "source": [
    "%%sql\n",
    "SELECT COUNT(customer_name) AS customers_with_multiple_buys\n",
    "FROM\n",
    "    (SELECT\n",
    "        customer_name,\n",
    "        COUNT(product_name) AS product_bought\n",
    "    FROM purchases\n",
    "    GROUP BY customer_name\n",
    "    HAVING product_bought > 1) AS customer_count;"
   ]
  },
  {
   "cell_type": "code",
   "execution_count": 13,
   "id": "ahZt8mRDjtv_",
   "metadata": {
    "executionInfo": {
     "elapsed": 5,
     "status": "ok",
     "timestamp": 1752855103134,
     "user": {
      "displayName": "Benjamin Bennett Alexander",
      "userId": "14614847693800833280"
     },
     "user_tz": -180
    },
    "id": "ahZt8mRDjtv_"
   },
   "outputs": [],
   "source": [
    "# %%sql\n",
    "# DROP TABLE purchases;"
   ]
  }
 ],
 "metadata": {
  "colab": {
   "provenance": []
  },
  "kernelspec": {
   "display_name": "Python 3 (ipykernel)",
   "language": "python",
   "name": "python3"
  },
  "language_info": {
   "codemirror_mode": {
    "name": "ipython",
    "version": 3
   },
   "file_extension": ".py",
   "mimetype": "text/x-python",
   "name": "python",
   "nbconvert_exporter": "python",
   "pygments_lexer": "ipython3",
   "version": "3.10.5"
  }
 },
 "nbformat": 4,
 "nbformat_minor": 5
}

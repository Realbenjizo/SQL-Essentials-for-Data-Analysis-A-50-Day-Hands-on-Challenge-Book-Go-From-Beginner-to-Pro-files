{
 "cells": [
  {
   "cell_type": "markdown",
   "id": "FKjufLLVCh5b",
   "metadata": {
    "id": "FKjufLLVCh5b"
   },
   "source": [
    "## Question 1: **Answer**"
   ]
  },
  {
   "cell_type": "code",
   "execution_count": 1,
   "id": "4e5ff4ae",
   "metadata": {
    "executionInfo": {
     "elapsed": 37,
     "status": "ok",
     "timestamp": 1751969705403,
     "user": {
      "displayName": "Benjamin Bennett Alexander",
      "userId": "14614847693800833280"
     },
     "user_tz": -180
    },
    "id": "4e5ff4ae"
   },
   "outputs": [],
   "source": [
    "import sqlite3"
   ]
  },
  {
   "cell_type": "code",
   "execution_count": null,
   "id": "1aa771bb",
   "metadata": {
    "colab": {
     "base_uri": "https://localhost:8080/"
    },
    "executionInfo": {
     "elapsed": 80,
     "status": "ok",
     "timestamp": 1751969705499,
     "user": {
      "displayName": "Benjamin Bennett Alexander",
      "userId": "14614847693800833280"
     },
     "user_tz": -180
    },
    "id": "1aa771bb",
    "outputId": "a658e3ea-d444-4750-a665-b5ce5f49f81c"
   },
   "outputs": [
    {
     "name": "stdout",
     "output_type": "stream",
     "text": [
      "Table created successfully.\n"
     ]
    }
   ],
   "source": [
    "def add_data_to_database():\n",
    "    try:\n",
    "        # Connect to the SQLite database\n",
    "        with sqlite3.connect('students_data.db') as conn:\n",
    "            cursor = conn.cursor()\n",
    "\n",
    "            # Create the table\n",
    "            cursor.execute('''\n",
    "            CREATE TABLE IF NOT EXISTS students (\n",
    "                id INTEGER PRIMARY KEY,\n",
    "                name TEXT,\n",
    "                graduation_year INTEGER,\n",
    "                grade TEXT\n",
    "            )\n",
    "            ''')\n",
    "            # Insert data into the table\n",
    "            cursor.executemany('''\n",
    "            INSERT INTO students (id, name, graduation_year, grade) VALUES (?, ?, ?, ?)\n",
    "            ''', [\n",
    "                (1, 'Mpho', 2022, 'A'),\n",
    "                (2, 'John', 2023, 'B'),\n",
    "                (3, 'Charlie', 2022, 'A'),\n",
    "                (4, 'David', 2021, 'C'),\n",
    "                (5, 'Bob', 2023, 'A'),\n",
    "                (6, 'Beatrice', 2022, 'B')\n",
    "            ])\n",
    "            conn.commit()\n",
    "            print(\"Table created successfully.\")\n",
    "    except Exception as e:\n",
    "        print(f\"Error: {e}\")\n",
    "\n",
    "# Calling the function\n",
    "add_data_to_database()"
   ]
  },
  {
   "cell_type": "code",
   "execution_count": 3,
   "id": "13150f29",
   "metadata": {
    "executionInfo": {
     "elapsed": 1052,
     "status": "ok",
     "timestamp": 1751969706544,
     "user": {
      "displayName": "Benjamin Bennett Alexander",
      "userId": "14614847693800833280"
     },
     "user_tz": -180
    },
    "id": "13150f29"
   },
   "outputs": [],
   "source": [
    "# Loading the extension\n",
    "%load_ext sql"
   ]
  },
  {
   "cell_type": "code",
   "execution_count": 4,
   "id": "c0dd6efb",
   "metadata": {
    "executionInfo": {
     "elapsed": 19,
     "status": "ok",
     "timestamp": 1751969706565,
     "user": {
      "displayName": "Benjamin Bennett Alexander",
      "userId": "14614847693800833280"
     },
     "user_tz": -180
    },
    "id": "c0dd6efb"
   },
   "outputs": [],
   "source": [
    "%sql sqlite:///students_data.db"
   ]
  },
  {
   "cell_type": "code",
   "execution_count": 5,
   "id": "JrD29cRs9vIK",
   "metadata": {
    "executionInfo": {
     "elapsed": 23,
     "status": "ok",
     "timestamp": 1751969706587,
     "user": {
      "displayName": "Benjamin Bennett Alexander",
      "userId": "14614847693800833280"
     },
     "user_tz": -180
    },
    "id": "JrD29cRs9vIK"
   },
   "outputs": [],
   "source": [
    "%config SqlMagic.style = '_DEPRECATED_DEFAULT'"
   ]
  },
  {
   "cell_type": "code",
   "execution_count": 6,
   "id": "53cc8bf3",
   "metadata": {
    "colab": {
     "base_uri": "https://localhost:8080/",
     "height": 197
    },
    "executionInfo": {
     "elapsed": 14,
     "status": "ok",
     "timestamp": 1751969706711,
     "user": {
      "displayName": "Benjamin Bennett Alexander",
      "userId": "14614847693800833280"
     },
     "user_tz": -180
    },
    "id": "53cc8bf3",
    "outputId": "8cf2d305-919f-40f1-8530-c816cdf5838e"
   },
   "outputs": [
    {
     "name": "stdout",
     "output_type": "stream",
     "text": [
      " * sqlite:///students_data.db\n",
      "Done.\n"
     ]
    },
    {
     "data": {
      "text/html": [
       "<table>\n",
       "    <thead>\n",
       "        <tr>\n",
       "            <th>id</th>\n",
       "            <th>name</th>\n",
       "            <th>graduation_year</th>\n",
       "            <th>grade</th>\n",
       "        </tr>\n",
       "    </thead>\n",
       "    <tbody>\n",
       "        <tr>\n",
       "            <td>1</td>\n",
       "            <td>Mpho</td>\n",
       "            <td>2022</td>\n",
       "            <td>A</td>\n",
       "        </tr>\n",
       "        <tr>\n",
       "            <td>2</td>\n",
       "            <td>John</td>\n",
       "            <td>2023</td>\n",
       "            <td>B</td>\n",
       "        </tr>\n",
       "        <tr>\n",
       "            <td>3</td>\n",
       "            <td>Charlie</td>\n",
       "            <td>2022</td>\n",
       "            <td>A</td>\n",
       "        </tr>\n",
       "        <tr>\n",
       "            <td>4</td>\n",
       "            <td>David</td>\n",
       "            <td>2021</td>\n",
       "            <td>C</td>\n",
       "        </tr>\n",
       "        <tr>\n",
       "            <td>5</td>\n",
       "            <td>Bob</td>\n",
       "            <td>2023</td>\n",
       "            <td>A</td>\n",
       "        </tr>\n",
       "        <tr>\n",
       "            <td>6</td>\n",
       "            <td>Beatrice</td>\n",
       "            <td>2022</td>\n",
       "            <td>B</td>\n",
       "        </tr>\n",
       "    </tbody>\n",
       "</table>"
      ],
      "text/plain": [
       "[(1, 'Mpho', 2022, 'A'),\n",
       " (2, 'John', 2023, 'B'),\n",
       " (3, 'Charlie', 2022, 'A'),\n",
       " (4, 'David', 2021, 'C'),\n",
       " (5, 'Bob', 2023, 'A'),\n",
       " (6, 'Beatrice', 2022, 'B')]"
      ]
     },
     "execution_count": 6,
     "metadata": {},
     "output_type": "execute_result"
    }
   ],
   "source": [
    "%%sql\n",
    "SELECT * FROM students;"
   ]
  },
  {
   "cell_type": "markdown",
   "id": "e2775862",
   "metadata": {
    "id": "e2775862"
   },
   "source": [
    "## Question 2: **Answer**"
   ]
  },
  {
   "cell_type": "code",
   "execution_count": 7,
   "id": "c275b88e",
   "metadata": {
    "colab": {
     "base_uri": "https://localhost:8080/",
     "height": 177
    },
    "executionInfo": {
     "elapsed": 17,
     "status": "ok",
     "timestamp": 1751969706745,
     "user": {
      "displayName": "Benjamin Bennett Alexander",
      "userId": "14614847693800833280"
     },
     "user_tz": -180
    },
    "id": "c275b88e",
    "outputId": "08683a8f-babf-4bb8-f056-eb35d4c1f146"
   },
   "outputs": [
    {
     "name": "stdout",
     "output_type": "stream",
     "text": [
      " * sqlite:///students_data.db\n",
      "Done.\n"
     ]
    },
    {
     "data": {
      "text/html": [
       "<table>\n",
       "    <thead>\n",
       "        <tr>\n",
       "            <th>name</th>\n",
       "            <th>graduation_year</th>\n",
       "        </tr>\n",
       "    </thead>\n",
       "    <tbody>\n",
       "        <tr>\n",
       "            <td>John</td>\n",
       "            <td>2023</td>\n",
       "        </tr>\n",
       "        <tr>\n",
       "            <td>Bob</td>\n",
       "            <td>2023</td>\n",
       "        </tr>\n",
       "        <tr>\n",
       "            <td>Mpho</td>\n",
       "            <td>2022</td>\n",
       "        </tr>\n",
       "        <tr>\n",
       "            <td>Charlie</td>\n",
       "            <td>2022</td>\n",
       "        </tr>\n",
       "        <tr>\n",
       "            <td>Beatrice</td>\n",
       "            <td>2022</td>\n",
       "        </tr>\n",
       "    </tbody>\n",
       "</table>"
      ],
      "text/plain": [
       "[('John', 2023),\n",
       " ('Bob', 2023),\n",
       " ('Mpho', 2022),\n",
       " ('Charlie', 2022),\n",
       " ('Beatrice', 2022)]"
      ]
     },
     "execution_count": 7,
     "metadata": {},
     "output_type": "execute_result"
    }
   ],
   "source": [
    "%%sql\n",
    "SELECT\n",
    "    name,\n",
    "    graduation_year\n",
    "FROM students\n",
    "WHERE graduation_year IN (2022, 2023)\n",
    "ORDER BY graduation_year DESC;"
   ]
  },
  {
   "cell_type": "markdown",
   "id": "414323ab",
   "metadata": {
    "id": "414323ab"
   },
   "source": [
    "## Question 3: **Answer**"
   ]
  },
  {
   "cell_type": "code",
   "execution_count": 8,
   "id": "d28736df",
   "metadata": {
    "colab": {
     "base_uri": "https://localhost:8080/",
     "height": 135
    },
    "executionInfo": {
     "elapsed": 86,
     "status": "ok",
     "timestamp": 1751969706835,
     "user": {
      "displayName": "Benjamin Bennett Alexander",
      "userId": "14614847693800833280"
     },
     "user_tz": -180
    },
    "id": "d28736df",
    "outputId": "8c9ff3fe-a39e-4d1c-c3ad-d62cd38fd49a"
   },
   "outputs": [
    {
     "name": "stdout",
     "output_type": "stream",
     "text": [
      " * sqlite:///students_data.db\n",
      "Done.\n"
     ]
    },
    {
     "data": {
      "text/html": [
       "<table>\n",
       "    <thead>\n",
       "        <tr>\n",
       "            <th>graduation_year</th>\n",
       "        </tr>\n",
       "    </thead>\n",
       "    <tbody>\n",
       "        <tr>\n",
       "            <td>2021</td>\n",
       "        </tr>\n",
       "        <tr>\n",
       "            <td>2022</td>\n",
       "        </tr>\n",
       "        <tr>\n",
       "            <td>2023</td>\n",
       "        </tr>\n",
       "    </tbody>\n",
       "</table>"
      ],
      "text/plain": [
       "[(2021,), (2022,), (2023,)]"
      ]
     },
     "execution_count": 8,
     "metadata": {},
     "output_type": "execute_result"
    }
   ],
   "source": [
    "%%sql\n",
    "SELECT\n",
    "    DISTINCT graduation_year\n",
    "FROM students\n",
    "ORDER BY graduation_year ASC;"
   ]
  },
  {
   "cell_type": "markdown",
   "id": "2b8879e8",
   "metadata": {
    "id": "2b8879e8"
   },
   "source": [
    "## Question 4: **Answer**"
   ]
  },
  {
   "cell_type": "code",
   "execution_count": 9,
   "id": "adce5071",
   "metadata": {
    "colab": {
     "base_uri": "https://localhost:8080/",
     "height": 135
    },
    "executionInfo": {
     "elapsed": 70,
     "status": "ok",
     "timestamp": 1751969706839,
     "user": {
      "displayName": "Benjamin Bennett Alexander",
      "userId": "14614847693800833280"
     },
     "user_tz": -180
    },
    "id": "adce5071",
    "outputId": "7b00d712-21a7-4eef-a851-766362785100"
   },
   "outputs": [
    {
     "name": "stdout",
     "output_type": "stream",
     "text": [
      " * sqlite:///students_data.db\n",
      "Done.\n"
     ]
    },
    {
     "data": {
      "text/html": [
       "<table>\n",
       "    <thead>\n",
       "        <tr>\n",
       "            <th>name</th>\n",
       "            <th>graduation_year</th>\n",
       "            <th>grade</th>\n",
       "        </tr>\n",
       "    </thead>\n",
       "    <tbody>\n",
       "        <tr>\n",
       "            <td>Mpho</td>\n",
       "            <td>2022</td>\n",
       "            <td>A</td>\n",
       "        </tr>\n",
       "        <tr>\n",
       "            <td>Charlie</td>\n",
       "            <td>2022</td>\n",
       "            <td>A</td>\n",
       "        </tr>\n",
       "        <tr>\n",
       "            <td>Bob</td>\n",
       "            <td>2023</td>\n",
       "            <td>A</td>\n",
       "        </tr>\n",
       "    </tbody>\n",
       "</table>"
      ],
      "text/plain": [
       "[('Mpho', 2022, 'A'), ('Charlie', 2022, 'A'), ('Bob', 2023, 'A')]"
      ]
     },
     "execution_count": 9,
     "metadata": {},
     "output_type": "execute_result"
    }
   ],
   "source": [
    "%%sql\n",
    "SELECT\n",
    "    name,\n",
    "    graduation_year,\n",
    "    grade\n",
    "FROM students\n",
    "WHERE graduation_year IN (2022, 2023) AND grade = 'A';"
   ]
  },
  {
   "cell_type": "markdown",
   "id": "68e2f65d",
   "metadata": {
    "id": "68e2f65d"
   },
   "source": [
    "## Question 5: **Answer**"
   ]
  },
  {
   "cell_type": "code",
   "execution_count": 10,
   "id": "e2cc2a23",
   "metadata": {
    "colab": {
     "base_uri": "https://localhost:8080/",
     "height": 115
    },
    "executionInfo": {
     "elapsed": 29,
     "status": "ok",
     "timestamp": 1751969706840,
     "user": {
      "displayName": "Benjamin Bennett Alexander",
      "userId": "14614847693800833280"
     },
     "user_tz": -180
    },
    "id": "e2cc2a23",
    "outputId": "9084d7fe-bbec-40af-c96f-fca433b24a87"
   },
   "outputs": [
    {
     "name": "stdout",
     "output_type": "stream",
     "text": [
      " * sqlite:///students_data.db\n",
      "Done.\n"
     ]
    },
    {
     "data": {
      "text/html": [
       "<table>\n",
       "    <thead>\n",
       "        <tr>\n",
       "            <th>name</th>\n",
       "            <th>graduation_year</th>\n",
       "            <th>grade</th>\n",
       "        </tr>\n",
       "    </thead>\n",
       "    <tbody>\n",
       "        <tr>\n",
       "            <td>Beatrice</td>\n",
       "            <td>2022</td>\n",
       "            <td>B</td>\n",
       "        </tr>\n",
       "        <tr>\n",
       "            <td>Bob</td>\n",
       "            <td>2023</td>\n",
       "            <td>A</td>\n",
       "        </tr>\n",
       "    </tbody>\n",
       "</table>"
      ],
      "text/plain": [
       "[('Beatrice', 2022, 'B'), ('Bob', 2023, 'A')]"
      ]
     },
     "execution_count": 10,
     "metadata": {},
     "output_type": "execute_result"
    }
   ],
   "source": [
    "%%sql\n",
    "SELECT\n",
    "    name,\n",
    "    graduation_year,\n",
    "    grade\n",
    "FROM students\n",
    "WHERE name LIKE 'B%'\n",
    "ORDER BY name ASC;"
   ]
  },
  {
   "cell_type": "markdown",
   "id": "y_xXuxwZDZde",
   "metadata": {
    "id": "y_xXuxwZDZde"
   },
   "source": [
    "## Question 6: **Answer**"
   ]
  },
  {
   "cell_type": "code",
   "execution_count": 11,
   "id": "1Esh2wfIcRNS",
   "metadata": {
    "colab": {
     "base_uri": "https://localhost:8080/",
     "height": 115
    },
    "executionInfo": {
     "elapsed": 71,
     "status": "ok",
     "timestamp": 1751969706902,
     "user": {
      "displayName": "Benjamin Bennett Alexander",
      "userId": "14614847693800833280"
     },
     "user_tz": -180
    },
    "id": "1Esh2wfIcRNS",
    "outputId": "69daf677-a307-402e-8d36-8f200caf6b74"
   },
   "outputs": [
    {
     "name": "stdout",
     "output_type": "stream",
     "text": [
      " * sqlite:///students_data.db\n",
      "Done.\n"
     ]
    },
    {
     "data": {
      "text/html": [
       "<table>\n",
       "    <thead>\n",
       "        <tr>\n",
       "            <th>word</th>\n",
       "        </tr>\n",
       "    </thead>\n",
       "    <tbody>\n",
       "        <tr>\n",
       "            <td>Banana</td>\n",
       "        </tr>\n",
       "        <tr>\n",
       "            <td>apple</td>\n",
       "        </tr>\n",
       "    </tbody>\n",
       "</table>"
      ],
      "text/plain": [
       "[('Banana',), ('apple',)]"
      ]
     },
     "execution_count": 11,
     "metadata": {},
     "output_type": "execute_result"
    }
   ],
   "source": [
    "%%sql\n",
    "SELECT 'apple' AS word UNION ALL SELECT 'Banana'\n",
    "ORDER BY word ASC;"
   ]
  },
  {
   "cell_type": "code",
   "execution_count": 12,
   "id": "f1sUaFdfdi27",
   "metadata": {
    "colab": {
     "base_uri": "https://localhost:8080/",
     "height": 115
    },
    "executionInfo": {
     "elapsed": 40,
     "status": "ok",
     "timestamp": 1751969706946,
     "user": {
      "displayName": "Benjamin Bennett Alexander",
      "userId": "14614847693800833280"
     },
     "user_tz": -180
    },
    "id": "f1sUaFdfdi27",
    "outputId": "7046271b-ae2b-4a8f-e7f5-1b47218377da"
   },
   "outputs": [
    {
     "name": "stdout",
     "output_type": "stream",
     "text": [
      " * sqlite:///students_data.db\n",
      "Done.\n"
     ]
    },
    {
     "data": {
      "text/html": [
       "<table>\n",
       "    <thead>\n",
       "        <tr>\n",
       "            <th>word</th>\n",
       "        </tr>\n",
       "    </thead>\n",
       "    <tbody>\n",
       "        <tr>\n",
       "            <td>apple</td>\n",
       "        </tr>\n",
       "        <tr>\n",
       "            <td>banana</td>\n",
       "        </tr>\n",
       "    </tbody>\n",
       "</table>"
      ],
      "text/plain": [
       "[('apple',), ('banana',)]"
      ]
     },
     "execution_count": 12,
     "metadata": {},
     "output_type": "execute_result"
    }
   ],
   "source": [
    "%%sql\n",
    "SELECT 'apple' AS word UNION ALL SELECT 'banana'\n",
    "ORDER BY word ASC;"
   ]
  },
  {
   "cell_type": "code",
   "execution_count": 13,
   "id": "LBzGpwQ3d2tq",
   "metadata": {
    "colab": {
     "base_uri": "https://localhost:8080/",
     "height": 115
    },
    "executionInfo": {
     "elapsed": 33,
     "status": "ok",
     "timestamp": 1751969706970,
     "user": {
      "displayName": "Benjamin Bennett Alexander",
      "userId": "14614847693800833280"
     },
     "user_tz": -180
    },
    "id": "LBzGpwQ3d2tq",
    "outputId": "49570f1a-9cc6-4ae2-ba7f-38e79f8217bf"
   },
   "outputs": [
    {
     "name": "stdout",
     "output_type": "stream",
     "text": [
      " * sqlite:///students_data.db\n",
      "Done.\n"
     ]
    },
    {
     "data": {
      "text/html": [
       "<table>\n",
       "    <thead>\n",
       "        <tr>\n",
       "            <th>word</th>\n",
       "        </tr>\n",
       "    </thead>\n",
       "    <tbody>\n",
       "        <tr>\n",
       "            <td>apple</td>\n",
       "        </tr>\n",
       "        <tr>\n",
       "            <td>Banana</td>\n",
       "        </tr>\n",
       "    </tbody>\n",
       "</table>"
      ],
      "text/plain": [
       "[('apple',), ('Banana',)]"
      ]
     },
     "execution_count": 13,
     "metadata": {},
     "output_type": "execute_result"
    }
   ],
   "source": [
    "%%sql\n",
    "SELECT 'apple' AS word UNION ALL SELECT 'Banana'\n",
    "ORDER BY word COLLATE NOCASE ASC;"
   ]
  }
 ],
 "metadata": {
  "colab": {
   "provenance": []
  },
  "kernelspec": {
   "display_name": "Python 3 (ipykernel)",
   "language": "python",
   "name": "python3"
  },
  "language_info": {
   "codemirror_mode": {
    "name": "ipython",
    "version": 3
   },
   "file_extension": ".py",
   "mimetype": "text/x-python",
   "name": "python",
   "nbconvert_exporter": "python",
   "pygments_lexer": "ipython3",
   "version": "3.10.5"
  }
 },
 "nbformat": 4,
 "nbformat_minor": 5
}

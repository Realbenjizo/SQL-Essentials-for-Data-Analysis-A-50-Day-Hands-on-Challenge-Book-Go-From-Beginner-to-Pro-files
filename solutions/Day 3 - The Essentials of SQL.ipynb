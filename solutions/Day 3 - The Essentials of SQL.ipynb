{
 "cells": [
  {
   "cell_type": "markdown",
   "metadata": {
    "id": "fnJBdAJk8yO1"
   },
   "source": [
    "## **Loading data**"
   ]
  },
  {
   "cell_type": "code",
   "execution_count": null,
   "metadata": {
    "id": "uSczN4tVq80B"
   },
   "outputs": [],
   "source": [
    "import sqlite3"
   ]
  },
  {
   "cell_type": "code",
   "execution_count": null,
   "metadata": {
    "id": "vJDtBad_rQtj"
   },
   "outputs": [],
   "source": [
    "def add_data_to_database():\n",
    "    try:\n",
    "        # Connecting to the database\n",
    "        with sqlite3.connect('musician_data.db') as conn:\n",
    "            cursor = conn.cursor()\n",
    "\n",
    "            cursor.execute('''\n",
    "            CREATE TABLE musicians (\n",
    "                id PRIMARY KEY,\n",
    "                musician_name VARCHAR(50),\n",
    "                song TEXT\n",
    "                )\n",
    "            ''')\n",
    "            # data to load\n",
    "            data = [\n",
    "                    (1,'Taylor Swift', 'Love Story'),\n",
    "                    (2, 'Ed Sheeran', 'Shape of You'),\n",
    "                    (3, 'Taylor Swift', 'Blank Space'),\n",
    "                    (4, 'ed sheeran', 'Perfect')\n",
    "            ]\n",
    "            cursor.executemany(\n",
    "                '''\n",
    "                INSERT INTO musicians (id, musician_name, song) VALUES (?, ?, ?)\n",
    "\n",
    "                ''', data\n",
    "            )\n",
    "            conn.commit()\n",
    "            print(\"Table added successfully\")\n",
    "    except Exception as e:\n",
    "        print(f'Error: {e}')\n",
    "\n",
    "# Calling function\n",
    "add_data_to_database()"
   ]
  },
  {
   "cell_type": "code",
   "execution_count": null,
   "metadata": {
    "id": "QPjybsZ1sggq"
   },
   "outputs": [],
   "source": [
    "# Loading SQL extension\n",
    "%load_ext sql"
   ]
  },
  {
   "cell_type": "code",
   "execution_count": null,
   "metadata": {
    "id": "WMAxWk40sl88"
   },
   "outputs": [],
   "source": [
    "# Connecting to the database\n",
    "%sql sqlite:///musician_data.db"
   ]
  },
  {
   "cell_type": "code",
   "execution_count": null,
   "metadata": {
    "id": "ht_4-W4_snfZ"
   },
   "outputs": [],
   "source": [
    "# Default to duplicated style\n",
    "%config SqlMagic.style = '_DEPRECATED_DEFAULT'"
   ]
  },
  {
   "cell_type": "markdown",
   "metadata": {
    "id": "jRkDfEmedBcK"
   },
   "source": [
    "## Question 1: **Answer**"
   ]
  },
  {
   "cell_type": "code",
   "execution_count": null,
   "metadata": {
    "colab": {
     "base_uri": "https://localhost:8080/",
     "height": 115
    },
    "executionInfo": {
     "elapsed": 18,
     "status": "ok",
     "timestamp": 1753365028813,
     "user": {
      "displayName": "Benjamin Bennett Alexander",
      "userId": "14614847693800833280"
     },
     "user_tz": -180
    },
    "id": "TocUfM5Ts4H6",
    "outputId": "af5f2116-6e60-47bf-f1e1-1e37f7233069"
   },
   "outputs": [
    {
     "name": "stdout",
     "output_type": "stream",
     "text": [
      " * sqlite:///musician_data.db\n",
      "Done.\n"
     ]
    },
    {
     "data": {
      "text/html": [
       "<table>\n",
       "    <thead>\n",
       "        <tr>\n",
       "            <th>unique_musicians</th>\n",
       "        </tr>\n",
       "    </thead>\n",
       "    <tbody>\n",
       "        <tr>\n",
       "            <td>taylor swift</td>\n",
       "        </tr>\n",
       "        <tr>\n",
       "            <td>ed sheeran</td>\n",
       "        </tr>\n",
       "    </tbody>\n",
       "</table>"
      ],
      "text/plain": [
       "[('taylor swift',), ('ed sheeran',)]"
      ]
     },
     "execution_count": 6,
     "metadata": {},
     "output_type": "execute_result"
    }
   ],
   "source": [
    "%%sql\n",
    "SELECT  DISTINCT LOWER(musician_name) AS unique_musicians\n",
    "FROM musicians;"
   ]
  },
  {
   "cell_type": "code",
   "execution_count": null,
   "metadata": {
    "colab": {
     "base_uri": "https://localhost:8080/",
     "height": 115
    },
    "executionInfo": {
     "elapsed": 16,
     "status": "ok",
     "timestamp": 1753365028833,
     "user": {
      "displayName": "Benjamin Bennett Alexander",
      "userId": "14614847693800833280"
     },
     "user_tz": -180
    },
    "id": "zGXNGwRmb5Gn",
    "outputId": "50cc6549-1ded-4663-89f4-cb594f6b700c"
   },
   "outputs": [
    {
     "name": "stdout",
     "output_type": "stream",
     "text": [
      " * sqlite:///musician_data.db\n",
      "Done.\n"
     ]
    },
    {
     "data": {
      "text/html": [
       "<table>\n",
       "    <thead>\n",
       "        <tr>\n",
       "            <th>musician_names</th>\n",
       "        </tr>\n",
       "    </thead>\n",
       "    <tbody>\n",
       "        <tr>\n",
       "            <td>Taylor Swift</td>\n",
       "        </tr>\n",
       "        <tr>\n",
       "            <td>Ed Sheeran</td>\n",
       "        </tr>\n",
       "    </tbody>\n",
       "</table>"
      ],
      "text/plain": [
       "[('Taylor Swift',), ('Ed Sheeran',)]"
      ]
     },
     "execution_count": 7,
     "metadata": {},
     "output_type": "execute_result"
    }
   ],
   "source": [
    "%%sql\n",
    "SELECT DISTINCT musician_name COLLATE NOCASE AS musician_names\n",
    "FROM musicians;"
   ]
  },
  {
   "cell_type": "markdown",
   "metadata": {
    "id": "uJqgzTI39ez9"
   },
   "source": [
    "## Question 2: **Answer**"
   ]
  },
  {
   "cell_type": "code",
   "execution_count": null,
   "metadata": {
    "colab": {
     "base_uri": "https://localhost:8080/",
     "height": 94
    },
    "executionInfo": {
     "elapsed": 25,
     "status": "ok",
     "timestamp": 1753365028862,
     "user": {
      "displayName": "Benjamin Bennett Alexander",
      "userId": "14614847693800833280"
     },
     "user_tz": -180
    },
    "id": "fQjqEynTshq6",
    "outputId": "e7529b9e-fedf-48d0-935c-2254e74aa2f0"
   },
   "outputs": [
    {
     "name": "stdout",
     "output_type": "stream",
     "text": [
      " * sqlite:///musician_data.db\n",
      "Done.\n"
     ]
    },
    {
     "data": {
      "text/html": [
       "<table>\n",
       "    <thead>\n",
       "        <tr>\n",
       "            <th>id</th>\n",
       "            <th>musician_name</th>\n",
       "        </tr>\n",
       "    </thead>\n",
       "    <tbody>\n",
       "        <tr>\n",
       "            <td>4</td>\n",
       "            <td>ed sheeran</td>\n",
       "        </tr>\n",
       "    </tbody>\n",
       "</table>"
      ],
      "text/plain": [
       "[(4, 'ed sheeran')]"
      ]
     },
     "execution_count": 8,
     "metadata": {},
     "output_type": "execute_result"
    }
   ],
   "source": [
    "%%sql\n",
    "SELECT\n",
    "    ID,\n",
    "    musician_name\n",
    "FROM musicians\n",
    "ORDER BY ID DESC\n",
    "LIMIT 1;"
   ]
  },
  {
   "cell_type": "markdown",
   "metadata": {
    "id": "BLNWnh0_9pUV"
   },
   "source": [
    "## Question 3: **Answer**"
   ]
  },
  {
   "cell_type": "code",
   "execution_count": null,
   "metadata": {
    "colab": {
     "base_uri": "https://localhost:8080/",
     "height": 156
    },
    "executionInfo": {
     "elapsed": 54,
     "status": "ok",
     "timestamp": 1753365028922,
     "user": {
      "displayName": "Benjamin Bennett Alexander",
      "userId": "14614847693800833280"
     },
     "user_tz": -180
    },
    "id": "I-0vnVeA9T8L",
    "outputId": "4a8d9841-7a15-47b1-a5cc-3bdc3e83f946"
   },
   "outputs": [
    {
     "name": "stdout",
     "output_type": "stream",
     "text": [
      " * sqlite:///musician_data.db\n",
      "Done.\n"
     ]
    },
    {
     "data": {
      "text/html": [
       "<table>\n",
       "    <thead>\n",
       "        <tr>\n",
       "            <th>top_songs</th>\n",
       "        </tr>\n",
       "    </thead>\n",
       "    <tbody>\n",
       "        <tr>\n",
       "            <td>Love Story</td>\n",
       "        </tr>\n",
       "        <tr>\n",
       "            <td>Shape of You</td>\n",
       "        </tr>\n",
       "        <tr>\n",
       "            <td>Blank Space</td>\n",
       "        </tr>\n",
       "        <tr>\n",
       "            <td>Perfect</td>\n",
       "        </tr>\n",
       "    </tbody>\n",
       "</table>"
      ],
      "text/plain": [
       "[('Love Story',), ('Shape of You',), ('Blank Space',), ('Perfect',)]"
      ]
     },
     "execution_count": 9,
     "metadata": {},
     "output_type": "execute_result"
    }
   ],
   "source": [
    "%%sql\n",
    "SELECT song AS top_songs\n",
    "FROM musicians;"
   ]
  },
  {
   "cell_type": "markdown",
   "metadata": {
    "id": "PhijVTFB9zUc"
   },
   "source": [
    "## Question 4: **Answer**"
   ]
  },
  {
   "cell_type": "code",
   "execution_count": null,
   "metadata": {
    "colab": {
     "base_uri": "https://localhost:8080/",
     "height": 94
    },
    "executionInfo": {
     "elapsed": 22,
     "status": "ok",
     "timestamp": 1753365028942,
     "user": {
      "displayName": "Benjamin Bennett Alexander",
      "userId": "14614847693800833280"
     },
     "user_tz": -180
    },
    "id": "bDpTL4wp-CXz",
    "outputId": "5a76bd16-de2e-4c37-a6f7-276fdeacf7b2"
   },
   "outputs": [
    {
     "name": "stdout",
     "output_type": "stream",
     "text": [
      " * sqlite:///musician_data.db\n",
      "Done.\n"
     ]
    },
    {
     "data": {
      "text/html": [
       "<table>\n",
       "    <thead>\n",
       "        <tr>\n",
       "            <th>songs_count</th>\n",
       "        </tr>\n",
       "    </thead>\n",
       "    <tbody>\n",
       "        <tr>\n",
       "            <td>4</td>\n",
       "        </tr>\n",
       "    </tbody>\n",
       "</table>"
      ],
      "text/plain": [
       "[(4,)]"
      ]
     },
     "execution_count": 10,
     "metadata": {},
     "output_type": "execute_result"
    }
   ],
   "source": [
    "%%sql\n",
    "SELECT\n",
    "    COUNT(song) AS songs_count\n",
    "FROM musicians;"
   ]
  },
  {
   "cell_type": "markdown",
   "metadata": {
    "id": "s-S2mud9-S7d"
   },
   "source": [
    "## Question 5: **Answer**"
   ]
  },
  {
   "cell_type": "code",
   "execution_count": null,
   "metadata": {
    "colab": {
     "base_uri": "https://localhost:8080/",
     "height": 156
    },
    "executionInfo": {
     "elapsed": 21,
     "status": "ok",
     "timestamp": 1753365028967,
     "user": {
      "displayName": "Benjamin Bennett Alexander",
      "userId": "14614847693800833280"
     },
     "user_tz": -180
    },
    "id": "B5sxCngLEkMy",
    "outputId": "b75d5bf8-7081-467e-f389-c79f5e87871d"
   },
   "outputs": [
    {
     "name": "stdout",
     "output_type": "stream",
     "text": [
      " * sqlite:///musician_data.db\n",
      "Done.\n"
     ]
    },
    {
     "data": {
      "text/html": [
       "<table>\n",
       "    <thead>\n",
       "        <tr>\n",
       "            <th>musician_name</th>\n",
       "            <th>song</th>\n",
       "        </tr>\n",
       "    </thead>\n",
       "    <tbody>\n",
       "        <tr>\n",
       "            <td>taylor swift</td>\n",
       "            <td>love story</td>\n",
       "        </tr>\n",
       "        <tr>\n",
       "            <td>ed sheeran</td>\n",
       "            <td>shape of you</td>\n",
       "        </tr>\n",
       "        <tr>\n",
       "            <td>taylor swift</td>\n",
       "            <td>blank space</td>\n",
       "        </tr>\n",
       "        <tr>\n",
       "            <td>ed sheeran</td>\n",
       "            <td>perfect</td>\n",
       "        </tr>\n",
       "    </tbody>\n",
       "</table>"
      ],
      "text/plain": [
       "[('taylor swift', 'love story'),\n",
       " ('ed sheeran', 'shape of you'),\n",
       " ('taylor swift', 'blank space'),\n",
       " ('ed sheeran', 'perfect')]"
      ]
     },
     "execution_count": 11,
     "metadata": {},
     "output_type": "execute_result"
    }
   ],
   "source": [
    "%%sql\n",
    "SELECT\n",
    "    DISTINCT LOWER(musician_name) AS musician_name,\n",
    "             LOWER(song) AS song\n",
    "FROM musicians;"
   ]
  }
 ],
 "metadata": {
  "colab": {
   "authorship_tag": "ABX9TyNJ0p0llAay+ckkI1abEQwM",
   "mount_file_id": "1tkYLtDzu6snACN4kp1tRxXIOfQ1bsC8x",
   "provenance": []
  },
  "kernelspec": {
   "display_name": "Python 3",
   "name": "python3"
  },
  "language_info": {
   "name": "python"
  }
 },
 "nbformat": 4,
 "nbformat_minor": 0
}

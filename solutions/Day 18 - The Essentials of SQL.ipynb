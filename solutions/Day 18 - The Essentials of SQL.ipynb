{
 "cells": [
  {
   "cell_type": "markdown",
   "id": "LqT1ztnKifo4",
   "metadata": {
    "id": "LqT1ztnKifo4"
   },
   "source": [
    "## 1 Question: **Answer**"
   ]
  },
  {
   "cell_type": "code",
   "execution_count": 1,
   "id": "95f9ffbe",
   "metadata": {
    "executionInfo": {
     "elapsed": 26,
     "status": "ok",
     "timestamp": 1752854512800,
     "user": {
      "displayName": "Benjamin Bennett Alexander",
      "userId": "14614847693800833280"
     },
     "user_tz": -180
    },
    "id": "95f9ffbe"
   },
   "outputs": [],
   "source": [
    "import sqlite3\n",
    "import csv"
   ]
  },
  {
   "cell_type": "code",
   "execution_count": null,
   "id": "2815b8a2",
   "metadata": {
    "colab": {
     "base_uri": "https://localhost:8080/"
    },
    "executionInfo": {
     "elapsed": 34,
     "status": "ok",
     "timestamp": 1752854512838,
     "user": {
      "displayName": "Benjamin Bennett Alexander",
      "userId": "14614847693800833280"
     },
     "user_tz": -180
    },
    "id": "2815b8a2",
    "outputId": "0cce98a3-3825-431c-be91-ed64b70e9002"
   },
   "outputs": [
    {
     "name": "stdout",
     "output_type": "stream",
     "text": [
      "Error: UNIQUE constraint failed: churn.customer_id\n"
     ]
    }
   ],
   "source": [
    "def load_bank_churn_data(input_data):\n",
    "    try:\n",
    "        conn = sqlite3.connect(\"bank_churn_data.db\")\n",
    "        cursor = conn.cursor()\n",
    "        # Creating table\n",
    "        cursor.execute(\"\"\"\n",
    "        CREATE TABLE IF NOT EXISTS churn (\n",
    "            customer_id PRIMARY KEY,\n",
    "            credit_score TEXT,\n",
    "            age INTEGER,\n",
    "            geography TEXT,\n",
    "            gender TEXT,\n",
    "            tenure INTEGER,\n",
    "            Balance FLOAT,\n",
    "            is_active_member TEXT,\n",
    "            estimated_salary INTEGER,\n",
    "            exited INTEGER)\n",
    "            \"\"\"\n",
    "        )\n",
    "        with open(input_data, \"r\") as csv_file:\n",
    "            csv_reader = csv.reader(csv_file)\n",
    "            # skip headers\n",
    "            next(csv_reader)\n",
    "            for row in csv_reader:\n",
    "                cursor.execute(\"INSERT INTO churn VALUES (?, ?, ?, ?, ?,\"\n",
    "                                \"?, ?, ?, ?, ?)\", row)\n",
    "        conn.commit()\n",
    "    except Exception as e:\n",
    "        print(f\"Error: {e}\")\n",
    "    finally:\n",
    "        conn.close()\n",
    "\n",
    "# Loading data\n",
    "data = \"/content/bank_churn.csv\"\n",
    "load_bank_churn_data(data)"
   ]
  },
  {
   "cell_type": "code",
   "execution_count": 3,
   "id": "9d992876",
   "metadata": {
    "executionInfo": {
     "elapsed": 583,
     "status": "ok",
     "timestamp": 1752854513419,
     "user": {
      "displayName": "Benjamin Bennett Alexander",
      "userId": "14614847693800833280"
     },
     "user_tz": -180
    },
    "id": "9d992876"
   },
   "outputs": [],
   "source": [
    "# Loading the extension\n",
    "%load_ext sql"
   ]
  },
  {
   "cell_type": "code",
   "execution_count": 4,
   "id": "eded4903",
   "metadata": {
    "executionInfo": {
     "elapsed": 34,
     "status": "ok",
     "timestamp": 1752854513421,
     "user": {
      "displayName": "Benjamin Bennett Alexander",
      "userId": "14614847693800833280"
     },
     "user_tz": -180
    },
    "id": "eded4903"
   },
   "outputs": [],
   "source": [
    "# Using the extension to connect to database\n",
    "%sql sqlite:///bank_churn_data.db"
   ]
  },
  {
   "cell_type": "code",
   "execution_count": 5,
   "id": "2uHGC-W5sW7_",
   "metadata": {
    "executionInfo": {
     "elapsed": 141,
     "status": "ok",
     "timestamp": 1752854513534,
     "user": {
      "displayName": "Benjamin Bennett Alexander",
      "userId": "14614847693800833280"
     },
     "user_tz": -180
    },
    "id": "2uHGC-W5sW7_"
   },
   "outputs": [],
   "source": [
    "# Default to duplicated style\n",
    "%config SqlMagic.style = '_DEPRECATED_DEFAULT'"
   ]
  },
  {
   "cell_type": "code",
   "execution_count": 6,
   "id": "7316e7f4",
   "metadata": {
    "colab": {
     "base_uri": "https://localhost:8080/",
     "height": 177
    },
    "executionInfo": {
     "elapsed": 138,
     "status": "ok",
     "timestamp": 1752854513535,
     "user": {
      "displayName": "Benjamin Bennett Alexander",
      "userId": "14614847693800833280"
     },
     "user_tz": -180
    },
    "id": "7316e7f4",
    "outputId": "500a235d-90df-4bd4-b754-445bf0758794"
   },
   "outputs": [
    {
     "name": "stdout",
     "output_type": "stream",
     "text": [
      " * sqlite:///bank_churn_data.db\n",
      "Done.\n"
     ]
    },
    {
     "data": {
      "text/html": [
       "<table>\n",
       "    <thead>\n",
       "        <tr>\n",
       "            <th>customer_id</th>\n",
       "            <th>credit_score</th>\n",
       "            <th>age</th>\n",
       "            <th>geography</th>\n",
       "            <th>gender</th>\n",
       "            <th>tenure</th>\n",
       "            <th>Balance</th>\n",
       "            <th>is_active_member</th>\n",
       "            <th>estimated_salary</th>\n",
       "            <th>exited</th>\n",
       "        </tr>\n",
       "    </thead>\n",
       "    <tbody>\n",
       "        <tr>\n",
       "            <td>10001</td>\n",
       "            <td>690</td>\n",
       "            <td>40</td>\n",
       "            <td>France</td>\n",
       "            <td>Female</td>\n",
       "            <td>12</td>\n",
       "            <td>84041.05</td>\n",
       "            <td>Yes</td>\n",
       "            <td>130000</td>\n",
       "            <td>1</td>\n",
       "        </tr>\n",
       "        <tr>\n",
       "            <td>10002</td>\n",
       "            <td>850</td>\n",
       "            <td>44</td>\n",
       "            <td>Spain</td>\n",
       "            <td>Female</td>\n",
       "            <td>8</td>\n",
       "            <td>127644.24</td>\n",
       "            <td>Yes</td>\n",
       "            <td>110000</td>\n",
       "            <td>0</td>\n",
       "        </tr>\n",
       "        <tr>\n",
       "            <td>10003</td>\n",
       "            <td>780</td>\n",
       "            <td>66</td>\n",
       "            <td>Germany</td>\n",
       "            <td>Female</td>\n",
       "            <td>9</td>\n",
       "            <td>71115.23</td>\n",
       "            <td>Yes</td>\n",
       "            <td>120000</td>\n",
       "            <td>0</td>\n",
       "        </tr>\n",
       "        <tr>\n",
       "            <td>10004</td>\n",
       "            <td>730</td>\n",
       "            <td>27</td>\n",
       "            <td>France</td>\n",
       "            <td>Male</td>\n",
       "            <td>4</td>\n",
       "            <td>136918.88</td>\n",
       "            <td>Yes</td>\n",
       "            <td>90000</td>\n",
       "            <td>1</td>\n",
       "        </tr>\n",
       "        <tr>\n",
       "            <td>10005</td>\n",
       "            <td>730</td>\n",
       "            <td>33</td>\n",
       "            <td>Spain</td>\n",
       "            <td>Female</td>\n",
       "            <td>7</td>\n",
       "            <td>167882.53</td>\n",
       "            <td>Yes</td>\n",
       "            <td>70000</td>\n",
       "            <td>0</td>\n",
       "        </tr>\n",
       "    </tbody>\n",
       "</table>"
      ],
      "text/plain": [
       "[('10001', '690', 40, 'France', 'Female', 12, 84041.05, 'Yes', 130000, 1),\n",
       " ('10002', '850', 44, 'Spain', 'Female', 8, 127644.24, 'Yes', 110000, 0),\n",
       " ('10003', '780', 66, 'Germany', 'Female', 9, 71115.23, 'Yes', 120000, 0),\n",
       " ('10004', '730', 27, 'France', 'Male', 4, 136918.88, 'Yes', 90000, 1),\n",
       " ('10005', '730', 33, 'Spain', 'Female', 7, 167882.53, 'Yes', 70000, 0)]"
      ]
     },
     "execution_count": 6,
     "metadata": {},
     "output_type": "execute_result"
    }
   ],
   "source": [
    "%%sql\n",
    "SELECT * FROM churn LIMIT 5;"
   ]
  },
  {
   "cell_type": "markdown",
   "id": "9aabca01",
   "metadata": {
    "id": "9aabca01"
   },
   "source": [
    "## 2. Question: **Answer**"
   ]
  },
  {
   "cell_type": "code",
   "execution_count": 7,
   "id": "215ab775",
   "metadata": {
    "colab": {
     "base_uri": "https://localhost:8080/",
     "height": 115
    },
    "executionInfo": {
     "elapsed": 141,
     "status": "ok",
     "timestamp": 1752854513557,
     "user": {
      "displayName": "Benjamin Bennett Alexander",
      "userId": "14614847693800833280"
     },
     "user_tz": -180
    },
    "id": "215ab775",
    "outputId": "0cd269fc-df95-43b8-ebf6-6276117b81f7"
   },
   "outputs": [
    {
     "name": "stdout",
     "output_type": "stream",
     "text": [
      " * sqlite:///bank_churn_data.db\n",
      "Done.\n"
     ]
    },
    {
     "data": {
      "text/html": [
       "<table>\n",
       "    <thead>\n",
       "        <tr>\n",
       "            <th>gender</th>\n",
       "            <th>average_credit_score</th>\n",
       "        </tr>\n",
       "    </thead>\n",
       "    <tbody>\n",
       "        <tr>\n",
       "            <td>Female</td>\n",
       "            <td>&nbsp;&nbsp;&nbsp;&nbsp;&nbsp;&nbsp;&nbsp;&nbsp;&nbsp;&nbsp;&nbsp;&nbsp;&nbsp;&nbsp;&nbsp;758.0</td>\n",
       "        </tr>\n",
       "        <tr>\n",
       "            <td>Male</td>\n",
       "            <td>&nbsp;&nbsp;&nbsp;&nbsp;&nbsp;&nbsp;&nbsp;&nbsp;&nbsp;&nbsp;&nbsp;&nbsp;&nbsp;&nbsp;&nbsp;739.0</td>\n",
       "        </tr>\n",
       "    </tbody>\n",
       "</table>"
      ],
      "text/plain": [
       "[('Female', '               758.0'), ('Male', '               739.0')]"
      ]
     },
     "execution_count": 7,
     "metadata": {},
     "output_type": "execute_result"
    }
   ],
   "source": [
    "%%sql\n",
    "SELECT\n",
    "    gender,\n",
    "    printf('%20s', AVG(credit_score)) AS average_credit_score\n",
    "FROM churn\n",
    "GROUP BY gender;"
   ]
  },
  {
   "cell_type": "markdown",
   "id": "2f25ef0a",
   "metadata": {
    "id": "2f25ef0a"
   },
   "source": [
    "## 3. Question: **Answer**"
   ]
  },
  {
   "cell_type": "code",
   "execution_count": 8,
   "id": "1d58c3a6",
   "metadata": {
    "colab": {
     "base_uri": "https://localhost:8080/",
     "height": 136
    },
    "executionInfo": {
     "elapsed": 47,
     "status": "ok",
     "timestamp": 1752854513605,
     "user": {
      "displayName": "Benjamin Bennett Alexander",
      "userId": "14614847693800833280"
     },
     "user_tz": -180
    },
    "id": "1d58c3a6",
    "outputId": "92596fec-d0b0-474c-fc1d-65f600befebc"
   },
   "outputs": [
    {
     "name": "stdout",
     "output_type": "stream",
     "text": [
      " * sqlite:///bank_churn_data.db\n",
      "Done.\n"
     ]
    },
    {
     "data": {
      "text/html": [
       "<table>\n",
       "    <thead>\n",
       "        <tr>\n",
       "            <th>geography</th>\n",
       "            <th>percentage</th>\n",
       "        </tr>\n",
       "    </thead>\n",
       "    <tbody>\n",
       "        <tr>\n",
       "            <td>France</td>\n",
       "            <td>0.5</td>\n",
       "        </tr>\n",
       "        <tr>\n",
       "            <td>Germany</td>\n",
       "            <td>0.25</td>\n",
       "        </tr>\n",
       "        <tr>\n",
       "            <td>Spain</td>\n",
       "            <td>0.33</td>\n",
       "        </tr>\n",
       "    </tbody>\n",
       "</table>"
      ],
      "text/plain": [
       "[('France', 0.5), ('Germany', 0.25), ('Spain', 0.33)]"
      ]
     },
     "execution_count": 8,
     "metadata": {},
     "output_type": "execute_result"
    }
   ],
   "source": [
    "%%sql\n",
    "SELECT\n",
    "    geography,\n",
    "    ROUND(CAST((COUNT(CASE WHEN exited = 1 THEN 1 END) * 1.0 /\n",
    "                COUNT(*)) AS REAL),2) AS percentage\n",
    "FROM churn\n",
    "GROUP BY geography;"
   ]
  },
  {
   "cell_type": "markdown",
   "id": "b1b7c08b",
   "metadata": {
    "id": "b1b7c08b"
   },
   "source": [
    "## 4. Question: **Answer**"
   ]
  },
  {
   "cell_type": "code",
   "execution_count": 9,
   "id": "eb53706f",
   "metadata": {
    "colab": {
     "base_uri": "https://localhost:8080/",
     "height": 94
    },
    "executionInfo": {
     "elapsed": 24,
     "status": "ok",
     "timestamp": 1752854513632,
     "user": {
      "displayName": "Benjamin Bennett Alexander",
      "userId": "14614847693800833280"
     },
     "user_tz": -180
    },
    "id": "eb53706f",
    "outputId": "78e7f4d4-714f-41ab-85f0-fae961afbcb0"
   },
   "outputs": [
    {
     "name": "stdout",
     "output_type": "stream",
     "text": [
      " * sqlite:///bank_churn_data.db\n",
      "Done.\n"
     ]
    },
    {
     "data": {
      "text/html": [
       "<table>\n",
       "    <thead>\n",
       "        <tr>\n",
       "            <th>difference</th>\n",
       "        </tr>\n",
       "    </thead>\n",
       "    <tbody>\n",
       "        <tr>\n",
       "            <td>1189.48</td>\n",
       "        </tr>\n",
       "    </tbody>\n",
       "</table>"
      ],
      "text/plain": [
       "[(1189.48,)]"
      ]
     },
     "execution_count": 9,
     "metadata": {},
     "output_type": "execute_result"
    }
   ],
   "source": [
    "%%sql\n",
    "SELECT\n",
    "    ROUND(CAST(AVG(CASE WHEN is_active_member = \"Yes\" THEN Balance END) -\n",
    "               AVG(CASE WHEN is_active_member = \"No\" THEN Balance END) AS REAL), 2)\n",
    "    AS difference\n",
    "FROM churn;"
   ]
  },
  {
   "cell_type": "markdown",
   "id": "6e896dfe",
   "metadata": {
    "id": "6e896dfe"
   },
   "source": [
    "## Question 5: **Answer**"
   ]
  },
  {
   "cell_type": "code",
   "execution_count": 10,
   "id": "f4f67173",
   "metadata": {
    "colab": {
     "base_uri": "https://localhost:8080/",
     "height": 136
    },
    "executionInfo": {
     "elapsed": 21,
     "status": "ok",
     "timestamp": 1752854513659,
     "user": {
      "displayName": "Benjamin Bennett Alexander",
      "userId": "14614847693800833280"
     },
     "user_tz": -180
    },
    "id": "f4f67173",
    "outputId": "c0f5d63a-5187-49e9-8967-95190a0e1420"
   },
   "outputs": [
    {
     "name": "stdout",
     "output_type": "stream",
     "text": [
      " * sqlite:///bank_churn_data.db\n",
      "Done.\n"
     ]
    },
    {
     "data": {
      "text/html": [
       "<table>\n",
       "    <thead>\n",
       "        <tr>\n",
       "            <th>age_group</th>\n",
       "            <th>average_salary</th>\n",
       "        </tr>\n",
       "    </thead>\n",
       "    <tbody>\n",
       "        <tr>\n",
       "            <td>over 40</td>\n",
       "            <td>108625.0</td>\n",
       "        </tr>\n",
       "        <tr>\n",
       "            <td>31-40</td>\n",
       "            <td>107500.0</td>\n",
       "        </tr>\n",
       "        <tr>\n",
       "            <td>20-30</td>\n",
       "            <td>85000.0</td>\n",
       "        </tr>\n",
       "    </tbody>\n",
       "</table>"
      ],
      "text/plain": [
       "[('over 40', 108625.0), ('31-40', 107500.0), ('20-30', 85000.0)]"
      ]
     },
     "execution_count": 10,
     "metadata": {},
     "output_type": "execute_result"
    }
   ],
   "source": [
    "%%sql\n",
    "SELECT\n",
    "    CASE\n",
    "        WHEN age BETWEEN 20 AND 30 THEN '20-30'\n",
    "        WHEN age BETWEEN 31 AND 40 THEN '31-40'\n",
    "        ELSE 'over 40'\n",
    "    END AS age_group,\n",
    "    AVG(estimated_salary) AS average_salary\n",
    "FROM churn\n",
    "GROUP BY age_group\n",
    "ORDER BY average_salary DESC;"
   ]
  },
  {
   "cell_type": "markdown",
   "id": "dabc5da5",
   "metadata": {
    "id": "dabc5da5"
   },
   "source": [
    "## 6 Question: **Answer**"
   ]
  },
  {
   "cell_type": "code",
   "execution_count": 11,
   "id": "7b57091c",
   "metadata": {
    "colab": {
     "base_uri": "https://localhost:8080/",
     "height": 156
    },
    "executionInfo": {
     "elapsed": 35,
     "status": "ok",
     "timestamp": 1752854513692,
     "user": {
      "displayName": "Benjamin Bennett Alexander",
      "userId": "14614847693800833280"
     },
     "user_tz": -180
    },
    "id": "7b57091c",
    "outputId": "5bc487ff-43b2-4ff5-f872-bcaae872d9ed"
   },
   "outputs": [
    {
     "name": "stdout",
     "output_type": "stream",
     "text": [
      " * sqlite:///bank_churn_data.db\n",
      "Done.\n"
     ]
    },
    {
     "data": {
      "text/html": [
       "<table>\n",
       "    <thead>\n",
       "        <tr>\n",
       "            <th>age_group</th>\n",
       "            <th>average_balance</th>\n",
       "        </tr>\n",
       "    </thead>\n",
       "    <tbody>\n",
       "        <tr>\n",
       "            <td>20-30</td>\n",
       "            <td>128246.17</td>\n",
       "        </tr>\n",
       "        <tr>\n",
       "            <td>31-40</td>\n",
       "            <td>127547.44</td>\n",
       "        </tr>\n",
       "        <tr>\n",
       "            <td>over 50</td>\n",
       "            <td>106591.55</td>\n",
       "        </tr>\n",
       "        <tr>\n",
       "            <td>41-50</td>\n",
       "            <td>105252.12</td>\n",
       "        </tr>\n",
       "    </tbody>\n",
       "</table>"
      ],
      "text/plain": [
       "[('20-30', 128246.17),\n",
       " ('31-40', 127547.44),\n",
       " ('over 50', 106591.55),\n",
       " ('41-50', 105252.12)]"
      ]
     },
     "execution_count": 11,
     "metadata": {},
     "output_type": "execute_result"
    }
   ],
   "source": [
    "%%sql\n",
    "SELECT\n",
    "    CASE\n",
    "        WHEN age BETWEEN 20 AND 30 THEN '20-30'\n",
    "        WHEN age BETWEEN 31 AND 40 THEN '31-40'\n",
    "        WHEN age BETWEEN 41 AND 50 THEN '41-50'\n",
    "        ELSE 'over 50'\n",
    "    END AS age_group,\n",
    "    ROUND(AVG(Balance),2) AS average_balance\n",
    "FROM churn\n",
    "GROUP BY age_group\n",
    "ORDER BY average_balance DESC;"
   ]
  },
  {
   "cell_type": "code",
   "execution_count": 12,
   "id": "628c02c6",
   "metadata": {
    "executionInfo": {
     "elapsed": 79,
     "status": "ok",
     "timestamp": 1752854513762,
     "user": {
      "displayName": "Benjamin Bennett Alexander",
      "userId": "14614847693800833280"
     },
     "user_tz": -180
    },
    "id": "628c02c6"
   },
   "outputs": [],
   "source": [
    "# %%sql\n",
    "# DROP TABLE churn;"
   ]
  }
 ],
 "metadata": {
  "colab": {
   "provenance": []
  },
  "kernelspec": {
   "display_name": "Python 3 (ipykernel)",
   "language": "python",
   "name": "python3"
  },
  "language_info": {
   "codemirror_mode": {
    "name": "ipython",
    "version": 3
   },
   "file_extension": ".py",
   "mimetype": "text/x-python",
   "name": "python",
   "nbconvert_exporter": "python",
   "pygments_lexer": "ipython3",
   "version": "3.10.5"
  }
 },
 "nbformat": 4,
 "nbformat_minor": 5
}

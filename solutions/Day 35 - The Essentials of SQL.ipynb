{
 "cells": [
  {
   "cell_type": "markdown",
   "id": "Gzx3H4mpyZBl",
   "metadata": {
    "id": "Gzx3H4mpyZBl"
   },
   "source": [
    "## Question 1: **Answer**"
   ]
  },
  {
   "cell_type": "code",
   "execution_count": 1,
   "id": "bd23c97a",
   "metadata": {
    "executionInfo": {
     "elapsed": 713,
     "status": "ok",
     "timestamp": 1752931651507,
     "user": {
      "displayName": "Benjamin Bennett Alexander",
      "userId": "14614847693800833280"
     },
     "user_tz": -180
    },
    "id": "bd23c97a"
   },
   "outputs": [],
   "source": [
    "import pandas as pd\n",
    "import sqlite3"
   ]
  },
  {
   "cell_type": "code",
   "execution_count": null,
   "id": "3208c912",
   "metadata": {
    "colab": {
     "base_uri": "https://localhost:8080/"
    },
    "executionInfo": {
     "elapsed": 1001,
     "status": "ok",
     "timestamp": 1752931652502,
     "user": {
      "displayName": "Benjamin Bennett Alexander",
      "userId": "14614847693800833280"
     },
     "user_tz": -180
    },
    "id": "3208c912",
    "outputId": "42643f2c-4cc1-43b3-c646-58b22751ce2d"
   },
   "outputs": [
    {
     "name": "stdout",
     "output_type": "stream",
     "text": [
      "Table successfully added to the database\n"
     ]
    }
   ],
   "source": [
    "def add_to_database(input_data):\n",
    "    try:\n",
    "        df = pd.read_csv(input_data)\n",
    "        engine = sqlite3.connect(\"swimmers_data.db\")\n",
    "        df.to_sql(\"swimmers\", con=engine, index = False)\n",
    "        engine.close()\n",
    "        print(\"Table successfully added to the database\")\n",
    "    except Exception as e:\n",
    "        print(f\"Error: {e}\")\n",
    "\n",
    "data = \"/content/swimmers_stats.csv\"\n",
    "add_to_database(data)"
   ]
  },
  {
   "cell_type": "code",
   "execution_count": 3,
   "id": "75992c59",
   "metadata": {
    "executionInfo": {
     "elapsed": 1007,
     "status": "ok",
     "timestamp": 1752931653512,
     "user": {
      "displayName": "Benjamin Bennett Alexander",
      "userId": "14614847693800833280"
     },
     "user_tz": -180
    },
    "id": "75992c59"
   },
   "outputs": [],
   "source": [
    "# Loading SQL extension\n",
    "%load_ext sql"
   ]
  },
  {
   "cell_type": "code",
   "execution_count": 4,
   "id": "bc94b481",
   "metadata": {
    "executionInfo": {
     "elapsed": 29,
     "status": "ok",
     "timestamp": 1752931653547,
     "user": {
      "displayName": "Benjamin Bennett Alexander",
      "userId": "14614847693800833280"
     },
     "user_tz": -180
    },
    "id": "bc94b481"
   },
   "outputs": [],
   "source": [
    "# Connecting to the database\n",
    "%sql sqlite:///swimmers_data.db"
   ]
  },
  {
   "cell_type": "code",
   "execution_count": 5,
   "id": "9sLjunYjlOPY",
   "metadata": {
    "executionInfo": {
     "elapsed": 39,
     "status": "ok",
     "timestamp": 1752931653590,
     "user": {
      "displayName": "Benjamin Bennett Alexander",
      "userId": "14614847693800833280"
     },
     "user_tz": -180
    },
    "id": "9sLjunYjlOPY"
   },
   "outputs": [],
   "source": [
    "# Default to duplicated style\n",
    "%config SqlMagic.style = '_DEPRECATED_DEFAULT'"
   ]
  },
  {
   "cell_type": "code",
   "execution_count": 6,
   "id": "e076eca7",
   "metadata": {
    "colab": {
     "base_uri": "https://localhost:8080/",
     "height": 177
    },
    "executionInfo": {
     "elapsed": 34,
     "status": "ok",
     "timestamp": 1752931653629,
     "user": {
      "displayName": "Benjamin Bennett Alexander",
      "userId": "14614847693800833280"
     },
     "user_tz": -180
    },
    "id": "e076eca7",
    "outputId": "5e6e0171-0286-4d8e-de2b-4e4117d6af8b"
   },
   "outputs": [
    {
     "name": "stdout",
     "output_type": "stream",
     "text": [
      " * sqlite:///swimmers_data.db\n",
      "Done.\n"
     ]
    },
    {
     "data": {
      "text/html": [
       "<table>\n",
       "    <thead>\n",
       "        <tr>\n",
       "            <th>name</th>\n",
       "            <th>nationality</th>\n",
       "            <th>specialty</th>\n",
       "            <th>olympic_gold</th>\n",
       "            <th>olympic_silver</th>\n",
       "            <th>olympic_bronze</th>\n",
       "            <th>world_championship_gold</th>\n",
       "            <th>world_championship_silver</th>\n",
       "            <th>world_championship_bronze</th>\n",
       "            <th>total_medals</th>\n",
       "        </tr>\n",
       "    </thead>\n",
       "    <tbody>\n",
       "        <tr>\n",
       "            <td>Michael Phelps</td>\n",
       "            <td>USA</td>\n",
       "            <td>Freestyle</td>\n",
       "            <td>23</td>\n",
       "            <td>3</td>\n",
       "            <td>3</td>\n",
       "            <td>26</td>\n",
       "            <td>6</td>\n",
       "            <td>2</td>\n",
       "            <td>63</td>\n",
       "        </tr>\n",
       "        <tr>\n",
       "            <td>Mark Spitz</td>\n",
       "            <td>USA</td>\n",
       "            <td>Freestyle/Butterfly</td>\n",
       "            <td>9</td>\n",
       "            <td>7</td>\n",
       "            <td>1</td>\n",
       "            <td>6</td>\n",
       "            <td>5</td>\n",
       "            <td>3</td>\n",
       "            <td>31</td>\n",
       "        </tr>\n",
       "        <tr>\n",
       "            <td>Jenny Thompson</td>\n",
       "            <td>USA</td>\n",
       "            <td>Freestyle</td>\n",
       "            <td>4</td>\n",
       "            <td>3</td>\n",
       "            <td>7</td>\n",
       "            <td>7</td>\n",
       "            <td>4</td>\n",
       "            <td>7</td>\n",
       "            <td>32</td>\n",
       "        </tr>\n",
       "        <tr>\n",
       "            <td>Matt Biondi</td>\n",
       "            <td>USA</td>\n",
       "            <td>Freestyle</td>\n",
       "            <td>5</td>\n",
       "            <td>4</td>\n",
       "            <td>1</td>\n",
       "            <td>8</td>\n",
       "            <td>3</td>\n",
       "            <td>1</td>\n",
       "            <td>22</td>\n",
       "        </tr>\n",
       "        <tr>\n",
       "            <td>Ian Thorpe</td>\n",
       "            <td>AUS</td>\n",
       "            <td>Freestyle</td>\n",
       "            <td>5</td>\n",
       "            <td>3</td>\n",
       "            <td>1</td>\n",
       "            <td>6</td>\n",
       "            <td>3</td>\n",
       "            <td>2</td>\n",
       "            <td>20</td>\n",
       "        </tr>\n",
       "    </tbody>\n",
       "</table>"
      ],
      "text/plain": [
       "[('Michael Phelps', 'USA', 'Freestyle', 23, 3, 3, 26, 6, 2, 63),\n",
       " ('Mark Spitz', 'USA', 'Freestyle/Butterfly', 9, 7, 1, 6, 5, 3, 31),\n",
       " ('Jenny Thompson', 'USA', 'Freestyle', 4, 3, 7, 7, 4, 7, 32),\n",
       " ('Matt Biondi', 'USA', 'Freestyle', 5, 4, 1, 8, 3, 1, 22),\n",
       " ('Ian Thorpe', 'AUS', 'Freestyle', 5, 3, 1, 6, 3, 2, 20)]"
      ]
     },
     "execution_count": 6,
     "metadata": {},
     "output_type": "execute_result"
    }
   ],
   "source": [
    "%%sql\n",
    "SELECT * FROM swimmers\n",
    "LIMIT 5;"
   ]
  },
  {
   "cell_type": "code",
   "execution_count": 7,
   "id": "c05396f0",
   "metadata": {
    "colab": {
     "base_uri": "https://localhost:8080/",
     "height": 281
    },
    "executionInfo": {
     "elapsed": 11,
     "status": "ok",
     "timestamp": 1752931653644,
     "user": {
      "displayName": "Benjamin Bennett Alexander",
      "userId": "14614847693800833280"
     },
     "user_tz": -180
    },
    "id": "c05396f0",
    "outputId": "bb3f0c7d-60bd-4212-c377-57ea16008442"
   },
   "outputs": [
    {
     "name": "stdout",
     "output_type": "stream",
     "text": [
      " * sqlite:///swimmers_data.db\n",
      "Done.\n"
     ]
    },
    {
     "data": {
      "text/html": [
       "<table>\n",
       "    <thead>\n",
       "        <tr>\n",
       "            <th>cid</th>\n",
       "            <th>name</th>\n",
       "            <th>type</th>\n",
       "            <th>notnull</th>\n",
       "            <th>dflt_value</th>\n",
       "            <th>pk</th>\n",
       "        </tr>\n",
       "    </thead>\n",
       "    <tbody>\n",
       "        <tr>\n",
       "            <td>0</td>\n",
       "            <td>name</td>\n",
       "            <td>TEXT</td>\n",
       "            <td>0</td>\n",
       "            <td>None</td>\n",
       "            <td>0</td>\n",
       "        </tr>\n",
       "        <tr>\n",
       "            <td>1</td>\n",
       "            <td>nationality</td>\n",
       "            <td>TEXT</td>\n",
       "            <td>0</td>\n",
       "            <td>None</td>\n",
       "            <td>0</td>\n",
       "        </tr>\n",
       "        <tr>\n",
       "            <td>2</td>\n",
       "            <td>specialty</td>\n",
       "            <td>TEXT</td>\n",
       "            <td>0</td>\n",
       "            <td>None</td>\n",
       "            <td>0</td>\n",
       "        </tr>\n",
       "        <tr>\n",
       "            <td>3</td>\n",
       "            <td>olympic_gold</td>\n",
       "            <td>INTEGER</td>\n",
       "            <td>0</td>\n",
       "            <td>None</td>\n",
       "            <td>0</td>\n",
       "        </tr>\n",
       "        <tr>\n",
       "            <td>4</td>\n",
       "            <td>olympic_silver</td>\n",
       "            <td>INTEGER</td>\n",
       "            <td>0</td>\n",
       "            <td>None</td>\n",
       "            <td>0</td>\n",
       "        </tr>\n",
       "        <tr>\n",
       "            <td>5</td>\n",
       "            <td>olympic_bronze</td>\n",
       "            <td>INTEGER</td>\n",
       "            <td>0</td>\n",
       "            <td>None</td>\n",
       "            <td>0</td>\n",
       "        </tr>\n",
       "        <tr>\n",
       "            <td>6</td>\n",
       "            <td>world_championship_gold</td>\n",
       "            <td>INTEGER</td>\n",
       "            <td>0</td>\n",
       "            <td>None</td>\n",
       "            <td>0</td>\n",
       "        </tr>\n",
       "        <tr>\n",
       "            <td>7</td>\n",
       "            <td>world_championship_silver</td>\n",
       "            <td>INTEGER</td>\n",
       "            <td>0</td>\n",
       "            <td>None</td>\n",
       "            <td>0</td>\n",
       "        </tr>\n",
       "        <tr>\n",
       "            <td>8</td>\n",
       "            <td>world_championship_bronze</td>\n",
       "            <td>INTEGER</td>\n",
       "            <td>0</td>\n",
       "            <td>None</td>\n",
       "            <td>0</td>\n",
       "        </tr>\n",
       "        <tr>\n",
       "            <td>9</td>\n",
       "            <td>total_medals</td>\n",
       "            <td>INTEGER</td>\n",
       "            <td>0</td>\n",
       "            <td>None</td>\n",
       "            <td>0</td>\n",
       "        </tr>\n",
       "    </tbody>\n",
       "</table>"
      ],
      "text/plain": [
       "[(0, 'name', 'TEXT', 0, None, 0),\n",
       " (1, 'nationality', 'TEXT', 0, None, 0),\n",
       " (2, 'specialty', 'TEXT', 0, None, 0),\n",
       " (3, 'olympic_gold', 'INTEGER', 0, None, 0),\n",
       " (4, 'olympic_silver', 'INTEGER', 0, None, 0),\n",
       " (5, 'olympic_bronze', 'INTEGER', 0, None, 0),\n",
       " (6, 'world_championship_gold', 'INTEGER', 0, None, 0),\n",
       " (7, 'world_championship_silver', 'INTEGER', 0, None, 0),\n",
       " (8, 'world_championship_bronze', 'INTEGER', 0, None, 0),\n",
       " (9, 'total_medals', 'INTEGER', 0, None, 0)]"
      ]
     },
     "execution_count": 7,
     "metadata": {},
     "output_type": "execute_result"
    }
   ],
   "source": [
    "%%sql\n",
    "PRAGMA table_info(swimmers);"
   ]
  },
  {
   "cell_type": "code",
   "execution_count": 8,
   "id": "e75bc062",
   "metadata": {
    "colab": {
     "base_uri": "https://localhost:8080/",
     "height": 94
    },
    "executionInfo": {
     "elapsed": 33,
     "status": "ok",
     "timestamp": 1752931653701,
     "user": {
      "displayName": "Benjamin Bennett Alexander",
      "userId": "14614847693800833280"
     },
     "user_tz": -180
    },
    "id": "e75bc062",
    "outputId": "86d6e142-1cc4-41ad-8e60-2c178f893f53"
   },
   "outputs": [
    {
     "name": "stdout",
     "output_type": "stream",
     "text": [
      " * sqlite:///swimmers_data.db\n",
      "Done.\n"
     ]
    },
    {
     "data": {
      "text/html": [
       "<table>\n",
       "    <thead>\n",
       "        <tr>\n",
       "            <th>row_count</th>\n",
       "        </tr>\n",
       "    </thead>\n",
       "    <tbody>\n",
       "        <tr>\n",
       "            <td>28</td>\n",
       "        </tr>\n",
       "    </tbody>\n",
       "</table>"
      ],
      "text/plain": [
       "[(28,)]"
      ]
     },
     "execution_count": 8,
     "metadata": {},
     "output_type": "execute_result"
    }
   ],
   "source": [
    "%%sql\n",
    "SELECT COUNT(*) AS row_count\n",
    "FROM swimmers;"
   ]
  },
  {
   "cell_type": "markdown",
   "id": "4bfada2f",
   "metadata": {
    "id": "4bfada2f"
   },
   "source": [
    "## Question 2: **Answer**"
   ]
  },
  {
   "cell_type": "code",
   "execution_count": 9,
   "id": "4H1jekFcTEju",
   "metadata": {
    "colab": {
     "base_uri": "https://localhost:8080/",
     "height": 94
    },
    "executionInfo": {
     "elapsed": 64,
     "status": "ok",
     "timestamp": 1752931653769,
     "user": {
      "displayName": "Benjamin Bennett Alexander",
      "userId": "14614847693800833280"
     },
     "user_tz": -180
    },
    "id": "4H1jekFcTEju",
    "outputId": "aa6969d1-409e-41dd-fa2a-54781b292dba"
   },
   "outputs": [
    {
     "name": "stdout",
     "output_type": "stream",
     "text": [
      " * sqlite:///swimmers_data.db\n",
      "Done.\n"
     ]
    },
    {
     "data": {
      "text/html": [
       "<table>\n",
       "    <thead>\n",
       "        <tr>\n",
       "            <th>name</th>\n",
       "            <th>nationality</th>\n",
       "            <th>olympic_gold</th>\n",
       "            <th>total_medals</th>\n",
       "        </tr>\n",
       "    </thead>\n",
       "    <tbody>\n",
       "        <tr>\n",
       "            <td>Svetlana Romashina</td>\n",
       "            <td>RUS</td>\n",
       "            <td>6</td>\n",
       "            <td>15</td>\n",
       "        </tr>\n",
       "    </tbody>\n",
       "</table>"
      ],
      "text/plain": [
       "[('Svetlana Romashina', 'RUS', 6, 15)]"
      ]
     },
     "execution_count": 9,
     "metadata": {},
     "output_type": "execute_result"
    }
   ],
   "source": [
    "%%sql\n",
    "-- Retrieve Russian swimmers with at least 5 olympic medals\n",
    "WITH russian_top_swimmers AS (\n",
    "    SELECT\n",
    "        name,\n",
    "        nationality,\n",
    "        olympic_gold,\n",
    "        total_medals\n",
    "    FROM swimmers\n",
    "    WHERE nationality = 'RUS'\n",
    "          AND olympic_gold >= 5\n",
    "),\n",
    "-- CTE to get swimmer with highest medal count\n",
    "top_swimmer AS (\n",
    "    SELECT\n",
    "        name,\n",
    "        nationality,\n",
    "        MAX(total_medals) AS highest_total_medals\n",
    "    FROM russian_top_swimmers\n",
    ")\n",
    "-- Main query to return four columns\n",
    "SELECT\n",
    "    rs.name,\n",
    "    rs.nationality,\n",
    "    rs.olympic_gold,\n",
    "    rs.total_medals\n",
    "FROM russian_top_swimmers rs\n",
    "INNER JOIN top_swimmer tp\n",
    "ON rs.total_medals = tp.highest_total_medals;"
   ]
  },
  {
   "cell_type": "markdown",
   "id": "8191519c",
   "metadata": {
    "id": "8191519c"
   },
   "source": [
    "## Question 3: **Answer**"
   ]
  },
  {
   "cell_type": "code",
   "execution_count": 10,
   "id": "GfQx3AGJavlr",
   "metadata": {
    "colab": {
     "base_uri": "https://localhost:8080/",
     "height": 136
    },
    "executionInfo": {
     "elapsed": 24,
     "status": "ok",
     "timestamp": 1752931653796,
     "user": {
      "displayName": "Benjamin Bennett Alexander",
      "userId": "14614847693800833280"
     },
     "user_tz": -180
    },
    "id": "GfQx3AGJavlr",
    "outputId": "c78780ad-0530-4f9c-e282-eaf4e9773560"
   },
   "outputs": [
    {
     "name": "stdout",
     "output_type": "stream",
     "text": [
      " * sqlite:///swimmers_data.db\n",
      "Done.\n"
     ]
    },
    {
     "data": {
      "text/html": [
       "<table>\n",
       "    <thead>\n",
       "        <tr>\n",
       "            <th>nationality</th>\n",
       "            <th>olympic_gold</th>\n",
       "            <th>world_championship_gold</th>\n",
       "            <th>combined_total_gold</th>\n",
       "            <th>rank</th>\n",
       "        </tr>\n",
       "    </thead>\n",
       "    <tbody>\n",
       "        <tr>\n",
       "            <td>USA</td>\n",
       "            <td>63</td>\n",
       "            <td>89</td>\n",
       "            <td>152</td>\n",
       "            <td>1</td>\n",
       "        </tr>\n",
       "        <tr>\n",
       "            <td>RUS</td>\n",
       "            <td>25</td>\n",
       "            <td>38</td>\n",
       "            <td>63</td>\n",
       "            <td>2</td>\n",
       "        </tr>\n",
       "        <tr>\n",
       "            <td>GDR</td>\n",
       "            <td>13</td>\n",
       "            <td>14</td>\n",
       "            <td>27</td>\n",
       "            <td>3</td>\n",
       "        </tr>\n",
       "    </tbody>\n",
       "</table>"
      ],
      "text/plain": [
       "[('USA', 63, 89, 152, 1), ('RUS', 25, 38, 63, 2), ('GDR', 13, 14, 27, 3)]"
      ]
     },
     "execution_count": 10,
     "metadata": {},
     "output_type": "execute_result"
    }
   ],
   "source": [
    "%%sql\n",
    "-- Calculate medals and create rank based total\n",
    "WITH medals_per_nation AS (\n",
    "    SELECT\n",
    "        nationality,\n",
    "        SUM(olympic_gold) AS total_olympic_gold,\n",
    "        SUM(world_championship_gold) AS total_world_championship_gold,\n",
    "        SUM(olympic_gold + world_championship_gold) AS combined_total_gold,\n",
    "        ROW_NUMBER() OVER (ORDER BY SUM(olympic_gold + world_championship_gold) DESC)\n",
    "        AS rank\n",
    "    FROM swimmers\n",
    "    GROUP BY nationality\n",
    ")\n",
    "-- Main query to return the results\n",
    "SELECT\n",
    "    nationality,\n",
    "    total_olympic_gold AS olympic_gold,\n",
    "    total_world_championship_gold AS world_championship_gold,\n",
    "    combined_total_gold,\n",
    "    rank\n",
    "FROM medals_per_nation\n",
    "WHERE rank <= 3\n",
    "ORDER BY rank;"
   ]
  },
  {
   "cell_type": "markdown",
   "id": "baccf096",
   "metadata": {
    "id": "baccf096"
   },
   "source": [
    "## Question 4: **Answer**"
   ]
  },
  {
   "cell_type": "code",
   "execution_count": 11,
   "id": "uJ9v9rzmrI_H",
   "metadata": {
    "colab": {
     "base_uri": "https://localhost:8080/",
     "height": 94
    },
    "executionInfo": {
     "elapsed": 32,
     "status": "ok",
     "timestamp": 1752931653826,
     "user": {
      "displayName": "Benjamin Bennett Alexander",
      "userId": "14614847693800833280"
     },
     "user_tz": -180
    },
    "id": "uJ9v9rzmrI_H",
    "outputId": "6ab3fc36-c634-4cdb-ed3b-435565395e88"
   },
   "outputs": [
    {
     "name": "stdout",
     "output_type": "stream",
     "text": [
      " * sqlite:///swimmers_data.db\n",
      "Done.\n"
     ]
    },
    {
     "data": {
      "text/html": [
       "<table>\n",
       "    <thead>\n",
       "        <tr>\n",
       "            <th>category</th>\n",
       "            <th>total_medals</th>\n",
       "        </tr>\n",
       "    </thead>\n",
       "    <tbody>\n",
       "        <tr>\n",
       "            <td>World Championship Gold</td>\n",
       "            <td>&nbsp;&nbsp;&nbsp;&nbsp;&nbsp;&nbsp;&nbsp;&nbsp;&nbsp;&nbsp;&nbsp;&nbsp;&nbsp;&nbsp;&nbsp;&nbsp;&nbsp;&nbsp;26</td>\n",
       "        </tr>\n",
       "    </tbody>\n",
       "</table>"
      ],
      "text/plain": [
       "[('World Championship Gold', '                  26')]"
      ]
     },
     "execution_count": 11,
     "metadata": {},
     "output_type": "execute_result"
    }
   ],
   "source": [
    "%%sql\n",
    "-- Creating rows for categories\n",
    "WITH categories(category) AS (\n",
    "  SELECT 'Olympic Gold'\n",
    "  UNION ALL\n",
    "  SELECT 'Olympic Silver'\n",
    "  UNION ALL\n",
    "  SELECT 'Olympic Bronze'\n",
    "  UNION ALL\n",
    "  SELECT 'World Championship Gold'\n",
    "  UNION ALL\n",
    "  SELECT 'World Championship Silver'\n",
    "  UNION ALL\n",
    "  SELECT 'World Championship Bronze'\n",
    "),\n",
    "-- Adding values to rows from swimmers table\n",
    "micheal_phelps_medals AS (\n",
    "  SELECT\n",
    "    c.category,\n",
    "    CASE c.category\n",
    "      WHEN 'Olympic Gold' THEN olympic_gold\n",
    "      WHEN 'Olympic Silver' THEN olympic_silver\n",
    "      WHEN 'Olympic Bronze' THEN olympic_bronze\n",
    "      WHEN 'World Championship Gold' THEN world_championship_gold\n",
    "      WHEN 'World Championship Silver' THEN world_championship_silver\n",
    "      WHEN 'World Championship Bronze' THEN world_championship_bronze\n",
    "    END AS total_medals\n",
    "  FROM swimmers\n",
    "  CROSS JOIN categories c\n",
    "  WHERE name = 'Michael Phelps'\n",
    ")\n",
    "-- Get the category with the maximum medals\n",
    "SELECT\n",
    "    category,\n",
    "    printf('%20s',total_medals) AS total_medals\n",
    "FROM micheal_phelps_medals\n",
    "WHERE total_medals = (SELECT MAX(total_medals) FROM micheal_phelps_medals);"
   ]
  },
  {
   "cell_type": "markdown",
   "id": "3EcqKgTHH3TA",
   "metadata": {
    "id": "3EcqKgTHH3TA"
   },
   "source": [
    "##  Question 5: **Answer**"
   ]
  },
  {
   "cell_type": "code",
   "execution_count": 12,
   "id": "k9jIkKsI5bZf",
   "metadata": {
    "colab": {
     "base_uri": "https://localhost:8080/",
     "height": 94
    },
    "executionInfo": {
     "elapsed": 19,
     "status": "ok",
     "timestamp": 1752931653883,
     "user": {
      "displayName": "Benjamin Bennett Alexander",
      "userId": "14614847693800833280"
     },
     "user_tz": -180
    },
    "id": "k9jIkKsI5bZf",
    "outputId": "3254bd0a-34ac-4cf5-e0c3-c98d0d8268e9"
   },
   "outputs": [
    {
     "name": "stdout",
     "output_type": "stream",
     "text": [
      " * sqlite:///swimmers_data.db\n",
      "Done.\n"
     ]
    },
    {
     "data": {
      "text/html": [
       "<table>\n",
       "    <thead>\n",
       "        <tr>\n",
       "            <th>top_athlete_medals_aus</th>\n",
       "            <th>top_athlete_medals_usa</th>\n",
       "            <th>percentage_us_to_aus</th>\n",
       "        </tr>\n",
       "    </thead>\n",
       "    <tbody>\n",
       "        <tr>\n",
       "            <td>20.0</td>\n",
       "            <td>63.0</td>\n",
       "            <td>315.0</td>\n",
       "        </tr>\n",
       "    </tbody>\n",
       "</table>"
      ],
      "text/plain": [
       "[(20.0, 63.0, 315.0)]"
      ]
     },
     "execution_count": 12,
     "metadata": {},
     "output_type": "execute_result"
    }
   ],
   "source": [
    "%%sql\n",
    "SELECT\n",
    "    aus_medals AS top_athlete_medals_aus,\n",
    "    usa_medals AS top_athlete_medals_usa,\n",
    "    (usa_medals * 100.0 / NULLIF(aus_medals, 0))\n",
    "    AS percentage_us_to_aus\n",
    "FROM (\n",
    "    -- Subquery for Australia's top swimmer\n",
    "    SELECT\n",
    "        CAST(MAX(total_medals) AS REAL) AS aus_medals\n",
    "    FROM swimmers\n",
    "    WHERE nationality = 'AUS'\n",
    "), (\n",
    "    -- Subquery for USA's top swimmer\n",
    "    SELECT\n",
    "        CAST(MAX(total_medals) AS REAL) AS usa_medals\n",
    "    FROM swimmers\n",
    "    WHERE nationality = 'USA'\n",
    ");"
   ]
  },
  {
   "cell_type": "markdown",
   "id": "bae1c31e",
   "metadata": {
    "id": "bae1c31e"
   },
   "source": [
    "## Question 6: **Answer**"
   ]
  },
  {
   "cell_type": "code",
   "execution_count": 13,
   "id": "eea70892",
   "metadata": {
    "colab": {
     "base_uri": "https://localhost:8080/",
     "height": 94
    },
    "executionInfo": {
     "elapsed": 39,
     "status": "ok",
     "timestamp": 1752931653926,
     "user": {
      "displayName": "Benjamin Bennett Alexander",
      "userId": "14614847693800833280"
     },
     "user_tz": -180
    },
    "id": "eea70892",
    "outputId": "0d2c987c-619c-4b0f-b277-9606f5e5e7de"
   },
   "outputs": [
    {
     "name": "stdout",
     "output_type": "stream",
     "text": [
      " * sqlite:///swimmers_data.db\n",
      "Done.\n"
     ]
    },
    {
     "data": {
      "text/html": [
       "<table>\n",
       "    <thead>\n",
       "        <tr>\n",
       "            <th>Indian_swimmers</th>\n",
       "        </tr>\n",
       "    </thead>\n",
       "    <tbody>\n",
       "        <tr>\n",
       "            <td>India is not in the table</td>\n",
       "        </tr>\n",
       "    </tbody>\n",
       "</table>"
      ],
      "text/plain": [
       "[('India is not in the table',)]"
      ]
     },
     "execution_count": 13,
     "metadata": {},
     "output_type": "execute_result"
    }
   ],
   "source": [
    "%%sql\n",
    "SELECT\n",
    "    CASE\n",
    "        WHEN EXISTS(SELECT 1 FROM swimmers WHERE nationality = \"IND\")THEN\n",
    "        'India is in the table'\n",
    "        ELSE 'India is not in the table'\n",
    "    END AS Indian_swimmers;"
   ]
  },
  {
   "cell_type": "code",
   "execution_count": 14,
   "id": "skJ00YWMHO1U",
   "metadata": {
    "colab": {
     "base_uri": "https://localhost:8080/",
     "height": 94
    },
    "executionInfo": {
     "elapsed": 25,
     "status": "ok",
     "timestamp": 1752931653932,
     "user": {
      "displayName": "Benjamin Bennett Alexander",
      "userId": "14614847693800833280"
     },
     "user_tz": -180
    },
    "id": "skJ00YWMHO1U",
    "outputId": "83989595-411f-4b5f-b349-52f6ce93b2ad"
   },
   "outputs": [
    {
     "name": "stdout",
     "output_type": "stream",
     "text": [
      " * sqlite:///swimmers_data.db\n",
      "Done.\n"
     ]
    },
    {
     "data": {
      "text/html": [
       "<table>\n",
       "    <thead>\n",
       "        <tr>\n",
       "            <th>Indian_swimmers</th>\n",
       "        </tr>\n",
       "    </thead>\n",
       "    <tbody>\n",
       "        <tr>\n",
       "            <td>India is not in the table</td>\n",
       "        </tr>\n",
       "    </tbody>\n",
       "</table>"
      ],
      "text/plain": [
       "[('India is not in the table',)]"
      ]
     },
     "execution_count": 14,
     "metadata": {},
     "output_type": "execute_result"
    }
   ],
   "source": [
    "%%sql\n",
    "SELECT\n",
    "    CASE\n",
    "        WHEN 'IND' IN (SELECT nationality FROM swimmers) THEN\n",
    "        'India is in the table'\n",
    "        ELSE 'India is not in the table'\n",
    "    END AS Indian_swimmers;"
   ]
  },
  {
   "cell_type": "markdown",
   "id": "4kt4wyL7xA0H",
   "metadata": {
    "id": "4kt4wyL7xA0H"
   },
   "source": [
    "##  Question 7: **Answer**"
   ]
  },
  {
   "cell_type": "code",
   "execution_count": 15,
   "id": "oAk0wU0eikmM",
   "metadata": {
    "colab": {
     "base_uri": "https://localhost:8080/",
     "height": 322
    },
    "executionInfo": {
     "elapsed": 25,
     "status": "ok",
     "timestamp": 1752931653958,
     "user": {
      "displayName": "Benjamin Bennett Alexander",
      "userId": "14614847693800833280"
     },
     "user_tz": -180
    },
    "id": "oAk0wU0eikmM",
    "outputId": "de7e01f7-0d1d-4763-925d-ca94eee6b0de"
   },
   "outputs": [
    {
     "name": "stdout",
     "output_type": "stream",
     "text": [
      " * sqlite:///swimmers_data.db\n",
      "Done.\n"
     ]
    },
    {
     "data": {
      "text/html": [
       "<table>\n",
       "    <thead>\n",
       "        <tr>\n",
       "            <th>name</th>\n",
       "            <th>nationality</th>\n",
       "            <th>olympic_gold</th>\n",
       "        </tr>\n",
       "    </thead>\n",
       "    <tbody>\n",
       "        <tr>\n",
       "            <td>Michael Phelps</td>\n",
       "            <td>USA</td>\n",
       "            <td>23</td>\n",
       "        </tr>\n",
       "        <tr>\n",
       "            <td>Kornelia Ender</td>\n",
       "            <td>GDR</td>\n",
       "            <td>7</td>\n",
       "        </tr>\n",
       "        <tr>\n",
       "            <td>Svetlana Romashina</td>\n",
       "            <td>RUS</td>\n",
       "            <td>6</td>\n",
       "        </tr>\n",
       "        <tr>\n",
       "            <td>Ian Thorpe</td>\n",
       "            <td>AUS</td>\n",
       "            <td>5</td>\n",
       "        </tr>\n",
       "        <tr>\n",
       "            <td>Wu Minxia</td>\n",
       "            <td>CHN</td>\n",
       "            <td>5</td>\n",
       "        </tr>\n",
       "        <tr>\n",
       "            <td>Gunnar Nielsen Aaby</td>\n",
       "            <td>DEN</td>\n",
       "            <td>5</td>\n",
       "        </tr>\n",
       "        <tr>\n",
       "            <td>Anita Lates</td>\n",
       "            <td>ITA</td>\n",
       "            <td>5</td>\n",
       "        </tr>\n",
       "        <tr>\n",
       "            <td>Kosuke Kitajima</td>\n",
       "            <td>JPN</td>\n",
       "            <td>4</td>\n",
       "        </tr>\n",
       "        <tr>\n",
       "            <td>Vladimir Salnikov</td>\n",
       "            <td>URS</td>\n",
       "            <td>4</td>\n",
       "        </tr>\n",
       "        <tr>\n",
       "            <td>Katinka Hosszu</td>\n",
       "            <td>HUN</td>\n",
       "            <td>3</td>\n",
       "        </tr>\n",
       "        <tr>\n",
       "            <td>Pieter van den Hoogenband</td>\n",
       "            <td>NED</td>\n",
       "            <td>2</td>\n",
       "        </tr>\n",
       "        <tr>\n",
       "            <td>Aurélien Panis</td>\n",
       "            <td>FRA</td>\n",
       "            <td>1</td>\n",
       "        </tr>\n",
       "    </tbody>\n",
       "</table>"
      ],
      "text/plain": [
       "[('Michael Phelps', 'USA', 23),\n",
       " ('Kornelia Ender', 'GDR', 7),\n",
       " ('Svetlana Romashina', 'RUS', 6),\n",
       " ('Ian Thorpe', 'AUS', 5),\n",
       " ('Wu Minxia', 'CHN', 5),\n",
       " ('Gunnar Nielsen Aaby', 'DEN', 5),\n",
       " ('Anita Lates', 'ITA', 5),\n",
       " ('Kosuke Kitajima', 'JPN', 4),\n",
       " ('Vladimir Salnikov', 'URS', 4),\n",
       " ('Katinka Hosszu', 'HUN', 3),\n",
       " ('Pieter van den Hoogenband', 'NED', 2),\n",
       " ('Aurélien Panis', 'FRA', 1)]"
      ]
     },
     "execution_count": 15,
     "metadata": {},
     "output_type": "execute_result"
    }
   ],
   "source": [
    "%%sql\n",
    "-- Rank swimmers within each country based on Olympic gold medals\n",
    "WITH ranked_swimmers AS (\n",
    "    SELECT\n",
    "        name,\n",
    "        nationality,\n",
    "        olympic_gold,\n",
    "        RANK() OVER (PARTITION BY nationality ORDER BY olympic_gold DESC)\n",
    "        AS rank\n",
    "    FROM swimmers\n",
    ")\n",
    "-- Retrieve the top-ranked swimmer(s) from each country\n",
    "SELECT\n",
    "    name,\n",
    "    nationality,\n",
    "    olympic_gold\n",
    "FROM ranked_swimmers\n",
    "WHERE rank = 1\n",
    "ORDER BY olympic_gold DESC;"
   ]
  },
  {
   "cell_type": "code",
   "execution_count": 16,
   "id": "O76yuazxYw-U",
   "metadata": {
    "executionInfo": {
     "elapsed": 24,
     "status": "ok",
     "timestamp": 1752931653986,
     "user": {
      "displayName": "Benjamin Bennett Alexander",
      "userId": "14614847693800833280"
     },
     "user_tz": -180
    },
    "id": "O76yuazxYw-U"
   },
   "outputs": [],
   "source": [
    "# %%sql\n",
    "# DROP TABLE swimmers;"
   ]
  }
 ],
 "metadata": {
  "colab": {
   "provenance": []
  },
  "kernelspec": {
   "display_name": "Python 3 (ipykernel)",
   "language": "python",
   "name": "python3"
  },
  "language_info": {
   "codemirror_mode": {
    "name": "ipython",
    "version": 3
   },
   "file_extension": ".py",
   "mimetype": "text/x-python",
   "name": "python",
   "nbconvert_exporter": "python",
   "pygments_lexer": "ipython3",
   "version": "3.10.5"
  }
 },
 "nbformat": 4,
 "nbformat_minor": 5
}

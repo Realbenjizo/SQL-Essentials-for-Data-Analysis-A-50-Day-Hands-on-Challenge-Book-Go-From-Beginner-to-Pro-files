{
 "cells": [
  {
   "cell_type": "markdown",
   "metadata": {
    "id": "TKoQZBmsHa_z"
   },
   "source": [
    "## Question 1: **Answer**"
   ]
  },
  {
   "cell_type": "code",
   "execution_count": 1,
   "metadata": {
    "executionInfo": {
     "elapsed": 29,
     "status": "ok",
     "timestamp": 1751986405576,
     "user": {
      "displayName": "Benjamin Bennett Alexander",
      "userId": "14614847693800833280"
     },
     "user_tz": -180
    },
    "id": "qEQ4ZhANVMkF"
   },
   "outputs": [],
   "source": [
    "import sqlite3"
   ]
  },
  {
   "cell_type": "code",
   "execution_count": null,
   "metadata": {
    "colab": {
     "base_uri": "https://localhost:8080/"
    },
    "executionInfo": {
     "elapsed": 67,
     "status": "ok",
     "timestamp": 1751986405642,
     "user": {
      "displayName": "Benjamin Bennett Alexander",
      "userId": "14614847693800833280"
     },
     "user_tz": -180
    },
    "id": "botdPrFMVN_h",
    "outputId": "5ece517b-677d-4445-86b9-a055c7c11b16"
   },
   "outputs": [
    {
     "name": "stdout",
     "output_type": "stream",
     "text": [
      "Table created successfully.\n"
     ]
    }
   ],
   "source": [
    "def add_data_to_database():\n",
    "    try:\n",
    "        # Connect to the SQLite database\n",
    "        with sqlite3.connect('revenue_costs.db') as conn:\n",
    "            cursor = conn.cursor()\n",
    "\n",
    "           # Create the table\n",
    "            cursor.execute('''\n",
    "            CREATE TABLE IF NOT EXISTS sales (\n",
    "                id INTEGER PRIMARY KEY,\n",
    "                age INTEGER,\n",
    "                total_sales REAL,\n",
    "                total_costs REAL\n",
    "            )\n",
    "            ''' )\n",
    "            # Insert data into the table\n",
    "            cursor.executemany('''\n",
    "            INSERT INTO sales (id, age, total_sales, total_costs) VALUES (?, ?, ?, ?)\n",
    "            ''', [\n",
    "                (1, 25, 2500.4567,\t1500.1234),\n",
    "                (2, 30, 3000.0000,\t2000.0000),\n",
    "                (3, 35, 2800.1234,\t1800.5678),\n",
    "                (4, 40, 3500.9876,\t2200.4321),\n",
    "                (5, 25, 2700.5000,\t1700.3000)\n",
    "                ]\n",
    "                )\n",
    "            conn.commit()\n",
    "            print(\"Table created successfully.\")\n",
    "    except Exception as e:\n",
    "        print(f\"Error: {e}\")\n",
    "\n",
    "# Calling the function\n",
    "add_data_to_database()"
   ]
  },
  {
   "cell_type": "code",
   "execution_count": 3,
   "metadata": {
    "executionInfo": {
     "elapsed": 1358,
     "status": "ok",
     "timestamp": 1751986406996,
     "user": {
      "displayName": "Benjamin Bennett Alexander",
      "userId": "14614847693800833280"
     },
     "user_tz": -180
    },
    "id": "0XMKeK7HYOfH"
   },
   "outputs": [],
   "source": [
    "# Loading SQL extension\n",
    "%load_ext sql"
   ]
  },
  {
   "cell_type": "code",
   "execution_count": 4,
   "metadata": {
    "executionInfo": {
     "elapsed": 37,
     "status": "ok",
     "timestamp": 1751986407048,
     "user": {
      "displayName": "Benjamin Bennett Alexander",
      "userId": "14614847693800833280"
     },
     "user_tz": -180
    },
    "id": "ZAS4TlV7YQOF"
   },
   "outputs": [],
   "source": [
    "%sql sqlite:///revenue_costs.db"
   ]
  },
  {
   "cell_type": "code",
   "execution_count": 5,
   "metadata": {
    "executionInfo": {
     "elapsed": 60,
     "status": "ok",
     "timestamp": 1751986407128,
     "user": {
      "displayName": "Benjamin Bennett Alexander",
      "userId": "14614847693800833280"
     },
     "user_tz": -180
    },
    "id": "yLRlauHCYYdl"
   },
   "outputs": [],
   "source": [
    "%config SqlMagic.style = '_DEPRECATED_DEFAULT'"
   ]
  },
  {
   "cell_type": "markdown",
   "metadata": {
    "id": "2fr-T_AocW-Q"
   },
   "source": [
    "## Question 2: **Answer**"
   ]
  },
  {
   "cell_type": "code",
   "execution_count": 6,
   "metadata": {
    "colab": {
     "base_uri": "https://localhost:8080/",
     "height": 94
    },
    "executionInfo": {
     "elapsed": 27,
     "status": "ok",
     "timestamp": 1751986407158,
     "user": {
      "displayName": "Benjamin Bennett Alexander",
      "userId": "14614847693800833280"
     },
     "user_tz": -180
    },
    "id": "KZxrX8CgavgV",
    "outputId": "bdeafd6b-6034-47d1-d9d6-8e707845a938"
   },
   "outputs": [
    {
     "name": "stdout",
     "output_type": "stream",
     "text": [
      " * sqlite:///revenue_costs.db\n",
      "Done.\n"
     ]
    },
    {
     "data": {
      "text/html": [
       "<table>\n",
       "    <thead>\n",
       "        <tr>\n",
       "            <th>mean_age</th>\n",
       "            <th>min_age</th>\n",
       "            <th>max_age</th>\n",
       "        </tr>\n",
       "    </thead>\n",
       "    <tbody>\n",
       "        <tr>\n",
       "            <td>31.0</td>\n",
       "            <td>25</td>\n",
       "            <td>40</td>\n",
       "        </tr>\n",
       "    </tbody>\n",
       "</table>"
      ],
      "text/plain": [
       "[(31.0, 25, 40)]"
      ]
     },
     "execution_count": 6,
     "metadata": {},
     "output_type": "execute_result"
    }
   ],
   "source": [
    "%%sql\n",
    "SELECT\n",
    "    AVG(age) AS mean_age,\n",
    "    MIN(age) AS min_age,\n",
    "    MAX(age) AS max_age\n",
    "FROM sales;"
   ]
  },
  {
   "cell_type": "markdown",
   "metadata": {
    "id": "lwkOISricagO"
   },
   "source": [
    "## Question 2: **Answer**"
   ]
  },
  {
   "cell_type": "code",
   "execution_count": 7,
   "metadata": {
    "colab": {
     "base_uri": "https://localhost:8080/",
     "height": 177
    },
    "executionInfo": {
     "elapsed": 39,
     "status": "ok",
     "timestamp": 1751986407201,
     "user": {
      "displayName": "Benjamin Bennett Alexander",
      "userId": "14614847693800833280"
     },
     "user_tz": -180
    },
    "id": "QqikvfvgceMV",
    "outputId": "547e4cd1-dc7c-4232-c92f-9a103201a5bc"
   },
   "outputs": [
    {
     "name": "stdout",
     "output_type": "stream",
     "text": [
      " * sqlite:///revenue_costs.db\n",
      "Done.\n"
     ]
    },
    {
     "data": {
      "text/html": [
       "<table>\n",
       "    <thead>\n",
       "        <tr>\n",
       "            <th>rounded_sales</th>\n",
       "        </tr>\n",
       "    </thead>\n",
       "    <tbody>\n",
       "        <tr>\n",
       "            <td>2500.46</td>\n",
       "        </tr>\n",
       "        <tr>\n",
       "            <td>3000.0</td>\n",
       "        </tr>\n",
       "        <tr>\n",
       "            <td>2800.12</td>\n",
       "        </tr>\n",
       "        <tr>\n",
       "            <td>3500.99</td>\n",
       "        </tr>\n",
       "        <tr>\n",
       "            <td>2700.5</td>\n",
       "        </tr>\n",
       "    </tbody>\n",
       "</table>"
      ],
      "text/plain": [
       "[(2500.46,), (3000.0,), (2800.12,), (3500.99,), (2700.5,)]"
      ]
     },
     "execution_count": 7,
     "metadata": {},
     "output_type": "execute_result"
    }
   ],
   "source": [
    "%%sql\n",
    "SELECT ROUND(total_sales, 2) AS rounded_sales\n",
    "FROM sales;"
   ]
  },
  {
   "cell_type": "markdown",
   "metadata": {
    "id": "MCGtWZCKdKbn"
   },
   "source": [
    "## Question 3: **Answer**"
   ]
  },
  {
   "cell_type": "code",
   "execution_count": 8,
   "metadata": {
    "colab": {
     "base_uri": "https://localhost:8080/",
     "height": 177
    },
    "executionInfo": {
     "elapsed": 21,
     "status": "ok",
     "timestamp": 1751986407241,
     "user": {
      "displayName": "Benjamin Bennett Alexander",
      "userId": "14614847693800833280"
     },
     "user_tz": -180
    },
    "id": "AcBC37qndWe9",
    "outputId": "19dd8497-b515-4120-af2c-eeaa41aabcbb"
   },
   "outputs": [
    {
     "name": "stdout",
     "output_type": "stream",
     "text": [
      " * sqlite:///revenue_costs.db\n",
      "Done.\n"
     ]
    },
    {
     "data": {
      "text/html": [
       "<table>\n",
       "    <thead>\n",
       "        <tr>\n",
       "            <th>total_sales</th>\n",
       "            <th>total_costs</th>\n",
       "            <th>costs_to_sales_percentage</th>\n",
       "        </tr>\n",
       "    </thead>\n",
       "    <tbody>\n",
       "        <tr>\n",
       "            <td>3000.0</td>\n",
       "            <td>2000.0</td>\n",
       "            <td>66.7</td>\n",
       "        </tr>\n",
       "        <tr>\n",
       "            <td>2800.1</td>\n",
       "            <td>1800.6</td>\n",
       "            <td>64.3</td>\n",
       "        </tr>\n",
       "        <tr>\n",
       "            <td>2700.5</td>\n",
       "            <td>1700.3</td>\n",
       "            <td>63.0</td>\n",
       "        </tr>\n",
       "        <tr>\n",
       "            <td>3501.0</td>\n",
       "            <td>2200.4</td>\n",
       "            <td>62.9</td>\n",
       "        </tr>\n",
       "        <tr>\n",
       "            <td>2500.5</td>\n",
       "            <td>1500.1</td>\n",
       "            <td>60.0</td>\n",
       "        </tr>\n",
       "    </tbody>\n",
       "</table>"
      ],
      "text/plain": [
       "[(3000.0, 2000.0, 66.7),\n",
       " (2800.1, 1800.6, 64.3),\n",
       " (2700.5, 1700.3, 63.0),\n",
       " (3501.0, 2200.4, 62.9),\n",
       " (2500.5, 1500.1, 60.0)]"
      ]
     },
     "execution_count": 8,
     "metadata": {},
     "output_type": "execute_result"
    }
   ],
   "source": [
    "%%sql\n",
    "SELECT\n",
    "    ROUND(total_sales, 1) AS total_sales,\n",
    "    ROUND(total_costs, 1) AS total_costs,\n",
    "    ROUND((total_costs / total_sales) * 100,  1)\n",
    "    AS costs_to_sales_percentage\n",
    "FROM sales\n",
    "ORDER BY costs_to_sales_percentage DESC;"
   ]
  },
  {
   "cell_type": "markdown",
   "metadata": {
    "id": "UjPDH_uAgFtG"
   },
   "source": [
    "## Question 4: **Answer**"
   ]
  },
  {
   "cell_type": "code",
   "execution_count": 9,
   "metadata": {
    "colab": {
     "base_uri": "https://localhost:8080/",
     "height": 177
    },
    "executionInfo": {
     "elapsed": 43,
     "status": "ok",
     "timestamp": 1751986407288,
     "user": {
      "displayName": "Benjamin Bennett Alexander",
      "userId": "14614847693800833280"
     },
     "user_tz": -180
    },
    "id": "ROWCR3-CgIDN",
    "outputId": "a2b21677-edaa-4167-8a24-997ccf48a507"
   },
   "outputs": [
    {
     "name": "stdout",
     "output_type": "stream",
     "text": [
      " * sqlite:///revenue_costs.db\n",
      "Done.\n"
     ]
    },
    {
     "data": {
      "text/html": [
       "<table>\n",
       "    <thead>\n",
       "        <tr>\n",
       "            <th>total_sales</th>\n",
       "            <th>total_costs</th>\n",
       "            <th>profit</th>\n",
       "        </tr>\n",
       "    </thead>\n",
       "    <tbody>\n",
       "        <tr>\n",
       "            <td>2500.5</td>\n",
       "            <td>1500.1</td>\n",
       "            <td>1000.3</td>\n",
       "        </tr>\n",
       "        <tr>\n",
       "            <td>3000.0</td>\n",
       "            <td>2000.0</td>\n",
       "            <td>1000.0</td>\n",
       "        </tr>\n",
       "        <tr>\n",
       "            <td>2800.1</td>\n",
       "            <td>1800.6</td>\n",
       "            <td>999.6</td>\n",
       "        </tr>\n",
       "        <tr>\n",
       "            <td>3501.0</td>\n",
       "            <td>2200.4</td>\n",
       "            <td>1300.6</td>\n",
       "        </tr>\n",
       "        <tr>\n",
       "            <td>2700.5</td>\n",
       "            <td>1700.3</td>\n",
       "            <td>1000.2</td>\n",
       "        </tr>\n",
       "    </tbody>\n",
       "</table>"
      ],
      "text/plain": [
       "[(2500.5, 1500.1, 1000.3),\n",
       " (3000.0, 2000.0, 1000.0),\n",
       " (2800.1, 1800.6, 999.6),\n",
       " (3501.0, 2200.4, 1300.6),\n",
       " (2700.5, 1700.3, 1000.2)]"
      ]
     },
     "execution_count": 9,
     "metadata": {},
     "output_type": "execute_result"
    }
   ],
   "source": [
    "%%sql\n",
    "SELECT\n",
    "  ROUND(total_sales, 1) AS total_sales,\n",
    "  ROUND(total_costs, 1) AS total_costs,\n",
    "  ROUND((total_sales - total_costs), 1) AS profit\n",
    "FROM sales;"
   ]
  },
  {
   "cell_type": "markdown",
   "metadata": {
    "id": "1fmlBpfoi8Yu"
   },
   "source": [
    "## Question 5: **Answer**"
   ]
  },
  {
   "cell_type": "code",
   "execution_count": 10,
   "metadata": {
    "colab": {
     "base_uri": "https://localhost:8080/",
     "height": 156
    },
    "executionInfo": {
     "elapsed": 59,
     "status": "ok",
     "timestamp": 1751986407351,
     "user": {
      "displayName": "Benjamin Bennett Alexander",
      "userId": "14614847693800833280"
     },
     "user_tz": -180
    },
    "id": "E2dr3rDqi_IV",
    "outputId": "1d9c9fdf-c995-433f-81a5-27c9271f435f"
   },
   "outputs": [
    {
     "name": "stdout",
     "output_type": "stream",
     "text": [
      " * sqlite:///revenue_costs.db\n",
      "Done.\n"
     ]
    },
    {
     "data": {
      "text/html": [
       "<table>\n",
       "    <thead>\n",
       "        <tr>\n",
       "            <th>age</th>\n",
       "            <th>total_sales</th>\n",
       "            <th>total_costs</th>\n",
       "        </tr>\n",
       "    </thead>\n",
       "    <tbody>\n",
       "        <tr>\n",
       "            <td>25</td>\n",
       "            <td>2500</td>\n",
       "            <td>1500</td>\n",
       "        </tr>\n",
       "        <tr>\n",
       "            <td>30</td>\n",
       "            <td>3000</td>\n",
       "            <td>2000</td>\n",
       "        </tr>\n",
       "        <tr>\n",
       "            <td>35</td>\n",
       "            <td>2800</td>\n",
       "            <td>1800</td>\n",
       "        </tr>\n",
       "        <tr>\n",
       "            <td>25</td>\n",
       "            <td>2700</td>\n",
       "            <td>1700</td>\n",
       "        </tr>\n",
       "    </tbody>\n",
       "</table>"
      ],
      "text/plain": [
       "[(25, 2500, 1500), (30, 3000, 2000), (35, 2800, 1800), (25, 2700, 1700)]"
      ]
     },
     "execution_count": 10,
     "metadata": {},
     "output_type": "execute_result"
    }
   ],
   "source": [
    "%%sql\n",
    "SELECT\n",
    "    age,\n",
    "    CAST(total_sales AS INTEGER) AS total_sales,\n",
    "    CAST(total_costs AS INTEGER) AS total_costs\n",
    "FROM sales\n",
    "WHERE total_sales <= 3000 AND total_costs <= 2000;"
   ]
  }
 ],
 "metadata": {
  "colab": {
   "authorship_tag": "ABX9TyPzG1HQahVog1JyWJiBCmlD",
   "provenance": []
  },
  "kernelspec": {
   "display_name": "Python 3",
   "name": "python3"
  },
  "language_info": {
   "name": "python"
  }
 },
 "nbformat": 4,
 "nbformat_minor": 0
}

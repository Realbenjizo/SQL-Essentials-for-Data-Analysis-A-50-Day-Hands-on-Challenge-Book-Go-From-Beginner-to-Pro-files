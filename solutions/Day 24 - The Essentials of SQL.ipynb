{
 "cells": [
  {
   "cell_type": "markdown",
   "id": "6YhXQQWd0u1v",
   "metadata": {
    "id": "6YhXQQWd0u1v"
   },
   "source": [
    "## Question 1: **Answer**"
   ]
  },
  {
   "cell_type": "code",
   "execution_count": 1,
   "id": "9a29aa97",
   "metadata": {
    "executionInfo": {
     "elapsed": 817,
     "status": "ok",
     "timestamp": 1752918035465,
     "user": {
      "displayName": "Benjamin Bennett Alexander",
      "userId": "14614847693800833280"
     },
     "user_tz": -180
    },
    "id": "9a29aa97"
   },
   "outputs": [],
   "source": [
    "import pandas as pd\n",
    "import sqlite3"
   ]
  },
  {
   "cell_type": "code",
   "execution_count": null,
   "id": "d812599a",
   "metadata": {
    "executionInfo": {
     "elapsed": 10,
     "status": "ok",
     "timestamp": 1752918035487,
     "user": {
      "displayName": "Benjamin Bennett Alexander",
      "userId": "14614847693800833280"
     },
     "user_tz": -180
    },
    "id": "d812599a"
   },
   "outputs": [],
   "source": [
    "def add_data_to_database(input_data):\n",
    "    try:\n",
    "        data = pd.read_csv(input_data)\n",
    "        engine = sqlite3.connect('zoo_animals.db')\n",
    "        data.to_sql('animals', con=engine, index = False)\n",
    "        engine.close()\n",
    "    except Exception as e:\n",
    "        print(f\"Error: {e}\")\n",
    "\n",
    "data = \"/content/zoo_animals.csv\"\n",
    "add_data_to_database(data)"
   ]
  },
  {
   "cell_type": "code",
   "execution_count": 3,
   "id": "faca54d6",
   "metadata": {
    "executionInfo": {
     "elapsed": 291,
     "status": "ok",
     "timestamp": 1752918035784,
     "user": {
      "displayName": "Benjamin Bennett Alexander",
      "userId": "14614847693800833280"
     },
     "user_tz": -180
    },
    "id": "faca54d6"
   },
   "outputs": [],
   "source": [
    "%load_ext sql"
   ]
  },
  {
   "cell_type": "code",
   "execution_count": 4,
   "id": "6d21de1c",
   "metadata": {
    "executionInfo": {
     "elapsed": 15,
     "status": "ok",
     "timestamp": 1752918035803,
     "user": {
      "displayName": "Benjamin Bennett Alexander",
      "userId": "14614847693800833280"
     },
     "user_tz": -180
    },
    "id": "6d21de1c"
   },
   "outputs": [],
   "source": [
    "# Connecting to the database\n",
    "%sql sqlite:///zoo_animals.db"
   ]
  },
  {
   "cell_type": "code",
   "execution_count": 5,
   "id": "Ps_zXpEjm83t",
   "metadata": {
    "executionInfo": {
     "elapsed": 7,
     "status": "ok",
     "timestamp": 1752918035815,
     "user": {
      "displayName": "Benjamin Bennett Alexander",
      "userId": "14614847693800833280"
     },
     "user_tz": -180
    },
    "id": "Ps_zXpEjm83t"
   },
   "outputs": [],
   "source": [
    "# Default to duplicated style\n",
    "%config SqlMagic.style = '_DEPRECATED_DEFAULT'"
   ]
  },
  {
   "cell_type": "code",
   "execution_count": 6,
   "id": "ed23da00",
   "metadata": {
    "colab": {
     "base_uri": "https://localhost:8080/",
     "height": 177
    },
    "executionInfo": {
     "elapsed": 354,
     "status": "ok",
     "timestamp": 1752918036172,
     "user": {
      "displayName": "Benjamin Bennett Alexander",
      "userId": "14614847693800833280"
     },
     "user_tz": -180
    },
    "id": "ed23da00",
    "outputId": "9ac0c325-be15-4fac-d1ab-dccc031f71e1"
   },
   "outputs": [
    {
     "name": "stdout",
     "output_type": "stream",
     "text": [
      " * sqlite:///zoo_animals.db\n",
      "Done.\n"
     ]
    },
    {
     "data": {
      "text/html": [
       "<table>\n",
       "    <thead>\n",
       "        <tr>\n",
       "            <th>animal_id</th>\n",
       "            <th>animal_name</th>\n",
       "            <th>species</th>\n",
       "            <th>gender</th>\n",
       "            <th>age</th>\n",
       "            <th>weight</th>\n",
       "            <th>height</th>\n",
       "            <th>length</th>\n",
       "            <th>diet</th>\n",
       "            <th>habitat</th>\n",
       "            <th>acquisition_date</th>\n",
       "            <th>acquisition_method</th>\n",
       "            <th>acquisition_location</th>\n",
       "            <th>conservation_status</th>\n",
       "        </tr>\n",
       "    </thead>\n",
       "    <tbody>\n",
       "        <tr>\n",
       "            <td>1</td>\n",
       "            <td>Fiona</td>\n",
       "            <td>Hippopotamus</td>\n",
       "            <td>Female</td>\n",
       "            <td>10</td>\n",
       "            <td>3200</td>\n",
       "            <td>56</td>\n",
       "            <td>12</td>\n",
       "            <td>Herbivore</td>\n",
       "            <td>African Savanna</td>\n",
       "            <td>2012-05-24</td>\n",
       "            <td>Rescue</td>\n",
       "            <td>Nile River</td>\n",
       "            <td>Endangered</td>\n",
       "        </tr>\n",
       "        <tr>\n",
       "            <td>2</td>\n",
       "            <td>Leo</td>\n",
       "            <td>Lion</td>\n",
       "            <td>Male</td>\n",
       "            <td>12</td>\n",
       "            <td>420</td>\n",
       "            <td>60</td>\n",
       "            <td>84</td>\n",
       "            <td>Carnivore</td>\n",
       "            <td>African Savanna</td>\n",
       "            <td>2015-06-01</td>\n",
       "            <td>Donation</td>\n",
       "            <td>Kruger National Park</td>\n",
       "            <td>Vulnerable</td>\n",
       "        </tr>\n",
       "        <tr>\n",
       "            <td>3</td>\n",
       "            <td>Maya</td>\n",
       "            <td>Jaguar</td>\n",
       "            <td>Female</td>\n",
       "            <td>8</td>\n",
       "            <td>200</td>\n",
       "            <td>60</td>\n",
       "            <td>72</td>\n",
       "            <td>Carnivore</td>\n",
       "            <td>Central American Rainforest</td>\n",
       "            <td>2018-04-15</td>\n",
       "            <td>Captive Breeding</td>\n",
       "            <td>Belize Zoo</td>\n",
       "            <td>Least Concern</td>\n",
       "        </tr>\n",
       "        <tr>\n",
       "            <td>4</td>\n",
       "            <td>Nala</td>\n",
       "            <td>Giraffe</td>\n",
       "            <td>Female</td>\n",
       "            <td>14</td>\n",
       "            <td>2400</td>\n",
       "            <td>14</td>\n",
       "            <td>18</td>\n",
       "            <td>Herbivore</td>\n",
       "            <td>African Savanna</td>\n",
       "            <td>2010-03-12</td>\n",
       "            <td>Wild Capture</td>\n",
       "            <td>Masai Mara National Reserve</td>\n",
       "            <td>Not Threatened</td>\n",
       "        </tr>\n",
       "        <tr>\n",
       "            <td>5</td>\n",
       "            <td>Oscar</td>\n",
       "            <td>Orangutan</td>\n",
       "            <td>Male</td>\n",
       "            <td>15</td>\n",
       "            <td>280</td>\n",
       "            <td>60</td>\n",
       "            <td>96</td>\n",
       "            <td>Omnivore</td>\n",
       "            <td>Bornean Rainforest</td>\n",
       "            <td>2009-11-07</td>\n",
       "            <td>Rescue</td>\n",
       "            <td>Sumatran Orangutan Rehabilitation Center</td>\n",
       "            <td>Critically Endangered</td>\n",
       "        </tr>\n",
       "    </tbody>\n",
       "</table>"
      ],
      "text/plain": [
       "[(1, 'Fiona', 'Hippopotamus', 'Female', 10, 3200, 56, 12, 'Herbivore', 'African Savanna', '2012-05-24', 'Rescue', 'Nile River', 'Endangered'),\n",
       " (2, 'Leo', 'Lion', 'Male', 12, 420, 60, 84, 'Carnivore', 'African Savanna', '2015-06-01', 'Donation', 'Kruger National Park', 'Vulnerable'),\n",
       " (3, 'Maya', 'Jaguar', 'Female', 8, 200, 60, 72, 'Carnivore', 'Central American Rainforest', '2018-04-15', 'Captive Breeding', 'Belize Zoo', 'Least Concern'),\n",
       " (4, 'Nala', 'Giraffe', 'Female', 14, 2400, 14, 18, 'Herbivore', 'African Savanna', '2010-03-12', 'Wild Capture', 'Masai Mara National Reserve', 'Not Threatened'),\n",
       " (5, 'Oscar', 'Orangutan', 'Male', 15, 280, 60, 96, 'Omnivore', 'Bornean Rainforest', '2009-11-07', 'Rescue', 'Sumatran Orangutan Rehabilitation Center', 'Critically Endangered')]"
      ]
     },
     "execution_count": 6,
     "metadata": {},
     "output_type": "execute_result"
    }
   ],
   "source": [
    "%%sql\n",
    "SELECT * FROM animals LIMIT 5;"
   ]
  },
  {
   "cell_type": "markdown",
   "id": "66c3db5a",
   "metadata": {
    "id": "66c3db5a"
   },
   "source": [
    "## Question 2: **Answer**"
   ]
  },
  {
   "cell_type": "code",
   "execution_count": 7,
   "id": "2851f0c1",
   "metadata": {
    "colab": {
     "base_uri": "https://localhost:8080/",
     "height": 136
    },
    "executionInfo": {
     "elapsed": 13,
     "status": "ok",
     "timestamp": 1752918036188,
     "user": {
      "displayName": "Benjamin Bennett Alexander",
      "userId": "14614847693800833280"
     },
     "user_tz": -180
    },
    "id": "2851f0c1",
    "outputId": "3684fa2b-6e77-46a3-8cbe-256cb6c0c9e4"
   },
   "outputs": [
    {
     "name": "stdout",
     "output_type": "stream",
     "text": [
      " * sqlite:///zoo_animals.db\n",
      "Done.\n"
     ]
    },
    {
     "data": {
      "text/html": [
       "<table>\n",
       "    <thead>\n",
       "        <tr>\n",
       "            <th>animal_name</th>\n",
       "            <th>species</th>\n",
       "            <th>weight</th>\n",
       "        </tr>\n",
       "    </thead>\n",
       "    <tbody>\n",
       "        <tr>\n",
       "            <td>Zoe</td>\n",
       "            <td>Zebra</td>\n",
       "            <td>700</td>\n",
       "        </tr>\n",
       "        <tr>\n",
       "            <td>Tristan</td>\n",
       "            <td>Tiger</td>\n",
       "            <td>500</td>\n",
       "        </tr>\n",
       "        <tr>\n",
       "            <td>Penny</td>\n",
       "            <td>Polar Bear</td>\n",
       "            <td>600</td>\n",
       "        </tr>\n",
       "    </tbody>\n",
       "</table>"
      ],
      "text/plain": [
       "[('Zoe', 'Zebra', 700),\n",
       " ('Tristan', 'Tiger', 500),\n",
       " ('Penny', 'Polar Bear', 600)]"
      ]
     },
     "execution_count": 7,
     "metadata": {},
     "output_type": "execute_result"
    }
   ],
   "source": [
    "%%sql\n",
    "SELECT\n",
    "    animal_name,\n",
    "    species,\n",
    "    weight\n",
    "FROM animals\n",
    "WHERE weight BETWEEN 500 AND 1000\n",
    "ORDER BY species DESC;"
   ]
  },
  {
   "cell_type": "markdown",
   "id": "c32a631d",
   "metadata": {
    "id": "c32a631d"
   },
   "source": [
    "## Question 3: **Answer**"
   ]
  },
  {
   "cell_type": "code",
   "execution_count": 8,
   "id": "ffc17468",
   "metadata": {
    "colab": {
     "base_uri": "https://localhost:8080/",
     "height": 219
    },
    "executionInfo": {
     "elapsed": 162,
     "status": "ok",
     "timestamp": 1752918036352,
     "user": {
      "displayName": "Benjamin Bennett Alexander",
      "userId": "14614847693800833280"
     },
     "user_tz": -180
    },
    "id": "ffc17468",
    "outputId": "7f5aea7a-0646-4690-d6f9-c2e3b402ef0a"
   },
   "outputs": [
    {
     "name": "stdout",
     "output_type": "stream",
     "text": [
      " * sqlite:///zoo_animals.db\n",
      "Done.\n"
     ]
    },
    {
     "data": {
      "text/html": [
       "<table>\n",
       "    <thead>\n",
       "        <tr>\n",
       "            <th>species</th>\n",
       "            <th>acquisition_method</th>\n",
       "        </tr>\n",
       "    </thead>\n",
       "    <tbody>\n",
       "        <tr>\n",
       "            <td>Hippopotamus</td>\n",
       "            <td>Rescue</td>\n",
       "        </tr>\n",
       "        <tr>\n",
       "            <td>Giraffe</td>\n",
       "            <td>Wild Capture</td>\n",
       "        </tr>\n",
       "        <tr>\n",
       "            <td>Orangutan</td>\n",
       "            <td>Rescue</td>\n",
       "        </tr>\n",
       "        <tr>\n",
       "            <td>Polar Bear</td>\n",
       "            <td>Rescue</td>\n",
       "        </tr>\n",
       "        <tr>\n",
       "            <td>Sea Lion</td>\n",
       "            <td>Rescue</td>\n",
       "        </tr>\n",
       "        <tr>\n",
       "            <td>Wallaby</td>\n",
       "            <td>Rescue</td>\n",
       "        </tr>\n",
       "        <tr>\n",
       "            <td>Zebra</td>\n",
       "            <td>Wild Capture</td>\n",
       "        </tr>\n",
       "    </tbody>\n",
       "</table>"
      ],
      "text/plain": [
       "[('Hippopotamus', 'Rescue'),\n",
       " ('Giraffe', 'Wild Capture'),\n",
       " ('Orangutan', 'Rescue'),\n",
       " ('Polar Bear', 'Rescue'),\n",
       " ('Sea Lion', 'Rescue'),\n",
       " ('Wallaby', 'Rescue'),\n",
       " ('Zebra', 'Wild Capture')]"
      ]
     },
     "execution_count": 8,
     "metadata": {},
     "output_type": "execute_result"
    }
   ],
   "source": [
    "%%sql\n",
    "SELECT\n",
    "    species,\n",
    "    acquisition_method\n",
    "FROM animals\n",
    "WHERE acquisition_method IN ('Rescue','Wild Capture');"
   ]
  },
  {
   "cell_type": "markdown",
   "id": "331e6c35",
   "metadata": {
    "id": "331e6c35"
   },
   "source": [
    "## Question 4: **Answer**"
   ]
  },
  {
   "cell_type": "code",
   "execution_count": 9,
   "id": "ffbdc37d",
   "metadata": {
    "colab": {
     "base_uri": "https://localhost:8080/",
     "height": 94
    },
    "executionInfo": {
     "elapsed": 90,
     "status": "ok",
     "timestamp": 1752918036447,
     "user": {
      "displayName": "Benjamin Bennett Alexander",
      "userId": "14614847693800833280"
     },
     "user_tz": -180
    },
    "id": "ffbdc37d",
    "outputId": "ef6854fd-90a9-4798-83aa-bb2965dc62c7"
   },
   "outputs": [
    {
     "name": "stdout",
     "output_type": "stream",
     "text": [
      " * sqlite:///zoo_animals.db\n",
      "Done.\n"
     ]
    },
    {
     "data": {
      "text/html": [
       "<table>\n",
       "    <thead>\n",
       "        <tr>\n",
       "            <th>gender</th>\n",
       "            <th>number_of_males</th>\n",
       "            <th>percentage</th>\n",
       "        </tr>\n",
       "    </thead>\n",
       "    <tbody>\n",
       "        <tr>\n",
       "            <td>Male</td>\n",
       "            <td>7</td>\n",
       "            <td>43.75</td>\n",
       "        </tr>\n",
       "    </tbody>\n",
       "</table>"
      ],
      "text/plain": [
       "[('Male', 7, 43.75)]"
      ]
     },
     "execution_count": 9,
     "metadata": {},
     "output_type": "execute_result"
    }
   ],
   "source": [
    "%%sql\n",
    "SELECT\n",
    "    gender,\n",
    "    COUNT(*) AS number_of_males,\n",
    "    COUNT(*) * 100.0 / (SELECT COUNT(*) FROM animals) AS percentage\n",
    "FROM animals\n",
    "WHERE gender = 'Male'\n",
    "GROUP BY gender;"
   ]
  },
  {
   "cell_type": "markdown",
   "id": "9f80ebc6",
   "metadata": {
    "id": "9f80ebc6"
   },
   "source": [
    "## Question 5: **Answer**"
   ]
  },
  {
   "cell_type": "code",
   "execution_count": 10,
   "id": "3060574d",
   "metadata": {
    "colab": {
     "base_uri": "https://localhost:8080/",
     "height": 94
    },
    "executionInfo": {
     "elapsed": 42,
     "status": "ok",
     "timestamp": 1752918036493,
     "user": {
      "displayName": "Benjamin Bennett Alexander",
      "userId": "14614847693800833280"
     },
     "user_tz": -180
    },
    "id": "3060574d",
    "outputId": "1c704f7f-96c8-4ce8-c723-69dfc1ea566c"
   },
   "outputs": [
    {
     "name": "stdout",
     "output_type": "stream",
     "text": [
      " * sqlite:///zoo_animals.db\n",
      "Done.\n"
     ]
    },
    {
     "data": {
      "text/html": [
       "<table>\n",
       "    <thead>\n",
       "        <tr>\n",
       "            <th>Avg_age_lions_Sea_lions</th>\n",
       "        </tr>\n",
       "    </thead>\n",
       "    <tbody>\n",
       "        <tr>\n",
       "            <td>10.5</td>\n",
       "        </tr>\n",
       "    </tbody>\n",
       "</table>"
      ],
      "text/plain": [
       "[(10.5,)]"
      ]
     },
     "execution_count": 10,
     "metadata": {},
     "output_type": "execute_result"
    }
   ],
   "source": [
    "%%sql\n",
    "SELECT\n",
    "    AVG(age) AS Avg_age_lions_Sea_lions\n",
    "FROM animals\n",
    "WHERE species IN ('Lion', 'Sea Lion');"
   ]
  },
  {
   "cell_type": "markdown",
   "id": "1002b120",
   "metadata": {
    "id": "1002b120"
   },
   "source": [
    "## Question 6: **Answer**"
   ]
  },
  {
   "cell_type": "code",
   "execution_count": 11,
   "id": "4ed5a586",
   "metadata": {
    "colab": {
     "base_uri": "https://localhost:8080/",
     "height": 136
    },
    "executionInfo": {
     "elapsed": 35,
     "status": "ok",
     "timestamp": 1752918036542,
     "user": {
      "displayName": "Benjamin Bennett Alexander",
      "userId": "14614847693800833280"
     },
     "user_tz": -180
    },
    "id": "4ed5a586",
    "outputId": "7f22fa7c-3e84-4dff-d4b3-b18a434ff094"
   },
   "outputs": [
    {
     "name": "stdout",
     "output_type": "stream",
     "text": [
      " * sqlite:///zoo_animals.db\n",
      "Done.\n"
     ]
    },
    {
     "data": {
      "text/html": [
       "<table>\n",
       "    <thead>\n",
       "        <tr>\n",
       "            <th>animal_name</th>\n",
       "            <th>species</th>\n",
       "            <th>acquisition_date</th>\n",
       "        </tr>\n",
       "    </thead>\n",
       "    <tbody>\n",
       "        <tr>\n",
       "            <td>Maya</td>\n",
       "            <td>Jaguar</td>\n",
       "            <td>2018-04-15</td>\n",
       "        </tr>\n",
       "        <tr>\n",
       "            <td>Penny</td>\n",
       "            <td>Polar Bear</td>\n",
       "            <td>2016-08-23</td>\n",
       "        </tr>\n",
       "        <tr>\n",
       "            <td>Leo</td>\n",
       "            <td>Lion</td>\n",
       "            <td>2015-06-01</td>\n",
       "        </tr>\n",
       "    </tbody>\n",
       "</table>"
      ],
      "text/plain": [
       "[('Maya', 'Jaguar', '2018-04-15'),\n",
       " ('Penny', 'Polar Bear', '2016-08-23'),\n",
       " ('Leo', 'Lion', '2015-06-01')]"
      ]
     },
     "execution_count": 11,
     "metadata": {},
     "output_type": "execute_result"
    }
   ],
   "source": [
    "%%sql\n",
    "SELECT\n",
    "    animal_name,\n",
    "    Species,\n",
    "    acquisition_date\n",
    "FROM animals\n",
    "WHERE acquisition_date\n",
    "    BETWEEN '2015-01-01' AND '2020-12-31'\n",
    "    AND diet = \"Carnivore\"\n",
    "ORDER BY acquisition_date DESC;"
   ]
  },
  {
   "cell_type": "code",
   "execution_count": 12,
   "id": "9ec603f8",
   "metadata": {
    "executionInfo": {
     "elapsed": 7,
     "status": "ok",
     "timestamp": 1752918036556,
     "user": {
      "displayName": "Benjamin Bennett Alexander",
      "userId": "14614847693800833280"
     },
     "user_tz": -180
    },
    "id": "9ec603f8"
   },
   "outputs": [],
   "source": [
    "# %%sql\n",
    "# DROP TABLE animals"
   ]
  }
 ],
 "metadata": {
  "colab": {
   "provenance": []
  },
  "kernelspec": {
   "display_name": "Python 3 (ipykernel)",
   "language": "python",
   "name": "python3"
  },
  "language_info": {
   "codemirror_mode": {
    "name": "ipython",
    "version": 3
   },
   "file_extension": ".py",
   "mimetype": "text/x-python",
   "name": "python",
   "nbconvert_exporter": "python",
   "pygments_lexer": "ipython3",
   "version": "3.10.5"
  }
 },
 "nbformat": 4,
 "nbformat_minor": 5
}

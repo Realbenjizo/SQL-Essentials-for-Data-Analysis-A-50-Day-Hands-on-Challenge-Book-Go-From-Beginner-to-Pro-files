{
 "cells": [
  {
   "cell_type": "markdown",
   "metadata": {
    "id": "qn8S53xP6Rvk"
   },
   "source": [
    "## Loading data"
   ]
  },
  {
   "cell_type": "code",
   "execution_count": 1,
   "metadata": {
    "executionInfo": {
     "elapsed": 72,
     "status": "ok",
     "timestamp": 1751879230466,
     "user": {
      "displayName": "Benjamin Bennett Alexander",
      "userId": "14614847693800833280"
     },
     "user_tz": -180
    },
    "id": "u2u0ETa8s6hj"
   },
   "outputs": [],
   "source": [
    "import sqlite3"
   ]
  },
  {
   "cell_type": "code",
   "execution_count": null,
   "metadata": {
    "executionInfo": {
     "elapsed": 36,
     "status": "ok",
     "timestamp": 1751879230509,
     "user": {
      "displayName": "Benjamin Bennett Alexander",
      "userId": "14614847693800833280"
     },
     "user_tz": -180
    },
    "id": "P8V4xDKVs94Z"
   },
   "outputs": [],
   "source": [
    "def add_data_to_database():\n",
    "    try:\n",
    "        # Connecting to the database\n",
    "        with sqlite3.connect('students_data.db') as conn:\n",
    "            cursor = conn.cursor()\n",
    "\n",
    "            cursor.execute('''\n",
    "            CREATE TABLE students (\n",
    "                id PRIMARY KEY,\n",
    "                name VARCHAR(50),\n",
    "                birth_year INT,\n",
    "                marks INT\n",
    "                )\n",
    "            ''')\n",
    "            # Student data to load\n",
    "            data = [\n",
    "                    (1,'Alice', 2005, 57),\n",
    "                    (2, 'Bob', 2005, 67),\n",
    "                    (3, 'Carol', 2003, 90),\n",
    "                    (4, 'Imraan', 2006, 88),\n",
    "                    (5, 'John', 2008, 92),\n",
    "                    (6, 'Paul', 2007, 55),\n",
    "                    (7, 'Samuel', 2010, 60),\n",
    "                    (8, 'Eve', 2011, 77),\n",
    "                    (9, 'Luke', 2011, 67),\n",
    "                    (10, 'Ivan', 2012, 70)\n",
    "            ]\n",
    "            cursor.executemany(\n",
    "                '''\n",
    "                INSERT INTO students(id, name, birth_year, marks) VALUES (?, ?, ?, ?)\n",
    "\n",
    "                ''', data\n",
    "            )\n",
    "            conn.commit()\n",
    "            print(\"Table successfully created\")\n",
    "    except sqlite3.Error as e:\n",
    "        print(f'Error: {e}')\n",
    "\n",
    "# Calling function\n",
    "add_data_to_database()"
   ]
  },
  {
   "cell_type": "code",
   "execution_count": 3,
   "metadata": {
    "executionInfo": {
     "elapsed": 1420,
     "status": "ok",
     "timestamp": 1751879231942,
     "user": {
      "displayName": "Benjamin Bennett Alexander",
      "userId": "14614847693800833280"
     },
     "user_tz": -180
    },
    "id": "ZSxDVAG58n9r"
   },
   "outputs": [],
   "source": [
    "# Loading SQL extension\n",
    "%load_ext sql"
   ]
  },
  {
   "cell_type": "code",
   "execution_count": 4,
   "metadata": {
    "executionInfo": {
     "elapsed": 17,
     "status": "ok",
     "timestamp": 1751879231991,
     "user": {
      "displayName": "Benjamin Bennett Alexander",
      "userId": "14614847693800833280"
     },
     "user_tz": -180
    },
    "id": "48w5XEgI8plQ"
   },
   "outputs": [],
   "source": [
    "# Connecting to the database\n",
    "%sql sqlite:///students_data.db"
   ]
  },
  {
   "cell_type": "code",
   "execution_count": 5,
   "metadata": {
    "executionInfo": {
     "elapsed": 3,
     "status": "ok",
     "timestamp": 1751879231999,
     "user": {
      "displayName": "Benjamin Bennett Alexander",
      "userId": "14614847693800833280"
     },
     "user_tz": -180
    },
    "id": "VdKtOXZd8wMA"
   },
   "outputs": [],
   "source": [
    "# Default to duplicated style\n",
    "%config SqlMagic.style = '_DEPRECATED_DEFAULT'"
   ]
  },
  {
   "cell_type": "markdown",
   "metadata": {
    "id": "GPLdENYS_NKR"
   },
   "source": [
    "## Question 1: **Answer**"
   ]
  },
  {
   "cell_type": "code",
   "execution_count": 6,
   "metadata": {
    "colab": {
     "base_uri": "https://localhost:8080/",
     "height": 280
    },
    "executionInfo": {
     "elapsed": 113,
     "status": "ok",
     "timestamp": 1751879232115,
     "user": {
      "displayName": "Benjamin Bennett Alexander",
      "userId": "14614847693800833280"
     },
     "user_tz": -180
    },
    "id": "PzdD6L3383Nw",
    "outputId": "99d8c419-d1bc-4321-91e5-ac7e8d39fe61"
   },
   "outputs": [
    {
     "name": "stdout",
     "output_type": "stream",
     "text": [
      " * sqlite:///students_data.db\n",
      "Done.\n"
     ]
    },
    {
     "data": {
      "text/html": [
       "<table>\n",
       "    <thead>\n",
       "        <tr>\n",
       "            <th>id</th>\n",
       "            <th>name</th>\n",
       "            <th>birth_year</th>\n",
       "            <th>marks</th>\n",
       "        </tr>\n",
       "    </thead>\n",
       "    <tbody>\n",
       "        <tr>\n",
       "            <td>1</td>\n",
       "            <td>Alice</td>\n",
       "            <td>2005</td>\n",
       "            <td>57</td>\n",
       "        </tr>\n",
       "        <tr>\n",
       "            <td>2</td>\n",
       "            <td>Bob</td>\n",
       "            <td>2005</td>\n",
       "            <td>67</td>\n",
       "        </tr>\n",
       "        <tr>\n",
       "            <td>3</td>\n",
       "            <td>Carol</td>\n",
       "            <td>2003</td>\n",
       "            <td>90</td>\n",
       "        </tr>\n",
       "        <tr>\n",
       "            <td>4</td>\n",
       "            <td>Imraan</td>\n",
       "            <td>2006</td>\n",
       "            <td>88</td>\n",
       "        </tr>\n",
       "        <tr>\n",
       "            <td>5</td>\n",
       "            <td>John</td>\n",
       "            <td>2008</td>\n",
       "            <td>92</td>\n",
       "        </tr>\n",
       "        <tr>\n",
       "            <td>6</td>\n",
       "            <td>Paul</td>\n",
       "            <td>2007</td>\n",
       "            <td>55</td>\n",
       "        </tr>\n",
       "        <tr>\n",
       "            <td>7</td>\n",
       "            <td>Samuel</td>\n",
       "            <td>2010</td>\n",
       "            <td>60</td>\n",
       "        </tr>\n",
       "        <tr>\n",
       "            <td>8</td>\n",
       "            <td>Eve</td>\n",
       "            <td>2011</td>\n",
       "            <td>77</td>\n",
       "        </tr>\n",
       "        <tr>\n",
       "            <td>9</td>\n",
       "            <td>Luke</td>\n",
       "            <td>2011</td>\n",
       "            <td>67</td>\n",
       "        </tr>\n",
       "        <tr>\n",
       "            <td>10</td>\n",
       "            <td>Ivan</td>\n",
       "            <td>2012</td>\n",
       "            <td>70</td>\n",
       "        </tr>\n",
       "    </tbody>\n",
       "</table>"
      ],
      "text/plain": [
       "[(1, 'Alice', 2005, 57),\n",
       " (2, 'Bob', 2005, 67),\n",
       " (3, 'Carol', 2003, 90),\n",
       " (4, 'Imraan', 2006, 88),\n",
       " (5, 'John', 2008, 92),\n",
       " (6, 'Paul', 2007, 55),\n",
       " (7, 'Samuel', 2010, 60),\n",
       " (8, 'Eve', 2011, 77),\n",
       " (9, 'Luke', 2011, 67),\n",
       " (10, 'Ivan', 2012, 70)]"
      ]
     },
     "execution_count": 6,
     "metadata": {},
     "output_type": "execute_result"
    }
   ],
   "source": [
    "%%sql\n",
    "SELECT * FROM students;"
   ]
  },
  {
   "cell_type": "markdown",
   "metadata": {
    "id": "17mIpDLu_qzg"
   },
   "source": [
    "## Question 2: **Answer**"
   ]
  },
  {
   "cell_type": "code",
   "execution_count": 7,
   "metadata": {
    "colab": {
     "base_uri": "https://localhost:8080/",
     "height": 135
    },
    "executionInfo": {
     "elapsed": 38,
     "status": "ok",
     "timestamp": 1751879232157,
     "user": {
      "displayName": "Benjamin Bennett Alexander",
      "userId": "14614847693800833280"
     },
     "user_tz": -180
    },
    "id": "KTEtQDhY_9NI",
    "outputId": "705123a6-02ce-4662-81ed-e32d6c4635bb"
   },
   "outputs": [
    {
     "name": "stdout",
     "output_type": "stream",
     "text": [
      " * sqlite:///students_data.db\n",
      "Done.\n"
     ]
    },
    {
     "data": {
      "text/html": [
       "<table>\n",
       "    <thead>\n",
       "        <tr>\n",
       "            <th>id</th>\n",
       "            <th>name</th>\n",
       "            <th>birth_year</th>\n",
       "            <th>marks</th>\n",
       "        </tr>\n",
       "    </thead>\n",
       "    <tbody>\n",
       "        <tr>\n",
       "            <td>1</td>\n",
       "            <td>Alice</td>\n",
       "            <td>2005</td>\n",
       "            <td>57</td>\n",
       "        </tr>\n",
       "        <tr>\n",
       "            <td>2</td>\n",
       "            <td>Bob</td>\n",
       "            <td>2005</td>\n",
       "            <td>67</td>\n",
       "        </tr>\n",
       "        <tr>\n",
       "            <td>3</td>\n",
       "            <td>Carol</td>\n",
       "            <td>2003</td>\n",
       "            <td>90</td>\n",
       "        </tr>\n",
       "    </tbody>\n",
       "</table>"
      ],
      "text/plain": [
       "[(1, 'Alice', 2005, 57), (2, 'Bob', 2005, 67), (3, 'Carol', 2003, 90)]"
      ]
     },
     "execution_count": 7,
     "metadata": {},
     "output_type": "execute_result"
    }
   ],
   "source": [
    "%%sql\n",
    "SELECT * FROM students\n",
    "LIMIT  3;"
   ]
  },
  {
   "cell_type": "markdown",
   "metadata": {
    "id": "AiltzPnPAVvR"
   },
   "source": [
    "## Question 3: **Answer**"
   ]
  },
  {
   "cell_type": "code",
   "execution_count": 8,
   "metadata": {
    "colab": {
     "base_uri": "https://localhost:8080/",
     "height": 280
    },
    "executionInfo": {
     "elapsed": 14,
     "status": "ok",
     "timestamp": 1751879232175,
     "user": {
      "displayName": "Benjamin Bennett Alexander",
      "userId": "14614847693800833280"
     },
     "user_tz": -180
    },
    "id": "R7_jHLiCAYSa",
    "outputId": "e8de86ff-ea79-484d-af5a-847d45d07136"
   },
   "outputs": [
    {
     "name": "stdout",
     "output_type": "stream",
     "text": [
      " * sqlite:///students_data.db\n",
      "Done.\n"
     ]
    },
    {
     "data": {
      "text/html": [
       "<table>\n",
       "    <thead>\n",
       "        <tr>\n",
       "            <th>name</th>\n",
       "        </tr>\n",
       "    </thead>\n",
       "    <tbody>\n",
       "        <tr>\n",
       "            <td>Alice</td>\n",
       "        </tr>\n",
       "        <tr>\n",
       "            <td>Bob</td>\n",
       "        </tr>\n",
       "        <tr>\n",
       "            <td>Carol</td>\n",
       "        </tr>\n",
       "        <tr>\n",
       "            <td>Imraan</td>\n",
       "        </tr>\n",
       "        <tr>\n",
       "            <td>John</td>\n",
       "        </tr>\n",
       "        <tr>\n",
       "            <td>Paul</td>\n",
       "        </tr>\n",
       "        <tr>\n",
       "            <td>Samuel</td>\n",
       "        </tr>\n",
       "        <tr>\n",
       "            <td>Eve</td>\n",
       "        </tr>\n",
       "        <tr>\n",
       "            <td>Luke</td>\n",
       "        </tr>\n",
       "        <tr>\n",
       "            <td>Ivan</td>\n",
       "        </tr>\n",
       "    </tbody>\n",
       "</table>"
      ],
      "text/plain": [
       "[('Alice',),\n",
       " ('Bob',),\n",
       " ('Carol',),\n",
       " ('Imraan',),\n",
       " ('John',),\n",
       " ('Paul',),\n",
       " ('Samuel',),\n",
       " ('Eve',),\n",
       " ('Luke',),\n",
       " ('Ivan',)]"
      ]
     },
     "execution_count": 8,
     "metadata": {},
     "output_type": "execute_result"
    }
   ],
   "source": [
    "%%sql\n",
    "SELECT name FROM students;"
   ]
  }
 ],
 "metadata": {
  "colab": {
   "authorship_tag": "ABX9TyMTm4fGF3joNrGn06RGOznY",
   "provenance": []
  },
  "kernelspec": {
   "display_name": "Python 3",
   "name": "python3"
  },
  "language_info": {
   "name": "python"
  }
 },
 "nbformat": 4,
 "nbformat_minor": 0
}

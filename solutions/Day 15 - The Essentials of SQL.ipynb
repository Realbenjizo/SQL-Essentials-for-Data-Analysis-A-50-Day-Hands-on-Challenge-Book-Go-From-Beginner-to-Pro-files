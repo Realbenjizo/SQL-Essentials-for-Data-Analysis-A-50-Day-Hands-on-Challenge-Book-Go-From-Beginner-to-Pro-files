{
 "cells": [
  {
   "cell_type": "markdown",
   "id": "UTjCH0NPgVas",
   "metadata": {
    "id": "UTjCH0NPgVas"
   },
   "source": [
    "## Question 1: **Answer**"
   ]
  },
  {
   "cell_type": "code",
   "execution_count": 1,
   "id": "b935cf98",
   "metadata": {
    "executionInfo": {
     "elapsed": 796,
     "status": "ok",
     "timestamp": 1752851124568,
     "user": {
      "displayName": "Benjamin Bennett Alexander",
      "userId": "14614847693800833280"
     },
     "user_tz": -180
    },
    "id": "b935cf98"
   },
   "outputs": [],
   "source": [
    "import sqlite3\n",
    "import pandas as pd"
   ]
  },
  {
   "cell_type": "code",
   "execution_count": null,
   "id": "f8bcaf2b",
   "metadata": {
    "executionInfo": {
     "elapsed": 991,
     "status": "ok",
     "timestamp": 1752851125553,
     "user": {
      "displayName": "Benjamin Bennett Alexander",
      "userId": "14614847693800833280"
     },
     "user_tz": -180
    },
    "id": "f8bcaf2b"
   },
   "outputs": [],
   "source": [
    "def add_data_to_database(input_data):\n",
    "    \"\"\" Connecting to SQL and creating a database  \"\"\"\n",
    "    try:\n",
    "        data = pd.read_csv(input_data)\n",
    "        engine = sqlite3.connect('climbers_records.db')\n",
    "        data.to_sql('climbers', con=engine, index = False)\n",
    "        engine.close()\n",
    "    except Exception as e:\n",
    "        print(f\"Error:{e}\")\n",
    "\n",
    "# Loading data\n",
    "data = \"/content/climbers.csv\"\n",
    "add_data_to_database(data)"
   ]
  },
  {
   "cell_type": "code",
   "execution_count": 3,
   "id": "ea00f50b",
   "metadata": {
    "executionInfo": {
     "elapsed": 729,
     "status": "ok",
     "timestamp": 1752851126285,
     "user": {
      "displayName": "Benjamin Bennett Alexander",
      "userId": "14614847693800833280"
     },
     "user_tz": -180
    },
    "id": "ea00f50b"
   },
   "outputs": [],
   "source": [
    "# Loading the extension\n",
    "%load_ext sql"
   ]
  },
  {
   "cell_type": "code",
   "execution_count": 4,
   "id": "6f000033",
   "metadata": {
    "executionInfo": {
     "elapsed": 32,
     "status": "ok",
     "timestamp": 1752851126325,
     "user": {
      "displayName": "Benjamin Bennett Alexander",
      "userId": "14614847693800833280"
     },
     "user_tz": -180
    },
    "id": "6f000033"
   },
   "outputs": [],
   "source": [
    "# Using the extension to connect to database\n",
    "%sql sqlite:///climbers_records.db"
   ]
  },
  {
   "cell_type": "code",
   "execution_count": 5,
   "id": "PXC7orurLnLK",
   "metadata": {
    "executionInfo": {
     "elapsed": 3,
     "status": "ok",
     "timestamp": 1752851126333,
     "user": {
      "displayName": "Benjamin Bennett Alexander",
      "userId": "14614847693800833280"
     },
     "user_tz": -180
    },
    "id": "PXC7orurLnLK"
   },
   "outputs": [],
   "source": [
    "%config SqlMagic.style = '_DEPRECATED_DEFAULT'"
   ]
  },
  {
   "cell_type": "code",
   "execution_count": 6,
   "id": "ca8f69af",
   "metadata": {
    "colab": {
     "base_uri": "https://localhost:8080/",
     "height": 177
    },
    "executionInfo": {
     "elapsed": 94,
     "status": "ok",
     "timestamp": 1752851126447,
     "user": {
      "displayName": "Benjamin Bennett Alexander",
      "userId": "14614847693800833280"
     },
     "user_tz": -180
    },
    "id": "ca8f69af",
    "outputId": "24999bf9-ff2f-45dc-89da-b2da53b1fa21"
   },
   "outputs": [
    {
     "name": "stdout",
     "output_type": "stream",
     "text": [
      " * sqlite:///climbers_records.db\n",
      "Done.\n"
     ]
    },
    {
     "data": {
      "text/html": [
       "<table>\n",
       "    <thead>\n",
       "        <tr>\n",
       "            <th>Id</th>\n",
       "            <th>Climber Name</th>\n",
       "            <th>Nationality</th>\n",
       "            <th>Successful Ascents</th>\n",
       "            <th>Failed Attempts</th>\n",
       "            <th>Date of First Ascent</th>\n",
       "            <th>Date of Last Ascent</th>\n",
       "        </tr>\n",
       "    </thead>\n",
       "    <tbody>\n",
       "        <tr>\n",
       "            <td>1101</td>\n",
       "            <td>Edmund Hillary</td>\n",
       "            <td>New Zealand</td>\n",
       "            <td>1</td>\n",
       "            <td>0</td>\n",
       "            <td>29 05 1953</td>\n",
       "            <td>29 05 1953</td>\n",
       "        </tr>\n",
       "        <tr>\n",
       "            <td>1102</td>\n",
       "            <td>Tenzing Norgay</td>\n",
       "            <td>Nepal</td>\n",
       "            <td>1</td>\n",
       "            <td>0</td>\n",
       "            <td>29 05 1953</td>\n",
       "            <td>29 05 1953</td>\n",
       "        </tr>\n",
       "        <tr>\n",
       "            <td>1103</td>\n",
       "            <td>Reinhold Messner</td>\n",
       "            <td>Italy</td>\n",
       "            <td>2</td>\n",
       "            <td>1</td>\n",
       "            <td>8 05 1978</td>\n",
       "            <td>8 05 1978</td>\n",
       "        </tr>\n",
       "        <tr>\n",
       "            <td>1104</td>\n",
       "            <td>Junko Tabei</td>\n",
       "            <td>Japan</td>\n",
       "            <td>1</td>\n",
       "            <td>1</td>\n",
       "            <td>16 05 1975</td>\n",
       "            <td>16 05 1975</td>\n",
       "        </tr>\n",
       "        <tr>\n",
       "            <td>1105</td>\n",
       "            <td>Apa Sherpa</td>\n",
       "            <td>Nepal</td>\n",
       "            <td>21</td>\n",
       "            <td>4</td>\n",
       "            <td>10 05 1990</td>\n",
       "            <td>11 05 2011</td>\n",
       "        </tr>\n",
       "    </tbody>\n",
       "</table>"
      ],
      "text/plain": [
       "[(1101, 'Edmund Hillary', 'New Zealand', 1, 0, '29 05 1953', '29 05 1953'),\n",
       " (1102, 'Tenzing Norgay', 'Nepal', 1, 0, '29 05 1953', '29 05 1953'),\n",
       " (1103, 'Reinhold Messner', 'Italy', 2, 1, '8 05 1978', '8 05 1978'),\n",
       " (1104, 'Junko Tabei', 'Japan', 1, 1, '16 05 1975', '16 05 1975'),\n",
       " (1105, 'Apa Sherpa', 'Nepal', 21, 4, '10 05 1990', '11 05 2011')]"
      ]
     },
     "execution_count": 6,
     "metadata": {},
     "output_type": "execute_result"
    }
   ],
   "source": [
    "%%sql\n",
    "SELECT * FROM climbers\n",
    "LIMIT 5;"
   ]
  },
  {
   "cell_type": "markdown",
   "id": "1gBTZ5NJXLi9",
   "metadata": {
    "id": "1gBTZ5NJXLi9"
   },
   "source": [
    "## Question 2: **Answer**"
   ]
  },
  {
   "cell_type": "code",
   "execution_count": 7,
   "id": "41465f74",
   "metadata": {
    "colab": {
     "base_uri": "https://localhost:8080/"
    },
    "executionInfo": {
     "elapsed": 51,
     "status": "ok",
     "timestamp": 1752851126513,
     "user": {
      "displayName": "Benjamin Bennett Alexander",
      "userId": "14614847693800833280"
     },
     "user_tz": -180
    },
    "id": "41465f74",
    "outputId": "de059b71-523b-43d2-9816-ed613c425c46"
   },
   "outputs": [
    {
     "name": "stdout",
     "output_type": "stream",
     "text": [
      " * sqlite:///climbers_records.db\n",
      "Done.\n"
     ]
    },
    {
     "data": {
      "text/plain": [
       "[]"
      ]
     },
     "execution_count": 7,
     "metadata": {},
     "output_type": "execute_result"
    }
   ],
   "source": [
    "%%sql\n",
    "CREATE TABLE IF NOT EXISTS climbers_copy AS\n",
    "SELECT *\n",
    "FROM climbers;"
   ]
  },
  {
   "cell_type": "markdown",
   "id": "383399b8",
   "metadata": {
    "id": "383399b8"
   },
   "source": [
    "## Questions 3: **Answer**"
   ]
  },
  {
   "cell_type": "code",
   "execution_count": 8,
   "id": "c6427939",
   "metadata": {
    "colab": {
     "base_uri": "https://localhost:8080/"
    },
    "executionInfo": {
     "elapsed": 13,
     "status": "ok",
     "timestamp": 1752851126530,
     "user": {
      "displayName": "Benjamin Bennett Alexander",
      "userId": "14614847693800833280"
     },
     "user_tz": -180
    },
    "id": "c6427939",
    "outputId": "1d7764b6-8f1b-41f8-d4b5-4e2057772652"
   },
   "outputs": [
    {
     "name": "stdout",
     "output_type": "stream",
     "text": [
      " * sqlite:///climbers_records.db\n",
      "Done.\n",
      "Done.\n",
      "Done.\n",
      "Done.\n",
      "Done.\n"
     ]
    },
    {
     "data": {
      "text/plain": [
       "[]"
      ]
     },
     "execution_count": 8,
     "metadata": {},
     "output_type": "execute_result"
    }
   ],
   "source": [
    "%%sql\n",
    "ALTER TABLE climbers_copy\n",
    "    RENAME COLUMN 'Climber Name' TO 'climber_name';\n",
    "\n",
    "ALTER TABLE climbers_copy\n",
    "    RENAME COLUMN 'Successful Ascents' TO 'successful_ascents';\n",
    "\n",
    "ALTER TABLE climbers_copy\n",
    "    RENAME COLUMN 'Failed Attempts' TO 'failed_attempts';\n",
    "\n",
    "ALTER TABLE climbers_copy\n",
    "    RENAME COLUMN 'Date of First Ascent' TO 'date_of_first_ascent';\n",
    "\n",
    "ALTER TABLE climbers_copy\n",
    "    RENAME COLUMN 'Date of Last Ascent' TO 'date_of_last_ascent';"
   ]
  },
  {
   "cell_type": "markdown",
   "id": "dbefee4c",
   "metadata": {
    "id": "dbefee4c"
   },
   "source": [
    "## Question 4: **Answer**"
   ]
  },
  {
   "cell_type": "code",
   "execution_count": 9,
   "id": "4dc041b9",
   "metadata": {
    "colab": {
     "base_uri": "https://localhost:8080/",
     "height": 177
    },
    "executionInfo": {
     "elapsed": 23,
     "status": "ok",
     "timestamp": 1752851126585,
     "user": {
      "displayName": "Benjamin Bennett Alexander",
      "userId": "14614847693800833280"
     },
     "user_tz": -180
    },
    "id": "4dc041b9",
    "outputId": "8284e7aa-cda3-4306-bdc0-43cf4f092a3c"
   },
   "outputs": [
    {
     "name": "stdout",
     "output_type": "stream",
     "text": [
      " * sqlite:///climbers_records.db\n",
      "Done.\n"
     ]
    },
    {
     "data": {
      "text/html": [
       "<table>\n",
       "    <thead>\n",
       "        <tr>\n",
       "            <th>Id</th>\n",
       "            <th>climber_name</th>\n",
       "            <th>duplicate_count</th>\n",
       "        </tr>\n",
       "    </thead>\n",
       "    <tbody>\n",
       "        <tr>\n",
       "            <td>1103</td>\n",
       "            <td>&nbsp;&nbsp;&nbsp;&nbsp;Reinhold Messner</td>\n",
       "            <td>&nbsp;&nbsp;&nbsp;&nbsp;&nbsp;&nbsp;&nbsp;&nbsp;&nbsp;&nbsp;&nbsp;&nbsp;&nbsp;&nbsp;&nbsp;&nbsp;&nbsp;&nbsp;&nbsp;2</td>\n",
       "        </tr>\n",
       "        <tr>\n",
       "            <td>1104</td>\n",
       "            <td>&nbsp;&nbsp;&nbsp;&nbsp;&nbsp;&nbsp;&nbsp;&nbsp;&nbsp;Junko Tabei</td>\n",
       "            <td>&nbsp;&nbsp;&nbsp;&nbsp;&nbsp;&nbsp;&nbsp;&nbsp;&nbsp;&nbsp;&nbsp;&nbsp;&nbsp;&nbsp;&nbsp;&nbsp;&nbsp;&nbsp;&nbsp;3</td>\n",
       "        </tr>\n",
       "        <tr>\n",
       "            <td>1105</td>\n",
       "            <td>&nbsp;&nbsp;&nbsp;&nbsp;&nbsp;&nbsp;&nbsp;&nbsp;&nbsp;&nbsp;Apa Sherpa</td>\n",
       "            <td>&nbsp;&nbsp;&nbsp;&nbsp;&nbsp;&nbsp;&nbsp;&nbsp;&nbsp;&nbsp;&nbsp;&nbsp;&nbsp;&nbsp;&nbsp;&nbsp;&nbsp;&nbsp;&nbsp;2</td>\n",
       "        </tr>\n",
       "        <tr>\n",
       "            <td>1106</td>\n",
       "            <td>&nbsp;&nbsp;&nbsp;&nbsp;&nbsp;&nbsp;&nbsp;&nbsp;Phurba Tashi</td>\n",
       "            <td>&nbsp;&nbsp;&nbsp;&nbsp;&nbsp;&nbsp;&nbsp;&nbsp;&nbsp;&nbsp;&nbsp;&nbsp;&nbsp;&nbsp;&nbsp;&nbsp;&nbsp;&nbsp;&nbsp;2</td>\n",
       "        </tr>\n",
       "        <tr>\n",
       "            <td>1107</td>\n",
       "            <td>&nbsp;&nbsp;Sir Edmund Hillary</td>\n",
       "            <td>&nbsp;&nbsp;&nbsp;&nbsp;&nbsp;&nbsp;&nbsp;&nbsp;&nbsp;&nbsp;&nbsp;&nbsp;&nbsp;&nbsp;&nbsp;&nbsp;&nbsp;&nbsp;&nbsp;3</td>\n",
       "        </tr>\n",
       "    </tbody>\n",
       "</table>"
      ],
      "text/plain": [
       "[(1103, '    Reinhold Messner', '                   2'),\n",
       " (1104, '         Junko Tabei', '                   3'),\n",
       " (1105, '          Apa Sherpa', '                   2'),\n",
       " (1106, '        Phurba Tashi', '                   2'),\n",
       " (1107, '  Sir Edmund Hillary', '                   3')]"
      ]
     },
     "execution_count": 9,
     "metadata": {},
     "output_type": "execute_result"
    }
   ],
   "source": [
    "%%sql\n",
    "SELECT\n",
    "    Id,\n",
    "    printf('%20s', climber_name) AS climber_name,\n",
    "    printf('%20s', COUNT(*)) AS duplicate_count\n",
    "FROM climbers_copy\n",
    "GROUP BY Id, climber_name\n",
    "HAVING COUNT(*) > 1;"
   ]
  },
  {
   "cell_type": "markdown",
   "id": "99f0c9e8",
   "metadata": {
    "id": "99f0c9e8"
   },
   "source": [
    "## Question 5: **Answer**"
   ]
  },
  {
   "cell_type": "code",
   "execution_count": 10,
   "id": "3e92aad4",
   "metadata": {
    "colab": {
     "base_uri": "https://localhost:8080/"
    },
    "executionInfo": {
     "elapsed": 20,
     "status": "ok",
     "timestamp": 1752851126610,
     "user": {
      "displayName": "Benjamin Bennett Alexander",
      "userId": "14614847693800833280"
     },
     "user_tz": -180
    },
    "id": "3e92aad4",
    "outputId": "b6c219c9-0b2f-496c-bf5f-d9b38379b483"
   },
   "outputs": [
    {
     "name": "stdout",
     "output_type": "stream",
     "text": [
      " * sqlite:///climbers_records.db\n",
      "Done.\n"
     ]
    },
    {
     "data": {
      "text/plain": [
       "[]"
      ]
     },
     "execution_count": 10,
     "metadata": {},
     "output_type": "execute_result"
    }
   ],
   "source": [
    "%%sql\n",
    "-- Step 1: Create a new table with unique rows using DISTINCT\n",
    "CREATE TABLE unique_values AS\n",
    "SELECT DISTINCT *\n",
    "FROM climbers_copy;"
   ]
  },
  {
   "cell_type": "code",
   "execution_count": 11,
   "id": "0a1d2864",
   "metadata": {
    "colab": {
     "base_uri": "https://localhost:8080/"
    },
    "executionInfo": {
     "elapsed": 96,
     "status": "ok",
     "timestamp": 1752851126709,
     "user": {
      "displayName": "Benjamin Bennett Alexander",
      "userId": "14614847693800833280"
     },
     "user_tz": -180
    },
    "id": "0a1d2864",
    "outputId": "1b75eedf-7c5a-40ff-8762-6fcbc920e2cd"
   },
   "outputs": [
    {
     "name": "stdout",
     "output_type": "stream",
     "text": [
      " * sqlite:///climbers_records.db\n",
      "Done.\n"
     ]
    },
    {
     "data": {
      "text/plain": [
       "[]"
      ]
     },
     "execution_count": 11,
     "metadata": {},
     "output_type": "execute_result"
    }
   ],
   "source": [
    "%%sql\n",
    "-- Step 2: Drop the original table\n",
    "DROP TABLE climbers_copy;"
   ]
  },
  {
   "cell_type": "code",
   "execution_count": 12,
   "id": "fbb20756",
   "metadata": {
    "colab": {
     "base_uri": "https://localhost:8080/"
    },
    "executionInfo": {
     "elapsed": 44,
     "status": "ok",
     "timestamp": 1752851126716,
     "user": {
      "displayName": "Benjamin Bennett Alexander",
      "userId": "14614847693800833280"
     },
     "user_tz": -180
    },
    "id": "fbb20756",
    "outputId": "1c52ee01-b6a8-4dc2-8742-3bf747c4b986"
   },
   "outputs": [
    {
     "name": "stdout",
     "output_type": "stream",
     "text": [
      " * sqlite:///climbers_records.db\n",
      "Done.\n"
     ]
    },
    {
     "data": {
      "text/plain": [
       "[]"
      ]
     },
     "execution_count": 12,
     "metadata": {},
     "output_type": "execute_result"
    }
   ],
   "source": [
    "%%sql\n",
    "-- Step 3: Rename the new table to the original table name\n",
    "ALTER TABLE unique_values RENAME TO climbers_copy;"
   ]
  },
  {
   "cell_type": "code",
   "execution_count": 13,
   "id": "40b45fb5",
   "metadata": {
    "colab": {
     "base_uri": "https://localhost:8080/",
     "height": 94
    },
    "executionInfo": {
     "elapsed": 34,
     "status": "ok",
     "timestamp": 1752851126718,
     "user": {
      "displayName": "Benjamin Bennett Alexander",
      "userId": "14614847693800833280"
     },
     "user_tz": -180
    },
    "id": "40b45fb5",
    "outputId": "e0902664-36d8-453a-ebd9-0c7c92837f5a"
   },
   "outputs": [
    {
     "name": "stdout",
     "output_type": "stream",
     "text": [
      " * sqlite:///climbers_records.db\n",
      "Done.\n"
     ]
    },
    {
     "data": {
      "text/html": [
       "<table>\n",
       "    <thead>\n",
       "        <tr>\n",
       "            <th>total_duplicates</th>\n",
       "        </tr>\n",
       "    </thead>\n",
       "    <tbody>\n",
       "        <tr>\n",
       "            <td>0</td>\n",
       "        </tr>\n",
       "    </tbody>\n",
       "</table>"
      ],
      "text/plain": [
       "[(0,)]"
      ]
     },
     "execution_count": 13,
     "metadata": {},
     "output_type": "execute_result"
    }
   ],
   "source": [
    "%%sql\n",
    "SELECT\n",
    "    COUNT(*) AS total_duplicates\n",
    "FROM (\n",
    "    SELECT\n",
    "        Id,\n",
    "        climber_name,\n",
    "        COUNT(*) AS duplicate_count\n",
    "    FROM climbers_copy\n",
    "    GROUP BY Id, climber_name\n",
    "    HAVING COUNT(*) > 1\n",
    ") AS duplicates;"
   ]
  },
  {
   "cell_type": "markdown",
   "id": "925902fb",
   "metadata": {
    "id": "925902fb"
   },
   "source": [
    "## Question 6: **Answer**"
   ]
  },
  {
   "cell_type": "code",
   "execution_count": 14,
   "id": "f3826708",
   "metadata": {
    "colab": {
     "base_uri": "https://localhost:8080/"
    },
    "executionInfo": {
     "elapsed": 110,
     "status": "ok",
     "timestamp": 1752851126829,
     "user": {
      "displayName": "Benjamin Bennett Alexander",
      "userId": "14614847693800833280"
     },
     "user_tz": -180
    },
    "id": "f3826708",
    "outputId": "a156c1a0-f524-4589-9826-4393ad1cbf9a"
   },
   "outputs": [
    {
     "name": "stdout",
     "output_type": "stream",
     "text": [
      " * sqlite:///climbers_records.db\n",
      "13 rows affected.\n"
     ]
    },
    {
     "data": {
      "text/plain": [
       "[]"
      ]
     },
     "execution_count": 14,
     "metadata": {},
     "output_type": "execute_result"
    }
   ],
   "source": [
    "%%sql\n",
    "UPDATE climbers_copy\n",
    "SET date_of_first_ascent = CASE\n",
    "                    -- Convert 'DD/MM/YYYY' to 'YYYY-MM-DD'\n",
    "                    WHEN date_of_first_ascent LIKE '__ __ ____'\n",
    "                THEN SUBSTR(date_of_first_ascent, 7, 4) || '-' ||\n",
    "                SUBSTR(date_of_first_ascent, 4, 2) || '-' ||\n",
    "                SUBSTR(date_of_first_ascent, 1, 2)\n",
    "\n",
    "                -- Convert 'D/MM/YYYY' to 'YYYY-MM-DD'\n",
    "                    WHEN date_of_first_ascent LIKE '_ __ ____'\n",
    "                THEN SUBSTR(date_of_first_ascent, 6, 4) || '-' ||\n",
    "                SUBSTR(date_of_first_ascent, 3, 2) || '-0' ||\n",
    "                SUBSTR(date_of_first_ascent, 1, 2)\n",
    "                ELSE date_of_first_ascent\n",
    "                END;  -- Leave unchanged"
   ]
  },
  {
   "cell_type": "code",
   "execution_count": 15,
   "id": "sLflfCwaHFp1",
   "metadata": {
    "colab": {
     "base_uri": "https://localhost:8080/"
    },
    "executionInfo": {
     "elapsed": 89,
     "status": "ok",
     "timestamp": 1752851126832,
     "user": {
      "displayName": "Benjamin Bennett Alexander",
      "userId": "14614847693800833280"
     },
     "user_tz": -180
    },
    "id": "sLflfCwaHFp1",
    "outputId": "5161d30f-9a82-482d-ddab-1f1ce86a9966"
   },
   "outputs": [
    {
     "name": "stdout",
     "output_type": "stream",
     "text": [
      " * sqlite:///climbers_records.db\n",
      "13 rows affected.\n"
     ]
    },
    {
     "data": {
      "text/plain": [
       "[]"
      ]
     },
     "execution_count": 15,
     "metadata": {},
     "output_type": "execute_result"
    }
   ],
   "source": [
    "%%sql\n",
    "UPDATE climbers_copy\n",
    "SET date_of_first_ascent = DATE(date_of_first_ascent);"
   ]
  },
  {
   "cell_type": "code",
   "execution_count": 16,
   "id": "iMDMVn4sVhkY",
   "metadata": {
    "colab": {
     "base_uri": "https://localhost:8080/",
     "height": 94
    },
    "executionInfo": {
     "elapsed": 35,
     "status": "ok",
     "timestamp": 1752851126835,
     "user": {
      "displayName": "Benjamin Bennett Alexander",
      "userId": "14614847693800833280"
     },
     "user_tz": -180
    },
    "id": "iMDMVn4sVhkY",
    "outputId": "de3ebcea-0c4c-4a3d-99b9-a5bd65ffabff"
   },
   "outputs": [
    {
     "name": "stdout",
     "output_type": "stream",
     "text": [
      " * sqlite:///climbers_records.db\n",
      "Done.\n"
     ]
    },
    {
     "data": {
      "text/html": [
       "<table>\n",
       "    <thead>\n",
       "        <tr>\n",
       "            <th>failed_to_convert</th>\n",
       "        </tr>\n",
       "    </thead>\n",
       "    <tbody>\n",
       "        <tr>\n",
       "            <td>0</td>\n",
       "        </tr>\n",
       "    </tbody>\n",
       "</table>"
      ],
      "text/plain": [
       "[(0,)]"
      ]
     },
     "execution_count": 16,
     "metadata": {},
     "output_type": "execute_result"
    }
   ],
   "source": [
    "%%sql\n",
    "SELECT COUNT(*) AS failed_to_convert\n",
    "FROM climbers_copy\n",
    "WHERE date_of_first_ascent IS NULL;"
   ]
  },
  {
   "cell_type": "code",
   "execution_count": 17,
   "id": "bb34f661",
   "metadata": {
    "colab": {
     "base_uri": "https://localhost:8080/"
    },
    "executionInfo": {
     "elapsed": 18,
     "status": "ok",
     "timestamp": 1752851126854,
     "user": {
      "displayName": "Benjamin Bennett Alexander",
      "userId": "14614847693800833280"
     },
     "user_tz": -180
    },
    "id": "bb34f661",
    "outputId": "5f45de00-33eb-4ccb-ee2f-b9516095b1d7"
   },
   "outputs": [
    {
     "name": "stdout",
     "output_type": "stream",
     "text": [
      " * sqlite:///climbers_records.db\n",
      "13 rows affected.\n"
     ]
    },
    {
     "data": {
      "text/plain": [
       "[]"
      ]
     },
     "execution_count": 17,
     "metadata": {},
     "output_type": "execute_result"
    }
   ],
   "source": [
    "%%sql\n",
    "UPDATE climbers_copy\n",
    "SET date_of_last_ascent = CASE\n",
    "                    -- Convert 'DD/MM/YYYY' to 'YYYY-MM-DD'\n",
    "                    WHEN date_of_last_ascent LIKE '__ __ ____'\n",
    "                THEN SUBSTR(date_of_last_ascent, 7, 4) || '-' ||\n",
    "                SUBSTR(date_of_last_ascent, 4, 2) || '-' ||\n",
    "                SUBSTR(date_of_last_ascent, 1, 2)\n",
    "\n",
    "                -- Convert 'D/MM/YYYY' to 'YYYY-MM-DD'\n",
    "                    WHEN date_of_last_ascent LIKE '_ __ ____'\n",
    "                THEN SUBSTR(date_of_last_ascent, 6, 4) || '-' ||\n",
    "                SUBSTR(date_of_last_ascent, 3, 2) || '-0' ||\n",
    "                SUBSTR(date_of_last_ascent, 1, 2)\n",
    "\n",
    "                ELSE date_of_last_ascent\n",
    "                END;  -- Leave unchanged"
   ]
  },
  {
   "cell_type": "code",
   "execution_count": 18,
   "id": "AaUFzpDoG5Q-",
   "metadata": {
    "colab": {
     "base_uri": "https://localhost:8080/"
    },
    "executionInfo": {
     "elapsed": 18,
     "status": "ok",
     "timestamp": 1752851126876,
     "user": {
      "displayName": "Benjamin Bennett Alexander",
      "userId": "14614847693800833280"
     },
     "user_tz": -180
    },
    "id": "AaUFzpDoG5Q-",
    "outputId": "c7e02be4-08c7-45ac-ddf1-39fc8f5ec778"
   },
   "outputs": [
    {
     "name": "stdout",
     "output_type": "stream",
     "text": [
      " * sqlite:///climbers_records.db\n",
      "13 rows affected.\n"
     ]
    },
    {
     "data": {
      "text/plain": [
       "[]"
      ]
     },
     "execution_count": 18,
     "metadata": {},
     "output_type": "execute_result"
    }
   ],
   "source": [
    "%%sql\n",
    "UPDATE climbers_copy\n",
    "SET date_of_last_ascent = DATE(date_of_last_ascent);"
   ]
  },
  {
   "cell_type": "code",
   "execution_count": 19,
   "id": "bqZEeMNLWU5i",
   "metadata": {
    "colab": {
     "base_uri": "https://localhost:8080/",
     "height": 94
    },
    "executionInfo": {
     "elapsed": 31,
     "status": "ok",
     "timestamp": 1752851126910,
     "user": {
      "displayName": "Benjamin Bennett Alexander",
      "userId": "14614847693800833280"
     },
     "user_tz": -180
    },
    "id": "bqZEeMNLWU5i",
    "outputId": "f6e26868-98eb-4303-f039-1f9466679f46"
   },
   "outputs": [
    {
     "name": "stdout",
     "output_type": "stream",
     "text": [
      " * sqlite:///climbers_records.db\n",
      "Done.\n"
     ]
    },
    {
     "data": {
      "text/html": [
       "<table>\n",
       "    <thead>\n",
       "        <tr>\n",
       "            <th>failed_to_convert</th>\n",
       "        </tr>\n",
       "    </thead>\n",
       "    <tbody>\n",
       "        <tr>\n",
       "            <td>0</td>\n",
       "        </tr>\n",
       "    </tbody>\n",
       "</table>"
      ],
      "text/plain": [
       "[(0,)]"
      ]
     },
     "execution_count": 19,
     "metadata": {},
     "output_type": "execute_result"
    }
   ],
   "source": [
    "%%sql\n",
    "SELECT COUNT(*) AS failed_to_convert\n",
    "FROM climbers_copy\n",
    "WHERE date_of_last_ascent IS NULL;"
   ]
  },
  {
   "cell_type": "code",
   "execution_count": 20,
   "id": "398fdc14",
   "metadata": {
    "colab": {
     "base_uri": "https://localhost:8080/",
     "height": 343
    },
    "executionInfo": {
     "elapsed": 19,
     "status": "ok",
     "timestamp": 1752851126932,
     "user": {
      "displayName": "Benjamin Bennett Alexander",
      "userId": "14614847693800833280"
     },
     "user_tz": -180
    },
    "id": "398fdc14",
    "outputId": "43aa5136-a8fc-4ff8-b087-069a412d7f21"
   },
   "outputs": [
    {
     "name": "stdout",
     "output_type": "stream",
     "text": [
      " * sqlite:///climbers_records.db\n",
      "Done.\n"
     ]
    },
    {
     "data": {
      "text/html": [
       "<table>\n",
       "    <thead>\n",
       "        <tr>\n",
       "            <th>Id</th>\n",
       "            <th>climber_name</th>\n",
       "            <th>Nationality</th>\n",
       "            <th>successful_ascents</th>\n",
       "            <th>failed_attempts</th>\n",
       "            <th>date_of_first_ascent</th>\n",
       "            <th>date_of_last_ascent</th>\n",
       "        </tr>\n",
       "    </thead>\n",
       "    <tbody>\n",
       "        <tr>\n",
       "            <td>1101</td>\n",
       "            <td>Edmund Hillary</td>\n",
       "            <td>New Zealand</td>\n",
       "            <td>1</td>\n",
       "            <td>0</td>\n",
       "            <td>1953-05-29</td>\n",
       "            <td>1953-05-29</td>\n",
       "        </tr>\n",
       "        <tr>\n",
       "            <td>1102</td>\n",
       "            <td>Tenzing Norgay</td>\n",
       "            <td>Nepal</td>\n",
       "            <td>1</td>\n",
       "            <td>0</td>\n",
       "            <td>1953-05-29</td>\n",
       "            <td>1953-05-29</td>\n",
       "        </tr>\n",
       "        <tr>\n",
       "            <td>1103</td>\n",
       "            <td>Reinhold Messner</td>\n",
       "            <td>Italy</td>\n",
       "            <td>2</td>\n",
       "            <td>1</td>\n",
       "            <td>1978-05-08</td>\n",
       "            <td>1978-05-08</td>\n",
       "        </tr>\n",
       "        <tr>\n",
       "            <td>1104</td>\n",
       "            <td>Junko Tabei</td>\n",
       "            <td>Japan</td>\n",
       "            <td>1</td>\n",
       "            <td>1</td>\n",
       "            <td>1975-05-16</td>\n",
       "            <td>1975-05-16</td>\n",
       "        </tr>\n",
       "        <tr>\n",
       "            <td>1105</td>\n",
       "            <td>Apa Sherpa</td>\n",
       "            <td>Nepal</td>\n",
       "            <td>21</td>\n",
       "            <td>4</td>\n",
       "            <td>1990-05-10</td>\n",
       "            <td>2011-05-11</td>\n",
       "        </tr>\n",
       "        <tr>\n",
       "            <td>1106</td>\n",
       "            <td>Phurba Tashi</td>\n",
       "            <td>Nepal</td>\n",
       "            <td>21</td>\n",
       "            <td>5</td>\n",
       "            <td>1990-05-10</td>\n",
       "            <td>2014-05-23</td>\n",
       "        </tr>\n",
       "        <tr>\n",
       "            <td>1107</td>\n",
       "            <td>Sir Edmund Hillary</td>\n",
       "            <td>New Zealand</td>\n",
       "            <td>1</td>\n",
       "            <td>0</td>\n",
       "            <td>1953-05-29</td>\n",
       "            <td>1953-05-29</td>\n",
       "        </tr>\n",
       "        <tr>\n",
       "            <td>1108</td>\n",
       "            <td>Tenzing Norgay</td>\n",
       "            <td>Nepal</td>\n",
       "            <td>1</td>\n",
       "            <td>0</td>\n",
       "            <td>1953-05-29</td>\n",
       "            <td>1953-05-29</td>\n",
       "        </tr>\n",
       "        <tr>\n",
       "            <td>1109</td>\n",
       "            <td>Reinhold Messner</td>\n",
       "            <td>Italy</td>\n",
       "            <td>2</td>\n",
       "            <td>1</td>\n",
       "            <td>1978-05-08</td>\n",
       "            <td>1978-05-08</td>\n",
       "        </tr>\n",
       "        <tr>\n",
       "            <td>1111</td>\n",
       "            <td>Apa Sherpa</td>\n",
       "            <td>Nepal</td>\n",
       "            <td>21</td>\n",
       "            <td>4</td>\n",
       "            <td>1990-05-10</td>\n",
       "            <td>2011-05-11</td>\n",
       "        </tr>\n",
       "        <tr>\n",
       "            <td>1112</td>\n",
       "            <td>Phurba Tashi</td>\n",
       "            <td>Nepal</td>\n",
       "            <td>21</td>\n",
       "            <td>5</td>\n",
       "            <td>1990-05-10</td>\n",
       "            <td>2014-05-23</td>\n",
       "        </tr>\n",
       "        <tr>\n",
       "            <td>1114</td>\n",
       "            <td>Tenzing Norgay</td>\n",
       "            <td>Nepal</td>\n",
       "            <td>1</td>\n",
       "            <td>0</td>\n",
       "            <td>1953-05-29</td>\n",
       "            <td>1953-05-29</td>\n",
       "        </tr>\n",
       "        <tr>\n",
       "            <td>1120</td>\n",
       "            <td>Tenzing Norgay</td>\n",
       "            <td>Nepal</td>\n",
       "            <td>1</td>\n",
       "            <td>0</td>\n",
       "            <td>1953-05-29</td>\n",
       "            <td>1953-05-29</td>\n",
       "        </tr>\n",
       "    </tbody>\n",
       "</table>"
      ],
      "text/plain": [
       "[(1101, 'Edmund Hillary', 'New Zealand', 1, 0, '1953-05-29', '1953-05-29'),\n",
       " (1102, 'Tenzing Norgay', 'Nepal', 1, 0, '1953-05-29', '1953-05-29'),\n",
       " (1103, 'Reinhold Messner', 'Italy', 2, 1, '1978-05-08', '1978-05-08'),\n",
       " (1104, 'Junko Tabei', 'Japan', 1, 1, '1975-05-16', '1975-05-16'),\n",
       " (1105, 'Apa Sherpa', 'Nepal', 21, 4, '1990-05-10', '2011-05-11'),\n",
       " (1106, 'Phurba Tashi', 'Nepal', 21, 5, '1990-05-10', '2014-05-23'),\n",
       " (1107, 'Sir Edmund Hillary', 'New Zealand', 1, 0, '1953-05-29', '1953-05-29'),\n",
       " (1108, 'Tenzing Norgay', 'Nepal', 1, 0, '1953-05-29', '1953-05-29'),\n",
       " (1109, 'Reinhold Messner', 'Italy', 2, 1, '1978-05-08', '1978-05-08'),\n",
       " (1111, 'Apa Sherpa', 'Nepal', 21, 4, '1990-05-10', '2011-05-11'),\n",
       " (1112, 'Phurba Tashi', 'Nepal', 21, 5, '1990-05-10', '2014-05-23'),\n",
       " (1114, 'Tenzing Norgay', 'Nepal', 1, 0, '1953-05-29', '1953-05-29'),\n",
       " (1120, 'Tenzing Norgay', 'Nepal', 1, 0, '1953-05-29', '1953-05-29')]"
      ]
     },
     "execution_count": 20,
     "metadata": {},
     "output_type": "execute_result"
    }
   ],
   "source": [
    "%%sql\n",
    "SELECT * FROM climbers_copy;"
   ]
  },
  {
   "cell_type": "markdown",
   "id": "c18487cf",
   "metadata": {
    "id": "c18487cf"
   },
   "source": [
    "## Question 7: **Answer**"
   ]
  },
  {
   "cell_type": "code",
   "execution_count": null,
   "id": "da1f3336",
   "metadata": {
    "colab": {
     "base_uri": "https://localhost:8080/"
    },
    "executionInfo": {
     "elapsed": 34,
     "status": "ok",
     "timestamp": 1752851126968,
     "user": {
      "displayName": "Benjamin Bennett Alexander",
      "userId": "14614847693800833280"
     },
     "user_tz": -180
    },
    "id": "da1f3336",
    "outputId": "c0b09db6-4ad3-44b1-978e-1fee4ddde81f"
   },
   "outputs": [
    {
     "name": "stdout",
     "output_type": "stream",
     "text": [
      " * sqlite:///climbers_records.db\n",
      "1 rows affected.\n"
     ]
    },
    {
     "data": {
      "text/plain": [
       "[]"
      ]
     },
     "execution_count": 21,
     "metadata": {},
     "output_type": "execute_result"
    }
   ],
   "source": [
    "%%sql\n",
    "UPDATE climbers_copy\n",
    "SET climber_name = REPLACE(climber_name, 'Sir', '')\n",
    "WHERE climber_name LIKE 'Sir%';"
   ]
  },
  {
   "cell_type": "code",
   "execution_count": null,
   "id": "T-FLdTsfhdl4",
   "metadata": {
    "colab": {
     "base_uri": "https://localhost:8080/",
     "height": 94
    },
    "executionInfo": {
     "elapsed": 80,
     "status": "ok",
     "timestamp": 1752851127053,
     "user": {
      "displayName": "Benjamin Bennett Alexander",
      "userId": "14614847693800833280"
     },
     "user_tz": -180
    },
    "id": "T-FLdTsfhdl4",
    "outputId": "5b3aefed-6f13-44de-e0c2-757a3d009371"
   },
   "outputs": [
    {
     "name": "stdout",
     "output_type": "stream",
     "text": [
      " * sqlite:///climbers_records.db\n",
      "Done.\n"
     ]
    },
    {
     "data": {
      "text/html": [
       "<table>\n",
       "    <thead>\n",
       "        <tr>\n",
       "            <th>count_of_sirs</th>\n",
       "        </tr>\n",
       "    </thead>\n",
       "    <tbody>\n",
       "        <tr>\n",
       "            <td>0</td>\n",
       "        </tr>\n",
       "    </tbody>\n",
       "</table>"
      ],
      "text/plain": [
       "[(0,)]"
      ]
     },
     "execution_count": 22,
     "metadata": {},
     "output_type": "execute_result"
    }
   ],
   "source": [
    "%%sql\n",
    "SELECT COUNT(*) AS count_of_sirs\n",
    "FROM climbers_copy\n",
    "WHERE climber_name LIKE 'Sir%';"
   ]
  },
  {
   "cell_type": "code",
   "execution_count": 23,
   "id": "07f5dcc7",
   "metadata": {
    "executionInfo": {
     "elapsed": 10,
     "status": "ok",
     "timestamp": 1752851127066,
     "user": {
      "displayName": "Benjamin Bennett Alexander",
      "userId": "14614847693800833280"
     },
     "user_tz": -180
    },
    "id": "07f5dcc7"
   },
   "outputs": [],
   "source": [
    "# %%sql\n",
    "# DROP TABLE climbers_copy;"
   ]
  }
 ],
 "metadata": {
  "colab": {
   "provenance": []
  },
  "kernelspec": {
   "display_name": "Python 3 (ipykernel)",
   "language": "python",
   "name": "python3"
  },
  "language_info": {
   "codemirror_mode": {
    "name": "ipython",
    "version": 3
   },
   "file_extension": ".py",
   "mimetype": "text/x-python",
   "name": "python",
   "nbconvert_exporter": "python",
   "pygments_lexer": "ipython3",
   "version": "3.10.5"
  }
 },
 "nbformat": 4,
 "nbformat_minor": 5
}

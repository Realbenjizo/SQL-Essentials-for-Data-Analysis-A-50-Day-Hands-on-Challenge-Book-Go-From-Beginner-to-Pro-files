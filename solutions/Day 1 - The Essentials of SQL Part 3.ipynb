{
 "cells": [
  {
   "cell_type": "code",
   "execution_count": 20,
   "id": "xGUxQHgfhjE0",
   "metadata": {
    "executionInfo": {
     "elapsed": 49,
     "status": "ok",
     "timestamp": 1753176418031,
     "user": {
      "displayName": "Benjamin Bennett Alexander",
      "userId": "14614847693800833280"
     },
     "user_tz": -180
    },
    "id": "xGUxQHgfhjE0"
   },
   "outputs": [],
   "source": [
    "import csv\n",
    "import sqlite3\n",
    "\n",
    "# Connect to SQLite database\n",
    "connection = sqlite3.connect('miscellaneous.db')\n",
    "# Create cursor object\n",
    "cursor = connection.cursor()"
   ]
  },
  {
   "cell_type": "code",
   "execution_count": 21,
   "id": "4db2dadf",
   "metadata": {
    "executionInfo": {
     "elapsed": 18,
     "status": "ok",
     "timestamp": 1753176421462,
     "user": {
      "displayName": "Benjamin Bennett Alexander",
      "userId": "14614847693800833280"
     },
     "user_tz": -180
    },
    "id": "4db2dadf"
   },
   "outputs": [],
   "source": [
    "cursor.execute('''\n",
    "                CREATE TABLE IF NOT EXISTS sales(\n",
    "                sales_id INTEGER PRIMARY KEY,\n",
    "                sales_person TEXT,\n",
    "                sales_amount REAL,\n",
    "                sales_date Date)\n",
    "                '''\n",
    ");"
   ]
  },
  {
   "cell_type": "code",
   "execution_count": null,
   "id": "eaf2935d",
   "metadata": {
    "executionInfo": {
     "elapsed": 76,
     "status": "ok",
     "timestamp": 1753176423809,
     "user": {
      "displayName": "Benjamin Bennett Alexander",
      "userId": "14614847693800833280"
     },
     "user_tz": -180
    },
    "id": "eaf2935d"
   },
   "outputs": [],
   "source": [
    "def add_data_to_database(data):\n",
    "    try:\n",
    "        # Connect to database\n",
    "        connection = sqlite3.connect('miscellaneous.db')\n",
    "        # Create cursor object\n",
    "        cursor = connection.cursor()\n",
    "        with open(data, 'r') as csv_file:\n",
    "            csv_reader = csv.reader(csv_file)\n",
    "            # Skip the header row\n",
    "            next(csv_reader)\n",
    "            # Insert data into the table\n",
    "            for row in csv_reader:\n",
    "                cursor.execute('INSERT INTO sales VALUES (?, ?, ?, ?)', row)\n",
    "            connection.commit()\n",
    "    except Exception as e:\n",
    "        print(f'Error: {e}')\n",
    "    finally:\n",
    "        # close the connection\n",
    "        connection.close()\n",
    "\n",
    "# Load CSV file\n",
    "data = \"/content/company_sales_data.csv\"\n",
    "add_data_to_database(data)"
   ]
  },
  {
   "cell_type": "code",
   "execution_count": 23,
   "id": "joCascfFjAuk",
   "metadata": {
    "colab": {
     "base_uri": "https://localhost:8080/"
    },
    "executionInfo": {
     "elapsed": 41,
     "status": "ok",
     "timestamp": 1753176428070,
     "user": {
      "displayName": "Benjamin Bennett Alexander",
      "userId": "14614847693800833280"
     },
     "user_tz": -180
    },
    "id": "joCascfFjAuk",
    "outputId": "7cff82c6-64fd-4d2e-ed89-5e8d65364464"
   },
   "outputs": [
    {
     "name": "stdout",
     "output_type": "stream",
     "text": [
      "The sql extension is already loaded. To reload it, use:\n",
      "  %reload_ext sql\n"
     ]
    }
   ],
   "source": [
    "# Loading the SQL magic\n",
    "%load_ext sql\n",
    "# Connecting to the SQLite database\n",
    "%sql sqlite:///miscellaneous.db"
   ]
  },
  {
   "cell_type": "code",
   "execution_count": 24,
   "id": "B6k7rcnzjRk0",
   "metadata": {
    "executionInfo": {
     "elapsed": 52,
     "status": "ok",
     "timestamp": 1753176431520,
     "user": {
      "displayName": "Benjamin Bennett Alexander",
      "userId": "14614847693800833280"
     },
     "user_tz": -180
    },
    "id": "B6k7rcnzjRk0"
   },
   "outputs": [],
   "source": [
    "%config SqlMagic.style = '_DEPRECATED_DEFAULT'"
   ]
  },
  {
   "cell_type": "code",
   "execution_count": 57,
   "id": "d225ebd1",
   "metadata": {
    "colab": {
     "base_uri": "https://localhost:8080/",
     "height": 177
    },
    "executionInfo": {
     "elapsed": 282,
     "status": "ok",
     "timestamp": 1753178495668,
     "user": {
      "displayName": "Benjamin Bennett Alexander",
      "userId": "14614847693800833280"
     },
     "user_tz": -180
    },
    "id": "d225ebd1",
    "outputId": "ddcdfcb8-fae6-432e-a380-6b0d19f754fb"
   },
   "outputs": [
    {
     "name": "stdout",
     "output_type": "stream",
     "text": [
      " * sqlite:///miscellaneous.db\n",
      "Done.\n"
     ]
    },
    {
     "data": {
      "text/html": [
       "<table>\n",
       "    <thead>\n",
       "        <tr>\n",
       "            <th>sales_id</th>\n",
       "            <th>sales_person</th>\n",
       "            <th>sales_amount</th>\n",
       "            <th>sales_date</th>\n",
       "        </tr>\n",
       "    </thead>\n",
       "    <tbody>\n",
       "        <tr>\n",
       "            <td>1</td>\n",
       "            <td>Giovanni Rossi</td>\n",
       "            <td>1500.5</td>\n",
       "            <td>2023-01-10 10:15:30</td>\n",
       "        </tr>\n",
       "        <tr>\n",
       "            <td>2</td>\n",
       "            <td>Yuki Nakamura</td>\n",
       "            <td>2300.75</td>\n",
       "            <td>2023-02-15 14:25:45</td>\n",
       "        </tr>\n",
       "        <tr>\n",
       "            <td>3</td>\n",
       "            <td>&nbsp;&nbsp;&nbsp;Anja MAAAller</td>\n",
       "            <td>1999.99</td>\n",
       "            <td>2023-03-20 09:10:00</td>\n",
       "        </tr>\n",
       "        <tr>\n",
       "            <td>4</td>\n",
       "            <td>Wei Zhang</td>\n",
       "            <td>3500.0</td>\n",
       "            <td>2023-04-25 16:45:20</td>\n",
       "        </tr>\n",
       "        <tr>\n",
       "            <td>5</td>\n",
       "            <td>&nbsp;&nbsp;&nbsp;&nbsp;Olivier Dubois</td>\n",
       "            <td>1200.0</td>\n",
       "            <td>2023-05-30 10:00:55</td>\n",
       "        </tr>\n",
       "    </tbody>\n",
       "</table>"
      ],
      "text/plain": [
       "[(1, 'Giovanni Rossi', 1500.5, '2023-01-10 10:15:30'),\n",
       " (2, 'Yuki Nakamura', 2300.75, '2023-02-15 14:25:45'),\n",
       " (3, '   Anja MAAAller', 1999.99, '2023-03-20 09:10:00'),\n",
       " (4, 'Wei Zhang', 3500.0, '2023-04-25 16:45:20'),\n",
       " (5, '    Olivier Dubois', 1200.0, '2023-05-30 10:00:55')]"
      ]
     },
     "execution_count": 57,
     "metadata": {},
     "output_type": "execute_result"
    }
   ],
   "source": [
    "%%sql\n",
    "SELECT * FROM sales\n",
    "LIMIT 5;"
   ]
  },
  {
   "cell_type": "code",
   "execution_count": 28,
   "id": "26c088c9",
   "metadata": {
    "colab": {
     "base_uri": "https://localhost:8080/",
     "height": 136
    },
    "executionInfo": {
     "elapsed": 57,
     "status": "ok",
     "timestamp": 1753176465112,
     "user": {
      "displayName": "Benjamin Bennett Alexander",
      "userId": "14614847693800833280"
     },
     "user_tz": -180
    },
    "id": "26c088c9",
    "outputId": "6170d87b-5af5-415a-99f8-89633d5dad22"
   },
   "outputs": [
    {
     "name": "stdout",
     "output_type": "stream",
     "text": [
      " * sqlite:///miscellaneous.db\n",
      "Done.\n"
     ]
    },
    {
     "data": {
      "text/html": [
       "<table>\n",
       "    <thead>\n",
       "        <tr>\n",
       "            <th>date</th>\n",
       "        </tr>\n",
       "    </thead>\n",
       "    <tbody>\n",
       "        <tr>\n",
       "            <td>2023-01-10</td>\n",
       "        </tr>\n",
       "        <tr>\n",
       "            <td>2023-02-15</td>\n",
       "        </tr>\n",
       "        <tr>\n",
       "            <td>2023-03-20</td>\n",
       "        </tr>\n",
       "    </tbody>\n",
       "</table>"
      ],
      "text/plain": [
       "[('2023-01-10',), ('2023-02-15',), ('2023-03-20',)]"
      ]
     },
     "execution_count": 28,
     "metadata": {},
     "output_type": "execute_result"
    }
   ],
   "source": [
    "%%sql\n",
    "SELECT DATE(sales_date) AS date\n",
    "FROM sales\n",
    "LIMIT 3;"
   ]
  },
  {
   "cell_type": "code",
   "execution_count": 29,
   "id": "c7623f97",
   "metadata": {
    "colab": {
     "base_uri": "https://localhost:8080/",
     "height": 94
    },
    "executionInfo": {
     "elapsed": 50,
     "status": "ok",
     "timestamp": 1753176487308,
     "user": {
      "displayName": "Benjamin Bennett Alexander",
      "userId": "14614847693800833280"
     },
     "user_tz": -180
    },
    "id": "c7623f97",
    "outputId": "217ea2c3-ea7f-4c5d-a206-b90fc920b46b"
   },
   "outputs": [
    {
     "name": "stdout",
     "output_type": "stream",
     "text": [
      " * sqlite:///miscellaneous.db\n",
      "Done.\n"
     ]
    },
    {
     "data": {
      "text/html": [
       "<table>\n",
       "    <thead>\n",
       "        <tr>\n",
       "            <th>sales_person</th>\n",
       "            <th>date_of_suspension</th>\n",
       "        </tr>\n",
       "    </thead>\n",
       "    <tbody>\n",
       "        <tr>\n",
       "            <td>Yuki Nakamura</td>\n",
       "            <td>2025-07-22</td>\n",
       "        </tr>\n",
       "    </tbody>\n",
       "</table>"
      ],
      "text/plain": [
       "[('Yuki Nakamura', '2025-07-22')]"
      ]
     },
     "execution_count": 29,
     "metadata": {},
     "output_type": "execute_result"
    }
   ],
   "source": [
    "%%sql\n",
    "SELECT sales_person, DATE('now') AS\n",
    "       date_of_suspension\n",
    "FROM sales\n",
    "WHERE sales_person = 'Yuki Nakamura';"
   ]
  },
  {
   "cell_type": "code",
   "execution_count": 30,
   "id": "e9384356",
   "metadata": {
    "colab": {
     "base_uri": "https://localhost:8080/",
     "height": 136
    },
    "executionInfo": {
     "elapsed": 91,
     "status": "ok",
     "timestamp": 1753176582724,
     "user": {
      "displayName": "Benjamin Bennett Alexander",
      "userId": "14614847693800833280"
     },
     "user_tz": -180
    },
    "id": "e9384356",
    "outputId": "4c1ec14b-d841-4b0c-c5f2-946a691d656a"
   },
   "outputs": [
    {
     "name": "stdout",
     "output_type": "stream",
     "text": [
      " * sqlite:///miscellaneous.db\n",
      "Done.\n"
     ]
    },
    {
     "data": {
      "text/html": [
       "<table>\n",
       "    <thead>\n",
       "        <tr>\n",
       "            <th>sales_id</th>\n",
       "            <th>sales_person</th>\n",
       "            <th>sales_amount</th>\n",
       "            <th>updated_date</th>\n",
       "        </tr>\n",
       "    </thead>\n",
       "    <tbody>\n",
       "        <tr>\n",
       "            <td>1</td>\n",
       "            <td>Giovanni Rossi</td>\n",
       "            <td>1500.5</td>\n",
       "            <td>2024-01-10</td>\n",
       "        </tr>\n",
       "        <tr>\n",
       "            <td>2</td>\n",
       "            <td>Yuki Nakamura</td>\n",
       "            <td>2300.75</td>\n",
       "            <td>2024-02-15</td>\n",
       "        </tr>\n",
       "        <tr>\n",
       "            <td>3</td>\n",
       "            <td>&nbsp;&nbsp;&nbsp;Anja MAAAller</td>\n",
       "            <td>1999.99</td>\n",
       "            <td>2024-03-20</td>\n",
       "        </tr>\n",
       "    </tbody>\n",
       "</table>"
      ],
      "text/plain": [
       "[(1, 'Giovanni Rossi', 1500.5, '2024-01-10'),\n",
       " (2, 'Yuki Nakamura', 2300.75, '2024-02-15'),\n",
       " (3, '   Anja MAAAller', 1999.99, '2024-03-20')]"
      ]
     },
     "execution_count": 30,
     "metadata": {},
     "output_type": "execute_result"
    }
   ],
   "source": [
    "%%sql\n",
    "SELECT\n",
    "    sales_id,\n",
    "    sales_person,\n",
    "    sales_amount,\n",
    "    DATE(sales_date, '+1 year') AS updated_date\n",
    "FROM sales\n",
    "LIMIT 3;"
   ]
  },
  {
   "cell_type": "code",
   "execution_count": 31,
   "id": "376QYiRyGUbu",
   "metadata": {
    "colab": {
     "base_uri": "https://localhost:8080/",
     "height": 136
    },
    "executionInfo": {
     "elapsed": 624,
     "status": "ok",
     "timestamp": 1753176588408,
     "user": {
      "displayName": "Benjamin Bennett Alexander",
      "userId": "14614847693800833280"
     },
     "user_tz": -180
    },
    "id": "376QYiRyGUbu",
    "outputId": "e12e8a38-28f9-47af-eb96-d32e98a6221d"
   },
   "outputs": [
    {
     "name": "stdout",
     "output_type": "stream",
     "text": [
      " * sqlite:///miscellaneous.db\n",
      "Done.\n"
     ]
    },
    {
     "data": {
      "text/html": [
       "<table>\n",
       "    <thead>\n",
       "        <tr>\n",
       "            <th>sales_id</th>\n",
       "            <th>sales_person</th>\n",
       "            <th>sales_amount</th>\n",
       "            <th>updated_sales_date</th>\n",
       "        </tr>\n",
       "    </thead>\n",
       "    <tbody>\n",
       "        <tr>\n",
       "            <td>1</td>\n",
       "            <td>Giovanni Rossi</td>\n",
       "            <td>1500.5</td>\n",
       "            <td>2022-07-10</td>\n",
       "        </tr>\n",
       "        <tr>\n",
       "            <td>2</td>\n",
       "            <td>Yuki Nakamura</td>\n",
       "            <td>2300.75</td>\n",
       "            <td>2022-08-15</td>\n",
       "        </tr>\n",
       "        <tr>\n",
       "            <td>3</td>\n",
       "            <td>&nbsp;&nbsp;&nbsp;Anja MAAAller</td>\n",
       "            <td>1999.99</td>\n",
       "            <td>2022-09-20</td>\n",
       "        </tr>\n",
       "    </tbody>\n",
       "</table>"
      ],
      "text/plain": [
       "[(1, 'Giovanni Rossi', 1500.5, '2022-07-10'),\n",
       " (2, 'Yuki Nakamura', 2300.75, '2022-08-15'),\n",
       " (3, '   Anja MAAAller', 1999.99, '2022-09-20')]"
      ]
     },
     "execution_count": 31,
     "metadata": {},
     "output_type": "execute_result"
    }
   ],
   "source": [
    "%%sql\n",
    "SELECT\n",
    "    sales_id,\n",
    "    sales_person,\n",
    "    sales_amount,\n",
    "    DATE(sales_date, '-6 months') AS updated_sales_date\n",
    "FROM sales\n",
    "LIMIT 3;"
   ]
  },
  {
   "cell_type": "code",
   "execution_count": 32,
   "id": "f4cd90d3",
   "metadata": {
    "colab": {
     "base_uri": "https://localhost:8080/",
     "height": 94
    },
    "executionInfo": {
     "elapsed": 96,
     "status": "ok",
     "timestamp": 1753176595391,
     "user": {
      "displayName": "Benjamin Bennett Alexander",
      "userId": "14614847693800833280"
     },
     "user_tz": -180
    },
    "id": "f4cd90d3",
    "outputId": "24dc3a7e-a215-46f1-d7e8-0f97b59ca6e3"
   },
   "outputs": [
    {
     "name": "stdout",
     "output_type": "stream",
     "text": [
      " * sqlite:///miscellaneous.db\n",
      "Done.\n"
     ]
    },
    {
     "data": {
      "text/html": [
       "<table>\n",
       "    <thead>\n",
       "        <tr>\n",
       "            <th>difference_between_dates</th>\n",
       "        </tr>\n",
       "    </thead>\n",
       "    <tbody>\n",
       "        <tr>\n",
       "            <td>69.0</td>\n",
       "        </tr>\n",
       "    </tbody>\n",
       "</table>"
      ],
      "text/plain": [
       "[(69.0,)]"
      ]
     },
     "execution_count": 32,
     "metadata": {},
     "output_type": "execute_result"
    }
   ],
   "source": [
    "%%sql\n",
    "SELECT JULIANDAY('2023-03-20') - JULIANDAY('2023-01-10')\n",
    "AS difference_between_dates;"
   ]
  },
  {
   "cell_type": "code",
   "execution_count": 33,
   "id": "0bfb07b6",
   "metadata": {
    "colab": {
     "base_uri": "https://localhost:8080/",
     "height": 115
    },
    "executionInfo": {
     "elapsed": 66,
     "status": "ok",
     "timestamp": 1753176600919,
     "user": {
      "displayName": "Benjamin Bennett Alexander",
      "userId": "14614847693800833280"
     },
     "user_tz": -180
    },
    "id": "0bfb07b6",
    "outputId": "2d8b0db7-2453-44b9-ac00-f59d26ce64df"
   },
   "outputs": [
    {
     "name": "stdout",
     "output_type": "stream",
     "text": [
      " * sqlite:///miscellaneous.db\n",
      "Done.\n"
     ]
    },
    {
     "data": {
      "text/html": [
       "<table>\n",
       "    <thead>\n",
       "        <tr>\n",
       "            <th>year</th>\n",
       "        </tr>\n",
       "    </thead>\n",
       "    <tbody>\n",
       "        <tr>\n",
       "            <td>2023</td>\n",
       "        </tr>\n",
       "        <tr>\n",
       "            <td>2023</td>\n",
       "        </tr>\n",
       "    </tbody>\n",
       "</table>"
      ],
      "text/plain": [
       "[('2023',), ('2023',)]"
      ]
     },
     "execution_count": 33,
     "metadata": {},
     "output_type": "execute_result"
    }
   ],
   "source": [
    "%%sql\n",
    "SELECT STRFTIME('%Y', sales_date) AS year\n",
    "FROM sales\n",
    "LIMIT 2;"
   ]
  },
  {
   "cell_type": "code",
   "execution_count": 34,
   "id": "8bb24407",
   "metadata": {
    "colab": {
     "base_uri": "https://localhost:8080/",
     "height": 115
    },
    "executionInfo": {
     "elapsed": 46,
     "status": "ok",
     "timestamp": 1753176603379,
     "user": {
      "displayName": "Benjamin Bennett Alexander",
      "userId": "14614847693800833280"
     },
     "user_tz": -180
    },
    "id": "8bb24407",
    "outputId": "493f9f3a-7909-4ba4-e7e7-a2a81d59902c"
   },
   "outputs": [
    {
     "name": "stdout",
     "output_type": "stream",
     "text": [
      " * sqlite:///miscellaneous.db\n",
      "Done.\n"
     ]
    },
    {
     "data": {
      "text/html": [
       "<table>\n",
       "    <thead>\n",
       "        <tr>\n",
       "            <th>month</th>\n",
       "        </tr>\n",
       "    </thead>\n",
       "    <tbody>\n",
       "        <tr>\n",
       "            <td>01</td>\n",
       "        </tr>\n",
       "        <tr>\n",
       "            <td>02</td>\n",
       "        </tr>\n",
       "    </tbody>\n",
       "</table>"
      ],
      "text/plain": [
       "[('01',), ('02',)]"
      ]
     },
     "execution_count": 34,
     "metadata": {},
     "output_type": "execute_result"
    }
   ],
   "source": [
    "%%sql\n",
    "SELECT STRFTIME('%m', sales_date) AS month\n",
    "FROM sales\n",
    "LIMIT 2;"
   ]
  },
  {
   "cell_type": "code",
   "execution_count": 35,
   "id": "6aa2f44c",
   "metadata": {
    "colab": {
     "base_uri": "https://localhost:8080/",
     "height": 115
    },
    "executionInfo": {
     "elapsed": 55,
     "status": "ok",
     "timestamp": 1753176623544,
     "user": {
      "displayName": "Benjamin Bennett Alexander",
      "userId": "14614847693800833280"
     },
     "user_tz": -180
    },
    "id": "6aa2f44c",
    "outputId": "ba5a0bcc-5395-448f-a3d2-7263946f7cb2"
   },
   "outputs": [
    {
     "name": "stdout",
     "output_type": "stream",
     "text": [
      " * sqlite:///miscellaneous.db\n",
      "Done.\n"
     ]
    },
    {
     "data": {
      "text/html": [
       "<table>\n",
       "    <thead>\n",
       "        <tr>\n",
       "            <th>time</th>\n",
       "        </tr>\n",
       "    </thead>\n",
       "    <tbody>\n",
       "        <tr>\n",
       "            <td>10:15:30</td>\n",
       "        </tr>\n",
       "        <tr>\n",
       "            <td>14:25:45</td>\n",
       "        </tr>\n",
       "    </tbody>\n",
       "</table>"
      ],
      "text/plain": [
       "[('10:15:30',), ('14:25:45',)]"
      ]
     },
     "execution_count": 35,
     "metadata": {},
     "output_type": "execute_result"
    }
   ],
   "source": [
    "%%sql\n",
    "SELECT STRFTIME('%H:%M:%S', sales_date) AS time\n",
    "FROM sales\n",
    "LIMIT 2;"
   ]
  },
  {
   "cell_type": "code",
   "execution_count": 36,
   "id": "4923b0a1",
   "metadata": {
    "colab": {
     "base_uri": "https://localhost:8080/",
     "height": 115
    },
    "executionInfo": {
     "elapsed": 313,
     "status": "ok",
     "timestamp": 1753176636438,
     "user": {
      "displayName": "Benjamin Bennett Alexander",
      "userId": "14614847693800833280"
     },
     "user_tz": -180
    },
    "id": "4923b0a1",
    "outputId": "c88179cb-cc7b-4272-a5f2-7d995756239e"
   },
   "outputs": [
    {
     "name": "stdout",
     "output_type": "stream",
     "text": [
      " * sqlite:///miscellaneous.db\n",
      "Done.\n"
     ]
    },
    {
     "data": {
      "text/html": [
       "<table>\n",
       "    <thead>\n",
       "        <tr>\n",
       "            <th>date</th>\n",
       "        </tr>\n",
       "    </thead>\n",
       "    <tbody>\n",
       "        <tr>\n",
       "            <td>01-10-2023</td>\n",
       "        </tr>\n",
       "        <tr>\n",
       "            <td>02-15-2023</td>\n",
       "        </tr>\n",
       "    </tbody>\n",
       "</table>"
      ],
      "text/plain": [
       "[('01-10-2023',), ('02-15-2023',)]"
      ]
     },
     "execution_count": 36,
     "metadata": {},
     "output_type": "execute_result"
    }
   ],
   "source": [
    "%%sql\n",
    "SELECT STRFTIME('%m-%d-%Y', sales_date) AS date\n",
    "FROM sales\n",
    "LIMIT 2;"
   ]
  },
  {
   "cell_type": "code",
   "execution_count": 37,
   "id": "836ca869",
   "metadata": {
    "colab": {
     "base_uri": "https://localhost:8080/",
     "height": 156
    },
    "executionInfo": {
     "elapsed": 67,
     "status": "ok",
     "timestamp": 1753176641490,
     "user": {
      "displayName": "Benjamin Bennett Alexander",
      "userId": "14614847693800833280"
     },
     "user_tz": -180
    },
    "id": "836ca869",
    "outputId": "51e3e360-bca5-454e-f9bf-5fddabffa84a"
   },
   "outputs": [
    {
     "name": "stdout",
     "output_type": "stream",
     "text": [
      " * sqlite:///miscellaneous.db\n",
      "Done.\n"
     ]
    },
    {
     "data": {
      "text/html": [
       "<table>\n",
       "    <thead>\n",
       "        <tr>\n",
       "            <th>sales_id</th>\n",
       "            <th>sales_person</th>\n",
       "            <th>sales_amount</th>\n",
       "            <th>sales_date</th>\n",
       "        </tr>\n",
       "    </thead>\n",
       "    <tbody>\n",
       "        <tr>\n",
       "            <td>2</td>\n",
       "            <td>Yuki Nakamura</td>\n",
       "            <td>2300.75</td>\n",
       "            <td>2023-02-15 14:25:45</td>\n",
       "        </tr>\n",
       "        <tr>\n",
       "            <td>3</td>\n",
       "            <td>&nbsp;&nbsp;&nbsp;Anja MAAAller</td>\n",
       "            <td>1999.99</td>\n",
       "            <td>2023-03-20 09:10:00</td>\n",
       "        </tr>\n",
       "        <tr>\n",
       "            <td>4</td>\n",
       "            <td>Wei Zhang</td>\n",
       "            <td>3500.0</td>\n",
       "            <td>2023-04-25 16:45:20</td>\n",
       "        </tr>\n",
       "        <tr>\n",
       "            <td>5</td>\n",
       "            <td>&nbsp;&nbsp;&nbsp;&nbsp;Olivier Dubois</td>\n",
       "            <td>1200.0</td>\n",
       "            <td>2023-05-30 10:00:55</td>\n",
       "        </tr>\n",
       "    </tbody>\n",
       "</table>"
      ],
      "text/plain": [
       "[(2, 'Yuki Nakamura', 2300.75, '2023-02-15 14:25:45'),\n",
       " (3, '   Anja MAAAller', 1999.99, '2023-03-20 09:10:00'),\n",
       " (4, 'Wei Zhang', 3500.0, '2023-04-25 16:45:20'),\n",
       " (5, '    Olivier Dubois', 1200.0, '2023-05-30 10:00:55')]"
      ]
     },
     "execution_count": 37,
     "metadata": {},
     "output_type": "execute_result"
    }
   ],
   "source": [
    "%%sql\n",
    "SELECT * FROM sales\n",
    "WHERE STRFTIME('%Y-%m-%d', sales_date)\n",
    "BETWEEN DATE('2023-02-15') AND DATE('2023-05-30');"
   ]
  },
  {
   "cell_type": "code",
   "execution_count": 42,
   "id": "128e08fd",
   "metadata": {
    "colab": {
     "base_uri": "https://localhost:8080/",
     "height": 94
    },
    "executionInfo": {
     "elapsed": 45,
     "status": "ok",
     "timestamp": 1753177085134,
     "user": {
      "displayName": "Benjamin Bennett Alexander",
      "userId": "14614847693800833280"
     },
     "user_tz": -180
    },
    "id": "128e08fd",
    "outputId": "833f7421-1eba-438b-90bd-eceee02d88cc"
   },
   "outputs": [
    {
     "name": "stdout",
     "output_type": "stream",
     "text": [
      " * sqlite:///miscellaneous.db\n",
      "Done.\n"
     ]
    },
    {
     "data": {
      "text/html": [
       "<table>\n",
       "    <thead>\n",
       "        <tr>\n",
       "            <th>sales_person</th>\n",
       "            <th>num_of_characters_in_name</th>\n",
       "        </tr>\n",
       "    </thead>\n",
       "    <tbody>\n",
       "        <tr>\n",
       "            <td>&nbsp;&nbsp;&nbsp;&nbsp;Olivier Dubois</td>\n",
       "            <td>18</td>\n",
       "        </tr>\n",
       "    </tbody>\n",
       "</table>"
      ],
      "text/plain": [
       "[('    Olivier Dubois', 18)]"
      ]
     },
     "execution_count": 42,
     "metadata": {},
     "output_type": "execute_result"
    }
   ],
   "source": [
    "%%sql\n",
    "SELECT\n",
    "    sales_person,\n",
    "    LENGTH(sales_person) AS num_of_characters_in_name\n",
    "FROM sales\n",
    "ORDER BY num_of_characters_in_name DESC\n",
    "LIMIT 1;"
   ]
  },
  {
   "cell_type": "code",
   "execution_count": 43,
   "id": "54d43008",
   "metadata": {
    "colab": {
     "base_uri": "https://localhost:8080/",
     "height": 281
    },
    "executionInfo": {
     "elapsed": 51,
     "status": "ok",
     "timestamp": 1753177179016,
     "user": {
      "displayName": "Benjamin Bennett Alexander",
      "userId": "14614847693800833280"
     },
     "user_tz": -180
    },
    "id": "54d43008",
    "outputId": "3e543186-e461-4a7b-98af-0e2252718199"
   },
   "outputs": [
    {
     "name": "stdout",
     "output_type": "stream",
     "text": [
      " * sqlite:///miscellaneous.db\n",
      "Done.\n"
     ]
    },
    {
     "data": {
      "text/html": [
       "<table>\n",
       "    <thead>\n",
       "        <tr>\n",
       "            <th>sales_person</th>\n",
       "            <th>has_leading_trailing_whitespace</th>\n",
       "        </tr>\n",
       "    </thead>\n",
       "    <tbody>\n",
       "        <tr>\n",
       "            <td>Giovanni Rossi</td>\n",
       "            <td>0</td>\n",
       "        </tr>\n",
       "        <tr>\n",
       "            <td>Yuki Nakamura</td>\n",
       "            <td>0</td>\n",
       "        </tr>\n",
       "        <tr>\n",
       "            <td>&nbsp;&nbsp;&nbsp;Anja MAAAller</td>\n",
       "            <td>1</td>\n",
       "        </tr>\n",
       "        <tr>\n",
       "            <td>Wei Zhang</td>\n",
       "            <td>0</td>\n",
       "        </tr>\n",
       "        <tr>\n",
       "            <td>&nbsp;&nbsp;&nbsp;&nbsp;Olivier Dubois</td>\n",
       "            <td>1</td>\n",
       "        </tr>\n",
       "        <tr>\n",
       "            <td>Aditi Sharma</td>\n",
       "            <td>0</td>\n",
       "        </tr>\n",
       "        <tr>\n",
       "            <td>JAAArgen Schneider</td>\n",
       "            <td>0</td>\n",
       "        </tr>\n",
       "        <tr>\n",
       "            <td>&nbsp;&nbsp;&nbsp;&nbsp;Min-Soo Kim</td>\n",
       "            <td>1</td>\n",
       "        </tr>\n",
       "        <tr>\n",
       "            <td>Katarzyna Nowak</td>\n",
       "            <td>0</td>\n",
       "        </tr>\n",
       "        <tr>\n",
       "            <td>Hiroshi Tanaka</td>\n",
       "            <td>0</td>\n",
       "        </tr>\n",
       "    </tbody>\n",
       "</table>"
      ],
      "text/plain": [
       "[('Giovanni Rossi', 0),\n",
       " ('Yuki Nakamura', 0),\n",
       " ('   Anja MAAAller', 1),\n",
       " ('Wei Zhang', 0),\n",
       " ('    Olivier Dubois', 1),\n",
       " ('Aditi Sharma', 0),\n",
       " ('JAAArgen Schneider', 0),\n",
       " ('    Min-Soo Kim', 1),\n",
       " ('Katarzyna Nowak', 0),\n",
       " ('Hiroshi Tanaka', 0)]"
      ]
     },
     "execution_count": 43,
     "metadata": {},
     "output_type": "execute_result"
    }
   ],
   "source": [
    "%%sql\n",
    "SELECT\n",
    "    sales_person,\n",
    "    LENGTH(TRIM(sales_person)) <> LENGTH(Sales_person)\n",
    "    AS has_leading_trailing_whitespace\n",
    "FROM sales;"
   ]
  },
  {
   "cell_type": "code",
   "execution_count": 44,
   "id": "84bdb035",
   "metadata": {
    "colab": {
     "base_uri": "https://localhost:8080/",
     "height": 136
    },
    "executionInfo": {
     "elapsed": 55,
     "status": "ok",
     "timestamp": 1753177237569,
     "user": {
      "displayName": "Benjamin Bennett Alexander",
      "userId": "14614847693800833280"
     },
     "user_tz": -180
    },
    "id": "84bdb035",
    "outputId": "dd35af8d-e4d0-42be-affe-a6a4a2fb6517"
   },
   "outputs": [
    {
     "name": "stdout",
     "output_type": "stream",
     "text": [
      " * sqlite:///miscellaneous.db\n",
      "Done.\n"
     ]
    },
    {
     "data": {
      "text/html": [
       "<table>\n",
       "    <thead>\n",
       "        <tr>\n",
       "            <th>names_in_uppercase</th>\n",
       "        </tr>\n",
       "    </thead>\n",
       "    <tbody>\n",
       "        <tr>\n",
       "            <td>GIOVANNI ROSSI</td>\n",
       "        </tr>\n",
       "        <tr>\n",
       "            <td>YUKI NAKAMURA</td>\n",
       "        </tr>\n",
       "        <tr>\n",
       "            <td>&nbsp;&nbsp;&nbsp;ANJA MAAALLER</td>\n",
       "        </tr>\n",
       "    </tbody>\n",
       "</table>"
      ],
      "text/plain": [
       "[('GIOVANNI ROSSI',), ('YUKI NAKAMURA',), ('   ANJA MAAALLER',)]"
      ]
     },
     "execution_count": 44,
     "metadata": {},
     "output_type": "execute_result"
    }
   ],
   "source": [
    "%%sql\n",
    "SELECT\n",
    "    UPPER(sales_person) AS names_in_uppercase\n",
    "FROM sales\n",
    "LIMIT 3;"
   ]
  },
  {
   "cell_type": "code",
   "execution_count": 45,
   "id": "9be2d36f",
   "metadata": {
    "colab": {
     "base_uri": "https://localhost:8080/",
     "height": 136
    },
    "executionInfo": {
     "elapsed": 57,
     "status": "ok",
     "timestamp": 1753177317766,
     "user": {
      "displayName": "Benjamin Bennett Alexander",
      "userId": "14614847693800833280"
     },
     "user_tz": -180
    },
    "id": "9be2d36f",
    "outputId": "eaf15239-5d18-4406-c90a-ab4a3b897951"
   },
   "outputs": [
    {
     "name": "stdout",
     "output_type": "stream",
     "text": [
      " * sqlite:///miscellaneous.db\n",
      "Done.\n"
     ]
    },
    {
     "data": {
      "text/html": [
       "<table>\n",
       "    <thead>\n",
       "        <tr>\n",
       "            <th>names_in_lowercase</th>\n",
       "        </tr>\n",
       "    </thead>\n",
       "    <tbody>\n",
       "        <tr>\n",
       "            <td>giovanni rossi</td>\n",
       "        </tr>\n",
       "        <tr>\n",
       "            <td>yuki nakamura</td>\n",
       "        </tr>\n",
       "        <tr>\n",
       "            <td>&nbsp;&nbsp;&nbsp;anja maaaller</td>\n",
       "        </tr>\n",
       "    </tbody>\n",
       "</table>"
      ],
      "text/plain": [
       "[('giovanni rossi',), ('yuki nakamura',), ('   anja maaaller',)]"
      ]
     },
     "execution_count": 45,
     "metadata": {},
     "output_type": "execute_result"
    }
   ],
   "source": [
    "%%sql\n",
    "SELECT\n",
    "    LOWER(sales_person) AS names_in_lowercase\n",
    "FROM sales\n",
    "LIMIT 3;"
   ]
  },
  {
   "cell_type": "code",
   "execution_count": 19,
   "id": "kGSEYjI9dG1N",
   "metadata": {
    "colab": {
     "base_uri": "https://localhost:8080/"
    },
    "executionInfo": {
     "elapsed": 83,
     "status": "ok",
     "timestamp": 1753176400963,
     "user": {
      "displayName": "Benjamin Bennett Alexander",
      "userId": "14614847693800833280"
     },
     "user_tz": -180
    },
    "id": "kGSEYjI9dG1N",
    "outputId": "83a3a836-51e3-44cf-eb49-72523eaa903d"
   },
   "outputs": [
    {
     "name": "stdout",
     "output_type": "stream",
     "text": [
      " * sqlite:///miscellaneous.db\n",
      "Done.\n"
     ]
    },
    {
     "data": {
      "text/plain": [
       "[]"
      ]
     },
     "execution_count": 19,
     "metadata": {},
     "output_type": "execute_result"
    }
   ],
   "source": [
    "# %%sql\n",
    "# DROP TABLE sales;"
   ]
  },
  {
   "cell_type": "code",
   "execution_count": 46,
   "id": "03446670",
   "metadata": {
    "colab": {
     "base_uri": "https://localhost:8080/",
     "height": 136
    },
    "executionInfo": {
     "elapsed": 95,
     "status": "ok",
     "timestamp": 1753177350221,
     "user": {
      "displayName": "Benjamin Bennett Alexander",
      "userId": "14614847693800833280"
     },
     "user_tz": -180
    },
    "id": "03446670",
    "outputId": "ca05982c-66d2-4e08-a146-8d163e03ba68"
   },
   "outputs": [
    {
     "name": "stdout",
     "output_type": "stream",
     "text": [
      " * sqlite:///miscellaneous.db\n",
      "Done.\n"
     ]
    },
    {
     "data": {
      "text/html": [
       "<table>\n",
       "    <thead>\n",
       "        <tr>\n",
       "            <th>name_with_no_space</th>\n",
       "        </tr>\n",
       "    </thead>\n",
       "    <tbody>\n",
       "        <tr>\n",
       "            <td>GiovanniRossi</td>\n",
       "        </tr>\n",
       "        <tr>\n",
       "            <td>YukiNakamura</td>\n",
       "        </tr>\n",
       "        <tr>\n",
       "            <td>AnjaMAAAller</td>\n",
       "        </tr>\n",
       "    </tbody>\n",
       "</table>"
      ],
      "text/plain": [
       "[('GiovanniRossi',), ('YukiNakamura',), ('AnjaMAAAller',)]"
      ]
     },
     "execution_count": 46,
     "metadata": {},
     "output_type": "execute_result"
    }
   ],
   "source": [
    "%%sql\n",
    "SELECT\n",
    "    REPLACE(sales_person, ' ', '')\n",
    "    AS name_with_no_space\n",
    "FROM sales\n",
    "LIMIT 3;"
   ]
  },
  {
   "cell_type": "code",
   "execution_count": 47,
   "id": "e9e20c70",
   "metadata": {
    "colab": {
     "base_uri": "https://localhost:8080/",
     "height": 136
    },
    "executionInfo": {
     "elapsed": 85,
     "status": "ok",
     "timestamp": 1753177368692,
     "user": {
      "displayName": "Benjamin Bennett Alexander",
      "userId": "14614847693800833280"
     },
     "user_tz": -180
    },
    "id": "e9e20c70",
    "outputId": "f367ef3c-6967-465c-929a-5b32a89f1ae9"
   },
   "outputs": [
    {
     "name": "stdout",
     "output_type": "stream",
     "text": [
      " * sqlite:///miscellaneous.db\n",
      "Done.\n"
     ]
    },
    {
     "data": {
      "text/html": [
       "<table>\n",
       "    <thead>\n",
       "        <tr>\n",
       "            <th>name_with_underscore</th>\n",
       "        </tr>\n",
       "    </thead>\n",
       "    <tbody>\n",
       "        <tr>\n",
       "            <td>Giovanni_Rossi</td>\n",
       "        </tr>\n",
       "        <tr>\n",
       "            <td>Yuki_Nakamura</td>\n",
       "        </tr>\n",
       "        <tr>\n",
       "            <td>___Anja_MAAAller</td>\n",
       "        </tr>\n",
       "    </tbody>\n",
       "</table>"
      ],
      "text/plain": [
       "[('Giovanni_Rossi',), ('Yuki_Nakamura',), ('___Anja_MAAAller',)]"
      ]
     },
     "execution_count": 47,
     "metadata": {},
     "output_type": "execute_result"
    }
   ],
   "source": [
    "%%sql\n",
    "SELECT\n",
    "    REPLACE(sales_person, ' ', '_')\n",
    "    AS name_with_underscore\n",
    "FROM sales\n",
    "LIMIT 3;"
   ]
  },
  {
   "cell_type": "code",
   "execution_count": 48,
   "id": "b73fcf0d",
   "metadata": {
    "colab": {
     "base_uri": "https://localhost:8080/",
     "height": 281
    },
    "executionInfo": {
     "elapsed": 99,
     "status": "ok",
     "timestamp": 1753177390528,
     "user": {
      "displayName": "Benjamin Bennett Alexander",
      "userId": "14614847693800833280"
     },
     "user_tz": -180
    },
    "id": "b73fcf0d",
    "outputId": "814f808f-98ba-4262-ea70-4ea1c9bbaa8e"
   },
   "outputs": [
    {
     "name": "stdout",
     "output_type": "stream",
     "text": [
      " * sqlite:///miscellaneous.db\n",
      "Done.\n"
     ]
    },
    {
     "data": {
      "text/html": [
       "<table>\n",
       "    <thead>\n",
       "        <tr>\n",
       "            <th>sale_summary</th>\n",
       "        </tr>\n",
       "    </thead>\n",
       "    <tbody>\n",
       "        <tr>\n",
       "            <td>Giovanni Rossi made a sale of 1500.5 on 2023-01-10</td>\n",
       "        </tr>\n",
       "        <tr>\n",
       "            <td>Yuki Nakamura made a sale of 2300.75 on 2023-02-15</td>\n",
       "        </tr>\n",
       "        <tr>\n",
       "            <td>Anja MAAAller made a sale of 1999.99 on 2023-03-20</td>\n",
       "        </tr>\n",
       "        <tr>\n",
       "            <td>Wei Zhang made a sale of 3500.0 on 2023-04-25</td>\n",
       "        </tr>\n",
       "        <tr>\n",
       "            <td>Olivier Dubois made a sale of 1200.0 on 2023-05-30</td>\n",
       "        </tr>\n",
       "        <tr>\n",
       "            <td>Aditi Sharma made a sale of 4100.5 on 2023-06-05</td>\n",
       "        </tr>\n",
       "        <tr>\n",
       "            <td>JAAArgen Schneider made a sale of 3100.25 on 2023-07-10</td>\n",
       "        </tr>\n",
       "        <tr>\n",
       "            <td>Min-Soo Kim made a sale of 2700.75 on 2023-08-15</td>\n",
       "        </tr>\n",
       "        <tr>\n",
       "            <td>Katarzyna Nowak made a sale of 3300.1 on 2023-09-20</td>\n",
       "        </tr>\n",
       "        <tr>\n",
       "            <td>Hiroshi Tanaka made a sale of 2500.0 on 2023-10-25</td>\n",
       "        </tr>\n",
       "    </tbody>\n",
       "</table>"
      ],
      "text/plain": [
       "[('Giovanni Rossi made a sale of 1500.5 on 2023-01-10',),\n",
       " ('Yuki Nakamura made a sale of 2300.75 on 2023-02-15',),\n",
       " ('Anja MAAAller made a sale of 1999.99 on 2023-03-20',),\n",
       " ('Wei Zhang made a sale of 3500.0 on 2023-04-25',),\n",
       " ('Olivier Dubois made a sale of 1200.0 on 2023-05-30',),\n",
       " ('Aditi Sharma made a sale of 4100.5 on 2023-06-05',),\n",
       " ('JAAArgen Schneider made a sale of 3100.25 on 2023-07-10',),\n",
       " ('Min-Soo Kim made a sale of 2700.75 on 2023-08-15',),\n",
       " ('Katarzyna Nowak made a sale of 3300.1 on 2023-09-20',),\n",
       " ('Hiroshi Tanaka made a sale of 2500.0 on 2023-10-25',)]"
      ]
     },
     "execution_count": 48,
     "metadata": {},
     "output_type": "execute_result"
    }
   ],
   "source": [
    "%%sql\n",
    "SELECT\n",
    "    TRIM(sales_person) || ' made a sale of ' || sales_amount || ' on ' ||\n",
    "    DATE(sales_date)\n",
    "    AS sale_summary\n",
    "FROM sales;"
   ]
  },
  {
   "cell_type": "code",
   "execution_count": 49,
   "id": "55917db6",
   "metadata": {
    "colab": {
     "base_uri": "https://localhost:8080/",
     "height": 136
    },
    "executionInfo": {
     "elapsed": 48,
     "status": "ok",
     "timestamp": 1753177407411,
     "user": {
      "displayName": "Benjamin Bennett Alexander",
      "userId": "14614847693800833280"
     },
     "user_tz": -180
    },
    "id": "55917db6",
    "outputId": "79e2fa56-4f7f-4c4d-f711-4dc592b32c17"
   },
   "outputs": [
    {
     "name": "stdout",
     "output_type": "stream",
     "text": [
      " * sqlite:///miscellaneous.db\n",
      "Done.\n"
     ]
    },
    {
     "data": {
      "text/html": [
       "<table>\n",
       "    <thead>\n",
       "        <tr>\n",
       "            <th>sales_person_and_amount</th>\n",
       "        </tr>\n",
       "    </thead>\n",
       "    <tbody>\n",
       "        <tr>\n",
       "            <td>Giovanni Rossi_1500.5</td>\n",
       "        </tr>\n",
       "        <tr>\n",
       "            <td>Yuki Nakamura_2300.75</td>\n",
       "        </tr>\n",
       "        <tr>\n",
       "            <td>Anja MAAAller_1999.99</td>\n",
       "        </tr>\n",
       "    </tbody>\n",
       "</table>"
      ],
      "text/plain": [
       "[('Giovanni Rossi_1500.5',),\n",
       " ('Yuki Nakamura_2300.75',),\n",
       " ('Anja MAAAller_1999.99',)]"
      ]
     },
     "execution_count": 49,
     "metadata": {},
     "output_type": "execute_result"
    }
   ],
   "source": [
    "%%sql\n",
    "SELECT\n",
    "    TRIM(sales_person) || '_' || sales_amount\n",
    "    AS sales_person_and_amount\n",
    "FROM sales\n",
    "LIMIT 3;"
   ]
  },
  {
   "cell_type": "code",
   "execution_count": 50,
   "id": "f2624ddf",
   "metadata": {
    "colab": {
     "base_uri": "https://localhost:8080/",
     "height": 94
    },
    "executionInfo": {
     "elapsed": 86,
     "status": "ok",
     "timestamp": 1753177443390,
     "user": {
      "displayName": "Benjamin Bennett Alexander",
      "userId": "14614847693800833280"
     },
     "user_tz": -180
    },
    "id": "f2624ddf",
    "outputId": "3ba571f7-e93e-4d48-d59c-35a1e3a083a1"
   },
   "outputs": [
    {
     "name": "stdout",
     "output_type": "stream",
     "text": [
      " * sqlite:///miscellaneous.db\n",
      "Done.\n"
     ]
    },
    {
     "data": {
      "text/html": [
       "<table>\n",
       "    <thead>\n",
       "        <tr>\n",
       "            <th>position_of_rossi</th>\n",
       "        </tr>\n",
       "    </thead>\n",
       "    <tbody>\n",
       "        <tr>\n",
       "            <td>0</td>\n",
       "        </tr>\n",
       "    </tbody>\n",
       "</table>"
      ],
      "text/plain": [
       "[(0,)]"
      ]
     },
     "execution_count": 50,
     "metadata": {},
     "output_type": "execute_result"
    }
   ],
   "source": [
    "%%sql\n",
    "SELECT INSTR(sales_person, 'rossi')\n",
    "    AS position_of_rossi\n",
    "FROM sales\n",
    "WHERE INSTR(sales_person, 'Rossi') > 0;"
   ]
  },
  {
   "cell_type": "code",
   "execution_count": 51,
   "id": "5ecd2ef3",
   "metadata": {
    "colab": {
     "base_uri": "https://localhost:8080/",
     "height": 94
    },
    "executionInfo": {
     "elapsed": 61,
     "status": "ok",
     "timestamp": 1753177464798,
     "user": {
      "displayName": "Benjamin Bennett Alexander",
      "userId": "14614847693800833280"
     },
     "user_tz": -180
    },
    "id": "5ecd2ef3",
    "outputId": "641b0c4c-4052-4bfa-cf16-80c48dd61aa9"
   },
   "outputs": [
    {
     "name": "stdout",
     "output_type": "stream",
     "text": [
      " * sqlite:///miscellaneous.db\n",
      "Done.\n"
     ]
    },
    {
     "data": {
      "text/html": [
       "<table>\n",
       "    <thead>\n",
       "        <tr>\n",
       "            <th>position_of_rossi</th>\n",
       "        </tr>\n",
       "    </thead>\n",
       "    <tbody>\n",
       "        <tr>\n",
       "            <td>0</td>\n",
       "        </tr>\n",
       "    </tbody>\n",
       "</table>"
      ],
      "text/plain": [
       "[(0,)]"
      ]
     },
     "execution_count": 51,
     "metadata": {},
     "output_type": "execute_result"
    }
   ],
   "source": [
    "%%sql\n",
    "SELECT\n",
    "    INSTR(sales_person, 'rossi')\n",
    "    AS position_of_rossi\n",
    "FROM sales\n",
    "WHERE INSTR(sales_person, 'Rossi') > 0;"
   ]
  },
  {
   "cell_type": "code",
   "execution_count": 52,
   "id": "b8181488",
   "metadata": {
    "colab": {
     "base_uri": "https://localhost:8080/",
     "height": 94
    },
    "executionInfo": {
     "elapsed": 67,
     "status": "ok",
     "timestamp": 1753177474031,
     "user": {
      "displayName": "Benjamin Bennett Alexander",
      "userId": "14614847693800833280"
     },
     "user_tz": -180
    },
    "id": "b8181488",
    "outputId": "6c2f3d01-92e0-4311-e2b0-016b07bc425d"
   },
   "outputs": [
    {
     "name": "stdout",
     "output_type": "stream",
     "text": [
      " * sqlite:///miscellaneous.db\n",
      "Done.\n"
     ]
    },
    {
     "data": {
      "text/html": [
       "<table>\n",
       "    <thead>\n",
       "        <tr>\n",
       "            <th>sales_person</th>\n",
       "            <th>position_of_rossi</th>\n",
       "        </tr>\n",
       "    </thead>\n",
       "    <tbody>\n",
       "        <tr>\n",
       "            <td>Giovanni Rossi</td>\n",
       "            <td>10</td>\n",
       "        </tr>\n",
       "    </tbody>\n",
       "</table>"
      ],
      "text/plain": [
       "[('Giovanni Rossi', 10)]"
      ]
     },
     "execution_count": 52,
     "metadata": {},
     "output_type": "execute_result"
    }
   ],
   "source": [
    "%%sql\n",
    "SELECT sales_person, INSTR(LOWER(sales_person), 'rossi')\n",
    "    AS position_of_rossi\n",
    "FROM sales\n",
    "WHERE INSTR(LOWER(sales_person), 'rossi') > 0;"
   ]
  },
  {
   "cell_type": "code",
   "execution_count": 60,
   "id": "1b5071d7",
   "metadata": {
    "colab": {
     "base_uri": "https://localhost:8080/",
     "height": 177
    },
    "executionInfo": {
     "elapsed": 286,
     "status": "ok",
     "timestamp": 1753180189300,
     "user": {
      "displayName": "Benjamin Bennett Alexander",
      "userId": "14614847693800833280"
     },
     "user_tz": -180
    },
    "id": "1b5071d7",
    "outputId": "a71971e0-dedd-4757-bfbc-ddd6afd2fbd4"
   },
   "outputs": [
    {
     "name": "stdout",
     "output_type": "stream",
     "text": [
      " * sqlite:///miscellaneous.db\n",
      "Done.\n"
     ]
    },
    {
     "data": {
      "text/html": [
       "<table>\n",
       "    <thead>\n",
       "        <tr>\n",
       "            <th>sales_person</th>\n",
       "            <th>substring</th>\n",
       "        </tr>\n",
       "    </thead>\n",
       "    <tbody>\n",
       "        <tr>\n",
       "            <td>Giovanni Rossi</td>\n",
       "            <td>vanni </td>\n",
       "        </tr>\n",
       "        <tr>\n",
       "            <td>Yuki Nakamura</td>\n",
       "            <td>i Naka</td>\n",
       "        </tr>\n",
       "        <tr>\n",
       "            <td>&nbsp;&nbsp;&nbsp;Anja MAAAller</td>\n",
       "            <td>Anja M</td>\n",
       "        </tr>\n",
       "        <tr>\n",
       "            <td>Wei Zhang</td>\n",
       "            <td> Zhang</td>\n",
       "        </tr>\n",
       "        <tr>\n",
       "            <td>&nbsp;&nbsp;&nbsp;&nbsp;Olivier Dubois</td>\n",
       "            <td> Olivi</td>\n",
       "        </tr>\n",
       "    </tbody>\n",
       "</table>"
      ],
      "text/plain": [
       "[('Giovanni Rossi', 'vanni '),\n",
       " ('Yuki Nakamura', 'i Naka'),\n",
       " ('   Anja MAAAller', 'Anja M'),\n",
       " ('Wei Zhang', ' Zhang'),\n",
       " ('    Olivier Dubois', ' Olivi')]"
      ]
     },
     "execution_count": 60,
     "metadata": {},
     "output_type": "execute_result"
    }
   ],
   "source": [
    "%%sql\n",
    "SELECT sales_person, SUBSTR(sales_person, 4, 6)\n",
    "    AS substring\n",
    "FROM sales\n",
    "LIMIT 5;"
   ]
  },
  {
   "cell_type": "code",
   "execution_count": 65,
   "id": "15a1f094",
   "metadata": {
    "colab": {
     "base_uri": "https://localhost:8080/",
     "height": 177
    },
    "executionInfo": {
     "elapsed": 297,
     "status": "ok",
     "timestamp": 1753181189993,
     "user": {
      "displayName": "Benjamin Bennett Alexander",
      "userId": "14614847693800833280"
     },
     "user_tz": -180
    },
    "id": "15a1f094",
    "outputId": "7bd1f2ab-c880-49dc-ab74-3b3a0ed29d06"
   },
   "outputs": [
    {
     "name": "stdout",
     "output_type": "stream",
     "text": [
      " * sqlite:///miscellaneous.db\n",
      "Done.\n"
     ]
    },
    {
     "data": {
      "text/html": [
       "<table>\n",
       "    <thead>\n",
       "        <tr>\n",
       "            <th>sales_person</th>\n",
       "            <th>last_name_of_seller</th>\n",
       "        </tr>\n",
       "    </thead>\n",
       "    <tbody>\n",
       "        <tr>\n",
       "            <td>Giovanni Rossi</td>\n",
       "            <td>&nbsp;&nbsp;&nbsp;&nbsp;&nbsp;&nbsp;&nbsp;&nbsp;&nbsp;&nbsp;&nbsp;&nbsp;&nbsp;&nbsp;&nbsp;&nbsp;&nbsp;&nbsp;&nbsp;&nbsp;&nbsp;&nbsp;&nbsp;&nbsp;&nbsp;Rossi</td>\n",
       "        </tr>\n",
       "        <tr>\n",
       "            <td>Yuki Nakamura</td>\n",
       "            <td>&nbsp;&nbsp;&nbsp;&nbsp;&nbsp;&nbsp;&nbsp;&nbsp;&nbsp;&nbsp;&nbsp;&nbsp;&nbsp;&nbsp;&nbsp;&nbsp;&nbsp;&nbsp;&nbsp;&nbsp;&nbsp;&nbsp;Nakamura</td>\n",
       "        </tr>\n",
       "        <tr>\n",
       "            <td>&nbsp;&nbsp;&nbsp;Anja MAAAller</td>\n",
       "            <td>&nbsp;&nbsp;&nbsp;&nbsp;&nbsp;&nbsp;&nbsp;&nbsp;&nbsp;&nbsp;&nbsp;&nbsp;&nbsp;&nbsp;&nbsp;&nbsp;&nbsp;&nbsp;&nbsp;&nbsp;&nbsp;&nbsp;MAAAller</td>\n",
       "        </tr>\n",
       "        <tr>\n",
       "            <td>Wei Zhang</td>\n",
       "            <td>&nbsp;&nbsp;&nbsp;&nbsp;&nbsp;&nbsp;&nbsp;&nbsp;&nbsp;&nbsp;&nbsp;&nbsp;&nbsp;&nbsp;&nbsp;&nbsp;&nbsp;&nbsp;&nbsp;&nbsp;&nbsp;&nbsp;&nbsp;&nbsp;&nbsp;Zhang</td>\n",
       "        </tr>\n",
       "        <tr>\n",
       "            <td>&nbsp;&nbsp;&nbsp;&nbsp;Olivier Dubois</td>\n",
       "            <td>&nbsp;&nbsp;&nbsp;&nbsp;&nbsp;&nbsp;&nbsp;&nbsp;&nbsp;&nbsp;&nbsp;&nbsp;&nbsp;&nbsp;&nbsp;&nbsp;&nbsp;&nbsp;&nbsp;&nbsp;&nbsp;&nbsp;&nbsp;&nbsp;Dubois</td>\n",
       "        </tr>\n",
       "    </tbody>\n",
       "</table>"
      ],
      "text/plain": [
       "[('Giovanni Rossi', '                         Rossi'),\n",
       " ('Yuki Nakamura', '                      Nakamura'),\n",
       " ('   Anja MAAAller', '                      MAAAller'),\n",
       " ('Wei Zhang', '                         Zhang'),\n",
       " ('    Olivier Dubois', '                        Dubois')]"
      ]
     },
     "execution_count": 65,
     "metadata": {},
     "output_type": "execute_result"
    }
   ],
   "source": [
    "%%sql\n",
    "SELECT sales_person,\n",
    "        printf(\"%30s\", SUBSTR(TRIM(sales_person), INSTR(TRIM(sales_person), ' ') + 1))\n",
    "        AS last_name_of_seller\n",
    "FROM sales\n",
    "LIMIT 5;"
   ]
  },
  {
   "cell_type": "code",
   "execution_count": 68,
   "id": "933871bd",
   "metadata": {
    "colab": {
     "base_uri": "https://localhost:8080/",
     "height": 281
    },
    "executionInfo": {
     "elapsed": 289,
     "status": "ok",
     "timestamp": 1753181609829,
     "user": {
      "displayName": "Benjamin Bennett Alexander",
      "userId": "14614847693800833280"
     },
     "user_tz": -180
    },
    "id": "933871bd",
    "outputId": "5dd05f72-3667-4737-a030-380a02aee8d8"
   },
   "outputs": [
    {
     "name": "stdout",
     "output_type": "stream",
     "text": [
      " * sqlite:///miscellaneous.db\n",
      "Done.\n"
     ]
    },
    {
     "data": {
      "text/html": [
       "<table>\n",
       "    <thead>\n",
       "        <tr>\n",
       "            <th>sales_person</th>\n",
       "            <th>bonus_pay</th>\n",
       "        </tr>\n",
       "    </thead>\n",
       "    <tbody>\n",
       "        <tr>\n",
       "            <td>Giovanni Rossi</td>\n",
       "            <td>2620.2839999999997</td>\n",
       "        </tr>\n",
       "        <tr>\n",
       "            <td>Yuki Nakamura</td>\n",
       "            <td>2620.2839999999997</td>\n",
       "        </tr>\n",
       "        <tr>\n",
       "            <td>Anja MAAAller</td>\n",
       "            <td>2620.2839999999997</td>\n",
       "        </tr>\n",
       "        <tr>\n",
       "            <td>Wei Zhang</td>\n",
       "            <td>2620.2839999999997</td>\n",
       "        </tr>\n",
       "        <tr>\n",
       "            <td>Olivier Dubois</td>\n",
       "            <td>2620.2839999999997</td>\n",
       "        </tr>\n",
       "        <tr>\n",
       "            <td>Aditi Sharma</td>\n",
       "            <td>2620.2839999999997</td>\n",
       "        </tr>\n",
       "        <tr>\n",
       "            <td>JAAArgen Schneider</td>\n",
       "            <td>2620.2839999999997</td>\n",
       "        </tr>\n",
       "        <tr>\n",
       "            <td>Min-Soo Kim</td>\n",
       "            <td>2620.2839999999997</td>\n",
       "        </tr>\n",
       "        <tr>\n",
       "            <td>Katarzyna Nowak</td>\n",
       "            <td>2620.2839999999997</td>\n",
       "        </tr>\n",
       "        <tr>\n",
       "            <td>Hiroshi Tanaka</td>\n",
       "            <td>2620.2839999999997</td>\n",
       "        </tr>\n",
       "    </tbody>\n",
       "</table>"
      ],
      "text/plain": [
       "[('Giovanni Rossi', 2620.2839999999997),\n",
       " ('Yuki Nakamura', 2620.2839999999997),\n",
       " ('Anja MAAAller', 2620.2839999999997),\n",
       " ('Wei Zhang', 2620.2839999999997),\n",
       " ('Olivier Dubois', 2620.2839999999997),\n",
       " ('Aditi Sharma', 2620.2839999999997),\n",
       " ('JAAArgen Schneider', 2620.2839999999997),\n",
       " ('Min-Soo Kim', 2620.2839999999997),\n",
       " ('Katarzyna Nowak', 2620.2839999999997),\n",
       " ('Hiroshi Tanaka', 2620.2839999999997)]"
      ]
     },
     "execution_count": 68,
     "metadata": {},
     "output_type": "execute_result"
    }
   ],
   "source": [
    "%%sql\n",
    "SELECT\n",
    "    TRIM(sales_person) AS sales_person,\n",
    "    (SELECT AVG(sales_amount) FROM sales) -- Subquery\n",
    "     AS bonus_pay\n",
    "FROM sales;"
   ]
  },
  {
   "cell_type": "code",
   "execution_count": 69,
   "id": "b0134432",
   "metadata": {
    "colab": {
     "base_uri": "https://localhost:8080/",
     "height": 177
    },
    "executionInfo": {
     "elapsed": 265,
     "status": "ok",
     "timestamp": 1753181700330,
     "user": {
      "displayName": "Benjamin Bennett Alexander",
      "userId": "14614847693800833280"
     },
     "user_tz": -180
    },
    "id": "b0134432",
    "outputId": "b60e96dd-464a-4978-98a3-682c008e47c3"
   },
   "outputs": [
    {
     "name": "stdout",
     "output_type": "stream",
     "text": [
      " * sqlite:///miscellaneous.db\n",
      "Done.\n"
     ]
    },
    {
     "data": {
      "text/html": [
       "<table>\n",
       "    <thead>\n",
       "        <tr>\n",
       "            <th>sales_month</th>\n",
       "            <th>monthly_sales</th>\n",
       "            <th>monthly_sales_in_euros</th>\n",
       "        </tr>\n",
       "    </thead>\n",
       "    <tbody>\n",
       "        <tr>\n",
       "            <td>01</td>\n",
       "            <td>1500.5</td>\n",
       "            <td>1485.6435643564357</td>\n",
       "        </tr>\n",
       "        <tr>\n",
       "            <td>02</td>\n",
       "            <td>2300.75</td>\n",
       "            <td>2277.970297029703</td>\n",
       "        </tr>\n",
       "        <tr>\n",
       "            <td>03</td>\n",
       "            <td>1999.99</td>\n",
       "            <td>1980.1881188118812</td>\n",
       "        </tr>\n",
       "        <tr>\n",
       "            <td>04</td>\n",
       "            <td>3500.0</td>\n",
       "            <td>3465.3465346534654</td>\n",
       "        </tr>\n",
       "        <tr>\n",
       "            <td>05</td>\n",
       "            <td>1200.0</td>\n",
       "            <td>1188.118811881188</td>\n",
       "        </tr>\n",
       "    </tbody>\n",
       "</table>"
      ],
      "text/plain": [
       "[('01', 1500.5, 1485.6435643564357),\n",
       " ('02', 2300.75, 2277.970297029703),\n",
       " ('03', 1999.99, 1980.1881188118812),\n",
       " ('04', 3500.0, 3465.3465346534654),\n",
       " ('05', 1200.0, 1188.118811881188)]"
      ]
     },
     "execution_count": 69,
     "metadata": {},
     "output_type": "execute_result"
    }
   ],
   "source": [
    "%%sql\n",
    "SELECT\n",
    "    sales_month,\n",
    "    SUM(sales_amount) AS monthly_sales,\n",
    "    SUM(sales_amount) / 1.01 AS monthly_sales_in_euros\n",
    "FROM\n",
    "    -- Subquery inside the FROM clause\n",
    "    (SELECT\n",
    "        sales_amount,\n",
    "        STRFTIME('%m', sales_date) AS sales_month\n",
    "     FROM sales)\n",
    "GROUP BY sales_month\n",
    "LIMIT 5;"
   ]
  },
  {
   "cell_type": "code",
   "execution_count": 70,
   "id": "6903dff9",
   "metadata": {
    "colab": {
     "base_uri": "https://localhost:8080/",
     "height": 94
    },
    "executionInfo": {
     "elapsed": 268,
     "status": "ok",
     "timestamp": 1753181750552,
     "user": {
      "displayName": "Benjamin Bennett Alexander",
      "userId": "14614847693800833280"
     },
     "user_tz": -180
    },
    "id": "6903dff9",
    "outputId": "d6687c85-27c5-4f80-f44e-8383c80e1283"
   },
   "outputs": [
    {
     "name": "stdout",
     "output_type": "stream",
     "text": [
      " * sqlite:///miscellaneous.db\n",
      "Done.\n"
     ]
    },
    {
     "data": {
      "text/html": [
       "<table>\n",
       "    <thead>\n",
       "        <tr>\n",
       "            <th>total_top_3_sales</th>\n",
       "            <th>total_bottom_3_sales</th>\n",
       "        </tr>\n",
       "    </thead>\n",
       "    <tbody>\n",
       "        <tr>\n",
       "            <td>10900.6</td>\n",
       "            <td>4700.49</td>\n",
       "        </tr>\n",
       "    </tbody>\n",
       "</table>"
      ],
      "text/plain": [
       "[(10900.6, 4700.49)]"
      ]
     },
     "execution_count": 70,
     "metadata": {},
     "output_type": "execute_result"
    }
   ],
   "source": [
    "%%sql\n",
    "SELECT\n",
    "    --This calculates the total sales of top 3 sales\n",
    "    (SELECT SUM(sales_amount)\n",
    "     FROM\n",
    "          (SELECT sales_amount\n",
    "           FROM sales\n",
    "           ORDER BY sales_amount DESC\n",
    "           LIMIT 3) AS top_sales) AS total_top_3_sales,\n",
    "\n",
    "    --This calculates the total sales of bottom 3 sales\n",
    "    (SELECT SUM(sales_amount)\n",
    "     FROM\n",
    "           (SELECT sales_amount\n",
    "           FROM sales\n",
    "           ORDER BY sales_amount ASC\n",
    "           LIMIT 3) AS bottom_sales) AS total_bottom_3_sales;"
   ]
  },
  {
   "cell_type": "code",
   "execution_count": 71,
   "id": "0e8098fa",
   "metadata": {
    "colab": {
     "base_uri": "https://localhost:8080/",
     "height": 94
    },
    "executionInfo": {
     "elapsed": 296,
     "status": "ok",
     "timestamp": 1753181765823,
     "user": {
      "displayName": "Benjamin Bennett Alexander",
      "userId": "14614847693800833280"
     },
     "user_tz": -180
    },
    "id": "0e8098fa",
    "outputId": "5162da08-16ba-4a6a-9aec-379c89095f9c"
   },
   "outputs": [
    {
     "name": "stdout",
     "output_type": "stream",
     "text": [
      " * sqlite:///miscellaneous.db\n",
      "Done.\n"
     ]
    },
    {
     "data": {
      "text/html": [
       "<table>\n",
       "    <thead>\n",
       "        <tr>\n",
       "            <th>sales_id</th>\n",
       "            <th>sales_person</th>\n",
       "            <th>sales_amount</th>\n",
       "        </tr>\n",
       "    </thead>\n",
       "    <tbody>\n",
       "        <tr>\n",
       "            <td>6</td>\n",
       "            <td>Aditi Sharma</td>\n",
       "            <td>4100.5</td>\n",
       "        </tr>\n",
       "    </tbody>\n",
       "</table>"
      ],
      "text/plain": [
       "[(6, 'Aditi Sharma', 4100.5)]"
      ]
     },
     "execution_count": 71,
     "metadata": {},
     "output_type": "execute_result"
    }
   ],
   "source": [
    "%%sql\n",
    "SELECT\n",
    "    sales_id,\n",
    "    sales_person,\n",
    "    sales_amount\n",
    "FROM sales\n",
    "WHERE sales_amount = (SELECT MAX(sales_amount) FROM sales);"
   ]
  },
  {
   "cell_type": "code",
   "execution_count": 72,
   "id": "da7cb253",
   "metadata": {
    "colab": {
     "base_uri": "https://localhost:8080/",
     "height": 177
    },
    "executionInfo": {
     "elapsed": 273,
     "status": "ok",
     "timestamp": 1753182325516,
     "user": {
      "displayName": "Benjamin Bennett Alexander",
      "userId": "14614847693800833280"
     },
     "user_tz": -180
    },
    "id": "da7cb253",
    "outputId": "99eb6f20-08be-4f6c-9c41-5d412db00772"
   },
   "outputs": [
    {
     "name": "stdout",
     "output_type": "stream",
     "text": [
      " * sqlite:///miscellaneous.db\n",
      "Done.\n"
     ]
    },
    {
     "data": {
      "text/html": [
       "<table>\n",
       "    <thead>\n",
       "        <tr>\n",
       "            <th>sales_person</th>\n",
       "            <th>total_sales</th>\n",
       "        </tr>\n",
       "    </thead>\n",
       "    <tbody>\n",
       "        <tr>\n",
       "            <td>&nbsp;&nbsp;&nbsp;&nbsp;Min-Soo Kim</td>\n",
       "            <td>2700.75</td>\n",
       "        </tr>\n",
       "        <tr>\n",
       "            <td>Aditi Sharma</td>\n",
       "            <td>4100.5</td>\n",
       "        </tr>\n",
       "        <tr>\n",
       "            <td>JAAArgen Schneider</td>\n",
       "            <td>3100.25</td>\n",
       "        </tr>\n",
       "        <tr>\n",
       "            <td>Katarzyna Nowak</td>\n",
       "            <td>3300.1</td>\n",
       "        </tr>\n",
       "        <tr>\n",
       "            <td>Wei Zhang</td>\n",
       "            <td>3500.0</td>\n",
       "        </tr>\n",
       "    </tbody>\n",
       "</table>"
      ],
      "text/plain": [
       "[('    Min-Soo Kim', 2700.75),\n",
       " ('Aditi Sharma', 4100.5),\n",
       " ('JAAArgen Schneider', 3100.25),\n",
       " ('Katarzyna Nowak', 3300.1),\n",
       " ('Wei Zhang', 3500.0)]"
      ]
     },
     "execution_count": 72,
     "metadata": {},
     "output_type": "execute_result"
    }
   ],
   "source": [
    "%%sql\n",
    "SELECT\n",
    "    sales_person,\n",
    "    SUM(sales_amount) AS total_sales\n",
    "FROM sales\n",
    "GROUP BY sales_person\n",
    "HAVING SUM(sales_amount) > (SELECT AVG(sales_amount) FROM sales);"
   ]
  },
  {
   "cell_type": "code",
   "execution_count": 73,
   "id": "a5742c19",
   "metadata": {
    "colab": {
     "base_uri": "https://localhost:8080/",
     "height": 94
    },
    "executionInfo": {
     "elapsed": 285,
     "status": "ok",
     "timestamp": 1753182345964,
     "user": {
      "displayName": "Benjamin Bennett Alexander",
      "userId": "14614847693800833280"
     },
     "user_tz": -180
    },
    "id": "a5742c19",
    "outputId": "b1971935-6d69-458f-86e7-40670958e5e8"
   },
   "outputs": [
    {
     "name": "stdout",
     "output_type": "stream",
     "text": [
      " * sqlite:///miscellaneous.db\n",
      "Done.\n"
     ]
    },
    {
     "data": {
      "text/html": [
       "<table>\n",
       "    <thead>\n",
       "        <tr>\n",
       "            <th>total_march_april_sales</th>\n",
       "        </tr>\n",
       "    </thead>\n",
       "    <tbody>\n",
       "        <tr>\n",
       "            <td>5499.99</td>\n",
       "        </tr>\n",
       "    </tbody>\n",
       "</table>"
      ],
      "text/plain": [
       "[(5499.99,)]"
      ]
     },
     "execution_count": 73,
     "metadata": {},
     "output_type": "execute_result"
    }
   ],
   "source": [
    "%%sql\n",
    "-- step 1. First Creating a CTE table\n",
    "WITH sales_march_and_april AS (\n",
    "    SELECT\n",
    "        sales_date,\n",
    "        sales_amount\n",
    "    FROM sales\n",
    "    WHERE STRFTIME('%m', sales_date) = '03' OR\n",
    "                  STRFTIME('%m', sales_date) = '04'\n",
    ")\n",
    "-- Step 2. Query the CTE table\n",
    "SELECT\n",
    "    SUM(sales_amount) AS total_march_april_sales\n",
    "FROM sales_march_and_april;"
   ]
  },
  {
   "cell_type": "code",
   "execution_count": 74,
   "id": "a154bd6c",
   "metadata": {
    "colab": {
     "base_uri": "https://localhost:8080/",
     "height": 94
    },
    "executionInfo": {
     "elapsed": 282,
     "status": "ok",
     "timestamp": 1753182365831,
     "user": {
      "displayName": "Benjamin Bennett Alexander",
      "userId": "14614847693800833280"
     },
     "user_tz": -180
    },
    "id": "a154bd6c",
    "outputId": "f7717c3a-b287-432d-b225-b51a43762f8b"
   },
   "outputs": [
    {
     "name": "stdout",
     "output_type": "stream",
     "text": [
      " * sqlite:///miscellaneous.db\n",
      "Done.\n"
     ]
    },
    {
     "data": {
      "text/html": [
       "<table>\n",
       "    <thead>\n",
       "        <tr>\n",
       "            <th>total_top_3_sales</th>\n",
       "            <th>total_bottom_3_sales</th>\n",
       "        </tr>\n",
       "    </thead>\n",
       "    <tbody>\n",
       "        <tr>\n",
       "            <td>10900.6</td>\n",
       "            <td>4700.49</td>\n",
       "        </tr>\n",
       "    </tbody>\n",
       "</table>"
      ],
      "text/plain": [
       "[(10900.6, 4700.49)]"
      ]
     },
     "execution_count": 74,
     "metadata": {},
     "output_type": "execute_result"
    }
   ],
   "source": [
    "%%sql\n",
    "WITH top_sales AS (\n",
    "    SELECT sales_amount\n",
    "    FROM sales\n",
    "    ORDER BY\n",
    "    sales_amount DESC\n",
    "    LIMIT 3\n",
    "),\n",
    "bottom_sales AS(\n",
    "    SELECT sales_amount\n",
    "    FROM sales\n",
    "    ORDER BY\n",
    "    sales_amount ASC\n",
    "    LIMIT 3\n",
    ")\n",
    "-- Querying the two CTEs using subqueries\n",
    "SELECT\n",
    "    (SELECT SUM(sales_amount) FROM top_sales)\n",
    "    AS total_top_3_sales,\n",
    "    (SELECT SUM(sales_amount) FROM bottom_sales)\n",
    "    AS total_bottom_3_sales"
   ]
  },
  {
   "cell_type": "code",
   "execution_count": 75,
   "id": "DCHKHYCEyAGg",
   "metadata": {
    "colab": {
     "base_uri": "https://localhost:8080/",
     "height": 94
    },
    "executionInfo": {
     "elapsed": 271,
     "status": "ok",
     "timestamp": 1753182382939,
     "user": {
      "displayName": "Benjamin Bennett Alexander",
      "userId": "14614847693800833280"
     },
     "user_tz": -180
    },
    "id": "DCHKHYCEyAGg",
    "outputId": "dd77daa3-3069-486a-a313-fbb08558b2b6"
   },
   "outputs": [
    {
     "name": "stdout",
     "output_type": "stream",
     "text": [
      " * sqlite:///miscellaneous.db\n",
      "Done.\n"
     ]
    },
    {
     "data": {
      "text/html": [
       "<table>\n",
       "    <thead>\n",
       "        <tr>\n",
       "            <th>top_3_average_sales_in_euros</th>\n",
       "        </tr>\n",
       "    </thead>\n",
       "    <tbody>\n",
       "        <tr>\n",
       "            <td>3597.5577557755773</td>\n",
       "        </tr>\n",
       "    </tbody>\n",
       "</table>"
      ],
      "text/plain": [
       "[(3597.5577557755773,)]"
      ]
     },
     "execution_count": 75,
     "metadata": {},
     "output_type": "execute_result"
    }
   ],
   "source": [
    "%%sql\n",
    "WITH average_sales AS (\n",
    "    -- Nested CTE to get top 3 sales amounts\n",
    "    WITH top_sales AS (\n",
    "        SELECT sales_amount\n",
    "        FROM sales\n",
    "        ORDER BY sales_amount DESC\n",
    "        LIMIT 3\n",
    "    )\n",
    "    -- Outer CTE that calculates the average of top 3 sales\n",
    "    SELECT AVG(sales_amount) AS top_3_average_sales\n",
    "    FROM top_sales\n",
    ")\n",
    "-- Final query that converts the average sales amount to euros\n",
    "SELECT top_3_average_sales / 1.01 AS top_3_average_sales_in_euros\n",
    "FROM average_sales;"
   ]
  },
  {
   "cell_type": "code",
   "execution_count": 76,
   "id": "959b270b",
   "metadata": {
    "colab": {
     "base_uri": "https://localhost:8080/",
     "height": 281
    },
    "executionInfo": {
     "elapsed": 251,
     "status": "ok",
     "timestamp": 1753182401903,
     "user": {
      "displayName": "Benjamin Bennett Alexander",
      "userId": "14614847693800833280"
     },
     "user_tz": -180
    },
    "id": "959b270b",
    "outputId": "3faba94e-e967-44c1-9bd4-d8d623afe0a7"
   },
   "outputs": [
    {
     "name": "stdout",
     "output_type": "stream",
     "text": [
      " * sqlite:///miscellaneous.db\n",
      "Done.\n"
     ]
    },
    {
     "data": {
      "text/html": [
       "<table>\n",
       "    <thead>\n",
       "        <tr>\n",
       "            <th>sales_person</th>\n",
       "            <th>sales_amount</th>\n",
       "            <th>sales_target</th>\n",
       "        </tr>\n",
       "    </thead>\n",
       "    <tbody>\n",
       "        <tr>\n",
       "            <td>Giovanni Rossi</td>\n",
       "            <td>1500.5</td>\n",
       "            <td>Target not reached</td>\n",
       "        </tr>\n",
       "        <tr>\n",
       "            <td>Yuki Nakamura</td>\n",
       "            <td>2300.75</td>\n",
       "            <td>Target not reached</td>\n",
       "        </tr>\n",
       "        <tr>\n",
       "            <td>&nbsp;&nbsp;&nbsp;Anja MAAAller</td>\n",
       "            <td>1999.99</td>\n",
       "            <td>Target not reached</td>\n",
       "        </tr>\n",
       "        <tr>\n",
       "            <td>Wei Zhang</td>\n",
       "            <td>3500.0</td>\n",
       "            <td>Target reached</td>\n",
       "        </tr>\n",
       "        <tr>\n",
       "            <td>&nbsp;&nbsp;&nbsp;&nbsp;Olivier Dubois</td>\n",
       "            <td>1200.0</td>\n",
       "            <td>Target not reached</td>\n",
       "        </tr>\n",
       "        <tr>\n",
       "            <td>Aditi Sharma</td>\n",
       "            <td>4100.5</td>\n",
       "            <td>Target reached</td>\n",
       "        </tr>\n",
       "        <tr>\n",
       "            <td>JAAArgen Schneider</td>\n",
       "            <td>3100.25</td>\n",
       "            <td>Target reached</td>\n",
       "        </tr>\n",
       "        <tr>\n",
       "            <td>&nbsp;&nbsp;&nbsp;&nbsp;Min-Soo Kim</td>\n",
       "            <td>2700.75</td>\n",
       "            <td>Target not reached</td>\n",
       "        </tr>\n",
       "        <tr>\n",
       "            <td>Katarzyna Nowak</td>\n",
       "            <td>3300.1</td>\n",
       "            <td>Target reached</td>\n",
       "        </tr>\n",
       "        <tr>\n",
       "            <td>Hiroshi Tanaka</td>\n",
       "            <td>2500.0</td>\n",
       "            <td>Target not reached</td>\n",
       "        </tr>\n",
       "    </tbody>\n",
       "</table>"
      ],
      "text/plain": [
       "[('Giovanni Rossi', 1500.5, 'Target not reached'),\n",
       " ('Yuki Nakamura', 2300.75, 'Target not reached'),\n",
       " ('   Anja MAAAller', 1999.99, 'Target not reached'),\n",
       " ('Wei Zhang', 3500.0, 'Target reached'),\n",
       " ('    Olivier Dubois', 1200.0, 'Target not reached'),\n",
       " ('Aditi Sharma', 4100.5, 'Target reached'),\n",
       " ('JAAArgen Schneider', 3100.25, 'Target reached'),\n",
       " ('    Min-Soo Kim', 2700.75, 'Target not reached'),\n",
       " ('Katarzyna Nowak', 3300.1, 'Target reached'),\n",
       " ('Hiroshi Tanaka', 2500.0, 'Target not reached')]"
      ]
     },
     "execution_count": 76,
     "metadata": {},
     "output_type": "execute_result"
    }
   ],
   "source": [
    "%%sql\n",
    "SELECT\n",
    "    sales_person,\n",
    "    sales_amount,\n",
    "    CASE\n",
    "        WHEN sales_amount >= 3000 THEN 'Target reached'\n",
    "        ELSE 'Target not reached'\n",
    "    END AS sales_target\n",
    "FROM sales;"
   ]
  },
  {
   "cell_type": "code",
   "execution_count": 77,
   "id": "273faebb",
   "metadata": {
    "colab": {
     "base_uri": "https://localhost:8080/",
     "height": 281
    },
    "executionInfo": {
     "elapsed": 250,
     "status": "ok",
     "timestamp": 1753182506351,
     "user": {
      "displayName": "Benjamin Bennett Alexander",
      "userId": "14614847693800833280"
     },
     "user_tz": -180
    },
    "id": "273faebb",
    "outputId": "e5a2f5a4-e646-46d0-fba2-d540283df0b0"
   },
   "outputs": [
    {
     "name": "stdout",
     "output_type": "stream",
     "text": [
      " * sqlite:///miscellaneous.db\n",
      "Done.\n"
     ]
    },
    {
     "data": {
      "text/html": [
       "<table>\n",
       "    <thead>\n",
       "        <tr>\n",
       "            <th>sales_person</th>\n",
       "            <th>sales_amount</th>\n",
       "            <th>sales_target</th>\n",
       "        </tr>\n",
       "    </thead>\n",
       "    <tbody>\n",
       "        <tr>\n",
       "            <td>Giovanni Rossi</td>\n",
       "            <td>1500.5</td>\n",
       "            <td>Target not reached</td>\n",
       "        </tr>\n",
       "        <tr>\n",
       "            <td>Yuki Nakamura</td>\n",
       "            <td>2300.75</td>\n",
       "            <td>Almost reached target</td>\n",
       "        </tr>\n",
       "        <tr>\n",
       "            <td>&nbsp;&nbsp;&nbsp;Anja MAAAller</td>\n",
       "            <td>1999.99</td>\n",
       "            <td>Target not reached</td>\n",
       "        </tr>\n",
       "        <tr>\n",
       "            <td>Wei Zhang</td>\n",
       "            <td>3500.0</td>\n",
       "            <td>Target reached</td>\n",
       "        </tr>\n",
       "        <tr>\n",
       "            <td>&nbsp;&nbsp;&nbsp;&nbsp;Olivier Dubois</td>\n",
       "            <td>1200.0</td>\n",
       "            <td>Target not reached</td>\n",
       "        </tr>\n",
       "        <tr>\n",
       "            <td>Aditi Sharma</td>\n",
       "            <td>4100.5</td>\n",
       "            <td>Target reached</td>\n",
       "        </tr>\n",
       "        <tr>\n",
       "            <td>JAAArgen Schneider</td>\n",
       "            <td>3100.25</td>\n",
       "            <td>Target reached</td>\n",
       "        </tr>\n",
       "        <tr>\n",
       "            <td>&nbsp;&nbsp;&nbsp;&nbsp;Min-Soo Kim</td>\n",
       "            <td>2700.75</td>\n",
       "            <td>Almost reached target</td>\n",
       "        </tr>\n",
       "        <tr>\n",
       "            <td>Katarzyna Nowak</td>\n",
       "            <td>3300.1</td>\n",
       "            <td>Target reached</td>\n",
       "        </tr>\n",
       "        <tr>\n",
       "            <td>Hiroshi Tanaka</td>\n",
       "            <td>2500.0</td>\n",
       "            <td>Almost reached target</td>\n",
       "        </tr>\n",
       "    </tbody>\n",
       "</table>"
      ],
      "text/plain": [
       "[('Giovanni Rossi', 1500.5, 'Target not reached'),\n",
       " ('Yuki Nakamura', 2300.75, 'Almost reached target'),\n",
       " ('   Anja MAAAller', 1999.99, 'Target not reached'),\n",
       " ('Wei Zhang', 3500.0, 'Target reached'),\n",
       " ('    Olivier Dubois', 1200.0, 'Target not reached'),\n",
       " ('Aditi Sharma', 4100.5, 'Target reached'),\n",
       " ('JAAArgen Schneider', 3100.25, 'Target reached'),\n",
       " ('    Min-Soo Kim', 2700.75, 'Almost reached target'),\n",
       " ('Katarzyna Nowak', 3300.1, 'Target reached'),\n",
       " ('Hiroshi Tanaka', 2500.0, 'Almost reached target')]"
      ]
     },
     "execution_count": 77,
     "metadata": {},
     "output_type": "execute_result"
    }
   ],
   "source": [
    "%%sql\n",
    "SELECT\n",
    "    sales_person,\n",
    "    sales_amount,\n",
    "    CASE\n",
    "        WHEN sales_amount >= 3000 THEN 'Target reached'\n",
    "        WHEN sales_amount BETWEEN 2000 AND 2999\n",
    "        THEN 'Almost reached target'\n",
    "        ELSE 'Target not reached'\n",
    "    END AS sales_target\n",
    "FROM sales;"
   ]
  },
  {
   "cell_type": "code",
   "execution_count": 78,
   "id": "a2381aac",
   "metadata": {
    "colab": {
     "base_uri": "https://localhost:8080/",
     "height": 156
    },
    "executionInfo": {
     "elapsed": 2982,
     "status": "ok",
     "timestamp": 1753182571799,
     "user": {
      "displayName": "Benjamin Bennett Alexander",
      "userId": "14614847693800833280"
     },
     "user_tz": -180
    },
    "id": "a2381aac",
    "outputId": "b9aee05e-7b29-4608-9dc0-d8159c36fc8f"
   },
   "outputs": [
    {
     "name": "stdout",
     "output_type": "stream",
     "text": [
      " * sqlite:///miscellaneous.db\n",
      "Done.\n"
     ]
    },
    {
     "data": {
      "text/html": [
       "<table>\n",
       "    <thead>\n",
       "        <tr>\n",
       "            <th>sales_person</th>\n",
       "            <th>sales_amount</th>\n",
       "            <th>sales_target</th>\n",
       "        </tr>\n",
       "    </thead>\n",
       "    <tbody>\n",
       "        <tr>\n",
       "            <td>Wei Zhang</td>\n",
       "            <td>3500.0</td>\n",
       "            <td>Target reached</td>\n",
       "        </tr>\n",
       "        <tr>\n",
       "            <td>Aditi Sharma</td>\n",
       "            <td>4100.5</td>\n",
       "            <td>Target reached</td>\n",
       "        </tr>\n",
       "        <tr>\n",
       "            <td>JAAArgen Schneider</td>\n",
       "            <td>3100.25</td>\n",
       "            <td>Target reached</td>\n",
       "        </tr>\n",
       "        <tr>\n",
       "            <td>Katarzyna Nowak</td>\n",
       "            <td>3300.1</td>\n",
       "            <td>Target reached</td>\n",
       "        </tr>\n",
       "    </tbody>\n",
       "</table>"
      ],
      "text/plain": [
       "[('Wei Zhang', 3500.0, 'Target reached'),\n",
       " ('Aditi Sharma', 4100.5, 'Target reached'),\n",
       " ('JAAArgen Schneider', 3100.25, 'Target reached'),\n",
       " ('Katarzyna Nowak', 3300.1, 'Target reached')]"
      ]
     },
     "execution_count": 78,
     "metadata": {},
     "output_type": "execute_result"
    }
   ],
   "source": [
    "%%sql\n",
    "WITH sales_target AS(\n",
    "    SELECT\n",
    "    sales_person,\n",
    "    sales_amount,\n",
    "    CASE\n",
    "        WHEN sales_amount >= 3000 THEN 'Target reached'\n",
    "        WHEN sales_amount BETWEEN 2000 AND 2999\n",
    "        THEN 'Almost reached target'\n",
    "        ELSE 'Target not reached'\n",
    "    END AS sales_target\n",
    "FROM sales\n",
    ")\n",
    "-- Querying the CTE\n",
    "SELECT sales_person, sales_amount, sales_target\n",
    "FROM sales_target\n",
    "WHERE sales_target = 'Target reached';"
   ]
  },
  {
   "cell_type": "code",
   "execution_count": 79,
   "id": "33b01286",
   "metadata": {
    "colab": {
     "base_uri": "https://localhost:8080/"
    },
    "executionInfo": {
     "elapsed": 243,
     "status": "ok",
     "timestamp": 1753182588218,
     "user": {
      "displayName": "Benjamin Bennett Alexander",
      "userId": "14614847693800833280"
     },
     "user_tz": -180
    },
    "id": "33b01286",
    "outputId": "4575a3d0-11c1-4914-a423-300c7dd7b0be"
   },
   "outputs": [
    {
     "name": "stdout",
     "output_type": "stream",
     "text": [
      " * sqlite:///miscellaneous.db\n",
      "Done.\n"
     ]
    },
    {
     "data": {
      "text/plain": [
       "[]"
      ]
     },
     "execution_count": 79,
     "metadata": {},
     "output_type": "execute_result"
    }
   ],
   "source": [
    "%%sql\n",
    "-- Adding a new column to sales table\n",
    "ALTER TABLE sales\n",
    "ADD costs_amount REAL;"
   ]
  },
  {
   "cell_type": "code",
   "execution_count": 80,
   "id": "f01fca14",
   "metadata": {
    "colab": {
     "base_uri": "https://localhost:8080/",
     "height": 177
    },
    "executionInfo": {
     "elapsed": 337,
     "status": "ok",
     "timestamp": 1753182596876,
     "user": {
      "displayName": "Benjamin Bennett Alexander",
      "userId": "14614847693800833280"
     },
     "user_tz": -180
    },
    "id": "f01fca14",
    "outputId": "c6980b6f-fc49-4882-c817-9c4e27f1c1f9"
   },
   "outputs": [
    {
     "name": "stdout",
     "output_type": "stream",
     "text": [
      " * sqlite:///miscellaneous.db\n",
      "Done.\n"
     ]
    },
    {
     "data": {
      "text/html": [
       "<table>\n",
       "    <thead>\n",
       "        <tr>\n",
       "            <th>sales_id</th>\n",
       "            <th>sales_person</th>\n",
       "            <th>sales_amount</th>\n",
       "            <th>sales_date</th>\n",
       "            <th>costs_amount</th>\n",
       "        </tr>\n",
       "    </thead>\n",
       "    <tbody>\n",
       "        <tr>\n",
       "            <td>1</td>\n",
       "            <td>Giovanni Rossi</td>\n",
       "            <td>1500.5</td>\n",
       "            <td>2023-01-10 10:15:30</td>\n",
       "            <td>None</td>\n",
       "        </tr>\n",
       "        <tr>\n",
       "            <td>2</td>\n",
       "            <td>Yuki Nakamura</td>\n",
       "            <td>2300.75</td>\n",
       "            <td>2023-02-15 14:25:45</td>\n",
       "            <td>None</td>\n",
       "        </tr>\n",
       "        <tr>\n",
       "            <td>3</td>\n",
       "            <td>&nbsp;&nbsp;&nbsp;Anja MAAAller</td>\n",
       "            <td>1999.99</td>\n",
       "            <td>2023-03-20 09:10:00</td>\n",
       "            <td>None</td>\n",
       "        </tr>\n",
       "        <tr>\n",
       "            <td>4</td>\n",
       "            <td>Wei Zhang</td>\n",
       "            <td>3500.0</td>\n",
       "            <td>2023-04-25 16:45:20</td>\n",
       "            <td>None</td>\n",
       "        </tr>\n",
       "        <tr>\n",
       "            <td>5</td>\n",
       "            <td>&nbsp;&nbsp;&nbsp;&nbsp;Olivier Dubois</td>\n",
       "            <td>1200.0</td>\n",
       "            <td>2023-05-30 10:00:55</td>\n",
       "            <td>None</td>\n",
       "        </tr>\n",
       "    </tbody>\n",
       "</table>"
      ],
      "text/plain": [
       "[(1, 'Giovanni Rossi', 1500.5, '2023-01-10 10:15:30', None),\n",
       " (2, 'Yuki Nakamura', 2300.75, '2023-02-15 14:25:45', None),\n",
       " (3, '   Anja MAAAller', 1999.99, '2023-03-20 09:10:00', None),\n",
       " (4, 'Wei Zhang', 3500.0, '2023-04-25 16:45:20', None),\n",
       " (5, '    Olivier Dubois', 1200.0, '2023-05-30 10:00:55', None)]"
      ]
     },
     "execution_count": 80,
     "metadata": {},
     "output_type": "execute_result"
    }
   ],
   "source": [
    "%%sql\n",
    "SELECT * FROM sales\n",
    "LIMIT 5;"
   ]
  },
  {
   "cell_type": "code",
   "execution_count": 81,
   "id": "5c40d6ac",
   "metadata": {
    "colab": {
     "base_uri": "https://localhost:8080/"
    },
    "executionInfo": {
     "elapsed": 276,
     "status": "ok",
     "timestamp": 1753182609620,
     "user": {
      "displayName": "Benjamin Bennett Alexander",
      "userId": "14614847693800833280"
     },
     "user_tz": -180
    },
    "id": "5c40d6ac",
    "outputId": "b83394a7-069a-494e-eabc-69d04738349f"
   },
   "outputs": [
    {
     "name": "stdout",
     "output_type": "stream",
     "text": [
      " * sqlite:///miscellaneous.db\n",
      "10 rows affected.\n"
     ]
    },
    {
     "data": {
      "text/plain": [
       "[]"
      ]
     },
     "execution_count": 81,
     "metadata": {},
     "output_type": "execute_result"
    }
   ],
   "source": [
    "%%sql\n",
    "UPDATE sales\n",
    "SET costs_amount = sales_amount * 0.3;"
   ]
  },
  {
   "cell_type": "code",
   "execution_count": 82,
   "id": "9fb6ac9b",
   "metadata": {
    "colab": {
     "base_uri": "https://localhost:8080/",
     "height": 177
    },
    "executionInfo": {
     "elapsed": 267,
     "status": "ok",
     "timestamp": 1753182623574,
     "user": {
      "displayName": "Benjamin Bennett Alexander",
      "userId": "14614847693800833280"
     },
     "user_tz": -180
    },
    "id": "9fb6ac9b",
    "outputId": "041a4826-745c-4425-80ea-22cc3b23af20"
   },
   "outputs": [
    {
     "name": "stdout",
     "output_type": "stream",
     "text": [
      " * sqlite:///miscellaneous.db\n",
      "Done.\n"
     ]
    },
    {
     "data": {
      "text/html": [
       "<table>\n",
       "    <thead>\n",
       "        <tr>\n",
       "            <th>sales_id</th>\n",
       "            <th>sales_person</th>\n",
       "            <th>sales_amount</th>\n",
       "            <th>sales_date</th>\n",
       "            <th>costs_amount</th>\n",
       "        </tr>\n",
       "    </thead>\n",
       "    <tbody>\n",
       "        <tr>\n",
       "            <td>1</td>\n",
       "            <td>Giovanni Rossi</td>\n",
       "            <td>1500.5</td>\n",
       "            <td>2023-01-10 10:15:30</td>\n",
       "            <td>450.15</td>\n",
       "        </tr>\n",
       "        <tr>\n",
       "            <td>2</td>\n",
       "            <td>Yuki Nakamura</td>\n",
       "            <td>2300.75</td>\n",
       "            <td>2023-02-15 14:25:45</td>\n",
       "            <td>690.225</td>\n",
       "        </tr>\n",
       "        <tr>\n",
       "            <td>3</td>\n",
       "            <td>&nbsp;&nbsp;&nbsp;Anja MAAAller</td>\n",
       "            <td>1999.99</td>\n",
       "            <td>2023-03-20 09:10:00</td>\n",
       "            <td>599.997</td>\n",
       "        </tr>\n",
       "        <tr>\n",
       "            <td>4</td>\n",
       "            <td>Wei Zhang</td>\n",
       "            <td>3500.0</td>\n",
       "            <td>2023-04-25 16:45:20</td>\n",
       "            <td>1050.0</td>\n",
       "        </tr>\n",
       "        <tr>\n",
       "            <td>5</td>\n",
       "            <td>&nbsp;&nbsp;&nbsp;&nbsp;Olivier Dubois</td>\n",
       "            <td>1200.0</td>\n",
       "            <td>2023-05-30 10:00:55</td>\n",
       "            <td>360.0</td>\n",
       "        </tr>\n",
       "    </tbody>\n",
       "</table>"
      ],
      "text/plain": [
       "[(1, 'Giovanni Rossi', 1500.5, '2023-01-10 10:15:30', 450.15),\n",
       " (2, 'Yuki Nakamura', 2300.75, '2023-02-15 14:25:45', 690.225),\n",
       " (3, '   Anja MAAAller', 1999.99, '2023-03-20 09:10:00', 599.997),\n",
       " (4, 'Wei Zhang', 3500.0, '2023-04-25 16:45:20', 1050.0),\n",
       " (5, '    Olivier Dubois', 1200.0, '2023-05-30 10:00:55', 360.0)]"
      ]
     },
     "execution_count": 82,
     "metadata": {},
     "output_type": "execute_result"
    }
   ],
   "source": [
    "%%sql\n",
    "SELECT * FROM sales\n",
    "LIMIT 5;"
   ]
  },
  {
   "cell_type": "code",
   "execution_count": 84,
   "id": "bZntkWx8qL2d",
   "metadata": {
    "colab": {
     "base_uri": "https://localhost:8080/"
    },
    "executionInfo": {
     "elapsed": 272,
     "status": "ok",
     "timestamp": 1753183294947,
     "user": {
      "displayName": "Benjamin Bennett Alexander",
      "userId": "14614847693800833280"
     },
     "user_tz": -180
    },
    "id": "bZntkWx8qL2d",
    "outputId": "91fb223f-427c-47a4-fc30-098db00cd369"
   },
   "outputs": [
    {
     "name": "stdout",
     "output_type": "stream",
     "text": [
      " * sqlite:///miscellaneous.db\n",
      "0 rows affected.\n"
     ]
    },
    {
     "data": {
      "text/plain": [
       "[]"
      ]
     },
     "execution_count": 84,
     "metadata": {},
     "output_type": "execute_result"
    }
   ],
   "source": [
    "%%sql\n",
    "UPDATE sales\n",
    "SET sales_person = TRIM(sales_person)\n",
    "WHERE LENGTH(sales_person) != LENGTH(TRIM(sales_person));"
   ]
  },
  {
   "cell_type": "code",
   "execution_count": 85,
   "id": "3fca3ebe",
   "metadata": {
    "colab": {
     "base_uri": "https://localhost:8080/"
    },
    "executionInfo": {
     "elapsed": 258,
     "status": "ok",
     "timestamp": 1753183380559,
     "user": {
      "displayName": "Benjamin Bennett Alexander",
      "userId": "14614847693800833280"
     },
     "user_tz": -180
    },
    "id": "3fca3ebe",
    "outputId": "ee77a396-5c02-40c0-b76b-8a0d36888c80"
   },
   "outputs": [
    {
     "name": "stdout",
     "output_type": "stream",
     "text": [
      " * sqlite:///miscellaneous.db\n",
      "Done.\n"
     ]
    },
    {
     "data": {
      "text/plain": [
       "[]"
      ]
     },
     "execution_count": 85,
     "metadata": {},
     "output_type": "execute_result"
    }
   ],
   "source": [
    "%%sql\n",
    "ALTER TABLE sales\n",
    "DROP COLUMN costs_amount;"
   ]
  },
  {
   "cell_type": "code",
   "execution_count": 86,
   "id": "6da9820a",
   "metadata": {
    "colab": {
     "base_uri": "https://localhost:8080/",
     "height": 177
    },
    "executionInfo": {
     "elapsed": 261,
     "status": "ok",
     "timestamp": 1753183389792,
     "user": {
      "displayName": "Benjamin Bennett Alexander",
      "userId": "14614847693800833280"
     },
     "user_tz": -180
    },
    "id": "6da9820a",
    "outputId": "2be3802c-bc4c-4c6e-9625-9ae3791030c0"
   },
   "outputs": [
    {
     "name": "stdout",
     "output_type": "stream",
     "text": [
      " * sqlite:///miscellaneous.db\n",
      "Done.\n"
     ]
    },
    {
     "data": {
      "text/html": [
       "<table>\n",
       "    <thead>\n",
       "        <tr>\n",
       "            <th>sales_id</th>\n",
       "            <th>sales_person</th>\n",
       "            <th>sales_amount</th>\n",
       "            <th>sales_date</th>\n",
       "        </tr>\n",
       "    </thead>\n",
       "    <tbody>\n",
       "        <tr>\n",
       "            <td>1</td>\n",
       "            <td>Giovanni Rossi</td>\n",
       "            <td>1500.5</td>\n",
       "            <td>2023-01-10 10:15:30</td>\n",
       "        </tr>\n",
       "        <tr>\n",
       "            <td>2</td>\n",
       "            <td>Yuki Nakamura</td>\n",
       "            <td>2300.75</td>\n",
       "            <td>2023-02-15 14:25:45</td>\n",
       "        </tr>\n",
       "        <tr>\n",
       "            <td>3</td>\n",
       "            <td>Anja MAAAller</td>\n",
       "            <td>1999.99</td>\n",
       "            <td>2023-03-20 09:10:00</td>\n",
       "        </tr>\n",
       "        <tr>\n",
       "            <td>4</td>\n",
       "            <td>Wei Zhang</td>\n",
       "            <td>3500.0</td>\n",
       "            <td>2023-04-25 16:45:20</td>\n",
       "        </tr>\n",
       "        <tr>\n",
       "            <td>5</td>\n",
       "            <td>Olivier Dubois</td>\n",
       "            <td>1200.0</td>\n",
       "            <td>2023-05-30 10:00:55</td>\n",
       "        </tr>\n",
       "    </tbody>\n",
       "</table>"
      ],
      "text/plain": [
       "[(1, 'Giovanni Rossi', 1500.5, '2023-01-10 10:15:30'),\n",
       " (2, 'Yuki Nakamura', 2300.75, '2023-02-15 14:25:45'),\n",
       " (3, 'Anja MAAAller', 1999.99, '2023-03-20 09:10:00'),\n",
       " (4, 'Wei Zhang', 3500.0, '2023-04-25 16:45:20'),\n",
       " (5, 'Olivier Dubois', 1200.0, '2023-05-30 10:00:55')]"
      ]
     },
     "execution_count": 86,
     "metadata": {},
     "output_type": "execute_result"
    }
   ],
   "source": [
    "%%sql\n",
    "SELECT * FROM sales\n",
    "LIMIT 5;"
   ]
  },
  {
   "cell_type": "code",
   "execution_count": 87,
   "id": "378f181a",
   "metadata": {
    "colab": {
     "base_uri": "https://localhost:8080/"
    },
    "executionInfo": {
     "elapsed": 266,
     "status": "ok",
     "timestamp": 1753183435844,
     "user": {
      "displayName": "Benjamin Bennett Alexander",
      "userId": "14614847693800833280"
     },
     "user_tz": -180
    },
    "id": "378f181a",
    "outputId": "09997d08-953c-4a78-97a2-6595301e3801"
   },
   "outputs": [
    {
     "name": "stdout",
     "output_type": "stream",
     "text": [
      " * sqlite:///miscellaneous.db\n",
      "Done.\n"
     ]
    },
    {
     "data": {
      "text/plain": [
       "[]"
      ]
     },
     "execution_count": 87,
     "metadata": {},
     "output_type": "execute_result"
    }
   ],
   "source": [
    "%%sql\n",
    "ALTER TABLE sales\n",
    "RENAME TO sales_data;"
   ]
  },
  {
   "cell_type": "code",
   "execution_count": 88,
   "id": "e85da8ac",
   "metadata": {
    "colab": {
     "base_uri": "https://localhost:8080/"
    },
    "executionInfo": {
     "elapsed": 253,
     "status": "ok",
     "timestamp": 1753183439066,
     "user": {
      "displayName": "Benjamin Bennett Alexander",
      "userId": "14614847693800833280"
     },
     "user_tz": -180
    },
    "id": "e85da8ac",
    "outputId": "f1a0d254-4eba-4c95-b2cd-8399663a7967"
   },
   "outputs": [
    {
     "name": "stdout",
     "output_type": "stream",
     "text": [
      " * sqlite:///miscellaneous.db\n",
      "Done.\n"
     ]
    },
    {
     "data": {
      "text/plain": [
       "[]"
      ]
     },
     "execution_count": 88,
     "metadata": {},
     "output_type": "execute_result"
    }
   ],
   "source": [
    "%%sql\n",
    "ALTER TABLE sales_data\n",
    "RENAME TO sales;"
   ]
  },
  {
   "cell_type": "code",
   "execution_count": 89,
   "id": "9ef03cf6",
   "metadata": {
    "colab": {
     "base_uri": "https://localhost:8080/"
    },
    "executionInfo": {
     "elapsed": 413,
     "status": "ok",
     "timestamp": 1753183452179,
     "user": {
      "displayName": "Benjamin Bennett Alexander",
      "userId": "14614847693800833280"
     },
     "user_tz": -180
    },
    "id": "9ef03cf6",
    "outputId": "2a59d5ad-d89b-4439-c5bd-cf2f60b2a3ab"
   },
   "outputs": [
    {
     "name": "stdout",
     "output_type": "stream",
     "text": [
      " * sqlite:///miscellaneous.db\n",
      "1 rows affected.\n"
     ]
    },
    {
     "data": {
      "text/plain": [
       "[]"
      ]
     },
     "execution_count": 89,
     "metadata": {},
     "output_type": "execute_result"
    }
   ],
   "source": [
    "%%sql\n",
    "INSERT INTO sales\n",
    "        (sales_id, sales_person, sales_amount, sales_date)\n",
    "VALUES (11, 'Alice Kijo', 3000, '2023-05-28 11:00:55');"
   ]
  },
  {
   "cell_type": "code",
   "execution_count": 90,
   "id": "34ccdeee",
   "metadata": {
    "colab": {
     "base_uri": "https://localhost:8080/",
     "height": 94
    },
    "executionInfo": {
     "elapsed": 264,
     "status": "ok",
     "timestamp": 1753183463720,
     "user": {
      "displayName": "Benjamin Bennett Alexander",
      "userId": "14614847693800833280"
     },
     "user_tz": -180
    },
    "id": "34ccdeee",
    "outputId": "21c31e17-4310-4a13-a16c-e7957a632b34"
   },
   "outputs": [
    {
     "name": "stdout",
     "output_type": "stream",
     "text": [
      " * sqlite:///miscellaneous.db\n",
      "Done.\n"
     ]
    },
    {
     "data": {
      "text/html": [
       "<table>\n",
       "    <thead>\n",
       "        <tr>\n",
       "            <th>sales_id</th>\n",
       "            <th>sales_person</th>\n",
       "            <th>sales_amount</th>\n",
       "            <th>sales_date</th>\n",
       "        </tr>\n",
       "    </thead>\n",
       "    <tbody>\n",
       "        <tr>\n",
       "            <td>11</td>\n",
       "            <td>Alice Kijo</td>\n",
       "            <td>3000.0</td>\n",
       "            <td>2023-05-28 11:00:55</td>\n",
       "        </tr>\n",
       "    </tbody>\n",
       "</table>"
      ],
      "text/plain": [
       "[(11, 'Alice Kijo', 3000.0, '2023-05-28 11:00:55')]"
      ]
     },
     "execution_count": 90,
     "metadata": {},
     "output_type": "execute_result"
    }
   ],
   "source": [
    "%%sql\n",
    "SELECT * FROM sales\n",
    "WHERE sales_person = 'Alice Kijo';"
   ]
  },
  {
   "cell_type": "code",
   "execution_count": 91,
   "id": "7724a965",
   "metadata": {
    "colab": {
     "base_uri": "https://localhost:8080/"
    },
    "executionInfo": {
     "elapsed": 277,
     "status": "ok",
     "timestamp": 1753183472426,
     "user": {
      "displayName": "Benjamin Bennett Alexander",
      "userId": "14614847693800833280"
     },
     "user_tz": -180
    },
    "id": "7724a965",
    "outputId": "a19ea0e4-e57f-444f-f525-b17c873be7f4"
   },
   "outputs": [
    {
     "name": "stdout",
     "output_type": "stream",
     "text": [
      " * sqlite:///miscellaneous.db\n",
      "2 rows affected.\n"
     ]
    },
    {
     "data": {
      "text/plain": [
       "[]"
      ]
     },
     "execution_count": 91,
     "metadata": {},
     "output_type": "execute_result"
    }
   ],
   "source": [
    "%%sql\n",
    "INSERT INTO sales\n",
    "VALUES (12, 'Kim Mau', 3100, '2023-06-21 14:30:55'),\n",
    "       (13, 'Peter Silo', 1100, '2023-07-10 12:00:55');"
   ]
  },
  {
   "cell_type": "code",
   "execution_count": 92,
   "id": "54ac315c",
   "metadata": {
    "colab": {
     "base_uri": "https://localhost:8080/"
    },
    "executionInfo": {
     "elapsed": 258,
     "status": "ok",
     "timestamp": 1753183483014,
     "user": {
      "displayName": "Benjamin Bennett Alexander",
      "userId": "14614847693800833280"
     },
     "user_tz": -180
    },
    "id": "54ac315c",
    "outputId": "cf2ee721-727d-4bfa-f34f-ee4614eef41d"
   },
   "outputs": [
    {
     "name": "stdout",
     "output_type": "stream",
     "text": [
      " * sqlite:///miscellaneous.db\n",
      "0 rows affected.\n"
     ]
    },
    {
     "data": {
      "text/plain": [
       "[]"
      ]
     },
     "execution_count": 92,
     "metadata": {},
     "output_type": "execute_result"
    }
   ],
   "source": [
    "%%sql\n",
    "INSERT OR IGNORE INTO sales\n",
    "VALUES (12, 'Kim Mau', 3100, '2023-06-21 14:30:55'),\n",
    "       (13, 'Peter Silo', 1100, '2023-07-10 12:00:55');"
   ]
  },
  {
   "cell_type": "code",
   "execution_count": 93,
   "id": "e9c74187",
   "metadata": {
    "colab": {
     "base_uri": "https://localhost:8080/"
    },
    "executionInfo": {
     "elapsed": 287,
     "status": "ok",
     "timestamp": 1753183489379,
     "user": {
      "displayName": "Benjamin Bennett Alexander",
      "userId": "14614847693800833280"
     },
     "user_tz": -180
    },
    "id": "e9c74187",
    "outputId": "0faf4409-418e-423f-d953-4aa7f426ce63"
   },
   "outputs": [
    {
     "name": "stdout",
     "output_type": "stream",
     "text": [
      " * sqlite:///miscellaneous.db\n",
      "1 rows affected.\n"
     ]
    },
    {
     "data": {
      "text/plain": [
       "[]"
      ]
     },
     "execution_count": 93,
     "metadata": {},
     "output_type": "execute_result"
    }
   ],
   "source": [
    "%%sql\n",
    "DELETE FROM sales\n",
    "WHERE sales_person = 'Peter Silo';"
   ]
  },
  {
   "cell_type": "code",
   "execution_count": 94,
   "id": "iD6lL_URDVyW",
   "metadata": {
    "colab": {
     "base_uri": "https://localhost:8080/",
     "height": 94
    },
    "executionInfo": {
     "elapsed": 272,
     "status": "ok",
     "timestamp": 1753183497816,
     "user": {
      "displayName": "Benjamin Bennett Alexander",
      "userId": "14614847693800833280"
     },
     "user_tz": -180
    },
    "id": "iD6lL_URDVyW",
    "outputId": "760d91d6-77c6-4671-d88e-a8fbee62ab7e"
   },
   "outputs": [
    {
     "name": "stdout",
     "output_type": "stream",
     "text": [
      " * sqlite:///miscellaneous.db\n",
      "Done.\n"
     ]
    },
    {
     "data": {
      "text/html": [
       "<table>\n",
       "    <thead>\n",
       "        <tr>\n",
       "            <th>status_of_peter</th>\n",
       "        </tr>\n",
       "    </thead>\n",
       "    <tbody>\n",
       "        <tr>\n",
       "            <td>Peter is not in the table</td>\n",
       "        </tr>\n",
       "    </tbody>\n",
       "</table>"
      ],
      "text/plain": [
       "[('Peter is not in the table',)]"
      ]
     },
     "execution_count": 94,
     "metadata": {},
     "output_type": "execute_result"
    }
   ],
   "source": [
    "%%sql\n",
    "SELECT\n",
    "    CASE\n",
    "        WHEN EXISTS (SELECT 1 FROM sales\n",
    "        WHERE sales_person = 'Peter Silo')\n",
    "        THEN 'Peter in the table'\n",
    "        ELSE 'Peter is not in the table'\n",
    "    END AS status_of_peter;"
   ]
  },
  {
   "cell_type": "code",
   "execution_count": 95,
   "id": "a90b7e8e",
   "metadata": {
    "colab": {
     "base_uri": "https://localhost:8080/",
     "height": 156
    },
    "executionInfo": {
     "elapsed": 307,
     "status": "ok",
     "timestamp": 1753183509380,
     "user": {
      "displayName": "Benjamin Bennett Alexander",
      "userId": "14614847693800833280"
     },
     "user_tz": -180
    },
    "id": "a90b7e8e",
    "outputId": "c9e06268-8e4b-42cb-d091-659b2b0d27a8"
   },
   "outputs": [
    {
     "name": "stdout",
     "output_type": "stream",
     "text": [
      " * sqlite:///miscellaneous.db\n",
      "Done.\n"
     ]
    },
    {
     "data": {
      "text/html": [
       "<table>\n",
       "    <thead>\n",
       "        <tr>\n",
       "            <th>cid</th>\n",
       "            <th>name</th>\n",
       "            <th>type</th>\n",
       "            <th>notnull</th>\n",
       "            <th>dflt_value</th>\n",
       "            <th>pk</th>\n",
       "        </tr>\n",
       "    </thead>\n",
       "    <tbody>\n",
       "        <tr>\n",
       "            <td>0</td>\n",
       "            <td>sales_id</td>\n",
       "            <td>INTEGER</td>\n",
       "            <td>0</td>\n",
       "            <td>None</td>\n",
       "            <td>1</td>\n",
       "        </tr>\n",
       "        <tr>\n",
       "            <td>1</td>\n",
       "            <td>sales_person</td>\n",
       "            <td>TEXT</td>\n",
       "            <td>0</td>\n",
       "            <td>None</td>\n",
       "            <td>0</td>\n",
       "        </tr>\n",
       "        <tr>\n",
       "            <td>2</td>\n",
       "            <td>sales_amount</td>\n",
       "            <td>REAL</td>\n",
       "            <td>0</td>\n",
       "            <td>None</td>\n",
       "            <td>0</td>\n",
       "        </tr>\n",
       "        <tr>\n",
       "            <td>3</td>\n",
       "            <td>sales_date</td>\n",
       "            <td>Date</td>\n",
       "            <td>0</td>\n",
       "            <td>None</td>\n",
       "            <td>0</td>\n",
       "        </tr>\n",
       "    </tbody>\n",
       "</table>"
      ],
      "text/plain": [
       "[(0, 'sales_id', 'INTEGER', 0, None, 1),\n",
       " (1, 'sales_person', 'TEXT', 0, None, 0),\n",
       " (2, 'sales_amount', 'REAL', 0, None, 0),\n",
       " (3, 'sales_date', 'Date', 0, None, 0)]"
      ]
     },
     "execution_count": 95,
     "metadata": {},
     "output_type": "execute_result"
    }
   ],
   "source": [
    "%%sql\n",
    "PRAGMA table_info(sales);"
   ]
  },
  {
   "cell_type": "code",
   "execution_count": 97,
   "id": "1cD4-L-iF10W",
   "metadata": {
    "colab": {
     "base_uri": "https://localhost:8080/",
     "height": 94
    },
    "executionInfo": {
     "elapsed": 278,
     "status": "ok",
     "timestamp": 1753183601616,
     "user": {
      "displayName": "Benjamin Bennett Alexander",
      "userId": "14614847693800833280"
     },
     "user_tz": -180
    },
    "id": "1cD4-L-iF10W",
    "outputId": "486a2ae9-a94a-4a17-fba0-b447df9353cb"
   },
   "outputs": [
    {
     "name": "stdout",
     "output_type": "stream",
     "text": [
      " * sqlite:///miscellaneous.db\n",
      "Done.\n"
     ]
    },
    {
     "data": {
      "text/html": [
       "<table>\n",
       "    <thead>\n",
       "        <tr>\n",
       "            <th>number_of_null_values</th>\n",
       "        </tr>\n",
       "    </thead>\n",
       "    <tbody>\n",
       "        <tr>\n",
       "            <td>0</td>\n",
       "        </tr>\n",
       "    </tbody>\n",
       "</table>"
      ],
      "text/plain": [
       "[(0,)]"
      ]
     },
     "execution_count": 97,
     "metadata": {},
     "output_type": "execute_result"
    }
   ],
   "source": [
    "%%sql\n",
    "SELECT COUNT(*) AS number_of_null_values\n",
    "FROM sales WHERE sales_amount IS NULL;"
   ]
  },
  {
   "cell_type": "code",
   "execution_count": 98,
   "id": "nLoC24HgoOUc",
   "metadata": {
    "colab": {
     "base_uri": "https://localhost:8080/",
     "height": 74
    },
    "executionInfo": {
     "elapsed": 244,
     "status": "ok",
     "timestamp": 1753183621068,
     "user": {
      "displayName": "Benjamin Bennett Alexander",
      "userId": "14614847693800833280"
     },
     "user_tz": -180
    },
    "id": "nLoC24HgoOUc",
    "outputId": "9de72bfb-5336-47c0-a909-6e6d3fc6c965"
   },
   "outputs": [
    {
     "name": "stdout",
     "output_type": "stream",
     "text": [
      " * sqlite:///miscellaneous.db\n",
      "Done.\n"
     ]
    },
    {
     "data": {
      "text/html": [
       "<table>\n",
       "    <thead>\n",
       "        <tr>\n",
       "            <th>duplicates_count</th>\n",
       "        </tr>\n",
       "    </thead>\n",
       "    <tbody>\n",
       "    </tbody>\n",
       "</table>"
      ],
      "text/plain": [
       "[]"
      ]
     },
     "execution_count": 98,
     "metadata": {},
     "output_type": "execute_result"
    }
   ],
   "source": [
    "%%sql\n",
    "SELECT COUNT(*) AS duplicates_count\n",
    "FROM sales\n",
    "GROUP BY sales_person\n",
    "HAVING COUNT(*) > 1;"
   ]
  },
  {
   "cell_type": "code",
   "execution_count": 99,
   "id": "JlsylSO5FtyK",
   "metadata": {
    "colab": {
     "base_uri": "https://localhost:8080/",
     "height": 94
    },
    "executionInfo": {
     "elapsed": 259,
     "status": "ok",
     "timestamp": 1753183725977,
     "user": {
      "displayName": "Benjamin Bennett Alexander",
      "userId": "14614847693800833280"
     },
     "user_tz": -180
    },
    "id": "JlsylSO5FtyK",
    "outputId": "c8525807-f7b4-4516-a54d-9dab1ddcfc56"
   },
   "outputs": [
    {
     "name": "stdout",
     "output_type": "stream",
     "text": [
      " * sqlite:///miscellaneous.db\n",
      "Done.\n"
     ]
    },
    {
     "data": {
      "text/html": [
       "<table>\n",
       "    <thead>\n",
       "        <tr>\n",
       "            <th>duplicates_check</th>\n",
       "        </tr>\n",
       "    </thead>\n",
       "    <tbody>\n",
       "        <tr>\n",
       "            <td>No duplicates in the column</td>\n",
       "        </tr>\n",
       "    </tbody>\n",
       "</table>"
      ],
      "text/plain": [
       "[('No duplicates in the column',)]"
      ]
     },
     "execution_count": 99,
     "metadata": {},
     "output_type": "execute_result"
    }
   ],
   "source": [
    "%%sql\n",
    "SELECT\n",
    "    CASE\n",
    "        WHEN EXISTS (SELECT 1 FROM sales\n",
    "                    GROUP BY sales_person\n",
    "                    HAVING COUNT(*) > 1)\n",
    "        THEN 'Duplicates in the column'\n",
    "        ELSE 'No duplicates in the column'\n",
    "    END AS duplicates_check;"
   ]
  },
  {
   "cell_type": "code",
   "execution_count": 100,
   "id": "-CsJHdo5JY8w",
   "metadata": {
    "colab": {
     "base_uri": "https://localhost:8080/",
     "height": 94
    },
    "executionInfo": {
     "elapsed": 292,
     "status": "ok",
     "timestamp": 1753183776621,
     "user": {
      "displayName": "Benjamin Bennett Alexander",
      "userId": "14614847693800833280"
     },
     "user_tz": -180
    },
    "id": "-CsJHdo5JY8w",
    "outputId": "0da6de9e-b66b-4cac-c050-f9514215a9f4"
   },
   "outputs": [
    {
     "name": "stdout",
     "output_type": "stream",
     "text": [
      " * sqlite:///miscellaneous.db\n",
      "Done.\n"
     ]
    },
    {
     "data": {
      "text/html": [
       "<table>\n",
       "    <thead>\n",
       "        <tr>\n",
       "            <th>duplicates_check</th>\n",
       "        </tr>\n",
       "    </thead>\n",
       "    <tbody>\n",
       "        <tr>\n",
       "            <td>No duplicates in the table</td>\n",
       "        </tr>\n",
       "    </tbody>\n",
       "</table>"
      ],
      "text/plain": [
       "[('No duplicates in the table',)]"
      ]
     },
     "execution_count": 100,
     "metadata": {},
     "output_type": "execute_result"
    }
   ],
   "source": [
    "%%sql\n",
    "SELECT\n",
    "    CASE\n",
    "        WHEN EXISTS (SELECT 1\n",
    "                     FROM sales\n",
    "                     GROUP BY sales_id, sales_person,\n",
    "                             sales_amount, sales_date\n",
    "                     HAVING COUNT(*) > 1)\n",
    "        THEN 'Duplicates in the table'\n",
    "        ELSE 'No duplicates in the table'\n",
    "    END AS duplicates_check;"
   ]
  },
  {
   "cell_type": "code",
   "execution_count": 101,
   "id": "gOAJ3z1aRDkb",
   "metadata": {
    "colab": {
     "base_uri": "https://localhost:8080/"
    },
    "executionInfo": {
     "elapsed": 291,
     "status": "ok",
     "timestamp": 1753183819778,
     "user": {
      "displayName": "Benjamin Bennett Alexander",
      "userId": "14614847693800833280"
     },
     "user_tz": -180
    },
    "id": "gOAJ3z1aRDkb",
    "outputId": "9232c720-aaa7-4cad-9b4e-e39275a00001"
   },
   "outputs": [
    {
     "name": "stdout",
     "output_type": "stream",
     "text": [
      " * sqlite:///miscellaneous.db\n",
      "Done.\n"
     ]
    },
    {
     "data": {
      "text/plain": [
       "[]"
      ]
     },
     "execution_count": 101,
     "metadata": {},
     "output_type": "execute_result"
    }
   ],
   "source": [
    "%%sql\n",
    "-- Select oldest record for each person\n",
    "WITH duplicates AS (\n",
    "    SELECT sales_id\n",
    "    FROM sales\n",
    "    WHERE sales_id NOT IN (\n",
    "        SELECT MIN(sales_id)\n",
    "        FROM sales\n",
    "        GROUP BY sales_person\n",
    "    )\n",
    ")\n",
    "-- Delete oldest records for each person\n",
    "DELETE FROM sales\n",
    "WHERE sales_id IN (SELECT sales_id FROM duplicates);"
   ]
  },
  {
   "cell_type": "code",
   "execution_count": 102,
   "id": "e673ca5a",
   "metadata": {
    "colab": {
     "base_uri": "https://localhost:8080/",
     "height": 322
    },
    "executionInfo": {
     "elapsed": 296,
     "status": "ok",
     "timestamp": 1753183846813,
     "user": {
      "displayName": "Benjamin Bennett Alexander",
      "userId": "14614847693800833280"
     },
     "user_tz": -180
    },
    "id": "e673ca5a",
    "outputId": "8978b69e-80b8-4d05-f0e4-230fbcbcd3d9"
   },
   "outputs": [
    {
     "name": "stdout",
     "output_type": "stream",
     "text": [
      " * sqlite:///miscellaneous.db\n",
      "Done.\n"
     ]
    },
    {
     "data": {
      "text/html": [
       "<table>\n",
       "    <thead>\n",
       "        <tr>\n",
       "            <th>sales_id</th>\n",
       "            <th>sales_person</th>\n",
       "            <th>sales_amount</th>\n",
       "            <th>sales_date</th>\n",
       "        </tr>\n",
       "    </thead>\n",
       "    <tbody>\n",
       "        <tr>\n",
       "            <td>1</td>\n",
       "            <td>Giovanni Rossi</td>\n",
       "            <td>1500.5</td>\n",
       "            <td>2023-01-10 10:15:30</td>\n",
       "        </tr>\n",
       "        <tr>\n",
       "            <td>2</td>\n",
       "            <td>Yuki Nakamura</td>\n",
       "            <td>2300.75</td>\n",
       "            <td>2023-02-15 14:25:45</td>\n",
       "        </tr>\n",
       "        <tr>\n",
       "            <td>3</td>\n",
       "            <td>Anja MAAAller</td>\n",
       "            <td>1999.99</td>\n",
       "            <td>2023-03-20 09:10:00</td>\n",
       "        </tr>\n",
       "        <tr>\n",
       "            <td>4</td>\n",
       "            <td>Wei Zhang</td>\n",
       "            <td>3500.0</td>\n",
       "            <td>2023-04-25 16:45:20</td>\n",
       "        </tr>\n",
       "        <tr>\n",
       "            <td>5</td>\n",
       "            <td>Olivier Dubois</td>\n",
       "            <td>1200.0</td>\n",
       "            <td>2023-05-30 10:00:55</td>\n",
       "        </tr>\n",
       "        <tr>\n",
       "            <td>6</td>\n",
       "            <td>Aditi Sharma</td>\n",
       "            <td>4100.5</td>\n",
       "            <td>2023-06-05 08:05:10</td>\n",
       "        </tr>\n",
       "        <tr>\n",
       "            <td>7</td>\n",
       "            <td>JAAArgen Schneider</td>\n",
       "            <td>3100.25</td>\n",
       "            <td>2023-07-10 18:20:30</td>\n",
       "        </tr>\n",
       "        <tr>\n",
       "            <td>8</td>\n",
       "            <td>Min-Soo Kim</td>\n",
       "            <td>2700.75</td>\n",
       "            <td>2023-08-15 20:40:15</td>\n",
       "        </tr>\n",
       "        <tr>\n",
       "            <td>9</td>\n",
       "            <td>Katarzyna Nowak</td>\n",
       "            <td>3300.1</td>\n",
       "            <td>2023-09-20 11:35:25</td>\n",
       "        </tr>\n",
       "        <tr>\n",
       "            <td>10</td>\n",
       "            <td>Hiroshi Tanaka</td>\n",
       "            <td>2500.0</td>\n",
       "            <td>2023-10-25 13:50:40</td>\n",
       "        </tr>\n",
       "        <tr>\n",
       "            <td>11</td>\n",
       "            <td>Alice Kijo</td>\n",
       "            <td>3000.0</td>\n",
       "            <td>2023-05-28 11:00:55</td>\n",
       "        </tr>\n",
       "        <tr>\n",
       "            <td>12</td>\n",
       "            <td>Kim Mau</td>\n",
       "            <td>3100.0</td>\n",
       "            <td>2023-06-21 14:30:55</td>\n",
       "        </tr>\n",
       "    </tbody>\n",
       "</table>"
      ],
      "text/plain": [
       "[(1, 'Giovanni Rossi', 1500.5, '2023-01-10 10:15:30'),\n",
       " (2, 'Yuki Nakamura', 2300.75, '2023-02-15 14:25:45'),\n",
       " (3, 'Anja MAAAller', 1999.99, '2023-03-20 09:10:00'),\n",
       " (4, 'Wei Zhang', 3500.0, '2023-04-25 16:45:20'),\n",
       " (5, 'Olivier Dubois', 1200.0, '2023-05-30 10:00:55'),\n",
       " (6, 'Aditi Sharma', 4100.5, '2023-06-05 08:05:10'),\n",
       " (7, 'JAAArgen Schneider', 3100.25, '2023-07-10 18:20:30'),\n",
       " (8, 'Min-Soo Kim', 2700.75, '2023-08-15 20:40:15'),\n",
       " (9, 'Katarzyna Nowak', 3300.1, '2023-09-20 11:35:25'),\n",
       " (10, 'Hiroshi Tanaka', 2500.0, '2023-10-25 13:50:40'),\n",
       " (11, 'Alice Kijo', 3000.0, '2023-05-28 11:00:55'),\n",
       " (12, 'Kim Mau', 3100.0, '2023-06-21 14:30:55')]"
      ]
     },
     "execution_count": 102,
     "metadata": {},
     "output_type": "execute_result"
    }
   ],
   "source": [
    "%%sql\n",
    "SELECT * FROM sales;"
   ]
  },
  {
   "cell_type": "code",
   "execution_count": 103,
   "id": "f23c552b",
   "metadata": {
    "colab": {
     "base_uri": "https://localhost:8080/",
     "height": 115
    },
    "executionInfo": {
     "elapsed": 258,
     "status": "ok",
     "timestamp": 1753183854534,
     "user": {
      "displayName": "Benjamin Bennett Alexander",
      "userId": "14614847693800833280"
     },
     "user_tz": -180
    },
    "id": "f23c552b",
    "outputId": "05f06c30-add6-40b9-b210-61f6484d06fe"
   },
   "outputs": [
    {
     "name": "stdout",
     "output_type": "stream",
     "text": [
      " * sqlite:///miscellaneous.db\n",
      "Done.\n"
     ]
    },
    {
     "data": {
      "text/html": [
       "<table>\n",
       "    <thead>\n",
       "        <tr>\n",
       "            <th>cleaned_column</th>\n",
       "        </tr>\n",
       "    </thead>\n",
       "    <tbody>\n",
       "        <tr>\n",
       "            <td>Anja Muller</td>\n",
       "        </tr>\n",
       "        <tr>\n",
       "            <td>Jurgen Schneider</td>\n",
       "        </tr>\n",
       "    </tbody>\n",
       "</table>"
      ],
      "text/plain": [
       "[('Anja Muller',), ('Jurgen Schneider',)]"
      ]
     },
     "execution_count": 103,
     "metadata": {},
     "output_type": "execute_result"
    }
   ],
   "source": [
    "%%sql\n",
    "SELECT\n",
    "    REPLACE(sales_person, 'AAA', 'u') AS cleaned_column\n",
    "FROM sales\n",
    "WHERE sales_person IN ('Anja MAAAller', 'JAAArgen Schneider');"
   ]
  },
  {
   "cell_type": "code",
   "execution_count": 104,
   "id": "7caa9c71",
   "metadata": {
    "colab": {
     "base_uri": "https://localhost:8080/"
    },
    "executionInfo": {
     "elapsed": 271,
     "status": "ok",
     "timestamp": 1753183862696,
     "user": {
      "displayName": "Benjamin Bennett Alexander",
      "userId": "14614847693800833280"
     },
     "user_tz": -180
    },
    "id": "7caa9c71",
    "outputId": "335021a1-042f-48ec-c7b1-3fada85419fa"
   },
   "outputs": [
    {
     "name": "stdout",
     "output_type": "stream",
     "text": [
      " * sqlite:///miscellaneous.db\n",
      "2 rows affected.\n"
     ]
    },
    {
     "data": {
      "text/plain": [
       "[]"
      ]
     },
     "execution_count": 104,
     "metadata": {},
     "output_type": "execute_result"
    }
   ],
   "source": [
    "%%sql\n",
    "UPDATE sales\n",
    "SET sales_person = REPLACE(sales_person, 'AAA', 'u')\n",
    "WHERE sales_person IN ('Anja MAAAller', 'JAAArgen Schneider');"
   ]
  },
  {
   "cell_type": "code",
   "execution_count": 105,
   "id": "c95b2aeb",
   "metadata": {
    "colab": {
     "base_uri": "https://localhost:8080/",
     "height": 115
    },
    "executionInfo": {
     "elapsed": 293,
     "status": "ok",
     "timestamp": 1753183870024,
     "user": {
      "displayName": "Benjamin Bennett Alexander",
      "userId": "14614847693800833280"
     },
     "user_tz": -180
    },
    "id": "c95b2aeb",
    "outputId": "d611d291-cc28-4f77-f3ad-8b81a82c409a"
   },
   "outputs": [
    {
     "name": "stdout",
     "output_type": "stream",
     "text": [
      " * sqlite:///miscellaneous.db\n",
      "Done.\n"
     ]
    },
    {
     "data": {
      "text/html": [
       "<table>\n",
       "    <thead>\n",
       "        <tr>\n",
       "            <th>sales_id</th>\n",
       "            <th>sales_person</th>\n",
       "            <th>sales_amount</th>\n",
       "            <th>sales_date</th>\n",
       "        </tr>\n",
       "    </thead>\n",
       "    <tbody>\n",
       "        <tr>\n",
       "            <td>3</td>\n",
       "            <td>Anja Muller</td>\n",
       "            <td>1999.99</td>\n",
       "            <td>2023-03-20 09:10:00</td>\n",
       "        </tr>\n",
       "        <tr>\n",
       "            <td>7</td>\n",
       "            <td>Jurgen Schneider</td>\n",
       "            <td>3100.25</td>\n",
       "            <td>2023-07-10 18:20:30</td>\n",
       "        </tr>\n",
       "    </tbody>\n",
       "</table>"
      ],
      "text/plain": [
       "[(3, 'Anja Muller', 1999.99, '2023-03-20 09:10:00'),\n",
       " (7, 'Jurgen Schneider', 3100.25, '2023-07-10 18:20:30')]"
      ]
     },
     "execution_count": 105,
     "metadata": {},
     "output_type": "execute_result"
    }
   ],
   "source": [
    "%%sql\n",
    "SELECT * FROM sales\n",
    "WHERE sales_person IN ('Anja Muller', 'Jurgen Schneider');"
   ]
  },
  {
   "cell_type": "code",
   "execution_count": 106,
   "id": "7bd60b22",
   "metadata": {
    "colab": {
     "base_uri": "https://localhost:8080/",
     "height": 115
    },
    "executionInfo": {
     "elapsed": 293,
     "status": "ok",
     "timestamp": 1753183877961,
     "user": {
      "displayName": "Benjamin Bennett Alexander",
      "userId": "14614847693800833280"
     },
     "user_tz": -180
    },
    "id": "7bd60b22",
    "outputId": "c322f740-d9ce-482a-8ccc-89a7b4434089"
   },
   "outputs": [
    {
     "name": "stdout",
     "output_type": "stream",
     "text": [
      " * sqlite:///miscellaneous.db\n",
      "Done.\n"
     ]
    },
    {
     "data": {
      "text/html": [
       "<table>\n",
       "    <thead>\n",
       "        <tr>\n",
       "            <th>sales_person</th>\n",
       "            <th>sales_amount</th>\n",
       "        </tr>\n",
       "    </thead>\n",
       "    <tbody>\n",
       "        <tr>\n",
       "            <td>Aditi Sharma</td>\n",
       "            <td>4100.5</td>\n",
       "        </tr>\n",
       "        <tr>\n",
       "            <td>Wei Zhang</td>\n",
       "            <td>3500.0</td>\n",
       "        </tr>\n",
       "    </tbody>\n",
       "</table>"
      ],
      "text/plain": [
       "[('Aditi Sharma', 4100.5), ('Wei Zhang', 3500.0)]"
      ]
     },
     "execution_count": 106,
     "metadata": {},
     "output_type": "execute_result"
    }
   ],
   "source": [
    "%%sql\n",
    "SELECT sales_person, sales_amount\n",
    "FROM sales\n",
    "WHERE sales_person = 'Wei Zhang'\n",
    "\n",
    "UNION -- Using union to combine results\n",
    "\n",
    "SELECT sales_person, sales_amount\n",
    "FROM sales\n",
    "WHERE sales_person = 'Aditi Sharma';"
   ]
  },
  {
   "cell_type": "code",
   "execution_count": 107,
   "id": "b8ba9474",
   "metadata": {
    "colab": {
     "base_uri": "https://localhost:8080/",
     "height": 94
    },
    "executionInfo": {
     "elapsed": 276,
     "status": "ok",
     "timestamp": 1753183892649,
     "user": {
      "displayName": "Benjamin Bennett Alexander",
      "userId": "14614847693800833280"
     },
     "user_tz": -180
    },
    "id": "b8ba9474",
    "outputId": "005871fa-d185-480b-b514-053e989803d7"
   },
   "outputs": [
    {
     "name": "stdout",
     "output_type": "stream",
     "text": [
      " * sqlite:///miscellaneous.db\n",
      "Done.\n"
     ]
    },
    {
     "data": {
      "text/html": [
       "<table>\n",
       "    <thead>\n",
       "        <tr>\n",
       "            <th>sales_person</th>\n",
       "            <th>sales_amount</th>\n",
       "        </tr>\n",
       "    </thead>\n",
       "    <tbody>\n",
       "        <tr>\n",
       "            <td>Wei Zhang</td>\n",
       "            <td>3500.0</td>\n",
       "        </tr>\n",
       "    </tbody>\n",
       "</table>"
      ],
      "text/plain": [
       "[('Wei Zhang', 3500.0)]"
      ]
     },
     "execution_count": 107,
     "metadata": {},
     "output_type": "execute_result"
    }
   ],
   "source": [
    "%%sql\n",
    "SELECT sales_person, sales_amount\n",
    "FROM sales\n",
    "WHERE sales_person = 'Wei Zhang'\n",
    "\n",
    "UNION -- Using union to combine results\n",
    "\n",
    "SELECT sales_person, sales_amount\n",
    "FROM sales\n",
    "WHERE sales_person = 'Wei Zhang'"
   ]
  },
  {
   "cell_type": "markdown",
   "id": "134550de",
   "metadata": {
    "id": "134550de"
   },
   "source": [
    "#### Using UNION ALL operator"
   ]
  },
  {
   "cell_type": "code",
   "execution_count": 108,
   "id": "b3ec2c48",
   "metadata": {
    "colab": {
     "base_uri": "https://localhost:8080/",
     "height": 115
    },
    "executionInfo": {
     "elapsed": 284,
     "status": "ok",
     "timestamp": 1753183900905,
     "user": {
      "displayName": "Benjamin Bennett Alexander",
      "userId": "14614847693800833280"
     },
     "user_tz": -180
    },
    "id": "b3ec2c48",
    "outputId": "7c3e3dc2-f7f3-4b6f-db85-aba23c9570f5"
   },
   "outputs": [
    {
     "name": "stdout",
     "output_type": "stream",
     "text": [
      " * sqlite:///miscellaneous.db\n",
      "Done.\n"
     ]
    },
    {
     "data": {
      "text/html": [
       "<table>\n",
       "    <thead>\n",
       "        <tr>\n",
       "            <th>sales_person</th>\n",
       "            <th>sales_amount</th>\n",
       "        </tr>\n",
       "    </thead>\n",
       "    <tbody>\n",
       "        <tr>\n",
       "            <td>Wei Zhang</td>\n",
       "            <td>3500.0</td>\n",
       "        </tr>\n",
       "        <tr>\n",
       "            <td>Wei Zhang</td>\n",
       "            <td>3500.0</td>\n",
       "        </tr>\n",
       "    </tbody>\n",
       "</table>"
      ],
      "text/plain": [
       "[('Wei Zhang', 3500.0), ('Wei Zhang', 3500.0)]"
      ]
     },
     "execution_count": 108,
     "metadata": {},
     "output_type": "execute_result"
    }
   ],
   "source": [
    "%%sql\n",
    "SELECT sales_person, sales_amount\n",
    "FROM sales\n",
    "WHERE sales_person = 'Wei Zhang'\n",
    "\n",
    "UNION ALL -- Using union all to combine results\n",
    "\n",
    "SELECT sales_person, sales_amount\n",
    "FROM sales\n",
    "WHERE sales_person = 'Wei Zhang'"
   ]
  },
  {
   "cell_type": "code",
   "execution_count": 109,
   "id": "6337182d",
   "metadata": {
    "colab": {
     "base_uri": "https://localhost:8080/",
     "height": 94
    },
    "executionInfo": {
     "elapsed": 265,
     "status": "ok",
     "timestamp": 1753183904996,
     "user": {
      "displayName": "Benjamin Bennett Alexander",
      "userId": "14614847693800833280"
     },
     "user_tz": -180
    },
    "id": "6337182d",
    "outputId": "9b43a737-6bcf-42d8-9f3f-968e6cd95b5e"
   },
   "outputs": [
    {
     "name": "stdout",
     "output_type": "stream",
     "text": [
      " * sqlite:///miscellaneous.db\n",
      "Done.\n"
     ]
    },
    {
     "data": {
      "text/html": [
       "<table>\n",
       "    <thead>\n",
       "        <tr>\n",
       "            <th>common_sales_month</th>\n",
       "        </tr>\n",
       "    </thead>\n",
       "    <tbody>\n",
       "        <tr>\n",
       "            <td>05</td>\n",
       "        </tr>\n",
       "    </tbody>\n",
       "</table>"
      ],
      "text/plain": [
       "[('05',)]"
      ]
     },
     "execution_count": 109,
     "metadata": {},
     "output_type": "execute_result"
    }
   ],
   "source": [
    "%%sql\n",
    "SELECT STRFTIME('%m', sales_date) AS common_sales_month\n",
    "FROM sales\n",
    "WHERE sales_person = 'Alice Kijo'\n",
    "\n",
    "INTERSECT -- Using intersect to find common row\n",
    "\n",
    "SELECT STRFTIME('%m', sales_date) AS common_sales_month\n",
    "FROM sales\n",
    "WHERE sales_person = 'Olivier Dubois'"
   ]
  },
  {
   "cell_type": "code",
   "execution_count": 110,
   "id": "a62506gmqE6I",
   "metadata": {
    "colab": {
     "base_uri": "https://localhost:8080/",
     "height": 94
    },
    "executionInfo": {
     "elapsed": 276,
     "status": "ok",
     "timestamp": 1753183916348,
     "user": {
      "displayName": "Benjamin Bennett Alexander",
      "userId": "14614847693800833280"
     },
     "user_tz": -180
    },
    "id": "a62506gmqE6I",
    "outputId": "7065f1ef-900e-40bb-f7ba-9a84c4e7d40f"
   },
   "outputs": [
    {
     "name": "stdout",
     "output_type": "stream",
     "text": [
      " * sqlite:///miscellaneous.db\n",
      "Done.\n"
     ]
    },
    {
     "data": {
      "text/html": [
       "<table>\n",
       "    <thead>\n",
       "        <tr>\n",
       "            <th>sales_person</th>\n",
       "            <th>sales_amount</th>\n",
       "        </tr>\n",
       "    </thead>\n",
       "    <tbody>\n",
       "        <tr>\n",
       "            <td>Yuki Nakamura</td>\n",
       "            <td>2300.75</td>\n",
       "        </tr>\n",
       "    </tbody>\n",
       "</table>"
      ],
      "text/plain": [
       "[('Yuki Nakamura', 2300.75)]"
      ]
     },
     "execution_count": 110,
     "metadata": {},
     "output_type": "execute_result"
    }
   ],
   "source": [
    "%%sql\n",
    "SELECT sales_person, sales_amount\n",
    "FROM sales\n",
    "WHERE sales_person = 'Wei Zhang' OR sales_person = 'Yuki Nakamura'\n",
    "\n",
    "EXCEPT -- Using EXCEPT to get results of first query not in second query\n",
    "\n",
    "SELECT sales_person, sales_amount\n",
    "FROM sales\n",
    "WHERE sales_person = 'Wei Zhang' OR sales_person = 'Giovanni Rossi';"
   ]
  },
  {
   "cell_type": "markdown",
   "id": "294368f8",
   "metadata": {
    "id": "294368f8"
   },
   "source": [
    "#### Adding a table to the database"
   ]
  },
  {
   "cell_type": "code",
   "execution_count": 111,
   "id": "cca5f21a",
   "metadata": {
    "colab": {
     "base_uri": "https://localhost:8080/"
    },
    "executionInfo": {
     "elapsed": 250,
     "status": "ok",
     "timestamp": 1753183938178,
     "user": {
      "displayName": "Benjamin Bennett Alexander",
      "userId": "14614847693800833280"
     },
     "user_tz": -180
    },
    "id": "cca5f21a",
    "outputId": "2a503ae7-4bc9-49a1-9a47-7fa82cdc35d6"
   },
   "outputs": [
    {
     "name": "stdout",
     "output_type": "stream",
     "text": [
      " * sqlite:///miscellaneous.db\n",
      "Done.\n"
     ]
    },
    {
     "data": {
      "text/plain": [
       "[]"
      ]
     },
     "execution_count": 111,
     "metadata": {},
     "output_type": "execute_result"
    }
   ],
   "source": [
    "%%sql\n",
    "CREATE TABLE IF NOT EXISTS costs(\n",
    "    cost_id INTEGER PRIMARY KEY,\n",
    "    names TEXT,\n",
    "    costs_amount INTEGER,\n",
    "    sales_id INTEGER NOT NULL,\n",
    "    FOREIGN KEY (sales_id)REFERENCES sales (sales_id)\n",
    ");"
   ]
  },
  {
   "cell_type": "code",
   "execution_count": null,
   "id": "3159c6b7",
   "metadata": {
    "executionInfo": {
     "elapsed": 291,
     "status": "ok",
     "timestamp": 1753183952387,
     "user": {
      "displayName": "Benjamin Bennett Alexander",
      "userId": "14614847693800833280"
     },
     "user_tz": -180
    },
    "id": "3159c6b7"
   },
   "outputs": [],
   "source": [
    "def add_cost_data(data):\n",
    "    try:\n",
    "        # Connect to SQLite database\n",
    "        connection = sqlite3.connect('miscellaneous.db')\n",
    "        # Create cursor object\n",
    "        cursor = connection.cursor()\n",
    "\n",
    "        # Open the CSV file and read its content\n",
    "        with open(data, 'r') as csv_file:\n",
    "            csv_reader = csv.reader(csv_file)\n",
    "            # Skip the header row\n",
    "            next(csv_reader)\n",
    "            # Insert data into the table\n",
    "            for row in csv_reader:\n",
    "                cursor.execute('INSERT INTO costs VALUES (?, ?, ?, ?)', row)\n",
    "        connection.commit()\n",
    "    except Exception as e:\n",
    "        print(f'Error: {e}')\n",
    "    finally:\n",
    "        connection.close()\n",
    "\n",
    "data = \"/content/company_costs_data.csv\"\n",
    "add_cost_data(data)"
   ]
  },
  {
   "cell_type": "code",
   "execution_count": 113,
   "id": "126db1b0",
   "metadata": {
    "colab": {
     "base_uri": "https://localhost:8080/",
     "height": 281
    },
    "executionInfo": {
     "elapsed": 253,
     "status": "ok",
     "timestamp": 1753183960571,
     "user": {
      "displayName": "Benjamin Bennett Alexander",
      "userId": "14614847693800833280"
     },
     "user_tz": -180
    },
    "id": "126db1b0",
    "outputId": "2b2d1b9e-a767-4efd-fc02-26eb4a7a7263"
   },
   "outputs": [
    {
     "name": "stdout",
     "output_type": "stream",
     "text": [
      " * sqlite:///miscellaneous.db\n",
      "Done.\n"
     ]
    },
    {
     "data": {
      "text/html": [
       "<table>\n",
       "    <thead>\n",
       "        <tr>\n",
       "            <th>cost_id</th>\n",
       "            <th>names</th>\n",
       "            <th>costs_amount</th>\n",
       "            <th>sales_id</th>\n",
       "        </tr>\n",
       "    </thead>\n",
       "    <tbody>\n",
       "        <tr>\n",
       "            <td>101</td>\n",
       "            <td>Giovanni Rossi</td>\n",
       "            <td>800.5</td>\n",
       "            <td>1</td>\n",
       "        </tr>\n",
       "        <tr>\n",
       "            <td>102</td>\n",
       "            <td>Yuki Nakamura</td>\n",
       "            <td>1100.75</td>\n",
       "            <td>2</td>\n",
       "        </tr>\n",
       "        <tr>\n",
       "            <td>103</td>\n",
       "            <td>Anja Muller</td>\n",
       "            <td>999.99</td>\n",
       "            <td>3</td>\n",
       "        </tr>\n",
       "        <tr>\n",
       "            <td>104</td>\n",
       "            <td>Wei Zhang</td>\n",
       "            <td>2500</td>\n",
       "            <td>4</td>\n",
       "        </tr>\n",
       "        <tr>\n",
       "            <td>105</td>\n",
       "            <td>Olivier Dubois</td>\n",
       "            <td>600</td>\n",
       "            <td>5</td>\n",
       "        </tr>\n",
       "        <tr>\n",
       "            <td>106</td>\n",
       "            <td>Aditi Sharma</td>\n",
       "            <td>3100.5</td>\n",
       "            <td>6</td>\n",
       "        </tr>\n",
       "        <tr>\n",
       "            <td>107</td>\n",
       "            <td>Jurgen Schneider</td>\n",
       "            <td>1100.25</td>\n",
       "            <td>7</td>\n",
       "        </tr>\n",
       "        <tr>\n",
       "            <td>108</td>\n",
       "            <td>Min-Soo Kim</td>\n",
       "            <td>1700.75</td>\n",
       "            <td>8</td>\n",
       "        </tr>\n",
       "        <tr>\n",
       "            <td>109</td>\n",
       "            <td>Katarzyna Nowak</td>\n",
       "            <td>2100.1</td>\n",
       "            <td>9</td>\n",
       "        </tr>\n",
       "        <tr>\n",
       "            <td>110</td>\n",
       "            <td>Hiroshi Tanaka</td>\n",
       "            <td>1500</td>\n",
       "            <td>10</td>\n",
       "        </tr>\n",
       "    </tbody>\n",
       "</table>"
      ],
      "text/plain": [
       "[(101, 'Giovanni Rossi', 800.5, 1),\n",
       " (102, 'Yuki Nakamura', 1100.75, 2),\n",
       " (103, 'Anja Muller', 999.99, 3),\n",
       " (104, 'Wei Zhang', 2500, 4),\n",
       " (105, 'Olivier Dubois', 600, 5),\n",
       " (106, 'Aditi Sharma', 3100.5, 6),\n",
       " (107, 'Jurgen Schneider', 1100.25, 7),\n",
       " (108, 'Min-Soo Kim', 1700.75, 8),\n",
       " (109, 'Katarzyna Nowak', 2100.1, 9),\n",
       " (110, 'Hiroshi Tanaka', 1500, 10)]"
      ]
     },
     "execution_count": 113,
     "metadata": {},
     "output_type": "execute_result"
    }
   ],
   "source": [
    "%%sql\n",
    "SELECT * FROM costs;"
   ]
  },
  {
   "cell_type": "code",
   "execution_count": 114,
   "id": "73b9147a",
   "metadata": {
    "colab": {
     "base_uri": "https://localhost:8080/",
     "height": 322
    },
    "executionInfo": {
     "elapsed": 280,
     "status": "ok",
     "timestamp": 1753183970706,
     "user": {
      "displayName": "Benjamin Bennett Alexander",
      "userId": "14614847693800833280"
     },
     "user_tz": -180
    },
    "id": "73b9147a",
    "outputId": "12e00d65-bd32-4ef6-e9a3-ccc9b7b7d8f5"
   },
   "outputs": [
    {
     "name": "stdout",
     "output_type": "stream",
     "text": [
      " * sqlite:///miscellaneous.db\n",
      "Done.\n"
     ]
    },
    {
     "data": {
      "text/html": [
       "<table>\n",
       "    <thead>\n",
       "        <tr>\n",
       "            <th>sales_id</th>\n",
       "            <th>sales_person</th>\n",
       "            <th>sales_amount</th>\n",
       "            <th>sales_date</th>\n",
       "        </tr>\n",
       "    </thead>\n",
       "    <tbody>\n",
       "        <tr>\n",
       "            <td>1</td>\n",
       "            <td>Giovanni Rossi</td>\n",
       "            <td>1500.5</td>\n",
       "            <td>2023-01-10 10:15:30</td>\n",
       "        </tr>\n",
       "        <tr>\n",
       "            <td>2</td>\n",
       "            <td>Yuki Nakamura</td>\n",
       "            <td>2300.75</td>\n",
       "            <td>2023-02-15 14:25:45</td>\n",
       "        </tr>\n",
       "        <tr>\n",
       "            <td>3</td>\n",
       "            <td>Anja Muller</td>\n",
       "            <td>1999.99</td>\n",
       "            <td>2023-03-20 09:10:00</td>\n",
       "        </tr>\n",
       "        <tr>\n",
       "            <td>4</td>\n",
       "            <td>Wei Zhang</td>\n",
       "            <td>3500.0</td>\n",
       "            <td>2023-04-25 16:45:20</td>\n",
       "        </tr>\n",
       "        <tr>\n",
       "            <td>5</td>\n",
       "            <td>Olivier Dubois</td>\n",
       "            <td>1200.0</td>\n",
       "            <td>2023-05-30 10:00:55</td>\n",
       "        </tr>\n",
       "        <tr>\n",
       "            <td>6</td>\n",
       "            <td>Aditi Sharma</td>\n",
       "            <td>4100.5</td>\n",
       "            <td>2023-06-05 08:05:10</td>\n",
       "        </tr>\n",
       "        <tr>\n",
       "            <td>7</td>\n",
       "            <td>Jurgen Schneider</td>\n",
       "            <td>3100.25</td>\n",
       "            <td>2023-07-10 18:20:30</td>\n",
       "        </tr>\n",
       "        <tr>\n",
       "            <td>8</td>\n",
       "            <td>Min-Soo Kim</td>\n",
       "            <td>2700.75</td>\n",
       "            <td>2023-08-15 20:40:15</td>\n",
       "        </tr>\n",
       "        <tr>\n",
       "            <td>9</td>\n",
       "            <td>Katarzyna Nowak</td>\n",
       "            <td>3300.1</td>\n",
       "            <td>2023-09-20 11:35:25</td>\n",
       "        </tr>\n",
       "        <tr>\n",
       "            <td>10</td>\n",
       "            <td>Hiroshi Tanaka</td>\n",
       "            <td>2500.0</td>\n",
       "            <td>2023-10-25 13:50:40</td>\n",
       "        </tr>\n",
       "        <tr>\n",
       "            <td>11</td>\n",
       "            <td>Alice Kijo</td>\n",
       "            <td>3000.0</td>\n",
       "            <td>2023-05-28 11:00:55</td>\n",
       "        </tr>\n",
       "        <tr>\n",
       "            <td>12</td>\n",
       "            <td>Kim Mau</td>\n",
       "            <td>3100.0</td>\n",
       "            <td>2023-06-21 14:30:55</td>\n",
       "        </tr>\n",
       "    </tbody>\n",
       "</table>"
      ],
      "text/plain": [
       "[(1, 'Giovanni Rossi', 1500.5, '2023-01-10 10:15:30'),\n",
       " (2, 'Yuki Nakamura', 2300.75, '2023-02-15 14:25:45'),\n",
       " (3, 'Anja Muller', 1999.99, '2023-03-20 09:10:00'),\n",
       " (4, 'Wei Zhang', 3500.0, '2023-04-25 16:45:20'),\n",
       " (5, 'Olivier Dubois', 1200.0, '2023-05-30 10:00:55'),\n",
       " (6, 'Aditi Sharma', 4100.5, '2023-06-05 08:05:10'),\n",
       " (7, 'Jurgen Schneider', 3100.25, '2023-07-10 18:20:30'),\n",
       " (8, 'Min-Soo Kim', 2700.75, '2023-08-15 20:40:15'),\n",
       " (9, 'Katarzyna Nowak', 3300.1, '2023-09-20 11:35:25'),\n",
       " (10, 'Hiroshi Tanaka', 2500.0, '2023-10-25 13:50:40'),\n",
       " (11, 'Alice Kijo', 3000.0, '2023-05-28 11:00:55'),\n",
       " (12, 'Kim Mau', 3100.0, '2023-06-21 14:30:55')]"
      ]
     },
     "execution_count": 114,
     "metadata": {},
     "output_type": "execute_result"
    }
   ],
   "source": [
    "%%sql\n",
    "SELECT * FROM sales;"
   ]
  },
  {
   "cell_type": "code",
   "execution_count": 75,
   "id": "ZWGr9KMo_CO7",
   "metadata": {
    "executionInfo": {
     "elapsed": 80,
     "status": "ok",
     "timestamp": 1753116560210,
     "user": {
      "displayName": "Benjamin Bennett Alexander",
      "userId": "14614847693800833280"
     },
     "user_tz": -180
    },
    "id": "ZWGr9KMo_CO7"
   },
   "outputs": [],
   "source": []
  },
  {
   "cell_type": "markdown",
   "id": "114bcdd5",
   "metadata": {
    "id": "114bcdd5"
   },
   "source": [
    "#### Left join"
   ]
  },
  {
   "cell_type": "code",
   "execution_count": 115,
   "id": "e5393847",
   "metadata": {
    "colab": {
     "base_uri": "https://localhost:8080/",
     "height": 322
    },
    "executionInfo": {
     "elapsed": 264,
     "status": "ok",
     "timestamp": 1753183981204,
     "user": {
      "displayName": "Benjamin Bennett Alexander",
      "userId": "14614847693800833280"
     },
     "user_tz": -180
    },
    "id": "e5393847",
    "outputId": "1c7b9c5b-96d0-434f-83c4-bb0dce21c8ba"
   },
   "outputs": [
    {
     "name": "stdout",
     "output_type": "stream",
     "text": [
      " * sqlite:///miscellaneous.db\n",
      "Done.\n"
     ]
    },
    {
     "data": {
      "text/html": [
       "<table>\n",
       "    <thead>\n",
       "        <tr>\n",
       "            <th>sales_id</th>\n",
       "            <th>sales_person</th>\n",
       "            <th>sales_amount</th>\n",
       "            <th>costs_amount</th>\n",
       "        </tr>\n",
       "    </thead>\n",
       "    <tbody>\n",
       "        <tr>\n",
       "            <td>1</td>\n",
       "            <td>Giovanni Rossi</td>\n",
       "            <td>1500.5</td>\n",
       "            <td>800.5</td>\n",
       "        </tr>\n",
       "        <tr>\n",
       "            <td>2</td>\n",
       "            <td>Yuki Nakamura</td>\n",
       "            <td>2300.75</td>\n",
       "            <td>1100.75</td>\n",
       "        </tr>\n",
       "        <tr>\n",
       "            <td>3</td>\n",
       "            <td>Anja Muller</td>\n",
       "            <td>1999.99</td>\n",
       "            <td>999.99</td>\n",
       "        </tr>\n",
       "        <tr>\n",
       "            <td>4</td>\n",
       "            <td>Wei Zhang</td>\n",
       "            <td>3500.0</td>\n",
       "            <td>2500</td>\n",
       "        </tr>\n",
       "        <tr>\n",
       "            <td>5</td>\n",
       "            <td>Olivier Dubois</td>\n",
       "            <td>1200.0</td>\n",
       "            <td>600</td>\n",
       "        </tr>\n",
       "        <tr>\n",
       "            <td>6</td>\n",
       "            <td>Aditi Sharma</td>\n",
       "            <td>4100.5</td>\n",
       "            <td>3100.5</td>\n",
       "        </tr>\n",
       "        <tr>\n",
       "            <td>7</td>\n",
       "            <td>Jurgen Schneider</td>\n",
       "            <td>3100.25</td>\n",
       "            <td>1100.25</td>\n",
       "        </tr>\n",
       "        <tr>\n",
       "            <td>8</td>\n",
       "            <td>Min-Soo Kim</td>\n",
       "            <td>2700.75</td>\n",
       "            <td>1700.75</td>\n",
       "        </tr>\n",
       "        <tr>\n",
       "            <td>9</td>\n",
       "            <td>Katarzyna Nowak</td>\n",
       "            <td>3300.1</td>\n",
       "            <td>2100.1</td>\n",
       "        </tr>\n",
       "        <tr>\n",
       "            <td>10</td>\n",
       "            <td>Hiroshi Tanaka</td>\n",
       "            <td>2500.0</td>\n",
       "            <td>1500</td>\n",
       "        </tr>\n",
       "        <tr>\n",
       "            <td>11</td>\n",
       "            <td>Alice Kijo</td>\n",
       "            <td>3000.0</td>\n",
       "            <td>None</td>\n",
       "        </tr>\n",
       "        <tr>\n",
       "            <td>12</td>\n",
       "            <td>Kim Mau</td>\n",
       "            <td>3100.0</td>\n",
       "            <td>None</td>\n",
       "        </tr>\n",
       "    </tbody>\n",
       "</table>"
      ],
      "text/plain": [
       "[(1, 'Giovanni Rossi', 1500.5, 800.5),\n",
       " (2, 'Yuki Nakamura', 2300.75, 1100.75),\n",
       " (3, 'Anja Muller', 1999.99, 999.99),\n",
       " (4, 'Wei Zhang', 3500.0, 2500),\n",
       " (5, 'Olivier Dubois', 1200.0, 600),\n",
       " (6, 'Aditi Sharma', 4100.5, 3100.5),\n",
       " (7, 'Jurgen Schneider', 3100.25, 1100.25),\n",
       " (8, 'Min-Soo Kim', 2700.75, 1700.75),\n",
       " (9, 'Katarzyna Nowak', 3300.1, 2100.1),\n",
       " (10, 'Hiroshi Tanaka', 2500.0, 1500),\n",
       " (11, 'Alice Kijo', 3000.0, None),\n",
       " (12, 'Kim Mau', 3100.0, None)]"
      ]
     },
     "execution_count": 115,
     "metadata": {},
     "output_type": "execute_result"
    }
   ],
   "source": [
    "%%sql\n",
    "SELECT\n",
    "    sales.sales_id,-- From sales table\n",
    "    sales.sales_person, -- From sales table\n",
    "    sales. sales_amount, -- From sales table\n",
    "    costs.costs_amount -- From cost table\n",
    "FROM sales -- sales is the Left table\n",
    "\n",
    "LEFT JOIN costs -- costs is the right table\n",
    "\n",
    "-- Joining two tables on the common sales_id column\n",
    "ON sales.sales_id = costs.sales_id;"
   ]
  },
  {
   "cell_type": "code",
   "execution_count": 116,
   "id": "jiLEc0QdC2OY",
   "metadata": {
    "colab": {
     "base_uri": "https://localhost:8080/",
     "height": 322
    },
    "executionInfo": {
     "elapsed": 291,
     "status": "ok",
     "timestamp": 1753183986393,
     "user": {
      "displayName": "Benjamin Bennett Alexander",
      "userId": "14614847693800833280"
     },
     "user_tz": -180
    },
    "id": "jiLEc0QdC2OY",
    "outputId": "5cb546f3-f68d-43da-ad91-d738d24405b5"
   },
   "outputs": [
    {
     "name": "stdout",
     "output_type": "stream",
     "text": [
      " * sqlite:///miscellaneous.db\n",
      "Done.\n"
     ]
    },
    {
     "data": {
      "text/html": [
       "<table>\n",
       "    <thead>\n",
       "        <tr>\n",
       "            <th>sales_id</th>\n",
       "            <th>sales_person</th>\n",
       "            <th>sales_amount</th>\n",
       "            <th>costs_amount</th>\n",
       "        </tr>\n",
       "    </thead>\n",
       "    <tbody>\n",
       "        <tr>\n",
       "            <td>1</td>\n",
       "            <td>Giovanni Rossi</td>\n",
       "            <td>1500.5</td>\n",
       "            <td>800.5</td>\n",
       "        </tr>\n",
       "        <tr>\n",
       "            <td>2</td>\n",
       "            <td>Yuki Nakamura</td>\n",
       "            <td>2300.75</td>\n",
       "            <td>1100.75</td>\n",
       "        </tr>\n",
       "        <tr>\n",
       "            <td>3</td>\n",
       "            <td>Anja Muller</td>\n",
       "            <td>1999.99</td>\n",
       "            <td>999.99</td>\n",
       "        </tr>\n",
       "        <tr>\n",
       "            <td>4</td>\n",
       "            <td>Wei Zhang</td>\n",
       "            <td>3500.0</td>\n",
       "            <td>2500</td>\n",
       "        </tr>\n",
       "        <tr>\n",
       "            <td>5</td>\n",
       "            <td>Olivier Dubois</td>\n",
       "            <td>1200.0</td>\n",
       "            <td>600</td>\n",
       "        </tr>\n",
       "        <tr>\n",
       "            <td>6</td>\n",
       "            <td>Aditi Sharma</td>\n",
       "            <td>4100.5</td>\n",
       "            <td>3100.5</td>\n",
       "        </tr>\n",
       "        <tr>\n",
       "            <td>7</td>\n",
       "            <td>Jurgen Schneider</td>\n",
       "            <td>3100.25</td>\n",
       "            <td>1100.25</td>\n",
       "        </tr>\n",
       "        <tr>\n",
       "            <td>8</td>\n",
       "            <td>Min-Soo Kim</td>\n",
       "            <td>2700.75</td>\n",
       "            <td>1700.75</td>\n",
       "        </tr>\n",
       "        <tr>\n",
       "            <td>9</td>\n",
       "            <td>Katarzyna Nowak</td>\n",
       "            <td>3300.1</td>\n",
       "            <td>2100.1</td>\n",
       "        </tr>\n",
       "        <tr>\n",
       "            <td>10</td>\n",
       "            <td>Hiroshi Tanaka</td>\n",
       "            <td>2500.0</td>\n",
       "            <td>1500</td>\n",
       "        </tr>\n",
       "        <tr>\n",
       "            <td>11</td>\n",
       "            <td>Alice Kijo</td>\n",
       "            <td>3000.0</td>\n",
       "            <td>None</td>\n",
       "        </tr>\n",
       "        <tr>\n",
       "            <td>12</td>\n",
       "            <td>Kim Mau</td>\n",
       "            <td>3100.0</td>\n",
       "            <td>None</td>\n",
       "        </tr>\n",
       "    </tbody>\n",
       "</table>"
      ],
      "text/plain": [
       "[(1, 'Giovanni Rossi', 1500.5, 800.5),\n",
       " (2, 'Yuki Nakamura', 2300.75, 1100.75),\n",
       " (3, 'Anja Muller', 1999.99, 999.99),\n",
       " (4, 'Wei Zhang', 3500.0, 2500),\n",
       " (5, 'Olivier Dubois', 1200.0, 600),\n",
       " (6, 'Aditi Sharma', 4100.5, 3100.5),\n",
       " (7, 'Jurgen Schneider', 3100.25, 1100.25),\n",
       " (8, 'Min-Soo Kim', 2700.75, 1700.75),\n",
       " (9, 'Katarzyna Nowak', 3300.1, 2100.1),\n",
       " (10, 'Hiroshi Tanaka', 2500.0, 1500),\n",
       " (11, 'Alice Kijo', 3000.0, None),\n",
       " (12, 'Kim Mau', 3100.0, None)]"
      ]
     },
     "execution_count": 116,
     "metadata": {},
     "output_type": "execute_result"
    }
   ],
   "source": [
    "%%sql\n",
    "SELECT\n",
    "    s.sales_id,\n",
    "    s.sales_person, -- From sales table\n",
    "    s.sales_amount, -- From sales table\n",
    "    c.costs_amount -- From cost table\n",
    "FROM sales s -- sales is the Left table\n",
    "\n",
    "LEFT JOIN costs c -- costs is the right table\n",
    "\n",
    "-- Joining two tables on the common sales_id column\n",
    "ON s.sales_id = c.sales_id;"
   ]
  },
  {
   "cell_type": "markdown",
   "id": "b45979f6",
   "metadata": {
    "id": "b45979f6"
   },
   "source": [
    "#### Right join"
   ]
  },
  {
   "cell_type": "code",
   "execution_count": 119,
   "id": "8b963800",
   "metadata": {
    "colab": {
     "base_uri": "https://localhost:8080/",
     "height": 281
    },
    "executionInfo": {
     "elapsed": 262,
     "status": "ok",
     "timestamp": 1753184185386,
     "user": {
      "displayName": "Benjamin Bennett Alexander",
      "userId": "14614847693800833280"
     },
     "user_tz": -180
    },
    "id": "8b963800",
    "outputId": "f9a43e0d-35a6-4f83-a1ba-c91d2281e886"
   },
   "outputs": [
    {
     "name": "stdout",
     "output_type": "stream",
     "text": [
      " * sqlite:///miscellaneous.db\n",
      "Done.\n"
     ]
    },
    {
     "data": {
      "text/html": [
       "<table>\n",
       "    <thead>\n",
       "        <tr>\n",
       "            <th>sales_id</th>\n",
       "            <th>sales_person</th>\n",
       "            <th>sales_amount</th>\n",
       "            <th>costs_amount</th>\n",
       "        </tr>\n",
       "    </thead>\n",
       "    <tbody>\n",
       "        <tr>\n",
       "            <td>1</td>\n",
       "            <td>Giovanni Rossi</td>\n",
       "            <td>1500.5</td>\n",
       "            <td>800.5</td>\n",
       "        </tr>\n",
       "        <tr>\n",
       "            <td>2</td>\n",
       "            <td>Yuki Nakamura</td>\n",
       "            <td>2300.75</td>\n",
       "            <td>1100.75</td>\n",
       "        </tr>\n",
       "        <tr>\n",
       "            <td>3</td>\n",
       "            <td>Anja Muller</td>\n",
       "            <td>1999.99</td>\n",
       "            <td>999.99</td>\n",
       "        </tr>\n",
       "        <tr>\n",
       "            <td>4</td>\n",
       "            <td>Wei Zhang</td>\n",
       "            <td>3500.0</td>\n",
       "            <td>2500</td>\n",
       "        </tr>\n",
       "        <tr>\n",
       "            <td>5</td>\n",
       "            <td>Olivier Dubois</td>\n",
       "            <td>1200.0</td>\n",
       "            <td>600</td>\n",
       "        </tr>\n",
       "        <tr>\n",
       "            <td>6</td>\n",
       "            <td>Aditi Sharma</td>\n",
       "            <td>4100.5</td>\n",
       "            <td>3100.5</td>\n",
       "        </tr>\n",
       "        <tr>\n",
       "            <td>7</td>\n",
       "            <td>Jurgen Schneider</td>\n",
       "            <td>3100.25</td>\n",
       "            <td>1100.25</td>\n",
       "        </tr>\n",
       "        <tr>\n",
       "            <td>8</td>\n",
       "            <td>Min-Soo Kim</td>\n",
       "            <td>2700.75</td>\n",
       "            <td>1700.75</td>\n",
       "        </tr>\n",
       "        <tr>\n",
       "            <td>9</td>\n",
       "            <td>Katarzyna Nowak</td>\n",
       "            <td>3300.1</td>\n",
       "            <td>2100.1</td>\n",
       "        </tr>\n",
       "        <tr>\n",
       "            <td>10</td>\n",
       "            <td>Hiroshi Tanaka</td>\n",
       "            <td>2500.0</td>\n",
       "            <td>1500</td>\n",
       "        </tr>\n",
       "    </tbody>\n",
       "</table>"
      ],
      "text/plain": [
       "[(1, 'Giovanni Rossi', 1500.5, 800.5),\n",
       " (2, 'Yuki Nakamura', 2300.75, 1100.75),\n",
       " (3, 'Anja Muller', 1999.99, 999.99),\n",
       " (4, 'Wei Zhang', 3500.0, 2500),\n",
       " (5, 'Olivier Dubois', 1200.0, 600),\n",
       " (6, 'Aditi Sharma', 4100.5, 3100.5),\n",
       " (7, 'Jurgen Schneider', 3100.25, 1100.25),\n",
       " (8, 'Min-Soo Kim', 2700.75, 1700.75),\n",
       " (9, 'Katarzyna Nowak', 3300.1, 2100.1),\n",
       " (10, 'Hiroshi Tanaka', 2500.0, 1500)]"
      ]
     },
     "execution_count": 119,
     "metadata": {},
     "output_type": "execute_result"
    }
   ],
   "source": [
    "%%sql\n",
    "SELECT\n",
    "    s.sales_id,\n",
    "    s.sales_person, -- From sales table\n",
    "    s.sales_amount, -- From sales table\n",
    "    c.costs_amount -- From cost table\n",
    "FROM costs c -- Costs is the left table\n",
    "\n",
    "LEFT JOIN sales s -- Sales is the right table\n",
    "\n",
    "-- Joining two tables on the common sales_id column\n",
    "ON s.sales_id = c.sales_id;"
   ]
  },
  {
   "cell_type": "markdown",
   "id": "d8cb39af",
   "metadata": {
    "id": "d8cb39af"
   },
   "source": [
    "#### INNER JOIN"
   ]
  },
  {
   "cell_type": "code",
   "execution_count": 120,
   "id": "3a93366e",
   "metadata": {
    "colab": {
     "base_uri": "https://localhost:8080/",
     "height": 281
    },
    "executionInfo": {
     "elapsed": 282,
     "status": "ok",
     "timestamp": 1753184194370,
     "user": {
      "displayName": "Benjamin Bennett Alexander",
      "userId": "14614847693800833280"
     },
     "user_tz": -180
    },
    "id": "3a93366e",
    "outputId": "142afff6-9b52-429e-bc9a-49db40e063b9"
   },
   "outputs": [
    {
     "name": "stdout",
     "output_type": "stream",
     "text": [
      " * sqlite:///miscellaneous.db\n",
      "Done.\n"
     ]
    },
    {
     "data": {
      "text/html": [
       "<table>\n",
       "    <thead>\n",
       "        <tr>\n",
       "            <th>sales_id</th>\n",
       "            <th>sales_person</th>\n",
       "            <th>sales_amount</th>\n",
       "            <th>costs_amount</th>\n",
       "        </tr>\n",
       "    </thead>\n",
       "    <tbody>\n",
       "        <tr>\n",
       "            <td>1</td>\n",
       "            <td>Giovanni Rossi</td>\n",
       "            <td>1500.5</td>\n",
       "            <td>800.5</td>\n",
       "        </tr>\n",
       "        <tr>\n",
       "            <td>2</td>\n",
       "            <td>Yuki Nakamura</td>\n",
       "            <td>2300.75</td>\n",
       "            <td>1100.75</td>\n",
       "        </tr>\n",
       "        <tr>\n",
       "            <td>3</td>\n",
       "            <td>Anja Muller</td>\n",
       "            <td>1999.99</td>\n",
       "            <td>999.99</td>\n",
       "        </tr>\n",
       "        <tr>\n",
       "            <td>4</td>\n",
       "            <td>Wei Zhang</td>\n",
       "            <td>3500.0</td>\n",
       "            <td>2500</td>\n",
       "        </tr>\n",
       "        <tr>\n",
       "            <td>5</td>\n",
       "            <td>Olivier Dubois</td>\n",
       "            <td>1200.0</td>\n",
       "            <td>600</td>\n",
       "        </tr>\n",
       "        <tr>\n",
       "            <td>6</td>\n",
       "            <td>Aditi Sharma</td>\n",
       "            <td>4100.5</td>\n",
       "            <td>3100.5</td>\n",
       "        </tr>\n",
       "        <tr>\n",
       "            <td>7</td>\n",
       "            <td>Jurgen Schneider</td>\n",
       "            <td>3100.25</td>\n",
       "            <td>1100.25</td>\n",
       "        </tr>\n",
       "        <tr>\n",
       "            <td>8</td>\n",
       "            <td>Min-Soo Kim</td>\n",
       "            <td>2700.75</td>\n",
       "            <td>1700.75</td>\n",
       "        </tr>\n",
       "        <tr>\n",
       "            <td>9</td>\n",
       "            <td>Katarzyna Nowak</td>\n",
       "            <td>3300.1</td>\n",
       "            <td>2100.1</td>\n",
       "        </tr>\n",
       "        <tr>\n",
       "            <td>10</td>\n",
       "            <td>Hiroshi Tanaka</td>\n",
       "            <td>2500.0</td>\n",
       "            <td>1500</td>\n",
       "        </tr>\n",
       "    </tbody>\n",
       "</table>"
      ],
      "text/plain": [
       "[(1, 'Giovanni Rossi', 1500.5, 800.5),\n",
       " (2, 'Yuki Nakamura', 2300.75, 1100.75),\n",
       " (3, 'Anja Muller', 1999.99, 999.99),\n",
       " (4, 'Wei Zhang', 3500.0, 2500),\n",
       " (5, 'Olivier Dubois', 1200.0, 600),\n",
       " (6, 'Aditi Sharma', 4100.5, 3100.5),\n",
       " (7, 'Jurgen Schneider', 3100.25, 1100.25),\n",
       " (8, 'Min-Soo Kim', 2700.75, 1700.75),\n",
       " (9, 'Katarzyna Nowak', 3300.1, 2100.1),\n",
       " (10, 'Hiroshi Tanaka', 2500.0, 1500)]"
      ]
     },
     "execution_count": 120,
     "metadata": {},
     "output_type": "execute_result"
    }
   ],
   "source": [
    "%%sql\n",
    "SELECT\n",
    "    s.sales_id,\n",
    "    s.sales_person, -- From sales table\n",
    "    s.sales_amount, -- From sales table\n",
    "    c.costs_amount -- From costs table\n",
    "FROM sales s\n",
    "\n",
    "INNER JOIN costs c\n",
    "\n",
    "-- Joining two tables on the common sales_id column\n",
    "ON s.sales_id = c.sales_id;"
   ]
  },
  {
   "cell_type": "markdown",
   "id": "2311c093",
   "metadata": {
    "id": "2311c093"
   },
   "source": [
    "#### Full Join"
   ]
  },
  {
   "cell_type": "code",
   "execution_count": 121,
   "id": "18df3d0f",
   "metadata": {
    "colab": {
     "base_uri": "https://localhost:8080/",
     "height": 322
    },
    "executionInfo": {
     "elapsed": 265,
     "status": "ok",
     "timestamp": 1753184233263,
     "user": {
      "displayName": "Benjamin Bennett Alexander",
      "userId": "14614847693800833280"
     },
     "user_tz": -180
    },
    "id": "18df3d0f",
    "outputId": "2c4110b0-ef6c-453b-c666-1713998a98bd"
   },
   "outputs": [
    {
     "name": "stdout",
     "output_type": "stream",
     "text": [
      " * sqlite:///miscellaneous.db\n",
      "Done.\n"
     ]
    },
    {
     "data": {
      "text/html": [
       "<table>\n",
       "    <thead>\n",
       "        <tr>\n",
       "            <th>sales_id</th>\n",
       "            <th>sales_person</th>\n",
       "            <th>sales_amount</th>\n",
       "            <th>costs_amount</th>\n",
       "        </tr>\n",
       "    </thead>\n",
       "    <tbody>\n",
       "        <tr>\n",
       "            <td>1</td>\n",
       "            <td>Giovanni Rossi</td>\n",
       "            <td>1500.5</td>\n",
       "            <td>800.5</td>\n",
       "        </tr>\n",
       "        <tr>\n",
       "            <td>2</td>\n",
       "            <td>Yuki Nakamura</td>\n",
       "            <td>2300.75</td>\n",
       "            <td>1100.75</td>\n",
       "        </tr>\n",
       "        <tr>\n",
       "            <td>3</td>\n",
       "            <td>Anja Muller</td>\n",
       "            <td>1999.99</td>\n",
       "            <td>999.99</td>\n",
       "        </tr>\n",
       "        <tr>\n",
       "            <td>4</td>\n",
       "            <td>Wei Zhang</td>\n",
       "            <td>3500.0</td>\n",
       "            <td>2500</td>\n",
       "        </tr>\n",
       "        <tr>\n",
       "            <td>5</td>\n",
       "            <td>Olivier Dubois</td>\n",
       "            <td>1200.0</td>\n",
       "            <td>600</td>\n",
       "        </tr>\n",
       "        <tr>\n",
       "            <td>6</td>\n",
       "            <td>Aditi Sharma</td>\n",
       "            <td>4100.5</td>\n",
       "            <td>3100.5</td>\n",
       "        </tr>\n",
       "        <tr>\n",
       "            <td>7</td>\n",
       "            <td>Jurgen Schneider</td>\n",
       "            <td>3100.25</td>\n",
       "            <td>1100.25</td>\n",
       "        </tr>\n",
       "        <tr>\n",
       "            <td>8</td>\n",
       "            <td>Min-Soo Kim</td>\n",
       "            <td>2700.75</td>\n",
       "            <td>1700.75</td>\n",
       "        </tr>\n",
       "        <tr>\n",
       "            <td>9</td>\n",
       "            <td>Katarzyna Nowak</td>\n",
       "            <td>3300.1</td>\n",
       "            <td>2100.1</td>\n",
       "        </tr>\n",
       "        <tr>\n",
       "            <td>10</td>\n",
       "            <td>Hiroshi Tanaka</td>\n",
       "            <td>2500.0</td>\n",
       "            <td>1500</td>\n",
       "        </tr>\n",
       "        <tr>\n",
       "            <td>11</td>\n",
       "            <td>Alice Kijo</td>\n",
       "            <td>3000.0</td>\n",
       "            <td>None</td>\n",
       "        </tr>\n",
       "        <tr>\n",
       "            <td>12</td>\n",
       "            <td>Kim Mau</td>\n",
       "            <td>3100.0</td>\n",
       "            <td>None</td>\n",
       "        </tr>\n",
       "    </tbody>\n",
       "</table>"
      ],
      "text/plain": [
       "[(1, 'Giovanni Rossi', 1500.5, 800.5),\n",
       " (2, 'Yuki Nakamura', 2300.75, 1100.75),\n",
       " (3, 'Anja Muller', 1999.99, 999.99),\n",
       " (4, 'Wei Zhang', 3500.0, 2500),\n",
       " (5, 'Olivier Dubois', 1200.0, 600),\n",
       " (6, 'Aditi Sharma', 4100.5, 3100.5),\n",
       " (7, 'Jurgen Schneider', 3100.25, 1100.25),\n",
       " (8, 'Min-Soo Kim', 2700.75, 1700.75),\n",
       " (9, 'Katarzyna Nowak', 3300.1, 2100.1),\n",
       " (10, 'Hiroshi Tanaka', 2500.0, 1500),\n",
       " (11, 'Alice Kijo', 3000.0, None),\n",
       " (12, 'Kim Mau', 3100.0, None)]"
      ]
     },
     "execution_count": 121,
     "metadata": {},
     "output_type": "execute_result"
    }
   ],
   "source": [
    "%%sql\n",
    "-- Perfoming the left join operation\n",
    "SELECT\n",
    "    s.sales_id,\n",
    "    s.sales_person,\n",
    "    s.sales_amount,\n",
    "    c.costs_amount\n",
    "FROM sales s\n",
    "LEFT JOIN costs c\n",
    "ON s.sales_id = c.sales_id\n",
    "\n",
    "UNION  -- Joining two tables\n",
    "\n",
    "-- Perfoming right join by reversing left join\n",
    "SELECT\n",
    "    s.sales_id,\n",
    "    c.names,\n",
    "    s.sales_amount,\n",
    "    c.costs_amount\n",
    "FROM costs c\n",
    "LEFT JOIN sales s\n",
    "ON s.sales_id = c.sales_id;"
   ]
  },
  {
   "cell_type": "code",
   "execution_count": 122,
   "id": "wzuFz4bqBkP6",
   "metadata": {
    "colab": {
     "base_uri": "https://localhost:8080/",
     "height": 94
    },
    "executionInfo": {
     "elapsed": 288,
     "status": "ok",
     "timestamp": 1753184446344,
     "user": {
      "displayName": "Benjamin Bennett Alexander",
      "userId": "14614847693800833280"
     },
     "user_tz": -180
    },
    "id": "wzuFz4bqBkP6",
    "outputId": "84a580be-d469-4618-95b1-8172b93690c3"
   },
   "outputs": [
    {
     "name": "stdout",
     "output_type": "stream",
     "text": [
      " * sqlite:///miscellaneous.db\n",
      "Done.\n"
     ]
    },
    {
     "data": {
      "text/html": [
       "<table>\n",
       "    <thead>\n",
       "        <tr>\n",
       "            <th>sales_person</th>\n",
       "            <th>sales_amount</th>\n",
       "            <th>costs_amount</th>\n",
       "        </tr>\n",
       "    </thead>\n",
       "    <tbody>\n",
       "        <tr>\n",
       "            <td>Aditi Sharma</td>\n",
       "            <td>4100.5</td>\n",
       "            <td>3100.5</td>\n",
       "        </tr>\n",
       "    </tbody>\n",
       "</table>"
      ],
      "text/plain": [
       "[('Aditi Sharma', 4100.5, 3100.5)]"
      ]
     },
     "execution_count": 122,
     "metadata": {},
     "output_type": "execute_result"
    }
   ],
   "source": [
    "%%sql\n",
    "SELECT\n",
    "    sales_person,\n",
    "    sales_amount,\n",
    "    costs_amount\n",
    "FROM sales\n",
    "-- Perfom natural join\n",
    "NATURAL JOIN costs\n",
    "WHERE sales_amount > 3500;"
   ]
  },
  {
   "cell_type": "code",
   "execution_count": 123,
   "id": "o0J6phSbkZmH",
   "metadata": {
    "colab": {
     "base_uri": "https://localhost:8080/",
     "height": 136
    },
    "executionInfo": {
     "elapsed": 256,
     "status": "ok",
     "timestamp": 1753184459547,
     "user": {
      "displayName": "Benjamin Bennett Alexander",
      "userId": "14614847693800833280"
     },
     "user_tz": -180
    },
    "id": "o0J6phSbkZmH",
    "outputId": "0b477f2a-8659-4b24-aa8d-1724ea1ff3e3"
   },
   "outputs": [
    {
     "name": "stdout",
     "output_type": "stream",
     "text": [
      " * sqlite:///miscellaneous.db\n",
      "Done.\n"
     ]
    },
    {
     "data": {
      "text/html": [
       "<table>\n",
       "    <thead>\n",
       "        <tr>\n",
       "            <th>sales_person</th>\n",
       "            <th>total_revenue</th>\n",
       "            <th>total_costs</th>\n",
       "        </tr>\n",
       "    </thead>\n",
       "    <tbody>\n",
       "        <tr>\n",
       "            <td>Anja Muller</td>\n",
       "            <td>1999.99</td>\n",
       "            <td>999.99</td>\n",
       "        </tr>\n",
       "        <tr>\n",
       "            <td>Jurgen Schneider</td>\n",
       "            <td>3100.25</td>\n",
       "            <td>1100.25</td>\n",
       "        </tr>\n",
       "        <tr>\n",
       "            <td>Yuki Nakamura</td>\n",
       "            <td>2300.75</td>\n",
       "            <td>1100.75</td>\n",
       "        </tr>\n",
       "    </tbody>\n",
       "</table>"
      ],
      "text/plain": [
       "[('Anja Muller', 1999.99, 999.99),\n",
       " ('Jurgen Schneider', 3100.25, 1100.25),\n",
       " ('Yuki Nakamura', 2300.75, 1100.75)]"
      ]
     },
     "execution_count": 123,
     "metadata": {},
     "output_type": "execute_result"
    }
   ],
   "source": [
    "%%sql\n",
    "SELECT\n",
    "    s.sales_person,\n",
    "    SUM(s.sales_amount) AS total_revenue,\n",
    "    SUM(c.costs_amount) AS total_costs\n",
    "FROM sales s\n",
    "INNER JOIN costs c ON s.sales_person = c.names\n",
    "GROUP BY s.sales_person\n",
    "HAVING total_costs < (0.50 * total_revenue );"
   ]
  },
  {
   "cell_type": "code",
   "execution_count": 124,
   "id": "w3oKDliNs0mr",
   "metadata": {
    "colab": {
     "base_uri": "https://localhost:8080/",
     "height": 281
    },
    "executionInfo": {
     "elapsed": 270,
     "status": "ok",
     "timestamp": 1753184470870,
     "user": {
      "displayName": "Benjamin Bennett Alexander",
      "userId": "14614847693800833280"
     },
     "user_tz": -180
    },
    "id": "w3oKDliNs0mr",
    "outputId": "1edc1c72-d1f8-4117-8a9e-38c468a774a5"
   },
   "outputs": [
    {
     "name": "stdout",
     "output_type": "stream",
     "text": [
      " * sqlite:///miscellaneous.db\n",
      "Done.\n"
     ]
    },
    {
     "data": {
      "text/html": [
       "<table>\n",
       "    <thead>\n",
       "        <tr>\n",
       "            <th>sales_person</th>\n",
       "            <th>costs_amount</th>\n",
       "        </tr>\n",
       "    </thead>\n",
       "    <tbody>\n",
       "        <tr>\n",
       "            <td>Wei Zhang</td>\n",
       "            <td>800.5</td>\n",
       "        </tr>\n",
       "        <tr>\n",
       "            <td>Wei Zhang</td>\n",
       "            <td>1100.75</td>\n",
       "        </tr>\n",
       "        <tr>\n",
       "            <td>Wei Zhang</td>\n",
       "            <td>999.99</td>\n",
       "        </tr>\n",
       "        <tr>\n",
       "            <td>Wei Zhang</td>\n",
       "            <td>2500</td>\n",
       "        </tr>\n",
       "        <tr>\n",
       "            <td>Wei Zhang</td>\n",
       "            <td>600</td>\n",
       "        </tr>\n",
       "        <tr>\n",
       "            <td>Wei Zhang</td>\n",
       "            <td>3100.5</td>\n",
       "        </tr>\n",
       "        <tr>\n",
       "            <td>Wei Zhang</td>\n",
       "            <td>1100.25</td>\n",
       "        </tr>\n",
       "        <tr>\n",
       "            <td>Wei Zhang</td>\n",
       "            <td>1700.75</td>\n",
       "        </tr>\n",
       "        <tr>\n",
       "            <td>Wei Zhang</td>\n",
       "            <td>2100.1</td>\n",
       "        </tr>\n",
       "        <tr>\n",
       "            <td>Wei Zhang</td>\n",
       "            <td>1500</td>\n",
       "        </tr>\n",
       "    </tbody>\n",
       "</table>"
      ],
      "text/plain": [
       "[('Wei Zhang', 800.5),\n",
       " ('Wei Zhang', 1100.75),\n",
       " ('Wei Zhang', 999.99),\n",
       " ('Wei Zhang', 2500),\n",
       " ('Wei Zhang', 600),\n",
       " ('Wei Zhang', 3100.5),\n",
       " ('Wei Zhang', 1100.25),\n",
       " ('Wei Zhang', 1700.75),\n",
       " ('Wei Zhang', 2100.1),\n",
       " ('Wei Zhang', 1500)]"
      ]
     },
     "execution_count": 124,
     "metadata": {},
     "output_type": "execute_result"
    }
   ],
   "source": [
    "%%sql\n",
    "SELECT\n",
    "    s.sales_person,\n",
    "    c.costs_amount\n",
    "FROM sales s\n",
    "CROSS JOIN costs c\n",
    "WHERE s.sales_person ='Wei Zhang';"
   ]
  },
  {
   "cell_type": "code",
   "execution_count": 125,
   "id": "e67e7f53",
   "metadata": {
    "colab": {
     "base_uri": "https://localhost:8080/"
    },
    "executionInfo": {
     "elapsed": 266,
     "status": "ok",
     "timestamp": 1753184482407,
     "user": {
      "displayName": "Benjamin Bennett Alexander",
      "userId": "14614847693800833280"
     },
     "user_tz": -180
    },
    "id": "e67e7f53",
    "outputId": "0f7ff8f5-0865-4e81-e097-61ec2f887d14"
   },
   "outputs": [
    {
     "name": "stdout",
     "output_type": "stream",
     "text": [
      " * sqlite:///miscellaneous.db\n",
      "Done.\n"
     ]
    },
    {
     "data": {
      "text/plain": [
       "[]"
      ]
     },
     "execution_count": 125,
     "metadata": {},
     "output_type": "execute_result"
    }
   ],
   "source": [
    "%%sql\n",
    "-- Creating a view using inner join\n",
    "CREATE VIEW sales_with_costs AS\n",
    "SELECT\n",
    "    s.sales_id,\n",
    "    s.sales_person,\n",
    "    s.sales_amount,\n",
    "    c.costs_amount,\n",
    "    s.sales_date\n",
    "FROM sales s\n",
    "INNER JOIN costs c\n",
    "ON s.sales_id = c.sales_id;"
   ]
  },
  {
   "cell_type": "code",
   "execution_count": 127,
   "id": "a85a343e",
   "metadata": {
    "colab": {
     "base_uri": "https://localhost:8080/",
     "height": 198
    },
    "executionInfo": {
     "elapsed": 286,
     "status": "ok",
     "timestamp": 1753184601087,
     "user": {
      "displayName": "Benjamin Bennett Alexander",
      "userId": "14614847693800833280"
     },
     "user_tz": -180
    },
    "id": "a85a343e",
    "outputId": "22cd18f7-25ab-4255-e93a-a22b5d116c6b"
   },
   "outputs": [
    {
     "name": "stdout",
     "output_type": "stream",
     "text": [
      " * sqlite:///miscellaneous.db\n",
      "Done.\n"
     ]
    },
    {
     "data": {
      "text/html": [
       "<table>\n",
       "    <thead>\n",
       "        <tr>\n",
       "            <th>sales_id</th>\n",
       "            <th>sales_person</th>\n",
       "            <th>sales_amount</th>\n",
       "            <th>costs_amount</th>\n",
       "            <th>sales_date</th>\n",
       "        </tr>\n",
       "    </thead>\n",
       "    <tbody>\n",
       "        <tr>\n",
       "            <td>1</td>\n",
       "            <td>Giovanni Rossi</td>\n",
       "            <td>1500.5</td>\n",
       "            <td>800.5</td>\n",
       "            <td>2023-01-10 10:15:30</td>\n",
       "        </tr>\n",
       "        <tr>\n",
       "            <td>2</td>\n",
       "            <td>Yuki Nakamura</td>\n",
       "            <td>2300.75</td>\n",
       "            <td>1100.75</td>\n",
       "            <td>2023-02-15 14:25:45</td>\n",
       "        </tr>\n",
       "        <tr>\n",
       "            <td>3</td>\n",
       "            <td>Anja Muller</td>\n",
       "            <td>1999.99</td>\n",
       "            <td>999.99</td>\n",
       "            <td>2023-03-20 09:10:00</td>\n",
       "        </tr>\n",
       "        <tr>\n",
       "            <td>4</td>\n",
       "            <td>Wei Zhang</td>\n",
       "            <td>3500.0</td>\n",
       "            <td>2500</td>\n",
       "            <td>2023-04-25 16:45:20</td>\n",
       "        </tr>\n",
       "        <tr>\n",
       "            <td>5</td>\n",
       "            <td>Olivier Dubois</td>\n",
       "            <td>1200.0</td>\n",
       "            <td>600</td>\n",
       "            <td>2023-05-30 10:00:55</td>\n",
       "        </tr>\n",
       "        <tr>\n",
       "            <td>6</td>\n",
       "            <td>Aditi Sharma</td>\n",
       "            <td>4100.5</td>\n",
       "            <td>3100.5</td>\n",
       "            <td>2023-06-05 08:05:10</td>\n",
       "        </tr>\n",
       "    </tbody>\n",
       "</table>"
      ],
      "text/plain": [
       "[(1, 'Giovanni Rossi', 1500.5, 800.5, '2023-01-10 10:15:30'),\n",
       " (2, 'Yuki Nakamura', 2300.75, 1100.75, '2023-02-15 14:25:45'),\n",
       " (3, 'Anja Muller', 1999.99, 999.99, '2023-03-20 09:10:00'),\n",
       " (4, 'Wei Zhang', 3500.0, 2500, '2023-04-25 16:45:20'),\n",
       " (5, 'Olivier Dubois', 1200.0, 600, '2023-05-30 10:00:55'),\n",
       " (6, 'Aditi Sharma', 4100.5, 3100.5, '2023-06-05 08:05:10')]"
      ]
     },
     "execution_count": 127,
     "metadata": {},
     "output_type": "execute_result"
    }
   ],
   "source": [
    "%%sql\n",
    "SELECT * FROM sales_with_costs\n",
    "LIMIT 6;"
   ]
  },
  {
   "cell_type": "code",
   "execution_count": 128,
   "id": "aabc356e",
   "metadata": {
    "colab": {
     "base_uri": "https://localhost:8080/",
     "height": 94
    },
    "executionInfo": {
     "elapsed": 304,
     "status": "ok",
     "timestamp": 1753184615689,
     "user": {
      "displayName": "Benjamin Bennett Alexander",
      "userId": "14614847693800833280"
     },
     "user_tz": -180
    },
    "id": "aabc356e",
    "outputId": "b746809e-14f6-48a4-b24a-173c77ada3bf"
   },
   "outputs": [
    {
     "name": "stdout",
     "output_type": "stream",
     "text": [
      " * sqlite:///miscellaneous.db\n",
      "Done.\n"
     ]
    },
    {
     "data": {
      "text/html": [
       "<table>\n",
       "    <thead>\n",
       "        <tr>\n",
       "            <th>yuki_profit</th>\n",
       "            <th>hiroshi_profit</th>\n",
       "            <th>difference</th>\n",
       "        </tr>\n",
       "    </thead>\n",
       "    <tbody>\n",
       "        <tr>\n",
       "            <td>1200.0</td>\n",
       "            <td>1000.0</td>\n",
       "            <td>200.0</td>\n",
       "        </tr>\n",
       "    </tbody>\n",
       "</table>"
      ],
      "text/plain": [
       "[(1200.0, 1000.0, 200.0)]"
      ]
     },
     "execution_count": 128,
     "metadata": {},
     "output_type": "execute_result"
    }
   ],
   "source": [
    "%%sql\n",
    "SELECT\n",
    "    yuki.yuki_profit,\n",
    "    hiro.hiroshi_profit,\n",
    "    yuki.yuki_profit - hiro.hiroshi_profit AS difference\n",
    "FROM\n",
    "-- Calculating yuki profit\n",
    "    (SELECT sales_amount - costs_amount  AS yuki_profit\n",
    "    FROM sales_with_costs -- querying virtual table\n",
    "    WHERE sales_person = 'Yuki Nakamura')\n",
    "    AS yuki,\n",
    "-- Calculating Hiroshi profit\n",
    "    (SELECT sales_amount - costs_amount  AS hiroshi_profit\n",
    "    FROM sales_with_costs\n",
    "    WHERE sales_person = 'Hiroshi Tanaka')\n",
    "    AS hiro;"
   ]
  },
  {
   "cell_type": "code",
   "execution_count": 129,
   "id": "uh7LANb8Tgwz",
   "metadata": {
    "colab": {
     "base_uri": "https://localhost:8080/"
    },
    "executionInfo": {
     "elapsed": 250,
     "status": "ok",
     "timestamp": 1753184625232,
     "user": {
      "displayName": "Benjamin Bennett Alexander",
      "userId": "14614847693800833280"
     },
     "user_tz": -180
    },
    "id": "uh7LANb8Tgwz",
    "outputId": "650e272f-213d-4bf8-f3ea-069d6c15867f"
   },
   "outputs": [
    {
     "name": "stdout",
     "output_type": "stream",
     "text": [
      " * sqlite:///miscellaneous.db\n",
      "Done.\n"
     ]
    },
    {
     "data": {
      "text/plain": [
       "[]"
      ]
     },
     "execution_count": 129,
     "metadata": {},
     "output_type": "execute_result"
    }
   ],
   "source": [
    "%%sql\n",
    "DROP VIEW IF EXISTS sales_with_costs;"
   ]
  },
  {
   "cell_type": "code",
   "execution_count": 130,
   "id": "gmAShjo34t-Q",
   "metadata": {
    "colab": {
     "base_uri": "https://localhost:8080/"
    },
    "executionInfo": {
     "elapsed": 256,
     "status": "ok",
     "timestamp": 1753184710247,
     "user": {
      "displayName": "Benjamin Bennett Alexander",
      "userId": "14614847693800833280"
     },
     "user_tz": -180
    },
    "id": "gmAShjo34t-Q",
    "outputId": "5a56158b-2adc-489a-c419-504cb3bb1f3b"
   },
   "outputs": [
    {
     "name": "stdout",
     "output_type": "stream",
     "text": [
      " * sqlite:///miscellaneous.db\n",
      "Done.\n"
     ]
    },
    {
     "data": {
      "text/plain": [
       "[]"
      ]
     },
     "execution_count": 130,
     "metadata": {},
     "output_type": "execute_result"
    }
   ],
   "source": [
    "%%sql\n",
    "CREATE TABLE IF NOT EXISTS inter_sales(\n",
    "    sales_id INTEGER PRIMARY KEY,\n",
    "    sales_person TEXT,\n",
    "    country TEXT,\n",
    "    sales_amount REAL,\n",
    "    date DATE);"
   ]
  },
  {
   "cell_type": "code",
   "execution_count": null,
   "id": "VTSsX4Itv0Vn",
   "metadata": {
    "executionInfo": {
     "elapsed": 301,
     "status": "ok",
     "timestamp": 1753184719910,
     "user": {
      "displayName": "Benjamin Bennett Alexander",
      "userId": "14614847693800833280"
     },
     "user_tz": -180
    },
    "id": "VTSsX4Itv0Vn"
   },
   "outputs": [],
   "source": [
    "def add_data_to_database(data):\n",
    "    try:\n",
    "        # Connect to SQLite database\n",
    "        connection = sqlite3.connect('miscellaneous.db')\n",
    "        # Create cursor object\n",
    "        cursor = connection.cursor()\n",
    "        with open(data, 'r') as csv_file:\n",
    "            csv_reader = csv.reader(csv_file)\n",
    "            # Skip the header row\n",
    "            next(csv_reader)\n",
    "            # Insert data into the table\n",
    "            for row in csv_reader:\n",
    "                cursor.execute('INSERT INTO inter_sales VALUES (?, ?, ?, ?, ?)', row)\n",
    "        connection.commit()\n",
    "    except Exception as e:\n",
    "        print(f'Error:{e}')\n",
    "    finally:\n",
    "        connection.close()\n",
    "\n",
    "# Loading CSV file\n",
    "data = \"/content/international_sales.csv\"\n",
    "add_data_to_database(data)"
   ]
  },
  {
   "cell_type": "code",
   "execution_count": 132,
   "id": "Gd_eH2FhxcaH",
   "metadata": {
    "colab": {
     "base_uri": "https://localhost:8080/",
     "height": 281
    },
    "executionInfo": {
     "elapsed": 274,
     "status": "ok",
     "timestamp": 1753184728845,
     "user": {
      "displayName": "Benjamin Bennett Alexander",
      "userId": "14614847693800833280"
     },
     "user_tz": -180
    },
    "id": "Gd_eH2FhxcaH",
    "outputId": "0b705c31-5998-4da3-e33d-925ddea95c23"
   },
   "outputs": [
    {
     "name": "stdout",
     "output_type": "stream",
     "text": [
      " * sqlite:///miscellaneous.db\n",
      "Done.\n"
     ]
    },
    {
     "data": {
      "text/html": [
       "<table>\n",
       "    <thead>\n",
       "        <tr>\n",
       "            <th>sales_id</th>\n",
       "            <th>sales_person</th>\n",
       "            <th>country</th>\n",
       "            <th>sales_amount</th>\n",
       "            <th>date</th>\n",
       "        </tr>\n",
       "    </thead>\n",
       "    <tbody>\n",
       "        <tr>\n",
       "            <td>1</td>\n",
       "            <td>Avon</td>\n",
       "            <td>South Africa</td>\n",
       "            <td>1500.0</td>\n",
       "            <td>15-02-2024</td>\n",
       "        </tr>\n",
       "        <tr>\n",
       "            <td>2</td>\n",
       "            <td>Moses</td>\n",
       "            <td>Turkey</td>\n",
       "            <td>800.0</td>\n",
       "            <td>17-01-2024</td>\n",
       "        </tr>\n",
       "        <tr>\n",
       "            <td>3</td>\n",
       "            <td>Peter</td>\n",
       "            <td>South Africa</td>\n",
       "            <td>1200.0</td>\n",
       "            <td>20-01-2024</td>\n",
       "        </tr>\n",
       "        <tr>\n",
       "            <td>4</td>\n",
       "            <td>Charlie</td>\n",
       "            <td>Turkey</td>\n",
       "            <td>1800.0</td>\n",
       "            <td>01-02-2024</td>\n",
       "        </tr>\n",
       "        <tr>\n",
       "            <td>5</td>\n",
       "            <td>Assat</td>\n",
       "            <td>Turkey</td>\n",
       "            <td>900.0</td>\n",
       "            <td>05-02-2024</td>\n",
       "        </tr>\n",
       "        <tr>\n",
       "            <td>6</td>\n",
       "            <td>Afet</td>\n",
       "            <td>Turkey</td>\n",
       "            <td>2500.0</td>\n",
       "            <td>10-02-2024</td>\n",
       "        </tr>\n",
       "        <tr>\n",
       "            <td>7</td>\n",
       "            <td>Luke</td>\n",
       "            <td>South Africa</td>\n",
       "            <td>1200.0</td>\n",
       "            <td>12-02-2024</td>\n",
       "        </tr>\n",
       "        <tr>\n",
       "            <td>8</td>\n",
       "            <td>John</td>\n",
       "            <td>South Africa</td>\n",
       "            <td>1100.0</td>\n",
       "            <td>16-02-2024</td>\n",
       "        </tr>\n",
       "        <tr>\n",
       "            <td>9</td>\n",
       "            <td>Matt</td>\n",
       "            <td>South Africa</td>\n",
       "            <td>1600.0</td>\n",
       "            <td>20-02-2024</td>\n",
       "        </tr>\n",
       "        <tr>\n",
       "            <td>10</td>\n",
       "            <td>Ken</td>\n",
       "            <td>Turkey</td>\n",
       "            <td>2500.0</td>\n",
       "            <td>25-02-2024</td>\n",
       "        </tr>\n",
       "    </tbody>\n",
       "</table>"
      ],
      "text/plain": [
       "[(1, 'Avon', 'South Africa', 1500.0, '15-02-2024'),\n",
       " (2, 'Moses', 'Turkey', 800.0, '17-01-2024'),\n",
       " (3, 'Peter', 'South Africa', 1200.0, '20-01-2024'),\n",
       " (4, 'Charlie', 'Turkey', 1800.0, '01-02-2024'),\n",
       " (5, 'Assat', 'Turkey', 900.0, '05-02-2024'),\n",
       " (6, 'Afet', 'Turkey', 2500.0, '10-02-2024'),\n",
       " (7, 'Luke', 'South Africa', 1200.0, '12-02-2024'),\n",
       " (8, 'John', 'South Africa', 1100.0, '16-02-2024'),\n",
       " (9, 'Matt', 'South Africa', 1600.0, '20-02-2024'),\n",
       " (10, 'Ken', 'Turkey', 2500.0, '25-02-2024')]"
      ]
     },
     "execution_count": 132,
     "metadata": {},
     "output_type": "execute_result"
    }
   ],
   "source": [
    "%%sql\n",
    "SELECT * FROM inter_sales;"
   ]
  },
  {
   "cell_type": "code",
   "execution_count": 133,
   "id": "hitZeiNATR9z",
   "metadata": {
    "colab": {
     "base_uri": "https://localhost:8080/",
     "height": 281
    },
    "executionInfo": {
     "elapsed": 246,
     "status": "ok",
     "timestamp": 1753184743961,
     "user": {
      "displayName": "Benjamin Bennett Alexander",
      "userId": "14614847693800833280"
     },
     "user_tz": -180
    },
    "id": "hitZeiNATR9z",
    "outputId": "34a0ee19-319a-4597-90e1-08e0830f4795"
   },
   "outputs": [
    {
     "name": "stdout",
     "output_type": "stream",
     "text": [
      " * sqlite:///miscellaneous.db\n",
      "Done.\n"
     ]
    },
    {
     "data": {
      "text/html": [
       "<table>\n",
       "    <thead>\n",
       "        <tr>\n",
       "            <th>sales_person</th>\n",
       "            <th>sales_amount</th>\n",
       "            <th>rank</th>\n",
       "        </tr>\n",
       "    </thead>\n",
       "    <tbody>\n",
       "        <tr>\n",
       "            <td>Afet</td>\n",
       "            <td>2500.0</td>\n",
       "            <td>1</td>\n",
       "        </tr>\n",
       "        <tr>\n",
       "            <td>Ken</td>\n",
       "            <td>2500.0</td>\n",
       "            <td>2</td>\n",
       "        </tr>\n",
       "        <tr>\n",
       "            <td>Charlie</td>\n",
       "            <td>1800.0</td>\n",
       "            <td>3</td>\n",
       "        </tr>\n",
       "        <tr>\n",
       "            <td>Matt</td>\n",
       "            <td>1600.0</td>\n",
       "            <td>4</td>\n",
       "        </tr>\n",
       "        <tr>\n",
       "            <td>Avon</td>\n",
       "            <td>1500.0</td>\n",
       "            <td>5</td>\n",
       "        </tr>\n",
       "        <tr>\n",
       "            <td>Peter</td>\n",
       "            <td>1200.0</td>\n",
       "            <td>6</td>\n",
       "        </tr>\n",
       "        <tr>\n",
       "            <td>Luke</td>\n",
       "            <td>1200.0</td>\n",
       "            <td>7</td>\n",
       "        </tr>\n",
       "        <tr>\n",
       "            <td>John</td>\n",
       "            <td>1100.0</td>\n",
       "            <td>8</td>\n",
       "        </tr>\n",
       "        <tr>\n",
       "            <td>Assat</td>\n",
       "            <td>900.0</td>\n",
       "            <td>9</td>\n",
       "        </tr>\n",
       "        <tr>\n",
       "            <td>Moses</td>\n",
       "            <td>800.0</td>\n",
       "            <td>10</td>\n",
       "        </tr>\n",
       "    </tbody>\n",
       "</table>"
      ],
      "text/plain": [
       "[('Afet', 2500.0, 1),\n",
       " ('Ken', 2500.0, 2),\n",
       " ('Charlie', 1800.0, 3),\n",
       " ('Matt', 1600.0, 4),\n",
       " ('Avon', 1500.0, 5),\n",
       " ('Peter', 1200.0, 6),\n",
       " ('Luke', 1200.0, 7),\n",
       " ('John', 1100.0, 8),\n",
       " ('Assat', 900.0, 9),\n",
       " ('Moses', 800.0, 10)]"
      ]
     },
     "execution_count": 133,
     "metadata": {},
     "output_type": "execute_result"
    }
   ],
   "source": [
    "%%sql\n",
    "SELECT\n",
    "    sales_person,\n",
    "    sales_amount,\n",
    "    ROW_NUMBER() OVER (ORDER BY sales_amount DESC)\n",
    "    AS rank\n",
    "FROM inter_sales;"
   ]
  },
  {
   "cell_type": "code",
   "execution_count": 134,
   "id": "w0EFb4TPdVSt",
   "metadata": {
    "colab": {
     "base_uri": "https://localhost:8080/",
     "height": 281
    },
    "executionInfo": {
     "elapsed": 262,
     "status": "ok",
     "timestamp": 1753184752360,
     "user": {
      "displayName": "Benjamin Bennett Alexander",
      "userId": "14614847693800833280"
     },
     "user_tz": -180
    },
    "id": "w0EFb4TPdVSt",
    "outputId": "e6ead2f2-97c0-4ab3-8071-d4a632282dbc"
   },
   "outputs": [
    {
     "name": "stdout",
     "output_type": "stream",
     "text": [
      " * sqlite:///miscellaneous.db\n",
      "Done.\n"
     ]
    },
    {
     "data": {
      "text/html": [
       "<table>\n",
       "    <thead>\n",
       "        <tr>\n",
       "            <th>sales_amount</th>\n",
       "            <th>rank</th>\n",
       "        </tr>\n",
       "    </thead>\n",
       "    <tbody>\n",
       "        <tr>\n",
       "            <td>Afet</td>\n",
       "            <td>1</td>\n",
       "        </tr>\n",
       "        <tr>\n",
       "            <td>Ken</td>\n",
       "            <td>1</td>\n",
       "        </tr>\n",
       "        <tr>\n",
       "            <td>Charlie</td>\n",
       "            <td>3</td>\n",
       "        </tr>\n",
       "        <tr>\n",
       "            <td>Matt</td>\n",
       "            <td>4</td>\n",
       "        </tr>\n",
       "        <tr>\n",
       "            <td>Avon</td>\n",
       "            <td>5</td>\n",
       "        </tr>\n",
       "        <tr>\n",
       "            <td>Peter</td>\n",
       "            <td>6</td>\n",
       "        </tr>\n",
       "        <tr>\n",
       "            <td>Luke</td>\n",
       "            <td>6</td>\n",
       "        </tr>\n",
       "        <tr>\n",
       "            <td>John</td>\n",
       "            <td>8</td>\n",
       "        </tr>\n",
       "        <tr>\n",
       "            <td>Assat</td>\n",
       "            <td>9</td>\n",
       "        </tr>\n",
       "        <tr>\n",
       "            <td>Moses</td>\n",
       "            <td>10</td>\n",
       "        </tr>\n",
       "    </tbody>\n",
       "</table>"
      ],
      "text/plain": [
       "[('Afet', 1),\n",
       " ('Ken', 1),\n",
       " ('Charlie', 3),\n",
       " ('Matt', 4),\n",
       " ('Avon', 5),\n",
       " ('Peter', 6),\n",
       " ('Luke', 6),\n",
       " ('John', 8),\n",
       " ('Assat', 9),\n",
       " ('Moses', 10)]"
      ]
     },
     "execution_count": 134,
     "metadata": {},
     "output_type": "execute_result"
    }
   ],
   "source": [
    "%%sql\n",
    "SELECT\n",
    "    sales_person\n",
    "    sales_amount,\n",
    "    RANK() OVER (ORDER BY sales_amount DESC)\n",
    "    AS rank\n",
    "FROM inter_sales;"
   ]
  },
  {
   "cell_type": "code",
   "execution_count": 135,
   "id": "STvPqvX_mCsR",
   "metadata": {
    "colab": {
     "base_uri": "https://localhost:8080/",
     "height": 115
    },
    "executionInfo": {
     "elapsed": 260,
     "status": "ok",
     "timestamp": 1753184780550,
     "user": {
      "displayName": "Benjamin Bennett Alexander",
      "userId": "14614847693800833280"
     },
     "user_tz": -180
    },
    "id": "STvPqvX_mCsR",
    "outputId": "622d129c-7f06-444c-ec25-05a7b55afca8"
   },
   "outputs": [
    {
     "name": "stdout",
     "output_type": "stream",
     "text": [
      " * sqlite:///miscellaneous.db\n",
      "Done.\n"
     ]
    },
    {
     "data": {
      "text/html": [
       "<table>\n",
       "    <thead>\n",
       "        <tr>\n",
       "            <th>sales_person</th>\n",
       "            <th>sales_amount</th>\n",
       "            <th>rank</th>\n",
       "        </tr>\n",
       "    </thead>\n",
       "    <tbody>\n",
       "        <tr>\n",
       "            <td>Afet</td>\n",
       "            <td>2500.0</td>\n",
       "            <td>1</td>\n",
       "        </tr>\n",
       "        <tr>\n",
       "            <td>Ken</td>\n",
       "            <td>2500.0</td>\n",
       "            <td>1</td>\n",
       "        </tr>\n",
       "    </tbody>\n",
       "</table>"
      ],
      "text/plain": [
       "[('Afet', 2500.0, 1), ('Ken', 2500.0, 1)]"
      ]
     },
     "execution_count": 135,
     "metadata": {},
     "output_type": "execute_result"
    }
   ],
   "source": [
    "%%sql\n",
    "-- Assigning a rank to each person\n",
    "WITH rank_sales AS (SELECT\n",
    "    sales_person,\n",
    "    sales_amount,\n",
    "    RANK() OVER (ORDER BY sales_amount DESC)\n",
    "    AS rank\n",
    "    FROM inter_sales)\n",
    "\n",
    "-- Retrieving the number 1 ranked salespersons\n",
    "SELECT\n",
    "    sales_person,\n",
    "    sales_amount,\n",
    "    rank\n",
    "FROM rank_sales\n",
    "WHERE rank = 1;"
   ]
  },
  {
   "cell_type": "code",
   "execution_count": 136,
   "id": "1e6bf1e8",
   "metadata": {
    "colab": {
     "base_uri": "https://localhost:8080/",
     "height": 281
    },
    "executionInfo": {
     "elapsed": 254,
     "status": "ok",
     "timestamp": 1753184791473,
     "user": {
      "displayName": "Benjamin Bennett Alexander",
      "userId": "14614847693800833280"
     },
     "user_tz": -180
    },
    "id": "1e6bf1e8",
    "outputId": "2ab32656-029f-4639-926d-7280e11cbf99"
   },
   "outputs": [
    {
     "name": "stdout",
     "output_type": "stream",
     "text": [
      " * sqlite:///miscellaneous.db\n",
      "Done.\n"
     ]
    },
    {
     "data": {
      "text/html": [
       "<table>\n",
       "    <thead>\n",
       "        <tr>\n",
       "            <th>country</th>\n",
       "            <th>sales_person</th>\n",
       "            <th>sales_amount</th>\n",
       "            <th>rank</th>\n",
       "        </tr>\n",
       "    </thead>\n",
       "    <tbody>\n",
       "        <tr>\n",
       "            <td>Turkey</td>\n",
       "            <td>Afet</td>\n",
       "            <td>2500.0</td>\n",
       "            <td>1</td>\n",
       "        </tr>\n",
       "        <tr>\n",
       "            <td>Turkey</td>\n",
       "            <td>Ken</td>\n",
       "            <td>2500.0</td>\n",
       "            <td>1</td>\n",
       "        </tr>\n",
       "        <tr>\n",
       "            <td>Turkey</td>\n",
       "            <td>Charlie</td>\n",
       "            <td>1800.0</td>\n",
       "            <td>2</td>\n",
       "        </tr>\n",
       "        <tr>\n",
       "            <td>South Africa</td>\n",
       "            <td>Matt</td>\n",
       "            <td>1600.0</td>\n",
       "            <td>3</td>\n",
       "        </tr>\n",
       "        <tr>\n",
       "            <td>South Africa</td>\n",
       "            <td>Avon</td>\n",
       "            <td>1500.0</td>\n",
       "            <td>4</td>\n",
       "        </tr>\n",
       "        <tr>\n",
       "            <td>South Africa</td>\n",
       "            <td>Peter</td>\n",
       "            <td>1200.0</td>\n",
       "            <td>5</td>\n",
       "        </tr>\n",
       "        <tr>\n",
       "            <td>South Africa</td>\n",
       "            <td>Luke</td>\n",
       "            <td>1200.0</td>\n",
       "            <td>5</td>\n",
       "        </tr>\n",
       "        <tr>\n",
       "            <td>South Africa</td>\n",
       "            <td>John</td>\n",
       "            <td>1100.0</td>\n",
       "            <td>6</td>\n",
       "        </tr>\n",
       "        <tr>\n",
       "            <td>Turkey</td>\n",
       "            <td>Assat</td>\n",
       "            <td>900.0</td>\n",
       "            <td>7</td>\n",
       "        </tr>\n",
       "        <tr>\n",
       "            <td>Turkey</td>\n",
       "            <td>Moses</td>\n",
       "            <td>800.0</td>\n",
       "            <td>8</td>\n",
       "        </tr>\n",
       "    </tbody>\n",
       "</table>"
      ],
      "text/plain": [
       "[('Turkey', 'Afet', 2500.0, 1),\n",
       " ('Turkey', 'Ken', 2500.0, 1),\n",
       " ('Turkey', 'Charlie', 1800.0, 2),\n",
       " ('South Africa', 'Matt', 1600.0, 3),\n",
       " ('South Africa', 'Avon', 1500.0, 4),\n",
       " ('South Africa', 'Peter', 1200.0, 5),\n",
       " ('South Africa', 'Luke', 1200.0, 5),\n",
       " ('South Africa', 'John', 1100.0, 6),\n",
       " ('Turkey', 'Assat', 900.0, 7),\n",
       " ('Turkey', 'Moses', 800.0, 8)]"
      ]
     },
     "execution_count": 136,
     "metadata": {},
     "output_type": "execute_result"
    }
   ],
   "source": [
    "%%sql\n",
    "SELECT\n",
    "    country,\n",
    "    sales_person,\n",
    "    sales_amount,\n",
    "    DENSE_RANK() OVER (ORDER BY sales_amount DESC)\n",
    "    AS rank\n",
    "FROM inter_sales;"
   ]
  },
  {
   "cell_type": "code",
   "execution_count": 137,
   "id": "13apGiazBuwC",
   "metadata": {
    "colab": {
     "base_uri": "https://localhost:8080/",
     "height": 281
    },
    "executionInfo": {
     "elapsed": 283,
     "status": "ok",
     "timestamp": 1753184808738,
     "user": {
      "displayName": "Benjamin Bennett Alexander",
      "userId": "14614847693800833280"
     },
     "user_tz": -180
    },
    "id": "13apGiazBuwC",
    "outputId": "13ec15df-5ee8-43bd-cbbb-fd422b046d35"
   },
   "outputs": [
    {
     "name": "stdout",
     "output_type": "stream",
     "text": [
      " * sqlite:///miscellaneous.db\n",
      "Done.\n"
     ]
    },
    {
     "data": {
      "text/html": [
       "<table>\n",
       "    <thead>\n",
       "        <tr>\n",
       "            <th>country</th>\n",
       "            <th>sales_person</th>\n",
       "            <th>sales_amount</th>\n",
       "            <th>rank</th>\n",
       "        </tr>\n",
       "    </thead>\n",
       "    <tbody>\n",
       "        <tr>\n",
       "            <td>South Africa</td>\n",
       "            <td>Matt</td>\n",
       "            <td>1600.0</td>\n",
       "            <td>1</td>\n",
       "        </tr>\n",
       "        <tr>\n",
       "            <td>South Africa</td>\n",
       "            <td>Avon</td>\n",
       "            <td>1500.0</td>\n",
       "            <td>2</td>\n",
       "        </tr>\n",
       "        <tr>\n",
       "            <td>South Africa</td>\n",
       "            <td>Peter</td>\n",
       "            <td>1200.0</td>\n",
       "            <td>3</td>\n",
       "        </tr>\n",
       "        <tr>\n",
       "            <td>South Africa</td>\n",
       "            <td>Luke</td>\n",
       "            <td>1200.0</td>\n",
       "            <td>3</td>\n",
       "        </tr>\n",
       "        <tr>\n",
       "            <td>South Africa</td>\n",
       "            <td>John</td>\n",
       "            <td>1100.0</td>\n",
       "            <td>4</td>\n",
       "        </tr>\n",
       "        <tr>\n",
       "            <td>Turkey</td>\n",
       "            <td>Afet</td>\n",
       "            <td>2500.0</td>\n",
       "            <td>1</td>\n",
       "        </tr>\n",
       "        <tr>\n",
       "            <td>Turkey</td>\n",
       "            <td>Ken</td>\n",
       "            <td>2500.0</td>\n",
       "            <td>1</td>\n",
       "        </tr>\n",
       "        <tr>\n",
       "            <td>Turkey</td>\n",
       "            <td>Charlie</td>\n",
       "            <td>1800.0</td>\n",
       "            <td>2</td>\n",
       "        </tr>\n",
       "        <tr>\n",
       "            <td>Turkey</td>\n",
       "            <td>Assat</td>\n",
       "            <td>900.0</td>\n",
       "            <td>3</td>\n",
       "        </tr>\n",
       "        <tr>\n",
       "            <td>Turkey</td>\n",
       "            <td>Moses</td>\n",
       "            <td>800.0</td>\n",
       "            <td>4</td>\n",
       "        </tr>\n",
       "    </tbody>\n",
       "</table>"
      ],
      "text/plain": [
       "[('South Africa', 'Matt', 1600.0, 1),\n",
       " ('South Africa', 'Avon', 1500.0, 2),\n",
       " ('South Africa', 'Peter', 1200.0, 3),\n",
       " ('South Africa', 'Luke', 1200.0, 3),\n",
       " ('South Africa', 'John', 1100.0, 4),\n",
       " ('Turkey', 'Afet', 2500.0, 1),\n",
       " ('Turkey', 'Ken', 2500.0, 1),\n",
       " ('Turkey', 'Charlie', 1800.0, 2),\n",
       " ('Turkey', 'Assat', 900.0, 3),\n",
       " ('Turkey', 'Moses', 800.0, 4)]"
      ]
     },
     "execution_count": 137,
     "metadata": {},
     "output_type": "execute_result"
    }
   ],
   "source": [
    "%%sql\n",
    "SELECT\n",
    "    country,\n",
    "    sales_person,\n",
    "    sales_amount,\n",
    "    DENSE_RANK() OVER (PARTITION BY country\n",
    "    ORDER BY sales_amount DESC)\n",
    "    AS rank\n",
    "FROM inter_sales;"
   ]
  },
  {
   "cell_type": "code",
   "execution_count": 138,
   "id": "CzekqZ1enqWf",
   "metadata": {
    "colab": {
     "base_uri": "https://localhost:8080/",
     "height": 136
    },
    "executionInfo": {
     "elapsed": 266,
     "status": "ok",
     "timestamp": 1753184818837,
     "user": {
      "displayName": "Benjamin Bennett Alexander",
      "userId": "14614847693800833280"
     },
     "user_tz": -180
    },
    "id": "CzekqZ1enqWf",
    "outputId": "0e8613a7-b77f-408d-ad2e-b29351e96ca0"
   },
   "outputs": [
    {
     "name": "stdout",
     "output_type": "stream",
     "text": [
      " * sqlite:///miscellaneous.db\n",
      "Done.\n"
     ]
    },
    {
     "data": {
      "text/html": [
       "<table>\n",
       "    <thead>\n",
       "        <tr>\n",
       "            <th>country</th>\n",
       "            <th>sales_person</th>\n",
       "            <th>sales_amount</th>\n",
       "        </tr>\n",
       "    </thead>\n",
       "    <tbody>\n",
       "        <tr>\n",
       "            <td>South Africa</td>\n",
       "            <td>Matt</td>\n",
       "            <td>1600.0</td>\n",
       "        </tr>\n",
       "        <tr>\n",
       "            <td>Turkey</td>\n",
       "            <td>Afet</td>\n",
       "            <td>2500.0</td>\n",
       "        </tr>\n",
       "        <tr>\n",
       "            <td>Turkey</td>\n",
       "            <td>Ken</td>\n",
       "            <td>2500.0</td>\n",
       "        </tr>\n",
       "    </tbody>\n",
       "</table>"
      ],
      "text/plain": [
       "[('South Africa', 'Matt', 1600.0),\n",
       " ('Turkey', 'Afet', 2500.0),\n",
       " ('Turkey', 'Ken', 2500.0)]"
      ]
     },
     "execution_count": 138,
     "metadata": {},
     "output_type": "execute_result"
    }
   ],
   "source": [
    "%%sql\n",
    "-- Ranking sellers in each country\n",
    "WITH rank_sellers AS (\n",
    "    SELECT\n",
    "        country,\n",
    "        sales_person,\n",
    "        sales_amount,\n",
    "        DENSE_RANK() OVER (PARTITION BY country\n",
    "        ORDER BY sales_amount DESC)\n",
    "        AS rank\n",
    "FROM inter_sales)\n",
    "-- Retrieving top sellers each country\n",
    "SELECT\n",
    "    country,\n",
    "    sales_person,\n",
    "    sales_amount\n",
    "FROM rank_sellers\n",
    "WHERE rank = 1;"
   ]
  },
  {
   "cell_type": "code",
   "execution_count": 139,
   "id": "4G8Jiy6ztlZN",
   "metadata": {
    "colab": {
     "base_uri": "https://localhost:8080/",
     "height": 281
    },
    "executionInfo": {
     "elapsed": 299,
     "status": "ok",
     "timestamp": 1753184831054,
     "user": {
      "displayName": "Benjamin Bennett Alexander",
      "userId": "14614847693800833280"
     },
     "user_tz": -180
    },
    "id": "4G8Jiy6ztlZN",
    "outputId": "18cae338-6f2f-4622-fe02-31e5fc034667"
   },
   "outputs": [
    {
     "name": "stdout",
     "output_type": "stream",
     "text": [
      " * sqlite:///miscellaneous.db\n",
      "Done.\n"
     ]
    },
    {
     "data": {
      "text/html": [
       "<table>\n",
       "    <thead>\n",
       "        <tr>\n",
       "            <th>date</th>\n",
       "            <th>country</th>\n",
       "            <th>sales_amount</th>\n",
       "            <th>cumulative_sales</th>\n",
       "        </tr>\n",
       "    </thead>\n",
       "    <tbody>\n",
       "        <tr>\n",
       "            <td>12-02-2024</td>\n",
       "            <td>South Africa</td>\n",
       "            <td>1200.0</td>\n",
       "            <td>1200.0</td>\n",
       "        </tr>\n",
       "        <tr>\n",
       "            <td>15-02-2024</td>\n",
       "            <td>South Africa</td>\n",
       "            <td>1500.0</td>\n",
       "            <td>2700.0</td>\n",
       "        </tr>\n",
       "        <tr>\n",
       "            <td>16-02-2024</td>\n",
       "            <td>South Africa</td>\n",
       "            <td>1100.0</td>\n",
       "            <td>3800.0</td>\n",
       "        </tr>\n",
       "        <tr>\n",
       "            <td>20-01-2024</td>\n",
       "            <td>South Africa</td>\n",
       "            <td>1200.0</td>\n",
       "            <td>5000.0</td>\n",
       "        </tr>\n",
       "        <tr>\n",
       "            <td>20-02-2024</td>\n",
       "            <td>South Africa</td>\n",
       "            <td>1600.0</td>\n",
       "            <td>6600.0</td>\n",
       "        </tr>\n",
       "        <tr>\n",
       "            <td>01-02-2024</td>\n",
       "            <td>Turkey</td>\n",
       "            <td>1800.0</td>\n",
       "            <td>1800.0</td>\n",
       "        </tr>\n",
       "        <tr>\n",
       "            <td>05-02-2024</td>\n",
       "            <td>Turkey</td>\n",
       "            <td>900.0</td>\n",
       "            <td>2700.0</td>\n",
       "        </tr>\n",
       "        <tr>\n",
       "            <td>10-02-2024</td>\n",
       "            <td>Turkey</td>\n",
       "            <td>2500.0</td>\n",
       "            <td>5200.0</td>\n",
       "        </tr>\n",
       "        <tr>\n",
       "            <td>17-01-2024</td>\n",
       "            <td>Turkey</td>\n",
       "            <td>800.0</td>\n",
       "            <td>6000.0</td>\n",
       "        </tr>\n",
       "        <tr>\n",
       "            <td>25-02-2024</td>\n",
       "            <td>Turkey</td>\n",
       "            <td>2500.0</td>\n",
       "            <td>8500.0</td>\n",
       "        </tr>\n",
       "    </tbody>\n",
       "</table>"
      ],
      "text/plain": [
       "[('12-02-2024', 'South Africa', 1200.0, 1200.0),\n",
       " ('15-02-2024', 'South Africa', 1500.0, 2700.0),\n",
       " ('16-02-2024', 'South Africa', 1100.0, 3800.0),\n",
       " ('20-01-2024', 'South Africa', 1200.0, 5000.0),\n",
       " ('20-02-2024', 'South Africa', 1600.0, 6600.0),\n",
       " ('01-02-2024', 'Turkey', 1800.0, 1800.0),\n",
       " ('05-02-2024', 'Turkey', 900.0, 2700.0),\n",
       " ('10-02-2024', 'Turkey', 2500.0, 5200.0),\n",
       " ('17-01-2024', 'Turkey', 800.0, 6000.0),\n",
       " ('25-02-2024', 'Turkey', 2500.0, 8500.0)]"
      ]
     },
     "execution_count": 139,
     "metadata": {},
     "output_type": "execute_result"
    }
   ],
   "source": [
    "%%sql\n",
    "SELECT\n",
    "    date,\n",
    "    country,\n",
    "    sales_amount,\n",
    "    SUM(sales_amount) OVER (PARTITION BY country\n",
    "    ORDER BY date ASC)\n",
    "    AS cumulative_sales\n",
    "FROM inter_sales;"
   ]
  },
  {
   "cell_type": "code",
   "execution_count": 140,
   "id": "Os9ulP90W-YI",
   "metadata": {
    "colab": {
     "base_uri": "https://localhost:8080/",
     "height": 281
    },
    "executionInfo": {
     "elapsed": 278,
     "status": "ok",
     "timestamp": 1753184847598,
     "user": {
      "displayName": "Benjamin Bennett Alexander",
      "userId": "14614847693800833280"
     },
     "user_tz": -180
    },
    "id": "Os9ulP90W-YI",
    "outputId": "76ad886a-e1e8-446a-f186-abf120fd1015"
   },
   "outputs": [
    {
     "name": "stdout",
     "output_type": "stream",
     "text": [
      " * sqlite:///miscellaneous.db\n",
      "Done.\n"
     ]
    },
    {
     "data": {
      "text/html": [
       "<table>\n",
       "    <thead>\n",
       "        <tr>\n",
       "            <th>date</th>\n",
       "            <th>country</th>\n",
       "            <th>sales_amount</th>\n",
       "            <th>cumulative_avg_sales</th>\n",
       "        </tr>\n",
       "    </thead>\n",
       "    <tbody>\n",
       "        <tr>\n",
       "            <td>12-02-2024</td>\n",
       "            <td>South Africa</td>\n",
       "            <td>1200.0</td>\n",
       "            <td>1200.0</td>\n",
       "        </tr>\n",
       "        <tr>\n",
       "            <td>15-02-2024</td>\n",
       "            <td>South Africa</td>\n",
       "            <td>1500.0</td>\n",
       "            <td>1350.0</td>\n",
       "        </tr>\n",
       "        <tr>\n",
       "            <td>16-02-2024</td>\n",
       "            <td>South Africa</td>\n",
       "            <td>1100.0</td>\n",
       "            <td>1266.6666666666667</td>\n",
       "        </tr>\n",
       "        <tr>\n",
       "            <td>20-01-2024</td>\n",
       "            <td>South Africa</td>\n",
       "            <td>1200.0</td>\n",
       "            <td>1250.0</td>\n",
       "        </tr>\n",
       "        <tr>\n",
       "            <td>20-02-2024</td>\n",
       "            <td>South Africa</td>\n",
       "            <td>1600.0</td>\n",
       "            <td>1320.0</td>\n",
       "        </tr>\n",
       "        <tr>\n",
       "            <td>01-02-2024</td>\n",
       "            <td>Turkey</td>\n",
       "            <td>1800.0</td>\n",
       "            <td>1800.0</td>\n",
       "        </tr>\n",
       "        <tr>\n",
       "            <td>05-02-2024</td>\n",
       "            <td>Turkey</td>\n",
       "            <td>900.0</td>\n",
       "            <td>1350.0</td>\n",
       "        </tr>\n",
       "        <tr>\n",
       "            <td>10-02-2024</td>\n",
       "            <td>Turkey</td>\n",
       "            <td>2500.0</td>\n",
       "            <td>1733.3333333333333</td>\n",
       "        </tr>\n",
       "        <tr>\n",
       "            <td>17-01-2024</td>\n",
       "            <td>Turkey</td>\n",
       "            <td>800.0</td>\n",
       "            <td>1500.0</td>\n",
       "        </tr>\n",
       "        <tr>\n",
       "            <td>25-02-2024</td>\n",
       "            <td>Turkey</td>\n",
       "            <td>2500.0</td>\n",
       "            <td>1700.0</td>\n",
       "        </tr>\n",
       "    </tbody>\n",
       "</table>"
      ],
      "text/plain": [
       "[('12-02-2024', 'South Africa', 1200.0, 1200.0),\n",
       " ('15-02-2024', 'South Africa', 1500.0, 1350.0),\n",
       " ('16-02-2024', 'South Africa', 1100.0, 1266.6666666666667),\n",
       " ('20-01-2024', 'South Africa', 1200.0, 1250.0),\n",
       " ('20-02-2024', 'South Africa', 1600.0, 1320.0),\n",
       " ('01-02-2024', 'Turkey', 1800.0, 1800.0),\n",
       " ('05-02-2024', 'Turkey', 900.0, 1350.0),\n",
       " ('10-02-2024', 'Turkey', 2500.0, 1733.3333333333333),\n",
       " ('17-01-2024', 'Turkey', 800.0, 1500.0),\n",
       " ('25-02-2024', 'Turkey', 2500.0, 1700.0)]"
      ]
     },
     "execution_count": 140,
     "metadata": {},
     "output_type": "execute_result"
    }
   ],
   "source": [
    "%%sql\n",
    "SELECT\n",
    "    date,\n",
    "    country,\n",
    "    sales_amount,\n",
    "    AVG(sales_amount) OVER (PARTITION BY country\n",
    "    ORDER BY date ASC)\n",
    "    AS cumulative_avg_sales\n",
    "FROM inter_sales;"
   ]
  },
  {
   "cell_type": "code",
   "execution_count": 141,
   "id": "kOYPelnwaLIN",
   "metadata": {
    "colab": {
     "base_uri": "https://localhost:8080/",
     "height": 281
    },
    "executionInfo": {
     "elapsed": 258,
     "status": "ok",
     "timestamp": 1753184918010,
     "user": {
      "displayName": "Benjamin Bennett Alexander",
      "userId": "14614847693800833280"
     },
     "user_tz": -180
    },
    "id": "kOYPelnwaLIN",
    "outputId": "c564a113-887e-4534-e768-030d315e9402"
   },
   "outputs": [
    {
     "name": "stdout",
     "output_type": "stream",
     "text": [
      " * sqlite:///miscellaneous.db\n",
      "Done.\n"
     ]
    },
    {
     "data": {
      "text/html": [
       "<table>\n",
       "    <thead>\n",
       "        <tr>\n",
       "            <th>date</th>\n",
       "            <th>country</th>\n",
       "            <th>sales_amount</th>\n",
       "            <th>avg_sales_country</th>\n",
       "        </tr>\n",
       "    </thead>\n",
       "    <tbody>\n",
       "        <tr>\n",
       "            <td>15-02-2024</td>\n",
       "            <td>South Africa</td>\n",
       "            <td>1500.0</td>\n",
       "            <td>1320.0</td>\n",
       "        </tr>\n",
       "        <tr>\n",
       "            <td>20-01-2024</td>\n",
       "            <td>South Africa</td>\n",
       "            <td>1200.0</td>\n",
       "            <td>1320.0</td>\n",
       "        </tr>\n",
       "        <tr>\n",
       "            <td>12-02-2024</td>\n",
       "            <td>South Africa</td>\n",
       "            <td>1200.0</td>\n",
       "            <td>1320.0</td>\n",
       "        </tr>\n",
       "        <tr>\n",
       "            <td>16-02-2024</td>\n",
       "            <td>South Africa</td>\n",
       "            <td>1100.0</td>\n",
       "            <td>1320.0</td>\n",
       "        </tr>\n",
       "        <tr>\n",
       "            <td>20-02-2024</td>\n",
       "            <td>South Africa</td>\n",
       "            <td>1600.0</td>\n",
       "            <td>1320.0</td>\n",
       "        </tr>\n",
       "        <tr>\n",
       "            <td>17-01-2024</td>\n",
       "            <td>Turkey</td>\n",
       "            <td>800.0</td>\n",
       "            <td>1700.0</td>\n",
       "        </tr>\n",
       "        <tr>\n",
       "            <td>01-02-2024</td>\n",
       "            <td>Turkey</td>\n",
       "            <td>1800.0</td>\n",
       "            <td>1700.0</td>\n",
       "        </tr>\n",
       "        <tr>\n",
       "            <td>05-02-2024</td>\n",
       "            <td>Turkey</td>\n",
       "            <td>900.0</td>\n",
       "            <td>1700.0</td>\n",
       "        </tr>\n",
       "        <tr>\n",
       "            <td>10-02-2024</td>\n",
       "            <td>Turkey</td>\n",
       "            <td>2500.0</td>\n",
       "            <td>1700.0</td>\n",
       "        </tr>\n",
       "        <tr>\n",
       "            <td>25-02-2024</td>\n",
       "            <td>Turkey</td>\n",
       "            <td>2500.0</td>\n",
       "            <td>1700.0</td>\n",
       "        </tr>\n",
       "    </tbody>\n",
       "</table>"
      ],
      "text/plain": [
       "[('15-02-2024', 'South Africa', 1500.0, 1320.0),\n",
       " ('20-01-2024', 'South Africa', 1200.0, 1320.0),\n",
       " ('12-02-2024', 'South Africa', 1200.0, 1320.0),\n",
       " ('16-02-2024', 'South Africa', 1100.0, 1320.0),\n",
       " ('20-02-2024', 'South Africa', 1600.0, 1320.0),\n",
       " ('17-01-2024', 'Turkey', 800.0, 1700.0),\n",
       " ('01-02-2024', 'Turkey', 1800.0, 1700.0),\n",
       " ('05-02-2024', 'Turkey', 900.0, 1700.0),\n",
       " ('10-02-2024', 'Turkey', 2500.0, 1700.0),\n",
       " ('25-02-2024', 'Turkey', 2500.0, 1700.0)]"
      ]
     },
     "execution_count": 141,
     "metadata": {},
     "output_type": "execute_result"
    }
   ],
   "source": [
    "%%sql\n",
    "SELECT\n",
    "    date,\n",
    "    country,\n",
    "    sales_amount,\n",
    "    AVG(sales_amount) OVER (PARTITION BY country)\n",
    "    AS avg_sales_country\n",
    "FROM inter_sales;"
   ]
  },
  {
   "cell_type": "code",
   "execution_count": 142,
   "id": "nos_BtGS2yhb",
   "metadata": {
    "colab": {
     "base_uri": "https://localhost:8080/",
     "height": 281
    },
    "executionInfo": {
     "elapsed": 292,
     "status": "ok",
     "timestamp": 1753184936175,
     "user": {
      "displayName": "Benjamin Bennett Alexander",
      "userId": "14614847693800833280"
     },
     "user_tz": -180
    },
    "id": "nos_BtGS2yhb",
    "outputId": "0d377447-9f4b-47e4-f887-ed0af6fc892a"
   },
   "outputs": [
    {
     "name": "stdout",
     "output_type": "stream",
     "text": [
      " * sqlite:///miscellaneous.db\n",
      "Done.\n"
     ]
    },
    {
     "data": {
      "text/html": [
       "<table>\n",
       "    <thead>\n",
       "        <tr>\n",
       "            <th>date</th>\n",
       "            <th>sales_person</th>\n",
       "            <th>country</th>\n",
       "            <th>sales_amount</th>\n",
       "            <th>avg_sales_country</th>\n",
       "            <th>average_to_sales_percentage</th>\n",
       "        </tr>\n",
       "    </thead>\n",
       "    <tbody>\n",
       "        <tr>\n",
       "            <td>15-02-2024</td>\n",
       "            <td>Avon</td>\n",
       "            <td>South Africa</td>\n",
       "            <td>1500.0</td>\n",
       "            <td>1320.0</td>\n",
       "            <td>88.0</td>\n",
       "        </tr>\n",
       "        <tr>\n",
       "            <td>20-01-2024</td>\n",
       "            <td>Peter</td>\n",
       "            <td>South Africa</td>\n",
       "            <td>1200.0</td>\n",
       "            <td>1320.0</td>\n",
       "            <td>110.0</td>\n",
       "        </tr>\n",
       "        <tr>\n",
       "            <td>12-02-2024</td>\n",
       "            <td>Luke</td>\n",
       "            <td>South Africa</td>\n",
       "            <td>1200.0</td>\n",
       "            <td>1320.0</td>\n",
       "            <td>110.0</td>\n",
       "        </tr>\n",
       "        <tr>\n",
       "            <td>16-02-2024</td>\n",
       "            <td>John</td>\n",
       "            <td>South Africa</td>\n",
       "            <td>1100.0</td>\n",
       "            <td>1320.0</td>\n",
       "            <td>120.0</td>\n",
       "        </tr>\n",
       "        <tr>\n",
       "            <td>20-02-2024</td>\n",
       "            <td>Matt</td>\n",
       "            <td>South Africa</td>\n",
       "            <td>1600.0</td>\n",
       "            <td>1320.0</td>\n",
       "            <td>82.5</td>\n",
       "        </tr>\n",
       "        <tr>\n",
       "            <td>17-01-2024</td>\n",
       "            <td>Moses</td>\n",
       "            <td>Turkey</td>\n",
       "            <td>800.0</td>\n",
       "            <td>1700.0</td>\n",
       "            <td>212.5</td>\n",
       "        </tr>\n",
       "        <tr>\n",
       "            <td>01-02-2024</td>\n",
       "            <td>Charlie</td>\n",
       "            <td>Turkey</td>\n",
       "            <td>1800.0</td>\n",
       "            <td>1700.0</td>\n",
       "            <td>94.44</td>\n",
       "        </tr>\n",
       "        <tr>\n",
       "            <td>05-02-2024</td>\n",
       "            <td>Assat</td>\n",
       "            <td>Turkey</td>\n",
       "            <td>900.0</td>\n",
       "            <td>1700.0</td>\n",
       "            <td>188.89</td>\n",
       "        </tr>\n",
       "        <tr>\n",
       "            <td>10-02-2024</td>\n",
       "            <td>Afet</td>\n",
       "            <td>Turkey</td>\n",
       "            <td>2500.0</td>\n",
       "            <td>1700.0</td>\n",
       "            <td>68.0</td>\n",
       "        </tr>\n",
       "        <tr>\n",
       "            <td>25-02-2024</td>\n",
       "            <td>Ken</td>\n",
       "            <td>Turkey</td>\n",
       "            <td>2500.0</td>\n",
       "            <td>1700.0</td>\n",
       "            <td>68.0</td>\n",
       "        </tr>\n",
       "    </tbody>\n",
       "</table>"
      ],
      "text/plain": [
       "[('15-02-2024', 'Avon', 'South Africa', 1500.0, 1320.0, 88.0),\n",
       " ('20-01-2024', 'Peter', 'South Africa', 1200.0, 1320.0, 110.0),\n",
       " ('12-02-2024', 'Luke', 'South Africa', 1200.0, 1320.0, 110.0),\n",
       " ('16-02-2024', 'John', 'South Africa', 1100.0, 1320.0, 120.0),\n",
       " ('20-02-2024', 'Matt', 'South Africa', 1600.0, 1320.0, 82.5),\n",
       " ('17-01-2024', 'Moses', 'Turkey', 800.0, 1700.0, 212.5),\n",
       " ('01-02-2024', 'Charlie', 'Turkey', 1800.0, 1700.0, 94.44),\n",
       " ('05-02-2024', 'Assat', 'Turkey', 900.0, 1700.0, 188.89),\n",
       " ('10-02-2024', 'Afet', 'Turkey', 2500.0, 1700.0, 68.0),\n",
       " ('25-02-2024', 'Ken', 'Turkey', 2500.0, 1700.0, 68.0)]"
      ]
     },
     "execution_count": 142,
     "metadata": {},
     "output_type": "execute_result"
    }
   ],
   "source": [
    "%%sql\n",
    "-- Calculating average sales per country\n",
    "WITH group_wise_average AS (\n",
    "    SELECT\n",
    "        date,\n",
    "        sales_person,\n",
    "        country,\n",
    "        sales_amount,\n",
    "        AVG(sales_amount) OVER (PARTITION BY country)\n",
    "        AS avg_sales_country\n",
    "FROM inter_sales\n",
    ")\n",
    "-- calculating the percentage of each country’s average to sales amounts\n",
    "SELECT\n",
    "    date,\n",
    "    sales_person,\n",
    "    country,\n",
    "    sales_amount,\n",
    "    avg_sales_country,\n",
    "    ROUND((avg_sales_country/sales_amount * 100), 2)\n",
    "    AS average_to_sales_percentage\n",
    "FROM group_wise_average;"
   ]
  },
  {
   "cell_type": "code",
   "execution_count": 143,
   "id": "BEpHTDkFS1gt",
   "metadata": {
    "colab": {
     "base_uri": "https://localhost:8080/",
     "height": 281
    },
    "executionInfo": {
     "elapsed": 253,
     "status": "ok",
     "timestamp": 1753184965995,
     "user": {
      "displayName": "Benjamin Bennett Alexander",
      "userId": "14614847693800833280"
     },
     "user_tz": -180
    },
    "id": "BEpHTDkFS1gt",
    "outputId": "cf35323a-4373-4032-f397-7f064b3ef733"
   },
   "outputs": [
    {
     "name": "stdout",
     "output_type": "stream",
     "text": [
      " * sqlite:///miscellaneous.db\n",
      "Done.\n"
     ]
    },
    {
     "data": {
      "text/html": [
       "<table>\n",
       "    <thead>\n",
       "        <tr>\n",
       "            <th>date</th>\n",
       "            <th>country</th>\n",
       "            <th>sales_amount</th>\n",
       "            <th>avg_sales_country</th>\n",
       "        </tr>\n",
       "    </thead>\n",
       "    <tbody>\n",
       "        <tr>\n",
       "            <td>15-02-2024</td>\n",
       "            <td>South Africa</td>\n",
       "            <td>1500.0</td>\n",
       "            <td>1320.0</td>\n",
       "        </tr>\n",
       "        <tr>\n",
       "            <td>20-01-2024</td>\n",
       "            <td>South Africa</td>\n",
       "            <td>1200.0</td>\n",
       "            <td>1320.0</td>\n",
       "        </tr>\n",
       "        <tr>\n",
       "            <td>12-02-2024</td>\n",
       "            <td>South Africa</td>\n",
       "            <td>1200.0</td>\n",
       "            <td>1320.0</td>\n",
       "        </tr>\n",
       "        <tr>\n",
       "            <td>16-02-2024</td>\n",
       "            <td>South Africa</td>\n",
       "            <td>1100.0</td>\n",
       "            <td>1320.0</td>\n",
       "        </tr>\n",
       "        <tr>\n",
       "            <td>20-02-2024</td>\n",
       "            <td>South Africa</td>\n",
       "            <td>1600.0</td>\n",
       "            <td>1320.0</td>\n",
       "        </tr>\n",
       "        <tr>\n",
       "            <td>17-01-2024</td>\n",
       "            <td>Turkey</td>\n",
       "            <td>800.0</td>\n",
       "            <td>1700.0</td>\n",
       "        </tr>\n",
       "        <tr>\n",
       "            <td>01-02-2024</td>\n",
       "            <td>Turkey</td>\n",
       "            <td>1800.0</td>\n",
       "            <td>1700.0</td>\n",
       "        </tr>\n",
       "        <tr>\n",
       "            <td>05-02-2024</td>\n",
       "            <td>Turkey</td>\n",
       "            <td>900.0</td>\n",
       "            <td>1700.0</td>\n",
       "        </tr>\n",
       "        <tr>\n",
       "            <td>10-02-2024</td>\n",
       "            <td>Turkey</td>\n",
       "            <td>2500.0</td>\n",
       "            <td>1700.0</td>\n",
       "        </tr>\n",
       "        <tr>\n",
       "            <td>25-02-2024</td>\n",
       "            <td>Turkey</td>\n",
       "            <td>2500.0</td>\n",
       "            <td>1700.0</td>\n",
       "        </tr>\n",
       "    </tbody>\n",
       "</table>"
      ],
      "text/plain": [
       "[('15-02-2024', 'South Africa', 1500.0, 1320.0),\n",
       " ('20-01-2024', 'South Africa', 1200.0, 1320.0),\n",
       " ('12-02-2024', 'South Africa', 1200.0, 1320.0),\n",
       " ('16-02-2024', 'South Africa', 1100.0, 1320.0),\n",
       " ('20-02-2024', 'South Africa', 1600.0, 1320.0),\n",
       " ('17-01-2024', 'Turkey', 800.0, 1700.0),\n",
       " ('01-02-2024', 'Turkey', 1800.0, 1700.0),\n",
       " ('05-02-2024', 'Turkey', 900.0, 1700.0),\n",
       " ('10-02-2024', 'Turkey', 2500.0, 1700.0),\n",
       " ('25-02-2024', 'Turkey', 2500.0, 1700.0)]"
      ]
     },
     "execution_count": 143,
     "metadata": {},
     "output_type": "execute_result"
    }
   ],
   "source": [
    "%%sql\n",
    "SELECT\n",
    "    date,\n",
    "    country,\n",
    "    sales_amount,\n",
    "    AVG(sales_amount) OVER (PARTITION BY country)\n",
    "    AS avg_sales_country\n",
    "FROM inter_sales;"
   ]
  },
  {
   "cell_type": "code",
   "execution_count": 144,
   "id": "KMBQo8jnb76p",
   "metadata": {
    "colab": {
     "base_uri": "https://localhost:8080/",
     "height": 281
    },
    "executionInfo": {
     "elapsed": 247,
     "status": "ok",
     "timestamp": 1753184975381,
     "user": {
      "displayName": "Benjamin Bennett Alexander",
      "userId": "14614847693800833280"
     },
     "user_tz": -180
    },
    "id": "KMBQo8jnb76p",
    "outputId": "dd218166-3044-4cc5-d682-736b42c22258"
   },
   "outputs": [
    {
     "name": "stdout",
     "output_type": "stream",
     "text": [
      " * sqlite:///miscellaneous.db\n",
      "Done.\n"
     ]
    },
    {
     "data": {
      "text/html": [
       "<table>\n",
       "    <thead>\n",
       "        <tr>\n",
       "            <th>date</th>\n",
       "            <th>country</th>\n",
       "            <th>sales_amount</th>\n",
       "            <th>moving_avg_sales</th>\n",
       "        </tr>\n",
       "    </thead>\n",
       "    <tbody>\n",
       "        <tr>\n",
       "            <td>12-02-2024</td>\n",
       "            <td>South Africa</td>\n",
       "            <td>1200.0</td>\n",
       "            <td>1200.0</td>\n",
       "        </tr>\n",
       "        <tr>\n",
       "            <td>15-02-2024</td>\n",
       "            <td>South Africa</td>\n",
       "            <td>1500.0</td>\n",
       "            <td>1350.0</td>\n",
       "        </tr>\n",
       "        <tr>\n",
       "            <td>16-02-2024</td>\n",
       "            <td>South Africa</td>\n",
       "            <td>1100.0</td>\n",
       "            <td>1266.6666666666667</td>\n",
       "        </tr>\n",
       "        <tr>\n",
       "            <td>20-01-2024</td>\n",
       "            <td>South Africa</td>\n",
       "            <td>1200.0</td>\n",
       "            <td>1266.6666666666667</td>\n",
       "        </tr>\n",
       "        <tr>\n",
       "            <td>20-02-2024</td>\n",
       "            <td>South Africa</td>\n",
       "            <td>1600.0</td>\n",
       "            <td>1300.0</td>\n",
       "        </tr>\n",
       "        <tr>\n",
       "            <td>01-02-2024</td>\n",
       "            <td>Turkey</td>\n",
       "            <td>1800.0</td>\n",
       "            <td>1800.0</td>\n",
       "        </tr>\n",
       "        <tr>\n",
       "            <td>05-02-2024</td>\n",
       "            <td>Turkey</td>\n",
       "            <td>900.0</td>\n",
       "            <td>1350.0</td>\n",
       "        </tr>\n",
       "        <tr>\n",
       "            <td>10-02-2024</td>\n",
       "            <td>Turkey</td>\n",
       "            <td>2500.0</td>\n",
       "            <td>1733.3333333333333</td>\n",
       "        </tr>\n",
       "        <tr>\n",
       "            <td>17-01-2024</td>\n",
       "            <td>Turkey</td>\n",
       "            <td>800.0</td>\n",
       "            <td>1400.0</td>\n",
       "        </tr>\n",
       "        <tr>\n",
       "            <td>25-02-2024</td>\n",
       "            <td>Turkey</td>\n",
       "            <td>2500.0</td>\n",
       "            <td>1933.3333333333333</td>\n",
       "        </tr>\n",
       "    </tbody>\n",
       "</table>"
      ],
      "text/plain": [
       "[('12-02-2024', 'South Africa', 1200.0, 1200.0),\n",
       " ('15-02-2024', 'South Africa', 1500.0, 1350.0),\n",
       " ('16-02-2024', 'South Africa', 1100.0, 1266.6666666666667),\n",
       " ('20-01-2024', 'South Africa', 1200.0, 1266.6666666666667),\n",
       " ('20-02-2024', 'South Africa', 1600.0, 1300.0),\n",
       " ('01-02-2024', 'Turkey', 1800.0, 1800.0),\n",
       " ('05-02-2024', 'Turkey', 900.0, 1350.0),\n",
       " ('10-02-2024', 'Turkey', 2500.0, 1733.3333333333333),\n",
       " ('17-01-2024', 'Turkey', 800.0, 1400.0),\n",
       " ('25-02-2024', 'Turkey', 2500.0, 1933.3333333333333)]"
      ]
     },
     "execution_count": 144,
     "metadata": {},
     "output_type": "execute_result"
    }
   ],
   "source": [
    "%%sql\n",
    "SELECT\n",
    "    date,\n",
    "    country,\n",
    "    sales_amount,\n",
    "    AVG(sales_amount) OVER (\n",
    "        PARTITION BY country\n",
    "        ORDER BY date ASC\n",
    "        ROWS BETWEEN 2 PRECEDING AND CURRENT ROW\n",
    "    ) AS moving_avg_sales\n",
    "FROM inter_sales;"
   ]
  },
  {
   "cell_type": "code",
   "execution_count": 145,
   "id": "c45zreJDgpvj",
   "metadata": {
    "colab": {
     "base_uri": "https://localhost:8080/",
     "height": 177
    },
    "executionInfo": {
     "elapsed": 286,
     "status": "ok",
     "timestamp": 1753185000755,
     "user": {
      "displayName": "Benjamin Bennett Alexander",
      "userId": "14614847693800833280"
     },
     "user_tz": -180
    },
    "id": "c45zreJDgpvj",
    "outputId": "f9cca731-3bef-45c4-b304-32569ae0d6cf"
   },
   "outputs": [
    {
     "name": "stdout",
     "output_type": "stream",
     "text": [
      " * sqlite:///miscellaneous.db\n",
      "Done.\n"
     ]
    },
    {
     "data": {
      "text/html": [
       "<table>\n",
       "    <thead>\n",
       "        <tr>\n",
       "            <th>date</th>\n",
       "            <th>country</th>\n",
       "            <th>sales_amount</th>\n",
       "            <th>next_sales_amount</th>\n",
       "        </tr>\n",
       "    </thead>\n",
       "    <tbody>\n",
       "        <tr>\n",
       "            <td>12-02-2024</td>\n",
       "            <td>South Africa</td>\n",
       "            <td>1200.0</td>\n",
       "            <td>1500.0</td>\n",
       "        </tr>\n",
       "        <tr>\n",
       "            <td>15-02-2024</td>\n",
       "            <td>South Africa</td>\n",
       "            <td>1500.0</td>\n",
       "            <td>1100.0</td>\n",
       "        </tr>\n",
       "        <tr>\n",
       "            <td>16-02-2024</td>\n",
       "            <td>South Africa</td>\n",
       "            <td>1100.0</td>\n",
       "            <td>1200.0</td>\n",
       "        </tr>\n",
       "        <tr>\n",
       "            <td>20-01-2024</td>\n",
       "            <td>South Africa</td>\n",
       "            <td>1200.0</td>\n",
       "            <td>1600.0</td>\n",
       "        </tr>\n",
       "        <tr>\n",
       "            <td>20-02-2024</td>\n",
       "            <td>South Africa</td>\n",
       "            <td>1600.0</td>\n",
       "            <td>None</td>\n",
       "        </tr>\n",
       "    </tbody>\n",
       "</table>"
      ],
      "text/plain": [
       "[('12-02-2024', 'South Africa', 1200.0, 1500.0),\n",
       " ('15-02-2024', 'South Africa', 1500.0, 1100.0),\n",
       " ('16-02-2024', 'South Africa', 1100.0, 1200.0),\n",
       " ('20-01-2024', 'South Africa', 1200.0, 1600.0),\n",
       " ('20-02-2024', 'South Africa', 1600.0, None)]"
      ]
     },
     "execution_count": 145,
     "metadata": {},
     "output_type": "execute_result"
    }
   ],
   "source": [
    "%%sql\n",
    "SELECT\n",
    "    date,\n",
    "    country,\n",
    "    sales_amount,\n",
    "    LEAD(sales_amount, 1) OVER (PARTITION BY country ORDER BY date)\n",
    "    AS next_sales_amount\n",
    "FROM inter_sales\n",
    "LIMIT 5;"
   ]
  },
  {
   "cell_type": "code",
   "execution_count": 146,
   "id": "Z8E33dfcne4Q",
   "metadata": {
    "colab": {
     "base_uri": "https://localhost:8080/",
     "height": 115
    },
    "executionInfo": {
     "elapsed": 277,
     "status": "ok",
     "timestamp": 1753185020335,
     "user": {
      "displayName": "Benjamin Bennett Alexander",
      "userId": "14614847693800833280"
     },
     "user_tz": -180
    },
    "id": "Z8E33dfcne4Q",
    "outputId": "0341af1b-2994-429a-c880-48ac85391f1d"
   },
   "outputs": [
    {
     "name": "stdout",
     "output_type": "stream",
     "text": [
      " * sqlite:///miscellaneous.db\n",
      "Done.\n"
     ]
    },
    {
     "data": {
      "text/html": [
       "<table>\n",
       "    <thead>\n",
       "        <tr>\n",
       "            <th>date</th>\n",
       "            <th>country</th>\n",
       "            <th>cumulative_sales_amt</th>\n",
       "            <th>change_in_sales</th>\n",
       "        </tr>\n",
       "    </thead>\n",
       "    <tbody>\n",
       "        <tr>\n",
       "            <td>12-02-2024</td>\n",
       "            <td>South Africa</td>\n",
       "            <td>1200.0</td>\n",
       "            <td>1500.0</td>\n",
       "        </tr>\n",
       "        <tr>\n",
       "            <td>15-02-2024</td>\n",
       "            <td>South Africa</td>\n",
       "            <td>2700.0</td>\n",
       "            <td>None</td>\n",
       "        </tr>\n",
       "    </tbody>\n",
       "</table>"
      ],
      "text/plain": [
       "[('12-02-2024', 'South Africa', 1200.0, 1500.0),\n",
       " ('15-02-2024', 'South Africa', 2700.0, None)]"
      ]
     },
     "execution_count": 146,
     "metadata": {},
     "output_type": "execute_result"
    }
   ],
   "source": [
    "%%sql\n",
    "-- Calculating cumulative sales by country\n",
    "WITH cumulative_sales AS (SELECT\n",
    "    date,\n",
    "    country,\n",
    "    sales_amount,\n",
    "    SUM(sales_amount) OVER (PARTITION BY country\n",
    "    ORDER BY date ASC)\n",
    "    AS cumulative_sales_amt\n",
    "FROM inter_sales)\n",
    "\n",
    "SELECT\n",
    "    date,\n",
    "    country,\n",
    "    cumulative_sales_amt,\n",
    "    -- Using the LEAD function to find difference in cumulative sales\n",
    "    LEAD(cumulative_sales_amt, 1)\n",
    "    OVER (PARTITION BY country\n",
    "    ORDER BY date ASC) - cumulative_sales_amt\n",
    "    AS change_in_sales\n",
    "FROM cumulative_sales\n",
    "WHERE country = 'South Africa'\n",
    "AND date IN ('15-02-2024', '12-02-2024')"
   ]
  },
  {
   "cell_type": "code",
   "execution_count": 147,
   "id": "b4QCGpGDv6Li",
   "metadata": {
    "colab": {
     "base_uri": "https://localhost:8080/",
     "height": 177
    },
    "executionInfo": {
     "elapsed": 255,
     "status": "ok",
     "timestamp": 1753185036756,
     "user": {
      "displayName": "Benjamin Bennett Alexander",
      "userId": "14614847693800833280"
     },
     "user_tz": -180
    },
    "id": "b4QCGpGDv6Li",
    "outputId": "1d6da46a-f0f0-4913-b066-168cfdca4d70"
   },
   "outputs": [
    {
     "name": "stdout",
     "output_type": "stream",
     "text": [
      " * sqlite:///miscellaneous.db\n",
      "Done.\n"
     ]
    },
    {
     "data": {
      "text/html": [
       "<table>\n",
       "    <thead>\n",
       "        <tr>\n",
       "            <th>date</th>\n",
       "            <th>country</th>\n",
       "            <th>sales_amount</th>\n",
       "            <th>previous_sales_amount</th>\n",
       "        </tr>\n",
       "    </thead>\n",
       "    <tbody>\n",
       "        <tr>\n",
       "            <td>12-02-2024</td>\n",
       "            <td>South Africa</td>\n",
       "            <td>1200.0</td>\n",
       "            <td>None</td>\n",
       "        </tr>\n",
       "        <tr>\n",
       "            <td>15-02-2024</td>\n",
       "            <td>South Africa</td>\n",
       "            <td>1500.0</td>\n",
       "            <td>1200.0</td>\n",
       "        </tr>\n",
       "        <tr>\n",
       "            <td>16-02-2024</td>\n",
       "            <td>South Africa</td>\n",
       "            <td>1100.0</td>\n",
       "            <td>1500.0</td>\n",
       "        </tr>\n",
       "        <tr>\n",
       "            <td>20-01-2024</td>\n",
       "            <td>South Africa</td>\n",
       "            <td>1200.0</td>\n",
       "            <td>1100.0</td>\n",
       "        </tr>\n",
       "        <tr>\n",
       "            <td>20-02-2024</td>\n",
       "            <td>South Africa</td>\n",
       "            <td>1600.0</td>\n",
       "            <td>1200.0</td>\n",
       "        </tr>\n",
       "    </tbody>\n",
       "</table>"
      ],
      "text/plain": [
       "[('12-02-2024', 'South Africa', 1200.0, None),\n",
       " ('15-02-2024', 'South Africa', 1500.0, 1200.0),\n",
       " ('16-02-2024', 'South Africa', 1100.0, 1500.0),\n",
       " ('20-01-2024', 'South Africa', 1200.0, 1100.0),\n",
       " ('20-02-2024', 'South Africa', 1600.0, 1200.0)]"
      ]
     },
     "execution_count": 147,
     "metadata": {},
     "output_type": "execute_result"
    }
   ],
   "source": [
    "%%sql\n",
    "SELECT\n",
    "    date,\n",
    "    country,\n",
    "    sales_amount,\n",
    "    LAG(sales_amount, 1) OVER (PARTITION BY country ORDER BY date)\n",
    "    AS previous_sales_amount\n",
    "FROM inter_sales\n",
    "LIMIT 5;"
   ]
  },
  {
   "cell_type": "code",
   "execution_count": 148,
   "id": "P6fj51Xm2hUm",
   "metadata": {
    "colab": {
     "base_uri": "https://localhost:8080/",
     "height": 115
    },
    "executionInfo": {
     "elapsed": 295,
     "status": "ok",
     "timestamp": 1753185048798,
     "user": {
      "displayName": "Benjamin Bennett Alexander",
      "userId": "14614847693800833280"
     },
     "user_tz": -180
    },
    "id": "P6fj51Xm2hUm",
    "outputId": "898eea9d-06da-4a14-805a-4eb10c6ebc62"
   },
   "outputs": [
    {
     "name": "stdout",
     "output_type": "stream",
     "text": [
      " * sqlite:///miscellaneous.db\n",
      "Done.\n"
     ]
    },
    {
     "data": {
      "text/html": [
       "<table>\n",
       "    <thead>\n",
       "        <tr>\n",
       "            <th>date</th>\n",
       "            <th>country</th>\n",
       "            <th>cumulative_sales_amt</th>\n",
       "            <th>change_in_sales</th>\n",
       "        </tr>\n",
       "    </thead>\n",
       "    <tbody>\n",
       "        <tr>\n",
       "            <td>12-02-2024</td>\n",
       "            <td>South Africa</td>\n",
       "            <td>1200.0</td>\n",
       "            <td>None</td>\n",
       "        </tr>\n",
       "        <tr>\n",
       "            <td>15-02-2024</td>\n",
       "            <td>South Africa</td>\n",
       "            <td>2700.0</td>\n",
       "            <td>-1500.0</td>\n",
       "        </tr>\n",
       "    </tbody>\n",
       "</table>"
      ],
      "text/plain": [
       "[('12-02-2024', 'South Africa', 1200.0, None),\n",
       " ('15-02-2024', 'South Africa', 2700.0, -1500.0)]"
      ]
     },
     "execution_count": 148,
     "metadata": {},
     "output_type": "execute_result"
    }
   ],
   "source": [
    "%%sql\n",
    "WITH cumulative_sales AS (SELECT\n",
    "    date,\n",
    "    country,\n",
    "    sales_amount,\n",
    "    SUM(sales_amount) OVER (PARTITION BY country\n",
    "    ORDER BY date ASC)\n",
    "    AS cumulative_sales_amt\n",
    "FROM inter_sales)\n",
    "\n",
    "-- Main query\n",
    "SELECT\n",
    "    date,\n",
    "    country,\n",
    "    cumulative_sales_amt,\n",
    "    -- Using the LAG function to find difference in cumulative sales\n",
    "    LAG(cumulative_sales_amt, 1)\n",
    "    OVER (PARTITION BY country\n",
    "    ORDER BY date ASC) - cumulative_sales_amt\n",
    "    AS change_in_sales\n",
    "FROM cumulative_sales\n",
    "WHERE country = 'South Africa'\n",
    "AND date IN ('15-02-2024', '12-02-2024')"
   ]
  },
  {
   "cell_type": "code",
   "execution_count": 149,
   "id": "URTEI_d5njyU",
   "metadata": {
    "colab": {
     "base_uri": "https://localhost:8080/",
     "height": 281
    },
    "executionInfo": {
     "elapsed": 283,
     "status": "ok",
     "timestamp": 1753185129265,
     "user": {
      "displayName": "Benjamin Bennett Alexander",
      "userId": "14614847693800833280"
     },
     "user_tz": -180
    },
    "id": "URTEI_d5njyU",
    "outputId": "b2708d2e-f47f-4224-9d03-bd338f720404"
   },
   "outputs": [
    {
     "name": "stdout",
     "output_type": "stream",
     "text": [
      " * sqlite:///miscellaneous.db\n",
      "Done.\n"
     ]
    },
    {
     "data": {
      "text/html": [
       "<table>\n",
       "    <thead>\n",
       "        <tr>\n",
       "            <th>sales_person</th>\n",
       "            <th>sales_amount</th>\n",
       "            <th>first_sales</th>\n",
       "            <th>last_sales</th>\n",
       "        </tr>\n",
       "    </thead>\n",
       "    <tbody>\n",
       "        <tr>\n",
       "            <td>Afet</td>\n",
       "            <td>2500.0</td>\n",
       "            <td>2500.0</td>\n",
       "            <td>2500.0</td>\n",
       "        </tr>\n",
       "        <tr>\n",
       "            <td>Assat</td>\n",
       "            <td>900.0</td>\n",
       "            <td>900.0</td>\n",
       "            <td>900.0</td>\n",
       "        </tr>\n",
       "        <tr>\n",
       "            <td>Avon</td>\n",
       "            <td>1500.0</td>\n",
       "            <td>1500.0</td>\n",
       "            <td>1500.0</td>\n",
       "        </tr>\n",
       "        <tr>\n",
       "            <td>Charlie</td>\n",
       "            <td>1800.0</td>\n",
       "            <td>1800.0</td>\n",
       "            <td>1800.0</td>\n",
       "        </tr>\n",
       "        <tr>\n",
       "            <td>John</td>\n",
       "            <td>1100.0</td>\n",
       "            <td>1100.0</td>\n",
       "            <td>1100.0</td>\n",
       "        </tr>\n",
       "        <tr>\n",
       "            <td>Ken</td>\n",
       "            <td>2500.0</td>\n",
       "            <td>2500.0</td>\n",
       "            <td>2500.0</td>\n",
       "        </tr>\n",
       "        <tr>\n",
       "            <td>Luke</td>\n",
       "            <td>1200.0</td>\n",
       "            <td>1200.0</td>\n",
       "            <td>1200.0</td>\n",
       "        </tr>\n",
       "        <tr>\n",
       "            <td>Matt</td>\n",
       "            <td>1600.0</td>\n",
       "            <td>1600.0</td>\n",
       "            <td>1600.0</td>\n",
       "        </tr>\n",
       "        <tr>\n",
       "            <td>Moses</td>\n",
       "            <td>800.0</td>\n",
       "            <td>800.0</td>\n",
       "            <td>800.0</td>\n",
       "        </tr>\n",
       "        <tr>\n",
       "            <td>Peter</td>\n",
       "            <td>1200.0</td>\n",
       "            <td>1200.0</td>\n",
       "            <td>1200.0</td>\n",
       "        </tr>\n",
       "    </tbody>\n",
       "</table>"
      ],
      "text/plain": [
       "[('Afet', 2500.0, 2500.0, 2500.0),\n",
       " ('Assat', 900.0, 900.0, 900.0),\n",
       " ('Avon', 1500.0, 1500.0, 1500.0),\n",
       " ('Charlie', 1800.0, 1800.0, 1800.0),\n",
       " ('John', 1100.0, 1100.0, 1100.0),\n",
       " ('Ken', 2500.0, 2500.0, 2500.0),\n",
       " ('Luke', 1200.0, 1200.0, 1200.0),\n",
       " ('Matt', 1600.0, 1600.0, 1600.0),\n",
       " ('Moses', 800.0, 800.0, 800.0),\n",
       " ('Peter', 1200.0, 1200.0, 1200.0)]"
      ]
     },
     "execution_count": 149,
     "metadata": {},
     "output_type": "execute_result"
    }
   ],
   "source": [
    "%%sql\n",
    "SELECT\n",
    "    sales_person,\n",
    "    sales_amount,\n",
    "    -- Get the first sales_amount for each sales person\n",
    "    FIRST_VALUE(sales_amount) OVER (PARTITION BY sales_person ORDER BY date ASC)\n",
    "    AS first_sales,\n",
    "    -- Get the last sales_amount for each sales person\n",
    "    LAST_VALUE(sales_amount) OVER (PARTITION BY sales_person ORDER BY date ASC\n",
    "    ROWS BETWEEN UNBOUNDED PRECEDING AND UNBOUNDED FOLLOWING) AS last_sales\n",
    "FROM inter_sales;"
   ]
  },
  {
   "cell_type": "code",
   "execution_count": 151,
   "id": "q97TIyqF_Mz5",
   "metadata": {
    "colab": {
     "base_uri": "https://localhost:8080/",
     "height": 115
    },
    "executionInfo": {
     "elapsed": 261,
     "status": "ok",
     "timestamp": 1753185207385,
     "user": {
      "displayName": "Benjamin Bennett Alexander",
      "userId": "14614847693800833280"
     },
     "user_tz": -180
    },
    "id": "q97TIyqF_Mz5",
    "outputId": "2de0a38a-76ec-49fe-d5c0-ff2ca1821c87"
   },
   "outputs": [
    {
     "name": "stdout",
     "output_type": "stream",
     "text": [
      " * sqlite:///miscellaneous.db\n",
      "Done.\n"
     ]
    },
    {
     "data": {
      "text/html": [
       "<table>\n",
       "    <thead>\n",
       "        <tr>\n",
       "            <th>country</th>\n",
       "            <th>least_sales_amount</th>\n",
       "            <th>largest_sales_amount</th>\n",
       "        </tr>\n",
       "    </thead>\n",
       "    <tbody>\n",
       "        <tr>\n",
       "            <td>South Africa</td>\n",
       "            <td>1100.0</td>\n",
       "            <td>1600.0</td>\n",
       "        </tr>\n",
       "        <tr>\n",
       "            <td>Turkey</td>\n",
       "            <td>800.0</td>\n",
       "            <td>2500.0</td>\n",
       "        </tr>\n",
       "    </tbody>\n",
       "</table>"
      ],
      "text/plain": [
       "[('South Africa', 1100.0, 1600.0), ('Turkey', 800.0, 2500.0)]"
      ]
     },
     "execution_count": 151,
     "metadata": {},
     "output_type": "execute_result"
    }
   ],
   "source": [
    "%%sql\n",
    "WITH get_last_first_rows AS (\n",
    "    SELECT\n",
    "        date,\n",
    "        country,\n",
    "        sales_amount,\n",
    "          -- Retrieve the least sales amount for each country\n",
    "        FIRST_VALUE(sales_amount) OVER (PARTITION BY country\n",
    "        ORDER BY sales_amount ASC)\n",
    "        AS least_sales_amount,\n",
    "        -- Retrieve the largest sales amount for each country\n",
    "        LAST_VALUE(sales_amount) OVER (PARTITION BY country\n",
    "        ORDER BY sales_amount ASC ROWS BETWEEN UNBOUNDED\n",
    "        PRECEDING AND UNBOUNDED FOLLOWING)\n",
    "        AS largest_sales_amount\n",
    "    FROM inter_sales\n",
    ")\n",
    "-- Main query\n",
    "SELECT\n",
    "    country,\n",
    "    least_sales_amount,\n",
    "    largest_sales_amount\n",
    "FROM get_last_first_rows\n",
    "WHERE country IN ('South Africa', 'Turkey')\n",
    "GROUP BY country, least_sales_amount, largest_sales_amount;"
   ]
  },
  {
   "cell_type": "code",
   "execution_count": null,
   "id": "2o8l2knB2H2c",
   "metadata": {
    "executionInfo": {
     "elapsed": 548,
     "status": "ok",
     "timestamp": 1753185738637,
     "user": {
      "displayName": "Benjamin Bennett Alexander",
      "userId": "14614847693800833280"
     },
     "user_tz": -180
    },
    "id": "2o8l2knB2H2c"
   },
   "outputs": [],
   "source": [
    "import pandas as pd\n",
    "import matplotlib.pyplot as plt\n",
    "\n",
    "def add_data_to_database(data):\n",
    "    try:\n",
    "        df = pd.read_csv(data, encoding='unicode_escape')\n",
    "        # Connecting to database\n",
    "        engine = sqlite3.connect(\"miscellaneous.db\")\n",
    "        df.to_sql(\"coffee_sales\", con=engine, index = False)\n",
    "    except (sqlite3.Error, ValueError) as e:\n",
    "            print(f\"Error: {e}\")\n",
    "\n",
    "# Loading CSV file\n",
    "data = \"/content/coffee_sales.csv\"\n",
    "add_data_to_database(data)"
   ]
  },
  {
   "cell_type": "code",
   "execution_count": 153,
   "id": "lB6u623V2Q0E",
   "metadata": {
    "colab": {
     "base_uri": "https://localhost:8080/",
     "height": 177
    },
    "executionInfo": {
     "elapsed": 301,
     "status": "ok",
     "timestamp": 1753185744217,
     "user": {
      "displayName": "Benjamin Bennett Alexander",
      "userId": "14614847693800833280"
     },
     "user_tz": -180
    },
    "id": "lB6u623V2Q0E",
    "outputId": "46450e63-8dc8-454b-e126-213da47bd00a"
   },
   "outputs": [
    {
     "name": "stdout",
     "output_type": "stream",
     "text": [
      " * sqlite:///miscellaneous.db\n",
      "Done.\n"
     ]
    },
    {
     "data": {
      "text/html": [
       "<table>\n",
       "    <thead>\n",
       "        <tr>\n",
       "            <th>date</th>\n",
       "            <th>datetime</th>\n",
       "            <th>cash_type</th>\n",
       "            <th>card</th>\n",
       "            <th>money</th>\n",
       "            <th>coffee_name</th>\n",
       "        </tr>\n",
       "    </thead>\n",
       "    <tbody>\n",
       "        <tr>\n",
       "            <td>1 03 2024</td>\n",
       "            <td>2024-03-01 10:15:50.520</td>\n",
       "            <td>card</td>\n",
       "            <td>ANON-0000-0000-0001</td>\n",
       "            <td>38.7</td>\n",
       "            <td>Latte</td>\n",
       "        </tr>\n",
       "        <tr>\n",
       "            <td>1 03 2024</td>\n",
       "            <td>2024-03-01 12:19:22.539</td>\n",
       "            <td>card</td>\n",
       "            <td>ANON-0000-0000-0002</td>\n",
       "            <td>38.7</td>\n",
       "            <td>Hot Chocolate</td>\n",
       "        </tr>\n",
       "        <tr>\n",
       "            <td>1 03 2024</td>\n",
       "            <td>2024-03-01 12:20:18.089</td>\n",
       "            <td>card</td>\n",
       "            <td>ANON-0000-0000-0002</td>\n",
       "            <td>38.7</td>\n",
       "            <td>Hot Chocolate</td>\n",
       "        </tr>\n",
       "        <tr>\n",
       "            <td>1 03 2024</td>\n",
       "            <td>2024-03-01 13:46:33.006</td>\n",
       "            <td>card</td>\n",
       "            <td>ANON-0000-0000-0003</td>\n",
       "            <td>28.9</td>\n",
       "            <td>Americano</td>\n",
       "        </tr>\n",
       "        <tr>\n",
       "            <td>1 03 2024</td>\n",
       "            <td>2024-03-01 13:48:14.626</td>\n",
       "            <td>card</td>\n",
       "            <td>ANON-0000-0000-0004</td>\n",
       "            <td>38.7</td>\n",
       "            <td>Latte</td>\n",
       "        </tr>\n",
       "    </tbody>\n",
       "</table>"
      ],
      "text/plain": [
       "[('1 03 2024', '2024-03-01 10:15:50.520', 'card', 'ANON-0000-0000-0001', 38.7, 'Latte'),\n",
       " ('1 03 2024', '2024-03-01 12:19:22.539', 'card', 'ANON-0000-0000-0002', 38.7, 'Hot Chocolate'),\n",
       " ('1 03 2024', '2024-03-01 12:20:18.089', 'card', 'ANON-0000-0000-0002', 38.7, 'Hot Chocolate'),\n",
       " ('1 03 2024', '2024-03-01 13:46:33.006', 'card', 'ANON-0000-0000-0003', 28.9, 'Americano'),\n",
       " ('1 03 2024', '2024-03-01 13:48:14.626', 'card', 'ANON-0000-0000-0004', 38.7, 'Latte')]"
      ]
     },
     "execution_count": 153,
     "metadata": {},
     "output_type": "execute_result"
    }
   ],
   "source": [
    "%%sql\n",
    "SELECT * FROM coffee_sales\n",
    "LIMIT 5;"
   ]
  },
  {
   "cell_type": "code",
   "execution_count": 154,
   "id": "3lsuvAXm2Zei",
   "metadata": {
    "colab": {
     "base_uri": "https://localhost:8080/",
     "height": 239
    },
    "executionInfo": {
     "elapsed": 324,
     "status": "ok",
     "timestamp": 1753185763363,
     "user": {
      "displayName": "Benjamin Bennett Alexander",
      "userId": "14614847693800833280"
     },
     "user_tz": -180
    },
    "id": "3lsuvAXm2Zei",
    "outputId": "4ab25e01-e582-4e47-8404-572db642660a"
   },
   "outputs": [
    {
     "name": "stdout",
     "output_type": "stream",
     "text": [
      " * sqlite:///miscellaneous.db\n",
      "Done.\n"
     ]
    },
    {
     "data": {
      "text/html": [
       "<table>\n",
       "    <thead>\n",
       "        <tr>\n",
       "            <th>coffee_name</th>\n",
       "            <th>total_sales</th>\n",
       "        </tr>\n",
       "    </thead>\n",
       "    <tbody>\n",
       "        <tr>\n",
       "            <td>Latte</td>\n",
       "            <td>11405.0</td>\n",
       "        </tr>\n",
       "        <tr>\n",
       "            <td>Americano with Milk</td>\n",
       "            <td>11198.5</td>\n",
       "        </tr>\n",
       "        <tr>\n",
       "            <td>Cappuccino</td>\n",
       "            <td>8744.4</td>\n",
       "        </tr>\n",
       "        <tr>\n",
       "            <td>Americano</td>\n",
       "            <td>5657.42</td>\n",
       "        </tr>\n",
       "        <tr>\n",
       "            <td>Cortado</td>\n",
       "            <td>3711.92</td>\n",
       "        </tr>\n",
       "        <tr>\n",
       "            <td>Hot Chocolate</td>\n",
       "            <td>2975.4</td>\n",
       "        </tr>\n",
       "        <tr>\n",
       "            <td>Cocoa</td>\n",
       "            <td>1821.06</td>\n",
       "        </tr>\n",
       "        <tr>\n",
       "            <td>Espresso</td>\n",
       "            <td>1354.3</td>\n",
       "        </tr>\n",
       "    </tbody>\n",
       "</table>"
      ],
      "text/plain": [
       "[('Latte', 11405.0),\n",
       " ('Americano with Milk', 11198.5),\n",
       " ('Cappuccino', 8744.4),\n",
       " ('Americano', 5657.42),\n",
       " ('Cortado', 3711.92),\n",
       " ('Hot Chocolate', 2975.4),\n",
       " ('Cocoa', 1821.06),\n",
       " ('Espresso', 1354.3)]"
      ]
     },
     "execution_count": 154,
     "metadata": {},
     "output_type": "execute_result"
    }
   ],
   "source": [
    "%%sql\n",
    "SELECT\n",
    "    coffee_name,\n",
    "    ROUND(SUM(money), 2) AS total_sales\n",
    "FROM coffee_sales\n",
    "GROUP BY coffee_name\n",
    "ORDER BY total_sales DESC;"
   ]
  },
  {
   "cell_type": "code",
   "execution_count": 155,
   "id": "XL9Nr0yo2eFD",
   "metadata": {
    "colab": {
     "base_uri": "https://localhost:8080/",
     "height": 699
    },
    "executionInfo": {
     "elapsed": 706,
     "status": "ok",
     "timestamp": 1753185768037,
     "user": {
      "displayName": "Benjamin Bennett Alexander",
      "userId": "14614847693800833280"
     },
     "user_tz": -180
    },
    "id": "XL9Nr0yo2eFD",
    "outputId": "cf406fd1-e3b3-409a-d051-d19f0a2513f7"
   },
   "outputs": [
    {
     "data": {
      "image/png": "[encoded data removed]",
      "text/plain": [
       "<Figure size 1000x600 with 1 Axes>"
      ]
     },
     "metadata": {},
     "output_type": "display_data"
    }
   ],
   "source": [
    "query = \"\"\"\n",
    "\n",
    "SELECT coffee_name, SUM(money) AS total_sales\n",
    "FROM coffee_sales\n",
    "GROUP BY coffee_name\n",
    "ORDER BY total_sales DESC;\n",
    "\n",
    "\"\"\"\n",
    "# Establishing connection to database\n",
    "conn = sqlite3.connect('miscellaneous.db')\n",
    "\n",
    "# Load result into a DataFrame\n",
    "df_sales = pd.read_sql_query(query, conn)\n",
    "\n",
    "# Bar chart for sales by coffee type\n",
    "plt.figure(figsize=(10,6))\n",
    "plt.bar(df_sales['coffee_name'],\n",
    "        df_sales['total_sales'])\n",
    "\n",
    "plt.title('Total Sales Per Coffee', fontsize = 20)\n",
    "plt.xlabel('Coffee Name')\n",
    "plt.ylabel('Total Sales')\n",
    "plt.xticks(rotation=90)\n",
    "plt.show()"
   ]
  },
  {
   "cell_type": "code",
   "execution_count": 156,
   "id": "Ao8K1nXG2mZh",
   "metadata": {
    "colab": {
     "base_uri": "https://localhost:8080/",
     "height": 177
    },
    "executionInfo": {
     "elapsed": 281,
     "status": "ok",
     "timestamp": 1753185780707,
     "user": {
      "displayName": "Benjamin Bennett Alexander",
      "userId": "14614847693800833280"
     },
     "user_tz": -180
    },
    "id": "Ao8K1nXG2mZh",
    "outputId": "7fce8547-f420-4359-ca9a-84b086b481c4"
   },
   "outputs": [
    {
     "name": "stdout",
     "output_type": "stream",
     "text": [
      " * sqlite:///miscellaneous.db\n",
      "Done.\n"
     ]
    },
    {
     "data": {
      "text/html": [
       "<table>\n",
       "    <thead>\n",
       "        <tr>\n",
       "            <th>coffee_name</th>\n",
       "            <th>date</th>\n",
       "            <th>total_sales</th>\n",
       "        </tr>\n",
       "    </thead>\n",
       "    <tbody>\n",
       "        <tr>\n",
       "            <td>Hot Chocolate                 </td>\n",
       "            <td>1 03 2024</td>\n",
       "            <td>&nbsp;&nbsp;&nbsp;&nbsp;&nbsp;116.1</td>\n",
       "        </tr>\n",
       "        <tr>\n",
       "            <td>Hot Chocolate                 </td>\n",
       "            <td>1 04 2024</td>\n",
       "            <td>&nbsp;&nbsp;&nbsp;&nbsp;&nbsp;&nbsp;38.7</td>\n",
       "        </tr>\n",
       "        <tr>\n",
       "            <td>Hot Chocolate                 </td>\n",
       "            <td>10 04 2024</td>\n",
       "            <td>&nbsp;&nbsp;&nbsp;&nbsp;&nbsp;&nbsp;40.0</td>\n",
       "        </tr>\n",
       "        <tr>\n",
       "            <td>Hot Chocolate                 </td>\n",
       "            <td>10 06 2024</td>\n",
       "            <td>&nbsp;&nbsp;&nbsp;&nbsp;&nbsp;75.44</td>\n",
       "        </tr>\n",
       "        <tr>\n",
       "            <td>Hot Chocolate                 </td>\n",
       "            <td>11 06 2024</td>\n",
       "            <td>&nbsp;&nbsp;&nbsp;&nbsp;&nbsp;37.72</td>\n",
       "        </tr>\n",
       "    </tbody>\n",
       "</table>"
      ],
      "text/plain": [
       "[('Hot Chocolate                 ', '1 03 2024', '     116.1'),\n",
       " ('Hot Chocolate                 ', '1 04 2024', '      38.7'),\n",
       " ('Hot Chocolate                 ', '10 04 2024', '      40.0'),\n",
       " ('Hot Chocolate                 ', '10 06 2024', '     75.44'),\n",
       " ('Hot Chocolate                 ', '11 06 2024', '     37.72')]"
      ]
     },
     "execution_count": 156,
     "metadata": {},
     "output_type": "execute_result"
    }
   ],
   "source": [
    "%%sql\n",
    "SELECT printf(\"%-30s\", coffee_name) AS coffee_name,\n",
    "       date,\n",
    "       printf(\"%10s\", SUM(money)) AS total_sales\n",
    "FROM coffee_sales\n",
    "WHERE coffee_name = 'Hot Chocolate'\n",
    "GROUP BY date\n",
    "ORDER BY date\n",
    "LIMIT 5;"
   ]
  },
  {
   "cell_type": "code",
   "execution_count": 116,
   "id": "ScJSR2OWewi3",
   "metadata": {
    "colab": {
     "base_uri": "https://localhost:8080/",
     "height": 177
    },
    "executionInfo": {
     "elapsed": 31,
     "status": "ok",
     "timestamp": 1753116564051,
     "user": {
      "displayName": "Benjamin Bennett Alexander",
      "userId": "14614847693800833280"
     },
     "user_tz": -180
    },
    "id": "ScJSR2OWewi3",
    "outputId": "4ee68a12-a318-44b5-9b17-9f693aee7273"
   },
   "outputs": [
    {
     "name": "stdout",
     "output_type": "stream",
     "text": [
      " * sqlite:///miscellaneous.db\n",
      "Done.\n"
     ]
    },
    {
     "data": {
      "text/html": [
       "<table>\n",
       "    <thead>\n",
       "        <tr>\n",
       "            <th>coffee_name</th>\n",
       "            <th>date</th>\n",
       "            <th>total_sales</th>\n",
       "        </tr>\n",
       "    </thead>\n",
       "    <tbody>\n",
       "        <tr>\n",
       "            <td>Hot Chocolate                 </td>\n",
       "            <td>1 03 2024</td>\n",
       "            <td>&nbsp;&nbsp;&nbsp;&nbsp;116.10</td>\n",
       "        </tr>\n",
       "        <tr>\n",
       "            <td>Hot Chocolate                 </td>\n",
       "            <td>1 04 2024</td>\n",
       "            <td>&nbsp;&nbsp;&nbsp;&nbsp;&nbsp;38.70</td>\n",
       "        </tr>\n",
       "        <tr>\n",
       "            <td>Hot Chocolate                 </td>\n",
       "            <td>10 04 2024</td>\n",
       "            <td>&nbsp;&nbsp;&nbsp;&nbsp;&nbsp;40.00</td>\n",
       "        </tr>\n",
       "        <tr>\n",
       "            <td>Hot Chocolate                 </td>\n",
       "            <td>10 06 2024</td>\n",
       "            <td>&nbsp;&nbsp;&nbsp;&nbsp;&nbsp;75.44</td>\n",
       "        </tr>\n",
       "        <tr>\n",
       "            <td>Hot Chocolate                 </td>\n",
       "            <td>11 06 2024</td>\n",
       "            <td>&nbsp;&nbsp;&nbsp;&nbsp;&nbsp;37.72</td>\n",
       "        </tr>\n",
       "    </tbody>\n",
       "</table>"
      ],
      "text/plain": [
       "[('Hot Chocolate                 ', '1 03 2024', '    116.10'),\n",
       " ('Hot Chocolate                 ', '1 04 2024', '     38.70'),\n",
       " ('Hot Chocolate                 ', '10 04 2024', '     40.00'),\n",
       " ('Hot Chocolate                 ', '10 06 2024', '     75.44'),\n",
       " ('Hot Chocolate                 ', '11 06 2024', '     37.72')]"
      ]
     },
     "execution_count": 116,
     "metadata": {},
     "output_type": "execute_result"
    }
   ],
   "source": [
    "%%sql\n",
    "SELECT\n",
    "  printf(\"%-30s\", coffee_name) AS coffee_name,\n",
    "  date,\n",
    "  printf(\"%10.2f\", SUM(money)) AS total_sales\n",
    "FROM coffee_sales\n",
    "WHERE coffee_name = 'Hot Chocolate'\n",
    "GROUP BY date\n",
    "ORDER BY date\n",
    "LIMIT 5;\n"
   ]
  },
  {
   "cell_type": "code",
   "execution_count": 157,
   "id": "8AFT5VJ8KA6N",
   "metadata": {
    "colab": {
     "base_uri": "https://localhost:8080/",
     "height": 637
    },
    "executionInfo": {
     "elapsed": 480,
     "status": "ok",
     "timestamp": 1753185794097,
     "user": {
      "displayName": "Benjamin Bennett Alexander",
      "userId": "14614847693800833280"
     },
     "user_tz": -180
    },
    "id": "8AFT5VJ8KA6N",
    "outputId": "cddd3609-c7a0-43c6-eda1-f0fa17b11580"
   },
   "outputs": [
    {
     "data": {
      "image/png": "[encoded data removed]",
      "text/plain": [
       "<Figure size 1000x600 with 1 Axes>"
      ]
     },
     "metadata": {},
     "output_type": "display_data"
    }
   ],
   "source": [
    "query = '''\n",
    "\n",
    "SELECT coffee_name, date, SUM(money) AS total_sales\n",
    "FROM coffee_sales\n",
    "WHERE coffee_name = 'Hot Chocolate'\n",
    "GROUP BY date\n",
    "ORDER BY date;\n",
    "\n",
    "'''\n",
    "# Loading result into a DataFrame\n",
    "df_sales = pd.read_sql(query, conn)\n",
    "\n",
    "plt.figure(figsize=(10, 6))\n",
    "plt.plot(df_sales['date'], df_sales['total_sales'], marker='o')\n",
    "plt.title('Hot Chocolate Sales Over Time', fontsize=20)\n",
    "plt.xlabel('Date')\n",
    "plt.ylabel('Total Sales')\n",
    "plt.xticks(range(0, len(df_sales['date']), 4),rotation=90)\n",
    "plt.show()"
   ]
  },
  {
   "cell_type": "code",
   "execution_count": 158,
   "id": "qV_ztPxnU3q8",
   "metadata": {
    "colab": {
     "base_uri": "https://localhost:8080/",
     "height": 177
    },
    "executionInfo": {
     "elapsed": 276,
     "status": "ok",
     "timestamp": 1753185808384,
     "user": {
      "displayName": "Benjamin Bennett Alexander",
      "userId": "14614847693800833280"
     },
     "user_tz": -180
    },
    "id": "qV_ztPxnU3q8",
    "outputId": "5023ae31-7ad8-4b22-dc98-20f5785df5e0"
   },
   "outputs": [
    {
     "name": "stdout",
     "output_type": "stream",
     "text": [
      " * sqlite:///miscellaneous.db\n",
      "Done.\n"
     ]
    },
    {
     "data": {
      "text/html": [
       "<table>\n",
       "    <thead>\n",
       "        <tr>\n",
       "            <th>number</th>\n",
       "        </tr>\n",
       "    </thead>\n",
       "    <tbody>\n",
       "        <tr>\n",
       "            <td>5</td>\n",
       "        </tr>\n",
       "        <tr>\n",
       "            <td>4</td>\n",
       "        </tr>\n",
       "        <tr>\n",
       "            <td>3</td>\n",
       "        </tr>\n",
       "        <tr>\n",
       "            <td>2</td>\n",
       "        </tr>\n",
       "        <tr>\n",
       "            <td>1</td>\n",
       "        </tr>\n",
       "    </tbody>\n",
       "</table>"
      ],
      "text/plain": [
       "[(5,), (4,), (3,), (2,), (1,)]"
      ]
     },
     "execution_count": 158,
     "metadata": {},
     "output_type": "execute_result"
    }
   ],
   "source": [
    "%%sql\n",
    "WITH RECURSIVE count_down AS (\n",
    "    -- Base case: Start at 5\n",
    "    SELECT 5 AS number\n",
    "\n",
    "    UNION ALL -- Combining base case with recursive case\n",
    "\n",
    "    -- Recursive case: Subtract 1 each time\n",
    "    SELECT number - 1 FROM count_down\n",
    "    WHERE number > 1  -- Stop when we reach 1\n",
    ")\n",
    "SELECT * FROM count_down;"
   ]
  },
  {
   "cell_type": "code",
   "execution_count": 159,
   "id": "Uwvvi_dl-XLV",
   "metadata": {
    "executionInfo": {
     "elapsed": 256,
     "status": "ok",
     "timestamp": 1753185817924,
     "user": {
      "displayName": "Benjamin Bennett Alexander",
      "userId": "14614847693800833280"
     },
     "user_tz": -180
    },
    "id": "Uwvvi_dl-XLV"
   },
   "outputs": [],
   "source": [
    "def add_data_to_database():\n",
    "    try:\n",
    "        conn = sqlite3.connect('miscellaneous.db')\n",
    "        cursor = conn.cursor()\n",
    "        # Create the sales table\n",
    "        cursor.execute('''\n",
    "        CREATE TABLE IF NOT EXISTS accessories (\n",
    "            id INTEGER PRIMARY KEY,\n",
    "            category_name TEXT,\n",
    "            parent_id\n",
    "        )\n",
    "        ''')\n",
    "        # Insert data into table\n",
    "        data = [\n",
    "            (1, 'Electronics', None),\n",
    "            (2, 'Computers', 1),\n",
    "            (3, 'Laptops', 2),\n",
    "            (4, 'Desktops', 2),\n",
    "            (5, 'Mobile Phones', 1),\n",
    "            (6, 'Accessories', 5),\n",
    "            (7, 'Cases', 6),\n",
    "            (8, 'Headphones', 6)\n",
    "        ]\n",
    "        cursor.executemany(\n",
    "            '''\n",
    "            INSERT INTO accessories (id, category_name, parent_id) VALUES (?, ?, ?)\n",
    "            ''', data\n",
    "        )\n",
    "        # Commit the changes\n",
    "        conn.commit()\n",
    "    except Exception as e:\n",
    "        print(e)\n",
    "    finally:\n",
    "        conn.close()\n",
    "# Calling function\n",
    "add_data_to_database()"
   ]
  },
  {
   "cell_type": "code",
   "execution_count": 120,
   "id": "cFaDqPOkEHFh",
   "metadata": {
    "colab": {
     "base_uri": "https://localhost:8080/",
     "height": 239
    },
    "executionInfo": {
     "elapsed": 177,
     "status": "ok",
     "timestamp": 1753116564601,
     "user": {
      "displayName": "Benjamin Bennett Alexander",
      "userId": "14614847693800833280"
     },
     "user_tz": -180
    },
    "id": "cFaDqPOkEHFh",
    "outputId": "a40f9d0e-a17f-428a-8efe-f9a80e08a514"
   },
   "outputs": [
    {
     "name": "stdout",
     "output_type": "stream",
     "text": [
      " * sqlite:///miscellaneous.db\n",
      "Done.\n"
     ]
    },
    {
     "data": {
      "text/html": [
       "<table>\n",
       "    <thead>\n",
       "        <tr>\n",
       "            <th>id</th>\n",
       "            <th>category_name</th>\n",
       "            <th>parent_id</th>\n",
       "        </tr>\n",
       "    </thead>\n",
       "    <tbody>\n",
       "        <tr>\n",
       "            <td>1</td>\n",
       "            <td>Electronics</td>\n",
       "            <td>None</td>\n",
       "        </tr>\n",
       "        <tr>\n",
       "            <td>2</td>\n",
       "            <td>Computers</td>\n",
       "            <td>1</td>\n",
       "        </tr>\n",
       "        <tr>\n",
       "            <td>3</td>\n",
       "            <td>Laptops</td>\n",
       "            <td>2</td>\n",
       "        </tr>\n",
       "        <tr>\n",
       "            <td>4</td>\n",
       "            <td>Desktops</td>\n",
       "            <td>2</td>\n",
       "        </tr>\n",
       "        <tr>\n",
       "            <td>5</td>\n",
       "            <td>Mobile Phones</td>\n",
       "            <td>1</td>\n",
       "        </tr>\n",
       "        <tr>\n",
       "            <td>6</td>\n",
       "            <td>Accessories</td>\n",
       "            <td>5</td>\n",
       "        </tr>\n",
       "        <tr>\n",
       "            <td>7</td>\n",
       "            <td>Cases</td>\n",
       "            <td>6</td>\n",
       "        </tr>\n",
       "        <tr>\n",
       "            <td>8</td>\n",
       "            <td>Headphones</td>\n",
       "            <td>6</td>\n",
       "        </tr>\n",
       "    </tbody>\n",
       "</table>"
      ],
      "text/plain": [
       "[(1, 'Electronics', None),\n",
       " (2, 'Computers', 1),\n",
       " (3, 'Laptops', 2),\n",
       " (4, 'Desktops', 2),\n",
       " (5, 'Mobile Phones', 1),\n",
       " (6, 'Accessories', 5),\n",
       " (7, 'Cases', 6),\n",
       " (8, 'Headphones', 6)]"
      ]
     },
     "execution_count": 120,
     "metadata": {},
     "output_type": "execute_result"
    }
   ],
   "source": [
    "%%sql\n",
    "SELECT * FROM accessories;"
   ]
  },
  {
   "cell_type": "code",
   "execution_count": 160,
   "id": "golzraBEt2Sp",
   "metadata": {
    "colab": {
     "base_uri": "https://localhost:8080/",
     "height": 239
    },
    "executionInfo": {
     "elapsed": 264,
     "status": "ok",
     "timestamp": 1753185825366,
     "user": {
      "displayName": "Benjamin Bennett Alexander",
      "userId": "14614847693800833280"
     },
     "user_tz": -180
    },
    "id": "golzraBEt2Sp",
    "outputId": "64a8abb4-e21c-4030-92ef-1c3602f650cd"
   },
   "outputs": [
    {
     "name": "stdout",
     "output_type": "stream",
     "text": [
      " * sqlite:///miscellaneous.db\n",
      "Done.\n"
     ]
    },
    {
     "data": {
      "text/html": [
       "<table>\n",
       "    <thead>\n",
       "        <tr>\n",
       "            <th>id</th>\n",
       "            <th>category_name</th>\n",
       "            <th>parent_id</th>\n",
       "            <th>level</th>\n",
       "        </tr>\n",
       "    </thead>\n",
       "    <tbody>\n",
       "        <tr>\n",
       "            <td>1</td>\n",
       "            <td>Electronics</td>\n",
       "            <td>None</td>\n",
       "            <td>1</td>\n",
       "        </tr>\n",
       "        <tr>\n",
       "            <td>2</td>\n",
       "            <td>Computers</td>\n",
       "            <td>1</td>\n",
       "            <td>2</td>\n",
       "        </tr>\n",
       "        <tr>\n",
       "            <td>5</td>\n",
       "            <td>Mobile Phones</td>\n",
       "            <td>1</td>\n",
       "            <td>2</td>\n",
       "        </tr>\n",
       "        <tr>\n",
       "            <td>3</td>\n",
       "            <td>Laptops</td>\n",
       "            <td>2</td>\n",
       "            <td>3</td>\n",
       "        </tr>\n",
       "        <tr>\n",
       "            <td>4</td>\n",
       "            <td>Desktops</td>\n",
       "            <td>2</td>\n",
       "            <td>3</td>\n",
       "        </tr>\n",
       "        <tr>\n",
       "            <td>6</td>\n",
       "            <td>Accessories</td>\n",
       "            <td>5</td>\n",
       "            <td>3</td>\n",
       "        </tr>\n",
       "        <tr>\n",
       "            <td>7</td>\n",
       "            <td>Cases</td>\n",
       "            <td>6</td>\n",
       "            <td>4</td>\n",
       "        </tr>\n",
       "        <tr>\n",
       "            <td>8</td>\n",
       "            <td>Headphones</td>\n",
       "            <td>6</td>\n",
       "            <td>4</td>\n",
       "        </tr>\n",
       "    </tbody>\n",
       "</table>"
      ],
      "text/plain": [
       "[(1, 'Electronics', None, 1),\n",
       " (2, 'Computers', 1, 2),\n",
       " (5, 'Mobile Phones', 1, 2),\n",
       " (3, 'Laptops', 2, 3),\n",
       " (4, 'Desktops', 2, 3),\n",
       " (6, 'Accessories', 5, 3),\n",
       " (7, 'Cases', 6, 4),\n",
       " (8, 'Headphones', 6, 4)]"
      ]
     },
     "execution_count": 160,
     "metadata": {},
     "output_type": "execute_result"
    }
   ],
   "source": [
    "%%sql\n",
    "WITH RECURSIVE product_hierarchy AS (\n",
    "    -- Base Case: Start with root categories (parent_id = NULL)\n",
    "    SELECT\n",
    "        id,\n",
    "        category_name,\n",
    "        parent_id,\n",
    "        1 AS level\n",
    "    FROM accessories\n",
    "    WHERE parent_id IS NULL\n",
    "\n",
    "    UNION ALL\n",
    "\n",
    "    -- Recursive Case: Find child categories\n",
    "    SELECT\n",
    "        c.id,\n",
    "        c.category_name,\n",
    "        c.parent_id,\n",
    "        ph.level + 1 AS level\n",
    "    FROM accessories c\n",
    "    INNER JOIN product_hierarchy ph\n",
    "        ON c.parent_id = ph.id\n",
    ")\n",
    "SELECT * FROM product_hierarchy ORDER BY level, id;"
   ]
  },
  {
   "cell_type": "code",
   "execution_count": 161,
   "id": "U_cTGbCl5JYA",
   "metadata": {
    "executionInfo": {
     "elapsed": 253,
     "status": "ok",
     "timestamp": 1753188906614,
     "user": {
      "displayName": "Benjamin Bennett Alexander",
      "userId": "14614847693800833280"
     },
     "user_tz": -180
    },
    "id": "U_cTGbCl5JYA"
   },
   "outputs": [],
   "source": [
    "def add_data_to_dabase():\n",
    "    try:\n",
    "        conn = sqlite3.connect('miscellaneous.db')\n",
    "        cursor = conn.cursor()\n",
    "        # Create the sales table\n",
    "        cursor.execute('''\n",
    "        CREATE TABLE IF NOT EXISTS work_records (\n",
    "            id INTEGER PRIMARY KEY,\n",
    "            first_name TEXT,\n",
    "            days_worked INTEGER,\n",
    "            earnings INTEGER,\n",
    "            team_id INTEGER\n",
    "        )\n",
    "        ''')\n",
    "        # Insert data into the work_records table\n",
    "        data = [\n",
    "            (1, 'John', 10, 2000, 101),\n",
    "            (2, 'Mary', 15, 2500, 102),\n",
    "            (3, 'Alice', 20, 3000, 103),\n",
    "            (4, 'Alice', 18, 1700, 103),\n",
    "            (5, 'Mary', 26, 4000, 102),\n",
    "            (6, 'John', 17, 2600, 101)\n",
    "        ]\n",
    "        cursor.executemany(\n",
    "            '''\n",
    "            INSERT INTO work_records (id, first_name, days_worked, earnings, team_id)\n",
    "            VALUES (?, ?, ?, ?, ?)\n",
    "            ''', data\n",
    "        )\n",
    "        # Commit the changes\n",
    "        conn.commit()\n",
    "    except sqlite3.Error as e:\n",
    "        print(e)\n",
    "# Calling function\n",
    "add_data_to_dabase()"
   ]
  },
  {
   "cell_type": "code",
   "execution_count": 162,
   "id": "2_xTwReufoZ_",
   "metadata": {
    "colab": {
     "base_uri": "https://localhost:8080/",
     "height": 198
    },
    "executionInfo": {
     "elapsed": 274,
     "status": "ok",
     "timestamp": 1753188918562,
     "user": {
      "displayName": "Benjamin Bennett Alexander",
      "userId": "14614847693800833280"
     },
     "user_tz": -180
    },
    "id": "2_xTwReufoZ_",
    "outputId": "15e99933-82df-454f-b852-7241a37b4634"
   },
   "outputs": [
    {
     "name": "stdout",
     "output_type": "stream",
     "text": [
      " * sqlite:///miscellaneous.db\n",
      "Done.\n"
     ]
    },
    {
     "data": {
      "text/html": [
       "<table>\n",
       "    <thead>\n",
       "        <tr>\n",
       "            <th>id</th>\n",
       "            <th>first_name</th>\n",
       "            <th>days_worked</th>\n",
       "            <th>earnings</th>\n",
       "            <th>team_id</th>\n",
       "        </tr>\n",
       "    </thead>\n",
       "    <tbody>\n",
       "        <tr>\n",
       "            <td>1</td>\n",
       "            <td>John</td>\n",
       "            <td>10</td>\n",
       "            <td>2000</td>\n",
       "            <td>101</td>\n",
       "        </tr>\n",
       "        <tr>\n",
       "            <td>2</td>\n",
       "            <td>Mary</td>\n",
       "            <td>15</td>\n",
       "            <td>2500</td>\n",
       "            <td>102</td>\n",
       "        </tr>\n",
       "        <tr>\n",
       "            <td>3</td>\n",
       "            <td>Alice</td>\n",
       "            <td>20</td>\n",
       "            <td>3000</td>\n",
       "            <td>103</td>\n",
       "        </tr>\n",
       "        <tr>\n",
       "            <td>4</td>\n",
       "            <td>Alice</td>\n",
       "            <td>18</td>\n",
       "            <td>1700</td>\n",
       "            <td>103</td>\n",
       "        </tr>\n",
       "        <tr>\n",
       "            <td>5</td>\n",
       "            <td>Mary</td>\n",
       "            <td>26</td>\n",
       "            <td>4000</td>\n",
       "            <td>102</td>\n",
       "        </tr>\n",
       "        <tr>\n",
       "            <td>6</td>\n",
       "            <td>John</td>\n",
       "            <td>17</td>\n",
       "            <td>2600</td>\n",
       "            <td>101</td>\n",
       "        </tr>\n",
       "    </tbody>\n",
       "</table>"
      ],
      "text/plain": [
       "[(1, 'John', 10, 2000, 101),\n",
       " (2, 'Mary', 15, 2500, 102),\n",
       " (3, 'Alice', 20, 3000, 103),\n",
       " (4, 'Alice', 18, 1700, 103),\n",
       " (5, 'Mary', 26, 4000, 102),\n",
       " (6, 'John', 17, 2600, 101)]"
      ]
     },
     "execution_count": 162,
     "metadata": {},
     "output_type": "execute_result"
    }
   ],
   "source": [
    "%%sql\n",
    "SELECT * FROM work_records;"
   ]
  },
  {
   "cell_type": "code",
   "execution_count": 163,
   "id": "4_Pv9TVcz8TP",
   "metadata": {
    "colab": {
     "base_uri": "https://localhost:8080/",
     "height": 136
    },
    "executionInfo": {
     "elapsed": 283,
     "status": "ok",
     "timestamp": 1753188927258,
     "user": {
      "displayName": "Benjamin Bennett Alexander",
      "userId": "14614847693800833280"
     },
     "user_tz": -180
    },
    "id": "4_Pv9TVcz8TP",
    "outputId": "34fd9d45-2cbd-461c-89fa-15814245f929"
   },
   "outputs": [
    {
     "name": "stdout",
     "output_type": "stream",
     "text": [
      " * sqlite:///miscellaneous.db\n",
      "Done.\n"
     ]
    },
    {
     "data": {
      "text/html": [
       "<table>\n",
       "    <thead>\n",
       "        <tr>\n",
       "            <th>first_name</th>\n",
       "            <th>total_accumulative</th>\n",
       "            <th>total_accumulative_days</th>\n",
       "        </tr>\n",
       "    </thead>\n",
       "    <tbody>\n",
       "        <tr>\n",
       "            <td>Alice</td>\n",
       "            <td>4700</td>\n",
       "            <td>38</td>\n",
       "        </tr>\n",
       "        <tr>\n",
       "            <td>John</td>\n",
       "            <td>4600</td>\n",
       "            <td>27</td>\n",
       "        </tr>\n",
       "        <tr>\n",
       "            <td>Mary</td>\n",
       "            <td>6500</td>\n",
       "            <td>41</td>\n",
       "        </tr>\n",
       "    </tbody>\n",
       "</table>"
      ],
      "text/plain": [
       "[('Alice', 4700, 38), ('John', 4600, 27), ('Mary', 6500, 41)]"
      ]
     },
     "execution_count": 163,
     "metadata": {},
     "output_type": "execute_result"
    }
   ],
   "source": [
    "%%sql\n",
    "WITH RECURSIVE work_summary AS (\n",
    "    -- Base case: Start with the first occurrence (minimum ID) of each employee\n",
    "    SELECT\n",
    "        id,\n",
    "        first_name,\n",
    "        days_worked AS accumulated_days,\n",
    "        earnings AS accumulated_earnings\n",
    "    FROM work_records\n",
    "    WHERE id IN (SELECT MIN(id) FROM work_records GROUP BY first_name)\n",
    "\n",
    "    UNION ALL -- Combining base case with recursive step\n",
    "\n",
    "    -- Recursive case: Accumulate days worked and earnings for each employee\n",
    "    SELECT\n",
    "        w.id,\n",
    "        w.first_name,\n",
    "        ws.accumulated_days + w.days_worked,\n",
    "        ws.accumulated_earnings + w.earnings\n",
    "    FROM work_records w\n",
    "    JOIN work_summary ws\n",
    "    ON ws.first_name = w.first_name AND w.id > ws.id\n",
    ")\n",
    "SELECT\n",
    "    first_name,\n",
    "    MAX(accumulated_earnings) AS total_accumulative,\n",
    "    MAX(accumulated_days) AS total_accumulative_days\n",
    "FROM work_summary\n",
    "GROUP BY first_name;"
   ]
  },
  {
   "cell_type": "code",
   "execution_count": null,
   "id": "PM_pF1nAQEyG",
   "metadata": {
    "executionInfo": {
     "elapsed": 158203,
     "status": "ok",
     "timestamp": 1753189161871,
     "user": {
      "displayName": "Benjamin Bennett Alexander",
      "userId": "14614847693800833280"
     },
     "user_tz": -180
    },
    "id": "PM_pF1nAQEyG"
   },
   "outputs": [],
   "source": [
    "def add_data_to_database(input_data):\n",
    "    try:\n",
    "        # Creating a DataFrame\n",
    "        df = pd.read_csv(input_data)\n",
    "        # Connecting to database\n",
    "        engine = sqlite3.connect(\"miscellaneous.db\")\n",
    "        df.to_sql(\"transport\", con=engine, index = False)\n",
    "    except (ValueError, sqlite3.Error) as e:\n",
    "            print(f'Error: {e}')\n",
    "\n",
    "# Loading data\n",
    "input_data = \"/content/yellow_tripdata_2016-01.csv\"\n",
    "add_data_to_database(input_data)"
   ]
  },
  {
   "cell_type": "code",
   "execution_count": 165,
   "id": "xyywe01AQ5x-",
   "metadata": {
    "colab": {
     "base_uri": "https://localhost:8080/",
     "height": 467
    },
    "executionInfo": {
     "elapsed": 282,
     "status": "ok",
     "timestamp": 1753189369206,
     "user": {
      "displayName": "Benjamin Bennett Alexander",
      "userId": "14614847693800833280"
     },
     "user_tz": -180
    },
    "id": "xyywe01AQ5x-",
    "outputId": "f8f723cc-76ef-4f72-ab2d-616d7c815d92"
   },
   "outputs": [
    {
     "name": "stdout",
     "output_type": "stream",
     "text": [
      " * sqlite:///miscellaneous.db\n",
      "Done.\n"
     ]
    },
    {
     "data": {
      "text/html": [
       "<table>\n",
       "    <thead>\n",
       "        <tr>\n",
       "            <th>cid</th>\n",
       "            <th>name</th>\n",
       "            <th>type</th>\n",
       "            <th>notnull</th>\n",
       "            <th>dflt_value</th>\n",
       "            <th>pk</th>\n",
       "        </tr>\n",
       "    </thead>\n",
       "    <tbody>\n",
       "        <tr>\n",
       "            <td>0</td>\n",
       "            <td>VendorID</td>\n",
       "            <td>INTEGER</td>\n",
       "            <td>0</td>\n",
       "            <td>None</td>\n",
       "            <td>0</td>\n",
       "        </tr>\n",
       "        <tr>\n",
       "            <td>1</td>\n",
       "            <td>tpep_pickup_datetime</td>\n",
       "            <td>TEXT</td>\n",
       "            <td>0</td>\n",
       "            <td>None</td>\n",
       "            <td>0</td>\n",
       "        </tr>\n",
       "        <tr>\n",
       "            <td>2</td>\n",
       "            <td>tpep_dropoff_datetime</td>\n",
       "            <td>TEXT</td>\n",
       "            <td>0</td>\n",
       "            <td>None</td>\n",
       "            <td>0</td>\n",
       "        </tr>\n",
       "        <tr>\n",
       "            <td>3</td>\n",
       "            <td>passenger_count</td>\n",
       "            <td>INTEGER</td>\n",
       "            <td>0</td>\n",
       "            <td>None</td>\n",
       "            <td>0</td>\n",
       "        </tr>\n",
       "        <tr>\n",
       "            <td>4</td>\n",
       "            <td>trip_distance</td>\n",
       "            <td>REAL</td>\n",
       "            <td>0</td>\n",
       "            <td>None</td>\n",
       "            <td>0</td>\n",
       "        </tr>\n",
       "        <tr>\n",
       "            <td>5</td>\n",
       "            <td>pickup_longitude</td>\n",
       "            <td>REAL</td>\n",
       "            <td>0</td>\n",
       "            <td>None</td>\n",
       "            <td>0</td>\n",
       "        </tr>\n",
       "        <tr>\n",
       "            <td>6</td>\n",
       "            <td>pickup_latitude</td>\n",
       "            <td>REAL</td>\n",
       "            <td>0</td>\n",
       "            <td>None</td>\n",
       "            <td>0</td>\n",
       "        </tr>\n",
       "        <tr>\n",
       "            <td>7</td>\n",
       "            <td>RatecodeID</td>\n",
       "            <td>INTEGER</td>\n",
       "            <td>0</td>\n",
       "            <td>None</td>\n",
       "            <td>0</td>\n",
       "        </tr>\n",
       "        <tr>\n",
       "            <td>8</td>\n",
       "            <td>store_and_fwd_flag</td>\n",
       "            <td>TEXT</td>\n",
       "            <td>0</td>\n",
       "            <td>None</td>\n",
       "            <td>0</td>\n",
       "        </tr>\n",
       "        <tr>\n",
       "            <td>9</td>\n",
       "            <td>dropoff_longitude</td>\n",
       "            <td>REAL</td>\n",
       "            <td>0</td>\n",
       "            <td>None</td>\n",
       "            <td>0</td>\n",
       "        </tr>\n",
       "        <tr>\n",
       "            <td>10</td>\n",
       "            <td>dropoff_latitude</td>\n",
       "            <td>REAL</td>\n",
       "            <td>0</td>\n",
       "            <td>None</td>\n",
       "            <td>0</td>\n",
       "        </tr>\n",
       "        <tr>\n",
       "            <td>11</td>\n",
       "            <td>payment_type</td>\n",
       "            <td>INTEGER</td>\n",
       "            <td>0</td>\n",
       "            <td>None</td>\n",
       "            <td>0</td>\n",
       "        </tr>\n",
       "        <tr>\n",
       "            <td>12</td>\n",
       "            <td>fare_amount</td>\n",
       "            <td>REAL</td>\n",
       "            <td>0</td>\n",
       "            <td>None</td>\n",
       "            <td>0</td>\n",
       "        </tr>\n",
       "        <tr>\n",
       "            <td>13</td>\n",
       "            <td>extra</td>\n",
       "            <td>REAL</td>\n",
       "            <td>0</td>\n",
       "            <td>None</td>\n",
       "            <td>0</td>\n",
       "        </tr>\n",
       "        <tr>\n",
       "            <td>14</td>\n",
       "            <td>mta_tax</td>\n",
       "            <td>REAL</td>\n",
       "            <td>0</td>\n",
       "            <td>None</td>\n",
       "            <td>0</td>\n",
       "        </tr>\n",
       "        <tr>\n",
       "            <td>15</td>\n",
       "            <td>tip_amount</td>\n",
       "            <td>REAL</td>\n",
       "            <td>0</td>\n",
       "            <td>None</td>\n",
       "            <td>0</td>\n",
       "        </tr>\n",
       "        <tr>\n",
       "            <td>16</td>\n",
       "            <td>tolls_amount</td>\n",
       "            <td>REAL</td>\n",
       "            <td>0</td>\n",
       "            <td>None</td>\n",
       "            <td>0</td>\n",
       "        </tr>\n",
       "        <tr>\n",
       "            <td>17</td>\n",
       "            <td>improvement_surcharge</td>\n",
       "            <td>REAL</td>\n",
       "            <td>0</td>\n",
       "            <td>None</td>\n",
       "            <td>0</td>\n",
       "        </tr>\n",
       "        <tr>\n",
       "            <td>18</td>\n",
       "            <td>total_amount</td>\n",
       "            <td>REAL</td>\n",
       "            <td>0</td>\n",
       "            <td>None</td>\n",
       "            <td>0</td>\n",
       "        </tr>\n",
       "    </tbody>\n",
       "</table>"
      ],
      "text/plain": [
       "[(0, 'VendorID', 'INTEGER', 0, None, 0),\n",
       " (1, 'tpep_pickup_datetime', 'TEXT', 0, None, 0),\n",
       " (2, 'tpep_dropoff_datetime', 'TEXT', 0, None, 0),\n",
       " (3, 'passenger_count', 'INTEGER', 0, None, 0),\n",
       " (4, 'trip_distance', 'REAL', 0, None, 0),\n",
       " (5, 'pickup_longitude', 'REAL', 0, None, 0),\n",
       " (6, 'pickup_latitude', 'REAL', 0, None, 0),\n",
       " (7, 'RatecodeID', 'INTEGER', 0, None, 0),\n",
       " (8, 'store_and_fwd_flag', 'TEXT', 0, None, 0),\n",
       " (9, 'dropoff_longitude', 'REAL', 0, None, 0),\n",
       " (10, 'dropoff_latitude', 'REAL', 0, None, 0),\n",
       " (11, 'payment_type', 'INTEGER', 0, None, 0),\n",
       " (12, 'fare_amount', 'REAL', 0, None, 0),\n",
       " (13, 'extra', 'REAL', 0, None, 0),\n",
       " (14, 'mta_tax', 'REAL', 0, None, 0),\n",
       " (15, 'tip_amount', 'REAL', 0, None, 0),\n",
       " (16, 'tolls_amount', 'REAL', 0, None, 0),\n",
       " (17, 'improvement_surcharge', 'REAL', 0, None, 0),\n",
       " (18, 'total_amount', 'REAL', 0, None, 0)]"
      ]
     },
     "execution_count": 165,
     "metadata": {},
     "output_type": "execute_result"
    }
   ],
   "source": [
    "%%sql\n",
    "PRAGMA table_info(transport)"
   ]
  },
  {
   "cell_type": "code",
   "execution_count": 166,
   "id": "nyHtXasPPIhP",
   "metadata": {
    "colab": {
     "base_uri": "https://localhost:8080/",
     "height": 94
    },
    "executionInfo": {
     "elapsed": 5706,
     "status": "ok",
     "timestamp": 1753189385013,
     "user": {
      "displayName": "Benjamin Bennett Alexander",
      "userId": "14614847693800833280"
     },
     "user_tz": -180
    },
    "id": "nyHtXasPPIhP",
    "outputId": "8bdb65e4-6834-4603-a14b-82aa2f2e3089"
   },
   "outputs": [
    {
     "name": "stdout",
     "output_type": "stream",
     "text": [
      " * sqlite:///miscellaneous.db\n",
      "Done.\n"
     ]
    },
    {
     "data": {
      "text/html": [
       "<table>\n",
       "    <thead>\n",
       "        <tr>\n",
       "            <th>count_of_rows</th>\n",
       "        </tr>\n",
       "    </thead>\n",
       "    <tbody>\n",
       "        <tr>\n",
       "            <td>10906858</td>\n",
       "        </tr>\n",
       "    </tbody>\n",
       "</table>"
      ],
      "text/plain": [
       "[(10906858,)]"
      ]
     },
     "execution_count": 166,
     "metadata": {},
     "output_type": "execute_result"
    }
   ],
   "source": [
    "%%sql\n",
    "SELECT COUNT(*) AS count_of_rows\n",
    "FROM transport;"
   ]
  },
  {
   "cell_type": "code",
   "execution_count": 128,
   "id": "_f8k0LQNhikK",
   "metadata": {
    "executionInfo": {
     "elapsed": 25,
     "status": "ok",
     "timestamp": 1753116607755,
     "user": {
      "displayName": "Benjamin Bennett Alexander",
      "userId": "14614847693800833280"
     },
     "user_tz": -180
    },
    "id": "_f8k0LQNhikK"
   },
   "outputs": [],
   "source": [
    "# %%sql\n",
    "# DROP TABLE transport;"
   ]
  },
  {
   "cell_type": "markdown",
   "id": "5nz7wzJuhGua",
   "metadata": {
    "id": "5nz7wzJuhGua"
   },
   "source": []
  },
  {
   "cell_type": "code",
   "execution_count": 167,
   "id": "9vthoWXtOo6V",
   "metadata": {
    "colab": {
     "base_uri": "https://localhost:8080/",
     "height": 177
    },
    "executionInfo": {
     "elapsed": 343,
     "status": "ok",
     "timestamp": 1753189400164,
     "user": {
      "displayName": "Benjamin Bennett Alexander",
      "userId": "14614847693800833280"
     },
     "user_tz": -180
    },
    "id": "9vthoWXtOo6V",
    "outputId": "ddd996f3-b771-48be-ade0-d5089e2b7993"
   },
   "outputs": [
    {
     "name": "stdout",
     "output_type": "stream",
     "text": [
      " * sqlite:///miscellaneous.db\n",
      "Done.\n"
     ]
    },
    {
     "data": {
      "text/html": [
       "<table>\n",
       "    <thead>\n",
       "        <tr>\n",
       "            <th>tpep_pickup_datetime</th>\n",
       "            <th>fare_amount</th>\n",
       "            <th>tip_amount</th>\n",
       "            <th>total_amount</th>\n",
       "        </tr>\n",
       "    </thead>\n",
       "    <tbody>\n",
       "        <tr>\n",
       "            <td>2016-01-01 00:00:00</td>\n",
       "            <td>7.5</td>\n",
       "            <td>0.0</td>\n",
       "            <td>8.8</td>\n",
       "        </tr>\n",
       "        <tr>\n",
       "            <td>2016-01-01 00:00:00</td>\n",
       "            <td>18.0</td>\n",
       "            <td>0.0</td>\n",
       "            <td>19.3</td>\n",
       "        </tr>\n",
       "        <tr>\n",
       "            <td>2016-01-01 00:00:00</td>\n",
       "            <td>33.0</td>\n",
       "            <td>0.0</td>\n",
       "            <td>34.3</td>\n",
       "        </tr>\n",
       "        <tr>\n",
       "            <td>2016-01-01 00:00:00</td>\n",
       "            <td>16.5</td>\n",
       "            <td>0.0</td>\n",
       "            <td>17.3</td>\n",
       "        </tr>\n",
       "        <tr>\n",
       "            <td>2016-01-01 00:00:00</td>\n",
       "            <td>8.0</td>\n",
       "            <td>0.0</td>\n",
       "            <td>8.8</td>\n",
       "        </tr>\n",
       "    </tbody>\n",
       "</table>"
      ],
      "text/plain": [
       "[('2016-01-01 00:00:00', 7.5, 0.0, 8.8),\n",
       " ('2016-01-01 00:00:00', 18.0, 0.0, 19.3),\n",
       " ('2016-01-01 00:00:00', 33.0, 0.0, 34.3),\n",
       " ('2016-01-01 00:00:00', 16.5, 0.0, 17.3),\n",
       " ('2016-01-01 00:00:00', 8.0, 0.0, 8.8)]"
      ]
     },
     "execution_count": 167,
     "metadata": {},
     "output_type": "execute_result"
    }
   ],
   "source": [
    "%%sql\n",
    "SELECT\n",
    "    tpep_pickup_datetime,\n",
    "    fare_amount,\n",
    "    tip_amount,\n",
    "    total_amount\n",
    "FROM transport\n",
    "LIMIT 5;"
   ]
  },
  {
   "cell_type": "code",
   "execution_count": 168,
   "id": "LJfqAC4xU8Hh",
   "metadata": {
    "colab": {
     "base_uri": "https://localhost:8080/",
     "height": 177
    },
    "executionInfo": {
     "elapsed": 270,
     "status": "ok",
     "timestamp": 1753189418352,
     "user": {
      "displayName": "Benjamin Bennett Alexander",
      "userId": "14614847693800833280"
     },
     "user_tz": -180
    },
    "id": "LJfqAC4xU8Hh",
    "outputId": "2477842e-bb1b-4285-d2b1-b0779b1fcda8"
   },
   "outputs": [
    {
     "name": "stdout",
     "output_type": "stream",
     "text": [
      " * sqlite:///miscellaneous.db\n",
      "Done.\n"
     ]
    },
    {
     "data": {
      "text/html": [
       "<table>\n",
       "    <thead>\n",
       "        <tr>\n",
       "            <th>tip_amount</th>\n",
       "            <th>total_amount</th>\n",
       "        </tr>\n",
       "    </thead>\n",
       "    <tbody>\n",
       "        <tr>\n",
       "            <td>6.0</td>\n",
       "            <td>7.3</td>\n",
       "        </tr>\n",
       "        <tr>\n",
       "            <td>12.0</td>\n",
       "            <td>17.29</td>\n",
       "        </tr>\n",
       "        <tr>\n",
       "            <td>2.5</td>\n",
       "            <td>3.8</td>\n",
       "        </tr>\n",
       "        <tr>\n",
       "            <td>14.0</td>\n",
       "            <td>18.35</td>\n",
       "        </tr>\n",
       "        <tr>\n",
       "            <td>11.0</td>\n",
       "            <td>13.8</td>\n",
       "        </tr>\n",
       "    </tbody>\n",
       "</table>"
      ],
      "text/plain": [
       "[(6.0, 7.3), (12.0, 17.29), (2.5, 3.8), (14.0, 18.35), (11.0, 13.8)]"
      ]
     },
     "execution_count": 168,
     "metadata": {},
     "output_type": "execute_result"
    }
   ],
   "source": [
    "%%sql\n",
    "SELECT\n",
    "    fare_amount\n",
    "    tip_amount,\n",
    "    total_amount\n",
    "FROM transport\n",
    "LIMIT 5 OFFSET 10;"
   ]
  },
  {
   "cell_type": "code",
   "execution_count": 169,
   "id": "n5oWbyRGyxwQ",
   "metadata": {
    "colab": {
     "base_uri": "https://localhost:8080/",
     "height": 253
    },
    "executionInfo": {
     "elapsed": 12332,
     "status": "ok",
     "timestamp": 1753189452108,
     "user": {
      "displayName": "Benjamin Bennett Alexander",
      "userId": "14614847693800833280"
     },
     "user_tz": -180
    },
    "id": "n5oWbyRGyxwQ",
    "outputId": "aca21457-1e5d-4c86-db80-9f4af8a32cf2"
   },
   "outputs": [
    {
     "name": "stdout",
     "output_type": "stream",
     "text": [
      " * sqlite:///miscellaneous.db\n",
      "Done.\n",
      "CPU times: user 4.84 s, sys: 2.37 s, total: 7.21 s\n",
      "Wall time: 7.28 s\n"
     ]
    },
    {
     "data": {
      "text/html": [
       "<table>\n",
       "    <thead>\n",
       "        <tr>\n",
       "            <th>VendorID</th>\n",
       "            <th>trip_distance</th>\n",
       "            <th>trip_category</th>\n",
       "        </tr>\n",
       "    </thead>\n",
       "    <tbody>\n",
       "        <tr>\n",
       "            <td>2</td>\n",
       "            <td>1.1</td>\n",
       "            <td>Short Trip</td>\n",
       "        </tr>\n",
       "        <tr>\n",
       "            <td>2</td>\n",
       "            <td>1.76</td>\n",
       "            <td>Short Trip</td>\n",
       "        </tr>\n",
       "        <tr>\n",
       "            <td>2</td>\n",
       "            <td>4.9</td>\n",
       "            <td>Long Trip</td>\n",
       "        </tr>\n",
       "        <tr>\n",
       "            <td>2</td>\n",
       "            <td>10.54</td>\n",
       "            <td>Long Trip</td>\n",
       "        </tr>\n",
       "        <tr>\n",
       "            <td>2</td>\n",
       "            <td>4.75</td>\n",
       "            <td>Long Trip</td>\n",
       "        </tr>\n",
       "        <tr>\n",
       "            <td>2</td>\n",
       "            <td>5.52</td>\n",
       "            <td>Long Trip</td>\n",
       "        </tr>\n",
       "        <tr>\n",
       "            <td>2</td>\n",
       "            <td>7.45</td>\n",
       "            <td>Long Trip</td>\n",
       "        </tr>\n",
       "    </tbody>\n",
       "</table>"
      ],
      "text/plain": [
       "[(2, 1.1, 'Short Trip'),\n",
       " (2, 1.76, 'Short Trip'),\n",
       " (2, 4.9, 'Long Trip'),\n",
       " (2, 10.54, 'Long Trip'),\n",
       " (2, 4.75, 'Long Trip'),\n",
       " (2, 5.52, 'Long Trip'),\n",
       " (2, 7.45, 'Long Trip')]"
      ]
     },
     "execution_count": 169,
     "metadata": {},
     "output_type": "execute_result"
    }
   ],
   "source": [
    "%%time\n",
    "%%sql\n",
    "SELECT\n",
    "    VendorID,\n",
    "    trip_distance,\n",
    "    'Short Trip' AS trip_category\n",
    "FROM transport\n",
    "WHERE trip_distance < (SELECT AVG(trip_distance) FROM transport)\n",
    "       AND tpep_pickup_datetime = '2016-01-01 00:00:00'\n",
    "\n",
    "UNION ALL -- Using UNION ALL combine the queries\n",
    "\n",
    "SELECT\n",
    "    VendorID,\n",
    "    trip_distance,\n",
    "    'Long Trip' AS trip_category\n",
    "FROM transport\n",
    "WHERE trip_distance >= (SELECT AVG(trip_distance) FROM transport)\n",
    "      AND tpep_pickup_datetime = '2016-01-01 00:00:00';"
   ]
  },
  {
   "cell_type": "code",
   "execution_count": 170,
   "id": "Xjeh2oTQ6asA",
   "metadata": {
    "colab": {
     "base_uri": "https://localhost:8080/",
     "height": 260
    },
    "executionInfo": {
     "elapsed": 1178,
     "status": "ok",
     "timestamp": 1753189469885,
     "user": {
      "displayName": "Benjamin Bennett Alexander",
      "userId": "14614847693800833280"
     },
     "user_tz": -180
    },
    "id": "Xjeh2oTQ6asA",
    "outputId": "5fa6c67e-e3a8-4934-8d27-5d473369811a"
   },
   "outputs": [
    {
     "name": "stdout",
     "output_type": "stream",
     "text": [
      " * sqlite:///miscellaneous.db\n",
      "Done.\n"
     ]
    },
    {
     "data": {
      "text/html": [
       "<table>\n",
       "    <thead>\n",
       "        <tr>\n",
       "            <th>id</th>\n",
       "            <th>parent</th>\n",
       "            <th>notused</th>\n",
       "            <th>detail</th>\n",
       "        </tr>\n",
       "    </thead>\n",
       "    <tbody>\n",
       "        <tr>\n",
       "            <td>1</td>\n",
       "            <td>0</td>\n",
       "            <td>0</td>\n",
       "            <td>COMPOUND QUERY</td>\n",
       "        </tr>\n",
       "        <tr>\n",
       "            <td>2</td>\n",
       "            <td>1</td>\n",
       "            <td>0</td>\n",
       "            <td>LEFT-MOST SUBQUERY</td>\n",
       "        </tr>\n",
       "        <tr>\n",
       "            <td>4</td>\n",
       "            <td>2</td>\n",
       "            <td>0</td>\n",
       "            <td>SCAN transport</td>\n",
       "        </tr>\n",
       "        <tr>\n",
       "            <td>10</td>\n",
       "            <td>2</td>\n",
       "            <td>0</td>\n",
       "            <td>SCALAR SUBQUERY 1</td>\n",
       "        </tr>\n",
       "        <tr>\n",
       "            <td>15</td>\n",
       "            <td>10</td>\n",
       "            <td>0</td>\n",
       "            <td>SCAN transport</td>\n",
       "        </tr>\n",
       "        <tr>\n",
       "            <td>34</td>\n",
       "            <td>1</td>\n",
       "            <td>0</td>\n",
       "            <td>UNION ALL</td>\n",
       "        </tr>\n",
       "        <tr>\n",
       "            <td>36</td>\n",
       "            <td>34</td>\n",
       "            <td>0</td>\n",
       "            <td>SCAN transport</td>\n",
       "        </tr>\n",
       "        <tr>\n",
       "            <td>42</td>\n",
       "            <td>34</td>\n",
       "            <td>0</td>\n",
       "            <td>SCALAR SUBQUERY 3</td>\n",
       "        </tr>\n",
       "        <tr>\n",
       "            <td>47</td>\n",
       "            <td>42</td>\n",
       "            <td>0</td>\n",
       "            <td>SCAN transport</td>\n",
       "        </tr>\n",
       "    </tbody>\n",
       "</table>"
      ],
      "text/plain": [
       "[(1, 0, 0, 'COMPOUND QUERY'),\n",
       " (2, 1, 0, 'LEFT-MOST SUBQUERY'),\n",
       " (4, 2, 0, 'SCAN transport'),\n",
       " (10, 2, 0, 'SCALAR SUBQUERY 1'),\n",
       " (15, 10, 0, 'SCAN transport'),\n",
       " (34, 1, 0, 'UNION ALL'),\n",
       " (36, 34, 0, 'SCAN transport'),\n",
       " (42, 34, 0, 'SCALAR SUBQUERY 3'),\n",
       " (47, 42, 0, 'SCAN transport')]"
      ]
     },
     "execution_count": 170,
     "metadata": {},
     "output_type": "execute_result"
    }
   ],
   "source": [
    "%%sql\n",
    "EXPLAIN QUERY PLAN\n",
    "SELECT\n",
    "    VendorID,\n",
    "    trip_distance,\n",
    "    'Short Trip' AS trip_category\n",
    "FROM transport\n",
    "WHERE trip_distance < (SELECT AVG(trip_distance) FROM transport)\n",
    "       AND tpep_pickup_datetime = '2016-01-01 00:00:00'\n",
    "\n",
    "UNION ALL -- Using UNION ALL combine the queries\n",
    "\n",
    "SELECT\n",
    "    VendorID,\n",
    "    trip_distance,\n",
    "    'Long Trip' AS trip_category\n",
    "FROM transport\n",
    "WHERE trip_distance >= (SELECT AVG(trip_distance) FROM transport)\n",
    "      AND tpep_pickup_datetime = '2016-01-01 00:00:00';"
   ]
  },
  {
   "cell_type": "code",
   "execution_count": 171,
   "id": "ih2JxJLkQ0lb",
   "metadata": {
    "colab": {
     "base_uri": "https://localhost:8080/",
     "height": 253
    },
    "executionInfo": {
     "elapsed": 1655,
     "status": "ok",
     "timestamp": 1753189495447,
     "user": {
      "displayName": "Benjamin Bennett Alexander",
      "userId": "14614847693800833280"
     },
     "user_tz": -180
    },
    "id": "ih2JxJLkQ0lb",
    "outputId": "66346d66-0c89-4b1b-bccd-f98433955a80"
   },
   "outputs": [
    {
     "name": "stdout",
     "output_type": "stream",
     "text": [
      " * sqlite:///miscellaneous.db\n",
      "Done.\n",
      "CPU times: user 1.93 s, sys: 929 ms, total: 2.86 s\n",
      "Wall time: 2.86 s\n"
     ]
    },
    {
     "data": {
      "text/html": [
       "<table>\n",
       "    <thead>\n",
       "        <tr>\n",
       "            <th>VendorID</th>\n",
       "            <th>trip_distance</th>\n",
       "            <th>trip_category</th>\n",
       "        </tr>\n",
       "    </thead>\n",
       "    <tbody>\n",
       "        <tr>\n",
       "            <td>2</td>\n",
       "            <td>1.1</td>\n",
       "            <td>Short Trip</td>\n",
       "        </tr>\n",
       "        <tr>\n",
       "            <td>2</td>\n",
       "            <td>4.9</td>\n",
       "            <td>Long Trip</td>\n",
       "        </tr>\n",
       "        <tr>\n",
       "            <td>2</td>\n",
       "            <td>10.54</td>\n",
       "            <td>Long Trip</td>\n",
       "        </tr>\n",
       "        <tr>\n",
       "            <td>2</td>\n",
       "            <td>4.75</td>\n",
       "            <td>Long Trip</td>\n",
       "        </tr>\n",
       "        <tr>\n",
       "            <td>2</td>\n",
       "            <td>1.76</td>\n",
       "            <td>Short Trip</td>\n",
       "        </tr>\n",
       "        <tr>\n",
       "            <td>2</td>\n",
       "            <td>5.52</td>\n",
       "            <td>Long Trip</td>\n",
       "        </tr>\n",
       "        <tr>\n",
       "            <td>2</td>\n",
       "            <td>7.45</td>\n",
       "            <td>Long Trip</td>\n",
       "        </tr>\n",
       "    </tbody>\n",
       "</table>"
      ],
      "text/plain": [
       "[(2, 1.1, 'Short Trip'),\n",
       " (2, 4.9, 'Long Trip'),\n",
       " (2, 10.54, 'Long Trip'),\n",
       " (2, 4.75, 'Long Trip'),\n",
       " (2, 1.76, 'Short Trip'),\n",
       " (2, 5.52, 'Long Trip'),\n",
       " (2, 7.45, 'Long Trip')]"
      ]
     },
     "execution_count": 171,
     "metadata": {},
     "output_type": "execute_result"
    }
   ],
   "source": [
    "%%time\n",
    "%%sql\n",
    "WITH avg_trip AS (\n",
    "    SELECT AVG(trip_distance) AS avg_distance FROM transport\n",
    ")\n",
    "SELECT\n",
    "    t.VendorID,\n",
    "    t.trip_distance,\n",
    "    CASE\n",
    "        WHEN t.trip_distance < a.avg_distance THEN 'Short Trip'\n",
    "        ELSE 'Long Trip'\n",
    "    END AS trip_category\n",
    "FROM transport t\n",
    "JOIN avg_trip a ON 1=1\n",
    "WHERE t.tpep_pickup_datetime = '2016-01-01 00:00:00';"
   ]
  },
  {
   "cell_type": "code",
   "execution_count": 172,
   "id": "XnN6QLZjm26_",
   "metadata": {
    "colab": {
     "base_uri": "https://localhost:8080/",
     "height": 156
    },
    "executionInfo": {
     "elapsed": 275,
     "status": "ok",
     "timestamp": 1753189503680,
     "user": {
      "displayName": "Benjamin Bennett Alexander",
      "userId": "14614847693800833280"
     },
     "user_tz": -180
    },
    "id": "XnN6QLZjm26_",
    "outputId": "623134ad-bb6f-4189-fbac-29ffcce4051a"
   },
   "outputs": [
    {
     "name": "stdout",
     "output_type": "stream",
     "text": [
      " * sqlite:///miscellaneous.db\n",
      "Done.\n"
     ]
    },
    {
     "data": {
      "text/html": [
       "<table>\n",
       "    <thead>\n",
       "        <tr>\n",
       "            <th>id</th>\n",
       "            <th>parent</th>\n",
       "            <th>notused</th>\n",
       "            <th>detail</th>\n",
       "        </tr>\n",
       "    </thead>\n",
       "    <tbody>\n",
       "        <tr>\n",
       "            <td>3</td>\n",
       "            <td>0</td>\n",
       "            <td>0</td>\n",
       "            <td>MATERIALIZE avg_trip</td>\n",
       "        </tr>\n",
       "        <tr>\n",
       "            <td>7</td>\n",
       "            <td>3</td>\n",
       "            <td>0</td>\n",
       "            <td>SCAN transport</td>\n",
       "        </tr>\n",
       "        <tr>\n",
       "            <td>22</td>\n",
       "            <td>0</td>\n",
       "            <td>0</td>\n",
       "            <td>SCAN a</td>\n",
       "        </tr>\n",
       "        <tr>\n",
       "            <td>24</td>\n",
       "            <td>0</td>\n",
       "            <td>0</td>\n",
       "            <td>SCAN t</td>\n",
       "        </tr>\n",
       "    </tbody>\n",
       "</table>"
      ],
      "text/plain": [
       "[(3, 0, 0, 'MATERIALIZE avg_trip'),\n",
       " (7, 3, 0, 'SCAN transport'),\n",
       " (22, 0, 0, 'SCAN a'),\n",
       " (24, 0, 0, 'SCAN t')]"
      ]
     },
     "execution_count": 172,
     "metadata": {},
     "output_type": "execute_result"
    }
   ],
   "source": [
    "%%sql\n",
    "EXPLAIN QUERY PLAN\n",
    "WITH avg_trip AS (\n",
    "    SELECT AVG(trip_distance) AS avg_distance FROM transport\n",
    ")\n",
    "SELECT\n",
    "    t.VendorID,\n",
    "    t.trip_distance,\n",
    "    CASE\n",
    "        WHEN t.trip_distance < a.avg_distance THEN 'Short Trip'\n",
    "        ELSE 'Long Trip'\n",
    "    END AS trip_category\n",
    "FROM transport t\n",
    "JOIN avg_trip a ON 1=1\n",
    "WHERE t.tpep_pickup_datetime = '2016-01-01 00:00:00';"
   ]
  },
  {
   "cell_type": "code",
   "execution_count": 173,
   "id": "xpRXbmEb4pSK",
   "metadata": {
    "colab": {
     "base_uri": "https://localhost:8080/"
    },
    "executionInfo": {
     "elapsed": 13508,
     "status": "ok",
     "timestamp": 1753189538205,
     "user": {
      "displayName": "Benjamin Bennett Alexander",
      "userId": "14614847693800833280"
     },
     "user_tz": -180
    },
    "id": "xpRXbmEb4pSK",
    "outputId": "fdf4600e-270d-4174-e2c6-be518809ed13"
   },
   "outputs": [
    {
     "name": "stdout",
     "output_type": "stream",
     "text": [
      " * sqlite:///miscellaneous.db\n",
      "Done.\n"
     ]
    },
    {
     "data": {
      "text/plain": [
       "[]"
      ]
     },
     "execution_count": 173,
     "metadata": {},
     "output_type": "execute_result"
    }
   ],
   "source": [
    "%%sql\n",
    "CREATE INDEX idx_pickup_time_distance ON transport(tpep_pickup_datetime, trip_distance);"
   ]
  },
  {
   "cell_type": "code",
   "execution_count": 174,
   "id": "gYyPOFf44tFo",
   "metadata": {
    "colab": {
     "base_uri": "https://localhost:8080/",
     "height": 253
    },
    "executionInfo": {
     "elapsed": 1206,
     "status": "ok",
     "timestamp": 1753189545500,
     "user": {
      "displayName": "Benjamin Bennett Alexander",
      "userId": "14614847693800833280"
     },
     "user_tz": -180
    },
    "id": "gYyPOFf44tFo",
    "outputId": "f0df554a-cfcc-4e76-e3e8-9e6eeb2b346e"
   },
   "outputs": [
    {
     "name": "stdout",
     "output_type": "stream",
     "text": [
      " * sqlite:///miscellaneous.db\n",
      "Done.\n",
      "CPU times: user 722 ms, sys: 132 ms, total: 855 ms\n",
      "Wall time: 855 ms\n"
     ]
    },
    {
     "data": {
      "text/html": [
       "<table>\n",
       "    <thead>\n",
       "        <tr>\n",
       "            <th>VendorID</th>\n",
       "            <th>trip_distance</th>\n",
       "            <th>trip_category</th>\n",
       "        </tr>\n",
       "    </thead>\n",
       "    <tbody>\n",
       "        <tr>\n",
       "            <td>2</td>\n",
       "            <td>1.1</td>\n",
       "            <td>Short Trip</td>\n",
       "        </tr>\n",
       "        <tr>\n",
       "            <td>2</td>\n",
       "            <td>1.76</td>\n",
       "            <td>Short Trip</td>\n",
       "        </tr>\n",
       "        <tr>\n",
       "            <td>2</td>\n",
       "            <td>4.75</td>\n",
       "            <td>Long Trip</td>\n",
       "        </tr>\n",
       "        <tr>\n",
       "            <td>2</td>\n",
       "            <td>4.9</td>\n",
       "            <td>Long Trip</td>\n",
       "        </tr>\n",
       "        <tr>\n",
       "            <td>2</td>\n",
       "            <td>5.52</td>\n",
       "            <td>Long Trip</td>\n",
       "        </tr>\n",
       "        <tr>\n",
       "            <td>2</td>\n",
       "            <td>7.45</td>\n",
       "            <td>Long Trip</td>\n",
       "        </tr>\n",
       "        <tr>\n",
       "            <td>2</td>\n",
       "            <td>10.54</td>\n",
       "            <td>Long Trip</td>\n",
       "        </tr>\n",
       "    </tbody>\n",
       "</table>"
      ],
      "text/plain": [
       "[(2, 1.1, 'Short Trip'),\n",
       " (2, 1.76, 'Short Trip'),\n",
       " (2, 4.75, 'Long Trip'),\n",
       " (2, 4.9, 'Long Trip'),\n",
       " (2, 5.52, 'Long Trip'),\n",
       " (2, 7.45, 'Long Trip'),\n",
       " (2, 10.54, 'Long Trip')]"
      ]
     },
     "execution_count": 174,
     "metadata": {},
     "output_type": "execute_result"
    }
   ],
   "source": [
    "%%time\n",
    "%%sql\n",
    "WITH avg_trip AS (\n",
    "    SELECT AVG(trip_distance) AS avg_distance FROM transport\n",
    ")\n",
    "SELECT\n",
    "    t.VendorID,\n",
    "    t.trip_distance,\n",
    "    CASE\n",
    "        WHEN t.trip_distance < a.avg_distance THEN 'Short Trip'\n",
    "        ELSE 'Long Trip'\n",
    "    END AS trip_category\n",
    "FROM transport t\n",
    "JOIN avg_trip a ON 1=1\n",
    "WHERE t.tpep_pickup_datetime = '2016-01-01 00:00:00';"
   ]
  }
 ],
 "metadata": {
  "colab": {
   "provenance": []
  },
  "kernelspec": {
   "display_name": "Python 3",
   "name": "python3"
  },
  "language_info": {
   "codemirror_mode": {
    "name": "ipython",
    "version": 3
   },
   "file_extension": ".py",
   "mimetype": "text/x-python",
   "name": "python",
   "nbconvert_exporter": "python",
   "pygments_lexer": "ipython3",
   "version": "3.10.5"
  }
 },
 "nbformat": 4,
 "nbformat_minor": 5
}

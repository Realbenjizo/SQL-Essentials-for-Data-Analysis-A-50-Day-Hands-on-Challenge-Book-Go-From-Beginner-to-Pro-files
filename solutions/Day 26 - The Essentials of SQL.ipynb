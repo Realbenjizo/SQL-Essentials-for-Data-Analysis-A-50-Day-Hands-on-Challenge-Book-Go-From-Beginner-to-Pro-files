{
 "cells": [
  {
   "cell_type": "markdown",
   "id": "S6vjtAXP_zGt",
   "metadata": {
    "id": "S6vjtAXP_zGt"
   },
   "source": [
    "## Question 1: **Answer**"
   ]
  },
  {
   "cell_type": "code",
   "execution_count": 1,
   "id": "cf1d4ec7",
   "metadata": {
    "executionInfo": {
     "elapsed": 612,
     "status": "ok",
     "timestamp": 1752920076176,
     "user": {
      "displayName": "Benjamin Bennett Alexander",
      "userId": "14614847693800833280"
     },
     "user_tz": -180
    },
    "id": "cf1d4ec7"
   },
   "outputs": [],
   "source": [
    "import pandas as pd\n",
    "import sqlite3"
   ]
  },
  {
   "cell_type": "code",
   "execution_count": null,
   "id": "571c22e2",
   "metadata": {
    "executionInfo": {
     "elapsed": 1252,
     "status": "ok",
     "timestamp": 1752920077426,
     "user": {
      "displayName": "Benjamin Bennett Alexander",
      "userId": "14614847693800833280"
     },
     "user_tz": -180
    },
    "id": "571c22e2"
   },
   "outputs": [],
   "source": [
    "def add_data_to_database(input_data):\n",
    "    try:\n",
    "        # Creating a DataFrame\n",
    "        data = pd.read_csv(input_data)\n",
    "        # Creating a database\n",
    "        engine = sqlite3.connect('bakery_records.db')\n",
    "        data.to_sql('bakery', con=engine, index = False)\n",
    "        engine.close()\n",
    "    except Exception as e:\n",
    "        print(f\"Error:{e}\")\n",
    "\n",
    "data = \"/content/bakery_business.csv\"\n",
    "add_data_to_database(data)"
   ]
  },
  {
   "cell_type": "code",
   "execution_count": 3,
   "id": "49315d84",
   "metadata": {
    "executionInfo": {
     "elapsed": 834,
     "status": "ok",
     "timestamp": 1752920078264,
     "user": {
      "displayName": "Benjamin Bennett Alexander",
      "userId": "14614847693800833280"
     },
     "user_tz": -180
    },
    "id": "49315d84"
   },
   "outputs": [],
   "source": [
    "# Loading SQL extension\n",
    "%load_ext sql"
   ]
  },
  {
   "cell_type": "code",
   "execution_count": 4,
   "id": "3959394b",
   "metadata": {
    "executionInfo": {
     "elapsed": 29,
     "status": "ok",
     "timestamp": 1752920078312,
     "user": {
      "displayName": "Benjamin Bennett Alexander",
      "userId": "14614847693800833280"
     },
     "user_tz": -180
    },
    "id": "3959394b"
   },
   "outputs": [],
   "source": [
    "#  Connecting to the database\n",
    "%sql sqlite:///bakery_records.db"
   ]
  },
  {
   "cell_type": "code",
   "execution_count": 5,
   "id": "000Ssi1gI-Rz",
   "metadata": {
    "executionInfo": {
     "elapsed": 51,
     "status": "ok",
     "timestamp": 1752920078381,
     "user": {
      "displayName": "Benjamin Bennett Alexander",
      "userId": "14614847693800833280"
     },
     "user_tz": -180
    },
    "id": "000Ssi1gI-Rz"
   },
   "outputs": [],
   "source": [
    "# Default to duplicated style\n",
    "%config SqlMagic.style = '_DEPRECATED_DEFAULT'"
   ]
  },
  {
   "cell_type": "code",
   "execution_count": 6,
   "id": "d84c630d",
   "metadata": {
    "colab": {
     "base_uri": "https://localhost:8080/",
     "height": 177
    },
    "executionInfo": {
     "elapsed": 44,
     "status": "ok",
     "timestamp": 1752920078423,
     "user": {
      "displayName": "Benjamin Bennett Alexander",
      "userId": "14614847693800833280"
     },
     "user_tz": -180
    },
    "id": "d84c630d",
    "outputId": "eda59116-1b45-49cb-f61c-1e868ee0b0da"
   },
   "outputs": [
    {
     "name": "stdout",
     "output_type": "stream",
     "text": [
      " * sqlite:///bakery_records.db\n",
      "Done.\n"
     ]
    },
    {
     "data": {
      "text/html": [
       "<table>\n",
       "    <thead>\n",
       "        <tr>\n",
       "            <th>order_id</th>\n",
       "            <th>order_date</th>\n",
       "            <th>customer_name</th>\n",
       "            <th>order_items</th>\n",
       "            <th>order_total</th>\n",
       "        </tr>\n",
       "    </thead>\n",
       "    <tbody>\n",
       "        <tr>\n",
       "            <td>1</td>\n",
       "            <td>2020-10-05</td>\n",
       "            <td>Alice Smith</td>\n",
       "            <td>Cake</td>\n",
       "            <td>25</td>\n",
       "        </tr>\n",
       "        <tr>\n",
       "            <td>2</td>\n",
       "            <td>2020-10-06</td>\n",
       "            <td>Bob Johnson</td>\n",
       "            <td>Chocolate Chip Cookies</td>\n",
       "            <td>12</td>\n",
       "        </tr>\n",
       "        <tr>\n",
       "            <td>3</td>\n",
       "            <td>2020-10-07</td>\n",
       "            <td>Charlie Brown</td>\n",
       "            <td>Strawberry Cupcakes</td>\n",
       "            <td>18</td>\n",
       "        </tr>\n",
       "        <tr>\n",
       "            <td>4</td>\n",
       "            <td>2020-10-08</td>\n",
       "            <td>David Williams</td>\n",
       "            <td>Vanilla Muffin</td>\n",
       "            <td>15</td>\n",
       "        </tr>\n",
       "        <tr>\n",
       "            <td>5</td>\n",
       "            <td>2020-10-09</td>\n",
       "            <td>Emily Jones</td>\n",
       "            <td>Chocolate Cake</td>\n",
       "            <td>30</td>\n",
       "        </tr>\n",
       "    </tbody>\n",
       "</table>"
      ],
      "text/plain": [
       "[(1, '2020-10-05', 'Alice Smith', 'Cake', 25),\n",
       " (2, '2020-10-06', 'Bob Johnson', 'Chocolate Chip Cookies', 12),\n",
       " (3, '2020-10-07', 'Charlie Brown', 'Strawberry Cupcakes', 18),\n",
       " (4, '2020-10-08', 'David Williams', 'Vanilla Muffin', 15),\n",
       " (5, '2020-10-09', 'Emily Jones', 'Chocolate Cake', 30)]"
      ]
     },
     "execution_count": 6,
     "metadata": {},
     "output_type": "execute_result"
    }
   ],
   "source": [
    "%%sql\n",
    "SELECT * FROM bakery\n",
    "LIMIT 5;"
   ]
  },
  {
   "cell_type": "markdown",
   "id": "a2730d08",
   "metadata": {
    "id": "a2730d08"
   },
   "source": [
    "## Question 2: **Answer**"
   ]
  },
  {
   "cell_type": "code",
   "execution_count": 7,
   "id": "56f5dc09",
   "metadata": {
    "colab": {
     "base_uri": "https://localhost:8080/",
     "height": 94
    },
    "executionInfo": {
     "elapsed": 95,
     "status": "ok",
     "timestamp": 1752920078523,
     "user": {
      "displayName": "Benjamin Bennett Alexander",
      "userId": "14614847693800833280"
     },
     "user_tz": -180
    },
    "id": "56f5dc09",
    "outputId": "f50e176a-065a-4d37-9f31-0974b6dbe873"
   },
   "outputs": [
    {
     "name": "stdout",
     "output_type": "stream",
     "text": [
      " * sqlite:///bakery_records.db\n",
      "Done.\n"
     ]
    },
    {
     "data": {
      "text/html": [
       "<table>\n",
       "    <thead>\n",
       "        <tr>\n",
       "            <th>order_date</th>\n",
       "            <th>customer_name</th>\n",
       "            <th>order_items</th>\n",
       "        </tr>\n",
       "    </thead>\n",
       "    <tbody>\n",
       "        <tr>\n",
       "            <td>2020-10-19</td>\n",
       "            <td>Laura Brown</td>\n",
       "            <td>Chocolate Chip Cookies</td>\n",
       "        </tr>\n",
       "    </tbody>\n",
       "</table>"
      ],
      "text/plain": [
       "[('2020-10-19', 'Laura Brown', 'Chocolate Chip Cookies')]"
      ]
     },
     "execution_count": 7,
     "metadata": {},
     "output_type": "execute_result"
    }
   ],
   "source": [
    "%%sql\n",
    "SELECT\n",
    "    order_date,\n",
    "    customer_name,\n",
    "    order_items\n",
    "FROM bakery\n",
    "WHERE customer_name = 'Laura Brown' AND\n",
    "    order_date = '2020-10-19';"
   ]
  },
  {
   "cell_type": "markdown",
   "id": "f7b7ad6d",
   "metadata": {
    "id": "f7b7ad6d"
   },
   "source": [
    "## Question 3: **Answer**"
   ]
  },
  {
   "cell_type": "code",
   "execution_count": 8,
   "id": "1fb38fbc",
   "metadata": {
    "colab": {
     "base_uri": "https://localhost:8080/",
     "height": 94
    },
    "executionInfo": {
     "elapsed": 90,
     "status": "ok",
     "timestamp": 1752920078618,
     "user": {
      "displayName": "Benjamin Bennett Alexander",
      "userId": "14614847693800833280"
     },
     "user_tz": -180
    },
    "id": "1fb38fbc",
    "outputId": "fb2d1639-f32f-4cb9-9713-cba1098dd474"
   },
   "outputs": [
    {
     "name": "stdout",
     "output_type": "stream",
     "text": [
      " * sqlite:///bakery_records.db\n",
      "Done.\n"
     ]
    },
    {
     "data": {
      "text/html": [
       "<table>\n",
       "    <thead>\n",
       "        <tr>\n",
       "            <th>total_from_three_customers</th>\n",
       "            <th>percentage</th>\n",
       "        </tr>\n",
       "    </thead>\n",
       "    <tbody>\n",
       "        <tr>\n",
       "            <td>55</td>\n",
       "            <td>18.0</td>\n",
       "        </tr>\n",
       "    </tbody>\n",
       "</table>"
      ],
      "text/plain": [
       "[(55, 18.0)]"
      ]
     },
     "execution_count": 8,
     "metadata": {},
     "output_type": "execute_result"
    }
   ],
   "source": [
    "%%sql\n",
    "SELECT\n",
    "    SUM(order_total) AS total_from_three_customers,\n",
    "    ROUND(SUM(order_total)/CAST((SELECT SUM(order_total)\n",
    "                                 FROM bakery)\n",
    "                                 AS REAL), 2) * 100 AS percentage\n",
    "FROM bakery\n",
    "WHERE customer_name IN ('Charlie Brown', 'Bob Johnson', 'Alice Smith')\n",
    "    AND order_date BETWEEN '2020- 10-01' AND '2020-10-31';"
   ]
  },
  {
   "cell_type": "markdown",
   "id": "082452f2",
   "metadata": {
    "id": "082452f2"
   },
   "source": [
    "## Question 4: **Answer**"
   ]
  },
  {
   "cell_type": "code",
   "execution_count": 9,
   "id": "4a9e398f",
   "metadata": {
    "colab": {
     "base_uri": "https://localhost:8080/",
     "height": 94
    },
    "executionInfo": {
     "elapsed": 73,
     "status": "ok",
     "timestamp": 1752920078621,
     "user": {
      "displayName": "Benjamin Bennett Alexander",
      "userId": "14614847693800833280"
     },
     "user_tz": -180
    },
    "id": "4a9e398f",
    "outputId": "923ee202-e069-4877-8e1f-c9da813830e2"
   },
   "outputs": [
    {
     "name": "stdout",
     "output_type": "stream",
     "text": [
      " * sqlite:///bakery_records.db\n",
      "Done.\n"
     ]
    },
    {
     "data": {
      "text/html": [
       "<table>\n",
       "    <thead>\n",
       "        <tr>\n",
       "            <th>total_number</th>\n",
       "        </tr>\n",
       "    </thead>\n",
       "    <tbody>\n",
       "        <tr>\n",
       "            <td>5</td>\n",
       "        </tr>\n",
       "    </tbody>\n",
       "</table>"
      ],
      "text/plain": [
       "[(5,)]"
      ]
     },
     "execution_count": 9,
     "metadata": {},
     "output_type": "execute_result"
    }
   ],
   "source": [
    "%%sql\n",
    "SELECT\n",
    "    SUM(total) AS total_number\n",
    "FROM (SELECT COUNT(*) AS total\n",
    "      FROM bakery\n",
    "      WHERE order_total IN (10, 12)\n",
    "      GROUP BY order_total)\n",
    "      AS subquery;"
   ]
  },
  {
   "cell_type": "markdown",
   "id": "peSSdMHDAQrH",
   "metadata": {
    "id": "peSSdMHDAQrH"
   },
   "source": [
    "## **Part B**"
   ]
  },
  {
   "cell_type": "code",
   "execution_count": 10,
   "id": "fa01b818",
   "metadata": {
    "colab": {
     "base_uri": "https://localhost:8080/",
     "height": 94
    },
    "executionInfo": {
     "elapsed": 27,
     "status": "ok",
     "timestamp": 1752920078623,
     "user": {
      "displayName": "Benjamin Bennett Alexander",
      "userId": "14614847693800833280"
     },
     "user_tz": -180
    },
    "id": "fa01b818",
    "outputId": "39116f62-1c48-496e-d33e-7b94b3e4ee70"
   },
   "outputs": [
    {
     "name": "stdout",
     "output_type": "stream",
     "text": [
      " * sqlite:///bakery_records.db\n",
      "Done.\n"
     ]
    },
    {
     "data": {
      "text/html": [
       "<table>\n",
       "    <thead>\n",
       "        <tr>\n",
       "            <th>total_number</th>\n",
       "        </tr>\n",
       "    </thead>\n",
       "    <tbody>\n",
       "        <tr>\n",
       "            <td>5</td>\n",
       "        </tr>\n",
       "    </tbody>\n",
       "</table>"
      ],
      "text/plain": [
       "[(5,)]"
      ]
     },
     "execution_count": 10,
     "metadata": {},
     "output_type": "execute_result"
    }
   ],
   "source": [
    "%%sql\n",
    "-- CTE to count orders at price 10 and 12\n",
    "WITH count_orders AS (\n",
    "    SELECT\n",
    "        order_total,\n",
    "        COUNT(*) AS total\n",
    "    FROM bakery\n",
    "    WHERE order_total IN (10, 12)\n",
    "    GROUP BY order_total\n",
    ")\n",
    "-- main query to return total number of orders\n",
    "SELECT\n",
    "    SUM(total) AS total_number\n",
    "FROM count_orders;"
   ]
  },
  {
   "cell_type": "markdown",
   "id": "0T2z_I71V3Eg",
   "metadata": {
    "id": "0T2z_I71V3Eg"
   },
   "source": [
    "## Question 5: **Answer**"
   ]
  },
  {
   "cell_type": "code",
   "execution_count": 11,
   "id": "2f4c9bc0",
   "metadata": {
    "colab": {
     "base_uri": "https://localhost:8080/",
     "height": 94
    },
    "executionInfo": {
     "elapsed": 25,
     "status": "ok",
     "timestamp": 1752920078650,
     "user": {
      "displayName": "Benjamin Bennett Alexander",
      "userId": "14614847693800833280"
     },
     "user_tz": -180
    },
    "id": "2f4c9bc0",
    "outputId": "d04bfe1a-5f56-4fab-b7ad-faf863670249"
   },
   "outputs": [
    {
     "name": "stdout",
     "output_type": "stream",
     "text": [
      " * sqlite:///bakery_records.db\n",
      "Done.\n"
     ]
    },
    {
     "data": {
      "text/html": [
       "<table>\n",
       "    <thead>\n",
       "        <tr>\n",
       "            <th>first_half_october_percentage</th>\n",
       "            <th>second_half_october_percentage</th>\n",
       "        </tr>\n",
       "    </thead>\n",
       "    <tbody>\n",
       "        <tr>\n",
       "            <td>53.51</td>\n",
       "            <td>46.49</td>\n",
       "        </tr>\n",
       "    </tbody>\n",
       "</table>"
      ],
      "text/plain": [
       "[(53.51, 46.49)]"
      ]
     },
     "execution_count": 11,
     "metadata": {},
     "output_type": "execute_result"
    }
   ],
   "source": [
    "%%sql\n",
    "SELECT\n",
    " -- Calculate the percentage for the first half october\n",
    "    ROUND(\n",
    "        (SUM(CASE WHEN order_date BETWEEN '2020-10-01' AND '2020-10-15'\n",
    "              THEN order_total ELSE 0 END)\n",
    "        * 100.0)\n",
    "        / COALESCE(SUM(order_total), 1), 2)\n",
    "        AS first_half_october_percentage,\n",
    "\n",
    "    -- Calculate the percentage for the second half october\n",
    "    ROUND(\n",
    "        (SUM(CASE WHEN order_date BETWEEN '2020-10-16' AND '2020-10-31'\n",
    "              THEN order_total ELSE 0 END)\n",
    "        * 100.0)\n",
    "        / COALESCE(SUM(order_total), 1), 2)\n",
    "        AS second_half_october_percentage\n",
    "FROM bakery\n",
    "WHERE order_date BETWEEN '2020-10-01' AND '2020-10-31';"
   ]
  }
 ],
 "metadata": {
  "colab": {
   "provenance": []
  },
  "kernelspec": {
   "display_name": "Python 3 (ipykernel)",
   "language": "python",
   "name": "python3"
  },
  "language_info": {
   "codemirror_mode": {
    "name": "ipython",
    "version": 3
   },
   "file_extension": ".py",
   "mimetype": "text/x-python",
   "name": "python",
   "nbconvert_exporter": "python",
   "pygments_lexer": "ipython3",
   "version": "3.10.5"
  }
 },
 "nbformat": 4,
 "nbformat_minor": 5
}

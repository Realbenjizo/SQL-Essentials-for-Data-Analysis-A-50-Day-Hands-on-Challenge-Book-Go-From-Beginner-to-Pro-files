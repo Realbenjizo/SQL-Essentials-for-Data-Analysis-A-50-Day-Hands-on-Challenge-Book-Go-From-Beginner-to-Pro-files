{
 "cells": [
  {
   "cell_type": "markdown",
   "id": "rolnfshzE6cY",
   "metadata": {
    "id": "rolnfshzE6cY"
   },
   "source": [
    "## Question 1: **Answer**"
   ]
  },
  {
   "cell_type": "code",
   "execution_count": 1,
   "id": "4NSWsDEYh7nf",
   "metadata": {
    "executionInfo": {
     "elapsed": 386,
     "status": "ok",
     "timestamp": 1752942785284,
     "user": {
      "displayName": "Benjamin Bennett Alexander",
      "userId": "14614847693800833280"
     },
     "user_tz": -180
    },
    "id": "4NSWsDEYh7nf"
   },
   "outputs": [],
   "source": [
    "import pandas as pd\n",
    "import sqlite3"
   ]
  },
  {
   "cell_type": "code",
   "execution_count": null,
   "id": "ed43b263",
   "metadata": {
    "executionInfo": {
     "elapsed": 2033,
     "status": "ok",
     "timestamp": 1752942787332,
     "user": {
      "displayName": "Benjamin Bennett Alexander",
      "userId": "14614847693800833280"
     },
     "user_tz": -180
    },
    "id": "ed43b263"
   },
   "outputs": [],
   "source": [
    "def add_data_to_database(input_data_1, input_data_2):\n",
    "    try:\n",
    "        df_1 = pd.read_csv(input_data_1, )\n",
    "        df_2 = pd.read_csv(input_data_2)\n",
    "        engine = sqlite3.connect(\"customer_orders_data.db\")\n",
    "        # Creating orders table\n",
    "        df_1.to_sql('orders',con=engine, index = False)\n",
    "        # Creating order items table\n",
    "        df_2.to_sql('order_items',con=engine, index = False)\n",
    "        engine.close()\n",
    "    except Exception as e:\n",
    "            print(f\"Error: {e}\")\n",
    "\n",
    "# Loading data\n",
    "data_1 = \"/content/orders.csv\"\n",
    "data_2 = \"/content/order_items.csv\"\n",
    "add_data_to_database(data_1, data_2)"
   ]
  },
  {
   "cell_type": "code",
   "execution_count": 3,
   "id": "993a6be5",
   "metadata": {
    "executionInfo": {
     "elapsed": 185,
     "status": "ok",
     "timestamp": 1752942787513,
     "user": {
      "displayName": "Benjamin Bennett Alexander",
      "userId": "14614847693800833280"
     },
     "user_tz": -180
    },
    "id": "993a6be5"
   },
   "outputs": [],
   "source": [
    "# Loading SQL extension\n",
    "%load_ext sql"
   ]
  },
  {
   "cell_type": "code",
   "execution_count": 4,
   "id": "5387ed1f",
   "metadata": {
    "executionInfo": {
     "elapsed": 18,
     "status": "ok",
     "timestamp": 1752942787536,
     "user": {
      "displayName": "Benjamin Bennett Alexander",
      "userId": "14614847693800833280"
     },
     "user_tz": -180
    },
    "id": "5387ed1f"
   },
   "outputs": [],
   "source": [
    "# Connecting to the database\n",
    "%sql sqlite:///customer_orders_data.db"
   ]
  },
  {
   "cell_type": "code",
   "execution_count": 5,
   "id": "EZjvYPSWFWcd",
   "metadata": {
    "executionInfo": {
     "elapsed": 79,
     "status": "ok",
     "timestamp": 1752942787613,
     "user": {
      "displayName": "Benjamin Bennett Alexander",
      "userId": "14614847693800833280"
     },
     "user_tz": -180
    },
    "id": "EZjvYPSWFWcd"
   },
   "outputs": [],
   "source": [
    "# Default to duplicated style\n",
    "%config SqlMagic.style = '_DEPRECATED_DEFAULT'"
   ]
  },
  {
   "cell_type": "code",
   "execution_count": 6,
   "id": "b658a151",
   "metadata": {
    "colab": {
     "base_uri": "https://localhost:8080/",
     "height": 177
    },
    "executionInfo": {
     "elapsed": 48,
     "status": "ok",
     "timestamp": 1752942787644,
     "user": {
      "displayName": "Benjamin Bennett Alexander",
      "userId": "14614847693800833280"
     },
     "user_tz": -180
    },
    "id": "b658a151",
    "outputId": "89c5139f-a052-462f-8bc3-709394fb1240"
   },
   "outputs": [
    {
     "name": "stdout",
     "output_type": "stream",
     "text": [
      " * sqlite:///customer_orders_data.db\n",
      "Done.\n"
     ]
    },
    {
     "data": {
      "text/html": [
       "<table>\n",
       "    <thead>\n",
       "        <tr>\n",
       "            <th>order_id</th>\n",
       "            <th>customer_id</th>\n",
       "            <th>names</th>\n",
       "            <th>restaurant_id</th>\n",
       "            <th>order_date</th>\n",
       "            <th>delivery_fee</th>\n",
       "        </tr>\n",
       "    </thead>\n",
       "    <tbody>\n",
       "        <tr>\n",
       "            <td>1</td>\n",
       "            <td>101</td>\n",
       "            <td>Luca Rossi</td>\n",
       "            <td>202</td>\n",
       "            <td>2024-03-25 12:30:00</td>\n",
       "            <td>5.99</td>\n",
       "        </tr>\n",
       "        <tr>\n",
       "            <td>2</td>\n",
       "            <td>102</td>\n",
       "            <td>Park Min woo</td>\n",
       "            <td>201</td>\n",
       "            <td>2024-03-26 18:00:00</td>\n",
       "            <td>3.5</td>\n",
       "        </tr>\n",
       "        <tr>\n",
       "            <td>3</td>\n",
       "            <td>103</td>\n",
       "            <td>Akio Suzuki </td>\n",
       "            <td>203</td>\n",
       "            <td>2024-03-28 10:15:00</td>\n",
       "            <td>4.25</td>\n",
       "        </tr>\n",
       "        <tr>\n",
       "            <td>4</td>\n",
       "            <td>104</td>\n",
       "            <td>Anna Petrova</td>\n",
       "            <td>204</td>\n",
       "            <td>2021-03-29 10:15:01</td>\n",
       "            <td>4.25</td>\n",
       "        </tr>\n",
       "        <tr>\n",
       "            <td>5</td>\n",
       "            <td>105</td>\n",
       "            <td>Alexander Andersen</td>\n",
       "            <td>205</td>\n",
       "            <td>2021-03-30 10:30:02</td>\n",
       "            <td>4.25</td>\n",
       "        </tr>\n",
       "    </tbody>\n",
       "</table>"
      ],
      "text/plain": [
       "[(1, 101, 'Luca Rossi', 202, '2024-03-25 12:30:00', 5.99),\n",
       " (2, 102, 'Park Min woo', 201, '2024-03-26 18:00:00', 3.5),\n",
       " (3, 103, 'Akio Suzuki ', 203, '2024-03-28 10:15:00', 4.25),\n",
       " (4, 104, 'Anna Petrova', 204, '2021-03-29 10:15:01', 4.25),\n",
       " (5, 105, 'Alexander Andersen', 205, '2021-03-30 10:30:02', 4.25)]"
      ]
     },
     "execution_count": 6,
     "metadata": {},
     "output_type": "execute_result"
    }
   ],
   "source": [
    "%%sql\n",
    "SELECT * FROM orders\n",
    "LIMIT 5;"
   ]
  },
  {
   "cell_type": "code",
   "execution_count": 7,
   "id": "365a16ec",
   "metadata": {
    "colab": {
     "base_uri": "https://localhost:8080/",
     "height": 177
    },
    "executionInfo": {
     "elapsed": 21,
     "status": "ok",
     "timestamp": 1752942787667,
     "user": {
      "displayName": "Benjamin Bennett Alexander",
      "userId": "14614847693800833280"
     },
     "user_tz": -180
    },
    "id": "365a16ec",
    "outputId": "4a3252d3-87f8-4e14-e0af-d1feb3ede2ad"
   },
   "outputs": [
    {
     "name": "stdout",
     "output_type": "stream",
     "text": [
      " * sqlite:///customer_orders_data.db\n",
      "Done.\n"
     ]
    },
    {
     "data": {
      "text/html": [
       "<table>\n",
       "    <thead>\n",
       "        <tr>\n",
       "            <th>order_id</th>\n",
       "            <th>menu_item_id</th>\n",
       "            <th>quantity</th>\n",
       "            <th>item_price</th>\n",
       "        </tr>\n",
       "    </thead>\n",
       "    <tbody>\n",
       "        <tr>\n",
       "            <td>1</td>\n",
       "            <td>11</td>\n",
       "            <td>2</td>\n",
       "            <td>9.99</td>\n",
       "        </tr>\n",
       "        <tr>\n",
       "            <td>2</td>\n",
       "            <td>12</td>\n",
       "            <td>1</td>\n",
       "            <td>12.47</td>\n",
       "        </tr>\n",
       "        <tr>\n",
       "            <td>3</td>\n",
       "            <td>14</td>\n",
       "            <td>1</td>\n",
       "            <td>18.95</td>\n",
       "        </tr>\n",
       "        <tr>\n",
       "            <td>4</td>\n",
       "            <td>15</td>\n",
       "            <td>2</td>\n",
       "            <td>1.42</td>\n",
       "        </tr>\n",
       "        <tr>\n",
       "            <td>5</td>\n",
       "            <td>13</td>\n",
       "            <td>3</td>\n",
       "            <td>11.5</td>\n",
       "        </tr>\n",
       "    </tbody>\n",
       "</table>"
      ],
      "text/plain": [
       "[(1, 11, 2, 9.99),\n",
       " (2, 12, 1, 12.47),\n",
       " (3, 14, 1, 18.95),\n",
       " (4, 15, 2, 1.42),\n",
       " (5, 13, 3, 11.5)]"
      ]
     },
     "execution_count": 7,
     "metadata": {},
     "output_type": "execute_result"
    }
   ],
   "source": [
    "%%sql\n",
    "SELECT * FROM order_items\n",
    "LIMIT 5;"
   ]
  },
  {
   "cell_type": "markdown",
   "id": "8f87fe01",
   "metadata": {
    "id": "8f87fe01"
   },
   "source": [
    "## Question 2: **Answer**"
   ]
  },
  {
   "cell_type": "code",
   "execution_count": 8,
   "id": "_bA4W0Y7ImXt",
   "metadata": {
    "colab": {
     "base_uri": "https://localhost:8080/"
    },
    "executionInfo": {
     "elapsed": 27,
     "status": "ok",
     "timestamp": 1752942787697,
     "user": {
      "displayName": "Benjamin Bennett Alexander",
      "userId": "14614847693800833280"
     },
     "user_tz": -180
    },
    "id": "_bA4W0Y7ImXt",
    "outputId": "12e46a5f-49ec-4e9d-f7e4-7402b4f77ea3"
   },
   "outputs": [
    {
     "name": "stdout",
     "output_type": "stream",
     "text": [
      " * sqlite:///customer_orders_data.db\n",
      "Done.\n"
     ]
    },
    {
     "data": {
      "text/plain": [
       "[]"
      ]
     },
     "execution_count": 8,
     "metadata": {},
     "output_type": "execute_result"
    }
   ],
   "source": [
    "%%sql\n",
    "-- Step 1: Create a view for customer spending\n",
    "CREATE VIEW IF NOT EXISTS customer_spend AS\n",
    "SELECT\n",
    "    o.names,\n",
    "    oi.quantity,\n",
    "    oi.item_price,\n",
    "    o.delivery_fee\n",
    "FROM orders o\n",
    "JOIN order_items oi\n",
    "-- Joining tables on order_id columns\n",
    "ON o.order_id = oi.order_id;"
   ]
  },
  {
   "cell_type": "code",
   "execution_count": 9,
   "id": "03UYU-S1Iuwl",
   "metadata": {
    "colab": {
     "base_uri": "https://localhost:8080/",
     "height": 94
    },
    "executionInfo": {
     "elapsed": 97,
     "status": "ok",
     "timestamp": 1752942787798,
     "user": {
      "displayName": "Benjamin Bennett Alexander",
      "userId": "14614847693800833280"
     },
     "user_tz": -180
    },
    "id": "03UYU-S1Iuwl",
    "outputId": "ae97f82f-8bdf-4de2-848f-61cbd3ddfbf1"
   },
   "outputs": [
    {
     "name": "stdout",
     "output_type": "stream",
     "text": [
      " * sqlite:///customer_orders_data.db\n",
      "Done.\n"
     ]
    },
    {
     "data": {
      "text/html": [
       "<table>\n",
       "    <thead>\n",
       "        <tr>\n",
       "            <th>names</th>\n",
       "            <th>total_bill</th>\n",
       "        </tr>\n",
       "    </thead>\n",
       "    <tbody>\n",
       "        <tr>\n",
       "            <td>Luca Rossi</td>\n",
       "            <td>&nbsp;&nbsp;&nbsp;&nbsp;&nbsp;25.97</td>\n",
       "        </tr>\n",
       "    </tbody>\n",
       "</table>"
      ],
      "text/plain": [
       "[('Luca Rossi', '     25.97')]"
      ]
     },
     "execution_count": 9,
     "metadata": {},
     "output_type": "execute_result"
    }
   ],
   "source": [
    "%%sql\n",
    "-- Step 2: Query to calculate Luca Rossi's total bill\n",
    "SELECT\n",
    "    names,\n",
    "    printf('%10s', SUM(quantity * item_price) + delivery_fee)\n",
    "    AS total_bill\n",
    "FROM customer_spend\n",
    "WHERE names = 'Luca Rossi'\n",
    "GROUP BY names;"
   ]
  },
  {
   "cell_type": "markdown",
   "id": "6428a745",
   "metadata": {
    "id": "6428a745"
   },
   "source": [
    "## Question 3: **Answer**"
   ]
  },
  {
   "cell_type": "code",
   "execution_count": 10,
   "id": "57a79f27",
   "metadata": {
    "colab": {
     "base_uri": "https://localhost:8080/",
     "height": 115
    },
    "executionInfo": {
     "elapsed": 71,
     "status": "ok",
     "timestamp": 1752942787800,
     "user": {
      "displayName": "Benjamin Bennett Alexander",
      "userId": "14614847693800833280"
     },
     "user_tz": -180
    },
    "id": "57a79f27",
    "outputId": "65dc459c-84a2-4dbe-c536-fbe04fb170e0"
   },
   "outputs": [
    {
     "name": "stdout",
     "output_type": "stream",
     "text": [
      " * sqlite:///customer_orders_data.db\n",
      "Done.\n"
     ]
    },
    {
     "data": {
      "text/html": [
       "<table>\n",
       "    <thead>\n",
       "        <tr>\n",
       "            <th>names</th>\n",
       "            <th>total_spend</th>\n",
       "        </tr>\n",
       "    </thead>\n",
       "    <tbody>\n",
       "        <tr>\n",
       "            <td>Yuki Tanaka</td>\n",
       "            <td>4.92</td>\n",
       "        </tr>\n",
       "        <tr>\n",
       "            <td>Lars Johansson</td>\n",
       "            <td>6.34</td>\n",
       "        </tr>\n",
       "    </tbody>\n",
       "</table>"
      ],
      "text/plain": [
       "[('Yuki Tanaka', 4.92), ('Lars Johansson', 6.34)]"
      ]
     },
     "execution_count": 10,
     "metadata": {},
     "output_type": "execute_result"
    }
   ],
   "source": [
    "%%sql\n",
    "-- Using a CTE to rank the customers by total spend\n",
    "WITH ranked_spending AS (\n",
    "    SELECT\n",
    "        names,\n",
    "        SUM(quantity * item_price) + delivery_fee AS total_spend,\n",
    "        RANK() OVER (ORDER BY SUM(quantity * item_price) + delivery_fee ASC)\n",
    "        AS spending_rank\n",
    "    FROM customer_spend\n",
    "    GROUP BY names, delivery_fee\n",
    ")\n",
    "-- Select the two lowest-ranked customers (including ties)\n",
    "SELECT\n",
    "    names,\n",
    "    total_spend\n",
    "FROM ranked_spending\n",
    "WHERE spending_rank <= 2\n",
    "ORDER BY total_spend ASC;"
   ]
  },
  {
   "cell_type": "markdown",
   "id": "e08216f7",
   "metadata": {
    "id": "e08216f7"
   },
   "source": [
    "## Question 4: **Answer**"
   ]
  },
  {
   "cell_type": "code",
   "execution_count": 11,
   "id": "892-gMLWsnG5",
   "metadata": {
    "colab": {
     "base_uri": "https://localhost:8080/"
    },
    "executionInfo": {
     "elapsed": 36,
     "status": "ok",
     "timestamp": 1752942787804,
     "user": {
      "displayName": "Benjamin Bennett Alexander",
      "userId": "14614847693800833280"
     },
     "user_tz": -180
    },
    "id": "892-gMLWsnG5",
    "outputId": "8704d51f-eadd-4bc1-d824-b886541925b2"
   },
   "outputs": [
    {
     "name": "stdout",
     "output_type": "stream",
     "text": [
      " * sqlite:///customer_orders_data.db\n",
      "Done.\n"
     ]
    },
    {
     "data": {
      "text/plain": [
       "[]"
      ]
     },
     "execution_count": 11,
     "metadata": {},
     "output_type": "execute_result"
    }
   ],
   "source": [
    "%%sql\n",
    "-- A view to calculate the total quantities for each menu item\n",
    "CREATE VIEW IF NOT EXISTS menu_restaurant_quantity AS\n",
    "SELECT\n",
    "    order_items.menu_item_id,\n",
    "    orders.restaurant_id,\n",
    "    SUM(order_items.quantity) AS total_quantity\n",
    "FROM order_items\n",
    "JOIN orders\n",
    "ON orders.order_id = order_items.order_id\n",
    "GROUP BY order_items.menu_item_id, orders.restaurant_id;"
   ]
  },
  {
   "cell_type": "code",
   "execution_count": 12,
   "id": "ijdMXIqywJzx",
   "metadata": {
    "colab": {
     "base_uri": "https://localhost:8080/",
     "height": 94
    },
    "executionInfo": {
     "elapsed": 31,
     "status": "ok",
     "timestamp": 1752942787832,
     "user": {
      "displayName": "Benjamin Bennett Alexander",
      "userId": "14614847693800833280"
     },
     "user_tz": -180
    },
    "id": "ijdMXIqywJzx",
    "outputId": "b852f573-3db0-4556-dfd4-def460826e4f"
   },
   "outputs": [
    {
     "name": "stdout",
     "output_type": "stream",
     "text": [
      " * sqlite:///customer_orders_data.db\n",
      "Done.\n"
     ]
    },
    {
     "data": {
      "text/html": [
       "<table>\n",
       "    <thead>\n",
       "        <tr>\n",
       "            <th>menu_item_id</th>\n",
       "            <th>restaurant_id</th>\n",
       "            <th>total_quantity</th>\n",
       "        </tr>\n",
       "    </thead>\n",
       "    <tbody>\n",
       "        <tr>\n",
       "            <td>22</td>\n",
       "            <td>212</td>\n",
       "            <td>7</td>\n",
       "        </tr>\n",
       "    </tbody>\n",
       "</table>"
      ],
      "text/plain": [
       "[(22, 212, 7)]"
      ]
     },
     "execution_count": 12,
     "metadata": {},
     "output_type": "execute_result"
    }
   ],
   "source": [
    "%%sql\n",
    "-- find the menu item with the highest ordered quantity\n",
    "SELECT\n",
    "    menu_item_id,\n",
    "    restaurant_id,\n",
    "    total_quantity\n",
    "FROM menu_restaurant_quantity\n",
    "WHERE total_quantity = (SELECT MAX(total_quantity) FROM menu_restaurant_quantity);"
   ]
  },
  {
   "cell_type": "markdown",
   "id": "exMGisweVyP2",
   "metadata": {
    "id": "exMGisweVyP2"
   },
   "source": [
    "## Question 5: **Answer**"
   ]
  },
  {
   "cell_type": "code",
   "execution_count": 13,
   "id": "s4tgXznbPMIm",
   "metadata": {
    "colab": {
     "base_uri": "https://localhost:8080/",
     "height": 112
    },
    "executionInfo": {
     "elapsed": 60,
     "status": "ok",
     "timestamp": 1752942787894,
     "user": {
      "displayName": "Benjamin Bennett Alexander",
      "userId": "14614847693800833280"
     },
     "user_tz": -180
    },
    "id": "s4tgXznbPMIm",
    "outputId": "421347dd-cc56-4a26-bb5d-efb4b225c210"
   },
   "outputs": [
    {
     "name": "stdout",
     "output_type": "stream",
     "text": [
      " * sqlite:///customer_orders_data.db\n",
      "Done.\n",
      "Done.\n"
     ]
    },
    {
     "data": {
      "text/html": [
       "<table>\n",
       "    <thead>\n",
       "        <tr>\n",
       "            <th>order_year</th>\n",
       "            <th>menu_item_id</th>\n",
       "            <th>restaurant_id</th>\n",
       "            <th>margin</th>\n",
       "        </tr>\n",
       "    </thead>\n",
       "    <tbody>\n",
       "        <tr>\n",
       "            <td>2021</td>\n",
       "            <td>22</td>\n",
       "            <td>212</td>\n",
       "            <td>65.68</td>\n",
       "        </tr>\n",
       "    </tbody>\n",
       "</table>"
      ],
      "text/plain": [
       "[('2021', 22, 212, 65.68)]"
      ]
     },
     "execution_count": 13,
     "metadata": {},
     "output_type": "execute_result"
    }
   ],
   "source": [
    "%%sql\n",
    "-- calculate the total revenue and margin for each menu item\n",
    "CREATE VIEW IF NOT EXISTS menu_item_margin AS\n",
    "SELECT\n",
    "    o.order_date,\n",
    "    oi.menu_item_id,\n",
    "    o.restaurant_id,\n",
    "    SUM(oi.quantity * oi.item_price) AS total_revenue,\n",
    "    SUM(o.delivery_fee) AS total_delivery_fee,\n",
    "    SUM(oi.quantity * oi.item_price) - SUM(o.delivery_fee) AS margin\n",
    "FROM order_items oi\n",
    "JOIN orders o\n",
    "    ON oi.order_id = o.order_id\n",
    "WHERE STRFTIME('%Y', o.order_date) = '2021'\n",
    "GROUP BY oi.menu_item_id, o.restaurant_id;\n",
    "\n",
    "-- Returning IDs with the highest margin\n",
    "SELECT\n",
    "    STRFTIME('%Y', order_date) AS order_year,\n",
    "    menu_item_id,\n",
    "    restaurant_id,\n",
    "    margin\n",
    "FROM menu_item_margin\n",
    "WHERE margin = (SELECT MAX(margin) FROM menu_item_margin);"
   ]
  },
  {
   "cell_type": "code",
   "execution_count": 14,
   "id": "gquHfyNqRAEd",
   "metadata": {
    "executionInfo": {
     "elapsed": 25,
     "status": "ok",
     "timestamp": 1752942787903,
     "user": {
      "displayName": "Benjamin Bennett Alexander",
      "userId": "14614847693800833280"
     },
     "user_tz": -180
    },
    "id": "gquHfyNqRAEd"
   },
   "outputs": [],
   "source": [
    "# %%sql\n",
    "# DROP VIEW menu_item_margin;"
   ]
  }
 ],
 "metadata": {
  "colab": {
   "provenance": []
  },
  "kernelspec": {
   "display_name": "Python 3 (ipykernel)",
   "language": "python",
   "name": "python3"
  },
  "language_info": {
   "codemirror_mode": {
    "name": "ipython",
    "version": 3
   },
   "file_extension": ".py",
   "mimetype": "text/x-python",
   "name": "python",
   "nbconvert_exporter": "python",
   "pygments_lexer": "ipython3",
   "version": "3.10.5"
  }
 },
 "nbformat": 4,
 "nbformat_minor": 5
}

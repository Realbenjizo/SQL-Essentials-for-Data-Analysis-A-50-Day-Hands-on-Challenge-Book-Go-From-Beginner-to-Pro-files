{
 "cells": [
  {
   "cell_type": "markdown",
   "id": "eOmkQ2SG4XEv",
   "metadata": {
    "id": "eOmkQ2SG4XEv"
   },
   "source": [
    "## Question 1: **Answer**"
   ]
  },
  {
   "cell_type": "code",
   "execution_count": 1,
   "id": "d0f5693c",
   "metadata": {
    "executionInfo": {
     "elapsed": 30,
     "status": "ok",
     "timestamp": 1752851586833,
     "user": {
      "displayName": "Benjamin Bennett Alexander",
      "userId": "14614847693800833280"
     },
     "user_tz": -180
    },
    "id": "d0f5693c"
   },
   "outputs": [],
   "source": [
    "import sqlite3\n",
    "import csv"
   ]
  },
  {
   "cell_type": "code",
   "execution_count": null,
   "id": "43d6d773",
   "metadata": {
    "executionInfo": {
     "elapsed": 1158,
     "status": "ok",
     "timestamp": 1752851587985,
     "user": {
      "displayName": "Benjamin Bennett Alexander",
      "userId": "14614847693800833280"
     },
     "user_tz": -180
    },
    "id": "43d6d773"
   },
   "outputs": [],
   "source": [
    "def add_inspirational_data(input_data):\n",
    "    try:\n",
    "        conn = sqlite3.connect(\"inspirational_data.db\")\n",
    "        cursor = conn.cursor()\n",
    "        cursor.execute(\"\"\"\n",
    "        CREATE TABLE IF NOT EXISTS inspirational (\n",
    "            id PRIMARY KEY,\n",
    "            quote TEXT,\n",
    "            author TEXT)\n",
    "            \"\"\"\n",
    "        )\n",
    "        with open(input_data, \"r\") as csv_file:\n",
    "            csv_reader = csv.reader(csv_file)\n",
    "            # skip headers\n",
    "            next(csv_reader)\n",
    "            for row in csv_reader:\n",
    "                cursor.execute(\"INSERT INTO inspirational VALUES (?, ?, ?)\", row)\n",
    "        conn.commit()\n",
    "    except Exception as e:\n",
    "        print(f\"Error: {e}\")\n",
    "    finally:\n",
    "        conn.close()\n",
    "\n",
    "data = \"/content/inspirational_quotes.csv\"\n",
    "add_inspirational_data(data)"
   ]
  },
  {
   "cell_type": "code",
   "execution_count": 3,
   "id": "8886ded0",
   "metadata": {
    "executionInfo": {
     "elapsed": 1155,
     "status": "ok",
     "timestamp": 1752851589142,
     "user": {
      "displayName": "Benjamin Bennett Alexander",
      "userId": "14614847693800833280"
     },
     "user_tz": -180
    },
    "id": "8886ded0"
   },
   "outputs": [],
   "source": [
    "# Loading the extension\n",
    "%load_ext sql"
   ]
  },
  {
   "cell_type": "code",
   "execution_count": 4,
   "id": "fa343252",
   "metadata": {
    "executionInfo": {
     "elapsed": 24,
     "status": "ok",
     "timestamp": 1752851589186,
     "user": {
      "displayName": "Benjamin Bennett Alexander",
      "userId": "14614847693800833280"
     },
     "user_tz": -180
    },
    "id": "fa343252"
   },
   "outputs": [],
   "source": [
    "# Using the extension to connect to database\n",
    "%sql sqlite:///inspirational_data.db"
   ]
  },
  {
   "cell_type": "code",
   "execution_count": 5,
   "id": "2ggY1vObdLtD",
   "metadata": {
    "executionInfo": {
     "elapsed": 133,
     "status": "ok",
     "timestamp": 1752851589323,
     "user": {
      "displayName": "Benjamin Bennett Alexander",
      "userId": "14614847693800833280"
     },
     "user_tz": -180
    },
    "id": "2ggY1vObdLtD"
   },
   "outputs": [],
   "source": [
    "# Default to duplicated style\n",
    "%config SqlMagic.style = '_DEPRECATED_DEFAULT'"
   ]
  },
  {
   "cell_type": "code",
   "execution_count": 6,
   "id": "9af908d7",
   "metadata": {
    "colab": {
     "base_uri": "https://localhost:8080/",
     "height": 177
    },
    "executionInfo": {
     "elapsed": 84,
     "status": "ok",
     "timestamp": 1752851589326,
     "user": {
      "displayName": "Benjamin Bennett Alexander",
      "userId": "14614847693800833280"
     },
     "user_tz": -180
    },
    "id": "9af908d7",
    "outputId": "12c70df7-f36f-45fc-9a8f-85de6d63c79b"
   },
   "outputs": [
    {
     "name": "stdout",
     "output_type": "stream",
     "text": [
      " * sqlite:///inspirational_data.db\n",
      "Done.\n"
     ]
    },
    {
     "data": {
      "text/html": [
       "<table>\n",
       "    <thead>\n",
       "        <tr>\n",
       "            <th>id</th>\n",
       "            <th>quote</th>\n",
       "            <th>author</th>\n",
       "        </tr>\n",
       "    </thead>\n",
       "    <tbody>\n",
       "        <tr>\n",
       "            <td>1</td>\n",
       "            <td>The only way to do great work is to love what you do.</td>\n",
       "            <td>Steve Jobs</td>\n",
       "        </tr>\n",
       "        <tr>\n",
       "            <td>2</td>\n",
       "            <td>Believe you can and you&#x27;re halfway there.</td>\n",
       "            <td>Theodore Roosevelt</td>\n",
       "        </tr>\n",
       "        <tr>\n",
       "            <td>3</td>\n",
       "            <td>Success is not final, failure is not fatal: It is the courage to continue that counts.</td>\n",
       "            <td>Winston Churchill</td>\n",
       "        </tr>\n",
       "        <tr>\n",
       "            <td>4</td>\n",
       "            <td>The only limit to our realization of tomorrow will be our doubts of today.</td>\n",
       "            <td>Franklin D. Roosevelt</td>\n",
       "        </tr>\n",
       "        <tr>\n",
       "            <td>5</td>\n",
       "            <td>The only source of knowledge is experience.</td>\n",
       "            <td>Albert Einstein</td>\n",
       "        </tr>\n",
       "    </tbody>\n",
       "</table>"
      ],
      "text/plain": [
       "[('1', 'The only way to do great work is to love what you do.', 'Steve Jobs'),\n",
       " ('2', \"Believe you can and you're halfway there.\", 'Theodore Roosevelt'),\n",
       " ('3', 'Success is not final, failure is not fatal: It is the courage to continue that counts.', 'Winston Churchill'),\n",
       " ('4', 'The only limit to our realization of tomorrow will be our doubts of today.', 'Franklin D. Roosevelt'),\n",
       " ('5', 'The only source of knowledge is experience.', 'Albert Einstein')]"
      ]
     },
     "execution_count": 6,
     "metadata": {},
     "output_type": "execute_result"
    }
   ],
   "source": [
    "%%sql\n",
    "SELECT * FROM inspirational\n",
    "LIMIT 5;"
   ]
  },
  {
   "cell_type": "markdown",
   "id": "ZrMt9ZiSjnDT",
   "metadata": {
    "id": "ZrMt9ZiSjnDT"
   },
   "source": [
    "## Questions 2: **Answer**"
   ]
  },
  {
   "cell_type": "code",
   "execution_count": 7,
   "id": "BT8fFQlNjsZK",
   "metadata": {
    "colab": {
     "base_uri": "https://localhost:8080/",
     "height": 94
    },
    "executionInfo": {
     "elapsed": 61,
     "status": "ok",
     "timestamp": 1752851589352,
     "user": {
      "displayName": "Benjamin Bennett Alexander",
      "userId": "14614847693800833280"
     },
     "user_tz": -180
    },
    "id": "BT8fFQlNjsZK",
    "outputId": "600db123-fe5d-4272-996b-c2170e01e22a"
   },
   "outputs": [
    {
     "name": "stdout",
     "output_type": "stream",
     "text": [
      " * sqlite:///inspirational_data.db\n",
      "Done.\n"
     ]
    },
    {
     "data": {
      "text/html": [
       "<table>\n",
       "    <thead>\n",
       "        <tr>\n",
       "            <th>quote</th>\n",
       "            <th>author</th>\n",
       "            <th>quote_length</th>\n",
       "        </tr>\n",
       "    </thead>\n",
       "    <tbody>\n",
       "        <tr>\n",
       "            <td>Don&#x27;t watch the clock; do what it does. Keep going.</td>\n",
       "            <td>Sam Levenson</td>\n",
       "            <td>&nbsp;&nbsp;&nbsp;&nbsp;&nbsp;&nbsp;&nbsp;&nbsp;&nbsp;&nbsp;&nbsp;&nbsp;&nbsp;&nbsp;&nbsp;&nbsp;&nbsp;&nbsp;42</td>\n",
       "        </tr>\n",
       "    </tbody>\n",
       "</table>"
      ],
      "text/plain": [
       "[(\"Don't watch the clock; do what it does. Keep going.\", 'Sam Levenson', '                  42')]"
      ]
     },
     "execution_count": 7,
     "metadata": {},
     "output_type": "execute_result"
    }
   ],
   "source": [
    "%%sql\n",
    "SELECT\n",
    "    quote,\n",
    "    author,\n",
    "    printf('%20s', LENGTH(REPLACE(quote, \" \", \"\"))) AS quote_length\n",
    "FROM inspirational\n",
    "WHERE quote LIKE '%do what it does%';"
   ]
  },
  {
   "cell_type": "markdown",
   "id": "m88Z0GeztL9A",
   "metadata": {
    "id": "m88Z0GeztL9A"
   },
   "source": [
    "## Question 3: **Answer**"
   ]
  },
  {
   "cell_type": "code",
   "execution_count": 8,
   "id": "kX8HM1M9uGXd",
   "metadata": {
    "colab": {
     "base_uri": "https://localhost:8080/",
     "height": 177
    },
    "executionInfo": {
     "elapsed": 65,
     "status": "ok",
     "timestamp": 1752851589369,
     "user": {
      "displayName": "Benjamin Bennett Alexander",
      "userId": "14614847693800833280"
     },
     "user_tz": -180
    },
    "id": "kX8HM1M9uGXd",
    "outputId": "0244ba29-8af1-4251-d1ff-224a5fedd802"
   },
   "outputs": [
    {
     "name": "stdout",
     "output_type": "stream",
     "text": [
      " * sqlite:///inspirational_data.db\n",
      "Done.\n"
     ]
    },
    {
     "data": {
      "text/html": [
       "<table>\n",
       "    <thead>\n",
       "        <tr>\n",
       "            <th>first_name</th>\n",
       "            <th>last_name</th>\n",
       "        </tr>\n",
       "    </thead>\n",
       "    <tbody>\n",
       "        <tr>\n",
       "            <td>Steve</td>\n",
       "            <td>Jobs</td>\n",
       "        </tr>\n",
       "        <tr>\n",
       "            <td>Theodore</td>\n",
       "            <td>Roosevelt</td>\n",
       "        </tr>\n",
       "        <tr>\n",
       "            <td>Winston</td>\n",
       "            <td>Churchill</td>\n",
       "        </tr>\n",
       "        <tr>\n",
       "            <td>Franklin</td>\n",
       "            <td>D. Roosevelt</td>\n",
       "        </tr>\n",
       "        <tr>\n",
       "            <td>Albert</td>\n",
       "            <td>Einstein</td>\n",
       "        </tr>\n",
       "    </tbody>\n",
       "</table>"
      ],
      "text/plain": [
       "[('Steve', 'Jobs'),\n",
       " ('Theodore', 'Roosevelt'),\n",
       " ('Winston', 'Churchill'),\n",
       " ('Franklin', 'D. Roosevelt'),\n",
       " ('Albert', 'Einstein')]"
      ]
     },
     "execution_count": 8,
     "metadata": {},
     "output_type": "execute_result"
    }
   ],
   "source": [
    "%%sql\n",
    "SELECT\n",
    "    CASE\n",
    "        WHEN INSTR(author, ' ') > 0 THEN SUBSTR(author, 1, INSTR(author, ' ') - 1)\n",
    "        ELSE author\n",
    "    END AS first_name,\n",
    "    CASE\n",
    "        WHEN INSTR(author, ' ') > 0 THEN SUBSTR(author, INSTR(author, ' ') + 1)\n",
    "        ELSE ''\n",
    "    END AS last_name\n",
    "FROM inspirational\n",
    "LIMIT 5;"
   ]
  },
  {
   "cell_type": "markdown",
   "id": "nEXR9c7OBo6K",
   "metadata": {
    "id": "nEXR9c7OBo6K"
   },
   "source": [
    "## Question 4: **Answer**"
   ]
  },
  {
   "cell_type": "code",
   "execution_count": 9,
   "id": "dDkXieHtBtaD",
   "metadata": {
    "colab": {
     "base_uri": "https://localhost:8080/",
     "height": 136
    },
    "executionInfo": {
     "elapsed": 70,
     "status": "ok",
     "timestamp": 1752851589441,
     "user": {
      "displayName": "Benjamin Bennett Alexander",
      "userId": "14614847693800833280"
     },
     "user_tz": -180
    },
    "id": "dDkXieHtBtaD",
    "outputId": "a4845536-330b-4aaa-99cf-01ae24c08bec"
   },
   "outputs": [
    {
     "name": "stdout",
     "output_type": "stream",
     "text": [
      " * sqlite:///inspirational_data.db\n",
      "Done.\n"
     ]
    },
    {
     "data": {
      "text/html": [
       "<table>\n",
       "    <thead>\n",
       "        <tr>\n",
       "            <th>quote</th>\n",
       "            <th>quote_length</th>\n",
       "        </tr>\n",
       "    </thead>\n",
       "    <tbody>\n",
       "        <tr>\n",
       "            <td>Believe in yourself and all that you are. Know that there is something inside you that is greater than any obstacle.</td>\n",
       "            <td>94</td>\n",
       "        </tr>\n",
       "        <tr>\n",
       "            <td>What you get by achieving your goals is not as important as what you become by achieving your goals.</td>\n",
       "            <td>81</td>\n",
       "        </tr>\n",
       "        <tr>\n",
       "            <td>Success is not final, failure is not fatal: It is the courage to continue that counts.</td>\n",
       "            <td>68</td>\n",
       "        </tr>\n",
       "    </tbody>\n",
       "</table>"
      ],
      "text/plain": [
       "[('Believe in yourself and all that you are. Know that there is something inside you that is greater than any obstacle.', 94),\n",
       " ('What you get by achieving your goals is not as important as what you become by achieving your goals.', 81),\n",
       " ('Success is not final, failure is not fatal: It is the courage to continue that counts.', 68)]"
      ]
     },
     "execution_count": 9,
     "metadata": {},
     "output_type": "execute_result"
    }
   ],
   "source": [
    "%%sql\n",
    "SELECT\n",
    "    quote,\n",
    "    LENGTH(REPLACE(\n",
    "        REPLACE(\n",
    "            REPLACE(\n",
    "                REPLACE(\n",
    "                    REPLACE(quote, '.', ''), ',', ''), ':', ''), ';', ''), ' ', ''))\n",
    "                    AS quote_length\n",
    "FROM inspirational\n",
    "ORDER BY quote_length DESC\n",
    "LIMIT 3;"
   ]
  },
  {
   "cell_type": "markdown",
   "id": "1e73b331",
   "metadata": {
    "id": "1e73b331"
   },
   "source": [
    "## Question 5: **Answer**\n"
   ]
  },
  {
   "cell_type": "code",
   "execution_count": 10,
   "id": "c25b5aae",
   "metadata": {
    "colab": {
     "base_uri": "https://localhost:8080/"
    },
    "executionInfo": {
     "elapsed": 49,
     "status": "ok",
     "timestamp": 1752851589444,
     "user": {
      "displayName": "Benjamin Bennett Alexander",
      "userId": "14614847693800833280"
     },
     "user_tz": -180
    },
    "id": "c25b5aae",
    "outputId": "820a02a7-d27b-4978-e1f5-4622d3b710aa"
   },
   "outputs": [
    {
     "name": "stdout",
     "output_type": "stream",
     "text": [
      " * sqlite:///inspirational_data.db\n",
      "20 rows affected.\n"
     ]
    },
    {
     "data": {
      "text/plain": [
       "[]"
      ]
     },
     "execution_count": 10,
     "metadata": {},
     "output_type": "execute_result"
    }
   ],
   "source": [
    "%%sql\n",
    "UPDATE inspirational\n",
    "SET quote = UPPER(TRIM(quote));"
   ]
  },
  {
   "cell_type": "code",
   "execution_count": 11,
   "id": "WOBRCOvilahQ",
   "metadata": {
    "colab": {
     "base_uri": "https://localhost:8080/",
     "height": 94
    },
    "executionInfo": {
     "elapsed": 43,
     "status": "ok",
     "timestamp": 1752851589489,
     "user": {
      "displayName": "Benjamin Bennett Alexander",
      "userId": "14614847693800833280"
     },
     "user_tz": -180
    },
    "id": "WOBRCOvilahQ",
    "outputId": "a4dea183-74d1-4704-9bf8-d8dface76a51"
   },
   "outputs": [
    {
     "name": "stdout",
     "output_type": "stream",
     "text": [
      " * sqlite:///inspirational_data.db\n",
      "Done.\n"
     ]
    },
    {
     "data": {
      "text/html": [
       "<table>\n",
       "    <thead>\n",
       "        <tr>\n",
       "            <th>not_updated_rows</th>\n",
       "        </tr>\n",
       "    </thead>\n",
       "    <tbody>\n",
       "        <tr>\n",
       "            <td>0</td>\n",
       "        </tr>\n",
       "    </tbody>\n",
       "</table>"
      ],
      "text/plain": [
       "[(0,)]"
      ]
     },
     "execution_count": 11,
     "metadata": {},
     "output_type": "execute_result"
    }
   ],
   "source": [
    "%%sql\n",
    "SELECT COUNT(*) AS not_updated_rows\n",
    "FROM inspirational\n",
    "WHERE quote GLOB '*[a-z]*' AND quote != TRIM(quote);"
   ]
  }
 ],
 "metadata": {
  "colab": {
   "provenance": []
  },
  "kernelspec": {
   "display_name": "Python 3 (ipykernel)",
   "language": "python",
   "name": "python3"
  },
  "language_info": {
   "codemirror_mode": {
    "name": "ipython",
    "version": 3
   },
   "file_extension": ".py",
   "mimetype": "text/x-python",
   "name": "python",
   "nbconvert_exporter": "python",
   "pygments_lexer": "ipython3",
   "version": "3.10.5"
  }
 },
 "nbformat": 4,
 "nbformat_minor": 5
}

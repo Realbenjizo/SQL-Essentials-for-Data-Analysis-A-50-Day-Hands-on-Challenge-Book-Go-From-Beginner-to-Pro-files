{
 "cells": [
  {
   "cell_type": "markdown",
   "metadata": {
    "id": "YpGTDv5XlmNB"
   },
   "source": [
    "## Question 1: **Answer**"
   ]
  },
  {
   "cell_type": "code",
   "execution_count": 1,
   "metadata": {
    "executionInfo": {
     "elapsed": 395,
     "status": "ok",
     "timestamp": 1752946994588,
     "user": {
      "displayName": "Benjamin Bennett Alexander",
      "userId": "14614847693800833280"
     },
     "user_tz": -180
    },
    "id": "AZOpHGs7rHGg"
   },
   "outputs": [],
   "source": [
    "import pandas as pd\n",
    "import sqlite3\n",
    "import matplotlib.pyplot as plt"
   ]
  },
  {
   "cell_type": "code",
   "execution_count": null,
   "metadata": {
    "executionInfo": {
     "elapsed": 2878,
     "status": "ok",
     "timestamp": 1752946997494,
     "user": {
      "displayName": "Benjamin Bennett Alexander",
      "userId": "14614847693800833280"
     },
     "user_tz": -180
    },
    "id": "HpIgRcy7qhLQ"
   },
   "outputs": [],
   "source": [
    "def add_data_to_database(input_data):\n",
    "    try:\n",
    "        # Creating a DataFrame\n",
    "        df = pd.read_csv(input_data)\n",
    "        # Connecting to database\n",
    "        engine = sqlite3.connect(\"electronics_sales_data.db\")\n",
    "        df.to_sql(\"electronics\", con=engine, index = False)\n",
    "        engine.close()\n",
    "    except Exception as e:\n",
    "            print(f'Error: {e}')\n",
    "\n",
    "# Loading data\n",
    "input_data = \"/content/Electronic_Sales.csv\"\n",
    "add_data_to_database(input_data)"
   ]
  },
  {
   "cell_type": "code",
   "execution_count": 3,
   "metadata": {
    "executionInfo": {
     "elapsed": 817,
     "status": "ok",
     "timestamp": 1752946998315,
     "user": {
      "displayName": "Benjamin Bennett Alexander",
      "userId": "14614847693800833280"
     },
     "user_tz": -180
    },
    "id": "C1Yg1z1UrF8v"
   },
   "outputs": [],
   "source": [
    "# Loading Magic extension\n",
    "%load_ext sql"
   ]
  },
  {
   "cell_type": "code",
   "execution_count": 4,
   "metadata": {
    "executionInfo": {
     "elapsed": 44,
     "status": "ok",
     "timestamp": 1752946998368,
     "user": {
      "displayName": "Benjamin Bennett Alexander",
      "userId": "14614847693800833280"
     },
     "user_tz": -180
    },
    "id": "ztAcda7hrRU-"
   },
   "outputs": [],
   "source": [
    "# Connecting to the database\n",
    "%sql sqlite:///electronics_sales_data.db"
   ]
  },
  {
   "cell_type": "code",
   "execution_count": 5,
   "metadata": {
    "executionInfo": {
     "elapsed": 36,
     "status": "ok",
     "timestamp": 1752946998402,
     "user": {
      "displayName": "Benjamin Bennett Alexander",
      "userId": "14614847693800833280"
     },
     "user_tz": -180
    },
    "id": "v3rIN0CYrUk2"
   },
   "outputs": [],
   "source": [
    "# Default to duplicated style\n",
    "%config SqlMagic.style = '_DEPRECATED_DEFAULT'"
   ]
  },
  {
   "cell_type": "code",
   "execution_count": 6,
   "metadata": {
    "colab": {
     "base_uri": "https://localhost:8080/",
     "height": 177
    },
    "executionInfo": {
     "elapsed": 88,
     "status": "ok",
     "timestamp": 1752946998489,
     "user": {
      "displayName": "Benjamin Bennett Alexander",
      "userId": "14614847693800833280"
     },
     "user_tz": -180
    },
    "id": "Mugm9r4usRVW",
    "outputId": "3a1c0235-ab1d-4451-eb90-7c8eb1d71117"
   },
   "outputs": [
    {
     "name": "stdout",
     "output_type": "stream",
     "text": [
      " * sqlite:///electronics_sales_data.db\n",
      "Done.\n"
     ]
    },
    {
     "data": {
      "text/html": [
       "<table>\n",
       "    <thead>\n",
       "        <tr>\n",
       "            <th>Customer ID</th>\n",
       "            <th>Age</th>\n",
       "            <th>Gender</th>\n",
       "            <th>Loyalty Member</th>\n",
       "            <th>Product Type</th>\n",
       "            <th>SKU</th>\n",
       "            <th>Rating</th>\n",
       "            <th>Order Status</th>\n",
       "            <th>Payment Method</th>\n",
       "            <th>Total Price</th>\n",
       "            <th>Unit Price</th>\n",
       "            <th>Quantity</th>\n",
       "            <th>Purchase Date</th>\n",
       "            <th>Shipping Type</th>\n",
       "            <th>Add-ons Purchased</th>\n",
       "            <th>Add-on Total</th>\n",
       "        </tr>\n",
       "    </thead>\n",
       "    <tbody>\n",
       "        <tr>\n",
       "            <td>1000</td>\n",
       "            <td>53</td>\n",
       "            <td>Male</td>\n",
       "            <td>No</td>\n",
       "            <td>Smartphone</td>\n",
       "            <td>SKU1004</td>\n",
       "            <td>2</td>\n",
       "            <td>Cancelled</td>\n",
       "            <td>Credit Card</td>\n",
       "            <td>5538.33</td>\n",
       "            <td>791.19</td>\n",
       "            <td>7</td>\n",
       "            <td>2024-03-20</td>\n",
       "            <td>Standard</td>\n",
       "            <td>Accessory,Accessory,Accessory</td>\n",
       "            <td>40.21</td>\n",
       "        </tr>\n",
       "        <tr>\n",
       "            <td>1000</td>\n",
       "            <td>53</td>\n",
       "            <td>Male</td>\n",
       "            <td>No</td>\n",
       "            <td>Tablet</td>\n",
       "            <td>SKU1002</td>\n",
       "            <td>3</td>\n",
       "            <td>Completed</td>\n",
       "            <td>Paypal</td>\n",
       "            <td>741.09</td>\n",
       "            <td>247.03</td>\n",
       "            <td>3</td>\n",
       "            <td>2024-04-20</td>\n",
       "            <td>Overnight</td>\n",
       "            <td>Impulse Item</td>\n",
       "            <td>26.09</td>\n",
       "        </tr>\n",
       "        <tr>\n",
       "            <td>1002</td>\n",
       "            <td>41</td>\n",
       "            <td>Male</td>\n",
       "            <td>No</td>\n",
       "            <td>Laptop</td>\n",
       "            <td>SKU1005</td>\n",
       "            <td>3</td>\n",
       "            <td>Completed</td>\n",
       "            <td>Credit Card</td>\n",
       "            <td>1855.84</td>\n",
       "            <td>463.96</td>\n",
       "            <td>4</td>\n",
       "            <td>2023-10-17</td>\n",
       "            <td>Express</td>\n",
       "            <td>None</td>\n",
       "            <td>0.0</td>\n",
       "        </tr>\n",
       "        <tr>\n",
       "            <td>1002</td>\n",
       "            <td>41</td>\n",
       "            <td>Male</td>\n",
       "            <td>Yes</td>\n",
       "            <td>Smartphone</td>\n",
       "            <td>SKU1004</td>\n",
       "            <td>2</td>\n",
       "            <td>Completed</td>\n",
       "            <td>Cash</td>\n",
       "            <td>3164.76</td>\n",
       "            <td>791.19</td>\n",
       "            <td>4</td>\n",
       "            <td>2024-08-09</td>\n",
       "            <td>Overnight</td>\n",
       "            <td>Impulse Item,Impulse Item</td>\n",
       "            <td>60.16</td>\n",
       "        </tr>\n",
       "        <tr>\n",
       "            <td>1003</td>\n",
       "            <td>75</td>\n",
       "            <td>Male</td>\n",
       "            <td>Yes</td>\n",
       "            <td>Smartphone</td>\n",
       "            <td>SKU1001</td>\n",
       "            <td>5</td>\n",
       "            <td>Completed</td>\n",
       "            <td>Cash</td>\n",
       "            <td>41.5</td>\n",
       "            <td>20.75</td>\n",
       "            <td>2</td>\n",
       "            <td>2024-05-21</td>\n",
       "            <td>Express</td>\n",
       "            <td>Accessory</td>\n",
       "            <td>35.56</td>\n",
       "        </tr>\n",
       "    </tbody>\n",
       "</table>"
      ],
      "text/plain": [
       "[(1000, 53, 'Male', 'No', 'Smartphone', 'SKU1004', 2, 'Cancelled', 'Credit Card', 5538.33, 791.19, 7, '2024-03-20', 'Standard', 'Accessory,Accessory,Accessory', 40.21),\n",
       " (1000, 53, 'Male', 'No', 'Tablet', 'SKU1002', 3, 'Completed', 'Paypal', 741.09, 247.03, 3, '2024-04-20', 'Overnight', 'Impulse Item', 26.09),\n",
       " (1002, 41, 'Male', 'No', 'Laptop', 'SKU1005', 3, 'Completed', 'Credit Card', 1855.84, 463.96, 4, '2023-10-17', 'Express', None, 0.0),\n",
       " (1002, 41, 'Male', 'Yes', 'Smartphone', 'SKU1004', 2, 'Completed', 'Cash', 3164.76, 791.19, 4, '2024-08-09', 'Overnight', 'Impulse Item,Impulse Item', 60.16),\n",
       " (1003, 75, 'Male', 'Yes', 'Smartphone', 'SKU1001', 5, 'Completed', 'Cash', 41.5, 20.75, 2, '2024-05-21', 'Express', 'Accessory', 35.56)]"
      ]
     },
     "execution_count": 6,
     "metadata": {},
     "output_type": "execute_result"
    }
   ],
   "source": [
    "%%sql\n",
    "SELECT * FROM electronics\n",
    "LIMIT 5;"
   ]
  },
  {
   "cell_type": "markdown",
   "metadata": {
    "id": "tV76YcdBvGfd"
   },
   "source": [
    "## Question 2: **Answer**"
   ]
  },
  {
   "cell_type": "code",
   "execution_count": 7,
   "metadata": {
    "colab": {
     "base_uri": "https://localhost:8080/",
     "height": 94
    },
    "executionInfo": {
     "elapsed": 49,
     "status": "ok",
     "timestamp": 1752946998542,
     "user": {
      "displayName": "Benjamin Bennett Alexander",
      "userId": "14614847693800833280"
     },
     "user_tz": -180
    },
    "id": "hWwJ02jcqb5M",
    "outputId": "7ee86cef-474d-4fbc-e777-9d5f01eac793"
   },
   "outputs": [
    {
     "name": "stdout",
     "output_type": "stream",
     "text": [
      " * sqlite:///electronics_sales_data.db\n",
      "Done.\n"
     ]
    },
    {
     "data": {
      "text/html": [
       "<table>\n",
       "    <thead>\n",
       "        <tr>\n",
       "            <th>customers_who_spent_more</th>\n",
       "            <th>customers_who_spent_less</th>\n",
       "        </tr>\n",
       "    </thead>\n",
       "    <tbody>\n",
       "        <tr>\n",
       "            <td>2867</td>\n",
       "            <td>2632</td>\n",
       "        </tr>\n",
       "    </tbody>\n",
       "</table>"
      ],
      "text/plain": [
       "[(2867, 2632)]"
      ]
     },
     "execution_count": 7,
     "metadata": {},
     "output_type": "execute_result"
    }
   ],
   "source": [
    "%%sql\n",
    "-- Assign a rank to each purchase\n",
    "WITH ranked_purchases AS (\n",
    "    SELECT\n",
    "        [Customer ID],\n",
    "        [Total Price],\n",
    "        ROW_NUMBER() OVER (PARTITION BY [Customer ID] ORDER BY [Purchase Date])\n",
    "        AS purchase_order\n",
    "    FROM electronics\n",
    ")\n",
    "-- Main query to compare first and second purchase spending\n",
    "SELECT\n",
    "    SUM(CASE WHEN t1.[Total Price] <= t2.[Total Price] THEN 1 ELSE 0 END)\n",
    "    AS customers_who_spent_more,\n",
    "    SUM(CASE WHEN t1.[Total Price] > t2.[Total Price] THEN 1 ELSE 0 END)\n",
    "    AS customers_who_spent_less\n",
    "FROM ranked_purchases t1\n",
    "INNER JOIN ranked_purchases t2\n",
    "ON t1.[Customer ID] = t2.[Customer ID] AND t1.purchase_order = 1\n",
    "                                       AND t2.purchase_order = 2;"
   ]
  },
  {
   "cell_type": "markdown",
   "metadata": {
    "id": "sntTaO2516kP"
   },
   "source": [
    "## Question 3: **Answer**"
   ]
  },
  {
   "cell_type": "code",
   "execution_count": 8,
   "metadata": {
    "colab": {
     "base_uri": "https://localhost:8080/",
     "height": 94
    },
    "executionInfo": {
     "elapsed": 151,
     "status": "ok",
     "timestamp": 1752946998696,
     "user": {
      "displayName": "Benjamin Bennett Alexander",
      "userId": "14614847693800833280"
     },
     "user_tz": -180
    },
    "id": "_yjy-Hd39ZAS",
    "outputId": "ab665907-0bb8-44c2-cb1e-670e4a492cab"
   },
   "outputs": [
    {
     "name": "stdout",
     "output_type": "stream",
     "text": [
      " * sqlite:///electronics_sales_data.db\n",
      "Done.\n"
     ]
    },
    {
     "data": {
      "text/html": [
       "<table>\n",
       "    <thead>\n",
       "        <tr>\n",
       "            <th>first_purchase_value</th>\n",
       "            <th>third_purchase_value</th>\n",
       "            <th>percentage_of_third</th>\n",
       "        </tr>\n",
       "    </thead>\n",
       "    <tbody>\n",
       "        <tr>\n",
       "            <td>62921073.44</td>\n",
       "            <td>19020434.86</td>\n",
       "            <td>30.23</td>\n",
       "        </tr>\n",
       "    </tbody>\n",
       "</table>"
      ],
      "text/plain": [
       "[(62921073.44, 19020434.86, 30.23)]"
      ]
     },
     "execution_count": 8,
     "metadata": {},
     "output_type": "execute_result"
    }
   ],
   "source": [
    "%%sql\n",
    "-- Ranking purchases by purchase date\n",
    "WITH ranking_purchases AS (\n",
    "    SELECT\n",
    "        [Customer ID],\n",
    "        [Total Price] AS purchase_value,\n",
    "        ROW_NUMBER() OVER (PARTITION BY [Customer ID] ORDER BY [Purchase Date])\n",
    "        AS purchase_order\n",
    "    FROM electronics\n",
    "),\n",
    "-- Comparing first purchase value to third purchase value\n",
    "first_and_third_purchases AS (\n",
    "    SELECT\n",
    "        SUM(CASE WHEN fp.purchase_order = 1 THEN fp.purchase_value ELSE 0 END)\n",
    "        AS total_first_purchase,\n",
    "        SUM(CASE WHEN tp.purchase_order = 3 THEN tp.purchase_value ELSE 0 END)\n",
    "        AS total_third_purchase\n",
    "    FROM ranking_purchases AS fp\n",
    "    JOIN ranking_purchases AS tp ON fp.[Customer ID] = tp.[Customer ID]\n",
    ")\n",
    "-- Putting it all together and calculating third purchase percentage\n",
    "SELECT\n",
    "    ROUND(SUM(total_first_purchase), 2) AS first_purchase_value,\n",
    "    ROUND(SUM(total_third_purchase), 2) AS third_purchase_value,\n",
    "    ROUND((SUM(total_third_purchase) / NULLIF(SUM(total_first_purchase), 0)) * 100, 2)\n",
    "    AS percentage_of_third\n",
    "FROM first_and_third_purchases;"
   ]
  },
  {
   "cell_type": "markdown",
   "metadata": {
    "id": "cybZfz1diHn6"
   },
   "source": [
    "## Question 4: **Answer**"
   ]
  },
  {
   "cell_type": "code",
   "execution_count": 9,
   "metadata": {
    "colab": {
     "base_uri": "https://localhost:8080/",
     "height": 94
    },
    "executionInfo": {
     "elapsed": 175,
     "status": "ok",
     "timestamp": 1752946998861,
     "user": {
      "displayName": "Benjamin Bennett Alexander",
      "userId": "14614847693800833280"
     },
     "user_tz": -180
    },
    "id": "7il5Nr6z_jCj",
    "outputId": "ee0cc698-30b6-4022-e532-73d17cac1650"
   },
   "outputs": [
    {
     "name": "stdout",
     "output_type": "stream",
     "text": [
      " * sqlite:///electronics_sales_data.db\n",
      "Done.\n"
     ]
    },
    {
     "data": {
      "text/html": [
       "<table>\n",
       "    <thead>\n",
       "        <tr>\n",
       "            <th>Customer ID</th>\n",
       "            <th>number_of_purchases</th>\n",
       "            <th>cumulative_revenue</th>\n",
       "            <th>average_revenue_per_purchase</th>\n",
       "        </tr>\n",
       "    </thead>\n",
       "    <tbody>\n",
       "        <tr>\n",
       "            <td>16357</td>\n",
       "            <td>7</td>\n",
       "            <td>34563.7</td>\n",
       "            <td>4937.67</td>\n",
       "        </tr>\n",
       "    </tbody>\n",
       "</table>"
      ],
      "text/plain": [
       "[(16357, 7, 34563.7, 4937.67)]"
      ]
     },
     "execution_count": 9,
     "metadata": {},
     "output_type": "execute_result"
    }
   ],
   "source": [
    "%%sql\n",
    "-- calculating cumulative revenue\n",
    "WITH cumulative_revenue_total AS (SELECT\n",
    "    [Customer ID],\n",
    "    [Total Price],\n",
    "    -- Calculating the running total per customer\n",
    "    SUM([Total Price]) OVER (PARTITION BY [Customer ID] ORDER BY [Purchase Date])\n",
    "    AS cumulative_revenue,\n",
    "\n",
    "    -- Counting number of orders per customer\n",
    "    COUNT(*) OVER (PARTITION BY [Customer ID]) AS number_of_purchases,\n",
    "\n",
    "    -- Calculating average revenue per purchase per customer.\n",
    "    ROUND(SUM([Total Price]) OVER (PARTITION BY [Customer ID]) /\n",
    "          COUNT(*) OVER (PARTITION BY [Customer ID]), 2)\n",
    "          AS average_revenue_per_purchase\n",
    "FROM electronics),\n",
    "\n",
    "-- Getting the highest cumulative revenue\n",
    "max_cumulative_total AS (\n",
    "    SELECT MAX(cumulative_revenue) AS max_cumulative_revenue FROM\n",
    "    cumulative_revenue_total\n",
    ")\n",
    "-- Return details of customer with highest cumulative revenue\n",
    "SELECT\n",
    "    cm.[Customer ID],\n",
    "    cm.number_of_purchases,\n",
    "    cm.cumulative_revenue,\n",
    "    cm.average_revenue_per_purchase\n",
    "FROM cumulative_revenue_total cm\n",
    "JOIN max_cumulative_total mt\n",
    "ON cm.cumulative_revenue = mt.max_cumulative_revenue;"
   ]
  },
  {
   "cell_type": "markdown",
   "metadata": {
    "id": "wUFXtWHVFw4A"
   },
   "source": [
    "## Question 5: **Answer**"
   ]
  },
  {
   "cell_type": "code",
   "execution_count": 10,
   "metadata": {
    "colab": {
     "base_uri": "https://localhost:8080/",
     "height": 94
    },
    "executionInfo": {
     "elapsed": 30,
     "status": "ok",
     "timestamp": 1752946998922,
     "user": {
      "displayName": "Benjamin Bennett Alexander",
      "userId": "14614847693800833280"
     },
     "user_tz": -180
    },
    "id": "ADhjXgSxB6OY",
    "outputId": "83d49441-c0c4-4a99-bd5b-3fe54b639f7e"
   },
   "outputs": [
    {
     "name": "stdout",
     "output_type": "stream",
     "text": [
      " * sqlite:///electronics_sales_data.db\n",
      "Done.\n"
     ]
    },
    {
     "data": {
      "text/html": [
       "<table>\n",
       "    <thead>\n",
       "        <tr>\n",
       "            <th>count_of_customers</th>\n",
       "        </tr>\n",
       "    </thead>\n",
       "    <tbody>\n",
       "        <tr>\n",
       "            <td>77</td>\n",
       "        </tr>\n",
       "    </tbody>\n",
       "</table>"
      ],
      "text/plain": [
       "[(77,)]"
      ]
     },
     "execution_count": 10,
     "metadata": {},
     "output_type": "execute_result"
    }
   ],
   "source": [
    "%%sql\n",
    "-- Ranking customers who made credit card purchases.\n",
    "WITH ranking_purchases AS (\n",
    "    SELECT\n",
    "        [Customer ID],\n",
    "        [Payment Method],\n",
    "        ROW_NUMBER() OVER (PARTITION BY [Customer ID] ORDER BY [Purchase Date])\n",
    "        AS purchase_order\n",
    "    FROM electronics\n",
    "    WHERE [Payment Method] = 'Credit Card'\n",
    "),\n",
    "--Retrieving customers with three consecutive purchases\n",
    "three_consecutive_credit_purchases AS (\n",
    "    SELECT\n",
    "        [Customer ID],\n",
    "        COUNT(*) AS credit_card_purchases\n",
    "    FROM ranking_purchases\n",
    "    WHERE purchase_order IN (1, 2, 3)\n",
    "    GROUP BY [Customer ID]\n",
    "    HAVING COUNT(*) = 3\n",
    ")\n",
    "-- Counting customers with three consecutive purchases\n",
    "SELECT\n",
    "    COUNT(*) AS count_of_customers\n",
    "FROM three_consecutive_credit_purchases;"
   ]
  },
  {
   "cell_type": "markdown",
   "metadata": {
    "id": "4QqNWGvf6Sbg"
   },
   "source": [
    "## Question 6: **Answer**"
   ]
  },
  {
   "cell_type": "code",
   "execution_count": 11,
   "metadata": {
    "colab": {
     "base_uri": "https://localhost:8080/",
     "height": 94
    },
    "executionInfo": {
     "elapsed": 176,
     "status": "ok",
     "timestamp": 1752946999102,
     "user": {
      "displayName": "Benjamin Bennett Alexander",
      "userId": "14614847693800833280"
     },
     "user_tz": -180
    },
    "id": "hHtc-nPMLsBj",
    "outputId": "dee04e91-6154-4f89-90ec-c076005e0df1"
   },
   "outputs": [
    {
     "name": "stdout",
     "output_type": "stream",
     "text": [
      " * sqlite:///electronics_sales_data.db\n",
      "Done.\n"
     ]
    },
    {
     "data": {
      "text/html": [
       "<table>\n",
       "    <thead>\n",
       "        <tr>\n",
       "            <th>count_of_frequent_buyers</th>\n",
       "            <th>count_of_occasional_buyers</th>\n",
       "        </tr>\n",
       "    </thead>\n",
       "    <tbody>\n",
       "        <tr>\n",
       "            <td>1190</td>\n",
       "            <td>4309</td>\n",
       "        </tr>\n",
       "    </tbody>\n",
       "</table>"
      ],
      "text/plain": [
       "[(1190, 4309)]"
      ]
     },
     "execution_count": 11,
     "metadata": {},
     "output_type": "execute_result"
    }
   ],
   "source": [
    "%%sql\n",
    "-- Ranking purchases based on purchase date\n",
    "WITH ranking_purchases AS (\n",
    "    SELECT\n",
    "        [Customer ID],\n",
    "        [Purchase Date],\n",
    "        ROW_NUMBER() OVER (PARTITION BY [Customer ID] ORDER BY [Purchase Date])\n",
    "        AS purchase_order\n",
    "    FROM electronics\n",
    "),\n",
    "-- Performing join and calculating difference between purchases\n",
    "first_and_second_purchases AS (\n",
    "    SELECT\n",
    "        JULIANDAY(sp.[Purchase Date]) - JULIANDAY(fp.[Purchase Date])\n",
    "        AS days_between_purchases\n",
    "    FROM ranking_purchases AS fp\n",
    "    INNER JOIN ranking_purchases AS sp\n",
    "    ON fp.[Customer ID] = sp.[Customer ID]\n",
    "    WHERE fp.purchase_order = 1 AND sp.purchase_order = 2\n",
    ")\n",
    "-- Returning count of frequent and occassional buyers\n",
    "SELECT\n",
    "    SUM(CASE WHEN days_between_purchases <= 30 THEN 1 ELSE 0 END)\n",
    "    AS count_of_frequent_buyers,\n",
    "    SUM(CASE WHEN days_between_purchases > 30 THEN 1 ELSE 0 END)\n",
    "    AS count_of_occasional_buyers\n",
    "FROM first_and_second_purchases;"
   ]
  },
  {
   "cell_type": "code",
   "execution_count": 12,
   "metadata": {
    "executionInfo": {
     "elapsed": 15,
     "status": "ok",
     "timestamp": 1752946999109,
     "user": {
      "displayName": "Benjamin Bennett Alexander",
      "userId": "14614847693800833280"
     },
     "user_tz": -180
    },
    "id": "vvZIOKND0jHH"
   },
   "outputs": [],
   "source": [
    "query = \"\"\"\n",
    "\n",
    "-- Ranking purchases based on purchase date\n",
    "WITH ranking_purchases AS (\n",
    "    SELECT\n",
    "        [Customer ID],\n",
    "        [Purchase Date],\n",
    "        ROW_NUMBER() OVER (PARTITION BY [Customer ID] ORDER BY [Purchase Date])\n",
    "        AS purchase_order\n",
    "    FROM electronics\n",
    "),\n",
    "-- Performing join and calculating difference between purchases\n",
    "first_and_second_purchases AS (\n",
    "    SELECT\n",
    "        JULIANDAY(sp.[Purchase Date]) - JULIANDAY(fp.[Purchase Date])\n",
    "        AS days_between_purchases\n",
    "    FROM ranking_purchases AS fp\n",
    "    INNER JOIN ranking_purchases AS sp\n",
    "    ON fp.[Customer ID] = sp.[Customer ID]\n",
    "    WHERE fp.purchase_order = 1 AND sp.purchase_order = 2\n",
    ")\n",
    "-- Returning count of frequent and occassional buyers\n",
    "SELECT\n",
    "    SUM(CASE WHEN days_between_purchases <= 30 THEN 1 ELSE 0 END)\n",
    "    AS frequent_buyers,\n",
    "    SUM(CASE WHEN days_between_purchases > 30 THEN 1 ELSE 0 END)\n",
    "    AS occasional_buyers\n",
    "FROM first_and_second_purchases;\n",
    "\n",
    "\"\"\""
   ]
  },
  {
   "cell_type": "code",
   "execution_count": 13,
   "metadata": {
    "colab": {
     "base_uri": "https://localhost:8080/"
    },
    "executionInfo": {
     "elapsed": 75,
     "status": "ok",
     "timestamp": 1752946999175,
     "user": {
      "displayName": "Benjamin Bennett Alexander",
      "userId": "14614847693800833280"
     },
     "user_tz": -180
    },
    "id": "sxoW0oqORdp_",
    "outputId": "c406d079-226f-4e8a-82e7-f7db243bc3fe"
   },
   "outputs": [
    {
     "name": "stdout",
     "output_type": "stream",
     "text": [
      "   frequent_buyers  occasional_buyers\n",
      "0             1190               4309\n"
     ]
    }
   ],
   "source": [
    "# Establishing connection to the database\n",
    "connection = sqlite3.Connection('electronics_sales_data.db')\n",
    "# Creating a DataFrame\n",
    "df = pd.read_sql_query(query, connection)\n",
    "print(df)"
   ]
  },
  {
   "cell_type": "code",
   "execution_count": 14,
   "metadata": {
    "colab": {
     "base_uri": "https://localhost:8080/",
     "height": 683
    },
    "executionInfo": {
     "elapsed": 544,
     "status": "ok",
     "timestamp": 1752946999720,
     "user": {
      "displayName": "Benjamin Bennett Alexander",
      "userId": "14614847693800833280"
     },
     "user_tz": -180
    },
    "id": "C-HeigK90ViR",
    "outputId": "093dbf09-c3f1-4b7f-90c7-1a2e713370da"
   },
   "outputs": [
    {
     "data": {
      "image/png": "[encoded data removed]",
      "text/plain": [
       "<Figure size 1200x800 with 1 Axes>"
      ]
     },
     "metadata": {},
     "output_type": "display_data"
    }
   ],
   "source": [
    "# Establishing connection to the database\n",
    "connection = sqlite3.Connection('electronics_sales_data.db')\n",
    "# Creating a DataFrame\n",
    "df = pd.read_sql_query(query, connection)\n",
    "\n",
    "# Accessing values in a DataFrame\n",
    "data = {'frequent buyers':  df['frequent_buyers'][0],\n",
    "        'occasional buyers':df['occasional_buyers'][0]}\n",
    "\n",
    "plt.figure(figsize=(12, 8))\n",
    "plt.pie(data.values(),\n",
    "        labels=['Frequent Buyers', 'Occasional Buyers'],\n",
    "        colors=['lime', 'dodgerblue'],\n",
    "        autopct='%1.1f%%',\n",
    "        startangle=90, wedgeprops=dict(width=0.5))\n",
    "plt.title('Distribution of Buyers by Purchase Frequency',\n",
    "          fontsize=20)\n",
    "plt.show()"
   ]
  }
 ],
 "metadata": {
  "colab": {
   "authorship_tag": "ABX9TyNFtJlW188xrbd6acvOcqmj",
   "mount_file_id": "1vmnNs9EsPtre80KQwZ3VR-sRazel1O5Z",
   "provenance": []
  },
  "kernelspec": {
   "display_name": "Python 3",
   "name": "python3"
  },
  "language_info": {
   "name": "python"
  }
 },
 "nbformat": 4,
 "nbformat_minor": 0
}

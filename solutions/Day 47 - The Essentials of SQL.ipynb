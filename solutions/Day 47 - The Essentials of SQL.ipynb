{
 "cells": [
  {
   "cell_type": "markdown",
   "metadata": {
    "id": "qInB5y5EnYf8"
   },
   "source": [
    "## Question 1: **Answer**"
   ]
  },
  {
   "cell_type": "code",
   "execution_count": 1,
   "metadata": {
    "executionInfo": {
     "elapsed": 439,
     "status": "ok",
     "timestamp": 1752947227364,
     "user": {
      "displayName": "Benjamin Bennett Alexander",
      "userId": "14614847693800833280"
     },
     "user_tz": -180
    },
    "id": "hidH3mpFFF-K"
   },
   "outputs": [],
   "source": [
    "import pandas as pd\n",
    "import sqlite3"
   ]
  },
  {
   "cell_type": "code",
   "execution_count": null,
   "metadata": {
    "executionInfo": {
     "elapsed": 2024,
     "status": "ok",
     "timestamp": 1752947229409,
     "user": {
      "displayName": "Benjamin Bennett Alexander",
      "userId": "14614847693800833280"
     },
     "user_tz": -180
    },
    "id": "T0_HUSRT_rYu"
   },
   "outputs": [],
   "source": [
    "def add_data_to_database(input_data_1, input_data_2, input_data_3):\n",
    "    try:\n",
    "        # Creating DataFrame\n",
    "        df_1 = pd.read_csv(input_data_1,  encoding='latin1')\n",
    "        df_2 = pd.read_csv(input_data_2,  encoding='latin1')\n",
    "        df_3 = pd.read_csv(input_data_3,  encoding='latin1')\n",
    "        # Connecting to database\n",
    "        engine = sqlite3.connect(\"champions_league.db\")\n",
    "        df_1.to_sql('players', con=engine, index = False)\n",
    "        df_2.to_sql('goals', con=engine, index = False)\n",
    "        df_3.to_sql('matches', con=engine, index = False)\n",
    "        engine.close()\n",
    "    except Exception as e:\n",
    "            print(f'Error: {e}')\n",
    "\n",
    "# Loading data\n",
    "input_data_1 = \"/content/players.csv\"\n",
    "input_data_2 = \"/content/goals.csv\"\n",
    "input_data_3 = \"/content/matches.csv\"\n",
    "add_data_to_database(input_data_1,input_data_2, input_data_3)"
   ]
  },
  {
   "cell_type": "code",
   "execution_count": 3,
   "metadata": {
    "executionInfo": {
     "elapsed": 824,
     "status": "ok",
     "timestamp": 1752947230236,
     "user": {
      "displayName": "Benjamin Bennett Alexander",
      "userId": "14614847693800833280"
     },
     "user_tz": -180
    },
    "id": "l4q5DZU_BCLp"
   },
   "outputs": [],
   "source": [
    "# Loading SQL Magic extension\n",
    "%load_ext sql"
   ]
  },
  {
   "cell_type": "code",
   "execution_count": 4,
   "metadata": {
    "executionInfo": {
     "elapsed": 46,
     "status": "ok",
     "timestamp": 1752947230293,
     "user": {
      "displayName": "Benjamin Bennett Alexander",
      "userId": "14614847693800833280"
     },
     "user_tz": -180
    },
    "id": "-CdNsrIzBC06"
   },
   "outputs": [],
   "source": [
    "# Connecting to the database\n",
    "%sql sqlite:///champions_league.db"
   ]
  },
  {
   "cell_type": "code",
   "execution_count": 5,
   "metadata": {
    "executionInfo": {
     "elapsed": 2,
     "status": "ok",
     "timestamp": 1752947230298,
     "user": {
      "displayName": "Benjamin Bennett Alexander",
      "userId": "14614847693800833280"
     },
     "user_tz": -180
    },
    "id": "wMy6_VheBDV6"
   },
   "outputs": [],
   "source": [
    "# Default to duplicated style\n",
    "%config SqlMagic.style = '_DEPRECATED_DEFAULT'"
   ]
  },
  {
   "cell_type": "code",
   "execution_count": 6,
   "metadata": {
    "colab": {
     "base_uri": "https://localhost:8080/",
     "height": 177
    },
    "executionInfo": {
     "elapsed": 30,
     "status": "ok",
     "timestamp": 1752947230359,
     "user": {
      "displayName": "Benjamin Bennett Alexander",
      "userId": "14614847693800833280"
     },
     "user_tz": -180
    },
    "id": "WpKizc5JEncL",
    "outputId": "115f16e9-1129-4750-e97d-0aae41b5573c"
   },
   "outputs": [
    {
     "name": "stdout",
     "output_type": "stream",
     "text": [
      " * sqlite:///champions_league.db\n",
      "Done.\n"
     ]
    },
    {
     "data": {
      "text/html": [
       "<table>\n",
       "    <thead>\n",
       "        <tr>\n",
       "            <th>PLAYER_ID</th>\n",
       "            <th>FIRST_NAME</th>\n",
       "            <th>LAST_NAME</th>\n",
       "            <th>NATIONALITY</th>\n",
       "            <th>DOB</th>\n",
       "            <th>TEAM</th>\n",
       "            <th>JERSEY_NUMBER</th>\n",
       "            <th>POSITION</th>\n",
       "            <th>HEIGHT</th>\n",
       "            <th>WEIGHT</th>\n",
       "            <th>FOOT</th>\n",
       "        </tr>\n",
       "    </thead>\n",
       "    <tbody>\n",
       "        <tr>\n",
       "            <td>ply510</td>\n",
       "            <td>None</td>\n",
       "            <td>Danilo</td>\n",
       "            <td>Brazil</td>\n",
       "            <td>7 15 1991</td>\n",
       "            <td>Juventus</td>\n",
       "            <td>6.0</td>\n",
       "            <td>Defender</td>\n",
       "            <td>184.0</td>\n",
       "            <td>78.0</td>\n",
       "            <td>R</td>\n",
       "        </tr>\n",
       "        <tr>\n",
       "            <td>ply511</td>\n",
       "            <td>Mattia De</td>\n",
       "            <td>Sciglio</td>\n",
       "            <td>Italy</td>\n",
       "            <td>10 20 1992</td>\n",
       "            <td>Juventus</td>\n",
       "            <td>2.0</td>\n",
       "            <td>Defender</td>\n",
       "            <td>182.0</td>\n",
       "            <td>78.0</td>\n",
       "            <td>R</td>\n",
       "        </tr>\n",
       "        <tr>\n",
       "            <td>ply512</td>\n",
       "            <td>Federico</td>\n",
       "            <td>Gatti</td>\n",
       "            <td>Italy</td>\n",
       "            <td>6 24 1998</td>\n",
       "            <td>Juventus</td>\n",
       "            <td>15.0</td>\n",
       "            <td>Defender</td>\n",
       "            <td>190.0</td>\n",
       "            <td>84.0</td>\n",
       "            <td>R</td>\n",
       "        </tr>\n",
       "        <tr>\n",
       "            <td>ply513</td>\n",
       "            <td>Daniele</td>\n",
       "            <td>Rugani</td>\n",
       "            <td>Italy</td>\n",
       "            <td>7 29 1994</td>\n",
       "            <td>Juventus</td>\n",
       "            <td>24.0</td>\n",
       "            <td>Defender</td>\n",
       "            <td>190.0</td>\n",
       "            <td>84.0</td>\n",
       "            <td>R</td>\n",
       "        </tr>\n",
       "        <tr>\n",
       "            <td>ply514</td>\n",
       "            <td>Enzo</td>\n",
       "            <td>Barrenechea</td>\n",
       "            <td>Argentina</td>\n",
       "            <td>5 22 2001</td>\n",
       "            <td>Juventus</td>\n",
       "            <td>45.0</td>\n",
       "            <td>Midfielder</td>\n",
       "            <td>186.0</td>\n",
       "            <td>81.0</td>\n",
       "            <td>L</td>\n",
       "        </tr>\n",
       "    </tbody>\n",
       "</table>"
      ],
      "text/plain": [
       "[('ply510', None, 'Danilo', 'Brazil', '7 15 1991', 'Juventus', 6.0, 'Defender', 184.0, 78.0, 'R'),\n",
       " ('ply511', 'Mattia De', 'Sciglio', 'Italy', '10 20 1992', 'Juventus', 2.0, 'Defender', 182.0, 78.0, 'R'),\n",
       " ('ply512', 'Federico', 'Gatti', 'Italy', '6 24 1998', 'Juventus', 15.0, 'Defender', 190.0, 84.0, 'R'),\n",
       " ('ply513', 'Daniele', 'Rugani', 'Italy', '7 29 1994', 'Juventus', 24.0, 'Defender', 190.0, 84.0, 'R'),\n",
       " ('ply514', 'Enzo', 'Barrenechea', 'Argentina', '5 22 2001', 'Juventus', 45.0, 'Midfielder', 186.0, 81.0, 'L')]"
      ]
     },
     "execution_count": 6,
     "metadata": {},
     "output_type": "execute_result"
    }
   ],
   "source": [
    "%%sql\n",
    "SELECT * FROM players\n",
    "LIMIT 5;"
   ]
  },
  {
   "cell_type": "code",
   "execution_count": 7,
   "metadata": {
    "colab": {
     "base_uri": "https://localhost:8080/",
     "height": 177
    },
    "executionInfo": {
     "elapsed": 72,
     "status": "ok",
     "timestamp": 1752947230436,
     "user": {
      "displayName": "Benjamin Bennett Alexander",
      "userId": "14614847693800833280"
     },
     "user_tz": -180
    },
    "id": "PpGEy_7KEuTh",
    "outputId": "a2894e9b-08ec-4fda-b856-65be47c7c1b6"
   },
   "outputs": [
    {
     "name": "stdout",
     "output_type": "stream",
     "text": [
      " * sqlite:///champions_league.db\n",
      "Done.\n"
     ]
    },
    {
     "data": {
      "text/html": [
       "<table>\n",
       "    <thead>\n",
       "        <tr>\n",
       "            <th>GOAL_ID</th>\n",
       "            <th>MATCH_ID</th>\n",
       "            <th>PID</th>\n",
       "            <th>DURATION</th>\n",
       "            <th>ASSIST</th>\n",
       "            <th>GOAL_DESC</th>\n",
       "        </tr>\n",
       "    </thead>\n",
       "    <tbody>\n",
       "        <tr>\n",
       "            <td>gl470</td>\n",
       "            <td>mt154</td>\n",
       "            <td>ply1479</td>\n",
       "            <td>4</td>\n",
       "            <td>ply864</td>\n",
       "            <td>right-footed shot</td>\n",
       "        </tr>\n",
       "        <tr>\n",
       "            <td>gl471</td>\n",
       "            <td>mt154</td>\n",
       "            <td>ply1075</td>\n",
       "            <td>28</td>\n",
       "            <td>ply864</td>\n",
       "            <td>penalty</td>\n",
       "        </tr>\n",
       "        <tr>\n",
       "            <td>gl472</td>\n",
       "            <td>mt154</td>\n",
       "            <td>ply585</td>\n",
       "            <td>69</td>\n",
       "            <td>ply864</td>\n",
       "            <td>right-footed shot</td>\n",
       "        </tr>\n",
       "        <tr>\n",
       "            <td>gl473</td>\n",
       "            <td>mt155</td>\n",
       "            <td>ply396</td>\n",
       "            <td>12</td>\n",
       "            <td>ply653</td>\n",
       "            <td>right-footed shot</td>\n",
       "        </tr>\n",
       "        <tr>\n",
       "            <td>gl474</td>\n",
       "            <td>mt155</td>\n",
       "            <td>ply1064</td>\n",
       "            <td>81</td>\n",
       "            <td>ply653</td>\n",
       "            <td>right-footed shot</td>\n",
       "        </tr>\n",
       "    </tbody>\n",
       "</table>"
      ],
      "text/plain": [
       "[('gl470', 'mt154', 'ply1479', 4, 'ply864', 'right-footed shot'),\n",
       " ('gl471', 'mt154', 'ply1075', 28, 'ply864', 'penalty'),\n",
       " ('gl472', 'mt154', 'ply585', 69, 'ply864', 'right-footed shot'),\n",
       " ('gl473', 'mt155', 'ply396', 12, 'ply653', 'right-footed shot'),\n",
       " ('gl474', 'mt155', 'ply1064', 81, 'ply653', 'right-footed shot')]"
      ]
     },
     "execution_count": 7,
     "metadata": {},
     "output_type": "execute_result"
    }
   ],
   "source": [
    "%%sql\n",
    "SELECT * FROM goals\n",
    "LIMIT 5;"
   ]
  },
  {
   "cell_type": "code",
   "execution_count": 8,
   "metadata": {
    "colab": {
     "base_uri": "https://localhost:8080/",
     "height": 177
    },
    "executionInfo": {
     "elapsed": 39,
     "status": "ok",
     "timestamp": 1752947230478,
     "user": {
      "displayName": "Benjamin Bennett Alexander",
      "userId": "14614847693800833280"
     },
     "user_tz": -180
    },
    "id": "5rwWna9WzlUc",
    "outputId": "af8e8034-082d-4032-c8dc-b6400f1ceeb7"
   },
   "outputs": [
    {
     "name": "stdout",
     "output_type": "stream",
     "text": [
      " * sqlite:///champions_league.db\n",
      "Done.\n"
     ]
    },
    {
     "data": {
      "text/html": [
       "<table>\n",
       "    <thead>\n",
       "        <tr>\n",
       "            <th>MATCH_ID</th>\n",
       "            <th>SEASON</th>\n",
       "            <th>DATE_TIME</th>\n",
       "            <th>HOME_TEAM</th>\n",
       "            <th>AWAY_TEAM</th>\n",
       "            <th>STADIUM</th>\n",
       "            <th>HOME_TEAM_SCORE</th>\n",
       "            <th>AWAY_TEAM_SCORE</th>\n",
       "            <th>PENALTY_SHOOT_OUT</th>\n",
       "            <th>ATTENDANCE</th>\n",
       "        </tr>\n",
       "    </thead>\n",
       "    <tbody>\n",
       "        <tr>\n",
       "            <td>mt1</td>\n",
       "            <td>2021-2022</td>\n",
       "            <td>15-SEP-21 08.00.00.000000000 PM</td>\n",
       "            <td>Manchester City</td>\n",
       "            <td>RB Leipzig</td>\n",
       "            <td>Etihad Stadium</td>\n",
       "            <td>6</td>\n",
       "            <td>3</td>\n",
       "            <td>0</td>\n",
       "            <td>38062</td>\n",
       "        </tr>\n",
       "        <tr>\n",
       "            <td>mt2</td>\n",
       "            <td>2021-2022</td>\n",
       "            <td>15-SEP-21 08.00.00.000000000 PM</td>\n",
       "            <td>Club Brugge KV</td>\n",
       "            <td>Paris Saint-Germain</td>\n",
       "            <td>Jan Breydel Stadion</td>\n",
       "            <td>1</td>\n",
       "            <td>1</td>\n",
       "            <td>0</td>\n",
       "            <td>27546</td>\n",
       "        </tr>\n",
       "        <tr>\n",
       "            <td>mt3</td>\n",
       "            <td>2021-2022</td>\n",
       "            <td>28-SEP-21 08.00.00.000000000 PM</td>\n",
       "            <td>Paris Saint-Germain</td>\n",
       "            <td>Manchester City</td>\n",
       "            <td>Parc des Princes</td>\n",
       "            <td>2</td>\n",
       "            <td>0</td>\n",
       "            <td>0</td>\n",
       "            <td>37350</td>\n",
       "        </tr>\n",
       "        <tr>\n",
       "            <td>mt4</td>\n",
       "            <td>2021-2022</td>\n",
       "            <td>28-SEP-21 08.00.00.000000000 PM</td>\n",
       "            <td>RB Leipzig</td>\n",
       "            <td>Club Brugge KV</td>\n",
       "            <td>Red Bull Arena</td>\n",
       "            <td>1</td>\n",
       "            <td>2</td>\n",
       "            <td>0</td>\n",
       "            <td>23500</td>\n",
       "        </tr>\n",
       "        <tr>\n",
       "            <td>mt5</td>\n",
       "            <td>2021-2022</td>\n",
       "            <td>19-OCT-21 05.45.00.000000000 PM</td>\n",
       "            <td>Club Brugge KV</td>\n",
       "            <td>Manchester City</td>\n",
       "            <td>Jan Breydel Stadion</td>\n",
       "            <td>1</td>\n",
       "            <td>5</td>\n",
       "            <td>0</td>\n",
       "            <td>24915</td>\n",
       "        </tr>\n",
       "    </tbody>\n",
       "</table>"
      ],
      "text/plain": [
       "[('mt1', '2021-2022', '15-SEP-21 08.00.00.000000000 PM', 'Manchester City', 'RB Leipzig', 'Etihad Stadium', 6, 3, 0, 38062),\n",
       " ('mt2', '2021-2022', '15-SEP-21 08.00.00.000000000 PM', 'Club Brugge KV', 'Paris Saint-Germain', 'Jan Breydel Stadion', 1, 1, 0, 27546),\n",
       " ('mt3', '2021-2022', '28-SEP-21 08.00.00.000000000 PM', 'Paris Saint-Germain', 'Manchester City', 'Parc des Princes', 2, 0, 0, 37350),\n",
       " ('mt4', '2021-2022', '28-SEP-21 08.00.00.000000000 PM', 'RB Leipzig', 'Club Brugge KV', 'Red Bull Arena', 1, 2, 0, 23500),\n",
       " ('mt5', '2021-2022', '19-OCT-21 05.45.00.000000000 PM', 'Club Brugge KV', 'Manchester City', 'Jan Breydel Stadion', 1, 5, 0, 24915)]"
      ]
     },
     "execution_count": 8,
     "metadata": {},
     "output_type": "execute_result"
    }
   ],
   "source": [
    "%%sql\n",
    "SELECT * FROM matches\n",
    "LIMIT 5;"
   ]
  },
  {
   "cell_type": "markdown",
   "metadata": {
    "id": "Fxo6QHNzNTZ6"
   },
   "source": [
    "1. Return the player name, position, team, and the number of goals they contributed to (goals scored or assisted)."
   ]
  },
  {
   "cell_type": "markdown",
   "metadata": {
    "id": "nWqnu7aRPmGp"
   },
   "source": [
    "## Question 2: **Answer**"
   ]
  },
  {
   "cell_type": "code",
   "execution_count": 9,
   "metadata": {
    "colab": {
     "base_uri": "https://localhost:8080/",
     "height": 136
    },
    "executionInfo": {
     "elapsed": 26,
     "status": "ok",
     "timestamp": 1752947230482,
     "user": {
      "displayName": "Benjamin Bennett Alexander",
      "userId": "14614847693800833280"
     },
     "user_tz": -180
    },
    "id": "1UFthqn4O1oK",
    "outputId": "5cf7fdb6-ed47-4b4b-deb7-8799b55a589e"
   },
   "outputs": [
    {
     "name": "stdout",
     "output_type": "stream",
     "text": [
      " * sqlite:///champions_league.db\n",
      "Done.\n"
     ]
    },
    {
     "data": {
      "text/html": [
       "<table>\n",
       "    <thead>\n",
       "        <tr>\n",
       "            <th>GOAL_DESC</th>\n",
       "            <th>percentage</th>\n",
       "        </tr>\n",
       "    </thead>\n",
       "    <tbody>\n",
       "        <tr>\n",
       "            <td>header</td>\n",
       "            <td>14.27</td>\n",
       "        </tr>\n",
       "        <tr>\n",
       "            <td>left-footed shot</td>\n",
       "            <td>27.93</td>\n",
       "        </tr>\n",
       "        <tr>\n",
       "            <td>right-footed shot</td>\n",
       "            <td>42.24</td>\n",
       "        </tr>\n",
       "    </tbody>\n",
       "</table>"
      ],
      "text/plain": [
       "[('header', 14.27), ('left-footed shot', 27.93), ('right-footed shot', 42.24)]"
      ]
     },
     "execution_count": 9,
     "metadata": {},
     "output_type": "execute_result"
    }
   ],
   "source": [
    "%%sql\n",
    "SELECT\n",
    "    g.GOAL_DESC,\n",
    "    ROUND(COUNT(*) * 100.0 / (SELECT COUNT(*) FROM goals WHERE GOAL_DESC\n",
    "                                                         IS NOT NULL ), 2)\n",
    "    AS percentage\n",
    "FROM goals g\n",
    "WHERE g.GOAL_DESC IN ('left-footed shot', 'right-footed shot', 'header')\n",
    "GROUP BY g.GOAL_DESC;"
   ]
  },
  {
   "cell_type": "markdown",
   "metadata": {
    "id": "63CGh65VeIrt"
   },
   "source": [
    "## Question 3: **Answer**"
   ]
  },
  {
   "cell_type": "code",
   "execution_count": 10,
   "metadata": {
    "colab": {
     "base_uri": "https://localhost:8080/"
    },
    "executionInfo": {
     "elapsed": 77,
     "status": "ok",
     "timestamp": 1752947230562,
     "user": {
      "displayName": "Benjamin Bennett Alexander",
      "userId": "14614847693800833280"
     },
     "user_tz": -180
    },
    "id": "upnjsWbi9cQZ",
    "outputId": "efb237c1-f5ad-4a04-d799-a64ea3fdd94b"
   },
   "outputs": [
    {
     "name": "stdout",
     "output_type": "stream",
     "text": [
      " * sqlite:///champions_league.db\n",
      "Done.\n",
      "Done.\n"
     ]
    },
    {
     "data": {
      "text/plain": [
       "[]"
      ]
     },
     "execution_count": 10,
     "metadata": {},
     "output_type": "execute_result"
    }
   ],
   "source": [
    "%%sql\n",
    "-- Create index to optimize JOIN and filtering operations\n",
    "CREATE INDEX IF NOT EXISTS idx_goals_pid_duration ON goals(PID);\n",
    "CREATE INDEX IF NOT EXISTS idx_players_team_id ON players(TEAM, PLAYER_ID);"
   ]
  },
  {
   "cell_type": "code",
   "execution_count": 11,
   "metadata": {
    "colab": {
     "base_uri": "https://localhost:8080/",
     "height": 94
    },
    "executionInfo": {
     "elapsed": 53,
     "status": "ok",
     "timestamp": 1752947230609,
     "user": {
      "displayName": "Benjamin Bennett Alexander",
      "userId": "14614847693800833280"
     },
     "user_tz": -180
    },
    "id": "tNDQ6MJB-e3T",
    "outputId": "9ad49ab0-c4f8-4c92-c694-7f96db2a1548"
   },
   "outputs": [
    {
     "name": "stdout",
     "output_type": "stream",
     "text": [
      " * sqlite:///champions_league.db\n",
      "Done.\n"
     ]
    },
    {
     "data": {
      "text/html": [
       "<table>\n",
       "    <thead>\n",
       "        <tr>\n",
       "            <th>TEAM</th>\n",
       "            <th>PLAYER_ID</th>\n",
       "            <th>player_name</th>\n",
       "            <th>total_goals</th>\n",
       "            <th>first_half_goals</th>\n",
       "            <th>second_half_goals</th>\n",
       "        </tr>\n",
       "    </thead>\n",
       "    <tbody>\n",
       "        <tr>\n",
       "            <td>FC Barcelona</td>\n",
       "            <td>ply398</td>\n",
       "            <td>Robert Lewandowski</td>\n",
       "            <td>54</td>\n",
       "            <td>23</td>\n",
       "            <td>31</td>\n",
       "        </tr>\n",
       "    </tbody>\n",
       "</table>"
      ],
      "text/plain": [
       "[('FC Barcelona', 'ply398', 'Robert Lewandowski', 54, 23, 31)]"
      ]
     },
     "execution_count": 11,
     "metadata": {},
     "output_type": "execute_result"
    }
   ],
   "source": [
    "%%sql\n",
    "-- Aggregating total goals and goals per each half\n",
    "WITH goal_counts AS (\n",
    "    SELECT\n",
    "        p.TEAM,\n",
    "        p.PLAYER_ID,\n",
    "        p.FIRST_NAME || ' ' || p.LAST_NAME AS player_name,\n",
    "        COUNT(g.GOAL_ID) AS total_goals,\n",
    "        SUM(CASE WHEN g.DURATION <= 45 THEN 1 ELSE 0 END) AS first_half_goals,\n",
    "        SUM(CASE WHEN g.DURATION > 45 THEN 1 ELSE 0 END) AS second_half_goals\n",
    "    FROM players p\n",
    "    JOIN goals g\n",
    "    ON p.PLAYER_ID = g.PID\n",
    "    GROUP BY p.TEAM, p.PLAYER_ID, player_name\n",
    "),\n",
    "--Ranking players by the number of goals scored\n",
    "rank_goal_scorers AS (\n",
    "    SELECT\n",
    "        TEAM,\n",
    "        PLAYER_ID,\n",
    "        player_name,\n",
    "        total_goals,\n",
    "        first_half_goals,\n",
    "        second_half_goals,\n",
    "        ROW_NUMBER() OVER (PARTITION BY TEAM ORDER BY total_goals DESC) AS rank\n",
    "    FROM goal_counts\n",
    ")\n",
    "-- main query to return overall top goal scorer\n",
    "SELECT\n",
    "    TEAM,\n",
    "    PLAYER_ID,\n",
    "    player_name,\n",
    "    total_goals,\n",
    "    first_half_goals,\n",
    "    second_half_goals\n",
    "FROM rank_goal_scorers\n",
    "WHERE rank = 1\n",
    "  AND TEAM IS NOT NULL\n",
    "  AND total_goals = (SELECT MAX(total_goals) FROM goal_counts);"
   ]
  },
  {
   "cell_type": "markdown",
   "metadata": {
    "id": "7vgS_zAOb-dj"
   },
   "source": [
    "## Question 4: **Answer**"
   ]
  },
  {
   "cell_type": "code",
   "execution_count": 12,
   "metadata": {
    "colab": {
     "base_uri": "https://localhost:8080/",
     "height": 115
    },
    "executionInfo": {
     "elapsed": 26,
     "status": "ok",
     "timestamp": 1752947230614,
     "user": {
      "displayName": "Benjamin Bennett Alexander",
      "userId": "14614847693800833280"
     },
     "user_tz": -180
    },
    "id": "RWD7RTiD_wD1",
    "outputId": "b16b90a0-746a-46d0-eb48-334e4cb0d501"
   },
   "outputs": [
    {
     "name": "stdout",
     "output_type": "stream",
     "text": [
      " * sqlite:///champions_league.db\n",
      "Done.\n"
     ]
    },
    {
     "data": {
      "text/html": [
       "<table>\n",
       "    <thead>\n",
       "        <tr>\n",
       "            <th>height_category</th>\n",
       "            <th>header_goals</th>\n",
       "            <th>percentage_of_total</th>\n",
       "        </tr>\n",
       "    </thead>\n",
       "    <tbody>\n",
       "        <tr>\n",
       "            <td>180 and above</td>\n",
       "            <td>129</td>\n",
       "            <td>20.31</td>\n",
       "        </tr>\n",
       "        <tr>\n",
       "            <td>Below 180</td>\n",
       "            <td>44</td>\n",
       "            <td>6.93</td>\n",
       "        </tr>\n",
       "    </tbody>\n",
       "</table>"
      ],
      "text/plain": [
       "[('180 and above', 129, 20.31), ('Below 180', 44, 6.93)]"
      ]
     },
     "execution_count": 12,
     "metadata": {},
     "output_type": "execute_result"
    }
   ],
   "source": [
    "%%sql\n",
    "-- filtering for header and forward\n",
    "WITH forward_header_goals AS (\n",
    "    SELECT\n",
    "        p.PLAYER_ID,\n",
    "        p.HEIGHT,\n",
    "        g.GOAL_ID\n",
    "    FROM players p\n",
    "    LEFT JOIN goals g\n",
    "    ON p.PLAYER_ID = g.PID\n",
    "    WHERE p.POSITION LIKE '%Forward%' AND g.GOAL_DESC LIKE '%header%'\n",
    "),\n",
    "-- filtering for height categories\n",
    "height_categories AS (\n",
    "    SELECT\n",
    "        PLAYER_ID,\n",
    "        HEIGHT,\n",
    "        CASE\n",
    "            WHEN HEIGHT >= 180 THEN '180 and above'\n",
    "            WHEN HEIGHT < 180 THEN 'Below 180'\n",
    "        END AS height_category\n",
    "    FROM forward_header_goals\n",
    "),\n",
    "-- Aggregating goals for the two categories\n",
    "header_goal_counts AS (\n",
    "    SELECT\n",
    "        height_category,\n",
    "        COUNT(*) AS header_goals\n",
    "    FROM height_categories\n",
    "    WHERE height_category IN ('180 and above', 'Below 180')\n",
    "    GROUP BY height_category\n",
    "),\n",
    "-- Aggregating total forwards\n",
    "total_forwards AS (\n",
    "    SELECT COUNT(*) AS total_forwards\n",
    "    FROM players\n",
    "    WHERE POSITION LIKE '%Forward%'\n",
    ")\n",
    "-- Returning the goals for the two categories and percentages\n",
    "SELECT\n",
    "    gc.height_category,\n",
    "    gc.header_goals,\n",
    "    ROUND((gc.header_goals * 100.0) / tf.total_forwards, 2) AS percentage_of_total\n",
    "FROM header_goal_counts gc\n",
    " -- This join is needed to combine the CTEs\n",
    "JOIN total_forwards tf ON 1 = 1\n",
    "ORDER BY gc.header_goals DESC;"
   ]
  },
  {
   "cell_type": "markdown",
   "metadata": {
    "id": "Tz0VhcyjMDSB"
   },
   "source": [
    "## Question 5: **Answer**"
   ]
  },
  {
   "cell_type": "code",
   "execution_count": 13,
   "metadata": {
    "colab": {
     "base_uri": "https://localhost:8080/"
    },
    "executionInfo": {
     "elapsed": 104,
     "status": "ok",
     "timestamp": 1752947230720,
     "user": {
      "displayName": "Benjamin Bennett Alexander",
      "userId": "14614847693800833280"
     },
     "user_tz": -180
    },
    "id": "RrHUGlrVj4lA",
    "outputId": "ae851895-5492-4f42-88ad-6668d3957073"
   },
   "outputs": [
    {
     "name": "stdout",
     "output_type": "stream",
     "text": [
      " * sqlite:///champions_league.db\n",
      "744 rows affected.\n"
     ]
    },
    {
     "data": {
      "text/plain": [
       "[]"
      ]
     },
     "execution_count": 13,
     "metadata": {},
     "output_type": "execute_result"
    }
   ],
   "source": [
    "%%sql\n",
    "UPDATE matches\n",
    "SET DATE_TIME = DATE('20'|| SUBSTR(DATE_TIME, 8, 2) || '-' ||\n",
    "                    CASE SUBSTR(DATE_TIME, 4, 3)\n",
    "                        WHEN 'JAN' THEN '01'\n",
    "                        WHEN 'FEB' THEN '02'\n",
    "                        WHEN 'MAR' THEN '03'\n",
    "                        WHEN 'APR' THEN '04'\n",
    "                        WHEN 'MAY' THEN '05'\n",
    "                        WHEN 'JUN' THEN '06'\n",
    "                        WHEN 'JUL' THEN '07'\n",
    "                        WHEN 'AUG' THEN '08'\n",
    "                        WHEN 'SEP' THEN '09'\n",
    "                        WHEN 'OCT' THEN '10'\n",
    "                        WHEN 'NOV' THEN '11'\n",
    "                        WHEN 'DEC' THEN '12'\n",
    "                    END || '-' || SUBSTR(DATE_TIME, 1, 2));"
   ]
  },
  {
   "cell_type": "code",
   "execution_count": 14,
   "metadata": {
    "colab": {
     "base_uri": "https://localhost:8080/",
     "height": 94
    },
    "executionInfo": {
     "elapsed": 39,
     "status": "ok",
     "timestamp": 1752947230744,
     "user": {
      "displayName": "Benjamin Bennett Alexander",
      "userId": "14614847693800833280"
     },
     "user_tz": -180
    },
    "id": "HubfUiFSlSyW",
    "outputId": "e4533f80-d3ed-4423-89f2-1e642ea52af4"
   },
   "outputs": [
    {
     "name": "stdout",
     "output_type": "stream",
     "text": [
      " * sqlite:///champions_league.db\n",
      "Done.\n"
     ]
    },
    {
     "data": {
      "text/html": [
       "<table>\n",
       "    <thead>\n",
       "        <tr>\n",
       "            <th>count_of_none_values</th>\n",
       "        </tr>\n",
       "    </thead>\n",
       "    <tbody>\n",
       "        <tr>\n",
       "            <td>0</td>\n",
       "        </tr>\n",
       "    </tbody>\n",
       "</table>"
      ],
      "text/plain": [
       "[(0,)]"
      ]
     },
     "execution_count": 14,
     "metadata": {},
     "output_type": "execute_result"
    }
   ],
   "source": [
    "%%sql\n",
    "SELECT\n",
    "    COUNT(*) AS count_of_none_values\n",
    "FROM matches\n",
    "WHERE DATE_TIME IS NULL;"
   ]
  },
  {
   "cell_type": "code",
   "execution_count": 15,
   "metadata": {
    "colab": {
     "base_uri": "https://localhost:8080/"
    },
    "executionInfo": {
     "elapsed": 107,
     "status": "ok",
     "timestamp": 1752947230835,
     "user": {
      "displayName": "Benjamin Bennett Alexander",
      "userId": "14614847693800833280"
     },
     "user_tz": -180
    },
    "id": "1dKe9EvNlEqo",
    "outputId": "90587b5c-f921-46f0-82b6-97f6a3a98234"
   },
   "outputs": [
    {
     "name": "stdout",
     "output_type": "stream",
     "text": [
      " * sqlite:///champions_league.db\n",
      "2755 rows affected.\n"
     ]
    },
    {
     "data": {
      "text/plain": [
       "[]"
      ]
     },
     "execution_count": 15,
     "metadata": {},
     "output_type": "execute_result"
    }
   ],
   "source": [
    "%%sql\n",
    "UPDATE players\n",
    "SET DOB = DATE(REPLACE(REPLACE((CASE\n",
    "                    WHEN DOB LIKE '_ __ ____' THEN SUBSTR(TRIM(DOB), 6, 4)||' -0'||SUBSTR(DOB, 1, 2)||'-'||SUBSTR(DOB, 3, 2)\n",
    "                    WHEN DOB LIKE '__ __ ____' THEN SUBSTR(DOB, 7, 4)||'-'||SUBSTR(DOB, 1, 2)||'-'||SUBSTR(DOB, 4, 2)\n",
    "                    WHEN DOB LIKE '__ _ ____' THEN SUBSTR(DOB, 6, 4)||'-'||SUBSTR(DOB, 1, 2)||'-0'||SUBSTR(DOB, 4, 2)\n",
    "                    WHEN DOB LIKE '_ _ ____' THEN SUBSTR(DOB, 5, 4)||' -0'||SUBSTR(DOB, 1, 2)||'-0'||SUBSTR(DOB, 3, 2)\n",
    "                    ELSE DOB -- Fallback for unmatched formats\n",
    "                END),' -', '-'),' -0', '-0' ))\n",
    "WHERE DOB IS NOT NULL;"
   ]
  },
  {
   "cell_type": "code",
   "execution_count": 16,
   "metadata": {
    "colab": {
     "base_uri": "https://localhost:8080/"
    },
    "executionInfo": {
     "elapsed": 88,
     "status": "ok",
     "timestamp": 1752947230839,
     "user": {
      "displayName": "Benjamin Bennett Alexander",
      "userId": "14614847693800833280"
     },
     "user_tz": -180
    },
    "id": "ZEGdkPUmICFJ",
    "outputId": "8e329cd2-d8c5-4a08-b20a-8baea0f1de2b"
   },
   "outputs": [
    {
     "name": "stdout",
     "output_type": "stream",
     "text": [
      " * sqlite:///champions_league.db\n",
      "14 rows affected.\n"
     ]
    },
    {
     "data": {
      "text/plain": [
       "[]"
      ]
     },
     "execution_count": 16,
     "metadata": {},
     "output_type": "execute_result"
    }
   ],
   "source": [
    "%%sql\n",
    "DELETE FROM players\n",
    "WHERE DOB IS NULL;"
   ]
  },
  {
   "cell_type": "code",
   "execution_count": 17,
   "metadata": {
    "colab": {
     "base_uri": "https://localhost:8080/",
     "height": 94
    },
    "executionInfo": {
     "elapsed": 71,
     "status": "ok",
     "timestamp": 1752947230841,
     "user": {
      "displayName": "Benjamin Bennett Alexander",
      "userId": "14614847693800833280"
     },
     "user_tz": -180
    },
    "id": "MBFr2FyiKWPT",
    "outputId": "5983fd42-7436-4c26-a124-5965d861b5bc"
   },
   "outputs": [
    {
     "name": "stdout",
     "output_type": "stream",
     "text": [
      " * sqlite:///champions_league.db\n",
      "Done.\n"
     ]
    },
    {
     "data": {
      "text/html": [
       "<table>\n",
       "    <thead>\n",
       "        <tr>\n",
       "            <th>count_of_none_values</th>\n",
       "        </tr>\n",
       "    </thead>\n",
       "    <tbody>\n",
       "        <tr>\n",
       "            <td>0</td>\n",
       "        </tr>\n",
       "    </tbody>\n",
       "</table>"
      ],
      "text/plain": [
       "[(0,)]"
      ]
     },
     "execution_count": 17,
     "metadata": {},
     "output_type": "execute_result"
    }
   ],
   "source": [
    "%%sql\n",
    "SELECT\n",
    "    COUNT(*) AS count_of_none_values\n",
    "FROM players\n",
    "WHERE DOB IS NULL;"
   ]
  },
  {
   "cell_type": "markdown",
   "metadata": {
    "id": "BoQfTXQEiXRP"
   },
   "source": []
  },
  {
   "cell_type": "code",
   "execution_count": 18,
   "metadata": {
    "colab": {
     "base_uri": "https://localhost:8080/",
     "height": 115
    },
    "executionInfo": {
     "elapsed": 33,
     "status": "ok",
     "timestamp": 1752947230865,
     "user": {
      "displayName": "Benjamin Bennett Alexander",
      "userId": "14614847693800833280"
     },
     "user_tz": -180
    },
    "id": "PmxIs7BTKhjG",
    "outputId": "27692bf6-95d2-4225-8e90-030956861986"
   },
   "outputs": [
    {
     "name": "stdout",
     "output_type": "stream",
     "text": [
      " * sqlite:///champions_league.db\n",
      "Done.\n"
     ]
    },
    {
     "data": {
      "text/html": [
       "<table>\n",
       "    <thead>\n",
       "        <tr>\n",
       "            <th>age_range</th>\n",
       "            <th>total_goals</th>\n",
       "        </tr>\n",
       "    </thead>\n",
       "    <tbody>\n",
       "        <tr>\n",
       "            <td>26-30</td>\n",
       "            <td>112</td>\n",
       "        </tr>\n",
       "        <tr>\n",
       "            <td>31-35</td>\n",
       "            <td>73</td>\n",
       "        </tr>\n",
       "    </tbody>\n",
       "</table>"
      ],
      "text/plain": [
       "[('26-30', 112), ('31-35', 73)]"
      ]
     },
     "execution_count": 18,
     "metadata": {},
     "output_type": "execute_result"
    }
   ],
   "source": [
    "%%sql\n",
    "WITH player_ages AS (\n",
    "    SELECT\n",
    "        g.GOAL_ID,\n",
    "        p.PLAYER_ID,\n",
    "        ROUND((JULIANDAY(m.DATE_TIME) - JULIANDAY(p.DOB)) / 365, 2)\n",
    "        AS age_at_goal\n",
    "    FROM goals g\n",
    "    JOIN players p\n",
    "    ON  g.PID = p.PLAYER_ID\n",
    "    JOIN matches m\n",
    "    ON  g.MATCH_ID = m.MATCH_ID\n",
    "    WHERE m.SEASON = '2021-2022'\n",
    "),\n",
    "-- Aggregating goals per age group\n",
    "age_range_goals AS (\n",
    "    SELECT\n",
    "        CASE\n",
    "            WHEN age_at_goal BETWEEN 26 AND 30 THEN '26-30'\n",
    "            WHEN age_at_goal BETWEEN 31 AND 35 THEN '31-35'\n",
    "        END AS age_range,\n",
    "        COUNT(GOAL_ID) AS total_goals\n",
    "    FROM  player_ages\n",
    "    WHERE age_at_goal BETWEEN 26 AND 30 OR\n",
    "          age_at_goal  BETWEEN 31 AND 35\n",
    "    GROUP BY age_range\n",
    ")\n",
    "-- Returning the results\n",
    "SELECT\n",
    "    age_range,\n",
    "    total_goals\n",
    "FROM age_range_goals;"
   ]
  },
  {
   "cell_type": "code",
   "execution_count": 19,
   "metadata": {
    "executionInfo": {
     "elapsed": 5,
     "status": "ok",
     "timestamp": 1752947230877,
     "user": {
      "displayName": "Benjamin Bennett Alexander",
      "userId": "14614847693800833280"
     },
     "user_tz": -180
    },
    "id": "vK0xv_QQngfQ"
   },
   "outputs": [],
   "source": [
    "# %%sql\n",
    "# DROP TABLE matches;\n",
    "\n",
    "# DROP TABLE players;\n",
    "\n",
    "# DROP TABLE goals;"
   ]
  }
 ],
 "metadata": {
  "colab": {
   "authorship_tag": "ABX9TyODU/rjk2zFpOVDTgCpCDEv",
   "mount_file_id": "1ayVdAaOK8nn7nvO7HOcYUdO_zH9Zriph",
   "provenance": []
  },
  "kernelspec": {
   "display_name": "Python 3",
   "name": "python3"
  },
  "language_info": {
   "name": "python"
  }
 },
 "nbformat": 4,
 "nbformat_minor": 0
}

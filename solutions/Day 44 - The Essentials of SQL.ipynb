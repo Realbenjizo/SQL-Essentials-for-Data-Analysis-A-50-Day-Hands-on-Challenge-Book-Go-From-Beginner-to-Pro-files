{
 "cells": [
  {
   "cell_type": "markdown",
   "metadata": {
    "id": "6Aj_geIXg5tb"
   },
   "source": [
    "## Question 1: **Answer**"
   ]
  },
  {
   "cell_type": "code",
   "execution_count": 1,
   "metadata": {
    "executionInfo": {
     "elapsed": 446,
     "status": "ok",
     "timestamp": 1752946635633,
     "user": {
      "displayName": "Benjamin Bennett Alexander",
      "userId": "14614847693800833280"
     },
     "user_tz": -180
    },
    "id": "dI4AEcrGb5tR"
   },
   "outputs": [],
   "source": [
    "import pandas as pd\n",
    "import sqlite3\n",
    "import matplotlib.pyplot as plt"
   ]
  },
  {
   "cell_type": "code",
   "execution_count": null,
   "metadata": {
    "executionInfo": {
     "elapsed": 1633,
     "status": "ok",
     "timestamp": 1752946637255,
     "user": {
      "displayName": "Benjamin Bennett Alexander",
      "userId": "14614847693800833280"
     },
     "user_tz": -180
    },
    "id": "umrkgyljcOVb"
   },
   "outputs": [],
   "source": [
    "def add_data_to_database(data):\n",
    "    try:\n",
    "        # Creating a DataFrame\n",
    "        df = pd.read_csv(data)\n",
    "        # Connecting to database\n",
    "        engine = sqlite3.connect(\"customer_behavior_data.db\")\n",
    "        df.to_sql(\"customers\", con=engine, index = False)\n",
    "        engine.close()\n",
    "    except Exception as e:\n",
    "            print(f'Error: {e}')\n",
    "\n",
    "# Loading data\n",
    "data = \"/content/customer_behavior_data.csv\"\n",
    "add_data_to_database(data)"
   ]
  },
  {
   "cell_type": "code",
   "execution_count": 3,
   "metadata": {
    "executionInfo": {
     "elapsed": 967,
     "status": "ok",
     "timestamp": 1752946638220,
     "user": {
      "displayName": "Benjamin Bennett Alexander",
      "userId": "14614847693800833280"
     },
     "user_tz": -180
    },
    "id": "8eY834NwdNDp"
   },
   "outputs": [],
   "source": [
    "# Loading Magic extension\n",
    "%load_ext sql"
   ]
  },
  {
   "cell_type": "code",
   "execution_count": 4,
   "metadata": {
    "executionInfo": {
     "elapsed": 70,
     "status": "ok",
     "timestamp": 1752946638289,
     "user": {
      "displayName": "Benjamin Bennett Alexander",
      "userId": "14614847693800833280"
     },
     "user_tz": -180
    },
    "id": "-2QjoANUFE09"
   },
   "outputs": [],
   "source": [
    "# Connecting to the database\n",
    "%sql sqlite:///customer_behavior_data.db"
   ]
  },
  {
   "cell_type": "code",
   "execution_count": 5,
   "metadata": {
    "executionInfo": {
     "elapsed": 37,
     "status": "ok",
     "timestamp": 1752946638323,
     "user": {
      "displayName": "Benjamin Bennett Alexander",
      "userId": "14614847693800833280"
     },
     "user_tz": -180
    },
    "id": "BXnU7fCWU1pS"
   },
   "outputs": [],
   "source": [
    "# Default to duplicated style\n",
    "%config SqlMagic.style = '_DEPRECATED_DEFAULT'"
   ]
  },
  {
   "cell_type": "code",
   "execution_count": 6,
   "metadata": {
    "colab": {
     "base_uri": "https://localhost:8080/",
     "height": 177
    },
    "executionInfo": {
     "elapsed": 44,
     "status": "ok",
     "timestamp": 1752946638369,
     "user": {
      "displayName": "Benjamin Bennett Alexander",
      "userId": "14614847693800833280"
     },
     "user_tz": -180
    },
    "id": "znxhnltFdhu4",
    "outputId": "ed47edc5-1e6a-414c-a6d0-e9c367892815"
   },
   "outputs": [
    {
     "name": "stdout",
     "output_type": "stream",
     "text": [
      " * sqlite:///customer_behavior_data.db\n",
      "Done.\n"
     ]
    },
    {
     "data": {
      "text/html": [
       "<table>\n",
       "    <thead>\n",
       "        <tr>\n",
       "            <th>id</th>\n",
       "            <th>age</th>\n",
       "            <th>gender</th>\n",
       "            <th>income</th>\n",
       "            <th>education</th>\n",
       "            <th>region</th>\n",
       "            <th>loyalty_status</th>\n",
       "            <th>purchase_frequency</th>\n",
       "            <th>purchase_amount</th>\n",
       "            <th>product_category</th>\n",
       "            <th>promotion_usage</th>\n",
       "            <th>satisfaction_score</th>\n",
       "        </tr>\n",
       "    </thead>\n",
       "    <tbody>\n",
       "        <tr>\n",
       "            <td>1</td>\n",
       "            <td>27</td>\n",
       "            <td>Male</td>\n",
       "            <td>40682</td>\n",
       "            <td>Bachelor</td>\n",
       "            <td>East</td>\n",
       "            <td>Gold</td>\n",
       "            <td>frequent</td>\n",
       "            <td>18249</td>\n",
       "            <td>Books</td>\n",
       "            <td>0</td>\n",
       "            <td>6</td>\n",
       "        </tr>\n",
       "        <tr>\n",
       "            <td>2</td>\n",
       "            <td>29</td>\n",
       "            <td>Male</td>\n",
       "            <td>15317</td>\n",
       "            <td>Masters</td>\n",
       "            <td>West</td>\n",
       "            <td>Regular</td>\n",
       "            <td>rare</td>\n",
       "            <td>4557</td>\n",
       "            <td>Clothing</td>\n",
       "            <td>1</td>\n",
       "            <td>6</td>\n",
       "        </tr>\n",
       "        <tr>\n",
       "            <td>3</td>\n",
       "            <td>37</td>\n",
       "            <td>Male</td>\n",
       "            <td>38849</td>\n",
       "            <td>Bachelor</td>\n",
       "            <td>West</td>\n",
       "            <td>Silver</td>\n",
       "            <td>rare</td>\n",
       "            <td>11822</td>\n",
       "            <td>Clothing</td>\n",
       "            <td>0</td>\n",
       "            <td>6</td>\n",
       "        </tr>\n",
       "        <tr>\n",
       "            <td>4</td>\n",
       "            <td>30</td>\n",
       "            <td>Male</td>\n",
       "            <td>11568</td>\n",
       "            <td>HighSchool</td>\n",
       "            <td>South</td>\n",
       "            <td>Regular</td>\n",
       "            <td>frequent</td>\n",
       "            <td>4098</td>\n",
       "            <td>Food</td>\n",
       "            <td>0</td>\n",
       "            <td>7</td>\n",
       "        </tr>\n",
       "        <tr>\n",
       "            <td>5</td>\n",
       "            <td>31</td>\n",
       "            <td>Female</td>\n",
       "            <td>46952</td>\n",
       "            <td>College</td>\n",
       "            <td>North</td>\n",
       "            <td>Regular</td>\n",
       "            <td>occasional</td>\n",
       "            <td>19685</td>\n",
       "            <td>Clothing</td>\n",
       "            <td>1</td>\n",
       "            <td>5</td>\n",
       "        </tr>\n",
       "    </tbody>\n",
       "</table>"
      ],
      "text/plain": [
       "[(1, 27, 'Male', 40682, 'Bachelor', 'East', 'Gold', 'frequent', 18249, 'Books', 0, 6),\n",
       " (2, 29, 'Male', 15317, 'Masters', 'West', 'Regular', 'rare', 4557, 'Clothing', 1, 6),\n",
       " (3, 37, 'Male', 38849, 'Bachelor', 'West', 'Silver', 'rare', 11822, 'Clothing', 0, 6),\n",
       " (4, 30, 'Male', 11568, 'HighSchool', 'South', 'Regular', 'frequent', 4098, 'Food', 0, 7),\n",
       " (5, 31, 'Female', 46952, 'College', 'North', 'Regular', 'occasional', 19685, 'Clothing', 1, 5)]"
      ]
     },
     "execution_count": 6,
     "metadata": {},
     "output_type": "execute_result"
    }
   ],
   "source": [
    "%%sql\n",
    "SELECT * FROM customers\n",
    "LIMIT 5;"
   ]
  },
  {
   "cell_type": "markdown",
   "metadata": {
    "id": "y6Hhx7e5HmqX"
   },
   "source": [
    "## Question 2: **Answer**"
   ]
  },
  {
   "cell_type": "code",
   "execution_count": 7,
   "metadata": {
    "colab": {
     "base_uri": "https://localhost:8080/",
     "height": 136
    },
    "executionInfo": {
     "elapsed": 67,
     "status": "ok",
     "timestamp": 1752946638440,
     "user": {
      "displayName": "Benjamin Bennett Alexander",
      "userId": "14614847693800833280"
     },
     "user_tz": -180
    },
    "id": "Sgi2tKE_fUfR",
    "outputId": "60235eaf-b90d-4bea-ba13-ced1775d5b75"
   },
   "outputs": [
    {
     "name": "stdout",
     "output_type": "stream",
     "text": [
      " * sqlite:///customer_behavior_data.db\n",
      "Done.\n"
     ]
    },
    {
     "data": {
      "text/html": [
       "<table>\n",
       "    <thead>\n",
       "        <tr>\n",
       "            <th>loyalty_status</th>\n",
       "            <th>churn_risk_count</th>\n",
       "        </tr>\n",
       "    </thead>\n",
       "    <tbody>\n",
       "        <tr>\n",
       "            <td>Regular</td>\n",
       "            <td>3965</td>\n",
       "        </tr>\n",
       "        <tr>\n",
       "            <td>Silver</td>\n",
       "            <td>1971</td>\n",
       "        </tr>\n",
       "        <tr>\n",
       "            <td>Gold</td>\n",
       "            <td>635</td>\n",
       "        </tr>\n",
       "    </tbody>\n",
       "</table>"
      ],
      "text/plain": [
       "[('Regular', 3965), ('Silver', 1971), ('Gold', 635)]"
      ]
     },
     "execution_count": 7,
     "metadata": {},
     "output_type": "execute_result"
    }
   ],
   "source": [
    "%%sql\n",
    "SELECT\n",
    "    loyalty_status,\n",
    "    COUNT(*) AS churn_risk_count\n",
    "FROM customers\n",
    "WHERE satisfaction_score <= 3\n",
    "GROUP BY loyalty_status\n",
    "ORDER BY churn_risk_count DESC;"
   ]
  },
  {
   "cell_type": "markdown",
   "metadata": {
    "id": "xS6yt14O2KKX"
   },
   "source": [
    "## Question 3: **Answers**"
   ]
  },
  {
   "cell_type": "code",
   "execution_count": 8,
   "metadata": {
    "colab": {
     "base_uri": "https://localhost:8080/",
     "height": 94
    },
    "executionInfo": {
     "elapsed": 44,
     "status": "ok",
     "timestamp": 1752946638490,
     "user": {
      "displayName": "Benjamin Bennett Alexander",
      "userId": "14614847693800833280"
     },
     "user_tz": -180
    },
    "id": "U6wjNkHTs6hU",
    "outputId": "45988580-bac9-449d-ce13-4f991891c769"
   },
   "outputs": [
    {
     "name": "stdout",
     "output_type": "stream",
     "text": [
      " * sqlite:///customer_behavior_data.db\n",
      "Done.\n"
     ]
    },
    {
     "data": {
      "text/html": [
       "<table>\n",
       "    <thead>\n",
       "        <tr>\n",
       "            <th>total_sales_with_promo</th>\n",
       "            <th>total_sales_no_promo</th>\n",
       "            <th>difference</th>\n",
       "        </tr>\n",
       "    </thead>\n",
       "    <tbody>\n",
       "        <tr>\n",
       "            <td>28196351</td>\n",
       "            <td>67037133</td>\n",
       "            <td>38840782</td>\n",
       "        </tr>\n",
       "    </tbody>\n",
       "</table>"
      ],
      "text/plain": [
       "[(28196351, 67037133, 38840782)]"
      ]
     },
     "execution_count": 8,
     "metadata": {},
     "output_type": "execute_result"
    }
   ],
   "source": [
    "%%sql\n",
    "SELECT\n",
    "    with_promotion.total_sales AS total_sales_with_promo,\n",
    "    without_promotion.total_sales AS total_sales_no_promo,\n",
    "    -- Finding the difference\n",
    "    ABS(with_promotion.total_sales - without_promotion.total_sales) AS\n",
    "    difference\n",
    "FROM\n",
    "    -- calculates total sales for customers who used a promotion\n",
    "    (SELECT\n",
    "        loyalty_status,\n",
    "        SUM(purchase_amount) AS total_sales,\n",
    "        promotion_usage\n",
    "    FROM customers\n",
    "    WHERE promotion_usage = 1\n",
    "        AND loyalty_status = 'Gold'\n",
    "    GROUP BY loyalty_status\n",
    "    ) AS with_promotion\n",
    "JOIN\n",
    "    -- calculates total sales for customers who did not used a promotion\n",
    "    (SELECT\n",
    "        loyalty_status,\n",
    "        SUM(purchase_amount) AS total_sales,\n",
    "        promotion_usage\n",
    "    FROM customers\n",
    "    WHERE promotion_usage = 0\n",
    "        AND loyalty_status = 'Gold'\n",
    "    GROUP BY loyalty_status\n",
    "    ) AS without_promotion\n",
    "ON with_promotion.loyalty_status = without_promotion.loyalty_status;"
   ]
  },
  {
   "cell_type": "markdown",
   "metadata": {
    "id": "1pikSHFYit0e"
   },
   "source": [
    "## Part B: **Answer**"
   ]
  },
  {
   "cell_type": "code",
   "execution_count": 9,
   "metadata": {
    "executionInfo": {
     "elapsed": 8,
     "status": "ok",
     "timestamp": 1752946638524,
     "user": {
      "displayName": "Benjamin Bennett Alexander",
      "userId": "14614847693800833280"
     },
     "user_tz": -180
    },
    "id": "AggmhJfg3abE"
   },
   "outputs": [],
   "source": [
    "query = \"\"\"\n",
    "SELECT\n",
    "    with_promotion.total_sales AS total_sales_with_promo,\n",
    "    without_promotion.total_sales AS total_sales_no_promo\n",
    "FROM\n",
    "    (SELECT -- calculates total sales for customers who used promotion\n",
    "        loyalty_status,\n",
    "        SUM(purchase_amount) AS total_sales,\n",
    "        promotion_usage\n",
    "    FROM customers\n",
    "    WHERE promotion_usage = 1\n",
    "        AND loyalty_status = 'Gold'\n",
    "    GROUP BY loyalty_status\n",
    "    ) AS with_promotion\n",
    "JOIN\n",
    "    (SELECT\n",
    "        loyalty_status,\n",
    "        SUM(purchase_amount) AS total_sales,\n",
    "        promotion_usage\n",
    "    FROM customers\n",
    "    WHERE promotion_usage = 0\n",
    "        AND loyalty_status = 'Gold'\n",
    "    GROUP BY loyalty_status\n",
    "    ) AS without_promotion\n",
    "ON with_promotion.loyalty_status = without_promotion.loyalty_status;\n",
    "\n",
    "\"\"\""
   ]
  },
  {
   "cell_type": "code",
   "execution_count": 10,
   "metadata": {
    "executionInfo": {
     "elapsed": 59,
     "status": "ok",
     "timestamp": 1752946638591,
     "user": {
      "displayName": "Benjamin Bennett Alexander",
      "userId": "14614847693800833280"
     },
     "user_tz": -180
    },
    "id": "cbqesXEy1VgV"
   },
   "outputs": [],
   "source": [
    "# Connecting to the database and loading data into a DataFrame\n",
    "connection = sqlite3.connect('customer_behavior_data.db')\n",
    "df = pd.read_sql_query(query, connection)"
   ]
  },
  {
   "cell_type": "code",
   "execution_count": 11,
   "metadata": {
    "colab": {
     "base_uri": "https://localhost:8080/",
     "height": 553
    },
    "executionInfo": {
     "elapsed": 245,
     "status": "ok",
     "timestamp": 1752946638832,
     "user": {
      "displayName": "Benjamin Bennett Alexander",
      "userId": "14614847693800833280"
     },
     "user_tz": -180
    },
    "id": "em6U8aBZ1y1y",
    "outputId": "a44e738e-4905-4891-a7d5-30ce59eef54a"
   },
   "outputs": [
    {
     "data": {
      "image/png": "[encoded data removed]",
      "text/plain": [
       "<Figure size 1000x600 with 1 Axes>"
      ]
     },
     "metadata": {},
     "output_type": "display_data"
    }
   ],
   "source": [
    "# Creating a plot with matplotlib\n",
    "values = [\n",
    "    df.loc[0, 'total_sales_with_promo'],\n",
    "    df.loc[0, 'total_sales_no_promo']\n",
    "]\n",
    "fig, ax = plt.subplots(figsize=(10, 6))\n",
    "ax.bar(df.columns, df.loc[0],\n",
    "       color = ['Red', 'Green'],\n",
    "       label = df.loc[0])\n",
    "ax.set_yticks(values)\n",
    "ax.set_ylabel(\"Sales total\")\n",
    "plt.title('Impact of Promotion on Sales values', fontsize = 20)\n",
    "plt.show()"
   ]
  },
  {
   "cell_type": "markdown",
   "metadata": {
    "id": "kFjrd-AC43B1"
   },
   "source": [
    "## Question 4: **Answer**"
   ]
  },
  {
   "cell_type": "code",
   "execution_count": 12,
   "metadata": {
    "colab": {
     "base_uri": "https://localhost:8080/",
     "height": 94
    },
    "executionInfo": {
     "elapsed": 60,
     "status": "ok",
     "timestamp": 1752946638876,
     "user": {
      "displayName": "Benjamin Bennett Alexander",
      "userId": "14614847693800833280"
     },
     "user_tz": -180
    },
    "id": "0nZJf598JOAL",
    "outputId": "cc734c97-8ff5-42b1-d119-67833ee57dbc"
   },
   "outputs": [
    {
     "name": "stdout",
     "output_type": "stream",
     "text": [
      " * sqlite:///customer_behavior_data.db\n",
      "Done.\n"
     ]
    },
    {
     "data": {
      "text/html": [
       "<table>\n",
       "    <thead>\n",
       "        <tr>\n",
       "            <th>above_average_count</th>\n",
       "            <th>below_average_count</th>\n",
       "        </tr>\n",
       "    </thead>\n",
       "    <tbody>\n",
       "        <tr>\n",
       "            <td>18666</td>\n",
       "            <td>41472</td>\n",
       "        </tr>\n",
       "    </tbody>\n",
       "</table>"
      ],
      "text/plain": [
       "[(18666, 41472)]"
      ]
     },
     "execution_count": 12,
     "metadata": {},
     "output_type": "execute_result"
    }
   ],
   "source": [
    "%%sql\n",
    "SELECT\n",
    "-- Count customers with above average score\n",
    "    SUM(CASE\n",
    "            WHEN c.satisfaction_score > (SELECT AVG(satisfaction_score)\n",
    "            FROM customers) THEN 1\n",
    "            ELSE 0\n",
    "        END) AS above_average_count,\n",
    "\n",
    "-- Count customers with below average score\n",
    "    SUM(CASE\n",
    "            WHEN c.satisfaction_score < (SELECT AVG(satisfaction_score)\n",
    "            FROM customers) THEN 1\n",
    "            ELSE 0\n",
    "        END) AS below_average_count\n",
    "FROM customers c\n",
    "WHERE c.loyalty_status = 'Regular';"
   ]
  },
  {
   "cell_type": "markdown",
   "metadata": {
    "id": "brJ4ho6_NGpK"
   },
   "source": [
    "## Question 5: **Answer**"
   ]
  },
  {
   "cell_type": "code",
   "execution_count": 13,
   "metadata": {
    "colab": {
     "base_uri": "https://localhost:8080/",
     "height": 94
    },
    "executionInfo": {
     "elapsed": 202,
     "status": "ok",
     "timestamp": 1752946639079,
     "user": {
      "displayName": "Benjamin Bennett Alexander",
      "userId": "14614847693800833280"
     },
     "user_tz": -180
    },
    "id": "U-GNIvcrOOj6",
    "outputId": "5e76784d-3c3e-4c32-cf09-09b929a7af07"
   },
   "outputs": [
    {
     "name": "stdout",
     "output_type": "stream",
     "text": [
      " * sqlite:///customer_behavior_data.db\n",
      "Done.\n"
     ]
    },
    {
     "data": {
      "text/html": [
       "<table>\n",
       "    <thead>\n",
       "        <tr>\n",
       "            <th>categorized_age_group</th>\n",
       "            <th>education_status</th>\n",
       "            <th>total_electronic_purchase</th>\n",
       "        </tr>\n",
       "    </thead>\n",
       "    <tbody>\n",
       "        <tr>\n",
       "            <td>30_and_above</td>\n",
       "            <td>College educated</td>\n",
       "            <td>&nbsp;&nbsp;&nbsp;&nbsp;&nbsp;&nbsp;&nbsp;&nbsp;&nbsp;&nbsp;&nbsp;126622806</td>\n",
       "        </tr>\n",
       "    </tbody>\n",
       "</table>"
      ],
      "text/plain": [
       "[('30_and_above', 'College educated', '           126622806')]"
      ]
     },
     "execution_count": 13,
     "metadata": {},
     "output_type": "execute_result"
    }
   ],
   "source": [
    "%%sql\n",
    "WITH categorized_customers AS (\n",
    "    SELECT\n",
    "        CASE\n",
    "            WHEN age >= 30 THEN '30_and_above'\n",
    "            ELSE 'Below_30'\n",
    "        END AS categorized_age_group,\n",
    "        CASE\n",
    "            WHEN education IN ('Bachelor','Masters', 'College')\n",
    "            THEN 'College educated'\n",
    "            ELSE 'Not college educated'\n",
    "        END AS education_status,\n",
    "        SUM(purchase_amount) AS total_electronic_purchase\n",
    "    FROM customers\n",
    "    WHERE LOWER(product_category) = 'electronics'\n",
    "    GROUP BY categorized_age_group, education_status\n",
    ")\n",
    "SELECT\n",
    "    categorized_age_group,\n",
    "    education_status,\n",
    "    printf('%20s', total_electronic_purchase) AS total_electronic_purchase\n",
    "FROM categorized_customers\n",
    "WHERE total_electronic_purchase = (SELECT MAX(total_electronic_purchase)\n",
    "                                    FROM categorized_customers);"
   ]
  },
  {
   "cell_type": "markdown",
   "metadata": {
    "id": "j-Q91du3GRMV"
   },
   "source": [
    "## Question 6: **Answer**"
   ]
  },
  {
   "cell_type": "code",
   "execution_count": 14,
   "metadata": {
    "colab": {
     "base_uri": "https://localhost:8080/",
     "height": 136
    },
    "executionInfo": {
     "elapsed": 589,
     "status": "ok",
     "timestamp": 1752946639656,
     "user": {
      "displayName": "Benjamin Bennett Alexander",
      "userId": "14614847693800833280"
     },
     "user_tz": -180
    },
    "id": "b_HQ4gbmkxEv",
    "outputId": "73631215-b222-4912-d7d9-a3c10a75554e"
   },
   "outputs": [
    {
     "name": "stdout",
     "output_type": "stream",
     "text": [
      " * sqlite:///customer_behavior_data.db\n",
      "Done.\n"
     ]
    },
    {
     "data": {
      "text/html": [
       "<table>\n",
       "    <thead>\n",
       "        <tr>\n",
       "            <th>id</th>\n",
       "            <th>loyalty_status</th>\n",
       "            <th>total_spent</th>\n",
       "        </tr>\n",
       "    </thead>\n",
       "    <tbody>\n",
       "        <tr>\n",
       "            <td>83256</td>\n",
       "            <td>Gold</td>\n",
       "            <td>24408</td>\n",
       "        </tr>\n",
       "        <tr>\n",
       "            <td>72792</td>\n",
       "            <td>Regular</td>\n",
       "            <td>25406</td>\n",
       "        </tr>\n",
       "        <tr>\n",
       "            <td>91490</td>\n",
       "            <td>Silver</td>\n",
       "            <td>26204</td>\n",
       "        </tr>\n",
       "    </tbody>\n",
       "</table>"
      ],
      "text/plain": [
       "[(83256, 'Gold', 24408), (72792, 'Regular', 25406), (91490, 'Silver', 26204)]"
      ]
     },
     "execution_count": 14,
     "metadata": {},
     "output_type": "execute_result"
    }
   ],
   "source": [
    "%%sql\n",
    "-- Ranking customers within loyalty status\n",
    "WITH customer_spending AS (\n",
    "    SELECT\n",
    "        id,\n",
    "        loyalty_status,\n",
    "        SUM(purchase_amount) AS total_spent,\n",
    "        RANK() OVER (PARTITION BY loyalty_status\n",
    "        ORDER BY SUM(purchase_amount) DESC) AS spending_rank\n",
    "    FROM customers\n",
    "    GROUP BY id, loyalty_status\n",
    ")\n",
    "-- Retrieve top spender within each loyalty status\n",
    "SELECT\n",
    "    id,\n",
    "    loyalty_status,\n",
    "    total_spent\n",
    "FROM customer_spending\n",
    "WHERE spending_rank = 1;"
   ]
  }
 ],
 "metadata": {
  "colab": {
   "authorship_tag": "ABX9TyOBtyTl5g0YbuQdyaAd7sPG",
   "mount_file_id": "1V6l7ls2IJrizULv6MXEemT4w7M5bzMfF",
   "provenance": []
  },
  "kernelspec": {
   "display_name": "Python 3",
   "name": "python3"
  },
  "language_info": {
   "name": "python"
  }
 },
 "nbformat": 4,
 "nbformat_minor": 0
}

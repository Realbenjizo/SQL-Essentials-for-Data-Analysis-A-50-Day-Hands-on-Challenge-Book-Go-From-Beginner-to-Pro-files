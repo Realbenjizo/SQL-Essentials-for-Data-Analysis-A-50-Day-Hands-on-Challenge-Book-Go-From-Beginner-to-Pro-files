{
 "cells": [
  {
   "cell_type": "markdown",
   "metadata": {
    "id": "jOQ4_ZU1jSl8"
   },
   "source": [
    "## Question 1: **Answer**"
   ]
  },
  {
   "cell_type": "code",
   "execution_count": 1,
   "metadata": {
    "executionInfo": {
     "elapsed": 399,
     "status": "ok",
     "timestamp": 1752946802754,
     "user": {
      "displayName": "Benjamin Bennett Alexander",
      "userId": "14614847693800833280"
     },
     "user_tz": -180
    },
    "id": "ySTDf3g8d_EJ"
   },
   "outputs": [],
   "source": [
    "import pandas as pd\n",
    "import sqlite3"
   ]
  },
  {
   "cell_type": "code",
   "execution_count": null,
   "metadata": {
    "id": "poP2g5EexqHi"
   },
   "outputs": [],
   "source": []
  },
  {
   "cell_type": "code",
   "execution_count": null,
   "metadata": {
    "executionInfo": {
     "elapsed": 1026,
     "status": "ok",
     "timestamp": 1752946803787,
     "user": {
      "displayName": "Benjamin Bennett Alexander",
      "userId": "14614847693800833280"
     },
     "user_tz": -180
    },
    "id": "8Ea9t5qZd_t-"
   },
   "outputs": [],
   "source": [
    "def add_data_to_database(input_data):\n",
    "    try:\n",
    "        # Creating a DataFrame\n",
    "        df = pd.read_csv(input_data)\n",
    "        # Connecting to database\n",
    "        engine = sqlite3.connect(\"social_media_platforms.db\")\n",
    "        df.to_sql(\"social_media\", con=engine, index = False)\n",
    "        engine.close()\n",
    "    except Exception as e:\n",
    "            print(f'Error: {e}')\n",
    "\n",
    "# Loading data\n",
    "input_data = \"/content/social_media_platforms.csv\"\n",
    "add_data_to_database(input_data)"
   ]
  },
  {
   "cell_type": "code",
   "execution_count": 3,
   "metadata": {
    "executionInfo": {
     "elapsed": 765,
     "status": "ok",
     "timestamp": 1752946804584,
     "user": {
      "displayName": "Benjamin Bennett Alexander",
      "userId": "14614847693800833280"
     },
     "user_tz": -180
    },
    "id": "M0qqoX1ofT3C"
   },
   "outputs": [],
   "source": [
    "# Loading Magic extension\n",
    "%load_ext sql"
   ]
  },
  {
   "cell_type": "code",
   "execution_count": 4,
   "metadata": {
    "executionInfo": {
     "elapsed": 28,
     "status": "ok",
     "timestamp": 1752946804628,
     "user": {
      "displayName": "Benjamin Bennett Alexander",
      "userId": "14614847693800833280"
     },
     "user_tz": -180
    },
    "id": "VhymtTvWJ4j2"
   },
   "outputs": [],
   "source": [
    "# Connecting to the database\n",
    "%sql sqlite:///social_media_platforms.db"
   ]
  },
  {
   "cell_type": "code",
   "execution_count": 5,
   "metadata": {
    "executionInfo": {
     "elapsed": 20,
     "status": "ok",
     "timestamp": 1752946804652,
     "user": {
      "displayName": "Benjamin Bennett Alexander",
      "userId": "14614847693800833280"
     },
     "user_tz": -180
    },
    "id": "iVqrBls2KFdl"
   },
   "outputs": [],
   "source": [
    "# Default to duplicated style\n",
    "%config SqlMagic.style = '_DEPRECATED_DEFAULT'"
   ]
  },
  {
   "cell_type": "code",
   "execution_count": 6,
   "metadata": {
    "colab": {
     "base_uri": "https://localhost:8080/",
     "height": 177
    },
    "executionInfo": {
     "elapsed": 29,
     "status": "ok",
     "timestamp": 1752946804735,
     "user": {
      "displayName": "Benjamin Bennett Alexander",
      "userId": "14614847693800833280"
     },
     "user_tz": -180
    },
    "id": "7SzstW0AfU-a",
    "outputId": "91d88990-ae49-4e1a-9d62-90dad08ce8f3"
   },
   "outputs": [
    {
     "name": "stdout",
     "output_type": "stream",
     "text": [
      " * sqlite:///social_media_platforms.db\n",
      "Done.\n"
     ]
    },
    {
     "data": {
      "text/html": [
       "<table>\n",
       "    <thead>\n",
       "        <tr>\n",
       "            <th>Date</th>\n",
       "            <th>Facebook</th>\n",
       "            <th>Pinterest</th>\n",
       "            <th>Twitter</th>\n",
       "            <th>StumbleUpon</th>\n",
       "            <th>YouTube</th>\n",
       "            <th>Instagram</th>\n",
       "            <th>Tumblr</th>\n",
       "            <th>reddit</th>\n",
       "            <th>VKontakte</th>\n",
       "            <th>LinkedIn</th>\n",
       "            <th>Google+</th>\n",
       "            <th>Digg</th>\n",
       "            <th>MySpace</th>\n",
       "            <th>Fark</th>\n",
       "            <th>NowPublic</th>\n",
       "            <th>iWiW</th>\n",
       "            <th>news.ycombinator.com</th>\n",
       "            <th>Delicious</th>\n",
       "            <th>orkut</th>\n",
       "            <th>Odnoklassniki</th>\n",
       "            <th>Vimeo</th>\n",
       "            <th>Other</th>\n",
       "        </tr>\n",
       "    </thead>\n",
       "    <tbody>\n",
       "        <tr>\n",
       "            <td>2009-04</td>\n",
       "            <td>20.16</td>\n",
       "            <td>0.0</td>\n",
       "            <td>6.86</td>\n",
       "            <td>36.79</td>\n",
       "            <td>0.0</td>\n",
       "            <td>0.0</td>\n",
       "            <td>0.0</td>\n",
       "            <td>8.98</td>\n",
       "            <td>0.0</td>\n",
       "            <td>0.0</td>\n",
       "            <td>0.0</td>\n",
       "            <td>6.7</td>\n",
       "            <td>14.81</td>\n",
       "            <td>0.22</td>\n",
       "            <td>0.04</td>\n",
       "            <td>0.29</td>\n",
       "            <td>0.08</td>\n",
       "            <td>0.49</td>\n",
       "            <td>1.75</td>\n",
       "            <td>0.0</td>\n",
       "            <td>0.0</td>\n",
       "            <td>2.83</td>\n",
       "        </tr>\n",
       "        <tr>\n",
       "            <td>2009-05</td>\n",
       "            <td>24.3</td>\n",
       "            <td>0.0</td>\n",
       "            <td>9.95</td>\n",
       "            <td>33.78</td>\n",
       "            <td>0.0</td>\n",
       "            <td>0.0</td>\n",
       "            <td>0.0</td>\n",
       "            <td>7.62</td>\n",
       "            <td>0.0</td>\n",
       "            <td>0.28</td>\n",
       "            <td>0.0</td>\n",
       "            <td>7.34</td>\n",
       "            <td>8.95</td>\n",
       "            <td>0.44</td>\n",
       "            <td>0.05</td>\n",
       "            <td>2.1</td>\n",
       "            <td>0.12</td>\n",
       "            <td>0.57</td>\n",
       "            <td>1.77</td>\n",
       "            <td>0.0</td>\n",
       "            <td>0.0</td>\n",
       "            <td>2.72</td>\n",
       "        </tr>\n",
       "        <tr>\n",
       "            <td>2009-06</td>\n",
       "            <td>26.48</td>\n",
       "            <td>0.0</td>\n",
       "            <td>10.56</td>\n",
       "            <td>29.65</td>\n",
       "            <td>0.0</td>\n",
       "            <td>0.0</td>\n",
       "            <td>0.0</td>\n",
       "            <td>12.13</td>\n",
       "            <td>0.0</td>\n",
       "            <td>0.49</td>\n",
       "            <td>0.0</td>\n",
       "            <td>5.9</td>\n",
       "            <td>7.66</td>\n",
       "            <td>0.66</td>\n",
       "            <td>0.05</td>\n",
       "            <td>2.35</td>\n",
       "            <td>0.11</td>\n",
       "            <td>0.58</td>\n",
       "            <td>1.46</td>\n",
       "            <td>0.0</td>\n",
       "            <td>0.0</td>\n",
       "            <td>1.93</td>\n",
       "        </tr>\n",
       "        <tr>\n",
       "            <td>2009-07</td>\n",
       "            <td>29.1</td>\n",
       "            <td>0.0</td>\n",
       "            <td>10.35</td>\n",
       "            <td>33.55</td>\n",
       "            <td>0.0</td>\n",
       "            <td>0.0</td>\n",
       "            <td>0.0</td>\n",
       "            <td>9.52</td>\n",
       "            <td>0.0</td>\n",
       "            <td>0.41</td>\n",
       "            <td>0.0</td>\n",
       "            <td>5.36</td>\n",
       "            <td>5.49</td>\n",
       "            <td>0.22</td>\n",
       "            <td>0.03</td>\n",
       "            <td>2.21</td>\n",
       "            <td>0.14</td>\n",
       "            <td>0.55</td>\n",
       "            <td>1.24</td>\n",
       "            <td>0.0</td>\n",
       "            <td>0.0</td>\n",
       "            <td>1.84</td>\n",
       "        </tr>\n",
       "        <tr>\n",
       "            <td>2009-08</td>\n",
       "            <td>34.25</td>\n",
       "            <td>0.0</td>\n",
       "            <td>11.15</td>\n",
       "            <td>29.01</td>\n",
       "            <td>0.0</td>\n",
       "            <td>0.0</td>\n",
       "            <td>0.0</td>\n",
       "            <td>9.37</td>\n",
       "            <td>0.0</td>\n",
       "            <td>0.45</td>\n",
       "            <td>0.0</td>\n",
       "            <td>4.56</td>\n",
       "            <td>4.69</td>\n",
       "            <td>0.4</td>\n",
       "            <td>0.08</td>\n",
       "            <td>2.27</td>\n",
       "            <td>0.08</td>\n",
       "            <td>0.52</td>\n",
       "            <td>1.27</td>\n",
       "            <td>0.0</td>\n",
       "            <td>0.0</td>\n",
       "            <td>1.9</td>\n",
       "        </tr>\n",
       "    </tbody>\n",
       "</table>"
      ],
      "text/plain": [
       "[('2009-04', 20.16, 0.0, 6.86, 36.79, 0.0, 0.0, 0.0, 8.98, 0.0, 0.0, 0.0, 6.7, 14.81, 0.22, 0.04, 0.29, 0.08, 0.49, 1.75, 0.0, 0.0, 2.83),\n",
       " ('2009-05', 24.3, 0.0, 9.95, 33.78, 0.0, 0.0, 0.0, 7.62, 0.0, 0.28, 0.0, 7.34, 8.95, 0.44, 0.05, 2.1, 0.12, 0.57, 1.77, 0.0, 0.0, 2.72),\n",
       " ('2009-06', 26.48, 0.0, 10.56, 29.65, 0.0, 0.0, 0.0, 12.13, 0.0, 0.49, 0.0, 5.9, 7.66, 0.66, 0.05, 2.35, 0.11, 0.58, 1.46, 0.0, 0.0, 1.93),\n",
       " ('2009-07', 29.1, 0.0, 10.35, 33.55, 0.0, 0.0, 0.0, 9.52, 0.0, 0.41, 0.0, 5.36, 5.49, 0.22, 0.03, 2.21, 0.14, 0.55, 1.24, 0.0, 0.0, 1.84),\n",
       " ('2009-08', 34.25, 0.0, 11.15, 29.01, 0.0, 0.0, 0.0, 9.37, 0.0, 0.45, 0.0, 4.56, 4.69, 0.4, 0.08, 2.27, 0.08, 0.52, 1.27, 0.0, 0.0, 1.9)]"
      ]
     },
     "execution_count": 6,
     "metadata": {},
     "output_type": "execute_result"
    }
   ],
   "source": [
    "%%sql\n",
    "SELECT * FROM social_media\n",
    "LIMIT 5;"
   ]
  },
  {
   "cell_type": "markdown",
   "metadata": {
    "id": "eoFY0EKQfrR4"
   },
   "source": [
    "## Question 2: **Answer**"
   ]
  },
  {
   "cell_type": "code",
   "execution_count": 7,
   "metadata": {
    "colab": {
     "base_uri": "https://localhost:8080/",
     "height": 94
    },
    "executionInfo": {
     "elapsed": 56,
     "status": "ok",
     "timestamp": 1752946804797,
     "user": {
      "displayName": "Benjamin Bennett Alexander",
      "userId": "14614847693800833280"
     },
     "user_tz": -180
    },
    "id": "nIxEAEXQsZBQ",
    "outputId": "0ddda9e9-668d-41a6-8509-6fbcb4701783"
   },
   "outputs": [
    {
     "name": "stdout",
     "output_type": "stream",
     "text": [
      " * sqlite:///social_media_platforms.db\n",
      "Done.\n"
     ]
    },
    {
     "data": {
      "text/html": [
       "<table>\n",
       "    <thead>\n",
       "        <tr>\n",
       "            <th>Date</th>\n",
       "            <th>facebook_percentage_share</th>\n",
       "            <th>percentage_change</th>\n",
       "            <th>comment</th>\n",
       "        </tr>\n",
       "    </thead>\n",
       "    <tbody>\n",
       "        <tr>\n",
       "            <td>2010-12</td>\n",
       "            <td>60.88</td>\n",
       "            <td>13.51</td>\n",
       "            <td>Decline</td>\n",
       "        </tr>\n",
       "    </tbody>\n",
       "</table>"
      ],
      "text/plain": [
       "[('2010-12', 60.88, 13.51, 'Decline')]"
      ]
     },
     "execution_count": 7,
     "metadata": {},
     "output_type": "execute_result"
    }
   ],
   "source": [
    "%%sql\n",
    "-- Fetch previous year december value\n",
    "WITH december_percentages AS (\n",
    "    SELECT\n",
    "    Date,\n",
    "    Facebook,\n",
    "    -- Facebook percentage from the previous December\n",
    "    LAG(Facebook) OVER (ORDER BY Date)\n",
    "    AS previous_year\n",
    "FROM social_media\n",
    "-- Filter for December records only\n",
    "WHERE Date LIKE '%-12')\n",
    "\n",
    "-- Calculate the absolute year-over-year change for December 2010\n",
    "SELECT\n",
    "    Date,\n",
    "    Facebook AS facebook_percentage_share,\n",
    "    ABS(ROUND((Facebook - previous_year), 2))\n",
    "    AS percentage_change,\n",
    "    (CASE\n",
    "        WHEN (Facebook - previous_year) > 0 Then 'Growth'\n",
    "        ELSE 'Decline'\n",
    "    END) AS comment\n",
    "FROM december_percentages\n",
    "WHERE Date LIKE '2010-12%'"
   ]
  },
  {
   "cell_type": "markdown",
   "metadata": {
    "id": "qsRSOblaykor"
   },
   "source": [
    "## Question 3: **Answer**"
   ]
  },
  {
   "cell_type": "code",
   "execution_count": 8,
   "metadata": {
    "colab": {
     "base_uri": "https://localhost:8080/",
     "height": 94
    },
    "executionInfo": {
     "elapsed": 20,
     "status": "ok",
     "timestamp": 1752946804822,
     "user": {
      "displayName": "Benjamin Bennett Alexander",
      "userId": "14614847693800833280"
     },
     "user_tz": -180
    },
    "id": "84o4Mgy8tzf6",
    "outputId": "4944bc34-694c-407c-dda2-c3972a13b3de"
   },
   "outputs": [
    {
     "name": "stdout",
     "output_type": "stream",
     "text": [
      " * sqlite:///social_media_platforms.db\n",
      "Done.\n"
     ]
    },
    {
     "data": {
      "text/html": [
       "<table>\n",
       "    <thead>\n",
       "        <tr>\n",
       "            <th>Date</th>\n",
       "            <th>Twitter_percentage_share</th>\n",
       "            <th>twitter_mom_change</th>\n",
       "            <th>Youtube_percentage_share</th>\n",
       "            <th>youtube_mom_change</th>\n",
       "        </tr>\n",
       "    </thead>\n",
       "    <tbody>\n",
       "        <tr>\n",
       "            <td>2012-03</td>\n",
       "            <td>5.33</td>\n",
       "            <td>-11.75</td>\n",
       "            <td>10.97</td>\n",
       "            <td>103.53</td>\n",
       "        </tr>\n",
       "    </tbody>\n",
       "</table>"
      ],
      "text/plain": [
       "[('2012-03', 5.33, -11.75, 10.97, 103.53)]"
      ]
     },
     "execution_count": 8,
     "metadata": {},
     "output_type": "execute_result"
    }
   ],
   "source": [
    "%%sql\n",
    "-- Filter data for 2012 and calculate the previous month's values using LAG\n",
    "WITH month_over_month_change AS (\n",
    "    SELECT\n",
    "        Date,\n",
    "        Twitter,\n",
    "        YouTube,\n",
    "        LAG(Twitter) OVER (ORDER BY Date) AS prev_month_twitter,\n",
    "        LAG(YouTube) OVER (ORDER BY Date) AS prev_month_youtube\n",
    "   FROM social_media\n",
    "    -- Filter for 2012\n",
    "   WHERE Date LIKE '2012-%')\n",
    "\n",
    "--Calculate percentage change for March 2012\n",
    "SELECT\n",
    "    Date,\n",
    "    Twitter AS Twitter_percentage_share,\n",
    "    ROUND((Twitter - prev_month_twitter) / prev_month_twitter * 100, 2)\n",
    "    AS twitter_mom_change,\n",
    "    YouTube AS Youtube_percentage_share,\n",
    "    ROUND((YouTube - prev_month_youtube) / prev_month_youtube * 100, 2)\n",
    "    AS youtube_mom_change\n",
    "FROM month_over_month_change\n",
    "WHERE Date LIKE '2012-03%';"
   ]
  },
  {
   "cell_type": "markdown",
   "metadata": {
    "id": "-OpnCr8Yj3MV"
   },
   "source": [
    "## Question 4: **Answer**"
   ]
  },
  {
   "cell_type": "code",
   "execution_count": 9,
   "metadata": {
    "colab": {
     "base_uri": "https://localhost:8080/",
     "height": 136
    },
    "executionInfo": {
     "elapsed": 23,
     "status": "ok",
     "timestamp": 1752946804849,
     "user": {
      "displayName": "Benjamin Bennett Alexander",
      "userId": "14614847693800833280"
     },
     "user_tz": -180
    },
    "id": "WcUO-QsLxoek",
    "outputId": "05c3db24-0416-44a4-efa5-4cce3c4941c2"
   },
   "outputs": [
    {
     "name": "stdout",
     "output_type": "stream",
     "text": [
      " * sqlite:///social_media_platforms.db\n",
      "Done.\n"
     ]
    },
    {
     "data": {
      "text/html": [
       "<table>\n",
       "    <thead>\n",
       "        <tr>\n",
       "            <th>date_values</th>\n",
       "            <th>percentage_share</th>\n",
       "            <th>youtube_percentage_change</th>\n",
       "        </tr>\n",
       "    </thead>\n",
       "    <tbody>\n",
       "        <tr>\n",
       "            <td>2015-10</td>\n",
       "            <td>0.12</td>\n",
       "            <td>0</td>\n",
       "        </tr>\n",
       "        <tr>\n",
       "            <td>2015-11</td>\n",
       "            <td>0.17</td>\n",
       "            <td>41.67</td>\n",
       "        </tr>\n",
       "        <tr>\n",
       "            <td>2015-12</td>\n",
       "            <td>0.23</td>\n",
       "            <td>35.29</td>\n",
       "        </tr>\n",
       "    </tbody>\n",
       "</table>"
      ],
      "text/plain": [
       "[('2015-10', 0.12, 0), ('2015-11', 0.17, 41.67), ('2015-12', 0.23, 35.29)]"
      ]
     },
     "execution_count": 9,
     "metadata": {},
     "output_type": "execute_result"
    }
   ],
   "source": [
    "%%sql\n",
    "WITH last_three_months AS (\n",
    "    SELECT\n",
    "        Date AS date_values,\n",
    "        YouTube,\n",
    "        -- YouTube percentage from the previous month\n",
    "        LAG(YouTube) OVER (ORDER BY Date) AS prev_youtube\n",
    "    FROM social_media\n",
    "    -- Filter for the last 3 months of 2015\n",
    "    WHERE Date LIKE '2015-10%' OR Date LIKE '2015-11%'\n",
    "               OR Date LIKE '2015-12%'\n",
    ")\n",
    "\n",
    "-- Calculating the month-over-month percentage change\n",
    "SELECT\n",
    "    date_values,\n",
    "    ROUND(YouTube, 2) AS percentage_share,\n",
    "    --Using COALESCE to return 0 if change is None\n",
    "    COALESCE(ROUND((YouTube - prev_youtube) / prev_youtube * 100, 2), 0)\n",
    "    AS youtube_percentage_change\n",
    "FROM last_three_months;"
   ]
  },
  {
   "cell_type": "markdown",
   "metadata": {
    "id": "ivOEGbPbV-0W"
   },
   "source": [
    "## Question 5: **answer**"
   ]
  },
  {
   "cell_type": "code",
   "execution_count": 10,
   "metadata": {
    "colab": {
     "base_uri": "https://localhost:8080/",
     "height": 94
    },
    "executionInfo": {
     "elapsed": 55,
     "status": "ok",
     "timestamp": 1752946804911,
     "user": {
      "displayName": "Benjamin Bennett Alexander",
      "userId": "14614847693800833280"
     },
     "user_tz": -180
    },
    "id": "anDqz2k39KAj",
    "outputId": "1f12b0eb-fba9-4894-c399-108e163d33be"
   },
   "outputs": [
    {
     "name": "stdout",
     "output_type": "stream",
     "text": [
      " * sqlite:///social_media_platforms.db\n",
      "Done.\n"
     ]
    },
    {
     "data": {
      "text/html": [
       "<table>\n",
       "    <thead>\n",
       "        <tr>\n",
       "            <th>Reddit_growth_or_share</th>\n",
       "            <th>LinkedIn_growth_or_share</th>\n",
       "            <th>VKontakte_growth_or_share</th>\n",
       "        </tr>\n",
       "    </thead>\n",
       "    <tbody>\n",
       "        <tr>\n",
       "            <td>26.69</td>\n",
       "            <td>57.14</td>\n",
       "            <td>0.0</td>\n",
       "        </tr>\n",
       "    </tbody>\n",
       "</table>"
      ],
      "text/plain": [
       "[(26.69, 57.14, 0.0)]"
      ]
     },
     "execution_count": 10,
     "metadata": {},
     "output_type": "execute_result"
    }
   ],
   "source": [
    "%%sql\n",
    "-- Calculate the year-over-year growth for each platform\n",
    "WITH year_over_year AS (\n",
    "    SELECT\n",
    "        Date,\n",
    "        Reddit,\n",
    "        LinkedIn,\n",
    "        VKontakte,\n",
    "        LAG(Reddit) OVER (ORDER BY Date) AS prev_reddit,\n",
    "        LAG(LinkedIn) OVER (ORDER BY Date) AS prev_linkedin,\n",
    "        LAG(VKontakte) OVER (ORDER BY Date) AS prev_vk\n",
    "    FROM social_media\n",
    "    WHERE Date LIKE '%-12'\n",
    ")\n",
    "-- Calculate the growth or return 2009 percentage for each platform\n",
    "SELECT\n",
    "    CASE\n",
    "        WHEN Reddit > prev_reddit THEN ROUND((Reddit - prev_reddit) / prev_reddit * 100, 2)\n",
    "        ELSE ROUND(prev_reddit, 2) -- No growth, return 2009 percentage\n",
    "    END AS Reddit_growth_or_share,\n",
    "    CASE\n",
    "        WHEN LinkedIn > prev_linkedin THEN ROUND((LinkedIn - prev_linkedin) / prev_linkedin * 100, 2)\n",
    "        ELSE ROUND(prev_linkedin, 2) -- No growth, return 2009 percentage\n",
    "    END AS LinkedIn_growth_or_share,\n",
    "    CASE\n",
    "        WHEN VKontakte > prev_vk THEN ROUND((VKontakte - prev_vk) / prev_vk * 100, 2)\n",
    "        ELSE ROUND(prev_vk, 2) -- No growth, return 2009 percentage\n",
    "    END AS VKontakte_growth_or_share\n",
    "FROM year_over_year\n",
    "WHERE Date = '2010-12';"
   ]
  },
  {
   "cell_type": "markdown",
   "metadata": {
    "id": "tF6t8yimc5cb"
   },
   "source": []
  }
 ],
 "metadata": {
  "colab": {
   "authorship_tag": "ABX9TyNEY7YcVA+2FMvy5f1jm2NS",
   "mount_file_id": "1DqXHeMjJIgduPLtS9_9a9_baDh_wuBPU",
   "provenance": []
  },
  "kernelspec": {
   "display_name": "Python 3",
   "name": "python3"
  },
  "language_info": {
   "name": "python"
  }
 },
 "nbformat": 4,
 "nbformat_minor": 0
}

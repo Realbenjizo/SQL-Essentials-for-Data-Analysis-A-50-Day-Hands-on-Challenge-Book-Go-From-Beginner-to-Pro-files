{
 "cells": [
  {
   "cell_type": "markdown",
   "metadata": {
    "id": "1Pjbvcryh0Lu"
   },
   "source": [
    "## Question 1: Answer"
   ]
  },
  {
   "cell_type": "code",
   "execution_count": null,
   "metadata": {
    "id": "kc9tEtIjR_jq"
   },
   "outputs": [],
   "source": [
    "import sqlite3"
   ]
  },
  {
   "cell_type": "code",
   "execution_count": null,
   "metadata": {
    "colab": {
     "base_uri": "https://localhost:8080/"
    },
    "executionInfo": {
     "elapsed": 15,
     "status": "ok",
     "timestamp": 1739203788704,
     "user": {
      "displayName": "Benjamin Bennett Alexander",
      "userId": "14614847693800833280"
     },
     "user_tz": -180
    },
    "id": "_pCCsRjnSTLk",
    "outputId": "888fc1fe-a484-45d2-ee04-1542a7cb0637"
   },
   "outputs": [
    {
     "name": "stdout",
     "output_type": "stream",
     "text": [
      "Table created successfully.\n"
     ]
    }
   ],
   "source": [
    "def add_data_to_database():\n",
    "    try:\n",
    "        # Connect to the database\n",
    "        with sqlite3.connect('employees_data.db') as conn:\n",
    "            cursor = conn.cursor()\n",
    "\n",
    "           # Create the table\n",
    "            cursor.execute('''\n",
    "            CREATE TABLE IF NOT EXISTS employees (\n",
    "                employee_id INTEGER PRIMARY KEY,\n",
    "                employee_names TEXT,\n",
    "                tasks_completed INTEGER,\n",
    "                awards INTEGER\n",
    "            )\n",
    "            ''' )\n",
    "            # Insert data into the table\n",
    "            cursor.executemany('''\n",
    "            INSERT INTO employees (employee_id, employee_names, tasks_completed, awards)\n",
    "            VALUES (?, ?, ?, ?)\n",
    "            ''', [\n",
    "                (1, 'kenson', 4, 3),\n",
    "                (2, 'John', 5, 3),\n",
    "                (3, 'Peter', 12, 5),\n",
    "                (4, 'John', 8, 4),\n",
    "                (5, 'Kelly', 7, 4)\n",
    "                ]\n",
    "                )\n",
    "            conn.commit()\n",
    "            print(\"Table created successfully.\")\n",
    "    except Exception as e:\n",
    "        print(f\"Error: {e}\")\n",
    "\n",
    "# Calling the function\n",
    "add_data_to_database()"
   ]
  },
  {
   "cell_type": "code",
   "execution_count": null,
   "metadata": {
    "id": "d-PEAc-JVq46"
   },
   "outputs": [],
   "source": [
    "# Loading SQL extension\n",
    "%load_ext sql"
   ]
  },
  {
   "cell_type": "code",
   "execution_count": null,
   "metadata": {
    "id": "2JmLUQo4VwZr"
   },
   "outputs": [],
   "source": [
    "# Connnecting to the database\n",
    "%sql sqlite:///employees_data.db"
   ]
  },
  {
   "cell_type": "code",
   "execution_count": null,
   "metadata": {
    "id": "qFxn0S-jV02h"
   },
   "outputs": [],
   "source": [
    "%config SqlMagic.style = '_DEPRECATED_DEFAULT'"
   ]
  },
  {
   "cell_type": "code",
   "execution_count": null,
   "metadata": {
    "colab": {
     "base_uri": "https://localhost:8080/",
     "height": 175
    },
    "executionInfo": {
     "elapsed": 96,
     "status": "ok",
     "timestamp": 1739203789415,
     "user": {
      "displayName": "Benjamin Bennett Alexander",
      "userId": "14614847693800833280"
     },
     "user_tz": -180
    },
    "id": "81x60RkGV5SN",
    "outputId": "4281d06f-e925-47e0-ffd9-9373168358ee"
   },
   "outputs": [
    {
     "name": "stdout",
     "output_type": "stream",
     "text": [
      " * sqlite:///employees_data.db\n",
      "Done.\n"
     ]
    },
    {
     "data": {
      "text/html": [
       "<table>\n",
       "    <thead>\n",
       "        <tr>\n",
       "            <th>employee_id</th>\n",
       "            <th>employee_names</th>\n",
       "            <th>tasks_completed</th>\n",
       "            <th>awards</th>\n",
       "        </tr>\n",
       "    </thead>\n",
       "    <tbody>\n",
       "        <tr>\n",
       "            <td>1</td>\n",
       "            <td>kenson</td>\n",
       "            <td>4</td>\n",
       "            <td>3</td>\n",
       "        </tr>\n",
       "        <tr>\n",
       "            <td>2</td>\n",
       "            <td>John</td>\n",
       "            <td>5</td>\n",
       "            <td>3</td>\n",
       "        </tr>\n",
       "        <tr>\n",
       "            <td>3</td>\n",
       "            <td>Peter</td>\n",
       "            <td>12</td>\n",
       "            <td>5</td>\n",
       "        </tr>\n",
       "        <tr>\n",
       "            <td>4</td>\n",
       "            <td>John</td>\n",
       "            <td>8</td>\n",
       "            <td>4</td>\n",
       "        </tr>\n",
       "        <tr>\n",
       "            <td>5</td>\n",
       "            <td>Kelly</td>\n",
       "            <td>7</td>\n",
       "            <td>4</td>\n",
       "        </tr>\n",
       "    </tbody>\n",
       "</table>"
      ],
      "text/plain": [
       "[(1, 'kenson', 4, 3),\n",
       " (2, 'John', 5, 3),\n",
       " (3, 'Peter', 12, 5),\n",
       " (4, 'John', 8, 4),\n",
       " (5, 'Kelly', 7, 4)]"
      ]
     },
     "execution_count": 6,
     "metadata": {},
     "output_type": "execute_result"
    }
   ],
   "source": [
    "%%sql\n",
    "SELECT * FROM employees;"
   ]
  },
  {
   "cell_type": "markdown",
   "metadata": {
    "id": "qtkNlRVwWbRM"
   },
   "source": [
    "## Question 2 : **Answer**"
   ]
  },
  {
   "cell_type": "code",
   "execution_count": null,
   "metadata": {
    "colab": {
     "base_uri": "https://localhost:8080/",
     "height": 94
    },
    "executionInfo": {
     "elapsed": 11,
     "status": "ok",
     "timestamp": 1739203789428,
     "user": {
      "displayName": "Benjamin Bennett Alexander",
      "userId": "14614847693800833280"
     },
     "user_tz": -180
    },
    "id": "IwitSSzYWeIx",
    "outputId": "4cb3705b-3cce-4901-a003-744e27960b56"
   },
   "outputs": [
    {
     "name": "stdout",
     "output_type": "stream",
     "text": [
      " * sqlite:///employees_data.db\n",
      "Done.\n"
     ]
    },
    {
     "data": {
      "text/html": [
       "<table>\n",
       "    <thead>\n",
       "        <tr>\n",
       "            <th>unique_employees</th>\n",
       "        </tr>\n",
       "    </thead>\n",
       "    <tbody>\n",
       "        <tr>\n",
       "            <td>4</td>\n",
       "        </tr>\n",
       "    </tbody>\n",
       "</table>"
      ],
      "text/plain": [
       "[(4,)]"
      ]
     },
     "execution_count": 7,
     "metadata": {},
     "output_type": "execute_result"
    }
   ],
   "source": [
    "%%sql\n",
    "SELECT\n",
    "    COUNT(DISTINCT employee_names) AS unique_employees\n",
    "FROM employees;"
   ]
  },
  {
   "cell_type": "markdown",
   "metadata": {
    "id": "EhE2mgMZWnia"
   },
   "source": [
    "## Question 3: Answer"
   ]
  },
  {
   "cell_type": "code",
   "execution_count": null,
   "metadata": {
    "colab": {
     "base_uri": "https://localhost:8080/",
     "height": 94
    },
    "executionInfo": {
     "elapsed": 19,
     "status": "ok",
     "timestamp": 1739203789458,
     "user": {
      "displayName": "Benjamin Bennett Alexander",
      "userId": "14614847693800833280"
     },
     "user_tz": -180
    },
    "id": "xVGF9erbWq8D",
    "outputId": "11843941-2f79-4850-b906-6c99cae7f3dd"
   },
   "outputs": [
    {
     "name": "stdout",
     "output_type": "stream",
     "text": [
      " * sqlite:///employees_data.db\n",
      "Done.\n"
     ]
    },
    {
     "data": {
      "text/html": [
       "<table>\n",
       "    <thead>\n",
       "        <tr>\n",
       "            <th>over_10_tasks_completed</th>\n",
       "        </tr>\n",
       "    </thead>\n",
       "    <tbody>\n",
       "        <tr>\n",
       "            <td>2</td>\n",
       "        </tr>\n",
       "    </tbody>\n",
       "</table>"
      ],
      "text/plain": [
       "[(2,)]"
      ]
     },
     "execution_count": 8,
     "metadata": {},
     "output_type": "execute_result"
    }
   ],
   "source": [
    "%%sql\n",
    "SELECT\n",
    "      COUNT(*) AS over_10_tasks_completed\n",
    "FROM (\n",
    "    \tSELECT\n",
    "       \t\t employee_names,\n",
    "        \t\tSUM(tasks_completed) AS total_tasks_completed\n",
    "   \t    FROM employees\n",
    "   \t    GROUP BY employee_names\n",
    "    \tHAVING SUM(tasks_completed) > 10\n",
    ") AS completed_tasks_count;"
   ]
  },
  {
   "cell_type": "markdown",
   "metadata": {
    "id": "TKRRPfWJW77B"
   },
   "source": [
    "## Question 4: **Answer**"
   ]
  },
  {
   "cell_type": "code",
   "execution_count": null,
   "metadata": {
    "colab": {
     "base_uri": "https://localhost:8080/",
     "height": 94
    },
    "executionInfo": {
     "elapsed": 22,
     "status": "ok",
     "timestamp": 1739203789484,
     "user": {
      "displayName": "Benjamin Bennett Alexander",
      "userId": "14614847693800833280"
     },
     "user_tz": -180
    },
    "id": "8whgUa8rem-x",
    "outputId": "e192b2fb-601f-4cc6-b22c-424c0925eac2"
   },
   "outputs": [
    {
     "name": "stdout",
     "output_type": "stream",
     "text": [
      " * sqlite:///employees_data.db\n",
      "Done.\n"
     ]
    },
    {
     "data": {
      "text/html": [
       "<table>\n",
       "    <thead>\n",
       "        <tr>\n",
       "            <th>count_of_names_start_with_jo</th>\n",
       "        </tr>\n",
       "    </thead>\n",
       "    <tbody>\n",
       "        <tr>\n",
       "            <td>1</td>\n",
       "        </tr>\n",
       "    </tbody>\n",
       "</table>"
      ],
      "text/plain": [
       "[(1,)]"
      ]
     },
     "execution_count": 9,
     "metadata": {},
     "output_type": "execute_result"
    }
   ],
   "source": [
    "%%sql\n",
    "SELECT\n",
    "    COUNT(*) AS count_of_names_start_with_jo\n",
    "FROM (\n",
    "        SELECT employee_names\n",
    "        FROM employees\n",
    "        WHERE employee_names LIKE 'Jo%'\n",
    "        GROUP BY employee_names\n",
    "        HAVING SUM(tasks_completed) > 10\n",
    ") AS over_ten_tasks_completed;"
   ]
  },
  {
   "cell_type": "markdown",
   "metadata": {
    "id": "AlQQYwPNcnjy"
   },
   "source": [
    "## Question 5: **Answer**"
   ]
  },
  {
   "cell_type": "code",
   "execution_count": null,
   "metadata": {
    "colab": {
     "base_uri": "https://localhost:8080/",
     "height": 94
    },
    "executionInfo": {
     "elapsed": 13,
     "status": "ok",
     "timestamp": 1739203789500,
     "user": {
      "displayName": "Benjamin Bennett Alexander",
      "userId": "14614847693800833280"
     },
     "user_tz": -180
    },
    "id": "7oplz3Z3cqA4",
    "outputId": "f84da3ea-5223-4712-bed0-754b7e17bbf0"
   },
   "outputs": [
    {
     "name": "stdout",
     "output_type": "stream",
     "text": [
      " * sqlite:///employees_data.db\n",
      "Done.\n"
     ]
    },
    {
     "data": {
      "text/html": [
       "<table>\n",
       "    <thead>\n",
       "        <tr>\n",
       "            <th>employee_names</th>\n",
       "            <th>total_tasks</th>\n",
       "            <th>total_awards</th>\n",
       "        </tr>\n",
       "    </thead>\n",
       "    <tbody>\n",
       "        <tr>\n",
       "            <td>John</td>\n",
       "            <td>13</td>\n",
       "            <td>4</td>\n",
       "        </tr>\n",
       "    </tbody>\n",
       "</table>"
      ],
      "text/plain": [
       "[('John', 13, 4)]"
      ]
     },
     "execution_count": 10,
     "metadata": {},
     "output_type": "execute_result"
    }
   ],
   "source": [
    "%%sql\n",
    "SELECT\n",
    "    employee_names,\n",
    "    SUM(tasks_completed) AS total_tasks,\n",
    "    MAX(awards)  AS total_awards\n",
    "FROM employees\n",
    "GROUP BY  employee_names\n",
    "ORDER BY total_tasks DESC, total_awards DESC\n",
    "LIMIT 1;"
   ]
  },
  {
   "cell_type": "markdown",
   "metadata": {
    "id": "Va65RcbXXLQB"
   },
   "source": [
    "## Question 6: **Answer**"
   ]
  },
  {
   "cell_type": "code",
   "execution_count": null,
   "metadata": {
    "colab": {
     "base_uri": "https://localhost:8080/",
     "height": 94
    },
    "executionInfo": {
     "elapsed": 68,
     "status": "ok",
     "timestamp": 1739203789571,
     "user": {
      "displayName": "Benjamin Bennett Alexander",
      "userId": "14614847693800833280"
     },
     "user_tz": -180
    },
    "id": "b1aMmWlrXGuc",
    "outputId": "b136c3a1-e5d5-432b-93ed-75038f4b0b64"
   },
   "outputs": [
    {
     "name": "stdout",
     "output_type": "stream",
     "text": [
      " * sqlite:///employees_data.db\n",
      "Done.\n"
     ]
    },
    {
     "data": {
      "text/html": [
       "<table>\n",
       "    <thead>\n",
       "        <tr>\n",
       "            <th>employee_names</th>\n",
       "            <th>total_tasks</th>\n",
       "            <th>total_awards</th>\n",
       "        </tr>\n",
       "    </thead>\n",
       "    <tbody>\n",
       "        <tr>\n",
       "            <td>Peter</td>\n",
       "            <td>12</td>\n",
       "            <td>5</td>\n",
       "        </tr>\n",
       "    </tbody>\n",
       "</table>"
      ],
      "text/plain": [
       "[('Peter', 12, 5)]"
      ]
     },
     "execution_count": 11,
     "metadata": {},
     "output_type": "execute_result"
    }
   ],
   "source": [
    "%%sql\n",
    "SELECT\n",
    "    employee_names,\n",
    "    SUM(tasks_completed) AS total_tasks,\n",
    "    MAX(awards)  AS total_awards\n",
    "FROM employees\n",
    "GROUP BY employee_names\n",
    "HAVING total_tasks > 5 AND total_awards >= 5;"
   ]
  },
  {
   "cell_type": "code",
   "execution_count": null,
   "metadata": {
    "colab": {
     "base_uri": "https://localhost:8080/",
     "height": 94
    },
    "executionInfo": {
     "elapsed": 21,
     "status": "ok",
     "timestamp": 1739203789595,
     "user": {
      "displayName": "Benjamin Bennett Alexander",
      "userId": "14614847693800833280"
     },
     "user_tz": -180
    },
    "id": "sHbPW9oNdGOw",
    "outputId": "35f4aa42-3dde-43de-ce61-d8da74122606"
   },
   "outputs": [
    {
     "name": "stdout",
     "output_type": "stream",
     "text": [
      " * sqlite:///employees_data.db\n",
      "Done.\n"
     ]
    },
    {
     "data": {
      "text/html": [
       "<table>\n",
       "    <thead>\n",
       "        <tr>\n",
       "            <th>employee_names</th>\n",
       "            <th>total_tasks</th>\n",
       "            <th>total_awards</th>\n",
       "        </tr>\n",
       "    </thead>\n",
       "    <tbody>\n",
       "        <tr>\n",
       "            <td>Peter</td>\n",
       "            <td>12</td>\n",
       "            <td>5</td>\n",
       "        </tr>\n",
       "    </tbody>\n",
       "</table>"
      ],
      "text/plain": [
       "[('Peter', 12, 5)]"
      ]
     },
     "execution_count": 12,
     "metadata": {},
     "output_type": "execute_result"
    }
   ],
   "source": [
    "%%sql\n",
    "SELECT\n",
    "  employee_names,\n",
    "  SUM(tasks_completed) AS total_tasks,\n",
    "  MAX(awards) AS total_awards\n",
    "FROM employees\n",
    "GROUP BY employee_names\n",
    "HAVING SUM(tasks_completed) > 5 AND MAX(awards) >= 5;"
   ]
  }
 ],
 "metadata": {
  "colab": {
   "authorship_tag": "ABX9TyPFxFnZyCERQvLQ4xEYL9qm",
   "provenance": []
  },
  "kernelspec": {
   "display_name": "Python 3",
   "name": "python3"
  },
  "language_info": {
   "name": "python"
  }
 },
 "nbformat": 4,
 "nbformat_minor": 0
}

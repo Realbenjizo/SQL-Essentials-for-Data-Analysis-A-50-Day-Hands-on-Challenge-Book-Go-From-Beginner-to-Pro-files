{
 "cells": [
  {
   "cell_type": "markdown",
   "metadata": {
    "id": "QgMAxYfqIeys"
   },
   "source": [
    "## Question 1: **Answer**"
   ]
  },
  {
   "cell_type": "code",
   "execution_count": 1,
   "metadata": {
    "executionInfo": {
     "elapsed": 26,
     "status": "ok",
     "timestamp": 1751988746072,
     "user": {
      "displayName": "Benjamin Bennett Alexander",
      "userId": "14614847693800833280"
     },
     "user_tz": -180
    },
    "id": "BRV8ZlYHl7sQ"
   },
   "outputs": [],
   "source": [
    "import sqlite3"
   ]
  },
  {
   "cell_type": "code",
   "execution_count": null,
   "metadata": {
    "colab": {
     "base_uri": "https://localhost:8080/"
    },
    "executionInfo": {
     "elapsed": 37,
     "status": "ok",
     "timestamp": 1751988746138,
     "user": {
      "displayName": "Benjamin Bennett Alexander",
      "userId": "14614847693800833280"
     },
     "user_tz": -180
    },
    "id": "U3C86cJ2nEG8",
    "outputId": "da1dfca0-ec07-4800-b077-6002a2660d72"
   },
   "outputs": [
    {
     "name": "stdout",
     "output_type": "stream",
     "text": [
      "Table created successfully.\n"
     ]
    }
   ],
   "source": [
    "def add_data_to_database():\n",
    "    try:\n",
    "        # Connect to the database\n",
    "        with sqlite3.connect('sales_team.db') as conn:\n",
    "            cursor = conn.cursor()\n",
    "\n",
    "           # Create the table\n",
    "            cursor.execute('''\n",
    "            CREATE TABLE IF NOT EXISTS sales (\n",
    "                id INTEGER PRIMARY KEY,\n",
    "                name TEXT,\n",
    "                seller_id INTEGER,\n",
    "                sales_value REAL\n",
    "            )\n",
    "            ''' )\n",
    "            # Insert data into the table\n",
    "            cursor.executemany('''\n",
    "            INSERT INTO sales (id, name, seller_id, sales_value) VALUES (?, ?, ?, ?)\n",
    "            ''', [\n",
    "                (1, 'John', 101, 20000),\n",
    "                (2, 'Mary', 102, 50000),\n",
    "                (3, 'Jerry', 103, 3000),\n",
    "                (4, 'Jerry', 103, 6000),\n",
    "                (5, 'John', 101, 15000)\n",
    "                ]\n",
    "                )\n",
    "            conn.commit()\n",
    "            print(\"Table created successfully.\")\n",
    "    except Exception as e:\n",
    "        print(f\"Error: {e}\")\n",
    "\n",
    "# Calling the function\n",
    "add_data_to_database()"
   ]
  },
  {
   "cell_type": "code",
   "execution_count": 3,
   "metadata": {
    "executionInfo": {
     "elapsed": 1080,
     "status": "ok",
     "timestamp": 1751988747234,
     "user": {
      "displayName": "Benjamin Bennett Alexander",
      "userId": "14614847693800833280"
     },
     "user_tz": -180
    },
    "id": "0OyQNB6dszZC"
   },
   "outputs": [],
   "source": [
    "# Loading SQL extension\n",
    "%load_ext sql"
   ]
  },
  {
   "cell_type": "code",
   "execution_count": 4,
   "metadata": {
    "executionInfo": {
     "elapsed": 16,
     "status": "ok",
     "timestamp": 1751988747236,
     "user": {
      "displayName": "Benjamin Bennett Alexander",
      "userId": "14614847693800833280"
     },
     "user_tz": -180
    },
    "id": "i3VpTMNks8pS"
   },
   "outputs": [],
   "source": [
    "# Creating a connection to database\n",
    "%sql sqlite:///sales_team.db"
   ]
  },
  {
   "cell_type": "code",
   "execution_count": 5,
   "metadata": {
    "executionInfo": {
     "elapsed": 6,
     "status": "ok",
     "timestamp": 1751988747245,
     "user": {
      "displayName": "Benjamin Bennett Alexander",
      "userId": "14614847693800833280"
     },
     "user_tz": -180
    },
    "id": "qwvCWD02s-Gi"
   },
   "outputs": [],
   "source": [
    "%config SqlMagic.style = '_DEPRECATED_DEFAULT'"
   ]
  },
  {
   "cell_type": "code",
   "execution_count": 6,
   "metadata": {
    "colab": {
     "base_uri": "https://localhost:8080/",
     "height": 94
    },
    "executionInfo": {
     "elapsed": 131,
     "status": "ok",
     "timestamp": 1751988747374,
     "user": {
      "displayName": "Benjamin Bennett Alexander",
      "userId": "14614847693800833280"
     },
     "user_tz": -180
    },
    "id": "gImjm2Onv7Us",
    "outputId": "281ea11a-81e1-4bab-f49b-ec8903f4e734"
   },
   "outputs": [
    {
     "name": "stdout",
     "output_type": "stream",
     "text": [
      " * sqlite:///sales_team.db\n",
      "Done.\n"
     ]
    },
    {
     "data": {
      "text/html": [
       "<table>\n",
       "    <thead>\n",
       "        <tr>\n",
       "            <th>number_of_rows</th>\n",
       "        </tr>\n",
       "    </thead>\n",
       "    <tbody>\n",
       "        <tr>\n",
       "            <td>5</td>\n",
       "        </tr>\n",
       "    </tbody>\n",
       "</table>"
      ],
      "text/plain": [
       "[(5,)]"
      ]
     },
     "execution_count": 6,
     "metadata": {},
     "output_type": "execute_result"
    }
   ],
   "source": [
    "%%sql\n",
    "SELECT COUNT(*) AS number_of_rows\n",
    "FROM sales;"
   ]
  },
  {
   "cell_type": "markdown",
   "metadata": {
    "id": "KnLRqXMT2rnZ"
   },
   "source": [
    "## Question 2: **Answer**"
   ]
  },
  {
   "cell_type": "code",
   "execution_count": 7,
   "metadata": {
    "colab": {
     "base_uri": "https://localhost:8080/",
     "height": 136
    },
    "executionInfo": {
     "elapsed": 18,
     "status": "ok",
     "timestamp": 1751988747396,
     "user": {
      "displayName": "Benjamin Bennett Alexander",
      "userId": "14614847693800833280"
     },
     "user_tz": -180
    },
    "id": "VxSGD4LE2aoy",
    "outputId": "c03ccf4c-b833-4631-acb9-dd455283fcfe"
   },
   "outputs": [
    {
     "name": "stdout",
     "output_type": "stream",
     "text": [
      " * sqlite:///sales_team.db\n",
      "Done.\n"
     ]
    },
    {
     "data": {
      "text/html": [
       "<table>\n",
       "    <thead>\n",
       "        <tr>\n",
       "            <th>seller_id</th>\n",
       "            <th>name</th>\n",
       "            <th>total_sales</th>\n",
       "        </tr>\n",
       "    </thead>\n",
       "    <tbody>\n",
       "        <tr>\n",
       "            <td>102</td>\n",
       "            <td>Mary</td>\n",
       "            <td>50000</td>\n",
       "        </tr>\n",
       "        <tr>\n",
       "            <td>101</td>\n",
       "            <td>John</td>\n",
       "            <td>35000</td>\n",
       "        </tr>\n",
       "        <tr>\n",
       "            <td>103</td>\n",
       "            <td>Jerry</td>\n",
       "            <td>9000</td>\n",
       "        </tr>\n",
       "    </tbody>\n",
       "</table>"
      ],
      "text/plain": [
       "[(102, 'Mary', 50000), (101, 'John', 35000), (103, 'Jerry', 9000)]"
      ]
     },
     "execution_count": 7,
     "metadata": {},
     "output_type": "execute_result"
    }
   ],
   "source": [
    "%%sql\n",
    "SELECT\n",
    "    seller_id,\n",
    "    name,\n",
    "    CAST(SUM(sales_value) AS INTEGER) AS total_sales\n",
    "FROM sales\n",
    "GROUP BY seller_id, name\n",
    "ORDER BY total_sales DESC;"
   ]
  },
  {
   "cell_type": "markdown",
   "metadata": {
    "id": "sScqJJUT2v6k"
   },
   "source": [
    "## Question 3: **Answer**"
   ]
  },
  {
   "cell_type": "code",
   "execution_count": 8,
   "metadata": {
    "colab": {
     "base_uri": "https://localhost:8080/",
     "height": 136
    },
    "executionInfo": {
     "elapsed": 59,
     "status": "ok",
     "timestamp": 1751988747470,
     "user": {
      "displayName": "Benjamin Bennett Alexander",
      "userId": "14614847693800833280"
     },
     "user_tz": -180
    },
    "id": "jqUqoLED2yqR",
    "outputId": "dade2775-dc9d-4ff5-8ffa-e8bcadff18f8"
   },
   "outputs": [
    {
     "name": "stdout",
     "output_type": "stream",
     "text": [
      " * sqlite:///sales_team.db\n",
      "Done.\n"
     ]
    },
    {
     "data": {
      "text/html": [
       "<table>\n",
       "    <thead>\n",
       "        <tr>\n",
       "            <th>seller_id</th>\n",
       "            <th>name</th>\n",
       "            <th>average_sales</th>\n",
       "        </tr>\n",
       "    </thead>\n",
       "    <tbody>\n",
       "        <tr>\n",
       "            <td>101</td>\n",
       "            <td>John</td>\n",
       "            <td>17500.0</td>\n",
       "        </tr>\n",
       "        <tr>\n",
       "            <td>102</td>\n",
       "            <td>Mary</td>\n",
       "            <td>50000.0</td>\n",
       "        </tr>\n",
       "        <tr>\n",
       "            <td>103</td>\n",
       "            <td>Jerry</td>\n",
       "            <td>4500.0</td>\n",
       "        </tr>\n",
       "    </tbody>\n",
       "</table>"
      ],
      "text/plain": [
       "[(101, 'John', 17500.0), (102, 'Mary', 50000.0), (103, 'Jerry', 4500.0)]"
      ]
     },
     "execution_count": 8,
     "metadata": {},
     "output_type": "execute_result"
    }
   ],
   "source": [
    "%%sql\n",
    "SELECT\n",
    "    seller_id,\n",
    "    name,\n",
    "    AVG(sales_value) AS average_sales\n",
    "FROM sales\n",
    "GROUP BY seller_id, name;"
   ]
  },
  {
   "cell_type": "markdown",
   "metadata": {
    "id": "0YDLT7-zIDXL"
   },
   "source": [
    "## Question 4: **Answer**"
   ]
  },
  {
   "cell_type": "code",
   "execution_count": 9,
   "metadata": {
    "colab": {
     "base_uri": "https://localhost:8080/",
     "height": 94
    },
    "executionInfo": {
     "elapsed": 86,
     "status": "ok",
     "timestamp": 1751988747572,
     "user": {
      "displayName": "Benjamin Bennett Alexander",
      "userId": "14614847693800833280"
     },
     "user_tz": -180
    },
    "id": "wj0sARzi24Ny",
    "outputId": "a85a0740-a2e5-45ab-c23c-a639c4bffc7a"
   },
   "outputs": [
    {
     "name": "stdout",
     "output_type": "stream",
     "text": [
      " * sqlite:///sales_team.db\n",
      "Done.\n"
     ]
    },
    {
     "data": {
      "text/html": [
       "<table>\n",
       "    <thead>\n",
       "        <tr>\n",
       "            <th>seller_id</th>\n",
       "            <th>name</th>\n",
       "            <th>total_sales</th>\n",
       "        </tr>\n",
       "    </thead>\n",
       "    <tbody>\n",
       "        <tr>\n",
       "            <td>102</td>\n",
       "            <td>Mary</td>\n",
       "            <td>50000.0</td>\n",
       "        </tr>\n",
       "    </tbody>\n",
       "</table>"
      ],
      "text/plain": [
       "[(102, 'Mary', 50000.0)]"
      ]
     },
     "execution_count": 9,
     "metadata": {},
     "output_type": "execute_result"
    }
   ],
   "source": [
    "%%sql\n",
    "SELECT\n",
    "    seller_id,\n",
    "    name,\n",
    "    SUM(sales_value) AS total_sales\n",
    "FROM  sales\n",
    "GROUP BY  seller_id, name\n",
    "HAVING  SUM(sales_value) >= 50000;"
   ]
  },
  {
   "cell_type": "markdown",
   "metadata": {
    "id": "V-why7kWNnRP"
   },
   "source": [
    "## Question 5: **Answer**"
   ]
  },
  {
   "cell_type": "code",
   "execution_count": 10,
   "metadata": {
    "colab": {
     "base_uri": "https://localhost:8080/",
     "height": 94
    },
    "executionInfo": {
     "elapsed": 83,
     "status": "ok",
     "timestamp": 1751988747663,
     "user": {
      "displayName": "Benjamin Bennett Alexander",
      "userId": "14614847693800833280"
     },
     "user_tz": -180
    },
    "id": "IQe-xfAhNqme",
    "outputId": "828939e9-60a0-406a-b326-059066a431a1"
   },
   "outputs": [
    {
     "name": "stdout",
     "output_type": "stream",
     "text": [
      " * sqlite:///sales_team.db\n",
      "Done.\n"
     ]
    },
    {
     "data": {
      "text/html": [
       "<table>\n",
       "    <thead>\n",
       "        <tr>\n",
       "            <th>seller_id</th>\n",
       "            <th>name</th>\n",
       "            <th>total_sales</th>\n",
       "        </tr>\n",
       "    </thead>\n",
       "    <tbody>\n",
       "        <tr>\n",
       "            <td>103</td>\n",
       "            <td>Jerry</td>\n",
       "            <td>9000.0</td>\n",
       "        </tr>\n",
       "    </tbody>\n",
       "</table>"
      ],
      "text/plain": [
       "[(103, 'Jerry', 9000.0)]"
      ]
     },
     "execution_count": 10,
     "metadata": {},
     "output_type": "execute_result"
    }
   ],
   "source": [
    "%%sql\n",
    "SELECT\n",
    "    seller_id,\n",
    "    name,\n",
    "    SUM(sales_value) AS total_sales\n",
    "FROM  sales\n",
    "WHERE  name = 'Jerry'\n",
    "GROUP BY  seller_id, name\n",
    "HAVING  SUM(sales_value) > 5000;"
   ]
  }
 ],
 "metadata": {
  "colab": {
   "authorship_tag": "ABX9TyOCKq5TQHDTtUn1+n/VQkKA",
   "provenance": []
  },
  "kernelspec": {
   "display_name": "Python 3",
   "name": "python3"
  },
  "language_info": {
   "name": "python"
  }
 },
 "nbformat": 4,
 "nbformat_minor": 0
}

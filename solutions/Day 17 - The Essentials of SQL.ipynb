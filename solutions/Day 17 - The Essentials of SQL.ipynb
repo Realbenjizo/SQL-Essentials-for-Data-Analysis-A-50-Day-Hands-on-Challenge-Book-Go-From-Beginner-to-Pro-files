{
 "cells": [
  {
   "cell_type": "markdown",
   "id": "C_fx0EOf8W5I",
   "metadata": {
    "id": "C_fx0EOf8W5I"
   },
   "source": [
    "## Qestions: **Answer**"
   ]
  },
  {
   "cell_type": "code",
   "execution_count": 1,
   "id": "0674e03b",
   "metadata": {
    "executionInfo": {
     "elapsed": 11,
     "status": "ok",
     "timestamp": 1752853504311,
     "user": {
      "displayName": "Benjamin Bennett Alexander",
      "userId": "14614847693800833280"
     },
     "user_tz": -180
    },
    "id": "0674e03b"
   },
   "outputs": [],
   "source": [
    "import sqlite3\n",
    "import csv"
   ]
  },
  {
   "cell_type": "code",
   "execution_count": null,
   "id": "3af6f8cc",
   "metadata": {
    "executionInfo": {
     "elapsed": 1630,
     "status": "ok",
     "timestamp": 1752853505957,
     "user": {
      "displayName": "Benjamin Bennett Alexander",
      "userId": "14614847693800833280"
     },
     "user_tz": -180
    },
    "id": "3af6f8cc"
   },
   "outputs": [],
   "source": [
    "def add_poets_data(input_data):\n",
    "    try:\n",
    "        # Connecting to database\n",
    "        conn = sqlite3.connect(\"poetry_writers_data.db\")\n",
    "        cursor = conn.cursor()\n",
    "        # Creating table\n",
    "        cursor.execute(\"\"\"\n",
    "\n",
    "        CREATE TABLE IF NOT EXISTS writers (\n",
    "        author_id PRIMARY KEY,\n",
    "        poet_name TEXT,\n",
    "        birth_date Date,\n",
    "        location TEXT)\n",
    "\n",
    "        \"\"\"\n",
    "        )\n",
    "        with open(input_data, \"r\") as csv_file:\n",
    "            csv_reader = csv.reader(csv_file)\n",
    "            # skip headers\n",
    "            next(csv_reader)\n",
    "            for row in csv_reader:\n",
    "                cursor.execute(\"INSERT INTO writers VALUES (?, ?, ?, ?)\", row)\n",
    "        conn.commit()\n",
    "    except Exception as e:\n",
    "        print(f\"Error: {e}\")\n",
    "    finally:\n",
    "        conn.close()\n",
    "\n",
    "# Loading data\n",
    "data = \"/content/poetry_writers.csv\"\n",
    "add_poets_data(data)"
   ]
  },
  {
   "cell_type": "code",
   "execution_count": 3,
   "id": "8c29751c",
   "metadata": {
    "executionInfo": {
     "elapsed": 813,
     "status": "ok",
     "timestamp": 1752853506777,
     "user": {
      "displayName": "Benjamin Bennett Alexander",
      "userId": "14614847693800833280"
     },
     "user_tz": -180
    },
    "id": "8c29751c"
   },
   "outputs": [],
   "source": [
    "# Loading the extension\n",
    "%load_ext sql"
   ]
  },
  {
   "cell_type": "code",
   "execution_count": 4,
   "id": "aec644ca",
   "metadata": {
    "executionInfo": {
     "elapsed": 41,
     "status": "ok",
     "timestamp": 1752853506812,
     "user": {
      "displayName": "Benjamin Bennett Alexander",
      "userId": "14614847693800833280"
     },
     "user_tz": -180
    },
    "id": "aec644ca"
   },
   "outputs": [],
   "source": [
    "# Using the extension to connect to database\n",
    "%sql sqlite:///poetry_writers_data.db"
   ]
  },
  {
   "cell_type": "code",
   "execution_count": 5,
   "id": "51G2XylnYj77",
   "metadata": {
    "executionInfo": {
     "elapsed": 25,
     "status": "ok",
     "timestamp": 1752853506835,
     "user": {
      "displayName": "Benjamin Bennett Alexander",
      "userId": "14614847693800833280"
     },
     "user_tz": -180
    },
    "id": "51G2XylnYj77"
   },
   "outputs": [],
   "source": [
    "# Default to duplicated style\n",
    "%config SqlMagic.style = '_DEPRECATED_DEFAULT'"
   ]
  },
  {
   "cell_type": "code",
   "execution_count": 6,
   "id": "5dfa5746",
   "metadata": {
    "colab": {
     "base_uri": "https://localhost:8080/",
     "height": 177
    },
    "executionInfo": {
     "elapsed": 95,
     "status": "ok",
     "timestamp": 1752853506925,
     "user": {
      "displayName": "Benjamin Bennett Alexander",
      "userId": "14614847693800833280"
     },
     "user_tz": -180
    },
    "id": "5dfa5746",
    "outputId": "380d4733-0419-43eb-fd31-4dcf8ea06540"
   },
   "outputs": [
    {
     "name": "stdout",
     "output_type": "stream",
     "text": [
      " * sqlite:///poetry_writers_data.db\n",
      "Done.\n"
     ]
    },
    {
     "data": {
      "text/html": [
       "<table>\n",
       "    <thead>\n",
       "        <tr>\n",
       "            <th>author_id</th>\n",
       "            <th>poet_name</th>\n",
       "            <th>birth_date</th>\n",
       "            <th>location</th>\n",
       "        </tr>\n",
       "    </thead>\n",
       "    <tbody>\n",
       "        <tr>\n",
       "            <td>101</td>\n",
       "            <td>William Wordsworth</td>\n",
       "            <td>1770-04-13</td>\n",
       "            <td>Grasmere, England</td>\n",
       "        </tr>\n",
       "        <tr>\n",
       "            <td>102</td>\n",
       "            <td>John Keats</td>\n",
       "            <td>None</td>\n",
       "            <td>Hampstead, England</td>\n",
       "        </tr>\n",
       "        <tr>\n",
       "            <td>103</td>\n",
       "            <td>Emily Dickinson</td>\n",
       "            <td>1830-12-10</td>\n",
       "            <td>Amherst, Massachusetts</td>\n",
       "        </tr>\n",
       "        <tr>\n",
       "            <td>104</td>\n",
       "            <td>Robert Frost</td>\n",
       "            <td>1874-03-26</td>\n",
       "            <td>San Francisco, California</td>\n",
       "        </tr>\n",
       "        <tr>\n",
       "            <td>105</td>\n",
       "            <td>Alfred, Lord Tennyson</td>\n",
       "            <td>1809-08-04</td>\n",
       "            <td>Somersby, England</td>\n",
       "        </tr>\n",
       "    </tbody>\n",
       "</table>"
      ],
      "text/plain": [
       "[('101', 'William Wordsworth', '1770-04-13', 'Grasmere, England'),\n",
       " ('102', 'John Keats', 'None', 'Hampstead, England'),\n",
       " ('103', 'Emily Dickinson', '1830-12-10', 'Amherst, Massachusetts'),\n",
       " ('104', 'Robert Frost', '1874-03-26', 'San Francisco, California'),\n",
       " ('105', 'Alfred, Lord Tennyson', '1809-08-04', 'Somersby, England')]"
      ]
     },
     "execution_count": 6,
     "metadata": {},
     "output_type": "execute_result"
    }
   ],
   "source": [
    "%%sql\n",
    "SELECT * FROM writers\n",
    "LIMIT 5;"
   ]
  },
  {
   "cell_type": "markdown",
   "id": "a2f9f8a3",
   "metadata": {
    "id": "a2f9f8a3"
   },
   "source": [
    "## Question 2: **Answers**"
   ]
  },
  {
   "cell_type": "code",
   "execution_count": 7,
   "id": "5ee22c9e",
   "metadata": {
    "colab": {
     "base_uri": "https://localhost:8080/"
    },
    "executionInfo": {
     "elapsed": 11,
     "status": "ok",
     "timestamp": 1752853506937,
     "user": {
      "displayName": "Benjamin Bennett Alexander",
      "userId": "14614847693800833280"
     },
     "user_tz": -180
    },
    "id": "5ee22c9e",
    "outputId": "915b71ff-8cdd-40da-9908-5ffcbfd21520"
   },
   "outputs": [
    {
     "name": "stdout",
     "output_type": "stream",
     "text": [
      " * sqlite:///poetry_writers_data.db\n",
      "(sqlite3.OperationalError) table writers_copy already exists\n",
      "[SQL: CREATE TABLE writers_copy AS\n",
      "SELECT *\n",
      "FROM writers;]\n",
      "(Background on this error at: https://sqlalche.me/e/20/e3q8)\n"
     ]
    }
   ],
   "source": [
    "%%sql\n",
    "CREATE TABLE writers_copy AS\n",
    "SELECT *\n",
    "FROM writers;"
   ]
  },
  {
   "cell_type": "markdown",
   "id": "82859ea2",
   "metadata": {
    "id": "82859ea2"
   },
   "source": [
    "## Questions 3: **Answer**"
   ]
  },
  {
   "cell_type": "code",
   "execution_count": 8,
   "id": "d47eac47",
   "metadata": {
    "colab": {
     "base_uri": "https://localhost:8080/"
    },
    "executionInfo": {
     "elapsed": 15,
     "status": "ok",
     "timestamp": 1752853506995,
     "user": {
      "displayName": "Benjamin Bennett Alexander",
      "userId": "14614847693800833280"
     },
     "user_tz": -180
    },
    "id": "d47eac47",
    "outputId": "fe114a9e-df28-42c4-adc9-51515a3bb258"
   },
   "outputs": [
    {
     "name": "stdout",
     "output_type": "stream",
     "text": [
      " * sqlite:///poetry_writers_data.db\n",
      "0 rows affected.\n"
     ]
    },
    {
     "data": {
      "text/plain": [
       "[]"
      ]
     },
     "execution_count": 8,
     "metadata": {},
     "output_type": "execute_result"
    }
   ],
   "source": [
    "%%sql\n",
    "UPDATE writers_copy\n",
    "SET birth_date = REPLACE(birth_date, 'None', 'Unknown')\n",
    "WHERE birth_date = 'None';"
   ]
  },
  {
   "cell_type": "code",
   "execution_count": 9,
   "id": "7ba54306",
   "metadata": {
    "colab": {
     "base_uri": "https://localhost:8080/",
     "height": 74
    },
    "executionInfo": {
     "elapsed": 18,
     "status": "ok",
     "timestamp": 1752853507016,
     "user": {
      "displayName": "Benjamin Bennett Alexander",
      "userId": "14614847693800833280"
     },
     "user_tz": -180
    },
    "id": "7ba54306",
    "outputId": "c375d9cf-0040-41e6-c4b8-80470fa506e0"
   },
   "outputs": [
    {
     "name": "stdout",
     "output_type": "stream",
     "text": [
      " * sqlite:///poetry_writers_data.db\n",
      "Done.\n"
     ]
    },
    {
     "data": {
      "text/html": [
       "<table>\n",
       "    <thead>\n",
       "        <tr>\n",
       "            <th>author_id</th>\n",
       "            <th>poet_name</th>\n",
       "            <th>birth_date</th>\n",
       "            <th>location</th>\n",
       "        </tr>\n",
       "    </thead>\n",
       "    <tbody>\n",
       "    </tbody>\n",
       "</table>"
      ],
      "text/plain": [
       "[]"
      ]
     },
     "execution_count": 9,
     "metadata": {},
     "output_type": "execute_result"
    }
   ],
   "source": [
    "%%sql\n",
    "SELECT * FROM writers_copy\n",
    "LIMIT 5;"
   ]
  },
  {
   "cell_type": "markdown",
   "id": "4dbf4704",
   "metadata": {
    "id": "4dbf4704"
   },
   "source": [
    "## Question 4: **Answer**"
   ]
  },
  {
   "cell_type": "code",
   "execution_count": 10,
   "id": "2950c5ac",
   "metadata": {
    "colab": {
     "base_uri": "https://localhost:8080/"
    },
    "executionInfo": {
     "elapsed": 12,
     "status": "ok",
     "timestamp": 1752853507064,
     "user": {
      "displayName": "Benjamin Bennett Alexander",
      "userId": "14614847693800833280"
     },
     "user_tz": -180
    },
    "id": "2950c5ac",
    "outputId": "95c75755-8fef-43b7-d5fd-2d90d768ba49"
   },
   "outputs": [
    {
     "name": "stdout",
     "output_type": "stream",
     "text": [
      " * sqlite:///poetry_writers_data.db\n",
      "0 rows affected.\n"
     ]
    },
    {
     "data": {
      "text/plain": [
       "[]"
      ]
     },
     "execution_count": 10,
     "metadata": {},
     "output_type": "execute_result"
    }
   ],
   "source": [
    "%%sql\n",
    "UPDATE writers_copy\n",
    "SET birth_date = CASE\n",
    "                    -- Convert 'DD MM YYYY' to 'YYYY-MM-DD'\n",
    "                    WHEN birth_date LIKE '__ __ ____'\n",
    "                THEN SUBSTR(birth_date, 7, 4) || '-' || SUBSTR(birth_date, 4, 2) || '-' ||\n",
    "                SUBSTR(birth_date, 1, 2)\n",
    "                    -- Convert 'D MM YYYY' to 'YYYY-MM-DD'\n",
    "                    WHEN birth_date LIKE '_ __ ____'\n",
    "                THEN SUBSTR(birth_date, 6, 4) || '-' || SUBSTR(birth_date, 3, 2) || '-0' ||\n",
    "                SUBSTR(birth_date, 1, 2)\n",
    "                    -- Handle 'YYYY-MM-DD' (already correct)\n",
    "                    WHEN birth_date LIKE '____-__-__' THEN birth_date  -- Leave unchanged\n",
    "                ELSE birth_date\n",
    "                END\n",
    "WHERE birth_date  NOT LIKE 'Unknown';"
   ]
  },
  {
   "cell_type": "code",
   "execution_count": 11,
   "id": "Q0MpdfVyHBZR",
   "metadata": {
    "colab": {
     "base_uri": "https://localhost:8080/"
    },
    "executionInfo": {
     "elapsed": 16,
     "status": "ok",
     "timestamp": 1752853507083,
     "user": {
      "displayName": "Benjamin Bennett Alexander",
      "userId": "14614847693800833280"
     },
     "user_tz": -180
    },
    "id": "Q0MpdfVyHBZR",
    "outputId": "3717434d-e975-4860-a62a-a79085d01379"
   },
   "outputs": [
    {
     "name": "stdout",
     "output_type": "stream",
     "text": [
      " * sqlite:///poetry_writers_data.db\n",
      "0 rows affected.\n"
     ]
    },
    {
     "data": {
      "text/plain": [
       "[]"
      ]
     },
     "execution_count": 11,
     "metadata": {},
     "output_type": "execute_result"
    }
   ],
   "source": [
    "%%sql\n",
    "UPDATE writers_copy\n",
    "SET birth_date = DATE(birth_date)\n",
    "WHERE birth_date  NOT LIKE 'Unknown';"
   ]
  },
  {
   "cell_type": "code",
   "execution_count": 12,
   "id": "9T_QZXxCYE2c",
   "metadata": {
    "colab": {
     "base_uri": "https://localhost:8080/",
     "height": 94
    },
    "executionInfo": {
     "elapsed": 16,
     "status": "ok",
     "timestamp": 1752853507101,
     "user": {
      "displayName": "Benjamin Bennett Alexander",
      "userId": "14614847693800833280"
     },
     "user_tz": -180
    },
    "id": "9T_QZXxCYE2c",
    "outputId": "f2e66ac2-d1f9-4306-d205-0e5cd16b8842"
   },
   "outputs": [
    {
     "name": "stdout",
     "output_type": "stream",
     "text": [
      " * sqlite:///poetry_writers_data.db\n",
      "Done.\n"
     ]
    },
    {
     "data": {
      "text/html": [
       "<table>\n",
       "    <thead>\n",
       "        <tr>\n",
       "            <th>unconverted_columns</th>\n",
       "        </tr>\n",
       "    </thead>\n",
       "    <tbody>\n",
       "        <tr>\n",
       "            <td>0</td>\n",
       "        </tr>\n",
       "    </tbody>\n",
       "</table>"
      ],
      "text/plain": [
       "[(0,)]"
      ]
     },
     "execution_count": 12,
     "metadata": {},
     "output_type": "execute_result"
    }
   ],
   "source": [
    "%%sql\n",
    "SELECT COUNT(*) AS unconverted_columns\n",
    "FROM writers_copy\n",
    "WHERE birth_date = 'None'"
   ]
  },
  {
   "cell_type": "markdown",
   "id": "ea474c12",
   "metadata": {
    "id": "ea474c12"
   },
   "source": [
    "## Question 5: **Answer**"
   ]
  },
  {
   "cell_type": "code",
   "execution_count": 13,
   "id": "dbe0a2f0",
   "metadata": {
    "colab": {
     "base_uri": "https://localhost:8080/",
     "height": 74
    },
    "executionInfo": {
     "elapsed": 111,
     "status": "ok",
     "timestamp": 1752853507216,
     "user": {
      "displayName": "Benjamin Bennett Alexander",
      "userId": "14614847693800833280"
     },
     "user_tz": -180
    },
    "id": "dbe0a2f0",
    "outputId": "4acc709b-2549-48b8-889e-baf186bba3b9"
   },
   "outputs": [
    {
     "name": "stdout",
     "output_type": "stream",
     "text": [
      " * sqlite:///poetry_writers_data.db\n",
      "Done.\n"
     ]
    },
    {
     "data": {
      "text/html": [
       "<table>\n",
       "    <thead>\n",
       "        <tr>\n",
       "            <th>author_id</th>\n",
       "            <th>poet_name</th>\n",
       "            <th>birth_year</th>\n",
       "            <th>location</th>\n",
       "        </tr>\n",
       "    </thead>\n",
       "    <tbody>\n",
       "    </tbody>\n",
       "</table>"
      ],
      "text/plain": [
       "[]"
      ]
     },
     "execution_count": 13,
     "metadata": {},
     "output_type": "execute_result"
    }
   ],
   "source": [
    "%%sql\n",
    "SELECT\n",
    "    Author_id,\n",
    "    poet_name,\n",
    "    CASE\n",
    "        WHEN birth_date != 'Unknown' THEN SUBSTR(birth_date, 1, 4)\n",
    "        ELSE 'Unknown'\n",
    "    END AS birth_year,\n",
    "    location\n",
    "FROM writers_copy\n",
    "LIMIT 5;"
   ]
  },
  {
   "cell_type": "markdown",
   "id": "72f7de63",
   "metadata": {
    "id": "72f7de63"
   },
   "source": [
    "## Question 6: **Answer**"
   ]
  },
  {
   "cell_type": "code",
   "execution_count": 14,
   "id": "s6wd3pyfbJra",
   "metadata": {
    "colab": {
     "base_uri": "https://localhost:8080/"
    },
    "executionInfo": {
     "elapsed": 29,
     "status": "ok",
     "timestamp": 1752853507250,
     "user": {
      "displayName": "Benjamin Bennett Alexander",
      "userId": "14614847693800833280"
     },
     "user_tz": -180
    },
    "id": "s6wd3pyfbJra",
    "outputId": "242e4e97-dbe6-4fd0-d668-6df9c3c94c14"
   },
   "outputs": [
    {
     "name": "stdout",
     "output_type": "stream",
     "text": [
      " * sqlite:///poetry_writers_data.db\n",
      "0 rows affected.\n"
     ]
    },
    {
     "data": {
      "text/plain": [
       "[]"
      ]
     },
     "execution_count": 14,
     "metadata": {},
     "output_type": "execute_result"
    }
   ],
   "source": [
    "%%sql\n",
    "UPDATE writers_copy\n",
    "SET poet_name = SUBSTR(poet_name, INSTR(poet_name, ' ') + 1 )\n",
    "                -- Concatenating the two names with comma and space\n",
    "                || ', ' ||\n",
    "                SUBSTR(poet_name, 1, INSTR(poet_name, ' ') - 1 );"
   ]
  },
  {
   "cell_type": "code",
   "execution_count": 15,
   "id": "c9J0-h8GcD56",
   "metadata": {
    "colab": {
     "base_uri": "https://localhost:8080/",
     "height": 74
    },
    "executionInfo": {
     "elapsed": 52,
     "status": "ok",
     "timestamp": 1752853507305,
     "user": {
      "displayName": "Benjamin Bennett Alexander",
      "userId": "14614847693800833280"
     },
     "user_tz": -180
    },
    "id": "c9J0-h8GcD56",
    "outputId": "b24ca568-7b13-43a9-e397-b590627fb8b7"
   },
   "outputs": [
    {
     "name": "stdout",
     "output_type": "stream",
     "text": [
      " * sqlite:///poetry_writers_data.db\n",
      "Done.\n"
     ]
    },
    {
     "data": {
      "text/html": [
       "<table>\n",
       "    <thead>\n",
       "        <tr>\n",
       "            <th>author_id</th>\n",
       "            <th>poet_name</th>\n",
       "        </tr>\n",
       "    </thead>\n",
       "    <tbody>\n",
       "    </tbody>\n",
       "</table>"
      ],
      "text/plain": [
       "[]"
      ]
     },
     "execution_count": 15,
     "metadata": {},
     "output_type": "execute_result"
    }
   ],
   "source": [
    "%%sql\n",
    "SELECT\n",
    "    author_id,\n",
    "    poet_name\n",
    "FROM writers_copy\n",
    "LIMIT 10;"
   ]
  }
 ],
 "metadata": {
  "colab": {
   "provenance": []
  },
  "kernelspec": {
   "display_name": "Python 3 (ipykernel)",
   "language": "python",
   "name": "python3"
  },
  "language_info": {
   "codemirror_mode": {
    "name": "ipython",
    "version": 3
   },
   "file_extension": ".py",
   "mimetype": "text/x-python",
   "name": "python",
   "nbconvert_exporter": "python",
   "pygments_lexer": "ipython3",
   "version": "3.10.5"
  }
 },
 "nbformat": 4,
 "nbformat_minor": 5
}

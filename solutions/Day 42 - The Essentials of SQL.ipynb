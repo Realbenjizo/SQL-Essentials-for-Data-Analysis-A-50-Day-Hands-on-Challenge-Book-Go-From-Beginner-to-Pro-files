{
 "cells": [
  {
   "cell_type": "markdown",
   "id": "4icaYodWQWrp",
   "metadata": {
    "id": "4icaYodWQWrp"
   },
   "source": [
    "## Question 1: **Answer**"
   ]
  },
  {
   "cell_type": "code",
   "execution_count": 1,
   "id": "a776761b",
   "metadata": {
    "executionInfo": {
     "elapsed": 674,
     "status": "ok",
     "timestamp": 1752946020072,
     "user": {
      "displayName": "Benjamin Bennett Alexander",
      "userId": "14614847693800833280"
     },
     "user_tz": -180
    },
    "id": "a776761b"
   },
   "outputs": [],
   "source": [
    "import pandas as pd\n",
    "import sqlite3"
   ]
  },
  {
   "cell_type": "code",
   "execution_count": null,
   "id": "8bc685ca",
   "metadata": {
    "colab": {
     "base_uri": "https://localhost:8080/"
    },
    "executionInfo": {
     "elapsed": 3180,
     "status": "ok",
     "timestamp": 1752946023250,
     "user": {
      "displayName": "Benjamin Bennett Alexander",
      "userId": "14614847693800833280"
     },
     "user_tz": -180
    },
    "id": "8bc685ca",
    "outputId": "57dcf625-c6d0-4e6d-b30e-cc8a55bf4e63"
   },
   "outputs": [
    {
     "name": "stdout",
     "output_type": "stream",
     "text": [
      "Data successfully added to the database.\n"
     ]
    }
   ],
   "source": [
    "def add_data_to_database(credit_rating, sales_people, customers, encounters):\n",
    "    try:\n",
    "        # Loading CSV files\n",
    "        credit_rating = pd.read_csv(credit_rating)\n",
    "        sales_people = pd.read_csv(sales_people)\n",
    "        customers = pd.read_csv(customers)\n",
    "        encounters = pd.read_csv(encounters)\n",
    "\n",
    "        # Connect to the database and add data\n",
    "        connection = sqlite3.connect(\"company_sales_records.db\")\n",
    "        credit_rating.to_sql(\"credit_rating\", con=connection, index=False)\n",
    "        sales_people.to_sql(\"sales_people\", con=connection, index=False)\n",
    "        customers.to_sql(\"customers\", con=connection, index=False)\n",
    "        encounters.to_sql(\"encounters\", con=connection, index=False)\n",
    "        connection.close()\n",
    "        print(\"Data successfully added to the database.\")\n",
    "    except Exception as e:\n",
    "        print(f\"Error: {e}\")\n",
    "\n",
    "# Loading files\n",
    "credit_ratings = \"/content/sales_credit_rating.csv\"\n",
    "sales_people = \"/content/sales_people.csv\"\n",
    "sales_customers = \"/content/sales_customers.csv\"\n",
    "sales_encounters = \"/content/sales_encounters.csv\"\n",
    "\n",
    "add_data_to_database(credit_ratings, sales_people, sales_customers, sales_encounters)"
   ]
  },
  {
   "cell_type": "code",
   "execution_count": 3,
   "id": "bCYq2Rrd7U3I",
   "metadata": {
    "executionInfo": {
     "elapsed": 466,
     "status": "ok",
     "timestamp": 1752946023745,
     "user": {
      "displayName": "Benjamin Bennett Alexander",
      "userId": "14614847693800833280"
     },
     "user_tz": -180
    },
    "id": "bCYq2Rrd7U3I"
   },
   "outputs": [],
   "source": [
    "%load_ext sql"
   ]
  },
  {
   "cell_type": "code",
   "execution_count": 4,
   "id": "efb7a04a",
   "metadata": {
    "executionInfo": {
     "elapsed": 5,
     "status": "ok",
     "timestamp": 1752946023767,
     "user": {
      "displayName": "Benjamin Bennett Alexander",
      "userId": "14614847693800833280"
     },
     "user_tz": -180
    },
    "id": "efb7a04a"
   },
   "outputs": [],
   "source": [
    "# Connecting to the database\n",
    "%sql sqlite:///company_sales_records.db"
   ]
  },
  {
   "cell_type": "code",
   "execution_count": 5,
   "id": "Wa3GSRCxD6VV",
   "metadata": {
    "executionInfo": {
     "elapsed": 7,
     "status": "ok",
     "timestamp": 1752946023787,
     "user": {
      "displayName": "Benjamin Bennett Alexander",
      "userId": "14614847693800833280"
     },
     "user_tz": -180
    },
    "id": "Wa3GSRCxD6VV"
   },
   "outputs": [],
   "source": [
    "# Default to duplicated style\n",
    "%config SqlMagic.style = '_DEPRECATED_DEFAULT'"
   ]
  },
  {
   "cell_type": "code",
   "execution_count": 6,
   "id": "7ad4afc9",
   "metadata": {
    "colab": {
     "base_uri": "https://localhost:8080/",
     "height": 219
    },
    "executionInfo": {
     "elapsed": 158,
     "status": "ok",
     "timestamp": 1752946023948,
     "user": {
      "displayName": "Benjamin Bennett Alexander",
      "userId": "14614847693800833280"
     },
     "user_tz": -180
    },
    "id": "7ad4afc9",
    "outputId": "eaf02109-1b89-4266-a465-a36ea7e02344"
   },
   "outputs": [
    {
     "name": "stdout",
     "output_type": "stream",
     "text": [
      " * sqlite:///company_sales_records.db\n",
      "Done.\n"
     ]
    },
    {
     "data": {
      "text/html": [
       "<table>\n",
       "    <thead>\n",
       "        <tr>\n",
       "            <th>CreditID</th>\n",
       "            <th>CreditDescription</th>\n",
       "            <th>MinFICO</th>\n",
       "            <th>MaxFICO</th>\n",
       "            <th>Comments</th>\n",
       "        </tr>\n",
       "    </thead>\n",
       "    <tbody>\n",
       "        <tr>\n",
       "            <td>1</td>\n",
       "            <td>Extremely Poor</td>\n",
       "            <td>300.0</td>\n",
       "            <td>499.0</td>\n",
       "            <td>Cannot extend credit</td>\n",
       "        </tr>\n",
       "        <tr>\n",
       "            <td>2</td>\n",
       "            <td>Very Poor</td>\n",
       "            <td>500.0</td>\n",
       "            <td>580.0</td>\n",
       "            <td>Owner approval required to extend credit</td>\n",
       "        </tr>\n",
       "        <tr>\n",
       "            <td>3</td>\n",
       "            <td>Poor</td>\n",
       "            <td>580.0</td>\n",
       "            <td>619.0</td>\n",
       "            <td>Credit extended at extremely high interest rates</td>\n",
       "        </tr>\n",
       "        <tr>\n",
       "            <td>4</td>\n",
       "            <td>Fair</td>\n",
       "            <td>620.0</td>\n",
       "            <td>679.0</td>\n",
       "            <td>Credit extended at high interest rates</td>\n",
       "        </tr>\n",
       "        <tr>\n",
       "            <td>5</td>\n",
       "            <td>Good</td>\n",
       "            <td>680.0</td>\n",
       "            <td>699.0</td>\n",
       "            <td>Credit extended at normal interest rates</td>\n",
       "        </tr>\n",
       "        <tr>\n",
       "            <td>6</td>\n",
       "            <td>Very Good</td>\n",
       "            <td>700.0</td>\n",
       "            <td>850.0</td>\n",
       "            <td>Credit extended at low interest rates</td>\n",
       "        </tr>\n",
       "        <tr>\n",
       "            <td>7</td>\n",
       "            <td>Unknown</td>\n",
       "            <td>None</td>\n",
       "            <td>None</td>\n",
       "            <td>Paid cash without looking into financing options</td>\n",
       "        </tr>\n",
       "    </tbody>\n",
       "</table>"
      ],
      "text/plain": [
       "[(1, 'Extremely Poor', 300.0, 499.0, 'Cannot extend credit'),\n",
       " (2, 'Very Poor', 500.0, 580.0, 'Owner approval required to extend credit'),\n",
       " (3, 'Poor', 580.0, 619.0, 'Credit extended at extremely high interest rates'),\n",
       " (4, 'Fair', 620.0, 679.0, 'Credit extended at high interest rates'),\n",
       " (5, 'Good', 680.0, 699.0, 'Credit extended at normal interest rates'),\n",
       " (6, 'Very Good', 700.0, 850.0, 'Credit extended at low interest rates'),\n",
       " (7, 'Unknown', None, None, 'Paid cash without looking into financing options')]"
      ]
     },
     "execution_count": 6,
     "metadata": {},
     "output_type": "execute_result"
    }
   ],
   "source": [
    "%%sql\n",
    "SELECT * FROM credit_rating;"
   ]
  },
  {
   "cell_type": "code",
   "execution_count": 7,
   "id": "87867ec9",
   "metadata": {
    "colab": {
     "base_uri": "https://localhost:8080/",
     "height": 177
    },
    "executionInfo": {
     "elapsed": 83,
     "status": "ok",
     "timestamp": 1752946023953,
     "user": {
      "displayName": "Benjamin Bennett Alexander",
      "userId": "14614847693800833280"
     },
     "user_tz": -180
    },
    "id": "87867ec9",
    "outputId": "cb413a99-d7da-4043-8708-c3d2b7ba0534"
   },
   "outputs": [
    {
     "name": "stdout",
     "output_type": "stream",
     "text": [
      " * sqlite:///company_sales_records.db\n",
      "Done.\n"
     ]
    },
    {
     "data": {
      "text/html": [
       "<table>\n",
       "    <thead>\n",
       "        <tr>\n",
       "            <th>SalesID</th>\n",
       "            <th>SFirstName</th>\n",
       "            <th>SLastName</th>\n",
       "            <th>SHireDate</th>\n",
       "            <th>Salary</th>\n",
       "        </tr>\n",
       "    </thead>\n",
       "    <tbody>\n",
       "        <tr>\n",
       "            <td>1</td>\n",
       "            <td>Harry</td>\n",
       "            <td>Potter</td>\n",
       "            <td>13 02 1989</td>\n",
       "            <td>$140,000.00</td>\n",
       "        </tr>\n",
       "        <tr>\n",
       "            <td>2</td>\n",
       "            <td>Hermione</td>\n",
       "            <td>Granger</td>\n",
       "            <td>2 05 1989</td>\n",
       "            <td>$82,000.00</td>\n",
       "        </tr>\n",
       "        <tr>\n",
       "            <td>3</td>\n",
       "            <td>Ron</td>\n",
       "            <td>Weasley</td>\n",
       "            <td>2 05 1989</td>\n",
       "            <td>$93,000.00</td>\n",
       "        </tr>\n",
       "        <tr>\n",
       "            <td>4</td>\n",
       "            <td>Dudley</td>\n",
       "            <td>Dursley</td>\n",
       "            <td>27 04 1996</td>\n",
       "            <td>$56,000.00</td>\n",
       "        </tr>\n",
       "        <tr>\n",
       "            <td>5</td>\n",
       "            <td>Katie</td>\n",
       "            <td>Bell</td>\n",
       "            <td>15 05 1996</td>\n",
       "            <td>$67,000.00</td>\n",
       "        </tr>\n",
       "    </tbody>\n",
       "</table>"
      ],
      "text/plain": [
       "[(1, 'Harry', 'Potter', '13 02 1989', '$140,000.00'),\n",
       " (2, 'Hermione', 'Granger', '2 05 1989', '$82,000.00'),\n",
       " (3, 'Ron', 'Weasley', '2 05 1989', '$93,000.00'),\n",
       " (4, 'Dudley', 'Dursley', '27 04 1996', '$56,000.00'),\n",
       " (5, 'Katie', 'Bell', '15 05 1996', '$67,000.00')]"
      ]
     },
     "execution_count": 7,
     "metadata": {},
     "output_type": "execute_result"
    }
   ],
   "source": [
    "%%sql\n",
    "SELECT * FROM sales_people\n",
    "LIMIT 5;"
   ]
  },
  {
   "cell_type": "code",
   "execution_count": 8,
   "id": "2e859a29",
   "metadata": {
    "colab": {
     "base_uri": "https://localhost:8080/",
     "height": 177
    },
    "executionInfo": {
     "elapsed": 50,
     "status": "ok",
     "timestamp": 1752946023955,
     "user": {
      "displayName": "Benjamin Bennett Alexander",
      "userId": "14614847693800833280"
     },
     "user_tz": -180
    },
    "id": "2e859a29",
    "outputId": "05a0fee2-1271-4943-d198-02389f3f6cc7"
   },
   "outputs": [
    {
     "name": "stdout",
     "output_type": "stream",
     "text": [
      " * sqlite:///company_sales_records.db\n",
      "Done.\n"
     ]
    },
    {
     "data": {
      "text/html": [
       "<table>\n",
       "    <thead>\n",
       "        <tr>\n",
       "            <th>CustomerID</th>\n",
       "            <th>CFirstName</th>\n",
       "            <th>CLastName</th>\n",
       "            <th>CPhone</th>\n",
       "            <th>AnnualIncome</th>\n",
       "            <th>CreditID</th>\n",
       "        </tr>\n",
       "    </thead>\n",
       "    <tbody>\n",
       "        <tr>\n",
       "            <td>1</td>\n",
       "            <td>Clark</td>\n",
       "            <td>Adams</td>\n",
       "            <td>(801) 768-6043</td>\n",
       "            <td>$64,250.00</td>\n",
       "            <td>3</td>\n",
       "        </tr>\n",
       "        <tr>\n",
       "            <td>2</td>\n",
       "            <td>Jessica</td>\n",
       "            <td>Johnson</td>\n",
       "            <td>(801) 763-9955</td>\n",
       "            <td>$35,500.00</td>\n",
       "            <td>2</td>\n",
       "        </tr>\n",
       "        <tr>\n",
       "            <td>3</td>\n",
       "            <td>Owen</td>\n",
       "            <td>Neff</td>\n",
       "            <td>(801) 373-8051</td>\n",
       "            <td>$33,750.00</td>\n",
       "            <td>2</td>\n",
       "        </tr>\n",
       "        <tr>\n",
       "            <td>4</td>\n",
       "            <td>Jeff</td>\n",
       "            <td>Raye</td>\n",
       "            <td>(801) 374-9170</td>\n",
       "            <td>$30,000.00</td>\n",
       "            <td>2</td>\n",
       "        </tr>\n",
       "        <tr>\n",
       "            <td>5</td>\n",
       "            <td>Danny</td>\n",
       "            <td>Smith</td>\n",
       "            <td>(801) 766-9697</td>\n",
       "            <td>$52,500.00</td>\n",
       "            <td>3</td>\n",
       "        </tr>\n",
       "    </tbody>\n",
       "</table>"
      ],
      "text/plain": [
       "[(1, 'Clark', 'Adams', '(801) 768-6043', '$64,250.00', 3),\n",
       " (2, 'Jessica', 'Johnson', '(801) 763-9955', '$35,500.00', 2),\n",
       " (3, 'Owen', 'Neff', '(801) 373-8051', '$33,750.00', 2),\n",
       " (4, 'Jeff', 'Raye', '(801) 374-9170', '$30,000.00', 2),\n",
       " (5, 'Danny', 'Smith', '(801) 766-9697', '$52,500.00', 3)]"
      ]
     },
     "execution_count": 8,
     "metadata": {},
     "output_type": "execute_result"
    }
   ],
   "source": [
    "%%sql\n",
    "SELECT * FROM customers\n",
    "LIMIT 5;"
   ]
  },
  {
   "cell_type": "code",
   "execution_count": 9,
   "id": "5fc2adf3",
   "metadata": {
    "colab": {
     "base_uri": "https://localhost:8080/",
     "height": 177
    },
    "executionInfo": {
     "elapsed": 19,
     "status": "ok",
     "timestamp": 1752946023994,
     "user": {
      "displayName": "Benjamin Bennett Alexander",
      "userId": "14614847693800833280"
     },
     "user_tz": -180
    },
    "id": "5fc2adf3",
    "outputId": "8e2c7d70-dea3-470c-9364-8c28ba973498"
   },
   "outputs": [
    {
     "name": "stdout",
     "output_type": "stream",
     "text": [
      " * sqlite:///company_sales_records.db\n",
      "Done.\n"
     ]
    },
    {
     "data": {
      "text/html": [
       "<table>\n",
       "    <thead>\n",
       "        <tr>\n",
       "            <th>EncID</th>\n",
       "            <th>SalesID</th>\n",
       "            <th>CustomerID</th>\n",
       "            <th>EncDate</th>\n",
       "            <th>Purchase</th>\n",
       "        </tr>\n",
       "    </thead>\n",
       "    <tbody>\n",
       "        <tr>\n",
       "            <td>1</td>\n",
       "            <td>7</td>\n",
       "            <td>1</td>\n",
       "            <td>01-Jul-15</td>\n",
       "            <td>0</td>\n",
       "        </tr>\n",
       "        <tr>\n",
       "            <td>2</td>\n",
       "            <td>5</td>\n",
       "            <td>2</td>\n",
       "            <td>01-Jul-15</td>\n",
       "            <td>0</td>\n",
       "        </tr>\n",
       "        <tr>\n",
       "            <td>3</td>\n",
       "            <td>3</td>\n",
       "            <td>3</td>\n",
       "            <td>01-Jul-15</td>\n",
       "            <td>1</td>\n",
       "        </tr>\n",
       "        <tr>\n",
       "            <td>4</td>\n",
       "            <td>3</td>\n",
       "            <td>4</td>\n",
       "            <td>01-Jul-15</td>\n",
       "            <td>0</td>\n",
       "        </tr>\n",
       "        <tr>\n",
       "            <td>5</td>\n",
       "            <td>2</td>\n",
       "            <td>5</td>\n",
       "            <td>01-Jul-15</td>\n",
       "            <td>1</td>\n",
       "        </tr>\n",
       "    </tbody>\n",
       "</table>"
      ],
      "text/plain": [
       "[(1, 7, 1, '01-Jul-15', 0),\n",
       " (2, 5, 2, '01-Jul-15', 0),\n",
       " (3, 3, 3, '01-Jul-15', 1),\n",
       " (4, 3, 4, '01-Jul-15', 0),\n",
       " (5, 2, 5, '01-Jul-15', 1)]"
      ]
     },
     "execution_count": 9,
     "metadata": {},
     "output_type": "execute_result"
    }
   ],
   "source": [
    "%%sql\n",
    "SELECT * FROM encounters\n",
    "LIMIT 5;"
   ]
  },
  {
   "cell_type": "markdown",
   "id": "0e8bf43b",
   "metadata": {
    "id": "0e8bf43b"
   },
   "source": [
    "## Question 2: **Answer**"
   ]
  },
  {
   "cell_type": "code",
   "execution_count": 10,
   "id": "55883c55",
   "metadata": {
    "colab": {
     "base_uri": "https://localhost:8080/"
    },
    "executionInfo": {
     "elapsed": 60,
     "status": "ok",
     "timestamp": 1752946024060,
     "user": {
      "displayName": "Benjamin Bennett Alexander",
      "userId": "14614847693800833280"
     },
     "user_tz": -180
    },
    "id": "55883c55",
    "outputId": "2ae3727e-958a-4346-c331-5c9cccae9d2f"
   },
   "outputs": [
    {
     "name": "stdout",
     "output_type": "stream",
     "text": [
      " * sqlite:///company_sales_records.db\n",
      "177 rows affected.\n"
     ]
    },
    {
     "data": {
      "text/plain": [
       "[]"
      ]
     },
     "execution_count": 10,
     "metadata": {},
     "output_type": "execute_result"
    }
   ],
   "source": [
    "%%sql\n",
    "UPDATE customers\n",
    "SET AnnualIncome = REPLACE(REPLACE(AnnualIncome, '$', ''), ',', '');"
   ]
  },
  {
   "cell_type": "code",
   "execution_count": 11,
   "id": "65a59d56",
   "metadata": {
    "colab": {
     "base_uri": "https://localhost:8080/",
     "height": 94
    },
    "executionInfo": {
     "elapsed": 21,
     "status": "ok",
     "timestamp": 1752946024084,
     "user": {
      "displayName": "Benjamin Bennett Alexander",
      "userId": "14614847693800833280"
     },
     "user_tz": -180
    },
    "id": "65a59d56",
    "outputId": "8b3cbe23-e075-4d16-b848-4e5337621d49"
   },
   "outputs": [
    {
     "name": "stdout",
     "output_type": "stream",
     "text": [
      " * sqlite:///company_sales_records.db\n",
      "Done.\n"
     ]
    },
    {
     "data": {
      "text/html": [
       "<table>\n",
       "    <thead>\n",
       "        <tr>\n",
       "            <th>rating_1_average_income</th>\n",
       "            <th>rating_6_average_income</th>\n",
       "            <th>percentage_diffference</th>\n",
       "        </tr>\n",
       "    </thead>\n",
       "    <tbody>\n",
       "        <tr>\n",
       "            <td>29500.0</td>\n",
       "            <td>59458.33</td>\n",
       "            <td>49.61</td>\n",
       "        </tr>\n",
       "    </tbody>\n",
       "</table>"
      ],
      "text/plain": [
       "[(29500.0, 59458.33, 49.61)]"
      ]
     },
     "execution_count": 11,
     "metadata": {},
     "output_type": "execute_result"
    }
   ],
   "source": [
    "%%sql\n",
    "-- Main query to use the results of the two subqueries\n",
    "SELECT\n",
    "    rating_1_average_income,\n",
    "    rating_6_average_income,\n",
    "    -- Calculating percentage difference\n",
    "    ROUND(rating_1_average_income/rating_6_average_income * 100, 2)\n",
    "    AS percentage_diffference\n",
    "FROM\n",
    "    -- Subquery to calculate the average income for credit 1 rating\n",
    "    (SELECT\n",
    "    ROUND(AVG(AnnualIncome),2) AS rating_1_average_income\n",
    "    FROM customers\n",
    "    WHERE customers.CreditID = 1\n",
    "    GROUP BY customers.CreditID)\n",
    "    AS average_rating_1_income,\n",
    "\n",
    "    -- Subquery to calculate the average income for credit 6 rating\n",
    "    (SELECT\n",
    "    ROUND(AVG(AnnualIncome),2) AS rating_6_average_income\n",
    "    FROM customers\n",
    "    WHERE customers.CreditID = 6\n",
    "    GROUP BY customers.CreditID) AS average_rating_6_income;"
   ]
  },
  {
   "cell_type": "code",
   "execution_count": 12,
   "id": "8uFgWzRdKAPc",
   "metadata": {
    "colab": {
     "base_uri": "https://localhost:8080/",
     "height": 94
    },
    "executionInfo": {
     "elapsed": 100,
     "status": "ok",
     "timestamp": 1752946024188,
     "user": {
      "displayName": "Benjamin Bennett Alexander",
      "userId": "14614847693800833280"
     },
     "user_tz": -180
    },
    "id": "8uFgWzRdKAPc",
    "outputId": "31d36b1c-c6d7-4d3f-fc65-af457fedc95b"
   },
   "outputs": [
    {
     "name": "stdout",
     "output_type": "stream",
     "text": [
      " * sqlite:///company_sales_records.db\n",
      "Done.\n"
     ]
    },
    {
     "data": {
      "text/html": [
       "<table>\n",
       "    <thead>\n",
       "        <tr>\n",
       "            <th>rating_1_average_income</th>\n",
       "            <th>rating_6_average_income</th>\n",
       "            <th>percentage_of_rating_6</th>\n",
       "        </tr>\n",
       "    </thead>\n",
       "    <tbody>\n",
       "        <tr>\n",
       "            <td>29500.0</td>\n",
       "            <td>59458.33</td>\n",
       "            <td>49.61</td>\n",
       "        </tr>\n",
       "    </tbody>\n",
       "</table>"
      ],
      "text/plain": [
       "[(29500.0, 59458.33, 49.61)]"
      ]
     },
     "execution_count": 12,
     "metadata": {},
     "output_type": "execute_result"
    }
   ],
   "source": [
    "%%sql\n",
    "SELECT\n",
    "-- Calculating averages of credit rating 1 and 6\n",
    "    ROUND(AVG(CASE WHEN customers.CreditID = 1 THEN AnnualIncome ELSE NULL END), 2)\n",
    "    AS rating_1_average_income,\n",
    "    ROUND(AVG(CASE WHEN customers.CreditID = 6 THEN AnnualIncome ELSE NULL END), 2)\n",
    "    AS rating_6_average_income,\n",
    "\n",
    "-- calculating the percentage credit rating 1 relative to rating 6\n",
    "    ROUND((\n",
    "        AVG(CASE WHEN customers.CreditID = 1 THEN AnnualIncome ELSE NULL END) /\n",
    "        AVG(CASE WHEN customers.CreditID = 6 THEN AnnualIncome ELSE NULL END)\n",
    "    ) * 100, 2) AS percentage_of_rating_6\n",
    "\n",
    "FROM customers;"
   ]
  },
  {
   "cell_type": "markdown",
   "id": "c89d9762",
   "metadata": {
    "id": "c89d9762"
   },
   "source": [
    "## Question 3: **Answer**"
   ]
  },
  {
   "cell_type": "code",
   "execution_count": 13,
   "id": "73eb3abc",
   "metadata": {
    "colab": {
     "base_uri": "https://localhost:8080/",
     "height": 94
    },
    "executionInfo": {
     "elapsed": 54,
     "status": "ok",
     "timestamp": 1752946024195,
     "user": {
      "displayName": "Benjamin Bennett Alexander",
      "userId": "14614847693800833280"
     },
     "user_tz": -180
    },
    "id": "73eb3abc",
    "outputId": "08d0db32-a977-417a-c1bf-e118a1b6f7c4"
   },
   "outputs": [
    {
     "name": "stdout",
     "output_type": "stream",
     "text": [
      " * sqlite:///company_sales_records.db\n",
      "Done.\n"
     ]
    },
    {
     "data": {
      "text/html": [
       "<table>\n",
       "    <thead>\n",
       "        <tr>\n",
       "            <th>CreditID</th>\n",
       "            <th>AnnualIncome</th>\n",
       "            <th>Comments</th>\n",
       "        </tr>\n",
       "    </thead>\n",
       "    <tbody>\n",
       "        <tr>\n",
       "            <td>1</td>\n",
       "            <td>28500.00</td>\n",
       "            <td>Cannot extend credit</td>\n",
       "        </tr>\n",
       "    </tbody>\n",
       "</table>"
      ],
      "text/plain": [
       "[(1, '28500.00', 'Cannot extend credit')]"
      ]
     },
     "execution_count": 13,
     "metadata": {},
     "output_type": "execute_result"
    }
   ],
   "source": [
    "%%sql\n",
    "SELECT\n",
    "    customers.CreditID,\n",
    "    customers.AnnualIncome,\n",
    "    credit_rating.Comments\n",
    "FROM customers\n",
    "LEFT JOIN credit_rating\n",
    "-- joining two tables on CreditID columns\n",
    "ON customers.CreditID = credit_rating.CreditID\n",
    "WHERE CFirstName = 'Sarah' AND CLastName = 'Scarborough';"
   ]
  },
  {
   "cell_type": "markdown",
   "id": "55184da1",
   "metadata": {
    "id": "55184da1"
   },
   "source": [
    "## Question 4: **Answer**"
   ]
  },
  {
   "cell_type": "code",
   "execution_count": 14,
   "id": "nQODEnn1pFcc",
   "metadata": {
    "colab": {
     "base_uri": "https://localhost:8080/",
     "height": 115
    },
    "executionInfo": {
     "elapsed": 36,
     "status": "ok",
     "timestamp": 1752946024198,
     "user": {
      "displayName": "Benjamin Bennett Alexander",
      "userId": "14614847693800833280"
     },
     "user_tz": -180
    },
    "id": "nQODEnn1pFcc",
    "outputId": "0f455f99-c66c-4f50-9b78-9d0c7ccafab8"
   },
   "outputs": [
    {
     "name": "stdout",
     "output_type": "stream",
     "text": [
      " * sqlite:///company_sales_records.db\n",
      "Done.\n"
     ]
    },
    {
     "data": {
      "text/html": [
       "<table>\n",
       "    <thead>\n",
       "        <tr>\n",
       "            <th>first_name</th>\n",
       "            <th>last_name</th>\n",
       "            <th>salary</th>\n",
       "            <th>sales_count</th>\n",
       "        </tr>\n",
       "    </thead>\n",
       "    <tbody>\n",
       "        <tr>\n",
       "            <td>Hermione</td>\n",
       "            <td>Granger</td>\n",
       "            <td>$82,000.00</td>\n",
       "            <td>&nbsp;&nbsp;&nbsp;&nbsp;&nbsp;&nbsp;&nbsp;&nbsp;&nbsp;&nbsp;&nbsp;&nbsp;&nbsp;&nbsp;&nbsp;&nbsp;&nbsp;&nbsp;14</td>\n",
       "        </tr>\n",
       "        <tr>\n",
       "            <td>Colin</td>\n",
       "            <td>Creevey</td>\n",
       "            <td>$62,000.00</td>\n",
       "            <td>&nbsp;&nbsp;&nbsp;&nbsp;&nbsp;&nbsp;&nbsp;&nbsp;&nbsp;&nbsp;&nbsp;&nbsp;&nbsp;&nbsp;&nbsp;&nbsp;&nbsp;&nbsp;&nbsp;0</td>\n",
       "        </tr>\n",
       "    </tbody>\n",
       "</table>"
      ],
      "text/plain": [
       "[('Hermione', 'Granger', '$82,000.00', '                  14'),\n",
       " ('Colin', 'Creevey', '$62,000.00', '                   0')]"
      ]
     },
     "execution_count": 14,
     "metadata": {},
     "output_type": "execute_result"
    }
   ],
   "source": [
    "%%sql\n",
    "-- Counting sales per sales person\n",
    "WITH sales_count AS (\n",
    "    SELECT\n",
    "        sales_people.SFirstName AS first_name,\n",
    "        sales_people.SLastName AS last_name,\n",
    "        sales_people.Salary AS salary,\n",
    "        SUM(encounters.Purchase) AS total_sales\n",
    "    FROM sales_people\n",
    "    LEFT JOIN encounters\n",
    "    ON sales_people.SalesID = encounters.SalesID\n",
    "    GROUP BY sales_people.SalesID\n",
    ")\n",
    "-- Getting the person with the max and min sales\n",
    "SELECT\n",
    "    first_name,\n",
    "    last_name,\n",
    "    salary,\n",
    "    printf('%20s', total_sales) AS sales_count\n",
    "FROM sales_count\n",
    "WHERE total_sales = (SELECT MAX(total_sales) FROM sales_count)\n",
    "   OR total_sales = (SELECT MIN(total_sales) FROM sales_count);"
   ]
  },
  {
   "cell_type": "markdown",
   "id": "70a034a3",
   "metadata": {
    "id": "70a034a3"
   },
   "source": [
    "## Question 5: **Answer**"
   ]
  },
  {
   "cell_type": "code",
   "execution_count": 15,
   "id": "350b771b",
   "metadata": {
    "colab": {
     "base_uri": "https://localhost:8080/",
     "height": 94
    },
    "executionInfo": {
     "elapsed": 79,
     "status": "ok",
     "timestamp": 1752946024264,
     "user": {
      "displayName": "Benjamin Bennett Alexander",
      "userId": "14614847693800833280"
     },
     "user_tz": -180
    },
    "id": "350b771b",
    "outputId": "d1ec8bc3-6ba7-44bf-cd82-2559377555ab"
   },
   "outputs": [
    {
     "name": "stdout",
     "output_type": "stream",
     "text": [
      " * sqlite:///company_sales_records.db\n",
      "Done.\n"
     ]
    },
    {
     "data": {
      "text/html": [
       "<table>\n",
       "    <thead>\n",
       "        <tr>\n",
       "            <th>customer_first_name</th>\n",
       "            <th>customer_last_name</th>\n",
       "            <th>CreditID</th>\n",
       "            <th>salesperson_first_name</th>\n",
       "            <th>salesperson_last_name</th>\n",
       "            <th>encounter_date</th>\n",
       "        </tr>\n",
       "    </thead>\n",
       "    <tbody>\n",
       "        <tr>\n",
       "            <td>George</td>\n",
       "            <td>Campbell</td>\n",
       "            <td>5</td>\n",
       "            <td>Dudley</td>\n",
       "            <td>Dursley</td>\n",
       "            <td>02-Jul-15</td>\n",
       "        </tr>\n",
       "    </tbody>\n",
       "</table>"
      ],
      "text/plain": [
       "[('George', 'Campbell', 5, 'Dudley', 'Dursley', '02-Jul-15')]"
      ]
     },
     "execution_count": 15,
     "metadata": {},
     "output_type": "execute_result"
    }
   ],
   "source": [
    "%%sql\n",
    "SELECT\n",
    "    customers.CFirstName As customer_first_name,\n",
    "    customers.CLastName AS customer_last_name,\n",
    "    customers.CreditID,\n",
    "    sales_people.SFirstName AS salesperson_first_name,\n",
    "    sales_people.SLastName As salesperson_last_name,\n",
    "    encounters.EncDate AS encounter_date\n",
    "FROM encounters\n",
    "INNER JOIN customers\n",
    "-- Joining encounters with customers\n",
    "ON encounters.CustomerID = customers.CustomerID\n",
    "INNER JOIN sales_people\n",
    "--Joining encounters with sales_people\n",
    "ON encounters.SalesID = sales_people.SalesID\n",
    "    WHERE encounters.SalesID = 4 AND encounters.CustomerID = 8;"
   ]
  },
  {
   "cell_type": "markdown",
   "id": "6d32e332",
   "metadata": {
    "id": "6d32e332"
   },
   "source": [
    "## Question 6: **Answer**"
   ]
  },
  {
   "cell_type": "code",
   "execution_count": 16,
   "id": "GgljfBloyeof",
   "metadata": {
    "colab": {
     "base_uri": "https://localhost:8080/",
     "height": 198
    },
    "executionInfo": {
     "elapsed": 25,
     "status": "ok",
     "timestamp": 1752946024291,
     "user": {
      "displayName": "Benjamin Bennett Alexander",
      "userId": "14614847693800833280"
     },
     "user_tz": -180
    },
    "id": "GgljfBloyeof",
    "outputId": "92c0304d-478b-460e-81df-250bb3d474d1"
   },
   "outputs": [
    {
     "name": "stdout",
     "output_type": "stream",
     "text": [
      " * sqlite:///company_sales_records.db\n",
      "Done.\n"
     ]
    },
    {
     "data": {
      "text/html": [
       "<table>\n",
       "    <thead>\n",
       "        <tr>\n",
       "            <th>first_name</th>\n",
       "            <th>last_name</th>\n",
       "            <th>phone_number</th>\n",
       "            <th>latest_purchase_date</th>\n",
       "            <th>total_purchases</th>\n",
       "            <th>priority_label</th>\n",
       "        </tr>\n",
       "    </thead>\n",
       "    <tbody>\n",
       "        <tr>\n",
       "            <td>Jeff</td>\n",
       "            <td>Wood</td>\n",
       "            <td>(801) 374-1669</td>\n",
       "            <td>03-Jul-15</td>\n",
       "            <td>1</td>\n",
       "            <td>Standard Priority</td>\n",
       "        </tr>\n",
       "        <tr>\n",
       "            <td>Colleen</td>\n",
       "            <td>Jacobson</td>\n",
       "            <td>(801) 785-4734</td>\n",
       "            <td>18-Jul-15</td>\n",
       "            <td>2</td>\n",
       "            <td>High Priority</td>\n",
       "        </tr>\n",
       "        <tr>\n",
       "            <td>Filipe</td>\n",
       "            <td>Diaz</td>\n",
       "            <td>(801) 374-2760</td>\n",
       "            <td>20-Jul-15</td>\n",
       "            <td>1</td>\n",
       "            <td>Standard Priority</td>\n",
       "        </tr>\n",
       "        <tr>\n",
       "            <td>Sam</td>\n",
       "            <td>Ogden</td>\n",
       "            <td>(801) 356-1120</td>\n",
       "            <td>28-Jul-15</td>\n",
       "            <td>2</td>\n",
       "            <td>High Priority</td>\n",
       "        </tr>\n",
       "        <tr>\n",
       "            <td>Ethan</td>\n",
       "            <td>Woodland</td>\n",
       "            <td>(801) 763-1634</td>\n",
       "            <td>26-Jul-15</td>\n",
       "            <td>1</td>\n",
       "            <td>Standard Priority</td>\n",
       "        </tr>\n",
       "        <tr>\n",
       "            <td>Alison</td>\n",
       "            <td>Jameson</td>\n",
       "            <td>(801) 356-6198</td>\n",
       "            <td>30-Jul-15</td>\n",
       "            <td>1</td>\n",
       "            <td>Standard Priority</td>\n",
       "        </tr>\n",
       "    </tbody>\n",
       "</table>"
      ],
      "text/plain": [
       "[('Jeff', 'Wood', '(801) 374-1669', '03-Jul-15', 1, 'Standard Priority'),\n",
       " ('Colleen', 'Jacobson', '(801) 785-4734', '18-Jul-15', 2, 'High Priority'),\n",
       " ('Filipe', 'Diaz', '(801) 374-2760', '20-Jul-15', 1, 'Standard Priority'),\n",
       " ('Sam', 'Ogden', '(801) 356-1120', '28-Jul-15', 2, 'High Priority'),\n",
       " ('Ethan', 'Woodland', '(801) 763-1634', '26-Jul-15', 1, 'Standard Priority'),\n",
       " ('Alison', 'Jameson', '(801) 356-6198', '30-Jul-15', 1, 'Standard Priority')]"
      ]
     },
     "execution_count": 16,
     "metadata": {},
     "output_type": "execute_result"
    }
   ],
   "source": [
    "%%sql\n",
    "-- Joining two tables and aggregating cash purchases\n",
    "WITH customer_cash_purchases AS (\n",
    "    SELECT\n",
    "        c.CFirstName AS first_name,\n",
    "        c.CLastName AS last_name,\n",
    "        c.CPhone AS phone_number,\n",
    "        MAX(e.EncDate) AS latest_purchase_date,\n",
    "        COUNT(e.EncDate) AS total_purchases\n",
    "    FROM customers AS c\n",
    "    INNER JOIN encounters AS e\n",
    "        ON c.CustomerID = e.CustomerID\n",
    "    WHERE c.CreditID  = 7\n",
    "    GROUP BY c.CustomerID\n",
    ")\n",
    "-- Retrieving and labeling data\n",
    "SELECT\n",
    "    first_name,\n",
    "    last_name,\n",
    "    phone_number,\n",
    "    latest_purchase_date,\n",
    "    total_purchases,\n",
    "    CASE\n",
    "        WHEN total_purchases >=2  THEN 'High Priority'\n",
    "        ELSE 'Standard Priority'\n",
    "    END AS priority_label\n",
    "FROM customer_cash_purchases;"
   ]
  }
 ],
 "metadata": {
  "colab": {
   "provenance": []
  },
  "kernelspec": {
   "display_name": "Python 3 (ipykernel)",
   "language": "python",
   "name": "python3"
  },
  "language_info": {
   "codemirror_mode": {
    "name": "ipython",
    "version": 3
   },
   "file_extension": ".py",
   "mimetype": "text/x-python",
   "name": "python",
   "nbconvert_exporter": "python",
   "pygments_lexer": "ipython3",
   "version": "3.10.5"
  }
 },
 "nbformat": 4,
 "nbformat_minor": 5
}

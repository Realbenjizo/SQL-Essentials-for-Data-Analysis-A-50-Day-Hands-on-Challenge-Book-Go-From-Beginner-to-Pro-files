{
 "cells": [
  {
   "cell_type": "markdown",
   "id": "Z_DScT3FYoIq",
   "metadata": {
    "id": "Z_DScT3FYoIq"
   },
   "source": [
    "## Question 1: **Answer**"
   ]
  },
  {
   "cell_type": "code",
   "execution_count": 1,
   "id": "6f830374",
   "metadata": {
    "executionInfo": {
     "elapsed": 476,
     "status": "ok",
     "timestamp": 1752925697276,
     "user": {
      "displayName": "Benjamin Bennett Alexander",
      "userId": "14614847693800833280"
     },
     "user_tz": -180
    },
    "id": "6f830374"
   },
   "outputs": [],
   "source": [
    "import pandas as pd\n",
    "import sqlite3"
   ]
  },
  {
   "cell_type": "code",
   "execution_count": null,
   "id": "83358b34",
   "metadata": {
    "executionInfo": {
     "elapsed": 327,
     "status": "ok",
     "timestamp": 1752925697595,
     "user": {
      "displayName": "Benjamin Bennett Alexander",
      "userId": "14614847693800833280"
     },
     "user_tz": -180
    },
    "id": "83358b34"
   },
   "outputs": [],
   "source": [
    "def add_data_to_database(input_data):\n",
    "    try:\n",
    "        data = pd.read_csv(input_data)\n",
    "        engine = sqlite3.connect('transport_business.db')\n",
    "        data.to_sql('transport', con=engine, index = False)\n",
    "        engine.close()\n",
    "    except Exception as e:\n",
    "        print(f'Error: {e}')\n",
    "\n",
    "# Loading data\n",
    "data = \"/content/transport_business.csv\"\n",
    "add_data_to_database(data)"
   ]
  },
  {
   "cell_type": "code",
   "execution_count": 3,
   "id": "4d81f33c",
   "metadata": {
    "executionInfo": {
     "elapsed": 129,
     "status": "ok",
     "timestamp": 1752925697730,
     "user": {
      "displayName": "Benjamin Bennett Alexander",
      "userId": "14614847693800833280"
     },
     "user_tz": -180
    },
    "id": "4d81f33c"
   },
   "outputs": [],
   "source": [
    "# Loading SQL extension\n",
    "%load_ext sql"
   ]
  },
  {
   "cell_type": "code",
   "execution_count": 4,
   "id": "d92cf429",
   "metadata": {
    "executionInfo": {
     "elapsed": 25,
     "status": "ok",
     "timestamp": 1752925697763,
     "user": {
      "displayName": "Benjamin Bennett Alexander",
      "userId": "14614847693800833280"
     },
     "user_tz": -180
    },
    "id": "d92cf429"
   },
   "outputs": [],
   "source": [
    "# Connecting to the database\n",
    "%sql sqlite:///transport_business.db"
   ]
  },
  {
   "cell_type": "code",
   "execution_count": 5,
   "id": "CDAFqug-2QTG",
   "metadata": {
    "executionInfo": {
     "elapsed": 3,
     "status": "ok",
     "timestamp": 1752925697769,
     "user": {
      "displayName": "Benjamin Bennett Alexander",
      "userId": "14614847693800833280"
     },
     "user_tz": -180
    },
    "id": "CDAFqug-2QTG"
   },
   "outputs": [],
   "source": [
    "# Default to duplicated style\n",
    "%config SqlMagic.style = '_DEPRECATED_DEFAULT'"
   ]
  },
  {
   "cell_type": "code",
   "execution_count": 6,
   "id": "7693184e",
   "metadata": {
    "colab": {
     "base_uri": "https://localhost:8080/",
     "height": 177
    },
    "executionInfo": {
     "elapsed": 38,
     "status": "ok",
     "timestamp": 1752925697811,
     "user": {
      "displayName": "Benjamin Bennett Alexander",
      "userId": "14614847693800833280"
     },
     "user_tz": -180
    },
    "id": "7693184e",
    "outputId": "4c97f449-8251-4cc4-9260-aaa20a777565"
   },
   "outputs": [
    {
     "name": "stdout",
     "output_type": "stream",
     "text": [
      " * sqlite:///transport_business.db\n",
      "Done.\n"
     ]
    },
    {
     "data": {
      "text/html": [
       "<table>\n",
       "    <thead>\n",
       "        <tr>\n",
       "            <th>shipment_id</th>\n",
       "            <th>customer_name</th>\n",
       "            <th>pickup_address</th>\n",
       "            <th>dropoff_address</th>\n",
       "            <th>shipment_date</th>\n",
       "            <th>shipment_time</th>\n",
       "            <th>shipment_cost</th>\n",
       "        </tr>\n",
       "    </thead>\n",
       "    <tbody>\n",
       "        <tr>\n",
       "            <td>1</td>\n",
       "            <td>ABC Logistics</td>\n",
       "            <td>123 Main Street</td>\n",
       "            <td>456 Elm Street</td>\n",
       "            <td>2023-10-05</td>\n",
       "            <td>10:00 AM</td>\n",
       "            <td>120</td>\n",
       "        </tr>\n",
       "        <tr>\n",
       "            <td>2</td>\n",
       "            <td>XYZ Enterprises</td>\n",
       "            <td>789 Maple Avenue</td>\n",
       "            <td>101 Oak Street</td>\n",
       "            <td>2023-10-06</td>\n",
       "            <td>02:00 PM</td>\n",
       "            <td>150</td>\n",
       "        </tr>\n",
       "        <tr>\n",
       "            <td>3</td>\n",
       "            <td>DEF Shipping</td>\n",
       "            <td>567 Oak Street</td>\n",
       "            <td>987 Pine Avenue</td>\n",
       "            <td>2023-10-07</td>\n",
       "            <td>09:00 AM</td>\n",
       "            <td>180</td>\n",
       "        </tr>\n",
       "        <tr>\n",
       "            <td>4</td>\n",
       "            <td>LMN Transportation</td>\n",
       "            <td>345 Maple Avenue</td>\n",
       "            <td>678 Elm Street</td>\n",
       "            <td>2023-10-08</td>\n",
       "            <td>03:00 PM</td>\n",
       "            <td>135</td>\n",
       "        </tr>\n",
       "        <tr>\n",
       "            <td>5</td>\n",
       "            <td>GHI Delivery</td>\n",
       "            <td>987 Pine Avenue</td>\n",
       "            <td>234 Main Street</td>\n",
       "            <td>2023-10-09</td>\n",
       "            <td>11:00 AM</td>\n",
       "            <td>105</td>\n",
       "        </tr>\n",
       "    </tbody>\n",
       "</table>"
      ],
      "text/plain": [
       "[(1, 'ABC Logistics', '123 Main Street', '456 Elm Street', '2023-10-05', '10:00 AM', 120),\n",
       " (2, 'XYZ Enterprises', '789 Maple Avenue', '101 Oak Street', '2023-10-06', '02:00 PM', 150),\n",
       " (3, 'DEF Shipping', '567 Oak Street', '987 Pine Avenue', '2023-10-07', '09:00 AM', 180),\n",
       " (4, 'LMN Transportation', '345 Maple Avenue', '678 Elm Street', '2023-10-08', '03:00 PM', 135),\n",
       " (5, 'GHI Delivery', '987 Pine Avenue', '234 Main Street', '2023-10-09', '11:00 AM', 105)]"
      ]
     },
     "execution_count": 6,
     "metadata": {},
     "output_type": "execute_result"
    }
   ],
   "source": [
    "%%sql\n",
    "SELECT * FROM transport LIMIT 5;"
   ]
  },
  {
   "cell_type": "markdown",
   "id": "10354f14",
   "metadata": {
    "id": "10354f14"
   },
   "source": [
    "## Question 2: **Answer**"
   ]
  },
  {
   "cell_type": "code",
   "execution_count": 7,
   "id": "Hz2BuAGJ606S",
   "metadata": {
    "colab": {
     "base_uri": "https://localhost:8080/",
     "height": 94
    },
    "executionInfo": {
     "elapsed": 373,
     "status": "ok",
     "timestamp": 1752925698200,
     "user": {
      "displayName": "Benjamin Bennett Alexander",
      "userId": "14614847693800833280"
     },
     "user_tz": -180
    },
    "id": "Hz2BuAGJ606S",
    "outputId": "4740d8f9-229a-4902-bf47-2a6729dc8b10"
   },
   "outputs": [
    {
     "name": "stdout",
     "output_type": "stream",
     "text": [
      " * sqlite:///transport_business.db\n",
      "Done.\n"
     ]
    },
    {
     "data": {
      "text/html": [
       "<table>\n",
       "    <thead>\n",
       "        <tr>\n",
       "            <th>customer_name</th>\n",
       "            <th>total_shipments</th>\n",
       "        </tr>\n",
       "    </thead>\n",
       "    <tbody>\n",
       "        <tr>\n",
       "            <td>VWX Courier</td>\n",
       "            <td>3</td>\n",
       "        </tr>\n",
       "    </tbody>\n",
       "</table>"
      ],
      "text/plain": [
       "[('VWX Courier', 3)]"
      ]
     },
     "execution_count": 7,
     "metadata": {},
     "output_type": "execute_result"
    }
   ],
   "source": [
    "%%sql\n",
    "-- Calculates the total shipments for each customer.\n",
    "WITH shipment_counts AS (\n",
    "    SELECT\n",
    "        customer_name,\n",
    "        COUNT(*) AS total_shipments\n",
    "    FROM transport\n",
    "    GROUP BY customer_name\n",
    "),\n",
    "-- Finds the maximum number of shipments across all customers\n",
    "max_shipments AS (\n",
    "    SELECT\n",
    "        MAX(total_shipments) AS max_count\n",
    "    FROM shipment_counts\n",
    ")\n",
    "-- Returns the name/s of customers with max shipments\n",
    "SELECT\n",
    "    customer_name,\n",
    "    total_shipments\n",
    "FROM shipment_counts\n",
    "WHERE total_shipments = (SELECT max_count FROM max_shipments);"
   ]
  },
  {
   "cell_type": "markdown",
   "id": "5e28a9f2",
   "metadata": {
    "id": "5e28a9f2"
   },
   "source": [
    "## Question 3: **Answer**"
   ]
  },
  {
   "cell_type": "code",
   "execution_count": 8,
   "id": "4daed611",
   "metadata": {
    "colab": {
     "base_uri": "https://localhost:8080/",
     "height": 177
    },
    "executionInfo": {
     "elapsed": 13,
     "status": "ok",
     "timestamp": 1752925698218,
     "user": {
      "displayName": "Benjamin Bennett Alexander",
      "userId": "14614847693800833280"
     },
     "user_tz": -180
    },
    "id": "4daed611",
    "outputId": "8cd7fe7f-307a-4050-a236-e897201a887b"
   },
   "outputs": [
    {
     "name": "stdout",
     "output_type": "stream",
     "text": [
      " * sqlite:///transport_business.db\n",
      "Done.\n"
     ]
    },
    {
     "data": {
      "text/html": [
       "<table>\n",
       "    <thead>\n",
       "        <tr>\n",
       "            <th>pickup_address</th>\n",
       "            <th>dropoff_address</th>\n",
       "            <th>shipment_count</th>\n",
       "        </tr>\n",
       "    </thead>\n",
       "    <tbody>\n",
       "        <tr>\n",
       "            <td>123 Main Street</td>\n",
       "            <td>456 Elm Street</td>\n",
       "            <td>2</td>\n",
       "        </tr>\n",
       "        <tr>\n",
       "            <td>345 Maple Avenue</td>\n",
       "            <td>678 Elm Street</td>\n",
       "            <td>2</td>\n",
       "        </tr>\n",
       "        <tr>\n",
       "            <td>567 Oak Street</td>\n",
       "            <td>987 Pine Avenue</td>\n",
       "            <td>2</td>\n",
       "        </tr>\n",
       "        <tr>\n",
       "            <td>678 Elm Street</td>\n",
       "            <td>123 Main Street</td>\n",
       "            <td>2</td>\n",
       "        </tr>\n",
       "        <tr>\n",
       "            <td>987 Pine Avenue</td>\n",
       "            <td>234 Main Street</td>\n",
       "            <td>2</td>\n",
       "        </tr>\n",
       "    </tbody>\n",
       "</table>"
      ],
      "text/plain": [
       "[('123 Main Street', '456 Elm Street', 2),\n",
       " ('345 Maple Avenue', '678 Elm Street', 2),\n",
       " ('567 Oak Street', '987 Pine Avenue', 2),\n",
       " ('678 Elm Street', '123 Main Street', 2),\n",
       " ('987 Pine Avenue', '234 Main Street', 2)]"
      ]
     },
     "execution_count": 8,
     "metadata": {},
     "output_type": "execute_result"
    }
   ],
   "source": [
    "%%sql\n",
    "SELECT\n",
    "    pickup_address,\n",
    "    dropoff_address,\n",
    "    COUNT(*) AS shipment_count\n",
    "FROM transport\n",
    "GROUP BY pickup_address, dropoff_address\n",
    "HAVING shipment_count >= 2\n",
    "ORDER BY shipment_count DESC;"
   ]
  },
  {
   "cell_type": "markdown",
   "id": "e5caff84",
   "metadata": {
    "id": "e5caff84"
   },
   "source": [
    "## Question 4: **Answer**\n",
    "\n"
   ]
  },
  {
   "cell_type": "code",
   "execution_count": 9,
   "id": "iV4SjwQXECGn",
   "metadata": {
    "colab": {
     "base_uri": "https://localhost:8080/",
     "height": 94
    },
    "executionInfo": {
     "elapsed": 16,
     "status": "ok",
     "timestamp": 1752925698239,
     "user": {
      "displayName": "Benjamin Bennett Alexander",
      "userId": "14614847693800833280"
     },
     "user_tz": -180
    },
    "id": "iV4SjwQXECGn",
    "outputId": "a8f6d6da-a21b-4d88-9bbf-ce51144bc4a6"
   },
   "outputs": [
    {
     "name": "stdout",
     "output_type": "stream",
     "text": [
      " * sqlite:///transport_business.db\n",
      "Done.\n"
     ]
    },
    {
     "data": {
      "text/html": [
       "<table>\n",
       "    <thead>\n",
       "        <tr>\n",
       "            <th>pickup_address</th>\n",
       "            <th>dropoff_address</th>\n",
       "            <th>average_shipment_cost</th>\n",
       "        </tr>\n",
       "    </thead>\n",
       "    <tbody>\n",
       "        <tr>\n",
       "            <td>987 Pine Avenue</td>\n",
       "            <td>987 Pine Avenue</td>\n",
       "            <td>215.0</td>\n",
       "        </tr>\n",
       "    </tbody>\n",
       "</table>"
      ],
      "text/plain": [
       "[('987 Pine Avenue', '987 Pine Avenue', 215.0)]"
      ]
     },
     "execution_count": 9,
     "metadata": {},
     "output_type": "execute_result"
    }
   ],
   "source": [
    "%%sql\n",
    "WITH route_avg_cost AS (\n",
    "    SELECT\n",
    "        pickup_address,\n",
    "        dropoff_address,\n",
    "        AVG(shipment_cost) AS average_shipment_cost\n",
    "    FROM transport\n",
    "    GROUP BY pickup_address, dropoff_address\n",
    "),\n",
    "max_cost AS (\n",
    "    SELECT MAX(average_shipment_cost) AS highest_cost\n",
    "    FROM route_avg_cost\n",
    ")\n",
    "SELECT\n",
    "    r.pickup_address,\n",
    "    r.dropoff_address,\n",
    "    r.average_shipment_cost\n",
    "FROM route_avg_cost r\n",
    "JOIN max_cost m\n",
    "ON r.average_shipment_cost = m.highest_cost;"
   ]
  },
  {
   "cell_type": "markdown",
   "id": "0cdca3f8",
   "metadata": {
    "id": "0cdca3f8"
   },
   "source": [
    "## Question 5: **Answer**"
   ]
  },
  {
   "cell_type": "code",
   "execution_count": 10,
   "id": "oZD5L2LSLapo",
   "metadata": {
    "colab": {
     "base_uri": "https://localhost:8080/",
     "height": 94
    },
    "executionInfo": {
     "elapsed": 65,
     "status": "ok",
     "timestamp": 1752925698307,
     "user": {
      "displayName": "Benjamin Bennett Alexander",
      "userId": "14614847693800833280"
     },
     "user_tz": -180
    },
    "id": "oZD5L2LSLapo",
    "outputId": "979e2549-89d1-4480-d9f9-ead6e60fd89a"
   },
   "outputs": [
    {
     "name": "stdout",
     "output_type": "stream",
     "text": [
      " * sqlite:///transport_business.db\n",
      "Done.\n"
     ]
    },
    {
     "data": {
      "text/html": [
       "<table>\n",
       "    <thead>\n",
       "        <tr>\n",
       "            <th>october_cost</th>\n",
       "            <th>november_cost</th>\n",
       "            <th>percentage_change</th>\n",
       "        </tr>\n",
       "    </thead>\n",
       "    <tbody>\n",
       "        <tr>\n",
       "            <td>4285.0</td>\n",
       "            <td>780.0</td>\n",
       "            <td>-81.8</td>\n",
       "        </tr>\n",
       "    </tbody>\n",
       "</table>"
      ],
      "text/plain": [
       "[(4285.0, 780.0, -81.8)]"
      ]
     },
     "execution_count": 10,
     "metadata": {},
     "output_type": "execute_result"
    }
   ],
   "source": [
    "%%sql\n",
    "SELECT\n",
    "    october_cost,\n",
    "    november_cost,\n",
    "    ROUND((november_cost - october_cost) / october_cost * 100, 2)\n",
    "    AS percentage_change\n",
    "FROM (\n",
    "    SELECT\n",
    "        (SELECT CAST(SUM(shipment_cost) AS REAL)\n",
    "         FROM transport\n",
    "         WHERE STRFTIME('%m', shipment_date) = '10')\n",
    "         AS october_cost,\n",
    "\n",
    "        (SELECT CAST(SUM(shipment_cost) AS REAL)\n",
    "         FROM transport\n",
    "         WHERE STRFTIME('%m', shipment_date) = '11')\n",
    "         AS november_cost\n",
    ") AS cost_analysis;"
   ]
  },
  {
   "cell_type": "markdown",
   "id": "AxH5Q7FIaAzy",
   "metadata": {
    "id": "AxH5Q7FIaAzy"
   },
   "source": [
    "## Altenative method"
   ]
  },
  {
   "cell_type": "code",
   "execution_count": 11,
   "id": "e9f63135",
   "metadata": {
    "colab": {
     "base_uri": "https://localhost:8080/",
     "height": 94
    },
    "executionInfo": {
     "elapsed": 52,
     "status": "ok",
     "timestamp": 1752925698309,
     "user": {
      "displayName": "Benjamin Bennett Alexander",
      "userId": "14614847693800833280"
     },
     "user_tz": -180
    },
    "id": "e9f63135",
    "outputId": "6d5443e7-ab2b-44d2-c109-966ac4063f4b"
   },
   "outputs": [
    {
     "name": "stdout",
     "output_type": "stream",
     "text": [
      " * sqlite:///transport_business.db\n",
      "Done.\n"
     ]
    },
    {
     "data": {
      "text/html": [
       "<table>\n",
       "    <thead>\n",
       "        <tr>\n",
       "            <th>october_cost</th>\n",
       "            <th>november_cost</th>\n",
       "            <th>percentage_change</th>\n",
       "        </tr>\n",
       "    </thead>\n",
       "    <tbody>\n",
       "        <tr>\n",
       "            <td>4285.0</td>\n",
       "            <td>780.0</td>\n",
       "            <td>-81.8</td>\n",
       "        </tr>\n",
       "    </tbody>\n",
       "</table>"
      ],
      "text/plain": [
       "[(4285.0, 780.0, -81.8)]"
      ]
     },
     "execution_count": 11,
     "metadata": {},
     "output_type": "execute_result"
    }
   ],
   "source": [
    "%%sql\n",
    "SELECT\n",
    "    october_cost,\n",
    "    november_cost,\n",
    "    ROUND((november_cost - october_cost)/ october_cost * 100, 2)\n",
    "    AS percentage_change\n",
    "FROM\n",
    "    (\n",
    "    SELECT\n",
    "    CAST(SUM(CASE WHEN STRFTIME('%m', shipment_date) = '10'\n",
    "        THEN shipment_cost ELSE 0 END) AS REAL)\n",
    "        AS october_cost\n",
    "    FROM transport),\n",
    "\n",
    "    (SELECT\n",
    "        CAST(SUM(CASE WHEN STRFTIME('%m', shipment_date) = '11'\n",
    "            THEN shipment_cost ELSE 0 END)  AS REAL)\n",
    "            AS november_cost\n",
    "    FROM transport\n",
    "    ) AS cost_analysis;"
   ]
  },
  {
   "cell_type": "markdown",
   "id": "f733e874",
   "metadata": {
    "id": "f733e874"
   },
   "source": [
    "## Question 6: **Answer**"
   ]
  },
  {
   "cell_type": "code",
   "execution_count": 12,
   "id": "aR5kOcLwYa4O",
   "metadata": {
    "colab": {
     "base_uri": "https://localhost:8080/"
    },
    "executionInfo": {
     "elapsed": 17,
     "status": "ok",
     "timestamp": 1752925698311,
     "user": {
      "displayName": "Benjamin Bennett Alexander",
      "userId": "14614847693800833280"
     },
     "user_tz": -180
    },
    "id": "aR5kOcLwYa4O",
    "outputId": "bbad816c-1ca6-457c-97a0-8647ced9926f"
   },
   "outputs": [
    {
     "name": "stdout",
     "output_type": "stream",
     "text": [
      " * sqlite:///transport_business.db\n",
      "32 rows affected.\n"
     ]
    },
    {
     "data": {
      "text/plain": [
       "[]"
      ]
     },
     "execution_count": 12,
     "metadata": {},
     "output_type": "execute_result"
    }
   ],
   "source": [
    "%%sql\n",
    "UPDATE transport\n",
    "SET shipment_time =\n",
    "            -- Handle PM times where the hour is 12 (e.g., 12:30 PM remains 12:30)\n",
    "            CASE WHEN shipment_time  LIKE '%PM' AND SUBSTR(shipment_time, 1, 2) = '12'\n",
    "                    THEN TIME(REPLACE(shipment_time, 'PM', ''))\n",
    "\n",
    "                    -- Handle other PM times by adding 12 to the hour\n",
    "                    WHEN shipment_time LIKE '%PM'\n",
    "                    THEN TIME((CAST(SUBSTR(shipment_time,1, 2) AS INTEGER) + 12) ||\n",
    "                    SUBSTR(shipment_time, INSTR(shipment_time, ':'), 3))\n",
    "\n",
    "                    /*\n",
    "                    Handle AM times by removing the AM suffix\n",
    "                    (e.g., 10:30 AM becomes 10:30)\n",
    "                    */\n",
    "                ELSE TIME(REPLACE(shipment_time, 'AM', ''))\n",
    "            END;"
   ]
  },
  {
   "cell_type": "code",
   "execution_count": 13,
   "id": "66hgixZpZJ9j",
   "metadata": {
    "colab": {
     "base_uri": "https://localhost:8080/",
     "height": 94
    },
    "executionInfo": {
     "elapsed": 57,
     "status": "ok",
     "timestamp": 1752925698362,
     "user": {
      "displayName": "Benjamin Bennett Alexander",
      "userId": "14614847693800833280"
     },
     "user_tz": -180
    },
    "id": "66hgixZpZJ9j",
    "outputId": "ca960045-c527-45e8-dc89-b9e259ebb66e"
   },
   "outputs": [
    {
     "name": "stdout",
     "output_type": "stream",
     "text": [
      " * sqlite:///transport_business.db\n",
      "Done.\n"
     ]
    },
    {
     "data": {
      "text/html": [
       "<table>\n",
       "    <thead>\n",
       "        <tr>\n",
       "            <th>morning_cost</th>\n",
       "            <th>afternoon_cost</th>\n",
       "            <th>cost_difference</th>\n",
       "        </tr>\n",
       "    </thead>\n",
       "    <tbody>\n",
       "        <tr>\n",
       "            <td>2525</td>\n",
       "            <td>2540</td>\n",
       "            <td>15</td>\n",
       "        </tr>\n",
       "    </tbody>\n",
       "</table>"
      ],
      "text/plain": [
       "[(2525, 2540, 15)]"
      ]
     },
     "execution_count": 13,
     "metadata": {},
     "output_type": "execute_result"
    }
   ],
   "source": [
    "%%sql\n",
    "SELECT\n",
    "    -- Calculate total shipment cost for the morning (before 12 PM)\n",
    "    SUM(CASE WHEN STRFTIME('%H', shipment_time) < '12'\n",
    "             THEN shipment_cost ELSE 0 END)\n",
    "             AS morning_cost,\n",
    "\n",
    "    -- Calculate total shipment cost for the afternoon (12 PM onward)\n",
    "    SUM(CASE WHEN STRFTIME('%H', shipment_time) >= '12'\n",
    "             THEN shipment_cost ELSE 0 END)\n",
    "             AS afternoon_cost,\n",
    "\n",
    "    -- Compute cost difference between afternoon and morning shipments\n",
    "    SUM(CASE WHEN STRFTIME('%H', shipment_time) >= '12' THEN shipment_cost ELSE 0 END) -\n",
    "    SUM(CASE WHEN STRFTIME('%H', shipment_time) < '12' THEN shipment_cost ELSE 0 END)\n",
    "    AS cost_difference\n",
    "FROM transport;"
   ]
  }
 ],
 "metadata": {
  "colab": {
   "provenance": []
  },
  "kernelspec": {
   "display_name": "Python 3 (ipykernel)",
   "language": "python",
   "name": "python3"
  },
  "language_info": {
   "codemirror_mode": {
    "name": "ipython",
    "version": 3
   },
   "file_extension": ".py",
   "mimetype": "text/x-python",
   "name": "python",
   "nbconvert_exporter": "python",
   "pygments_lexer": "ipython3",
   "version": "3.10.5"
  }
 },
 "nbformat": 4,
 "nbformat_minor": 5
}

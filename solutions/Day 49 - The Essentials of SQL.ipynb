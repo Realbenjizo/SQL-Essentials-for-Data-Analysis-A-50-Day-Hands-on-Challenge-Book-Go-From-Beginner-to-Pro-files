{
 "cells": [
  {
   "cell_type": "markdown",
   "id": "9qN_8aAnMg17",
   "metadata": {
    "id": "9qN_8aAnMg17"
   },
   "source": [
    "## Question 1: **Answer**"
   ]
  },
  {
   "cell_type": "code",
   "execution_count": 1,
   "id": "ff8d05a0",
   "metadata": {
    "executionInfo": {
     "elapsed": 340,
     "status": "ok",
     "timestamp": 1752950145689,
     "user": {
      "displayName": "Benjamin Bennett Alexander",
      "userId": "14614847693800833280"
     },
     "user_tz": -180
    },
    "id": "ff8d05a0"
   },
   "outputs": [],
   "source": [
    "import pandas as pd\n",
    "import sqlite3\n",
    "import matplotlib.pyplot as plt"
   ]
  },
  {
   "cell_type": "code",
   "execution_count": null,
   "id": "c2f80401",
   "metadata": {
    "executionInfo": {
     "elapsed": 1433,
     "status": "ok",
     "timestamp": 1752950147127,
     "user": {
      "displayName": "Benjamin Bennett Alexander",
      "userId": "14614847693800833280"
     },
     "user_tz": -180
    },
    "id": "c2f80401",
    "tags": []
   },
   "outputs": [],
   "source": [
    "def add_data_to_database(sales_data, products_data, customers_data):\n",
    "    try:\n",
    "        df = pd.read_csv(sales_data)\n",
    "        df1 = pd.read_csv(products_data, encoding='unicode_escape')\n",
    "        df2 = pd.read_csv(customers_data, encoding='unicode_escape')\n",
    "        # Connecting to database\n",
    "        engine = sqlite3.connect(\"superstore_data.db\")\n",
    "        df.to_sql(\"sales\", con=engine, index = False)\n",
    "        df1.to_sql(\"products\", con=engine, index = False)\n",
    "        df2.to_sql(\"customers\", con=engine, index = False)\n",
    "        engine.close()\n",
    "    except Exception as e:\n",
    "            print(f'Error: {e}')\n",
    "\n",
    "# Loading CSV files\n",
    "sales = \"/content/Superstore_Sales.csv\"\n",
    "products =  \"/content/Superstore_Product.csv\"\n",
    "customers = \"/content/Superstore_Customer.csv\"\n",
    "\n",
    "add_data_to_database(sales, products, customers)"
   ]
  },
  {
   "cell_type": "code",
   "execution_count": 3,
   "id": "O7qzFyuCQPTi",
   "metadata": {
    "executionInfo": {
     "elapsed": 1257,
     "status": "ok",
     "timestamp": 1752950148393,
     "user": {
      "displayName": "Benjamin Bennett Alexander",
      "userId": "14614847693800833280"
     },
     "user_tz": -180
    },
    "id": "O7qzFyuCQPTi"
   },
   "outputs": [],
   "source": [
    "# Loading SQL extension\n",
    "%load_ext sql"
   ]
  },
  {
   "cell_type": "code",
   "execution_count": 4,
   "id": "5UAsU3mnQWCC",
   "metadata": {
    "executionInfo": {
     "elapsed": 6,
     "status": "ok",
     "timestamp": 1752950148409,
     "user": {
      "displayName": "Benjamin Bennett Alexander",
      "userId": "14614847693800833280"
     },
     "user_tz": -180
    },
    "id": "5UAsU3mnQWCC"
   },
   "outputs": [],
   "source": [
    "# Default to duplicated style\n",
    "%config SqlMagic.style = '_DEPRECATED_DEFAULT'"
   ]
  },
  {
   "cell_type": "code",
   "execution_count": 5,
   "id": "b39fc3b2",
   "metadata": {
    "executionInfo": {
     "elapsed": 99,
     "status": "ok",
     "timestamp": 1752950148514,
     "user": {
      "displayName": "Benjamin Bennett Alexander",
      "userId": "14614847693800833280"
     },
     "user_tz": -180
    },
    "id": "b39fc3b2"
   },
   "outputs": [],
   "source": [
    "# Connecting to the database\n",
    "%sql sqlite:///superstore_data.db"
   ]
  },
  {
   "cell_type": "code",
   "execution_count": 6,
   "id": "9cf7009f-2914-4a89-8bea-d46500d19011",
   "metadata": {
    "colab": {
     "base_uri": "https://localhost:8080/",
     "height": 177
    },
    "executionInfo": {
     "elapsed": 70,
     "status": "ok",
     "timestamp": 1752950148533,
     "user": {
      "displayName": "Benjamin Bennett Alexander",
      "userId": "14614847693800833280"
     },
     "user_tz": -180
    },
    "id": "9cf7009f-2914-4a89-8bea-d46500d19011",
    "outputId": "f62662ce-80f7-4fd7-a25f-48dc382561ff"
   },
   "outputs": [
    {
     "name": "stdout",
     "output_type": "stream",
     "text": [
      " * sqlite:///superstore_data.db\n",
      "Done.\n"
     ]
    },
    {
     "data": {
      "text/html": [
       "<table>\n",
       "    <thead>\n",
       "        <tr>\n",
       "            <th>Row ID</th>\n",
       "            <th>Order ID</th>\n",
       "            <th>Order Date</th>\n",
       "            <th>Ship Date</th>\n",
       "            <th>Ship Mode</th>\n",
       "            <th>Customer ID</th>\n",
       "            <th>Country</th>\n",
       "            <th>City</th>\n",
       "            <th>State</th>\n",
       "            <th>Postal Code</th>\n",
       "            <th>Region</th>\n",
       "            <th>Product ID</th>\n",
       "            <th>Sales</th>\n",
       "            <th>Quantity</th>\n",
       "            <th>Discount</th>\n",
       "            <th>Profit</th>\n",
       "        </tr>\n",
       "    </thead>\n",
       "    <tbody>\n",
       "        <tr>\n",
       "            <td>1</td>\n",
       "            <td>CA-2016-152156</td>\n",
       "            <td>11 08 2016</td>\n",
       "            <td>11 11 2016</td>\n",
       "            <td>Second Class</td>\n",
       "            <td>CG-12520</td>\n",
       "            <td>United States</td>\n",
       "            <td>Henderson</td>\n",
       "            <td>Kentucky</td>\n",
       "            <td>42420</td>\n",
       "            <td>South</td>\n",
       "            <td>FUR-BO-10001798</td>\n",
       "            <td>261.96</td>\n",
       "            <td>2</td>\n",
       "            <td>0.0</td>\n",
       "            <td>41.9136</td>\n",
       "        </tr>\n",
       "        <tr>\n",
       "            <td>2</td>\n",
       "            <td>CA-2016-152156</td>\n",
       "            <td>11 08 2016</td>\n",
       "            <td>11 11 2016</td>\n",
       "            <td>Second Class</td>\n",
       "            <td>CG-12520</td>\n",
       "            <td>United States</td>\n",
       "            <td>Henderson</td>\n",
       "            <td>Kentucky</td>\n",
       "            <td>42420</td>\n",
       "            <td>South</td>\n",
       "            <td>FUR-CH-10000454</td>\n",
       "            <td>731.94</td>\n",
       "            <td>3</td>\n",
       "            <td>0.0</td>\n",
       "            <td>219.582</td>\n",
       "        </tr>\n",
       "        <tr>\n",
       "            <td>3</td>\n",
       "            <td>CA-2016-138688</td>\n",
       "            <td>6 12 2016</td>\n",
       "            <td>6/16/2016</td>\n",
       "            <td>Second Class</td>\n",
       "            <td>DV-13045</td>\n",
       "            <td>United States</td>\n",
       "            <td>Los Angeles</td>\n",
       "            <td>California</td>\n",
       "            <td>90036</td>\n",
       "            <td>West</td>\n",
       "            <td>OFF-LA-10000240</td>\n",
       "            <td>14.62</td>\n",
       "            <td>2</td>\n",
       "            <td>0.0</td>\n",
       "            <td>6.8714</td>\n",
       "        </tr>\n",
       "        <tr>\n",
       "            <td>4</td>\n",
       "            <td>US-2015-108966</td>\n",
       "            <td>10 11 2015</td>\n",
       "            <td>10/18/2015</td>\n",
       "            <td>Standard Class</td>\n",
       "            <td>SO-20335</td>\n",
       "            <td>United States</td>\n",
       "            <td>Fort Lauderdale</td>\n",
       "            <td>Florida</td>\n",
       "            <td>33311</td>\n",
       "            <td>South</td>\n",
       "            <td>FUR-TA-10000577</td>\n",
       "            <td>957.5775</td>\n",
       "            <td>5</td>\n",
       "            <td>0.45</td>\n",
       "            <td>-383.031</td>\n",
       "        </tr>\n",
       "        <tr>\n",
       "            <td>5</td>\n",
       "            <td>US-2015-108966</td>\n",
       "            <td>10 11 2015</td>\n",
       "            <td>10/18/2015</td>\n",
       "            <td>Standard Class</td>\n",
       "            <td>SO-20335</td>\n",
       "            <td>United States</td>\n",
       "            <td>Fort Lauderdale</td>\n",
       "            <td>Florida</td>\n",
       "            <td>33311</td>\n",
       "            <td>South</td>\n",
       "            <td>OFF-ST-10000760</td>\n",
       "            <td>22.368</td>\n",
       "            <td>2</td>\n",
       "            <td>0.2</td>\n",
       "            <td>2.5164</td>\n",
       "        </tr>\n",
       "    </tbody>\n",
       "</table>"
      ],
      "text/plain": [
       "[(1, 'CA-2016-152156', '11 08 2016', '11 11 2016', 'Second Class', 'CG-12520', 'United States', 'Henderson', 'Kentucky', 42420, 'South', 'FUR-BO-10001798', 261.96, 2, 0.0, 41.9136),\n",
       " (2, 'CA-2016-152156', '11 08 2016', '11 11 2016', 'Second Class', 'CG-12520', 'United States', 'Henderson', 'Kentucky', 42420, 'South', 'FUR-CH-10000454', 731.94, 3, 0.0, 219.582),\n",
       " (3, 'CA-2016-138688', '6 12 2016', '6/16/2016', 'Second Class', 'DV-13045', 'United States', 'Los Angeles', 'California', 90036, 'West', 'OFF-LA-10000240', 14.62, 2, 0.0, 6.8714),\n",
       " (4, 'US-2015-108966', '10 11 2015', '10/18/2015', 'Standard Class', 'SO-20335', 'United States', 'Fort Lauderdale', 'Florida', 33311, 'South', 'FUR-TA-10000577', 957.5775, 5, 0.45, -383.031),\n",
       " (5, 'US-2015-108966', '10 11 2015', '10/18/2015', 'Standard Class', 'SO-20335', 'United States', 'Fort Lauderdale', 'Florida', 33311, 'South', 'OFF-ST-10000760', 22.368, 2, 0.2, 2.5164)]"
      ]
     },
     "execution_count": 6,
     "metadata": {},
     "output_type": "execute_result"
    }
   ],
   "source": [
    "%%sql\n",
    "SELECT * FROM sales\n",
    "LIMIT 5;"
   ]
  },
  {
   "cell_type": "code",
   "execution_count": 7,
   "id": "5c8af60f",
   "metadata": {
    "colab": {
     "base_uri": "https://localhost:8080/",
     "height": 177
    },
    "executionInfo": {
     "elapsed": 94,
     "status": "ok",
     "timestamp": 1752950148631,
     "user": {
      "displayName": "Benjamin Bennett Alexander",
      "userId": "14614847693800833280"
     },
     "user_tz": -180
    },
    "id": "5c8af60f",
    "outputId": "df698226-ec47-4417-b7cf-38ec6b61e5a0"
   },
   "outputs": [
    {
     "name": "stdout",
     "output_type": "stream",
     "text": [
      " * sqlite:///superstore_data.db\n",
      "Done.\n"
     ]
    },
    {
     "data": {
      "text/html": [
       "<table>\n",
       "    <thead>\n",
       "        <tr>\n",
       "            <th>Product ID</th>\n",
       "            <th>Category</th>\n",
       "            <th>Sub-Category</th>\n",
       "            <th>Product Name</th>\n",
       "        </tr>\n",
       "    </thead>\n",
       "    <tbody>\n",
       "        <tr>\n",
       "            <td>FUR-BO-10000112</td>\n",
       "            <td>Furniture</td>\n",
       "            <td>Bookcases</td>\n",
       "            <td>Bush Birmingham Collection Bookcase, Dark Cherry</td>\n",
       "        </tr>\n",
       "        <tr>\n",
       "            <td>FUR-BO-10000330</td>\n",
       "            <td>Furniture</td>\n",
       "            <td>Bookcases</td>\n",
       "            <td>Sauder Camden County Barrister Bookcase, Planked Cherry Finish</td>\n",
       "        </tr>\n",
       "        <tr>\n",
       "            <td>FUR-BO-10000362</td>\n",
       "            <td>Furniture</td>\n",
       "            <td>Bookcases</td>\n",
       "            <td>Sauder Inglewood Library Bookcases</td>\n",
       "        </tr>\n",
       "        <tr>\n",
       "            <td>FUR-BO-10000468</td>\n",
       "            <td>Furniture</td>\n",
       "            <td>Bookcases</td>\n",
       "            <td>O&#x27;Sullivan 2-Shelf Heavy-Duty Bookcases</td>\n",
       "        </tr>\n",
       "        <tr>\n",
       "            <td>FUR-BO-10000711</td>\n",
       "            <td>Furniture</td>\n",
       "            <td>Bookcases</td>\n",
       "            <td>Hon Metal Bookcases, Gray</td>\n",
       "        </tr>\n",
       "    </tbody>\n",
       "</table>"
      ],
      "text/plain": [
       "[('FUR-BO-10000112', 'Furniture', 'Bookcases', 'Bush Birmingham Collection Bookcase, Dark Cherry'),\n",
       " ('FUR-BO-10000330', 'Furniture', 'Bookcases', 'Sauder Camden County Barrister Bookcase, Planked Cherry Finish'),\n",
       " ('FUR-BO-10000362', 'Furniture', 'Bookcases', 'Sauder Inglewood Library Bookcases'),\n",
       " ('FUR-BO-10000468', 'Furniture', 'Bookcases', \"O'Sullivan 2-Shelf Heavy-Duty Bookcases\"),\n",
       " ('FUR-BO-10000711', 'Furniture', 'Bookcases', 'Hon Metal Bookcases, Gray')]"
      ]
     },
     "execution_count": 7,
     "metadata": {},
     "output_type": "execute_result"
    }
   ],
   "source": [
    "%%sql\n",
    "SELECT * FROM products\n",
    "LIMIT 5;"
   ]
  },
  {
   "cell_type": "code",
   "execution_count": 8,
   "id": "10c928cb",
   "metadata": {
    "colab": {
     "base_uri": "https://localhost:8080/",
     "height": 177
    },
    "executionInfo": {
     "elapsed": 47,
     "status": "ok",
     "timestamp": 1752950148683,
     "user": {
      "displayName": "Benjamin Bennett Alexander",
      "userId": "14614847693800833280"
     },
     "user_tz": -180
    },
    "id": "10c928cb",
    "outputId": "852828f5-95fe-475d-b008-9619aee2f8dd"
   },
   "outputs": [
    {
     "name": "stdout",
     "output_type": "stream",
     "text": [
      " * sqlite:///superstore_data.db\n",
      "Done.\n"
     ]
    },
    {
     "data": {
      "text/html": [
       "<table>\n",
       "    <thead>\n",
       "        <tr>\n",
       "            <th>Customer ID</th>\n",
       "            <th>Customer Name</th>\n",
       "            <th>Segment</th>\n",
       "        </tr>\n",
       "    </thead>\n",
       "    <tbody>\n",
       "        <tr>\n",
       "            <td>AA-10315</td>\n",
       "            <td>Alex Avila</td>\n",
       "            <td>Consumer</td>\n",
       "        </tr>\n",
       "        <tr>\n",
       "            <td>AA-10375</td>\n",
       "            <td>Allen Armold</td>\n",
       "            <td>Consumer</td>\n",
       "        </tr>\n",
       "        <tr>\n",
       "            <td>AA-10480</td>\n",
       "            <td>Andrew Allen</td>\n",
       "            <td>Consumer</td>\n",
       "        </tr>\n",
       "        <tr>\n",
       "            <td>AA-10645</td>\n",
       "            <td>Anna Andreadi</td>\n",
       "            <td>Consumer</td>\n",
       "        </tr>\n",
       "        <tr>\n",
       "            <td>AB-10015</td>\n",
       "            <td>Aaron Bergman</td>\n",
       "            <td>Consumer</td>\n",
       "        </tr>\n",
       "    </tbody>\n",
       "</table>"
      ],
      "text/plain": [
       "[('AA-10315', 'Alex Avila', 'Consumer'),\n",
       " ('AA-10375', 'Allen Armold', 'Consumer'),\n",
       " ('AA-10480', 'Andrew Allen', 'Consumer'),\n",
       " ('AA-10645', 'Anna Andreadi', 'Consumer'),\n",
       " ('AB-10015', 'Aaron Bergman', 'Consumer')]"
      ]
     },
     "execution_count": 8,
     "metadata": {},
     "output_type": "execute_result"
    }
   ],
   "source": [
    "%%sql\n",
    "SELECT * FROM customers\n",
    "LIMIT 5;"
   ]
  },
  {
   "cell_type": "markdown",
   "id": "e539e9a2",
   "metadata": {
    "id": "e539e9a2"
   },
   "source": [
    "##### How many products are in each category of the store?"
   ]
  },
  {
   "cell_type": "code",
   "execution_count": 9,
   "id": "15728bbb",
   "metadata": {
    "colab": {
     "base_uri": "https://localhost:8080/",
     "height": 136
    },
    "executionInfo": {
     "elapsed": 37,
     "status": "ok",
     "timestamp": 1752950148724,
     "user": {
      "displayName": "Benjamin Bennett Alexander",
      "userId": "14614847693800833280"
     },
     "user_tz": -180
    },
    "id": "15728bbb",
    "outputId": "4a354a66-3863-48db-ebf5-6d6ed86037fa"
   },
   "outputs": [
    {
     "name": "stdout",
     "output_type": "stream",
     "text": [
      " * sqlite:///superstore_data.db\n",
      "Done.\n"
     ]
    },
    {
     "data": {
      "text/html": [
       "<table>\n",
       "    <thead>\n",
       "        <tr>\n",
       "            <th>Category</th>\n",
       "            <th>category_count</th>\n",
       "        </tr>\n",
       "    </thead>\n",
       "    <tbody>\n",
       "        <tr>\n",
       "            <td>Furniture</td>\n",
       "            <td>375</td>\n",
       "        </tr>\n",
       "        <tr>\n",
       "            <td>Office Supplies</td>\n",
       "            <td>1083</td>\n",
       "        </tr>\n",
       "        <tr>\n",
       "            <td>Technology</td>\n",
       "            <td>404</td>\n",
       "        </tr>\n",
       "    </tbody>\n",
       "</table>"
      ],
      "text/plain": [
       "[('Furniture', 375), ('Office Supplies', 1083), ('Technology', 404)]"
      ]
     },
     "execution_count": 9,
     "metadata": {},
     "output_type": "execute_result"
    }
   ],
   "source": [
    "%%sql\n",
    "SELECT\n",
    "    Category, COUNT(*) AS category_count\n",
    "FROM products\n",
    "GROUP BY Category;"
   ]
  },
  {
   "cell_type": "markdown",
   "id": "dc0ac8ec",
   "metadata": {
    "id": "dc0ac8ec"
   },
   "source": [
    "## Question 2: **Answer**"
   ]
  },
  {
   "cell_type": "code",
   "execution_count": 10,
   "id": "079cc01f",
   "metadata": {
    "colab": {
     "base_uri": "https://localhost:8080/"
    },
    "executionInfo": {
     "elapsed": 44,
     "status": "ok",
     "timestamp": 1752950148764,
     "user": {
      "displayName": "Benjamin Bennett Alexander",
      "userId": "14614847693800833280"
     },
     "user_tz": -180
    },
    "id": "079cc01f",
    "outputId": "4e197896-bb67-4500-d42b-5ba73334376f"
   },
   "outputs": [
    {
     "name": "stdout",
     "output_type": "stream",
     "text": [
      " * sqlite:///superstore_data.db\n",
      "9994 rows affected.\n"
     ]
    },
    {
     "data": {
      "text/plain": [
       "[]"
      ]
     },
     "execution_count": 10,
     "metadata": {},
     "output_type": "execute_result"
    }
   ],
   "source": [
    "%%sql\n",
    "UPDATE sales\n",
    "SET [Order Date] = DATE(REPLACE(CASE\n",
    "                    -- Convert 'MM DD YYYY' to 'YYYY-MM-DD'\n",
    "                        WHEN [Order Date] LIKE '__ __ ____'\n",
    "                            THEN SUBSTR([Order Date], 7, 4) || '-' || -- Year\n",
    "                            SUBSTR([Order Date], 1, 2) || '-' || -- Month\n",
    "                            SUBSTR([Order Date], 4, 2) -- Day\n",
    "\n",
    "                    -- Convert 'M DD YYYY' to 'YYYY-MM-DD'\n",
    "                        WHEN [Order Date] LIKE '_ __ ____'\n",
    "                            THEN SUBSTR([Order Date], 6, 4) || '-0' || -- Year\n",
    "                            SUBSTR([Order Date], 1, 1) || '-' || -- Month\n",
    "                            SUBSTR([Order Date], 3, 2) -- Day\n",
    "\n",
    "                    -- Convert 'MM/DD/YYYY' to 'YYYY-MM-DD'\n",
    "                        WHEN [Order Date] LIKE '__/__/____'\n",
    "                            THEN SUBSTR([Order Date], 7, 4) || '-' || -- Year\n",
    "                            SUBSTR([Order Date], 1, 2) || '-' || -- Month\n",
    "                            SUBSTR([Order Date], 4, 2)-- Day\n",
    "\n",
    "                    -- Convert 'M/DD/YYYY' to 'YYYY-MM-DD'\n",
    "                        WHEN [Order Date] LIKE '_/__/____'\n",
    "                            THEN SUBSTR([Order Date], 6, 4) || '-0' || -- Year\n",
    "                            SUBSTR([Order Date], 1, 1) || '-' || -- Month\n",
    "                            SUBSTR([Order Date], 3, 2) -- Day\n",
    "                            ELSE ([Order Date])\n",
    "                    END, ' -0', '-0'));  -- Leave unchanged"
   ]
  },
  {
   "cell_type": "code",
   "execution_count": 11,
   "id": "ae145241",
   "metadata": {
    "colab": {
     "base_uri": "https://localhost:8080/"
    },
    "executionInfo": {
     "elapsed": 62,
     "status": "ok",
     "timestamp": 1752950148830,
     "user": {
      "displayName": "Benjamin Bennett Alexander",
      "userId": "14614847693800833280"
     },
     "user_tz": -180
    },
    "id": "ae145241",
    "outputId": "e4799954-d822-4cf2-bf6d-16afdc962303"
   },
   "outputs": [
    {
     "name": "stdout",
     "output_type": "stream",
     "text": [
      " * sqlite:///superstore_data.db\n",
      "9994 rows affected.\n"
     ]
    },
    {
     "data": {
      "text/plain": [
       "[]"
      ]
     },
     "execution_count": 11,
     "metadata": {},
     "output_type": "execute_result"
    }
   ],
   "source": [
    "%%sql\n",
    "UPDATE sales\n",
    "SET [Ship Date] =  DATE(REPLACE(CASE\n",
    "                    -- Convert 'MM DD YYYY' to 'YYYY-MM-DD'\n",
    "                        WHEN [Ship Date] LIKE '__ __ ____'\n",
    "                            THEN SUBSTR([Ship Date], 7, 4) || '-' || -- Year\n",
    "                            SUBSTR([Ship Date], 1, 2) || '-' || -- Month\n",
    "                            SUBSTR([Ship Date], 4, 2) -- Day\n",
    "\n",
    "                    -- Convert 'M DD YYYY' to 'YYYY-MM-DD'\n",
    "                        WHEN [Ship Date] LIKE '_ __ ____'\n",
    "                            THEN SUBSTR([Ship Date], 6, 4) || '-0' || -- Year\n",
    "                            SUBSTR([Ship Date], 1, 1) || '-' || -- Month\n",
    "                            SUBSTR([Ship Date], 3, 2) -- Day\n",
    "\n",
    "                    -- Convert 'MM/DD/YYYY' to 'YYYY-MM-DD'\n",
    "                        WHEN [Ship Date] LIKE '__/__/____'\n",
    "                            THEN SUBSTR([Ship Date], 7, 4) || '-' || -- Year\n",
    "                            SUBSTR([Ship Date], 1, 2) || '-' || -- Month\n",
    "                            SUBSTR([Ship Date], 4, 2) -- Day\n",
    "\n",
    "                    -- Convert 'M/DD/YYYY' to 'YYYY-MM-DD'\n",
    "                        WHEN [Ship Date] LIKE '_/__/____'\n",
    "                            THEN SUBSTR([Ship Date], 6, 4) || '-0' || -- Year\n",
    "                            SUBSTR([Ship Date], 1, 1) || '-' || -- Month\n",
    "                            SUBSTR([Ship Date], 3, 2) -- Day\n",
    "                            ELSE ([Ship Date])\n",
    "                    END, ' -0', '-0'));  -- Leave unchanged"
   ]
  },
  {
   "cell_type": "code",
   "execution_count": 12,
   "id": "a27a495d",
   "metadata": {
    "colab": {
     "base_uri": "https://localhost:8080/",
     "height": 94
    },
    "executionInfo": {
     "elapsed": 44,
     "status": "ok",
     "timestamp": 1752950148881,
     "user": {
      "displayName": "Benjamin Bennett Alexander",
      "userId": "14614847693800833280"
     },
     "user_tz": -180
    },
    "id": "a27a495d",
    "outputId": "35cb8253-9acc-4c3e-e132-b17a89cd8914"
   },
   "outputs": [
    {
     "name": "stdout",
     "output_type": "stream",
     "text": [
      " * sqlite:///superstore_data.db\n",
      "Done.\n"
     ]
    },
    {
     "data": {
      "text/html": [
       "<table>\n",
       "    <thead>\n",
       "        <tr>\n",
       "            <th>none_values_in_orderdate</th>\n",
       "            <th>none_values_in_shipdate</th>\n",
       "        </tr>\n",
       "    </thead>\n",
       "    <tbody>\n",
       "        <tr>\n",
       "            <td>0</td>\n",
       "            <td>0</td>\n",
       "        </tr>\n",
       "    </tbody>\n",
       "</table>"
      ],
      "text/plain": [
       "[(0, 0)]"
      ]
     },
     "execution_count": 12,
     "metadata": {},
     "output_type": "execute_result"
    }
   ],
   "source": [
    "%%sql\n",
    "SELECT\n",
    "-- Checking for None values in Order Date Column\n",
    "    SUM(CASE\n",
    "            WHEN [Order Date] IS NULL THEN 1 ELSE 0\n",
    "        END) AS none_values_in_orderdate,\n",
    "-- Checking for None values in Ship date Column\n",
    "    SUM(CASE\n",
    "            WHEN [Ship Date] IS NULL THEN 1 ELSE 0\n",
    "        END) AS none_values_in_shipdate\n",
    "FROM sales;"
   ]
  },
  {
   "cell_type": "markdown",
   "id": "e6332001",
   "metadata": {
    "id": "e6332001"
   },
   "source": [
    "## Question 3: **Answer**"
   ]
  },
  {
   "cell_type": "code",
   "execution_count": 13,
   "id": "thylOO60T5IF",
   "metadata": {
    "colab": {
     "base_uri": "https://localhost:8080/",
     "height": 136
    },
    "executionInfo": {
     "elapsed": 29,
     "status": "ok",
     "timestamp": 1752950148913,
     "user": {
      "displayName": "Benjamin Bennett Alexander",
      "userId": "14614847693800833280"
     },
     "user_tz": -180
    },
    "id": "thylOO60T5IF",
    "outputId": "3548d4b6-2967-47fb-ae16-f04c519b3d9d"
   },
   "outputs": [
    {
     "name": "stdout",
     "output_type": "stream",
     "text": [
      " * sqlite:///superstore_data.db\n",
      "Done.\n"
     ]
    },
    {
     "data": {
      "text/html": [
       "<table>\n",
       "    <thead>\n",
       "        <tr>\n",
       "            <th>Product Name</th>\n",
       "        </tr>\n",
       "    </thead>\n",
       "    <tbody>\n",
       "        <tr>\n",
       "            <td>Iceberg Mobile Mega Data/Printer Cart </td>\n",
       "        </tr>\n",
       "        <tr>\n",
       "            <td>Anker Ultrathin Bluetooth Wireless Keyboard Aluminum Cover with Stand </td>\n",
       "        </tr>\n",
       "        <tr>\n",
       "            <td>Kensington SlimBlade Notebook Wireless Mouse with Nano Receiver </td>\n",
       "        </tr>\n",
       "    </tbody>\n",
       "</table>"
      ],
      "text/plain": [
       "[('Iceberg Mobile Mega Data/Printer Cart ',),\n",
       " ('Anker Ultrathin Bluetooth Wireless Keyboard Aluminum Cover with Stand ',),\n",
       " ('Kensington SlimBlade Notebook Wireless Mouse with Nano Receiver ',)]"
      ]
     },
     "execution_count": 13,
     "metadata": {},
     "output_type": "execute_result"
    }
   ],
   "source": [
    "%%sql\n",
    "SELECT\n",
    "    [Product Name]\n",
    "FROM products\n",
    "WHERE LENGTH([Product Name]) != LENGTH(TRIM([Product Name]));"
   ]
  },
  {
   "cell_type": "code",
   "execution_count": 14,
   "id": "61ce7264",
   "metadata": {
    "colab": {
     "base_uri": "https://localhost:8080/"
    },
    "executionInfo": {
     "elapsed": 12,
     "status": "ok",
     "timestamp": 1752950148927,
     "user": {
      "displayName": "Benjamin Bennett Alexander",
      "userId": "14614847693800833280"
     },
     "user_tz": -180
    },
    "id": "61ce7264",
    "outputId": "873e7115-bb43-4205-e40b-4f713a3147d8"
   },
   "outputs": [
    {
     "name": "stdout",
     "output_type": "stream",
     "text": [
      " * sqlite:///superstore_data.db\n",
      "3 rows affected.\n"
     ]
    },
    {
     "data": {
      "text/plain": [
       "[]"
      ]
     },
     "execution_count": 14,
     "metadata": {},
     "output_type": "execute_result"
    }
   ],
   "source": [
    "%%sql\n",
    "UPDATE products\n",
    "SET [Product Name] = TRIM([Product Name])\n",
    "WHERE LENGTH([Product Name]) != LENGTH(TRIM([Product Name]));"
   ]
  },
  {
   "cell_type": "code",
   "execution_count": 15,
   "id": "8f02a9d6",
   "metadata": {
    "colab": {
     "base_uri": "https://localhost:8080/",
     "height": 94
    },
    "executionInfo": {
     "elapsed": 121,
     "status": "ok",
     "timestamp": 1752950149056,
     "user": {
      "displayName": "Benjamin Bennett Alexander",
      "userId": "14614847693800833280"
     },
     "user_tz": -180
    },
    "id": "8f02a9d6",
    "outputId": "431dc11f-ce90-44e6-f71e-6c75d64fd337"
   },
   "outputs": [
    {
     "name": "stdout",
     "output_type": "stream",
     "text": [
      " * sqlite:///superstore_data.db\n",
      "Done.\n"
     ]
    },
    {
     "data": {
      "text/html": [
       "<table>\n",
       "    <thead>\n",
       "        <tr>\n",
       "            <th>whitespace_check</th>\n",
       "        </tr>\n",
       "    </thead>\n",
       "    <tbody>\n",
       "        <tr>\n",
       "            <td>No leading or trailing spaces</td>\n",
       "        </tr>\n",
       "    </tbody>\n",
       "</table>"
      ],
      "text/plain": [
       "[('No leading or trailing spaces',)]"
      ]
     },
     "execution_count": 15,
     "metadata": {},
     "output_type": "execute_result"
    }
   ],
   "source": [
    "%%sql\n",
    "SELECT\n",
    "    CASE\n",
    "        WHEN EXISTS (\n",
    "            SELECT 1\n",
    "            FROM products\n",
    "            WHERE [Product Name] LIKE ' %' OR [Product Name] LIKE '% '\n",
    "        ) THEN 'Rows with leading or trailing spaces found'\n",
    "        ELSE 'No leading or trailing spaces'\n",
    "    END AS whitespace_check;"
   ]
  },
  {
   "cell_type": "markdown",
   "id": "80a5fdb0",
   "metadata": {
    "id": "80a5fdb0"
   },
   "source": [
    "## Question 4: **Answer**"
   ]
  },
  {
   "cell_type": "code",
   "execution_count": 16,
   "id": "a7d0daa6",
   "metadata": {
    "colab": {
     "base_uri": "https://localhost:8080/",
     "height": 94
    },
    "executionInfo": {
     "elapsed": 87,
     "status": "ok",
     "timestamp": 1752950149068,
     "user": {
      "displayName": "Benjamin Bennett Alexander",
      "userId": "14614847693800833280"
     },
     "user_tz": -180
    },
    "id": "a7d0daa6",
    "outputId": "fec6af1e-0daa-41cb-cc8a-8e1cd3c0af73",
    "tags": []
   },
   "outputs": [
    {
     "name": "stdout",
     "output_type": "stream",
     "text": [
      " * sqlite:///superstore_data.db\n",
      "Done.\n"
     ]
    },
    {
     "data": {
      "text/html": [
       "<table>\n",
       "    <thead>\n",
       "        <tr>\n",
       "            <th>Customer ID</th>\n",
       "            <th>Customer Name</th>\n",
       "            <th>Product Name</th>\n",
       "            <th>Sales</th>\n",
       "        </tr>\n",
       "    </thead>\n",
       "    <tbody>\n",
       "        <tr>\n",
       "            <td>TB-21520</td>\n",
       "            <td>Tracy Blumstein</td>\n",
       "            <td>Lumber Crayons</td>\n",
       "            <td>15.76</td>\n",
       "        </tr>\n",
       "    </tbody>\n",
       "</table>"
      ],
      "text/plain": [
       "[('TB-21520', 'Tracy Blumstein', 'Lumber Crayons', 15.76)]"
      ]
     },
     "execution_count": 16,
     "metadata": {},
     "output_type": "execute_result"
    }
   ],
   "source": [
    "%%sql\n",
    "SELECT\n",
    "    s.[Customer ID],\n",
    "    c.[Customer Name],\n",
    "    p.[Product Name],\n",
    "    s.Sales\n",
    "FROM sales s\n",
    "-- Join with the customers table\n",
    "INNER JOIN customers c\n",
    "ON s.[Customer ID] = c.[Customer ID]\n",
    "-- Join with the products table\n",
    "INNER JOIN products p\n",
    "ON s.[Product ID] = p.[Product ID]\n",
    "WHERE s.[Customer ID] = 'TB-21520'\n",
    "    AND p.[Product Name] = 'Lumber Crayons';"
   ]
  },
  {
   "cell_type": "markdown",
   "id": "3eee0e9c",
   "metadata": {
    "id": "3eee0e9c"
   },
   "source": [
    "## Question 5: **Answer**"
   ]
  },
  {
   "cell_type": "code",
   "execution_count": 17,
   "id": "vm0ZuIaxg2GK",
   "metadata": {
    "colab": {
     "base_uri": "https://localhost:8080/",
     "height": 94
    },
    "executionInfo": {
     "elapsed": 167,
     "status": "ok",
     "timestamp": 1752950149200,
     "user": {
      "displayName": "Benjamin Bennett Alexander",
      "userId": "14614847693800833280"
     },
     "user_tz": -180
    },
    "id": "vm0ZuIaxg2GK",
    "outputId": "b247d8a4-71ac-4edc-b910-8dabebbc3d88"
   },
   "outputs": [
    {
     "name": "stdout",
     "output_type": "stream",
     "text": [
      " * sqlite:///superstore_data.db\n",
      "Done.\n"
     ]
    },
    {
     "data": {
      "text/html": [
       "<table>\n",
       "    <thead>\n",
       "        <tr>\n",
       "            <th>sales_value_2015</th>\n",
       "            <th>sales_value_2016</th>\n",
       "            <th>percentage_change</th>\n",
       "        </tr>\n",
       "    </thead>\n",
       "    <tbody>\n",
       "        <tr>\n",
       "            <td>170518.24</td>\n",
       "            <td>198901.44</td>\n",
       "            <td>16.65</td>\n",
       "        </tr>\n",
       "    </tbody>\n",
       "</table>"
      ],
      "text/plain": [
       "[(170518.24, 198901.44, 16.65)]"
      ]
     },
     "execution_count": 17,
     "metadata": {},
     "output_type": "execute_result"
    }
   ],
   "source": [
    "%%sql\n",
    "-- Getting 2015 and 2016 sales for Furniture\n",
    "WITH yearly_sales AS (\n",
    "    SELECT\n",
    "        STRFTIME('%Y', [Order Date]) AS sales_year,\n",
    "        SUM(sales.Sales) AS total_sales\n",
    "    FROM sales\n",
    "    JOIN products ON sales.[Product ID] = products.[Product ID]\n",
    "    WHERE products.Category = 'Furniture'\n",
    "        AND STRFTIME('%Y', [Order Date]) IN ('2015', '2016')\n",
    "    GROUP BY sales_year\n",
    ")\n",
    "SELECT\n",
    "    ROUND(MAX(CASE WHEN sales_year = '2015' THEN total_sales END), 2)\n",
    "    AS sales_value_2015,\n",
    "    ROUND(MAX(CASE WHEN sales_year = '2016' THEN total_sales END), 2)\n",
    "    AS sales_value_2016,\n",
    "\n",
    "    -- Calculating the percentage change\n",
    "    ROUND(\n",
    "        ((MAX(CASE WHEN sales_year = '2016' THEN total_sales END) -\n",
    "          MAX(CASE WHEN sales_year = '2015' THEN total_sales END))\n",
    "        / MAX(CASE WHEN sales_year = '2015' THEN total_sales END)) * 100, 2\n",
    "    ) AS percentage_change\n",
    "FROM yearly_sales;"
   ]
  },
  {
   "cell_type": "code",
   "execution_count": 18,
   "id": "e645a0fb",
   "metadata": {
    "executionInfo": {
     "elapsed": 74,
     "status": "ok",
     "timestamp": 1752950149281,
     "user": {
      "displayName": "Benjamin Bennett Alexander",
      "userId": "14614847693800833280"
     },
     "user_tz": -180
    },
    "id": "e645a0fb"
   },
   "outputs": [],
   "source": [
    "query = \"\"\"\n",
    "\n",
    "-- Getting 2015 and 2016 sales for Furniture\n",
    "WITH yearly_sales AS (\n",
    "    SELECT\n",
    "        strftime('%Y', [Order Date]) AS sales_year,\n",
    "        SUM(sales.Sales) AS total_sales\n",
    "    FROM sales\n",
    "    JOIN products ON sales.[Product ID] = products.[Product ID]\n",
    "    WHERE products.Category = 'Furniture'\n",
    "        AND strftime('%Y', [Order Date]) IN ('2015', '2016')\n",
    "    GROUP BY sales_year\n",
    ")\n",
    "SELECT\n",
    "    ROUND(MAX(CASE WHEN sales_year = '2015' THEN total_sales END), 2)\n",
    "    AS sales_value_2015,\n",
    "    ROUND(MAX(CASE WHEN sales_year = '2016' THEN total_sales END), 2)\n",
    "    AS sales_value_2016,\n",
    "\n",
    "    -- Calculating the percentage change\n",
    "    ROUND(\n",
    "        ((MAX(CASE WHEN sales_year = '2016' THEN total_sales END) -\n",
    "          MAX(CASE WHEN sales_year = '2015' THEN total_sales END))\n",
    "        / MAX(CASE WHEN sales_year = '2015' THEN total_sales END)) * 100, 2\n",
    "    ) AS percentage_change\n",
    "FROM yearly_sales;\n",
    "\n",
    "\"\"\""
   ]
  },
  {
   "cell_type": "code",
   "execution_count": 19,
   "id": "q-Q9qihXyA2w",
   "metadata": {
    "colab": {
     "base_uri": "https://localhost:8080/"
    },
    "executionInfo": {
     "elapsed": 42,
     "status": "ok",
     "timestamp": 1752950149318,
     "user": {
      "displayName": "Benjamin Bennett Alexander",
      "userId": "14614847693800833280"
     },
     "user_tz": -180
    },
    "id": "q-Q9qihXyA2w",
    "outputId": "cdc85e31-1e82-4831-d28d-61813853d0f0"
   },
   "outputs": [
    {
     "name": "stdout",
     "output_type": "stream",
     "text": [
      "   sales_value_2015  sales_value_2016  percentage_change\n",
      "0         170518.24         198901.44              16.65\n"
     ]
    }
   ],
   "source": [
    "# Connecting to the DataFrame\n",
    "connection = sqlite3.connect('superstore_data.db')\n",
    "# Creating a Dataframe\n",
    "df = pd.read_sql_query(query, connection)\n",
    "print(df)"
   ]
  },
  {
   "cell_type": "code",
   "execution_count": 20,
   "id": "db130e59",
   "metadata": {
    "colab": {
     "base_uri": "https://localhost:8080/",
     "height": 570
    },
    "executionInfo": {
     "elapsed": 291,
     "status": "ok",
     "timestamp": 1752950149607,
     "user": {
      "displayName": "Benjamin Bennett Alexander",
      "userId": "14614847693800833280"
     },
     "user_tz": -180
    },
    "id": "db130e59",
    "outputId": "f7510f5d-d309-41f8-8385-3be7aa4d184d"
   },
   "outputs": [
    {
     "data": {
      "image/png": "[encoded data removed]",
      "text/plain": [
       "<Figure size 1000x600 with 1 Axes>"
      ]
     },
     "metadata": {},
     "output_type": "display_data"
    },
    {
     "name": "stdout",
     "output_type": "stream",
     "text": [
      "Increase in Sales: 16.65%\n"
     ]
    }
   ],
   "source": [
    "# Plotting the bar graph and set the plot size\n",
    "fig, ax = plt.subplots(figsize = (10, 6))\n",
    "\n",
    "# Creating the bar plot for sales in 2015 and 2016\n",
    "ax.bar(['2015'], df['sales_value_2015'], label='2015',\n",
    "       color = 'blue')\n",
    "ax.bar(['2016'], df['sales_value_2016'], label='2016',\n",
    "       color = 'green')\n",
    "# Setting the labels and title\n",
    "ax.set_ylabel('Total Sales')\n",
    "ax.set_title('Furniture Sales in 2015 and 2016',fontsize=20)\n",
    "plt.show()\n",
    "print(f\"Increase in Sales: {df['percentage_change'][0]:.2f}%\")\n",
    "connection.close()"
   ]
  },
  {
   "cell_type": "markdown",
   "id": "52166a9a",
   "metadata": {
    "id": "52166a9a"
   },
   "source": [
    "## Question 6: **Answer**"
   ]
  },
  {
   "cell_type": "code",
   "execution_count": 21,
   "id": "hle6WxqkH_ng",
   "metadata": {
    "colab": {
     "base_uri": "https://localhost:8080/",
     "height": 94
    },
    "executionInfo": {
     "elapsed": 59,
     "status": "ok",
     "timestamp": 1752950149621,
     "user": {
      "displayName": "Benjamin Bennett Alexander",
      "userId": "14614847693800833280"
     },
     "user_tz": -180
    },
    "id": "hle6WxqkH_ng",
    "outputId": "c8223754-48f1-49fc-976d-6201532b22e3"
   },
   "outputs": [
    {
     "name": "stdout",
     "output_type": "stream",
     "text": [
      " * sqlite:///superstore_data.db\n",
      "Done.\n"
     ]
    },
    {
     "data": {
      "text/html": [
       "<table>\n",
       "    <thead>\n",
       "        <tr>\n",
       "            <th>Product ID</th>\n",
       "            <th>Product Name</th>\n",
       "            <th>Category</th>\n",
       "            <th>total_profit_2016</th>\n",
       "        </tr>\n",
       "    </thead>\n",
       "    <tbody>\n",
       "        <tr>\n",
       "            <td>TEC-MA-10000418</td>\n",
       "            <td>Cubify CubeX 3D Printer Double Head Print</td>\n",
       "            <td>Technology</td>\n",
       "            <td>-6599.978</td>\n",
       "        </tr>\n",
       "    </tbody>\n",
       "</table>"
      ],
      "text/plain": [
       "[('TEC-MA-10000418', 'Cubify CubeX 3D Printer Double Head Print', 'Technology', -6599.978)]"
      ]
     },
     "execution_count": 21,
     "metadata": {},
     "output_type": "execute_result"
    }
   ],
   "source": [
    "%%sql\n",
    "-- Calculating profit per product\n",
    "WITH profit_per_product AS (\n",
    "    SELECT\n",
    "        s.[Product ID],\n",
    "        p.[Product Name],\n",
    "        p.Category,\n",
    "        SUM(s.Profit) AS total_profit_2016\n",
    "    FROM sales s\n",
    "    JOIN products p\n",
    "    ON s.[Product ID] = p.[Product ID]\n",
    "    WHERE p.Category = 'Technology'\n",
    "        AND STRFTIME('%Y', s.[Order Date]) = '2016'\n",
    "    GROUP BY s.[Product ID], p.[Product Name], p.Category\n",
    "),\n",
    "-- Getting the minimum profit value\n",
    "min_profit AS (\n",
    "    SELECT MIN(total_profit_2016) AS min_profit_2016\n",
    "    FROM profit_per_product\n",
    ")\n",
    "-- Joining the CTE with the min_profit CTE\n",
    "SELECT ppp.*\n",
    "FROM profit_per_product ppp\n",
    "JOIN min_profit mp\n",
    "ON ppp.total_profit_2016 = mp.min_profit_2016;"
   ]
  },
  {
   "cell_type": "markdown",
   "id": "e3835a39",
   "metadata": {
    "id": "e3835a39"
   },
   "source": [
    "## Question 7: **Answer**"
   ]
  },
  {
   "cell_type": "code",
   "execution_count": 22,
   "id": "9a21991b",
   "metadata": {
    "colab": {
     "base_uri": "https://localhost:8080/",
     "height": 136
    },
    "executionInfo": {
     "elapsed": 144,
     "status": "ok",
     "timestamp": 1752950149755,
     "user": {
      "displayName": "Benjamin Bennett Alexander",
      "userId": "14614847693800833280"
     },
     "user_tz": -180
    },
    "id": "9a21991b",
    "outputId": "68c0b4a3-d9ee-459e-d863-5c0f37391ac5"
   },
   "outputs": [
    {
     "name": "stdout",
     "output_type": "stream",
     "text": [
      " * sqlite:///superstore_data.db\n",
      "Done.\n"
     ]
    },
    {
     "data": {
      "text/html": [
       "<table>\n",
       "    <thead>\n",
       "        <tr>\n",
       "            <th>customer_id</th>\n",
       "            <th>customer_name</th>\n",
       "            <th>number_of_orders</th>\n",
       "            <th>total_sales</th>\n",
       "            <th>total_profit</th>\n",
       "            <th>profit_margin</th>\n",
       "        </tr>\n",
       "    </thead>\n",
       "    <tbody>\n",
       "        <tr>\n",
       "            <td>TC-20980</td>\n",
       "            <td>Tamara Chand</td>\n",
       "            <td>12</td>\n",
       "            <td>19052.22</td>\n",
       "            <td>8981.32</td>\n",
       "            <td>0.47</td>\n",
       "        </tr>\n",
       "        <tr>\n",
       "            <td>RB-19360</td>\n",
       "            <td>Raymond Buch</td>\n",
       "            <td>18</td>\n",
       "            <td>15117.34</td>\n",
       "            <td>6976.1</td>\n",
       "            <td>0.46</td>\n",
       "        </tr>\n",
       "        <tr>\n",
       "            <td>SC-20095</td>\n",
       "            <td>Sanjit Chand</td>\n",
       "            <td>22</td>\n",
       "            <td>14142.33</td>\n",
       "            <td>5757.41</td>\n",
       "            <td>0.41</td>\n",
       "        </tr>\n",
       "    </tbody>\n",
       "</table>"
      ],
      "text/plain": [
       "[('TC-20980', 'Tamara Chand', 12, 19052.22, 8981.32, 0.47),\n",
       " ('RB-19360', 'Raymond Buch', 18, 15117.34, 6976.1, 0.46),\n",
       " ('SC-20095', 'Sanjit Chand', 22, 14142.33, 5757.41, 0.41)]"
      ]
     },
     "execution_count": 22,
     "metadata": {},
     "output_type": "execute_result"
    }
   ],
   "source": [
    "%%sql\n",
    "-- Ranking customers based on profit\n",
    "WITH top_customers AS (\n",
    "    SELECT\n",
    "        s.[Customer ID] AS customer_id,\n",
    "        c.[Customer Name] AS customer_name,\n",
    "        COUNT(s.[Order ID]) AS number_of_orders,\n",
    "        ROUND(SUM(s.Sales), 2) AS total_sales,\n",
    "        ROUND(SUM(s.Profit), 2) AS total_profit,\n",
    "        ROUND((SUM(s.Profit) / SUM(s.Sales)),2) AS profit_margin,\n",
    "        DENSE_RANK() OVER (ORDER BY SUM(s.Profit) DESC) AS rank\n",
    "    FROM sales s\n",
    "    INNER JOIN customers c\n",
    "    ON s.[Customer ID] = c.[Customer ID]\n",
    "    GROUP BY s.[Customer ID], c.[Customer Name]\n",
    "    HAVING\n",
    "        COUNT(s.[Order ID]) >= 5 AND\n",
    "        SUM(s.Sales) > 5000 AND\n",
    "        (SUM(s.Profit) / SUM(s.Sales)) >= 0.40\n",
    ")\n",
    "SELECT\n",
    "    customer_id,\n",
    "    customer_name,\n",
    "    number_of_orders,\n",
    "    total_sales,\n",
    "    total_profit,\n",
    "    profit_margin\n",
    "FROM top_customers\n",
    "WHERE rank <= 3\n",
    "ORDER BY profit_margin DESC;"
   ]
  },
  {
   "cell_type": "markdown",
   "id": "e274ae6b",
   "metadata": {
    "id": "e274ae6b"
   },
   "source": [
    "## Question 8: **Answer**"
   ]
  },
  {
   "cell_type": "code",
   "execution_count": 23,
   "id": "P2yQGgNWxM-s",
   "metadata": {
    "colab": {
     "base_uri": "https://localhost:8080/",
     "height": 94
    },
    "executionInfo": {
     "elapsed": 142,
     "status": "ok",
     "timestamp": 1752950149788,
     "user": {
      "displayName": "Benjamin Bennett Alexander",
      "userId": "14614847693800833280"
     },
     "user_tz": -180
    },
    "id": "P2yQGgNWxM-s",
    "outputId": "5b968148-23de-4732-ec6a-fe9c283bfd5a"
   },
   "outputs": [
    {
     "name": "stdout",
     "output_type": "stream",
     "text": [
      " * sqlite:///superstore_data.db\n",
      "Done.\n"
     ]
    },
    {
     "data": {
      "text/html": [
       "<table>\n",
       "    <thead>\n",
       "        <tr>\n",
       "            <th>percentage_impact_discounted_sales</th>\n",
       "            <th>percentage_impact_overall_sales</th>\n",
       "        </tr>\n",
       "    </thead>\n",
       "    <tbody>\n",
       "        <tr>\n",
       "            <td>31.91</td>\n",
       "            <td>19.79</td>\n",
       "        </tr>\n",
       "    </tbody>\n",
       "</table>"
      ],
      "text/plain": [
       "[(31.91, 19.79)]"
      ]
     },
     "execution_count": 23,
     "metadata": {},
     "output_type": "execute_result"
    }
   ],
   "source": [
    "%%sql\n",
    "SELECT\n",
    "    -- Percentage impact on discounted sales\n",
    "    ROUND(\n",
    "        100 * (\n",
    "            SUM(CASE WHEN Discount > 0 THEN Sales / (1 - Discount) ELSE 0 END) -\n",
    "            SUM(CASE WHEN Discount > 0 THEN Sales ELSE 0 END)\n",
    "        ) / SUM(CASE WHEN Discount > 0 THEN Sales / (1 - Discount) ELSE 0 END),\n",
    "        2\n",
    "    ) AS percentage_impact_discounted_sales,\n",
    "\n",
    "    -- Percentage impact on overall sales\n",
    "    ROUND(\n",
    "        100 * (\n",
    "            SUM(Sales / NULLIF(1 - Discount, 0)) - SUM(Sales)\n",
    "        ) / SUM(Sales / NULLIF(1 - Discount, 0)),\n",
    "        2\n",
    "    ) AS percentage_impact_overall_sales\n",
    "FROM sales;"
   ]
  },
  {
   "cell_type": "markdown",
   "id": "96f4892b",
   "metadata": {
    "id": "96f4892b"
   },
   "source": [
    "## Question 9: **Answer**"
   ]
  },
  {
   "cell_type": "code",
   "execution_count": 24,
   "id": "v52JT69lls5v",
   "metadata": {
    "colab": {
     "base_uri": "https://localhost:8080/",
     "height": 136
    },
    "executionInfo": {
     "elapsed": 52,
     "status": "ok",
     "timestamp": 1752950149830,
     "user": {
      "displayName": "Benjamin Bennett Alexander",
      "userId": "14614847693800833280"
     },
     "user_tz": -180
    },
    "id": "v52JT69lls5v",
    "outputId": "c197af84-e343-4a3a-8fce-382019a5e99b"
   },
   "outputs": [
    {
     "name": "stdout",
     "output_type": "stream",
     "text": [
      " * sqlite:///superstore_data.db\n",
      "Done.\n"
     ]
    },
    {
     "data": {
      "text/html": [
       "<table>\n",
       "    <thead>\n",
       "        <tr>\n",
       "            <th>State</th>\n",
       "            <th>total_sales_2016</th>\n",
       "            <th>total_sales_2017</th>\n",
       "            <th>yoy_percentage_growth</th>\n",
       "        </tr>\n",
       "    </thead>\n",
       "    <tbody>\n",
       "        <tr>\n",
       "            <td>Rhode Island</td>\n",
       "            <td>13085.6</td>\n",
       "            <td>3427.11</td>\n",
       "            <td>-73.81</td>\n",
       "        </tr>\n",
       "        <tr>\n",
       "            <td>Virginia</td>\n",
       "            <td>26691.05</td>\n",
       "            <td>7600.2</td>\n",
       "            <td>-71.53</td>\n",
       "        </tr>\n",
       "        <tr>\n",
       "            <td>New Jersey</td>\n",
       "            <td>17983.39</td>\n",
       "            <td>9483.55</td>\n",
       "            <td>-47.26</td>\n",
       "        </tr>\n",
       "    </tbody>\n",
       "</table>"
      ],
      "text/plain": [
       "[('Rhode Island', 13085.6, 3427.11, -73.81),\n",
       " ('Virginia', 26691.05, 7600.2, -71.53),\n",
       " ('New Jersey', 17983.39, 9483.55, -47.26)]"
      ]
     },
     "execution_count": 24,
     "metadata": {},
     "output_type": "execute_result"
    }
   ],
   "source": [
    "%%sql\n",
    "-- CTE to calculate total sales for each state in 2016 and 2017\n",
    "WITH yearly_sales AS (\n",
    "    SELECT\n",
    "        State,\n",
    "        ROUND(SUM(CASE WHEN STRFTIME('%Y', [Order Date]) = '2016' THEN sales ELSE 0 END), 2)\n",
    "        AS total_sales_2016,\n",
    "        ROUND(SUM(CASE WHEN STRFTIME('%Y', [Order Date]) = '2017' THEN sales ELSE 0 END), 2)\n",
    "        AS total_sales_2017\n",
    "    FROM sales\n",
    "    WHERE STRFTIME('%Y', [Order Date]) IN ('2016', '2017')\n",
    "    GROUP BY State\n",
    "),\n",
    "-- CTE to rank states based on sales difference\n",
    "ranking_sales AS (\n",
    "    SELECT\n",
    "        State,\n",
    "        total_sales_2016,\n",
    "        total_sales_2017,\n",
    "        ROUND((total_sales_2017 - total_sales_2016), 2)\n",
    "        AS sales_difference,\n",
    "        DENSE_RANK() OVER (ORDER BY (total_sales_2017 - total_sales_2016) ASC) AS rank\n",
    "    FROM yearly_sales\n",
    ")\n",
    "-- Returning three states with least profit growth\n",
    "SELECT\n",
    "    State,\n",
    "    total_sales_2016,\n",
    "    total_sales_2017,\n",
    "    ROUND((sales_difference / NULLIF(total_sales_2016, 0)) * 100, 2)\n",
    "    AS yoy_percentage_growth\n",
    "FROM ranking_sales\n",
    "WHERE rank <= 3\n",
    "ORDER BY yoy_percentage_growth ASC;"
   ]
  },
  {
   "cell_type": "markdown",
   "id": "7jTwKZwzez8K",
   "metadata": {
    "id": "7jTwKZwzez8K"
   },
   "source": [
    "## Question 10: **Answer**"
   ]
  },
  {
   "cell_type": "code",
   "execution_count": 25,
   "id": "HRwBx8ZV-iqW",
   "metadata": {
    "colab": {
     "base_uri": "https://localhost:8080/",
     "height": 94
    },
    "executionInfo": {
     "elapsed": 61,
     "status": "ok",
     "timestamp": 1752950149873,
     "user": {
      "displayName": "Benjamin Bennett Alexander",
      "userId": "14614847693800833280"
     },
     "user_tz": -180
    },
    "id": "HRwBx8ZV-iqW",
    "outputId": "0fd31979-be2c-4cae-ece8-57e67a14406f"
   },
   "outputs": [
    {
     "name": "stdout",
     "output_type": "stream",
     "text": [
      " * sqlite:///superstore_data.db\n",
      "Done.\n"
     ]
    },
    {
     "data": {
      "text/html": [
       "<table>\n",
       "    <thead>\n",
       "        <tr>\n",
       "            <th>Product ID</th>\n",
       "            <th>Sub-Category</th>\n",
       "            <th>Product Name</th>\n",
       "            <th>highest_cumulative_sales</th>\n",
       "        </tr>\n",
       "    </thead>\n",
       "    <tbody>\n",
       "        <tr>\n",
       "            <td>TEC-CO-10004722</td>\n",
       "            <td>Copiers</td>\n",
       "            <td>Canon imageCLASS 2200 Advanced Copier</td>\n",
       "            <td>&nbsp;&nbsp;&nbsp;&nbsp;&nbsp;&nbsp;&nbsp;&nbsp;&nbsp;&nbsp;&nbsp;35699.898</td>\n",
       "        </tr>\n",
       "    </tbody>\n",
       "</table>"
      ],
      "text/plain": [
       "[('TEC-CO-10004722', 'Copiers', 'Canon imageCLASS 2200 Advanced Copier', '           35699.898')]"
      ]
     },
     "execution_count": 25,
     "metadata": {},
     "output_type": "execute_result"
    }
   ],
   "source": [
    "%%sql\n",
    "WITH RECURSIVE product_sales_2017 AS (\n",
    "    -- Selecting initial product sales and sub-category\n",
    "    SELECT\n",
    "        s.[Order Date],\n",
    "        s.[Product ID],\n",
    "        s.Sales AS cumulative_sales,\n",
    "        p.[Sub-Category],\n",
    "        p.[Product Name]\n",
    "    FROM sales s\n",
    "    JOIN products p\n",
    "    ON s.[Product ID] = p.[Product ID]\n",
    "    WHERE STRFTIME('%Y', s.[Order Date]) = '2017'\n",
    "\n",
    "    UNION ALL\n",
    "\n",
    "    --  Adding sales for the next order date\n",
    "    SELECT\n",
    "        s.[Order Date],\n",
    "        s.[Product ID],\n",
    "        ps.cumulative_sales + s.Sales AS cumulative_sales,\n",
    "        ps.[Sub-Category],\n",
    "        ps.[Product Name]\n",
    "    FROM product_sales_2017 ps\n",
    "    JOIN sales s\n",
    "    ON ps.[Product ID] = s.[Product ID]\n",
    "    AND s.[Order Date] > ps.[Order Date]\n",
    "    WHERE STRFTIME('%Y', s.[Order Date]) = '2017'\n",
    ")\n",
    "-- Return the product with the highest cumulative sales in 2017\n",
    "SELECT\n",
    "    [Product ID],\n",
    "    [Sub-Category],\n",
    "    [Product Name],\n",
    "    printf('%20s', MAX(cumulative_sales)) AS highest_cumulative_sales\n",
    "FROM product_sales_2017\n",
    "GROUP BY [Product ID], [Sub-Category]\n",
    "ORDER BY highest_cumulative_sales DESC\n",
    "LIMIT 1;"
   ]
  },
  {
   "cell_type": "markdown",
   "id": "WCFyu9AvO3OS",
   "metadata": {
    "id": "WCFyu9AvO3OS"
   },
   "source": [
    "**Altenative method**"
   ]
  },
  {
   "cell_type": "code",
   "execution_count": 26,
   "id": "IVxpLZ94uRPC",
   "metadata": {
    "colab": {
     "base_uri": "https://localhost:8080/",
     "height": 94
    },
    "executionInfo": {
     "elapsed": 43,
     "status": "ok",
     "timestamp": 1752950149882,
     "user": {
      "displayName": "Benjamin Bennett Alexander",
      "userId": "14614847693800833280"
     },
     "user_tz": -180
    },
    "id": "IVxpLZ94uRPC",
    "outputId": "8e7468b0-b891-4bf4-dd9f-f6ad93ed5516"
   },
   "outputs": [
    {
     "name": "stdout",
     "output_type": "stream",
     "text": [
      " * sqlite:///superstore_data.db\n",
      "Done.\n"
     ]
    },
    {
     "data": {
      "text/html": [
       "<table>\n",
       "    <thead>\n",
       "        <tr>\n",
       "            <th>Product ID</th>\n",
       "            <th>Sub-Category</th>\n",
       "            <th>Product Name</th>\n",
       "            <th>highest_cumulative_sales</th>\n",
       "        </tr>\n",
       "    </thead>\n",
       "    <tbody>\n",
       "        <tr>\n",
       "            <td>TEC-CO-10004722</td>\n",
       "            <td>Copiers</td>\n",
       "            <td>Canon imageCLASS 2200 Advanced Copier</td>\n",
       "            <td>&nbsp;&nbsp;&nbsp;&nbsp;&nbsp;&nbsp;&nbsp;&nbsp;&nbsp;&nbsp;&nbsp;35699.898</td>\n",
       "        </tr>\n",
       "    </tbody>\n",
       "</table>"
      ],
      "text/plain": [
       "[('TEC-CO-10004722', 'Copiers', 'Canon imageCLASS 2200 Advanced Copier', '           35699.898')]"
      ]
     },
     "execution_count": 26,
     "metadata": {},
     "output_type": "execute_result"
    }
   ],
   "source": [
    "%%sql\n",
    "-- Calculating cumulative sales for each product in 2017\n",
    "WITH product_sales_2017 AS (\n",
    "    SELECT\n",
    "        s.[Product ID],\n",
    "        p.[Sub-Category],\n",
    "        p.[Product Name],\n",
    "        s.Sales,\n",
    "        SUM(s.Sales) OVER (\n",
    "            PARTITION BY s.[Product ID]\n",
    "            ORDER BY s.[Order Date]\n",
    "            -- Includes all rows from the start to the current row\n",
    "            ROWS BETWEEN UNBOUNDED PRECEDING AND CURRENT ROW\n",
    "        ) AS cumulative_sales\n",
    "    FROM sales s\n",
    "    JOIN products p\n",
    "    ON s.[Product ID] = p.[Product ID]\n",
    "    WHERE STRFTIME('%Y', s.[Order Date]) = '2017'\n",
    ")\n",
    "-- Identifying the product with the highest cumulative sales\n",
    "SELECT\n",
    "    [Product ID],\n",
    "    [Sub-Category],\n",
    "    [Product Name],\n",
    "    printf('%20s', MAX(cumulative_sales)) AS highest_cumulative_sales\n",
    "FROM product_sales_2017\n",
    "GROUP BY [Product ID], [Sub-Category]\n",
    "ORDER BY highest_cumulative_sales DESC\n",
    "LIMIT 1;"
   ]
  },
  {
   "cell_type": "code",
   "execution_count": 27,
   "id": "sN1QwAjwJbOc",
   "metadata": {
    "executionInfo": {
     "elapsed": 9,
     "status": "ok",
     "timestamp": 1752950149893,
     "user": {
      "displayName": "Benjamin Bennett Alexander",
      "userId": "14614847693800833280"
     },
     "user_tz": -180
    },
    "id": "sN1QwAjwJbOc"
   },
   "outputs": [],
   "source": [
    "# %%sql\n",
    "# DROP TABLE sales;\n",
    "\n",
    "# DROP TABLE products;\n",
    "\n",
    "# DROP TABLE customers;"
   ]
  }
 ],
 "metadata": {
  "colab": {
   "provenance": []
  },
  "kernelspec": {
   "display_name": "Python 3 (ipykernel)",
   "language": "python",
   "name": "python3"
  },
  "language_info": {
   "codemirror_mode": {
    "name": "ipython",
    "version": 3
   },
   "file_extension": ".py",
   "mimetype": "text/x-python",
   "name": "python",
   "nbconvert_exporter": "python",
   "pygments_lexer": "ipython3",
   "version": "3.10.5"
  }
 },
 "nbformat": 4,
 "nbformat_minor": 5
}

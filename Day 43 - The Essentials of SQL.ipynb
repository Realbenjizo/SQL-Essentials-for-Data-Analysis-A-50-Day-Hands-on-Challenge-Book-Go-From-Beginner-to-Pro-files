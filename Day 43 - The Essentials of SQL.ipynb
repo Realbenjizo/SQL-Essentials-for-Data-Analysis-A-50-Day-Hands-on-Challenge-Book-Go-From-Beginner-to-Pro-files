{
 "cells": [
  {
   "cell_type": "markdown",
   "metadata": {
    "id": "DWvS37yIeEkO"
   },
   "source": [
    "## Question 1: **Answer**"
   ]
  },
  {
   "cell_type": "code",
   "execution_count": 1,
   "metadata": {
    "executionInfo": {
     "elapsed": 405,
     "status": "ok",
     "timestamp": 1752946355857,
     "user": {
      "displayName": "Benjamin Bennett Alexander",
      "userId": "14614847693800833280"
     },
     "user_tz": -180
    },
    "id": "YKmTjzgVXJE4"
   },
   "outputs": [],
   "source": [
    "import pandas as pd\n",
    "import sqlite3\n",
    "import matplotlib.pyplot as plt"
   ]
  },
  {
   "cell_type": "code",
   "execution_count": null,
   "metadata": {
    "executionInfo": {
     "elapsed": 1566,
     "status": "ok",
     "timestamp": 1752946357433,
     "user": {
      "displayName": "Benjamin Bennett Alexander",
      "userId": "14614847693800833280"
     },
     "user_tz": -180
    },
    "id": "UN3xSOH7Xkow"
   },
   "outputs": [],
   "source": [
    "def add_data_to_database(input_data):\n",
    "    try:\n",
    "        # Creating a DataFrame\n",
    "        cars = pd.read_csv(input_data, encoding='unicode_escape')\n",
    "        # Connecting to database\n",
    "        engine = sqlite3.connect(\"secondhand_cars.db\")\n",
    "        cars.to_sql(\"cars\", con=engine, index = False)\n",
    "    except Exception as e:\n",
    "            print(f\"Error: {e}\")\n",
    "\n",
    "# Loading CSV file\n",
    "data = \"/content/secondhand_cars.csv\"\n",
    "add_data_to_database(data)"
   ]
  },
  {
   "cell_type": "code",
   "execution_count": 3,
   "metadata": {
    "executionInfo": {
     "elapsed": 796,
     "status": "ok",
     "timestamp": 1752946358233,
     "user": {
      "displayName": "Benjamin Bennett Alexander",
      "userId": "14614847693800833280"
     },
     "user_tz": -180
    },
    "id": "9MyBo0U-ajN2"
   },
   "outputs": [],
   "source": [
    "# Loading SQL extension\n",
    "%load_ext sql"
   ]
  },
  {
   "cell_type": "code",
   "execution_count": 4,
   "metadata": {
    "executionInfo": {
     "elapsed": 39,
     "status": "ok",
     "timestamp": 1752946358275,
     "user": {
      "displayName": "Benjamin Bennett Alexander",
      "userId": "14614847693800833280"
     },
     "user_tz": -180
    },
    "id": "xnQoTdsL1vBH"
   },
   "outputs": [],
   "source": [
    "# Connecting to the database\n",
    "%sql sqlite:///secondhand_cars.db"
   ]
  },
  {
   "cell_type": "code",
   "execution_count": 5,
   "metadata": {
    "executionInfo": {
     "elapsed": 5,
     "status": "ok",
     "timestamp": 1752946358297,
     "user": {
      "displayName": "Benjamin Bennett Alexander",
      "userId": "14614847693800833280"
     },
     "user_tz": -180
    },
    "id": "rEJVfME9K-74"
   },
   "outputs": [],
   "source": [
    "# Default to duplicated style\n",
    "%config SqlMagic.style = '_DEPRECATED_DEFAULT'"
   ]
  },
  {
   "cell_type": "code",
   "execution_count": 6,
   "metadata": {
    "colab": {
     "base_uri": "https://localhost:8080/",
     "height": 281
    },
    "executionInfo": {
     "elapsed": 80,
     "status": "ok",
     "timestamp": 1752946358389,
     "user": {
      "displayName": "Benjamin Bennett Alexander",
      "userId": "14614847693800833280"
     },
     "user_tz": -180
    },
    "id": "b8lWW5O99JsO",
    "outputId": "a4263229-4d66-42a4-c093-b56d933af15c"
   },
   "outputs": [
    {
     "name": "stdout",
     "output_type": "stream",
     "text": [
      " * sqlite:///secondhand_cars.db\n",
      "Done.\n"
     ]
    },
    {
     "data": {
      "text/html": [
       "<table>\n",
       "    <thead>\n",
       "        <tr>\n",
       "            <th>mileage</th>\n",
       "            <th>make</th>\n",
       "            <th>model</th>\n",
       "            <th>fuel</th>\n",
       "            <th>gear</th>\n",
       "            <th>offerType</th>\n",
       "            <th>price</th>\n",
       "            <th>hp</th>\n",
       "            <th>year</th>\n",
       "        </tr>\n",
       "    </thead>\n",
       "    <tbody>\n",
       "        <tr>\n",
       "            <td>235000</td>\n",
       "            <td>BMW</td>\n",
       "            <td>316</td>\n",
       "            <td>Diesel</td>\n",
       "            <td>Manual</td>\n",
       "            <td>Used</td>\n",
       "            <td>6800</td>\n",
       "            <td>116.0</td>\n",
       "            <td>2011</td>\n",
       "        </tr>\n",
       "        <tr>\n",
       "            <td>92800</td>\n",
       "            <td>Volkswagen</td>\n",
       "            <td>Golf</td>\n",
       "            <td>Gasoline</td>\n",
       "            <td>Manual</td>\n",
       "            <td>Used</td>\n",
       "            <td>6877</td>\n",
       "            <td>122.0</td>\n",
       "            <td>2011</td>\n",
       "        </tr>\n",
       "        <tr>\n",
       "            <td>149300</td>\n",
       "            <td>SEAT</td>\n",
       "            <td>Exeo</td>\n",
       "            <td>Gasoline</td>\n",
       "            <td>Manual</td>\n",
       "            <td>Used</td>\n",
       "            <td>6900</td>\n",
       "            <td>160.0</td>\n",
       "            <td>2011</td>\n",
       "        </tr>\n",
       "        <tr>\n",
       "            <td>96200</td>\n",
       "            <td>Renault</td>\n",
       "            <td>Megane</td>\n",
       "            <td>Gasoline</td>\n",
       "            <td>Manual</td>\n",
       "            <td>Used</td>\n",
       "            <td>6950</td>\n",
       "            <td>110.0</td>\n",
       "            <td>2011</td>\n",
       "        </tr>\n",
       "        <tr>\n",
       "            <td>156000</td>\n",
       "            <td>Peugeot</td>\n",
       "            <td>308</td>\n",
       "            <td>Gasoline</td>\n",
       "            <td>Manual</td>\n",
       "            <td>Used</td>\n",
       "            <td>6950</td>\n",
       "            <td>156.0</td>\n",
       "            <td>2011</td>\n",
       "        </tr>\n",
       "        <tr>\n",
       "            <td>147000</td>\n",
       "            <td>Toyota</td>\n",
       "            <td>Auris</td>\n",
       "            <td>Electric/Gasoline</td>\n",
       "            <td>Automatic</td>\n",
       "            <td>Used</td>\n",
       "            <td>6950</td>\n",
       "            <td>99.0</td>\n",
       "            <td>2011</td>\n",
       "        </tr>\n",
       "        <tr>\n",
       "            <td>91894</td>\n",
       "            <td>Renault</td>\n",
       "            <td>Scenic</td>\n",
       "            <td>Diesel</td>\n",
       "            <td>Manual</td>\n",
       "            <td>Used</td>\n",
       "            <td>6970</td>\n",
       "            <td>131.0</td>\n",
       "            <td>2011</td>\n",
       "        </tr>\n",
       "        <tr>\n",
       "            <td>127500</td>\n",
       "            <td>Opel</td>\n",
       "            <td>Zafira</td>\n",
       "            <td>Gasoline</td>\n",
       "            <td>Manual</td>\n",
       "            <td>Used</td>\n",
       "            <td>6972</td>\n",
       "            <td>116.0</td>\n",
       "            <td>2011</td>\n",
       "        </tr>\n",
       "        <tr>\n",
       "            <td>115000</td>\n",
       "            <td>Mazda</td>\n",
       "            <td>3</td>\n",
       "            <td>Gasoline</td>\n",
       "            <td>Automatic</td>\n",
       "            <td>Used</td>\n",
       "            <td>6980</td>\n",
       "            <td>150.0</td>\n",
       "            <td>2011</td>\n",
       "        </tr>\n",
       "        <tr>\n",
       "            <td>104</td>\n",
       "            <td>Ford</td>\n",
       "            <td>Transit</td>\n",
       "            <td>Diesel</td>\n",
       "            <td>Manual</td>\n",
       "            <td>Used</td>\n",
       "            <td>6990</td>\n",
       "            <td>86.0</td>\n",
       "            <td>2011</td>\n",
       "        </tr>\n",
       "    </tbody>\n",
       "</table>"
      ],
      "text/plain": [
       "[(235000, 'BMW', '316', 'Diesel', 'Manual', 'Used', 6800, 116.0, 2011),\n",
       " (92800, 'Volkswagen', 'Golf', 'Gasoline', 'Manual', 'Used', 6877, 122.0, 2011),\n",
       " (149300, 'SEAT', 'Exeo', 'Gasoline', 'Manual', 'Used', 6900, 160.0, 2011),\n",
       " (96200, 'Renault', 'Megane', 'Gasoline', 'Manual', 'Used', 6950, 110.0, 2011),\n",
       " (156000, 'Peugeot', '308', 'Gasoline', 'Manual', 'Used', 6950, 156.0, 2011),\n",
       " (147000, 'Toyota', 'Auris', 'Electric/Gasoline', 'Automatic', 'Used', 6950, 99.0, 2011),\n",
       " (91894, 'Renault', 'Scenic', 'Diesel', 'Manual', 'Used', 6970, 131.0, 2011),\n",
       " (127500, 'Opel', 'Zafira', 'Gasoline', 'Manual', 'Used', 6972, 116.0, 2011),\n",
       " (115000, 'Mazda', '3', 'Gasoline', 'Automatic', 'Used', 6980, 150.0, 2011),\n",
       " (104, 'Ford', 'Transit', 'Diesel', 'Manual', 'Used', 6990, 86.0, 2011)]"
      ]
     },
     "execution_count": 6,
     "metadata": {},
     "output_type": "execute_result"
    }
   ],
   "source": [
    "%%sql\n",
    "SELECT * FROM cars LIMIT 10;"
   ]
  },
  {
   "cell_type": "markdown",
   "metadata": {
    "id": "s5C_CnKHlqCf"
   },
   "source": [
    "## Question 1: **Answer**"
   ]
  },
  {
   "cell_type": "code",
   "execution_count": 7,
   "metadata": {
    "colab": {
     "base_uri": "https://localhost:8080/",
     "height": 94
    },
    "executionInfo": {
     "elapsed": 55,
     "status": "ok",
     "timestamp": 1752946358448,
     "user": {
      "displayName": "Benjamin Bennett Alexander",
      "userId": "14614847693800833280"
     },
     "user_tz": -180
    },
    "id": "KpE0SWoeAbX6",
    "outputId": "50988da3-be7d-4ce4-b57e-bd38a821157b"
   },
   "outputs": [
    {
     "name": "stdout",
     "output_type": "stream",
     "text": [
      " * sqlite:///secondhand_cars.db\n",
      "Done.\n"
     ]
    },
    {
     "data": {
      "text/html": [
       "<table>\n",
       "    <thead>\n",
       "        <tr>\n",
       "            <th>least_expensive_make</th>\n",
       "            <th>least_expensive_make_price</th>\n",
       "            <th>most_expensive_make</th>\n",
       "            <th>most_expensive_make_price</th>\n",
       "        </tr>\n",
       "    </thead>\n",
       "    <tbody>\n",
       "        <tr>\n",
       "            <td>Citroen C1</td>\n",
       "            <td>1100</td>\n",
       "            <td>Ferrari F12</td>\n",
       "            <td>1199900</td>\n",
       "        </tr>\n",
       "    </tbody>\n",
       "</table>"
      ],
      "text/plain": [
       "[('Citroen C1', 1100, 'Ferrari F12', 1199900)]"
      ]
     },
     "execution_count": 7,
     "metadata": {},
     "output_type": "execute_result"
    }
   ],
   "source": [
    "%%sql\n",
    "SELECT\n",
    "    FIRST_VALUE(make || ' ' || model) OVER (ORDER BY price ASC)\n",
    "    AS least_expensive_make,\n",
    "\n",
    "    FIRST_VALUE(price) OVER (ORDER BY price ASC)\n",
    "    AS least_expensive_make_price,\n",
    "\n",
    "    LAST_VALUE(make || ' ' || model) OVER (\n",
    "        ORDER BY price ASC\n",
    "        ROWS BETWEEN UNBOUNDED PRECEDING AND UNBOUNDED FOLLOWING\n",
    "    ) AS most_expensive_make,\n",
    "\n",
    "    LAST_VALUE(price) OVER (\n",
    "        ORDER BY price ASC\n",
    "        ROWS BETWEEN UNBOUNDED PRECEDING AND UNBOUNDED FOLLOWING\n",
    "    ) AS most_expensive_make_price\n",
    "\n",
    "FROM cars\n",
    "LIMIT 1;"
   ]
  },
  {
   "cell_type": "markdown",
   "metadata": {
    "id": "EpE0bi0l8oi4"
   },
   "source": [
    "## Question 3: **Answer**"
   ]
  },
  {
   "cell_type": "code",
   "execution_count": 8,
   "metadata": {
    "colab": {
     "base_uri": "https://localhost:8080/",
     "height": 94
    },
    "executionInfo": {
     "elapsed": 75,
     "status": "ok",
     "timestamp": 1752946358517,
     "user": {
      "displayName": "Benjamin Bennett Alexander",
      "userId": "14614847693800833280"
     },
     "user_tz": -180
    },
    "id": "_RKXoqgvzcgL",
    "outputId": "102c3c09-d8df-4c81-9c95-273e2e7c8578"
   },
   "outputs": [
    {
     "name": "stdout",
     "output_type": "stream",
     "text": [
      " * sqlite:///secondhand_cars.db\n",
      "Done.\n"
     ]
    },
    {
     "data": {
      "text/html": [
       "<table>\n",
       "    <thead>\n",
       "        <tr>\n",
       "            <th>cars_above_75_avg</th>\n",
       "            <th>cars_below_75_avg</th>\n",
       "        </tr>\n",
       "    </thead>\n",
       "    <tbody>\n",
       "        <tr>\n",
       "            <td>20615</td>\n",
       "            <td>1505</td>\n",
       "        </tr>\n",
       "    </tbody>\n",
       "</table>"
      ],
      "text/plain": [
       "[(20615, 1505)]"
      ]
     },
     "execution_count": 8,
     "metadata": {},
     "output_type": "execute_result"
    }
   ],
   "source": [
    "%%sql\n",
    "WITH average_price AS (\n",
    "    -- Calculate the average car price\n",
    "    SELECT AVG(price) AS avg_price\n",
    "    FROM cars\n",
    ")\n",
    "SELECT\n",
    "    -- Count of cars with price above 75% of the average price\n",
    "    SUM(CASE WHEN price > 0.75 * avg_price THEN 1 ELSE 0 END)\n",
    "    AS cars_above_75_avg,\n",
    "    -- Count of cars with price below 25% of the average price\n",
    "    SUM(CASE WHEN price < 0.25 * avg_price THEN 1 ELSE 0 END)\n",
    "    AS cars_below_75_avg\n",
    "FROM cars, average_price;"
   ]
  },
  {
   "cell_type": "markdown",
   "metadata": {
    "id": "ZrR0QBvRgPhG"
   },
   "source": [
    "## Question 4: **Answer**"
   ]
  },
  {
   "cell_type": "code",
   "execution_count": 9,
   "metadata": {
    "colab": {
     "base_uri": "https://localhost:8080/",
     "height": 94
    },
    "executionInfo": {
     "elapsed": 60,
     "status": "ok",
     "timestamp": 1752946358554,
     "user": {
      "displayName": "Benjamin Bennett Alexander",
      "userId": "14614847693800833280"
     },
     "user_tz": -180
    },
    "id": "pm0TiBrZKkeR",
    "outputId": "2c7223fc-1457-43ef-d325-e260e59c063c"
   },
   "outputs": [
    {
     "name": "stdout",
     "output_type": "stream",
     "text": [
      " * sqlite:///secondhand_cars.db\n",
      "Done.\n"
     ]
    },
    {
     "data": {
      "text/html": [
       "<table>\n",
       "    <thead>\n",
       "        <tr>\n",
       "            <th>count_of_cars_above_75_avg</th>\n",
       "            <th>count_of_cars_below_25_avg</th>\n",
       "        </tr>\n",
       "    </thead>\n",
       "    <tbody>\n",
       "        <tr>\n",
       "            <td>42688494</td>\n",
       "            <td>13645428</td>\n",
       "        </tr>\n",
       "    </tbody>\n",
       "</table>"
      ],
      "text/plain": [
       "[(42688494, 13645428)]"
      ]
     },
     "execution_count": 9,
     "metadata": {},
     "output_type": "execute_result"
    }
   ],
   "source": [
    "%%sql\n",
    "WITH avg_price AS (\n",
    "    -- Calculate the average car price\n",
    "    SELECT AVG(price) AS avg_price\n",
    "    FROM cars\n",
    "    WHERE make = 'BMW'\n",
    ")\n",
    "\n",
    "SELECT\n",
    "    -- Count of cars with price above 75% of the average price\n",
    "    SUM(CASE WHEN price > (0.75 * avg_price) THEN price ELSE 0 END)\n",
    "    AS count_of_cars_above_75_avg ,\n",
    "    -- Count of cars with price below 75% of the average price\n",
    "   SUM(CASE WHEN price < (0.75 * avg_price) THEN price ELSE 0 END)\n",
    "    AS count_of_cars_below_25_avg\n",
    "FROM cars, avg_price\n",
    "WHERE make = 'BMW';"
   ]
  },
  {
   "cell_type": "markdown",
   "metadata": {
    "id": "J3SYhLIeF2fF"
   },
   "source": [
    "## Question 5: **Answer**"
   ]
  },
  {
   "cell_type": "code",
   "execution_count": 10,
   "metadata": {
    "colab": {
     "base_uri": "https://localhost:8080/",
     "height": 156
    },
    "executionInfo": {
     "elapsed": 57,
     "status": "ok",
     "timestamp": 1752946358608,
     "user": {
      "displayName": "Benjamin Bennett Alexander",
      "userId": "14614847693800833280"
     },
     "user_tz": -180
    },
    "id": "vaM6epQ2lsdW",
    "outputId": "1ba89ac0-9efc-46dd-8131-9871d9f673b3"
   },
   "outputs": [
    {
     "name": "stdout",
     "output_type": "stream",
     "text": [
      " * sqlite:///secondhand_cars.db\n",
      "Done.\n"
     ]
    },
    {
     "data": {
      "text/html": [
       "<table>\n",
       "    <thead>\n",
       "        <tr>\n",
       "            <th>make</th>\n",
       "            <th>model</th>\n",
       "            <th>price</th>\n",
       "        </tr>\n",
       "    </thead>\n",
       "    <tbody>\n",
       "        <tr>\n",
       "            <td>Audi</td>\n",
       "            <td>R8</td>\n",
       "            <td>295000</td>\n",
       "        </tr>\n",
       "        <tr>\n",
       "            <td>BMW</td>\n",
       "            <td>M4</td>\n",
       "            <td>184450</td>\n",
       "        </tr>\n",
       "        <tr>\n",
       "            <td>Mercedes-Benz</td>\n",
       "            <td>S 650</td>\n",
       "            <td>717078</td>\n",
       "        </tr>\n",
       "        <tr>\n",
       "            <td>Volkswagen</td>\n",
       "            <td>Touareg</td>\n",
       "            <td>101880</td>\n",
       "        </tr>\n",
       "    </tbody>\n",
       "</table>"
      ],
      "text/plain": [
       "[('Audi', 'R8', 295000),\n",
       " ('BMW', 'M4', 184450),\n",
       " ('Mercedes-Benz', 'S 650', 717078),\n",
       " ('Volkswagen', 'Touareg', 101880)]"
      ]
     },
     "execution_count": 10,
     "metadata": {},
     "output_type": "execute_result"
    }
   ],
   "source": [
    "%%sql\n",
    "-- Partition data by make and create a rank\n",
    "WITH ranked_models AS (\n",
    "    SELECT\n",
    "        make,\n",
    "        model,\n",
    "        price,\n",
    "        ROW_NUMBER() OVER (PARTITION BY make ORDER BY price DESC)\n",
    "        AS price_rank\n",
    "    FROM cars\n",
    "    WHERE make IN ('BMW', 'Volkswagen', 'Audi', 'Mercedes-Benz')\n",
    ")\n",
    "-- Returning top ranked cars in each partition\n",
    "SELECT\n",
    "    make,\n",
    "    model,\n",
    "    price\n",
    "FROM ranked_models\n",
    "WHERE price_rank = 1;"
   ]
  },
  {
   "cell_type": "markdown",
   "metadata": {
    "id": "7AL4S0UFrj5W"
   },
   "source": [
    "## Creating a plot"
   ]
  },
  {
   "cell_type": "code",
   "execution_count": 11,
   "metadata": {
    "executionInfo": {
     "elapsed": 5,
     "status": "ok",
     "timestamp": 1752946358619,
     "user": {
      "displayName": "Benjamin Bennett Alexander",
      "userId": "14614847693800833280"
     },
     "user_tz": -180
    },
    "id": "VSU2ZaWAnzw1"
   },
   "outputs": [],
   "source": [
    "query = \"\"\"\n",
    "WITH ranked_models AS (\n",
    "    SELECT\n",
    "        make,\n",
    "        model,\n",
    "        price,\n",
    "        ROW_NUMBER() OVER (PARTITION BY make ORDER BY price DESC) AS price_rank\n",
    "    FROM cars\n",
    "    WHERE make IN ('BMW', 'Volkswagen', 'Audi', 'Mercedes-Benz')\n",
    ")\n",
    "\n",
    "SELECT\n",
    "    make,\n",
    "    model,\n",
    "    price\n",
    "FROM ranked_models\n",
    "WHERE price_rank = 1;\n",
    "\n",
    "\"\"\""
   ]
  },
  {
   "cell_type": "code",
   "execution_count": 12,
   "metadata": {
    "executionInfo": {
     "elapsed": 34,
     "status": "ok",
     "timestamp": 1752946358658,
     "user": {
      "displayName": "Benjamin Bennett Alexander",
      "userId": "14614847693800833280"
     },
     "user_tz": -180
    },
    "id": "PmfqKkRioJX8"
   },
   "outputs": [],
   "source": [
    "# Establishing a connection to the database\n",
    "connection = sqlite3.connect(\"secondhand_cars.db\")\n",
    "# Creating a DataFrame\n",
    "df = pd.read_sql_query(query, connection)"
   ]
  },
  {
   "cell_type": "code",
   "execution_count": 13,
   "metadata": {
    "colab": {
     "base_uri": "https://localhost:8080/",
     "height": 576
    },
    "executionInfo": {
     "elapsed": 281,
     "status": "ok",
     "timestamp": 1752946358979,
     "user": {
      "displayName": "Benjamin Bennett Alexander",
      "userId": "14614847693800833280"
     },
     "user_tz": -180
    },
    "id": "BWjENNREwGOo",
    "outputId": "45ed5954-1fb5-43d9-fb3c-fbc57c32c914"
   },
   "outputs": [
    {
     "data": {
      "image/png": "[encoded data removed]",
      "text/plain": [
       "<Figure size 1000x600 with 1 Axes>"
      ]
     },
     "metadata": {},
     "output_type": "display_data"
    }
   ],
   "source": [
    "# Retrieving car models\n",
    "car_models = df.loc[0:,'model']\n",
    "# Retrieving car models prices\n",
    "car_prices = df.loc[0:,'price']\n",
    "\n",
    "# Creating a bar plot\n",
    "fig, ax = plt.subplots(figsize = (10, 6))\n",
    "ax.bar(car_models, car_prices,\n",
    "       label = car_models,\n",
    "       color = ['Red', 'Blue', 'Green', 'Yellow'])\n",
    "ax.set_ylabel(\"Car Price\", fontsize = 12)\n",
    "ax.set_xlabel(\"Car Models\", fontsize = 12)\n",
    "plt.title(\"Most Expensive Models\", fontsize = 20)\n",
    "plt.show()\n",
    "connection.close()"
   ]
  },
  {
   "cell_type": "markdown",
   "metadata": {
    "id": "fTSswYjV4ptK"
   },
   "source": [
    "## Question 6: **Answer**"
   ]
  },
  {
   "cell_type": "code",
   "execution_count": 14,
   "metadata": {
    "colab": {
     "base_uri": "https://localhost:8080/",
     "height": 94
    },
    "executionInfo": {
     "elapsed": 56,
     "status": "ok",
     "timestamp": 1752946359029,
     "user": {
      "displayName": "Benjamin Bennett Alexander",
      "userId": "14614847693800833280"
     },
     "user_tz": -180
    },
    "id": "Q6qxaVRgvfMk",
    "outputId": "f587ae68-a11f-4e17-a479-d717f87d03c2"
   },
   "outputs": [
    {
     "name": "stdout",
     "output_type": "stream",
     "text": [
      " * sqlite:///secondhand_cars.db\n",
      "Done.\n"
     ]
    },
    {
     "data": {
      "text/html": [
       "<table>\n",
       "    <thead>\n",
       "        <tr>\n",
       "            <th>make</th>\n",
       "            <th>model</th>\n",
       "            <th>average_mileage</th>\n",
       "        </tr>\n",
       "    </thead>\n",
       "    <tbody>\n",
       "        <tr>\n",
       "            <td>Mercedes-Benz</td>\n",
       "            <td>S 650</td>\n",
       "            <td>90.0</td>\n",
       "        </tr>\n",
       "    </tbody>\n",
       "</table>"
      ],
      "text/plain": [
       "[('Mercedes-Benz', 'S 650', 90.0)]"
      ]
     },
     "execution_count": 14,
     "metadata": {},
     "output_type": "execute_result"
    }
   ],
   "source": [
    "%%sql\n",
    "-- Calculating average mileage\n",
    "WITH model_avg_mileage AS (\n",
    "    SELECT\n",
    "        make,\n",
    "        model,\n",
    "        AVG(mileage) AS average_mileage\n",
    "    FROM cars\n",
    "    WHERE make IN ('BMW', 'Volkswagen', 'Audi', 'Mercedes-Benz')\n",
    "    GROUP BY make, model\n",
    "),\n",
    "-- Identify the min average mileage for each make\n",
    "min_avg_mileage AS (\n",
    "    SELECT\n",
    "        make,\n",
    "        MIN(average_mileage) AS min_mileage\n",
    "    FROM model_avg_mileage\n",
    "    GROUP BY make\n",
    ")\n",
    "-- Retrieve car(s) with second lowest average\n",
    "SELECT\n",
    "    m.make,\n",
    "    m.model,\n",
    "    MIN(m.average_mileage) AS average_mileage\n",
    "FROM model_avg_mileage m\n",
    "JOIN min_avg_mileage mm\n",
    "ON m.make = mm.make AND m.average_mileage > mm.min_mileage\n",
    "ORDER BY m.average_mileage DESC;"
   ]
  }
 ],
 "metadata": {
  "colab": {
   "authorship_tag": "ABX9TyPK5sxj5iS4EVo1O8Q1BG4O",
   "mount_file_id": "1GpenpTW5ajXqPdgxjVX_gwdB5bZNXlHH",
   "provenance": []
  },
  "kernelspec": {
   "display_name": "Python 3",
   "name": "python3"
  },
  "language_info": {
   "name": "python"
  }
 },
 "nbformat": 4,
 "nbformat_minor": 0
}

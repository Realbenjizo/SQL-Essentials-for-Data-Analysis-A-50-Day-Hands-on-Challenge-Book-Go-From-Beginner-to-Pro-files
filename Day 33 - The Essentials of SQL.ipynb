{
 "cells": [
  {
   "cell_type": "markdown",
   "id": "ATsVbX-fumlQ",
   "metadata": {
    "id": "ATsVbX-fumlQ"
   },
   "source": [
    "## Question 1: **Answer**"
   ]
  },
  {
   "cell_type": "code",
   "execution_count": 1,
   "id": "a387cdac",
   "metadata": {
    "executionInfo": {
     "elapsed": 340,
     "status": "ok",
     "timestamp": 1752930791321,
     "user": {
      "displayName": "Benjamin Bennett Alexander",
      "userId": "14614847693800833280"
     },
     "user_tz": -180
    },
    "id": "a387cdac"
   },
   "outputs": [],
   "source": [
    "import pandas as pd\n",
    "import sqlite3"
   ]
  },
  {
   "cell_type": "code",
   "execution_count": null,
   "id": "f1c3aa3c",
   "metadata": {
    "executionInfo": {
     "elapsed": 1413,
     "status": "ok",
     "timestamp": 1752930792727,
     "user": {
      "displayName": "Benjamin Bennett Alexander",
      "userId": "14614847693800833280"
     },
     "user_tz": -180
    },
    "id": "f1c3aa3c"
   },
   "outputs": [],
   "source": [
    "def add_data_to_database(input_data):\n",
    "    try:\n",
    "        df = pd.read_csv(input_data)\n",
    "        engine = sqlite3.connect(\"movies_data.db\")\n",
    "        df.to_sql('movies',con=engine, index = False)\n",
    "    except Exception as e:\n",
    "            print(f\"Error: {e}\")\n",
    "\n",
    "data = \"/content/movies_dataset.csv\"\n",
    "add_data_to_database(data)"
   ]
  },
  {
   "cell_type": "code",
   "execution_count": 3,
   "id": "1bfe8a36",
   "metadata": {
    "executionInfo": {
     "elapsed": 483,
     "status": "ok",
     "timestamp": 1752930793215,
     "user": {
      "displayName": "Benjamin Bennett Alexander",
      "userId": "14614847693800833280"
     },
     "user_tz": -180
    },
    "id": "1bfe8a36"
   },
   "outputs": [],
   "source": [
    "# Loading SQL extension\n",
    "%load_ext sql"
   ]
  },
  {
   "cell_type": "code",
   "execution_count": 4,
   "id": "428b956f",
   "metadata": {
    "executionInfo": {
     "elapsed": 4,
     "status": "ok",
     "timestamp": 1752930793230,
     "user": {
      "displayName": "Benjamin Bennett Alexander",
      "userId": "14614847693800833280"
     },
     "user_tz": -180
    },
    "id": "428b956f"
   },
   "outputs": [],
   "source": [
    "# Connecting to the database\n",
    "%sql sqlite:///movies_data.db"
   ]
  },
  {
   "cell_type": "code",
   "execution_count": 5,
   "id": "55zxu-xwO_3B",
   "metadata": {
    "executionInfo": {
     "elapsed": 4,
     "status": "ok",
     "timestamp": 1752930793239,
     "user": {
      "displayName": "Benjamin Bennett Alexander",
      "userId": "14614847693800833280"
     },
     "user_tz": -180
    },
    "id": "55zxu-xwO_3B"
   },
   "outputs": [],
   "source": [
    "# Default to duplicated style\n",
    "%config SqlMagic.style = '_DEPRECATED_DEFAULT'"
   ]
  },
  {
   "cell_type": "code",
   "execution_count": 6,
   "id": "b39a30ef",
   "metadata": {
    "colab": {
     "base_uri": "https://localhost:8080/",
     "height": 674
    },
    "executionInfo": {
     "elapsed": 22,
     "status": "ok",
     "timestamp": 1752930793380,
     "user": {
      "displayName": "Benjamin Bennett Alexander",
      "userId": "14614847693800833280"
     },
     "user_tz": -180
    },
    "id": "b39a30ef",
    "outputId": "cfa8c67d-8a4c-406d-a923-64d1a13e8f8b"
   },
   "outputs": [
    {
     "name": "stdout",
     "output_type": "stream",
     "text": [
      " * sqlite:///movies_data.db\n",
      "Done.\n"
     ]
    },
    {
     "data": {
      "text/html": [
       "<table>\n",
       "    <thead>\n",
       "        <tr>\n",
       "            <th>rank</th>\n",
       "            <th>title</th>\n",
       "            <th>year</th>\n",
       "            <th>director</th>\n",
       "            <th>genre</th>\n",
       "            <th>imdb_rating</th>\n",
       "            <th>academy_awards</th>\n",
       "            <th>box_office_gross</th>\n",
       "        </tr>\n",
       "    </thead>\n",
       "    <tbody>\n",
       "        <tr>\n",
       "            <td>1</td>\n",
       "            <td>The Shawshank Redemption</td>\n",
       "            <td>1994</td>\n",
       "            <td>Frank Darabont</td>\n",
       "            <td>Drama</td>\n",
       "            <td>9.3</td>\n",
       "            <td>7</td>\n",
       "            <td>58.7</td>\n",
       "        </tr>\n",
       "        <tr>\n",
       "            <td>2</td>\n",
       "            <td>The Godfather</td>\n",
       "            <td>1972</td>\n",
       "            <td>Francis Ford Coppola</td>\n",
       "            <td>Crime</td>\n",
       "            <td>9.2</td>\n",
       "            <td>7</td>\n",
       "            <td>245.7</td>\n",
       "        </tr>\n",
       "        <tr>\n",
       "            <td>3</td>\n",
       "            <td>The Dark Knight</td>\n",
       "            <td>2008</td>\n",
       "            <td>Christopher Nolan</td>\n",
       "            <td>Action</td>\n",
       "            <td>9.0</td>\n",
       "            <td>8</td>\n",
       "            <td>534.8</td>\n",
       "        </tr>\n",
       "        <tr>\n",
       "            <td>4</td>\n",
       "            <td>12 Angry Men</td>\n",
       "            <td>1957</td>\n",
       "            <td>Sidney Lumet</td>\n",
       "            <td>Drama</td>\n",
       "            <td>8.9</td>\n",
       "            <td>3</td>\n",
       "            <td>4.5</td>\n",
       "        </tr>\n",
       "        <tr>\n",
       "            <td>5</td>\n",
       "            <td>Schindler&#x27;s List</td>\n",
       "            <td>1993</td>\n",
       "            <td>Steven Spielberg</td>\n",
       "            <td>Historical Drama</td>\n",
       "            <td>8.9</td>\n",
       "            <td>7</td>\n",
       "            <td>321.2</td>\n",
       "        </tr>\n",
       "        <tr>\n",
       "            <td>6</td>\n",
       "            <td>Pulp Fiction</td>\n",
       "            <td>1994</td>\n",
       "            <td>Quentin Tarantino</td>\n",
       "            <td>Crime</td>\n",
       "            <td>8.9</td>\n",
       "            <td>7</td>\n",
       "            <td>213.9</td>\n",
       "        </tr>\n",
       "        <tr>\n",
       "            <td>7</td>\n",
       "            <td>The Lord of the Rings: The Return of the King</td>\n",
       "            <td>2003</td>\n",
       "            <td>Peter Jackson</td>\n",
       "            <td>Fantasy</td>\n",
       "            <td>8.9</td>\n",
       "            <td>11</td>\n",
       "            <td>555.8</td>\n",
       "        </tr>\n",
       "        <tr>\n",
       "            <td>8</td>\n",
       "            <td>Fight Club</td>\n",
       "            <td>1999</td>\n",
       "            <td>David Fincher</td>\n",
       "            <td>Thriller</td>\n",
       "            <td>8.8</td>\n",
       "            <td>2</td>\n",
       "            <td>109.5</td>\n",
       "        </tr>\n",
       "        <tr>\n",
       "            <td>9</td>\n",
       "            <td>The Good the Bad and the Ugly</td>\n",
       "            <td>1966</td>\n",
       "            <td>Sergio Leone</td>\n",
       "            <td>Western</td>\n",
       "            <td>8.8</td>\n",
       "            <td>2</td>\n",
       "            <td>161.0</td>\n",
       "        </tr>\n",
       "        <tr>\n",
       "            <td>10</td>\n",
       "            <td>Citizen Kane</td>\n",
       "            <td>1941</td>\n",
       "            <td>Orson Welles</td>\n",
       "            <td>Drama</td>\n",
       "            <td>8.7</td>\n",
       "            <td>9</td>\n",
       "            <td>5.9</td>\n",
       "        </tr>\n",
       "        <tr>\n",
       "            <td>11</td>\n",
       "            <td>Forrest Gump</td>\n",
       "            <td>1994</td>\n",
       "            <td>Robert Zemeckis</td>\n",
       "            <td>Drama</td>\n",
       "            <td>8.8</td>\n",
       "            <td>6</td>\n",
       "            <td>329.7</td>\n",
       "        </tr>\n",
       "        <tr>\n",
       "            <td>12</td>\n",
       "            <td>Whiplash</td>\n",
       "            <td>2014</td>\n",
       "            <td>Damien Chazelle</td>\n",
       "            <td>Drama</td>\n",
       "            <td>8.8</td>\n",
       "            <td>3</td>\n",
       "            <td>48.9</td>\n",
       "        </tr>\n",
       "        <tr>\n",
       "            <td>13</td>\n",
       "            <td>Inception</td>\n",
       "            <td>2010</td>\n",
       "            <td>Christopher Nolan</td>\n",
       "            <td>Thriller</td>\n",
       "            <td>8.8</td>\n",
       "            <td>4</td>\n",
       "            <td>828.3</td>\n",
       "        </tr>\n",
       "        <tr>\n",
       "            <td>14</td>\n",
       "            <td>The Silence of the Lambs</td>\n",
       "            <td>1991</td>\n",
       "            <td>Jonathan Demme</td>\n",
       "            <td>Thriller</td>\n",
       "            <td>8.6</td>\n",
       "            <td>5</td>\n",
       "            <td>272.9</td>\n",
       "        </tr>\n",
       "        <tr>\n",
       "            <td>15</td>\n",
       "            <td>Casablanca</td>\n",
       "            <td>1942</td>\n",
       "            <td>Michael Curtiz</td>\n",
       "            <td>Romance</td>\n",
       "            <td>8.6</td>\n",
       "            <td>3</td>\n",
       "            <td>3.4</td>\n",
       "        </tr>\n",
       "        <tr>\n",
       "            <td>17</td>\n",
       "            <td>Seven Samurai</td>\n",
       "            <td>1954</td>\n",
       "            <td>Akira Kurosawa</td>\n",
       "            <td>Action</td>\n",
       "            <td>8.6</td>\n",
       "            <td>0</td>\n",
       "            <td>2.6</td>\n",
       "        </tr>\n",
       "        <tr>\n",
       "            <td>18</td>\n",
       "            <td>Rear Window</td>\n",
       "            <td>1954</td>\n",
       "            <td>Alfred Hitchcock</td>\n",
       "            <td>Thriller</td>\n",
       "            <td>8.6</td>\n",
       "            <td>4</td>\n",
       "            <td>18.0</td>\n",
       "        </tr>\n",
       "        <tr>\n",
       "            <td>19</td>\n",
       "            <td>Psycho</td>\n",
       "            <td>1960</td>\n",
       "            <td>Alfred Hitchcock</td>\n",
       "            <td>Thriller</td>\n",
       "            <td>8.6</td>\n",
       "            <td>4</td>\n",
       "            <td>32.2</td>\n",
       "        </tr>\n",
       "        <tr>\n",
       "            <td>20</td>\n",
       "            <td>2001: A Space Odyssey</td>\n",
       "            <td>1968</td>\n",
       "            <td>Stanley Kubrick</td>\n",
       "            <td>Sci-Fi</td>\n",
       "            <td>8.3</td>\n",
       "            <td>1</td>\n",
       "            <td>64.3</td>\n",
       "        </tr>\n",
       "        <tr>\n",
       "            <td>21</td>\n",
       "            <td>North by Northwest</td>\n",
       "            <td>1959</td>\n",
       "            <td>Alfred Hitchcock</td>\n",
       "            <td>Thriller</td>\n",
       "            <td>8.3</td>\n",
       "            <td>4</td>\n",
       "            <td>19.8</td>\n",
       "        </tr>\n",
       "        <tr>\n",
       "            <td>22</td>\n",
       "            <td>Vertigo</td>\n",
       "            <td>1958</td>\n",
       "            <td>Alfred Hitchcock</td>\n",
       "            <td>Mystery</td>\n",
       "            <td>8.3</td>\n",
       "            <td>2</td>\n",
       "            <td>6.1</td>\n",
       "        </tr>\n",
       "        <tr>\n",
       "            <td>23</td>\n",
       "            <td>Double Indemnity</td>\n",
       "            <td>1944</td>\n",
       "            <td>Billy Wilder</td>\n",
       "            <td>Film Noir</td>\n",
       "            <td>8.3</td>\n",
       "            <td>7</td>\n",
       "            <td>6.6</td>\n",
       "        </tr>\n",
       "        <tr>\n",
       "            <td>24</td>\n",
       "            <td>Sunset Boulevard</td>\n",
       "            <td>1950</td>\n",
       "            <td>Billy Wilder</td>\n",
       "            <td>Film Noir</td>\n",
       "            <td>8.3</td>\n",
       "            <td>3</td>\n",
       "            <td>1.1</td>\n",
       "        </tr>\n",
       "        <tr>\n",
       "            <td>25</td>\n",
       "            <td>Singin&#x27; in the Rain</td>\n",
       "            <td>1952</td>\n",
       "            <td>Gene Kelly &amp; Stanley Donen</td>\n",
       "            <td>Musical</td>\n",
       "            <td>8.3</td>\n",
       "            <td>3</td>\n",
       "            <td>7.8</td>\n",
       "        </tr>\n",
       "        <tr>\n",
       "            <td>26</td>\n",
       "            <td>Some Like It Hot</td>\n",
       "            <td>1959</td>\n",
       "            <td>Billy Wilder</td>\n",
       "            <td>Comedy</td>\n",
       "            <td>8.2</td>\n",
       "            <td>1</td>\n",
       "            <td>5.8</td>\n",
       "        </tr>\n",
       "        <tr>\n",
       "            <td>27</td>\n",
       "            <td>Rashomon</td>\n",
       "            <td>1950</td>\n",
       "            <td>Akira Kurosawa</td>\n",
       "            <td>Drama</td>\n",
       "            <td>8.2</td>\n",
       "            <td>0</td>\n",
       "            <td>6.7</td>\n",
       "        </tr>\n",
       "        <tr>\n",
       "            <td>28</td>\n",
       "            <td>The Bridge on the River Kwai</td>\n",
       "            <td>1957</td>\n",
       "            <td>David Lean</td>\n",
       "            <td>War</td>\n",
       "            <td>8.2</td>\n",
       "            <td>7</td>\n",
       "            <td>18.2</td>\n",
       "        </tr>\n",
       "        <tr>\n",
       "            <td>29</td>\n",
       "            <td>12 Monkeys</td>\n",
       "            <td>1995</td>\n",
       "            <td>Terry Gilliam</td>\n",
       "            <td>Sci-Fi</td>\n",
       "            <td>8.1</td>\n",
       "            <td>2</td>\n",
       "            <td>168.8</td>\n",
       "        </tr>\n",
       "        <tr>\n",
       "            <td>30</td>\n",
       "            <td>The Apartment</td>\n",
       "            <td>1960</td>\n",
       "            <td>Billy Wilder</td>\n",
       "            <td>Romance</td>\n",
       "            <td>8.1</td>\n",
       "            <td>5</td>\n",
       "            <td>29.6</td>\n",
       "        </tr>\n",
       "    </tbody>\n",
       "</table>"
      ],
      "text/plain": [
       "[(1, 'The Shawshank Redemption', 1994, 'Frank Darabont', 'Drama', 9.3, 7, 58.7),\n",
       " (2, 'The Godfather', 1972, 'Francis Ford Coppola', 'Crime', 9.2, 7, 245.7),\n",
       " (3, 'The Dark Knight', 2008, 'Christopher Nolan', 'Action', 9.0, 8, 534.8),\n",
       " (4, '12 Angry Men', 1957, 'Sidney Lumet', 'Drama', 8.9, 3, 4.5),\n",
       " (5, \"Schindler's List\", 1993, 'Steven Spielberg', 'Historical Drama', 8.9, 7, 321.2),\n",
       " (6, 'Pulp Fiction', 1994, 'Quentin Tarantino', 'Crime', 8.9, 7, 213.9),\n",
       " (7, 'The Lord of the Rings: The Return of the King', 2003, 'Peter Jackson', 'Fantasy', 8.9, 11, 555.8),\n",
       " (8, 'Fight Club', 1999, 'David Fincher', 'Thriller', 8.8, 2, 109.5),\n",
       " (9, 'The Good the Bad and the Ugly', 1966, 'Sergio Leone', 'Western', 8.8, 2, 161.0),\n",
       " (10, 'Citizen Kane', 1941, 'Orson Welles', 'Drama', 8.7, 9, 5.9),\n",
       " (11, 'Forrest Gump', 1994, 'Robert Zemeckis', 'Drama', 8.8, 6, 329.7),\n",
       " (12, 'Whiplash', 2014, 'Damien Chazelle', 'Drama', 8.8, 3, 48.9),\n",
       " (13, 'Inception', 2010, 'Christopher Nolan', 'Thriller', 8.8, 4, 828.3),\n",
       " (14, 'The Silence of the Lambs', 1991, 'Jonathan Demme', 'Thriller', 8.6, 5, 272.9),\n",
       " (15, 'Casablanca', 1942, 'Michael Curtiz', 'Romance', 8.6, 3, 3.4),\n",
       " (17, 'Seven Samurai', 1954, 'Akira Kurosawa', 'Action', 8.6, 0, 2.6),\n",
       " (18, 'Rear Window', 1954, 'Alfred Hitchcock', 'Thriller', 8.6, 4, 18.0),\n",
       " (19, 'Psycho', 1960, 'Alfred Hitchcock', 'Thriller', 8.6, 4, 32.2),\n",
       " (20, '2001: A Space Odyssey', 1968, 'Stanley Kubrick', 'Sci-Fi', 8.3, 1, 64.3),\n",
       " (21, 'North by Northwest', 1959, 'Alfred Hitchcock', 'Thriller', 8.3, 4, 19.8),\n",
       " (22, 'Vertigo', 1958, 'Alfred Hitchcock', 'Mystery', 8.3, 2, 6.1),\n",
       " (23, 'Double Indemnity', 1944, 'Billy Wilder', 'Film Noir', 8.3, 7, 6.6),\n",
       " (24, 'Sunset Boulevard', 1950, 'Billy Wilder', 'Film Noir', 8.3, 3, 1.1),\n",
       " (25, \"Singin' in the Rain\", 1952, 'Gene Kelly & Stanley Donen', 'Musical', 8.3, 3, 7.8),\n",
       " (26, 'Some Like It Hot', 1959, 'Billy Wilder', 'Comedy', 8.2, 1, 5.8),\n",
       " (27, 'Rashomon', 1950, 'Akira Kurosawa', 'Drama', 8.2, 0, 6.7),\n",
       " (28, 'The Bridge on the River Kwai', 1957, 'David Lean', 'War', 8.2, 7, 18.2),\n",
       " (29, '12 Monkeys', 1995, 'Terry Gilliam', 'Sci-Fi', 8.1, 2, 168.8),\n",
       " (30, 'The Apartment', 1960, 'Billy Wilder', 'Romance', 8.1, 5, 29.6)]"
      ]
     },
     "execution_count": 6,
     "metadata": {},
     "output_type": "execute_result"
    }
   ],
   "source": [
    "%%sql\n",
    "SELECT * FROM movies;"
   ]
  },
  {
   "cell_type": "markdown",
   "id": "1192ea9e",
   "metadata": {
    "id": "1192ea9e"
   },
   "source": [
    "## Question 2: **Answer**"
   ]
  },
  {
   "cell_type": "code",
   "execution_count": 7,
   "id": "sGcO9EOedqh8",
   "metadata": {
    "colab": {
     "base_uri": "https://localhost:8080/",
     "height": 115
    },
    "executionInfo": {
     "elapsed": 85,
     "status": "ok",
     "timestamp": 1752930793477,
     "user": {
      "displayName": "Benjamin Bennett Alexander",
      "userId": "14614847693800833280"
     },
     "user_tz": -180
    },
    "id": "sGcO9EOedqh8",
    "outputId": "46f4a7db-d002-4425-85b3-006ee3280ccd"
   },
   "outputs": [
    {
     "name": "stdout",
     "output_type": "stream",
     "text": [
      " * sqlite:///movies_data.db\n",
      "Done.\n"
     ]
    },
    {
     "data": {
      "text/html": [
       "<table>\n",
       "    <thead>\n",
       "        <tr>\n",
       "            <th>director</th>\n",
       "            <th>avg_imdb_rating</th>\n",
       "        </tr>\n",
       "    </thead>\n",
       "    <tbody>\n",
       "        <tr>\n",
       "            <td>Frank Darabont</td>\n",
       "            <td>9.3</td>\n",
       "        </tr>\n",
       "        <tr>\n",
       "            <td>Terry Gilliam</td>\n",
       "            <td>8.1</td>\n",
       "        </tr>\n",
       "    </tbody>\n",
       "</table>"
      ],
      "text/plain": [
       "[('Frank Darabont', 9.3), ('Terry Gilliam', 8.1)]"
      ]
     },
     "execution_count": 7,
     "metadata": {},
     "output_type": "execute_result"
    }
   ],
   "source": [
    "%%sql\n",
    "-- CTE for calculating each director average\n",
    "WITH director_avg_rating AS (\n",
    "    SELECT\n",
    "        director,\n",
    "        ROUND(AVG(imdb_rating), 2) AS avg_imdb_rating\n",
    "    FROM movies\n",
    "    GROUP BY director\n",
    ")\n",
    "-- main query to return directors and average ratings\n",
    "SELECT\n",
    "    director,\n",
    "    avg_imdb_rating\n",
    "FROM director_avg_rating\n",
    "WHERE avg_imdb_rating = (SELECT MAX(avg_imdb_rating) FROM director_avg_rating)\n",
    "      OR avg_imdb_rating = (SELECT MIN(avg_imdb_rating) FROM director_avg_rating);"
   ]
  },
  {
   "cell_type": "markdown",
   "id": "c7630c24",
   "metadata": {
    "id": "c7630c24"
   },
   "source": [
    "## Question 3: **Answer**"
   ]
  },
  {
   "cell_type": "code",
   "execution_count": 8,
   "id": "qx3xKnkJT_Db",
   "metadata": {
    "colab": {
     "base_uri": "https://localhost:8080/",
     "height": 136
    },
    "executionInfo": {
     "elapsed": 153,
     "status": "ok",
     "timestamp": 1752930793595,
     "user": {
      "displayName": "Benjamin Bennett Alexander",
      "userId": "14614847693800833280"
     },
     "user_tz": -180
    },
    "id": "qx3xKnkJT_Db",
    "outputId": "ee9fbeb4-043d-4588-ccb4-ce5a8daa5188"
   },
   "outputs": [
    {
     "name": "stdout",
     "output_type": "stream",
     "text": [
      " * sqlite:///movies_data.db\n",
      "Done.\n"
     ]
    },
    {
     "data": {
      "text/html": [
       "<table>\n",
       "    <thead>\n",
       "        <tr>\n",
       "            <th>title</th>\n",
       "            <th>year</th>\n",
       "            <th>imdb_rating</th>\n",
       "            <th>box_office_gross</th>\n",
       "        </tr>\n",
       "    </thead>\n",
       "    <tbody>\n",
       "        <tr>\n",
       "            <td>12 Angry Men</td>\n",
       "            <td>1957</td>\n",
       "            <td>8.9</td>\n",
       "            <td>4.5</td>\n",
       "        </tr>\n",
       "        <tr>\n",
       "            <td>Seven Samurai</td>\n",
       "            <td>1954</td>\n",
       "            <td>8.6</td>\n",
       "            <td>2.6</td>\n",
       "        </tr>\n",
       "        <tr>\n",
       "            <td>Casablanca</td>\n",
       "            <td>1942</td>\n",
       "            <td>8.6</td>\n",
       "            <td>3.4</td>\n",
       "        </tr>\n",
       "    </tbody>\n",
       "</table>"
      ],
      "text/plain": [
       "[('12 Angry Men', 1957, 8.9, 4.5),\n",
       " ('Seven Samurai', 1954, 8.6, 2.6),\n",
       " ('Casablanca', 1942, 8.6, 3.4)]"
      ]
     },
     "execution_count": 8,
     "metadata": {},
     "output_type": "execute_result"
    }
   ],
   "source": [
    "%%sql\n",
    "SELECT\n",
    "    title,\n",
    "    year,\n",
    "    imdb_rating,\n",
    "    box_office_gross\n",
    "FROM movies\n",
    "WHERE imdb_rating > 8.5\n",
    "    AND box_office_gross < 5\n",
    "ORDER BY imdb_rating DESC, box_office_gross ASC;"
   ]
  },
  {
   "cell_type": "markdown",
   "id": "0b460b0f",
   "metadata": {
    "id": "0b460b0f"
   },
   "source": [
    "## Question 4: **Answer**"
   ]
  },
  {
   "cell_type": "code",
   "execution_count": 9,
   "id": "m6dCT1VfgiNH",
   "metadata": {
    "colab": {
     "base_uri": "https://localhost:8080/",
     "height": 136
    },
    "executionInfo": {
     "elapsed": 49,
     "status": "ok",
     "timestamp": 1752930793648,
     "user": {
      "displayName": "Benjamin Bennett Alexander",
      "userId": "14614847693800833280"
     },
     "user_tz": -180
    },
    "id": "m6dCT1VfgiNH",
    "outputId": "74b06f5f-ef77-4eac-88c4-9787197b61ca"
   },
   "outputs": [
    {
     "name": "stdout",
     "output_type": "stream",
     "text": [
      " * sqlite:///movies_data.db\n",
      "Done.\n"
     ]
    },
    {
     "data": {
      "text/html": [
       "<table>\n",
       "    <thead>\n",
       "        <tr>\n",
       "            <th>title</th>\n",
       "            <th>year_of_release</th>\n",
       "            <th>director</th>\n",
       "            <th>box_office_gross</th>\n",
       "            <th>academy_awards</th>\n",
       "            <th>percentage_of_total_gross</th>\n",
       "        </tr>\n",
       "    </thead>\n",
       "    <tbody>\n",
       "        <tr>\n",
       "            <td>The Lord of the Rings: The Return of the King</td>\n",
       "            <td>2003</td>\n",
       "            <td>Peter Jackson</td>\n",
       "            <td>&nbsp;&nbsp;&nbsp;&nbsp;&nbsp;&nbsp;&nbsp;&nbsp;&nbsp;&nbsp;&nbsp;&nbsp;&nbsp;&nbsp;&nbsp;555.8</td>\n",
       "            <td>11</td>\n",
       "            <td>13.62%</td>\n",
       "        </tr>\n",
       "        <tr>\n",
       "            <td>Citizen Kane</td>\n",
       "            <td>1941</td>\n",
       "            <td>Orson Welles</td>\n",
       "            <td>&nbsp;&nbsp;&nbsp;&nbsp;&nbsp;&nbsp;&nbsp;&nbsp;&nbsp;&nbsp;&nbsp;&nbsp;&nbsp;&nbsp;&nbsp;&nbsp;&nbsp;5.9</td>\n",
       "            <td>9</td>\n",
       "            <td>0.14%</td>\n",
       "        </tr>\n",
       "        <tr>\n",
       "            <td>The Dark Knight</td>\n",
       "            <td>2008</td>\n",
       "            <td>Christopher Nolan</td>\n",
       "            <td>&nbsp;&nbsp;&nbsp;&nbsp;&nbsp;&nbsp;&nbsp;&nbsp;&nbsp;&nbsp;&nbsp;&nbsp;&nbsp;&nbsp;&nbsp;534.8</td>\n",
       "            <td>8</td>\n",
       "            <td>13.1%</td>\n",
       "        </tr>\n",
       "    </tbody>\n",
       "</table>"
      ],
      "text/plain": [
       "[('The Lord of the Rings: The Return of the King', 2003, 'Peter Jackson', '               555.8', 11, '13.62%'),\n",
       " ('Citizen Kane', 1941, 'Orson Welles', '                 5.9', 9, '0.14%'),\n",
       " ('The Dark Knight', 2008, 'Christopher Nolan', '               534.8', 8, '13.1%')]"
      ]
     },
     "execution_count": 9,
     "metadata": {},
     "output_type": "execute_result"
    }
   ],
   "source": [
    "%%sql\n",
    "-- Ranking the top three movies\n",
    "WITH ranked_movies AS (\n",
    "    SELECT\n",
    "        title,\n",
    "        year AS year_of_release,\n",
    "        director,\n",
    "        box_office_gross,\n",
    "        academy_awards,\n",
    "        ROUND(box_office_gross * 100.0 / (SELECT SUM(box_office_gross)\n",
    "                                          FROM movies), 2) || '%'\n",
    "        AS percentage_of_total_gross,\n",
    "        DENSE_RANK() OVER (ORDER BY academy_awards DESC) AS rank\n",
    "    FROM movies\n",
    ")\n",
    "-- Returning the top three ranked movies\n",
    "SELECT\n",
    "    title,\n",
    "    year_of_release,\n",
    "    director,\n",
    "    printf('%20s', box_office_gross) AS box_office_gross,\n",
    "    academy_awards,\n",
    "    percentage_of_total_gross\n",
    "FROM ranked_movies\n",
    "WHERE rank <= 3  -- Include all movies ranked in the top 3 (handling ties)\n",
    "ORDER BY rank, box_office_gross DESC;"
   ]
  },
  {
   "cell_type": "markdown",
   "id": "4f06546a",
   "metadata": {
    "id": "4f06546a"
   },
   "source": [
    "## Question 5: **Answer**"
   ]
  },
  {
   "cell_type": "code",
   "execution_count": 10,
   "id": "096d0fc5",
   "metadata": {
    "colab": {
     "base_uri": "https://localhost:8080/",
     "height": 94
    },
    "executionInfo": {
     "elapsed": 172,
     "status": "ok",
     "timestamp": 1752930793831,
     "user": {
      "displayName": "Benjamin Bennett Alexander",
      "userId": "14614847693800833280"
     },
     "user_tz": -180
    },
    "id": "096d0fc5",
    "outputId": "d0a90249-3bfd-47b1-d437-2063b3045530"
   },
   "outputs": [
    {
     "name": "stdout",
     "output_type": "stream",
     "text": [
      " * sqlite:///movies_data.db\n",
      "Done.\n"
     ]
    },
    {
     "data": {
      "text/html": [
       "<table>\n",
       "    <thead>\n",
       "        <tr>\n",
       "            <th>avg_gross_min_awards</th>\n",
       "            <th>min_academy_awards_count</th>\n",
       "            <th>avg_gross_max_awards</th>\n",
       "            <th>max_academy_awards_count</th>\n",
       "        </tr>\n",
       "    </thead>\n",
       "    <tbody>\n",
       "        <tr>\n",
       "            <td>4.65</td>\n",
       "            <td>0</td>\n",
       "            <td>555.8</td>\n",
       "            <td>11</td>\n",
       "        </tr>\n",
       "    </tbody>\n",
       "</table>"
      ],
      "text/plain": [
       "[(4.65, 0, 555.8, 11)]"
      ]
     },
     "execution_count": 10,
     "metadata": {},
     "output_type": "execute_result"
    }
   ],
   "source": [
    "%%sql\n",
    "WITH min_max_awards AS (\n",
    "    SELECT\n",
    "        MIN(academy_awards) AS min_awards,\n",
    "        MAX(academy_awards) AS max_awards\n",
    "    FROM movies\n",
    "),\n",
    "-- Average box office gross for movies with min Academy Awards\n",
    "mini_gross_awards AS (\n",
    "    SELECT\n",
    "        ROUND(AVG(box_office_gross),2) AS avg_gross_min_awards,\n",
    "        min_awards AS min_academy_awards_count\n",
    "    FROM movies, min_max_awards\n",
    "    WHERE academy_awards = min_awards\n",
    "),\n",
    "-- Average box office gross for movies with max Academy Awards\n",
    "max_gross_awards AS (\n",
    "    SELECT\n",
    "        ROUND(AVG(box_office_gross), 2) AS avg_gross_max_awards,\n",
    "        max_awards AS max_academy_awards_count\n",
    "    FROM movies, min_max_awards\n",
    "    WHERE academy_awards = max_awards\n",
    ")\n",
    "-- Combine the results from both CTEs\n",
    "SELECT *\n",
    "FROM mini_gross_awards\n",
    "CROSS JOIN max_gross_awards;"
   ]
  },
  {
   "cell_type": "markdown",
   "id": "690f8945",
   "metadata": {
    "id": "690f8945"
   },
   "source": [
    "#### Another method"
   ]
  },
  {
   "cell_type": "code",
   "execution_count": 11,
   "id": "08334d4e",
   "metadata": {
    "colab": {
     "base_uri": "https://localhost:8080/",
     "height": 94
    },
    "executionInfo": {
     "elapsed": 58,
     "status": "ok",
     "timestamp": 1752930793906,
     "user": {
      "displayName": "Benjamin Bennett Alexander",
      "userId": "14614847693800833280"
     },
     "user_tz": -180
    },
    "id": "08334d4e",
    "outputId": "1344d473-6a55-4937-d56c-697cf6fe1aae"
   },
   "outputs": [
    {
     "name": "stdout",
     "output_type": "stream",
     "text": [
      " * sqlite:///movies_data.db\n",
      "Done.\n"
     ]
    },
    {
     "data": {
      "text/html": [
       "<table>\n",
       "    <thead>\n",
       "        <tr>\n",
       "            <th>avg_gross_min_awards</th>\n",
       "            <th>min_academy_awards_count</th>\n",
       "            <th>avg_gross_max_awards</th>\n",
       "            <th>max_academy_awards</th>\n",
       "        </tr>\n",
       "    </thead>\n",
       "    <tbody>\n",
       "        <tr>\n",
       "            <td>4.65</td>\n",
       "            <td>0</td>\n",
       "            <td>555.8</td>\n",
       "            <td>11</td>\n",
       "        </tr>\n",
       "    </tbody>\n",
       "</table>"
      ],
      "text/plain": [
       "[(4.65, 0, 555.8, 11)]"
      ]
     },
     "execution_count": 11,
     "metadata": {},
     "output_type": "execute_result"
    }
   ],
   "source": [
    "%%sql\n",
    "SELECT\n",
    "    -- Subquery to calculate avg gross for zero awards movies\n",
    "    (SELECT\n",
    "         ROUND(AVG(box_office_gross), 2)\n",
    "     FROM movies\n",
    "     WHERE academy_awards = (SELECT MIN(academy_awards) FROM movies))\n",
    "                            AS avg_gross_min_awards,\n",
    "\n",
    "    -- Subquery to retain minimum academy awards\n",
    "    (SELECT\n",
    "         academy_awards\n",
    "     FROM movies\n",
    "     WHERE academy_awards = (SELECT MIN(academy_awards) FROM movies))\n",
    "                            AS min_academy_awards_count,\n",
    "\n",
    "     -- Subquery to calculate avg gross for movies with max awards\n",
    "    (SELECT\n",
    "         ROUND(AVG(box_office_gross),2)\n",
    "     FROM  movies\n",
    "     WHERE academy_awards = (SELECT MAX(academy_awards) FROM movies))\n",
    "     AS avg_gross_max_awards,\n",
    "\n",
    "     -- Subquery to return max awards\n",
    "    (SELECT\n",
    "         MAX(academy_awards)\n",
    "    FROM movies) AS max_academy_awards;"
   ]
  },
  {
   "cell_type": "markdown",
   "id": "371299f9",
   "metadata": {
    "id": "371299f9"
   },
   "source": [
    "## Question 6: **Answer**"
   ]
  },
  {
   "cell_type": "code",
   "execution_count": 12,
   "id": "3defae93",
   "metadata": {
    "colab": {
     "base_uri": "https://localhost:8080/",
     "height": 94
    },
    "executionInfo": {
     "elapsed": 31,
     "status": "ok",
     "timestamp": 1752930793942,
     "user": {
      "displayName": "Benjamin Bennett Alexander",
      "userId": "14614847693800833280"
     },
     "user_tz": -180
    },
    "id": "3defae93",
    "outputId": "1646a9e5-92ee-4a3e-e94d-a7f45e7b3255"
   },
   "outputs": [
    {
     "name": "stdout",
     "output_type": "stream",
     "text": [
      " * sqlite:///movies_data.db\n",
      "Done.\n"
     ]
    },
    {
     "data": {
      "text/html": [
       "<table>\n",
       "    <thead>\n",
       "        <tr>\n",
       "            <th>avg_imdb_movies_of_the_50s</th>\n",
       "            <th>avg_imdb_movies_of_the_60s</th>\n",
       "        </tr>\n",
       "    </thead>\n",
       "    <tbody>\n",
       "        <tr>\n",
       "            <td>8.9</td>\n",
       "            <td>8.3</td>\n",
       "        </tr>\n",
       "    </tbody>\n",
       "</table>"
      ],
      "text/plain": [
       "[(8.9, 8.3)]"
      ]
     },
     "execution_count": 12,
     "metadata": {},
     "output_type": "execute_result"
    }
   ],
   "source": [
    "%%sql\n",
    "SELECT\n",
    "-- CTE for calculating avg for movies in 50s\n",
    "    (SELECT\n",
    "         AVG(imdb_rating) AS avg_imdb_50s\n",
    "    FROM movies\n",
    "    WHERE year LIKE '%195%'\n",
    "    GROUP BY title) AS avg_imdb_movies_of_the_50s,\n",
    "\n",
    "-- CTE for calculating avg for movies in 60s\n",
    "    (SELECT\n",
    "         AVG(imdb_rating) AS avg_imdb_60s\n",
    "    FROM movies\n",
    "WHERE year LIKE '%196%'\n",
    "GROUP BY title) AS avg_imdb_movies_of_the_60s;"
   ]
  },
  {
   "cell_type": "code",
   "execution_count": 12,
   "id": "638ac47f",
   "metadata": {
    "executionInfo": {
     "elapsed": 13,
     "status": "ok",
     "timestamp": 1752930793978,
     "user": {
      "displayName": "Benjamin Bennett Alexander",
      "userId": "14614847693800833280"
     },
     "user_tz": -180
    },
    "id": "638ac47f"
   },
   "outputs": [],
   "source": []
  },
  {
   "cell_type": "code",
   "execution_count": 13,
   "id": "-iKh9lAnluBj",
   "metadata": {
    "colab": {
     "base_uri": "https://localhost:8080/",
     "height": 94
    },
    "executionInfo": {
     "elapsed": 31,
     "status": "ok",
     "timestamp": 1752930794038,
     "user": {
      "displayName": "Benjamin Bennett Alexander",
      "userId": "14614847693800833280"
     },
     "user_tz": -180
    },
    "id": "-iKh9lAnluBj",
    "outputId": "f744107d-9304-4e02-d21b-5a6ff16c5dfc"
   },
   "outputs": [
    {
     "name": "stdout",
     "output_type": "stream",
     "text": [
      " * sqlite:///movies_data.db\n",
      "Done.\n"
     ]
    },
    {
     "data": {
      "text/html": [
       "<table>\n",
       "    <thead>\n",
       "        <tr>\n",
       "            <th>avg_imdb_movies_of_the_50s</th>\n",
       "            <th>avg_imdb_movies_of_the_60s</th>\n",
       "        </tr>\n",
       "    </thead>\n",
       "    <tbody>\n",
       "        <tr>\n",
       "            <td>8.9</td>\n",
       "            <td>8.3</td>\n",
       "        </tr>\n",
       "    </tbody>\n",
       "</table>"
      ],
      "text/plain": [
       "[(8.9, 8.3)]"
      ]
     },
     "execution_count": 13,
     "metadata": {},
     "output_type": "execute_result"
    }
   ],
   "source": [
    "%%sql\n",
    "SELECT\n",
    "-- CTE for calculating avg for movies in 50s\n",
    "    (SELECT\n",
    "         AVG(imdb_rating) AS avg_imdb_50s\n",
    "    FROM movies\n",
    "    WHERE year BETWEEN 1950 AND 1959\n",
    "    GROUP BY title) AS avg_imdb_movies_of_the_50s,\n",
    "\n",
    "-- CTE for calculating avg for movies in 60s\n",
    "    (SELECT\n",
    "         AVG(imdb_rating) AS avg_imdb_60s\n",
    "    FROM movies\n",
    "    WHERE year BETWEEN 1960 AND 1969\n",
    "GROUP BY title) AS avg_imdb_movies_of_the_60s;"
   ]
  }
 ],
 "metadata": {
  "colab": {
   "provenance": []
  },
  "kernelspec": {
   "display_name": "Python 3 (ipykernel)",
   "language": "python",
   "name": "python3"
  },
  "language_info": {
   "codemirror_mode": {
    "name": "ipython",
    "version": 3
   },
   "file_extension": ".py",
   "mimetype": "text/x-python",
   "name": "python",
   "nbconvert_exporter": "python",
   "pygments_lexer": "ipython3",
   "version": "3.10.5"
  }
 },
 "nbformat": 4,
 "nbformat_minor": 5
}

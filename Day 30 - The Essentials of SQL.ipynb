{
 "cells": [
  {
   "cell_type": "markdown",
   "id": "inRRhI0IlvTE",
   "metadata": {
    "id": "inRRhI0IlvTE"
   },
   "source": [
    "## Question 1: **Answer**"
   ]
  },
  {
   "cell_type": "code",
   "execution_count": 1,
   "id": "bfe99600",
   "metadata": {
    "executionInfo": {
     "elapsed": 526,
     "status": "ok",
     "timestamp": 1752926283977,
     "user": {
      "displayName": "Benjamin Bennett Alexander",
      "userId": "14614847693800833280"
     },
     "user_tz": -180
    },
    "id": "bfe99600"
   },
   "outputs": [],
   "source": [
    "import pandas as pd\n",
    "import sqlite3"
   ]
  },
  {
   "cell_type": "code",
   "execution_count": null,
   "id": "f005b67d",
   "metadata": {
    "executionInfo": {
     "elapsed": 1133,
     "status": "ok",
     "timestamp": 1752926285137,
     "user": {
      "displayName": "Benjamin Bennett Alexander",
      "userId": "14614847693800833280"
     },
     "user_tz": -180
    },
    "id": "f005b67d"
   },
   "outputs": [],
   "source": [
    "def add_data_to_database(input_data):\n",
    "    try:\n",
    "        data = pd.read_csv(input_data)\n",
    "        engine = sqlite3.connect('library_records.db')\n",
    "        data.to_sql('library', con=engine, index = False)\n",
    "    except Exception as e:\n",
    "        print(f\"Error: {e}\")\n",
    "\n",
    "data = \"/content/library_data.csv\"\n",
    "add_data_to_database(data)"
   ]
  },
  {
   "cell_type": "code",
   "execution_count": 3,
   "id": "1752edda",
   "metadata": {
    "executionInfo": {
     "elapsed": 142,
     "status": "ok",
     "timestamp": 1752926285286,
     "user": {
      "displayName": "Benjamin Bennett Alexander",
      "userId": "14614847693800833280"
     },
     "user_tz": -180
    },
    "id": "1752edda"
   },
   "outputs": [],
   "source": [
    "# Loading SQL extension\n",
    "%load_ext sql"
   ]
  },
  {
   "cell_type": "code",
   "execution_count": 4,
   "id": "eecda480",
   "metadata": {
    "executionInfo": {
     "elapsed": 27,
     "status": "ok",
     "timestamp": 1752926285319,
     "user": {
      "displayName": "Benjamin Bennett Alexander",
      "userId": "14614847693800833280"
     },
     "user_tz": -180
    },
    "id": "eecda480"
   },
   "outputs": [],
   "source": [
    "# Connecting to the database\n",
    "%sql sqlite:///library_records.db"
   ]
  },
  {
   "cell_type": "code",
   "execution_count": 5,
   "id": "sq210xUAQ0_m",
   "metadata": {
    "executionInfo": {
     "elapsed": 115,
     "status": "ok",
     "timestamp": 1752926285437,
     "user": {
      "displayName": "Benjamin Bennett Alexander",
      "userId": "14614847693800833280"
     },
     "user_tz": -180
    },
    "id": "sq210xUAQ0_m"
   },
   "outputs": [],
   "source": [
    "# Default to duplicated style\n",
    "%config SqlMagic.style = '_DEPRECATED_DEFAULT'"
   ]
  },
  {
   "cell_type": "code",
   "execution_count": 6,
   "id": "2d58b123",
   "metadata": {
    "colab": {
     "base_uri": "https://localhost:8080/",
     "height": 177
    },
    "executionInfo": {
     "elapsed": 127,
     "status": "ok",
     "timestamp": 1752926285484,
     "user": {
      "displayName": "Benjamin Bennett Alexander",
      "userId": "14614847693800833280"
     },
     "user_tz": -180
    },
    "id": "2d58b123",
    "outputId": "674354d2-d109-4325-9d2e-bac3e0dab8c4"
   },
   "outputs": [
    {
     "name": "stdout",
     "output_type": "stream",
     "text": [
      " * sqlite:///library_records.db\n",
      "Done.\n"
     ]
    },
    {
     "data": {
      "text/html": [
       "<table>\n",
       "    <thead>\n",
       "        <tr>\n",
       "            <th>library_card_number</th>\n",
       "            <th>borrower_name</th>\n",
       "            <th>age_group</th>\n",
       "            <th>book_title</th>\n",
       "            <th>author</th>\n",
       "            <th>genre</th>\n",
       "            <th>due_date</th>\n",
       "            <th>borrowed_date</th>\n",
       "        </tr>\n",
       "    </thead>\n",
       "    <tbody>\n",
       "        <tr>\n",
       "            <td>1000</td>\n",
       "            <td>Alice Green</td>\n",
       "            <td>Child</td>\n",
       "            <td>The Very Hungry Caterpillar</td>\n",
       "            <td>Eric Carle</td>\n",
       "            <td>Picture Book</td>\n",
       "            <td>2020-02-15</td>\n",
       "            <td>2020-01-20</td>\n",
       "        </tr>\n",
       "        <tr>\n",
       "            <td>1001</td>\n",
       "            <td>Bob Brown</td>\n",
       "            <td>Teen</td>\n",
       "            <td>Percy Jackson &amp; the Olympians: The Lightning Thief</td>\n",
       "            <td>Rick Riordan</td>\n",
       "            <td>Fantasy</td>\n",
       "            <td>2020-02-25</td>\n",
       "            <td>2020-02-10</td>\n",
       "        </tr>\n",
       "        <tr>\n",
       "            <td>1002</td>\n",
       "            <td>Charlie White</td>\n",
       "            <td>Teen</td>\n",
       "            <td>To Kill a Mockingbird</td>\n",
       "            <td>Harper Lee</td>\n",
       "            <td>Classic</td>\n",
       "            <td>2020-03-10</td>\n",
       "            <td>2020-02-05</td>\n",
       "        </tr>\n",
       "        <tr>\n",
       "            <td>1003</td>\n",
       "            <td>David Miller</td>\n",
       "            <td>Adult</td>\n",
       "            <td>The Martian</td>\n",
       "            <td>Andy Weir</td>\n",
       "            <td>Science Fiction</td>\n",
       "            <td>2020-02-20</td>\n",
       "            <td>2020-02-02</td>\n",
       "        </tr>\n",
       "        <tr>\n",
       "            <td>1004</td>\n",
       "            <td>Emily Jones</td>\n",
       "            <td>Adult</td>\n",
       "            <td>Pride and Prejudice</td>\n",
       "            <td>Jane Austen</td>\n",
       "            <td>Classic</td>\n",
       "            <td>2020-02-18</td>\n",
       "            <td>2020-01-30</td>\n",
       "        </tr>\n",
       "    </tbody>\n",
       "</table>"
      ],
      "text/plain": [
       "[(1000, 'Alice Green', 'Child', 'The Very Hungry Caterpillar', 'Eric Carle', 'Picture Book', '2020-02-15', '2020-01-20'),\n",
       " (1001, 'Bob Brown', 'Teen', 'Percy Jackson & the Olympians: The Lightning Thief', 'Rick Riordan', 'Fantasy', '2020-02-25', '2020-02-10'),\n",
       " (1002, 'Charlie White', 'Teen', 'To Kill a Mockingbird', 'Harper Lee', 'Classic', '2020-03-10', '2020-02-05'),\n",
       " (1003, 'David Miller', 'Adult', 'The Martian', 'Andy Weir', 'Science Fiction', '2020-02-20', '2020-02-02'),\n",
       " (1004, 'Emily Jones', 'Adult', 'Pride and Prejudice', 'Jane Austen', 'Classic', '2020-02-18', '2020-01-30')]"
      ]
     },
     "execution_count": 6,
     "metadata": {},
     "output_type": "execute_result"
    }
   ],
   "source": [
    "%%sql\n",
    "SELECT * FROM library\n",
    "LIMIT 5;"
   ]
  },
  {
   "cell_type": "markdown",
   "id": "f372d1ad",
   "metadata": {
    "id": "f372d1ad"
   },
   "source": [
    "## Question 2: **Answer**"
   ]
  },
  {
   "cell_type": "code",
   "execution_count": 7,
   "id": "1b9922c5",
   "metadata": {
    "colab": {
     "base_uri": "https://localhost:8080/",
     "height": 94
    },
    "executionInfo": {
     "elapsed": 46,
     "status": "ok",
     "timestamp": 1752926285490,
     "user": {
      "displayName": "Benjamin Bennett Alexander",
      "userId": "14614847693800833280"
     },
     "user_tz": -180
    },
    "id": "1b9922c5",
    "outputId": "922402fd-22c8-4bd6-82c5-20939135e039"
   },
   "outputs": [
    {
     "name": "stdout",
     "output_type": "stream",
     "text": [
      " * sqlite:///library_records.db\n",
      "Done.\n"
     ]
    },
    {
     "data": {
      "text/html": [
       "<table>\n",
       "    <thead>\n",
       "        <tr>\n",
       "            <th>age_group</th>\n",
       "            <th>book_title</th>\n",
       "        </tr>\n",
       "    </thead>\n",
       "    <tbody>\n",
       "        <tr>\n",
       "            <td>Adult</td>\n",
       "            <td>The Hitchhiker&#x27;s Guide to the Galaxy</td>\n",
       "        </tr>\n",
       "    </tbody>\n",
       "</table>"
      ],
      "text/plain": [
       "[('Adult', \"The Hitchhiker's Guide to the Galaxy\")]"
      ]
     },
     "execution_count": 7,
     "metadata": {},
     "output_type": "execute_result"
    }
   ],
   "source": [
    "%%sql\n",
    "SELECT\n",
    "    age_group,\n",
    "    book_title\n",
    "FROM library\n",
    "WHERE book_title LIKE \"The Hitchhiker's Guide to the Galaxy\";"
   ]
  },
  {
   "cell_type": "markdown",
   "id": "f9d8e74b",
   "metadata": {
    "id": "f9d8e74b"
   },
   "source": [
    "## Question 3: **Answer**"
   ]
  },
  {
   "cell_type": "code",
   "execution_count": 8,
   "id": "aa94f216",
   "metadata": {
    "colab": {
     "base_uri": "https://localhost:8080/",
     "height": 94
    },
    "executionInfo": {
     "elapsed": 24,
     "status": "ok",
     "timestamp": 1752926285516,
     "user": {
      "displayName": "Benjamin Bennett Alexander",
      "userId": "14614847693800833280"
     },
     "user_tz": -180
    },
    "id": "aa94f216",
    "outputId": "643aa220-1226-4948-a336-802176484dbf"
   },
   "outputs": [
    {
     "name": "stdout",
     "output_type": "stream",
     "text": [
      " * sqlite:///library_records.db\n",
      "Done.\n"
     ]
    },
    {
     "data": {
      "text/html": [
       "<table>\n",
       "    <thead>\n",
       "        <tr>\n",
       "            <th>number_of_top_3_borrows</th>\n",
       "        </tr>\n",
       "    </thead>\n",
       "    <tbody>\n",
       "        <tr>\n",
       "            <td>13</td>\n",
       "        </tr>\n",
       "    </tbody>\n",
       "</table>"
      ],
      "text/plain": [
       "[(13,)]"
      ]
     },
     "execution_count": 8,
     "metadata": {},
     "output_type": "execute_result"
    }
   ],
   "source": [
    "%%sql\n",
    "--CTE identifies top 3 genres based on the number of borrows.\n",
    "WITH book_borrows AS (\n",
    "    SELECT\n",
    "        genre,\n",
    "        COUNT(*) AS total_borrows\n",
    "    FROM library\n",
    "    GROUP BY genre\n",
    "    ORDER BY total_borrows DESC\n",
    "    LIMIT 3)\n",
    "\n",
    "-- Calculating total borrows\n",
    "SELECT\n",
    "    SUM(total_borrows) AS number_of_top_3_borrows\n",
    "FROM book_borrows;"
   ]
  },
  {
   "cell_type": "markdown",
   "id": "812ae339",
   "metadata": {
    "id": "812ae339"
   },
   "source": [
    "## Question 4: **Answer**"
   ]
  },
  {
   "cell_type": "code",
   "execution_count": 9,
   "id": "4c0b5fcb",
   "metadata": {
    "colab": {
     "base_uri": "https://localhost:8080/",
     "height": 198
    },
    "executionInfo": {
     "elapsed": 23,
     "status": "ok",
     "timestamp": 1752926285548,
     "user": {
      "displayName": "Benjamin Bennett Alexander",
      "userId": "14614847693800833280"
     },
     "user_tz": -180
    },
    "id": "4c0b5fcb",
    "outputId": "ed10c0e2-f8b8-40ba-c3d0-31ddf01ec406"
   },
   "outputs": [
    {
     "name": "stdout",
     "output_type": "stream",
     "text": [
      " * sqlite:///library_records.db\n",
      "Done.\n"
     ]
    },
    {
     "data": {
      "text/html": [
       "<table>\n",
       "    <thead>\n",
       "        <tr>\n",
       "            <th>borrower_name</th>\n",
       "            <th>book_title</th>\n",
       "            <th>borrowed_date</th>\n",
       "            <th>due_date</th>\n",
       "        </tr>\n",
       "    </thead>\n",
       "    <tbody>\n",
       "        <tr>\n",
       "            <td>Alice Green</td>\n",
       "            <td>The Very Hungry Caterpillar</td>\n",
       "            <td>2020-01-20</td>\n",
       "            <td>2020-02-15</td>\n",
       "        </tr>\n",
       "        <tr>\n",
       "            <td>David Miller</td>\n",
       "            <td>The Martian</td>\n",
       "            <td>2020-02-02</td>\n",
       "            <td>2020-02-20</td>\n",
       "        </tr>\n",
       "        <tr>\n",
       "            <td>Emily Jones</td>\n",
       "            <td>Pride and Prejudice</td>\n",
       "            <td>2020-01-30</td>\n",
       "            <td>2020-02-18</td>\n",
       "        </tr>\n",
       "        <tr>\n",
       "            <td>James Green</td>\n",
       "            <td>A Brief History of Time</td>\n",
       "            <td>2020-01-23</td>\n",
       "            <td>2020-02-16</td>\n",
       "        </tr>\n",
       "        <tr>\n",
       "            <td>Katie Green</td>\n",
       "            <td>Divergent</td>\n",
       "            <td>2020-01-31</td>\n",
       "            <td>2020-02-19</td>\n",
       "        </tr>\n",
       "        <tr>\n",
       "            <td>Peter Jones</td>\n",
       "            <td>The Count of Monte Cristo</td>\n",
       "            <td>2020-01-29</td>\n",
       "            <td>2020-02-17</td>\n",
       "        </tr>\n",
       "    </tbody>\n",
       "</table>"
      ],
      "text/plain": [
       "[('Alice Green', 'The Very Hungry Caterpillar', '2020-01-20', '2020-02-15'),\n",
       " ('David Miller', 'The Martian', '2020-02-02', '2020-02-20'),\n",
       " ('Emily Jones', 'Pride and Prejudice', '2020-01-30', '2020-02-18'),\n",
       " ('James Green', 'A Brief History of Time', '2020-01-23', '2020-02-16'),\n",
       " ('Katie Green', 'Divergent', '2020-01-31', '2020-02-19'),\n",
       " ('Peter Jones', 'The Count of Monte Cristo', '2020-01-29', '2020-02-17')]"
      ]
     },
     "execution_count": 9,
     "metadata": {},
     "output_type": "execute_result"
    }
   ],
   "source": [
    "%%sql\n",
    "SELECT\n",
    "    borrower_name,\n",
    "    book_title,\n",
    "    borrowed_date,\n",
    "    due_date\n",
    "FROM library\n",
    "WHERE due_date <= '2020-02-20';"
   ]
  },
  {
   "cell_type": "markdown",
   "id": "5b774bf5",
   "metadata": {
    "id": "5b774bf5"
   },
   "source": [
    "## Question 5: **Answer**"
   ]
  },
  {
   "cell_type": "code",
   "execution_count": 10,
   "id": "st7rep39rhPr",
   "metadata": {
    "colab": {
     "base_uri": "https://localhost:8080/",
     "height": 136
    },
    "executionInfo": {
     "elapsed": 23,
     "status": "ok",
     "timestamp": 1752926285574,
     "user": {
      "displayName": "Benjamin Bennett Alexander",
      "userId": "14614847693800833280"
     },
     "user_tz": -180
    },
    "id": "st7rep39rhPr",
    "outputId": "52ce2097-bbdc-4ead-8dc9-9a1678f7aedb"
   },
   "outputs": [
    {
     "name": "stdout",
     "output_type": "stream",
     "text": [
      " * sqlite:///library_records.db\n",
      "Done.\n"
     ]
    },
    {
     "data": {
      "text/html": [
       "<table>\n",
       "    <thead>\n",
       "        <tr>\n",
       "            <th>age_group</th>\n",
       "            <th>borrow_count</th>\n",
       "            <th>percentage_of_total_borrowing</th>\n",
       "        </tr>\n",
       "    </thead>\n",
       "    <tbody>\n",
       "        <tr>\n",
       "            <td>Adult</td>\n",
       "            <td>13</td>\n",
       "            <td>59.09</td>\n",
       "        </tr>\n",
       "        <tr>\n",
       "            <td>Child</td>\n",
       "            <td>4</td>\n",
       "            <td>18.18</td>\n",
       "        </tr>\n",
       "        <tr>\n",
       "            <td>Teen</td>\n",
       "            <td>5</td>\n",
       "            <td>22.73</td>\n",
       "        </tr>\n",
       "    </tbody>\n",
       "</table>"
      ],
      "text/plain": [
       "[('Adult', 13, 59.09), ('Child', 4, 18.18), ('Teen', 5, 22.73)]"
      ]
     },
     "execution_count": 10,
     "metadata": {},
     "output_type": "execute_result"
    }
   ],
   "source": [
    "%%sql\n",
    "SELECT\n",
    "    age_group,\n",
    "    COUNT(*) AS borrow_count,\n",
    "    ROUND(COUNT(*) * 100.0 / (SELECT COUNT(*) FROM library), 2)\n",
    "    AS percentage_of_total_borrowing\n",
    "FROM library\n",
    "GROUP BY age_group;"
   ]
  },
  {
   "cell_type": "markdown",
   "id": "03dbae70",
   "metadata": {
    "id": "03dbae70"
   },
   "source": [
    "## Question 6: **Answer**"
   ]
  },
  {
   "cell_type": "code",
   "execution_count": 11,
   "id": "09e996bc",
   "metadata": {
    "colab": {
     "base_uri": "https://localhost:8080/",
     "height": 260
    },
    "executionInfo": {
     "elapsed": 42,
     "status": "ok",
     "timestamp": 1752926285610,
     "user": {
      "displayName": "Benjamin Bennett Alexander",
      "userId": "14614847693800833280"
     },
     "user_tz": -180
    },
    "id": "09e996bc",
    "outputId": "0071c8a8-f9b4-4b8f-e0ea-a2d422510cdc"
   },
   "outputs": [
    {
     "name": "stdout",
     "output_type": "stream",
     "text": [
      " * sqlite:///library_records.db\n",
      "Done.\n"
     ]
    },
    {
     "data": {
      "text/html": [
       "<table>\n",
       "    <thead>\n",
       "        <tr>\n",
       "            <th>genre</th>\n",
       "            <th>avg_borrowing_time</th>\n",
       "        </tr>\n",
       "    </thead>\n",
       "    <tbody>\n",
       "        <tr>\n",
       "            <td>Biography</td>\n",
       "            <td>37.0</td>\n",
       "        </tr>\n",
       "        <tr>\n",
       "            <td>Historical Fiction</td>\n",
       "            <td>34.0</td>\n",
       "        </tr>\n",
       "        <tr>\n",
       "            <td>Fantasy</td>\n",
       "            <td>26.0</td>\n",
       "        </tr>\n",
       "        <tr>\n",
       "            <td>Classic</td>\n",
       "            <td>24.6</td>\n",
       "        </tr>\n",
       "        <tr>\n",
       "            <td>Science</td>\n",
       "            <td>24.0</td>\n",
       "        </tr>\n",
       "        <tr>\n",
       "            <td>Picture Book</td>\n",
       "            <td>22.0</td>\n",
       "        </tr>\n",
       "        <tr>\n",
       "            <td>Science Fiction</td>\n",
       "            <td>21.67</td>\n",
       "        </tr>\n",
       "        <tr>\n",
       "            <td>Dystopian</td>\n",
       "            <td>20.25</td>\n",
       "        </tr>\n",
       "        <tr>\n",
       "            <td>Fiction</td>\n",
       "            <td>14.0</td>\n",
       "        </tr>\n",
       "    </tbody>\n",
       "</table>"
      ],
      "text/plain": [
       "[('Biography', 37.0),\n",
       " ('Historical Fiction', 34.0),\n",
       " ('Fantasy', 26.0),\n",
       " ('Classic', 24.6),\n",
       " ('Science', 24.0),\n",
       " ('Picture Book', 22.0),\n",
       " ('Science Fiction', 21.67),\n",
       " ('Dystopian', 20.25),\n",
       " ('Fiction', 14.0)]"
      ]
     },
     "execution_count": 11,
     "metadata": {},
     "output_type": "execute_result"
    }
   ],
   "source": [
    "%%sql\n",
    "SELECT\n",
    "     genre,\n",
    "     ROUND(AVG(julianday(due_date) - julianday(borrowed_date)), 2) AS\n",
    "     avg_borrowing_time\n",
    "FROM library\n",
    "GROUP BY genre\n",
    "ORDER BY avg_borrowing_time DESC;"
   ]
  },
  {
   "cell_type": "code",
   "execution_count": 11,
   "id": "90b78123",
   "metadata": {
    "executionInfo": {
     "elapsed": 4,
     "status": "ok",
     "timestamp": 1752926285616,
     "user": {
      "displayName": "Benjamin Bennett Alexander",
      "userId": "14614847693800833280"
     },
     "user_tz": -180
    },
    "id": "90b78123"
   },
   "outputs": [],
   "source": []
  }
 ],
 "metadata": {
  "colab": {
   "provenance": []
  },
  "kernelspec": {
   "display_name": "Python 3 (ipykernel)",
   "language": "python",
   "name": "python3"
  },
  "language_info": {
   "codemirror_mode": {
    "name": "ipython",
    "version": 3
   },
   "file_extension": ".py",
   "mimetype": "text/x-python",
   "name": "python",
   "nbconvert_exporter": "python",
   "pygments_lexer": "ipython3",
   "version": "3.10.5"
  }
 },
 "nbformat": 4,
 "nbformat_minor": 5
}

{
 "cells": [
  {
   "cell_type": "markdown",
   "id": "GixrKmwSNprG",
   "metadata": {
    "id": "GixrKmwSNprG"
   },
   "source": [
    "## Question 1: **Answer**"
   ]
  },
  {
   "cell_type": "code",
   "execution_count": 1,
   "id": "4addc373",
   "metadata": {
    "executionInfo": {
     "elapsed": 594,
     "status": "ok",
     "timestamp": 1752943718634,
     "user": {
      "displayName": "Benjamin Bennett Alexander",
      "userId": "14614847693800833280"
     },
     "user_tz": -180
    },
    "id": "4addc373"
   },
   "outputs": [],
   "source": [
    "import pandas as pd\n",
    "import matplotlib.pyplot as plt\n",
    "import sqlite3"
   ]
  },
  {
   "cell_type": "code",
   "execution_count": null,
   "id": "c1cc42df",
   "metadata": {
    "executionInfo": {
     "elapsed": 2252,
     "status": "ok",
     "timestamp": 1752943720884,
     "user": {
      "displayName": "Benjamin Bennett Alexander",
      "userId": "14614847693800833280"
     },
     "user_tz": -180
    },
    "id": "c1cc42df"
   },
   "outputs": [],
   "source": [
    "def add_data_to_database(cars_country, cars_details, cars_price):\n",
    "    try:\n",
    "        country = pd.read_csv(cars_country)\n",
    "        details = pd.read_csv(cars_details)\n",
    "        price = pd.read_csv(cars_price)\n",
    "        # Connecting to database\n",
    "        engine = sqlite3.connect(\"cars_data.db\")\n",
    "        # creating three tables\n",
    "        country.to_sql(\"cars_country\", con=engine, index = False)\n",
    "        details.to_sql(\"cars_details\", con=engine, index = False)\n",
    "        price.to_sql(\"cars_price\", con=engine, index = False)\n",
    "    except Exception as e:\n",
    "            print(f\"Error: {e}\")\n",
    "\n",
    "cars_country = \"/content/cars_country.csv\"\n",
    "cars_details =  \"/content/cars_details.csv\"\n",
    "cars_price = \"/content/cars_price.csv\"\n",
    "\n",
    "add_data_to_database(cars_country, cars_details, cars_price)"
   ]
  },
  {
   "cell_type": "code",
   "execution_count": 3,
   "id": "dvnSev3SJeun",
   "metadata": {
    "executionInfo": {
     "elapsed": 784,
     "status": "ok",
     "timestamp": 1752943721676,
     "user": {
      "displayName": "Benjamin Bennett Alexander",
      "userId": "14614847693800833280"
     },
     "user_tz": -180
    },
    "id": "dvnSev3SJeun"
   },
   "outputs": [],
   "source": [
    "# Loading SQL extension\n",
    "%load_ext sql"
   ]
  },
  {
   "cell_type": "code",
   "execution_count": 4,
   "id": "93312dcc",
   "metadata": {
    "executionInfo": {
     "elapsed": 65,
     "status": "ok",
     "timestamp": 1752943721745,
     "user": {
      "displayName": "Benjamin Bennett Alexander",
      "userId": "14614847693800833280"
     },
     "user_tz": -180
    },
    "id": "93312dcc"
   },
   "outputs": [],
   "source": [
    "# Connecting to the database\n",
    "%sql sqlite:///cars_data.db"
   ]
  },
  {
   "cell_type": "code",
   "execution_count": 5,
   "id": "uYUi3-R4JgKn",
   "metadata": {
    "executionInfo": {
     "elapsed": 32,
     "status": "ok",
     "timestamp": 1752943721781,
     "user": {
      "displayName": "Benjamin Bennett Alexander",
      "userId": "14614847693800833280"
     },
     "user_tz": -180
    },
    "id": "uYUi3-R4JgKn"
   },
   "outputs": [],
   "source": [
    "# Default to duplicated style\n",
    "%config SqlMagic.style = '_DEPRECATED_DEFAULT'"
   ]
  },
  {
   "cell_type": "code",
   "execution_count": 6,
   "id": "5da01095",
   "metadata": {
    "colab": {
     "base_uri": "https://localhost:8080/",
     "height": 136
    },
    "executionInfo": {
     "elapsed": 37,
     "status": "ok",
     "timestamp": 1752943721822,
     "user": {
      "displayName": "Benjamin Bennett Alexander",
      "userId": "14614847693800833280"
     },
     "user_tz": -180
    },
    "id": "5da01095",
    "outputId": "3c7df413-e51b-4f79-b2cf-b3abdab491cd"
   },
   "outputs": [
    {
     "name": "stdout",
     "output_type": "stream",
     "text": [
      " * sqlite:///cars_data.db\n",
      "Done.\n"
     ]
    },
    {
     "data": {
      "text/html": [
       "<table>\n",
       "    <thead>\n",
       "        <tr>\n",
       "            <th>origin</th>\n",
       "            <th>country</th>\n",
       "        </tr>\n",
       "    </thead>\n",
       "    <tbody>\n",
       "        <tr>\n",
       "            <td>1</td>\n",
       "            <td>USA</td>\n",
       "        </tr>\n",
       "        <tr>\n",
       "            <td>2</td>\n",
       "            <td>Europe</td>\n",
       "        </tr>\n",
       "        <tr>\n",
       "            <td>3</td>\n",
       "            <td>Japan</td>\n",
       "        </tr>\n",
       "    </tbody>\n",
       "</table>"
      ],
      "text/plain": [
       "[(1, 'USA'), (2, 'Europe'), (3, 'Japan')]"
      ]
     },
     "execution_count": 6,
     "metadata": {},
     "output_type": "execute_result"
    }
   ],
   "source": [
    "%%sql\n",
    "SELECT * FROM cars_country;"
   ]
  },
  {
   "cell_type": "code",
   "execution_count": 7,
   "id": "c7eb28d1",
   "metadata": {
    "colab": {
     "base_uri": "https://localhost:8080/",
     "height": 177
    },
    "executionInfo": {
     "elapsed": 56,
     "status": "ok",
     "timestamp": 1752943721882,
     "user": {
      "displayName": "Benjamin Bennett Alexander",
      "userId": "14614847693800833280"
     },
     "user_tz": -180
    },
    "id": "c7eb28d1",
    "outputId": "c6781ebb-1334-400e-a22d-e1fd9f1867b2"
   },
   "outputs": [
    {
     "name": "stdout",
     "output_type": "stream",
     "text": [
      " * sqlite:///cars_data.db\n",
      "Done.\n"
     ]
    },
    {
     "data": {
      "text/html": [
       "<table>\n",
       "    <thead>\n",
       "        <tr>\n",
       "            <th>ID</th>\n",
       "            <th>mpg</th>\n",
       "            <th>cylinders</th>\n",
       "            <th>displacement</th>\n",
       "            <th>horsepower</th>\n",
       "            <th>weight</th>\n",
       "            <th>acceleration</th>\n",
       "            <th>model</th>\n",
       "            <th>origin</th>\n",
       "            <th>car_name</th>\n",
       "        </tr>\n",
       "    </thead>\n",
       "    <tbody>\n",
       "        <tr>\n",
       "            <td>1</td>\n",
       "            <td>18.0</td>\n",
       "            <td>8</td>\n",
       "            <td>307.0</td>\n",
       "            <td>130</td>\n",
       "            <td>3504</td>\n",
       "            <td>12.0</td>\n",
       "            <td>70</td>\n",
       "            <td>1</td>\n",
       "            <td>chevrolet chevelle malibu</td>\n",
       "        </tr>\n",
       "        <tr>\n",
       "            <td>2</td>\n",
       "            <td>15.0</td>\n",
       "            <td>8</td>\n",
       "            <td>350.0</td>\n",
       "            <td>165</td>\n",
       "            <td>3693</td>\n",
       "            <td>11.5</td>\n",
       "            <td>70</td>\n",
       "            <td>1</td>\n",
       "            <td>buick skylark 320</td>\n",
       "        </tr>\n",
       "        <tr>\n",
       "            <td>3</td>\n",
       "            <td>18.0</td>\n",
       "            <td>8</td>\n",
       "            <td>318.0</td>\n",
       "            <td>150</td>\n",
       "            <td>3436</td>\n",
       "            <td>11.0</td>\n",
       "            <td>70</td>\n",
       "            <td>1</td>\n",
       "            <td>plymouth satellite</td>\n",
       "        </tr>\n",
       "        <tr>\n",
       "            <td>4</td>\n",
       "            <td>16.0</td>\n",
       "            <td>8</td>\n",
       "            <td>304.0</td>\n",
       "            <td>150</td>\n",
       "            <td>3433</td>\n",
       "            <td>12.0</td>\n",
       "            <td>70</td>\n",
       "            <td>1</td>\n",
       "            <td>amc rebel sst</td>\n",
       "        </tr>\n",
       "        <tr>\n",
       "            <td>5</td>\n",
       "            <td>17.0</td>\n",
       "            <td>8</td>\n",
       "            <td>302.0</td>\n",
       "            <td>140</td>\n",
       "            <td>3449</td>\n",
       "            <td>10.5</td>\n",
       "            <td>70</td>\n",
       "            <td>1</td>\n",
       "            <td>ford torino</td>\n",
       "        </tr>\n",
       "    </tbody>\n",
       "</table>"
      ],
      "text/plain": [
       "[(1, 18.0, 8, 307.0, '130', 3504, 12.0, 70, 1, 'chevrolet chevelle malibu'),\n",
       " (2, 15.0, 8, 350.0, '165', 3693, 11.5, 70, 1, 'buick skylark 320'),\n",
       " (3, 18.0, 8, 318.0, '150', 3436, 11.0, 70, 1, 'plymouth satellite'),\n",
       " (4, 16.0, 8, 304.0, '150', 3433, 12.0, 70, 1, 'amc rebel sst'),\n",
       " (5, 17.0, 8, 302.0, '140', 3449, 10.5, 70, 1, 'ford torino')]"
      ]
     },
     "execution_count": 7,
     "metadata": {},
     "output_type": "execute_result"
    }
   ],
   "source": [
    "%%sql\n",
    "SELECT * FROM cars_details\n",
    "LIMIT 5;"
   ]
  },
  {
   "cell_type": "code",
   "execution_count": 8,
   "id": "3b8fbc8b",
   "metadata": {
    "colab": {
     "base_uri": "https://localhost:8080/",
     "height": 177
    },
    "executionInfo": {
     "elapsed": 39,
     "status": "ok",
     "timestamp": 1752943721942,
     "user": {
      "displayName": "Benjamin Bennett Alexander",
      "userId": "14614847693800833280"
     },
     "user_tz": -180
    },
    "id": "3b8fbc8b",
    "outputId": "b06a5b6a-4b77-4340-e458-e86281d3a2f0"
   },
   "outputs": [
    {
     "name": "stdout",
     "output_type": "stream",
     "text": [
      " * sqlite:///cars_data.db\n",
      "Done.\n"
     ]
    },
    {
     "data": {
      "text/html": [
       "<table>\n",
       "    <thead>\n",
       "        <tr>\n",
       "            <th>ID</th>\n",
       "            <th>price</th>\n",
       "        </tr>\n",
       "    </thead>\n",
       "    <tbody>\n",
       "        <tr>\n",
       "            <td>1</td>\n",
       "            <td>25561.59078</td>\n",
       "        </tr>\n",
       "        <tr>\n",
       "            <td>2</td>\n",
       "            <td>24221.42273</td>\n",
       "        </tr>\n",
       "        <tr>\n",
       "            <td>3</td>\n",
       "            <td>27240.84373</td>\n",
       "        </tr>\n",
       "        <tr>\n",
       "            <td>4</td>\n",
       "            <td>33684.96888</td>\n",
       "        </tr>\n",
       "        <tr>\n",
       "            <td>5</td>\n",
       "            <td>20000.0</td>\n",
       "        </tr>\n",
       "    </tbody>\n",
       "</table>"
      ],
      "text/plain": [
       "[(1, 25561.59078),\n",
       " (2, 24221.42273),\n",
       " (3, 27240.84373),\n",
       " (4, 33684.96888),\n",
       " (5, 20000.0)]"
      ]
     },
     "execution_count": 8,
     "metadata": {},
     "output_type": "execute_result"
    }
   ],
   "source": [
    "%%sql\n",
    "SELECT * FROM cars_price\n",
    "LIMIT 5;"
   ]
  },
  {
   "cell_type": "markdown",
   "id": "a2021979",
   "metadata": {
    "id": "a2021979"
   },
   "source": [
    "## Question 2: **Answer**"
   ]
  },
  {
   "cell_type": "code",
   "execution_count": 9,
   "id": "bc73ea78",
   "metadata": {
    "colab": {
     "base_uri": "https://localhost:8080/",
     "height": 94
    },
    "executionInfo": {
     "elapsed": 15,
     "status": "ok",
     "timestamp": 1752943721961,
     "user": {
      "displayName": "Benjamin Bennett Alexander",
      "userId": "14614847693800833280"
     },
     "user_tz": -180
    },
    "id": "bc73ea78",
    "outputId": "90dd1870-49bf-4ba1-e9f6-818529cdb9a0"
   },
   "outputs": [
    {
     "name": "stdout",
     "output_type": "stream",
     "text": [
      " * sqlite:///cars_data.db\n",
      "Done.\n"
     ]
    },
    {
     "data": {
      "text/html": [
       "<table>\n",
       "    <thead>\n",
       "        <tr>\n",
       "            <th>country</th>\n",
       "            <th>number_of_cars_in_us</th>\n",
       "        </tr>\n",
       "    </thead>\n",
       "    <tbody>\n",
       "        <tr>\n",
       "            <td>USA</td>\n",
       "            <td>187</td>\n",
       "        </tr>\n",
       "    </tbody>\n",
       "</table>"
      ],
      "text/plain": [
       "[('USA', 187)]"
      ]
     },
     "execution_count": 9,
     "metadata": {},
     "output_type": "execute_result"
    }
   ],
   "source": [
    "%%sql\n",
    "SELECT\n",
    "    cc.country,\n",
    "    COUNT(DISTINCT(cd.car_name))\n",
    "    AS number_of_cars_in_us\n",
    "FROM cars_details cd\n",
    "INNER JOIN cars_country cc\n",
    "-- Joining tables on origin column\n",
    "ON cd.origin = cc.origin\n",
    "WHERE cc.country = 'USA'\n",
    "-- Grouping by country to get the count per country\n",
    "GROUP BY cc.country;"
   ]
  },
  {
   "cell_type": "markdown",
   "id": "d56604d7",
   "metadata": {
    "id": "d56604d7"
   },
   "source": [
    "## Question 3: **Answer**"
   ]
  },
  {
   "cell_type": "code",
   "execution_count": 10,
   "id": "a02a8442",
   "metadata": {
    "colab": {
     "base_uri": "https://localhost:8080/",
     "height": 94
    },
    "executionInfo": {
     "elapsed": 63,
     "status": "ok",
     "timestamp": 1752943722027,
     "user": {
      "displayName": "Benjamin Bennett Alexander",
      "userId": "14614847693800833280"
     },
     "user_tz": -180
    },
    "id": "a02a8442",
    "outputId": "0e3d09ee-64b4-4d88-9055-6f93fd216ced"
   },
   "outputs": [
    {
     "name": "stdout",
     "output_type": "stream",
     "text": [
      " * sqlite:///cars_data.db\n",
      "Done.\n"
     ]
    },
    {
     "data": {
      "text/html": [
       "<table>\n",
       "    <thead>\n",
       "        <tr>\n",
       "            <th>unique_cars_europe</th>\n",
       "            <th>unique_cars_japan</th>\n",
       "            <th>combined_total</th>\n",
       "        </tr>\n",
       "    </thead>\n",
       "    <tbody>\n",
       "        <tr>\n",
       "            <td>58</td>\n",
       "            <td>60</td>\n",
       "            <td>118</td>\n",
       "        </tr>\n",
       "    </tbody>\n",
       "</table>"
      ],
      "text/plain": [
       "[(58, 60, 118)]"
      ]
     },
     "execution_count": 10,
     "metadata": {},
     "output_type": "execute_result"
    }
   ],
   "source": [
    "%%sql\n",
    "SELECT\n",
    "    SUM(CASE WHEN country = 'Europe' THEN unique_cars ELSE 0 END)\n",
    "    AS unique_cars_europe,\n",
    "    SUM(CASE WHEN country = 'Japan' THEN unique_cars ELSE 0 END)\n",
    "    AS unique_cars_japan,\n",
    "    SUM(unique_cars) AS combined_total\n",
    "FROM (\n",
    "    SELECT\n",
    "        cars_country.country AS country,\n",
    "        COUNT(DISTINCT cars_details.car_name) AS unique_cars\n",
    "    FROM cars_details\n",
    "    INNER JOIN cars_country\n",
    "    ON cars_details.origin = cars_country.origin\n",
    "    WHERE cars_country.country IN ('Europe', 'Japan')\n",
    "    GROUP BY cars_country.country\n",
    ") AS unique_cars_per_country;"
   ]
  },
  {
   "cell_type": "markdown",
   "id": "de05ef14",
   "metadata": {
    "id": "de05ef14"
   },
   "source": [
    "## Question 4: **Answer**"
   ]
  },
  {
   "cell_type": "code",
   "execution_count": 11,
   "id": "Kdthrej2zv_k",
   "metadata": {
    "colab": {
     "base_uri": "https://localhost:8080/",
     "height": 94
    },
    "executionInfo": {
     "elapsed": 53,
     "status": "ok",
     "timestamp": 1752943722085,
     "user": {
      "displayName": "Benjamin Bennett Alexander",
      "userId": "14614847693800833280"
     },
     "user_tz": -180
    },
    "id": "Kdthrej2zv_k",
    "outputId": "8d8f6ddb-eb20-41ee-c185-282629607cb4"
   },
   "outputs": [
    {
     "name": "stdout",
     "output_type": "stream",
     "text": [
      " * sqlite:///cars_data.db\n",
      "Done.\n"
     ]
    },
    {
     "data": {
      "text/html": [
       "<table>\n",
       "    <thead>\n",
       "        <tr>\n",
       "            <th>car_name</th>\n",
       "            <th>cylinders</th>\n",
       "            <th>country</th>\n",
       "            <th>price</th>\n",
       "        </tr>\n",
       "    </thead>\n",
       "    <tbody>\n",
       "        <tr>\n",
       "            <td>plymouth fury gran sedan</td>\n",
       "            <td>8</td>\n",
       "            <td>USA</td>\n",
       "            <td>53745.93806</td>\n",
       "        </tr>\n",
       "    </tbody>\n",
       "</table>"
      ],
      "text/plain": [
       "[('plymouth fury gran sedan', 8, 'USA', 53745.93806)]"
      ]
     },
     "execution_count": 11,
     "metadata": {},
     "output_type": "execute_result"
    }
   ],
   "source": [
    "%%sql\n",
    "-- Joining three tables to get required details\n",
    "WITH most_expensive_car AS (\n",
    "    SELECT\n",
    "        cars_details.car_name,\n",
    "        cars_details.cylinders,\n",
    "        cars_country.country,\n",
    "        cars_price.price\n",
    "    FROM cars_details\n",
    "    INNER JOIN cars_price\n",
    "    ON cars_details.ID = cars_price.ID\n",
    "    INNER JOIN cars_country\n",
    "    ON cars_details.origin = cars_country.origin\n",
    "    ORDER BY cars_price.price DESC\n",
    ")\n",
    "-- Retrieving the most expensive car\n",
    "SELECT\n",
    "    car_name,\n",
    "    cylinders,\n",
    "    country,\n",
    "    price\n",
    "FROM most_expensive_car\n",
    "WHERE price = (SELECT MAX(price) FROM most_expensive_car);"
   ]
  },
  {
   "cell_type": "markdown",
   "id": "538dfac8",
   "metadata": {
    "id": "538dfac8"
   },
   "source": [
    "## Question 5: **Answer**"
   ]
  },
  {
   "cell_type": "code",
   "execution_count": 12,
   "id": "q8lMtKG8nPnQ",
   "metadata": {
    "colab": {
     "base_uri": "https://localhost:8080/",
     "height": 94
    },
    "executionInfo": {
     "elapsed": 43,
     "status": "ok",
     "timestamp": 1752943722096,
     "user": {
      "displayName": "Benjamin Bennett Alexander",
      "userId": "14614847693800833280"
     },
     "user_tz": -180
    },
    "id": "q8lMtKG8nPnQ",
    "outputId": "4eac9244-a76d-4049-f522-208e1dda6b4a"
   },
   "outputs": [
    {
     "name": "stdout",
     "output_type": "stream",
     "text": [
      " * sqlite:///cars_data.db\n",
      "Done.\n"
     ]
    },
    {
     "data": {
      "text/html": [
       "<table>\n",
       "    <thead>\n",
       "        <tr>\n",
       "            <th>car_name</th>\n",
       "            <th>total_revenue</th>\n",
       "        </tr>\n",
       "    </thead>\n",
       "    <tbody>\n",
       "        <tr>\n",
       "            <td>ford pinto</td>\n",
       "            <td>203385.99</td>\n",
       "        </tr>\n",
       "    </tbody>\n",
       "</table>"
      ],
      "text/plain": [
       "[('ford pinto', 203385.99)]"
      ]
     },
     "execution_count": 12,
     "metadata": {},
     "output_type": "execute_result"
    }
   ],
   "source": [
    "%%sql\n",
    "-- Calculating total revenue per car\n",
    "WITH car_revenues AS (\n",
    "    SELECT\n",
    "        cars_details.car_name,\n",
    "        SUM(cars_price.price) AS total_revenue\n",
    "    FROM cars_details\n",
    "    INNER JOIN cars_price\n",
    "    ON cars_details.ID = cars_price.ID\n",
    "    GROUP BY cars_details.car_name\n",
    ")\n",
    "-- Retrieving car with most revenue\n",
    "SELECT\n",
    "    car_name,\n",
    "    ROUND(total_revenue, 2) AS total_revenue\n",
    "FROM car_revenues\n",
    "WHERE total_revenue = (SELECT MAX(total_revenue) FROM car_revenues);"
   ]
  },
  {
   "cell_type": "markdown",
   "id": "41bb9831",
   "metadata": {
    "id": "41bb9831"
   },
   "source": [
    "## Question 6: **Answer**"
   ]
  },
  {
   "cell_type": "code",
   "execution_count": 13,
   "id": "2rPm7qhKz2hB",
   "metadata": {
    "colab": {
     "base_uri": "https://localhost:8080/",
     "height": 136
    },
    "executionInfo": {
     "elapsed": 44,
     "status": "ok",
     "timestamp": 1752943722141,
     "user": {
      "displayName": "Benjamin Bennett Alexander",
      "userId": "14614847693800833280"
     },
     "user_tz": -180
    },
    "id": "2rPm7qhKz2hB",
    "outputId": "b70ababf-df69-4072-f2b0-0153d9b79509"
   },
   "outputs": [
    {
     "name": "stdout",
     "output_type": "stream",
     "text": [
      " * sqlite:///cars_data.db\n",
      "Done.\n"
     ]
    },
    {
     "data": {
      "text/html": [
       "<table>\n",
       "    <thead>\n",
       "        <tr>\n",
       "            <th>region</th>\n",
       "            <th>total_revenue</th>\n",
       "        </tr>\n",
       "    </thead>\n",
       "    <tbody>\n",
       "        <tr>\n",
       "            <td>Japan</td>\n",
       "            <td>&nbsp;&nbsp;&nbsp;&nbsp;&nbsp;&nbsp;&nbsp;&nbsp;&nbsp;&nbsp;&nbsp;2393364.6</td>\n",
       "        </tr>\n",
       "        <tr>\n",
       "            <td>Europe</td>\n",
       "            <td>&nbsp;&nbsp;&nbsp;&nbsp;&nbsp;&nbsp;&nbsp;&nbsp;&nbsp;&nbsp;2117546.62</td>\n",
       "        </tr>\n",
       "        <tr>\n",
       "            <td>USA</td>\n",
       "            <td>&nbsp;&nbsp;&nbsp;&nbsp;&nbsp;&nbsp;&nbsp;&nbsp;&nbsp;&nbsp;7303509.21</td>\n",
       "        </tr>\n",
       "    </tbody>\n",
       "</table>"
      ],
      "text/plain": [
       "[('Japan', '           2393364.6'),\n",
       " ('Europe', '          2117546.62'),\n",
       " ('USA', '          7303509.21')]"
      ]
     },
     "execution_count": 13,
     "metadata": {},
     "output_type": "execute_result"
    }
   ],
   "source": [
    "%%sql\n",
    "WITH revenue_per_region AS (\n",
    "    SELECT\n",
    "        cars_country.country AS region,\n",
    "        SUM(cars_price.price) AS total_revenue\n",
    "    FROM cars_details\n",
    "    INNER JOIN cars_price\n",
    "    ON cars_details.ID = cars_price.ID\n",
    "    INNER JOIN cars_country\n",
    "    ON cars_details.origin = cars_country.origin\n",
    "    GROUP BY cars_country.country\n",
    ")\n",
    "SELECT\n",
    "    region,\n",
    "    printf('%20s', ROUND(total_revenue, 2)) AS total_revenue\n",
    "FROM revenue_per_region\n",
    "ORDER BY total_revenue ASC;"
   ]
  },
  {
   "cell_type": "markdown",
   "id": "Uj0QCfPgOxDg",
   "metadata": {
    "id": "Uj0QCfPgOxDg"
   },
   "source": [
    "## Question 6 Part B: **Answer**"
   ]
  },
  {
   "cell_type": "code",
   "execution_count": 14,
   "id": "DY5T0ohd047l",
   "metadata": {
    "colab": {
     "base_uri": "https://localhost:8080/"
    },
    "executionInfo": {
     "elapsed": 59,
     "status": "ok",
     "timestamp": 1752943722203,
     "user": {
      "displayName": "Benjamin Bennett Alexander",
      "userId": "14614847693800833280"
     },
     "user_tz": -180
    },
    "id": "DY5T0ohd047l",
    "outputId": "fd2ff7d6-3f35-4e25-d422-195ea3546115"
   },
   "outputs": [
    {
     "name": "stdout",
     "output_type": "stream",
     "text": [
      "   region  total_revenue\n",
      "0  Europe     2117546.62\n",
      "1   Japan     2393364.60\n",
      "2     USA     7303509.21\n"
     ]
    }
   ],
   "source": [
    "# Passing query to a variable\n",
    "query = \"\"\"\n",
    "\n",
    "WITH revenue_per_region AS (\n",
    "    SELECT\n",
    "        cars_country.country AS region,\n",
    "        SUM(cars_price.price) AS total_revenue\n",
    "    FROM cars_details\n",
    "    INNER JOIN cars_price\n",
    "    ON cars_details.ID = cars_price.ID\n",
    "    INNER JOIN cars_country\n",
    "    ON cars_details.origin = cars_country.origin\n",
    "    GROUP BY cars_country.country\n",
    ")\n",
    "SELECT\n",
    "    region,\n",
    "    ROUND(total_revenue, 2) AS total_revenue\n",
    "FROM revenue_per_region;\n",
    "\n",
    "\"\"\"\n",
    "# Creating connection to the database\n",
    "conn = sqlite3.connect('cars_data.db')\n",
    "# creating a DataFrame\n",
    "df = pd.read_sql_query(query, conn)\n",
    "print(df)"
   ]
  },
  {
   "cell_type": "code",
   "execution_count": 15,
   "id": "I5owxLS90ObQ",
   "metadata": {
    "colab": {
     "base_uri": "https://localhost:8080/",
     "height": 607
    },
    "executionInfo": {
     "elapsed": 344,
     "status": "ok",
     "timestamp": 1752943722541,
     "user": {
      "displayName": "Benjamin Bennett Alexander",
      "userId": "14614847693800833280"
     },
     "user_tz": -180
    },
    "id": "I5owxLS90ObQ",
    "outputId": "8d319c6c-905f-4e4b-8766-25594f00fbd0"
   },
   "outputs": [
    {
     "data": {
      "image/png": "[encoded data removed]",
      "text/plain": [
       "<Figure size 800x600 with 1 Axes>"
      ]
     },
     "metadata": {},
     "output_type": "display_data"
    }
   ],
   "source": [
    "# Extracting from DataFrame\n",
    "regions = df['region']\n",
    "total_revenue = df['total_revenue']\n",
    "\n",
    "# Create the bar graph\n",
    "plt.figure(figsize=(8, 6))\n",
    "plt.bar(regions, total_revenue, color=['blue', 'green', 'red'])\n",
    "plt.title('Total Revenue per Region', fontsize=20)\n",
    "plt.xlabel('Region', fontsize=15)\n",
    "plt.ylabel('Total Revenue (in $)', fontsize=15)\n",
    "plt.xticks(fontsize=10)\n",
    "plt.yticks(fontsize=10)\n",
    "# Adding text on top of the bars\n",
    "for i, value in enumerate(total_revenue):\n",
    "    plt.text(i, value, f\"${value:,}\", ha='center', fontsize=10, color='black')\n",
    "plt.tight_layout()\n",
    "plt.show()"
   ]
  },
  {
   "cell_type": "markdown",
   "id": "fed83680",
   "metadata": {
    "id": "fed83680"
   },
   "source": [
    "## Question 7: **Answer**"
   ]
  },
  {
   "cell_type": "code",
   "execution_count": 16,
   "id": "4b6a64c6",
   "metadata": {
    "colab": {
     "base_uri": "https://localhost:8080/",
     "height": 94
    },
    "executionInfo": {
     "elapsed": 25,
     "status": "ok",
     "timestamp": 1752943722544,
     "user": {
      "displayName": "Benjamin Bennett Alexander",
      "userId": "14614847693800833280"
     },
     "user_tz": -180
    },
    "id": "4b6a64c6",
    "outputId": "5f8f0902-0f6a-4e3a-a783-5cb1c30c9987"
   },
   "outputs": [
    {
     "name": "stdout",
     "output_type": "stream",
     "text": [
      " * sqlite:///cars_data.db\n",
      "Done.\n"
     ]
    },
    {
     "data": {
      "text/html": [
       "<table>\n",
       "    <thead>\n",
       "        <tr>\n",
       "            <th>top_car_revenue</th>\n",
       "            <th>bottom_car_revenue</th>\n",
       "            <th>difference_in_revenue</th>\n",
       "        </tr>\n",
       "    </thead>\n",
       "    <tbody>\n",
       "        <tr>\n",
       "            <td>203385.99</td>\n",
       "            <td>5975.71</td>\n",
       "            <td>197410.28</td>\n",
       "        </tr>\n",
       "    </tbody>\n",
       "</table>"
      ],
      "text/plain": [
       "[(203385.99, 5975.71, 197410.28)]"
      ]
     },
     "execution_count": 16,
     "metadata": {},
     "output_type": "execute_result"
    }
   ],
   "source": [
    "%%sql\n",
    "-- Calculating revenue per car\n",
    "WITH revenue_per_car_name AS (\n",
    "    SELECT\n",
    "        cars_details.car_name,\n",
    "        ROUND(SUM(cars_price.price), 2) AS total_revenue\n",
    "    FROM cars_details\n",
    "    JOIN cars_price\n",
    "        ON cars_details.ID = cars_price.ID\n",
    "    GROUP BY cars_details.car_name\n",
    ")\n",
    "-- Retrieving top and bottom revenue\n",
    "SELECT\n",
    "    (SELECT MAX(total_revenue) FROM revenue_per_car_name)\n",
    "    AS top_car_revenue,\n",
    "    (SELECT MIN(total_revenue) FROM revenue_per_car_name)\n",
    "    AS bottom_car_revenue,\n",
    "    (SELECT MAX(total_revenue) - MIN(total_revenue) FROM revenue_per_car_name)\n",
    "    AS difference_in_revenue;"
   ]
  },
  {
   "cell_type": "markdown",
   "id": "EOcna3ooHMGk",
   "metadata": {
    "id": "EOcna3ooHMGk"
   },
   "source": []
  }
 ],
 "metadata": {
  "colab": {
   "provenance": []
  },
  "kernelspec": {
   "display_name": "Python 3 (ipykernel)",
   "language": "python",
   "name": "python3"
  },
  "language_info": {
   "codemirror_mode": {
    "name": "ipython",
    "version": 3
   },
   "file_extension": ".py",
   "mimetype": "text/x-python",
   "name": "python",
   "nbconvert_exporter": "python",
   "pygments_lexer": "ipython3",
   "version": "3.12.4"
  }
 },
 "nbformat": 4,
 "nbformat_minor": 5
}

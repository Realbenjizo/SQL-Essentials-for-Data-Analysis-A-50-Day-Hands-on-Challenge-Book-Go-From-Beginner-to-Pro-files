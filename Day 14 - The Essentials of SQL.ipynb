{
 "cells": [
  {
   "cell_type": "code",
   "execution_count": 1,
   "id": "949d4289",
   "metadata": {
    "executionInfo": {
     "elapsed": 43,
     "status": "ok",
     "timestamp": 1752850392368,
     "user": {
      "displayName": "Benjamin Bennett Alexander",
      "userId": "14614847693800833280"
     },
     "user_tz": -180
    },
    "id": "949d4289"
   },
   "outputs": [],
   "source": [
    "import sqlite3\n",
    "import csv"
   ]
  },
  {
   "cell_type": "code",
   "execution_count": null,
   "id": "d8470478",
   "metadata": {
    "colab": {
     "base_uri": "https://localhost:8080/"
    },
    "executionInfo": {
     "elapsed": 1266,
     "status": "ok",
     "timestamp": 1752850393637,
     "user": {
      "displayName": "Benjamin Bennett Alexander",
      "userId": "14614847693800833280"
     },
     "user_tz": -180
    },
    "id": "d8470478",
    "outputId": "f9bfb94a-326a-4076-f652-9bbdf04d4af5"
   },
   "outputs": [
    {
     "name": "stdout",
     "output_type": "stream",
     "text": [
      "Data loaded successfully\n"
     ]
    }
   ],
   "source": [
    "def load_safety_data(data):\n",
    "    try:\n",
    "        conn = sqlite3.connect(\"safety_data.db\")\n",
    "        cursor = conn.cursor()\n",
    "        cursor.execute(\"\"\"\n",
    "         CREATE TABLE IF NOT EXISTS safety (\n",
    "            employee_id PRIMARY KEY,\n",
    "            employee_name TEXT,\n",
    "            department TEXT,\n",
    "            incident_date Date,\n",
    "            incident_type TEXT,\n",
    "            days_lost INT,\n",
    "            injury_severity TEXT)\n",
    "\n",
    "            \"\"\"\n",
    "        )\n",
    "        with open(data, \"r\") as csv_file:\n",
    "            csv_reader = csv.reader(csv_file)\n",
    "            # skip header\n",
    "            next(csv_reader)\n",
    "            for row in csv_reader:\n",
    "                cursor.execute(\"INSERT INTO safety VALUES (?, ?, ?, ?, ?, ?, ?)\", row)\n",
    "        conn.commit()\n",
    "        print(\"Data loaded successfully\")\n",
    "    except Exception as e:\n",
    "        print(f\"Error: {e}\")\n",
    "    finally:\n",
    "        conn.close()\n",
    "\n",
    "data = \"/content/company_safety.csv\"\n",
    "load_safety_data(data)"
   ]
  },
  {
   "cell_type": "code",
   "execution_count": 3,
   "id": "4EI2sa7NDkKc",
   "metadata": {
    "executionInfo": {
     "elapsed": 1138,
     "status": "ok",
     "timestamp": 1752850394774,
     "user": {
      "displayName": "Benjamin Bennett Alexander",
      "userId": "14614847693800833280"
     },
     "user_tz": -180
    },
    "id": "4EI2sa7NDkKc"
   },
   "outputs": [],
   "source": [
    "# Loading the extension\n",
    "%load_ext sql"
   ]
  },
  {
   "cell_type": "code",
   "execution_count": 4,
   "id": "VJSMuZODKe-s",
   "metadata": {
    "executionInfo": {
     "elapsed": 15,
     "status": "ok",
     "timestamp": 1752850394822,
     "user": {
      "displayName": "Benjamin Bennett Alexander",
      "userId": "14614847693800833280"
     },
     "user_tz": -180
    },
    "id": "VJSMuZODKe-s"
   },
   "outputs": [],
   "source": [
    "%config SqlMagic.style = '_DEPRECATED_DEFAULT'"
   ]
  },
  {
   "cell_type": "code",
   "execution_count": 5,
   "id": "9d27eec2",
   "metadata": {
    "executionInfo": {
     "elapsed": 167,
     "status": "ok",
     "timestamp": 1752850394992,
     "user": {
      "displayName": "Benjamin Bennett Alexander",
      "userId": "14614847693800833280"
     },
     "user_tz": -180
    },
    "id": "9d27eec2"
   },
   "outputs": [],
   "source": [
    "# Using the extension to connect to database\n",
    "%sql sqlite:///safety_data.db"
   ]
  },
  {
   "cell_type": "code",
   "execution_count": 6,
   "id": "ef4b6d42",
   "metadata": {
    "colab": {
     "base_uri": "https://localhost:8080/",
     "height": 177
    },
    "executionInfo": {
     "elapsed": 145,
     "status": "ok",
     "timestamp": 1752850394998,
     "user": {
      "displayName": "Benjamin Bennett Alexander",
      "userId": "14614847693800833280"
     },
     "user_tz": -180
    },
    "id": "ef4b6d42",
    "outputId": "5e999cc0-afe1-4f60-addd-085e2d18ae9c"
   },
   "outputs": [
    {
     "name": "stdout",
     "output_type": "stream",
     "text": [
      " * sqlite:///safety_data.db\n",
      "Done.\n"
     ]
    },
    {
     "data": {
      "text/html": [
       "<table>\n",
       "    <thead>\n",
       "        <tr>\n",
       "            <th>employee_id</th>\n",
       "            <th>employee_name</th>\n",
       "            <th>department</th>\n",
       "            <th>incident_date</th>\n",
       "            <th>incident_type</th>\n",
       "            <th>days_lost</th>\n",
       "            <th>injury_severity</th>\n",
       "        </tr>\n",
       "    </thead>\n",
       "    <tbody>\n",
       "        <tr>\n",
       "            <td>1</td>\n",
       "            <td>John Doe</td>\n",
       "            <td>Manufacturing</td>\n",
       "            <td>2023-01-05</td>\n",
       "            <td>Slip</td>\n",
       "            <td>3</td>\n",
       "            <td>Minor</td>\n",
       "        </tr>\n",
       "        <tr>\n",
       "            <td>2</td>\n",
       "            <td>Jane Smith</td>\n",
       "            <td>Maintenance</td>\n",
       "            <td></td>\n",
       "            <td>Fall</td>\n",
       "            <td>5</td>\n",
       "            <td>Moderate</td>\n",
       "        </tr>\n",
       "        <tr>\n",
       "            <td>3</td>\n",
       "            <td>Jim Brown</td>\n",
       "            <td>Manufacturing</td>\n",
       "            <td>2023-02-12</td>\n",
       "            <td>Slip</td>\n",
       "            <td>1</td>\n",
       "            <td>Minor</td>\n",
       "        </tr>\n",
       "        <tr>\n",
       "            <td>4</td>\n",
       "            <td>Mary Johnson</td>\n",
       "            <td>Quality Control</td>\n",
       "            <td>2023-03-15</td>\n",
       "            <td></td>\n",
       "            <td>2</td>\n",
       "            <td>Minor</td>\n",
       "        </tr>\n",
       "        <tr>\n",
       "            <td>5</td>\n",
       "            <td>Robert Wilson</td>\n",
       "            <td>Maintenance</td>\n",
       "            <td>2023-04-22</td>\n",
       "            <td>Machine Accident</td>\n",
       "            <td>10</td>\n",
       "            <td>Severe</td>\n",
       "        </tr>\n",
       "    </tbody>\n",
       "</table>"
      ],
      "text/plain": [
       "[('1', 'John Doe', 'Manufacturing', '2023-01-05', 'Slip', 3, 'Minor'),\n",
       " ('2', 'Jane Smith', 'Maintenance', '', 'Fall', 5, 'Moderate'),\n",
       " ('3', 'Jim Brown', 'Manufacturing', '2023-02-12', 'Slip', 1, 'Minor'),\n",
       " ('4', 'Mary Johnson', 'Quality Control', '2023-03-15', '', 2, 'Minor'),\n",
       " ('5', 'Robert Wilson', 'Maintenance', '2023-04-22', 'Machine Accident', 10, 'Severe')]"
      ]
     },
     "execution_count": 6,
     "metadata": {},
     "output_type": "execute_result"
    }
   ],
   "source": [
    "%%sql\n",
    "SELECT * FROM safety\n",
    "LIMIT 5;"
   ]
  },
  {
   "cell_type": "markdown",
   "id": "3d81e399",
   "metadata": {
    "id": "3d81e399"
   },
   "source": [
    "#### 1.  write a query to return how many columns and rows are in the dataset."
   ]
  },
  {
   "cell_type": "code",
   "execution_count": 7,
   "id": "7bbbcc6d",
   "metadata": {
    "colab": {
     "base_uri": "https://localhost:8080/",
     "height": 219
    },
    "executionInfo": {
     "elapsed": 47,
     "status": "ok",
     "timestamp": 1752850395000,
     "user": {
      "displayName": "Benjamin Bennett Alexander",
      "userId": "14614847693800833280"
     },
     "user_tz": -180
    },
    "id": "7bbbcc6d",
    "outputId": "79e34f3b-bffd-4beb-ace5-ebab321cea67"
   },
   "outputs": [
    {
     "name": "stdout",
     "output_type": "stream",
     "text": [
      " * sqlite:///safety_data.db\n",
      "Done.\n"
     ]
    },
    {
     "data": {
      "text/html": [
       "<table>\n",
       "    <thead>\n",
       "        <tr>\n",
       "            <th>cid</th>\n",
       "            <th>name</th>\n",
       "            <th>type</th>\n",
       "            <th>notnull</th>\n",
       "            <th>dflt_value</th>\n",
       "            <th>pk</th>\n",
       "        </tr>\n",
       "    </thead>\n",
       "    <tbody>\n",
       "        <tr>\n",
       "            <td>0</td>\n",
       "            <td>employee_id</td>\n",
       "            <td></td>\n",
       "            <td>0</td>\n",
       "            <td>None</td>\n",
       "            <td>1</td>\n",
       "        </tr>\n",
       "        <tr>\n",
       "            <td>1</td>\n",
       "            <td>employee_name</td>\n",
       "            <td>TEXT</td>\n",
       "            <td>0</td>\n",
       "            <td>None</td>\n",
       "            <td>0</td>\n",
       "        </tr>\n",
       "        <tr>\n",
       "            <td>2</td>\n",
       "            <td>department</td>\n",
       "            <td>TEXT</td>\n",
       "            <td>0</td>\n",
       "            <td>None</td>\n",
       "            <td>0</td>\n",
       "        </tr>\n",
       "        <tr>\n",
       "            <td>3</td>\n",
       "            <td>incident_date</td>\n",
       "            <td>Date</td>\n",
       "            <td>0</td>\n",
       "            <td>None</td>\n",
       "            <td>0</td>\n",
       "        </tr>\n",
       "        <tr>\n",
       "            <td>4</td>\n",
       "            <td>incident_type</td>\n",
       "            <td>TEXT</td>\n",
       "            <td>0</td>\n",
       "            <td>None</td>\n",
       "            <td>0</td>\n",
       "        </tr>\n",
       "        <tr>\n",
       "            <td>5</td>\n",
       "            <td>days_lost</td>\n",
       "            <td>INT</td>\n",
       "            <td>0</td>\n",
       "            <td>None</td>\n",
       "            <td>0</td>\n",
       "        </tr>\n",
       "        <tr>\n",
       "            <td>6</td>\n",
       "            <td>injury_severity</td>\n",
       "            <td>TEXT</td>\n",
       "            <td>0</td>\n",
       "            <td>None</td>\n",
       "            <td>0</td>\n",
       "        </tr>\n",
       "    </tbody>\n",
       "</table>"
      ],
      "text/plain": [
       "[(0, 'employee_id', '', 0, None, 1),\n",
       " (1, 'employee_name', 'TEXT', 0, None, 0),\n",
       " (2, 'department', 'TEXT', 0, None, 0),\n",
       " (3, 'incident_date', 'Date', 0, None, 0),\n",
       " (4, 'incident_type', 'TEXT', 0, None, 0),\n",
       " (5, 'days_lost', 'INT', 0, None, 0),\n",
       " (6, 'injury_severity', 'TEXT', 0, None, 0)]"
      ]
     },
     "execution_count": 7,
     "metadata": {},
     "output_type": "execute_result"
    }
   ],
   "source": [
    "%%sql\n",
    "PRAGMA table_info(safety);"
   ]
  },
  {
   "cell_type": "code",
   "execution_count": 8,
   "id": "neE1eZQI2uql",
   "metadata": {
    "colab": {
     "base_uri": "https://localhost:8080/",
     "height": 94
    },
    "executionInfo": {
     "elapsed": 61,
     "status": "ok",
     "timestamp": 1752850395036,
     "user": {
      "displayName": "Benjamin Bennett Alexander",
      "userId": "14614847693800833280"
     },
     "user_tz": -180
    },
    "id": "neE1eZQI2uql",
    "outputId": "848cb5f3-265b-4cdb-be4a-9456e0ac1a96"
   },
   "outputs": [
    {
     "name": "stdout",
     "output_type": "stream",
     "text": [
      " * sqlite:///safety_data.db\n",
      "Done.\n"
     ]
    },
    {
     "data": {
      "text/html": [
       "<table>\n",
       "    <thead>\n",
       "        <tr>\n",
       "            <th>number_of_rows</th>\n",
       "        </tr>\n",
       "    </thead>\n",
       "    <tbody>\n",
       "        <tr>\n",
       "            <td>30</td>\n",
       "        </tr>\n",
       "    </tbody>\n",
       "</table>"
      ],
      "text/plain": [
       "[(30,)]"
      ]
     },
     "execution_count": 8,
     "metadata": {},
     "output_type": "execute_result"
    }
   ],
   "source": [
    "%%sql\n",
    "SELECT COUNT(*) AS number_of_rows\n",
    "FROM safety;"
   ]
  },
  {
   "cell_type": "code",
   "execution_count": 9,
   "id": "CqwaZVzzeO-n",
   "metadata": {
    "colab": {
     "base_uri": "https://localhost:8080/",
     "height": 94
    },
    "executionInfo": {
     "elapsed": 23,
     "status": "ok",
     "timestamp": 1752850395061,
     "user": {
      "displayName": "Benjamin Bennett Alexander",
      "userId": "14614847693800833280"
     },
     "user_tz": -180
    },
    "id": "CqwaZVzzeO-n",
    "outputId": "2b5f7b5e-df91-4104-b5fe-c49eae2c624f"
   },
   "outputs": [
    {
     "name": "stdout",
     "output_type": "stream",
     "text": [
      " * sqlite:///safety_data.db\n",
      "Done.\n"
     ]
    },
    {
     "data": {
      "text/html": [
       "<table>\n",
       "    <thead>\n",
       "        <tr>\n",
       "            <th>number_of_rows</th>\n",
       "        </tr>\n",
       "    </thead>\n",
       "    <tbody>\n",
       "        <tr>\n",
       "            <td>0</td>\n",
       "        </tr>\n",
       "    </tbody>\n",
       "</table>"
      ],
      "text/plain": [
       "[(0,)]"
      ]
     },
     "execution_count": 9,
     "metadata": {},
     "output_type": "execute_result"
    }
   ],
   "source": [
    "%%sql\n",
    "SELECT COUNT(*) AS number_of_rows\n",
    "FROM safety\n",
    "WHERE days_lost is NULL;"
   ]
  },
  {
   "cell_type": "markdown",
   "id": "6c6f6e3c",
   "metadata": {
    "id": "6c6f6e3c"
   },
   "source": [
    "#### 2. How many rows in the incident_date column has missing values or empty strings? Write a query to return the total number of missing values in this column."
   ]
  },
  {
   "cell_type": "code",
   "execution_count": 10,
   "id": "4539a9bc",
   "metadata": {
    "colab": {
     "base_uri": "https://localhost:8080/",
     "height": 94
    },
    "executionInfo": {
     "elapsed": 70,
     "status": "ok",
     "timestamp": 1752850395134,
     "user": {
      "displayName": "Benjamin Bennett Alexander",
      "userId": "14614847693800833280"
     },
     "user_tz": -180
    },
    "id": "4539a9bc",
    "outputId": "57be2deb-3330-4084-dc8f-1cae037cb0ce"
   },
   "outputs": [
    {
     "name": "stdout",
     "output_type": "stream",
     "text": [
      " * sqlite:///safety_data.db\n",
      "Done.\n"
     ]
    },
    {
     "data": {
      "text/html": [
       "<table>\n",
       "    <thead>\n",
       "        <tr>\n",
       "            <th>missing_empty_strings_rows</th>\n",
       "        </tr>\n",
       "    </thead>\n",
       "    <tbody>\n",
       "        <tr>\n",
       "            <td>3</td>\n",
       "        </tr>\n",
       "    </tbody>\n",
       "</table>"
      ],
      "text/plain": [
       "[(3,)]"
      ]
     },
     "execution_count": 10,
     "metadata": {},
     "output_type": "execute_result"
    }
   ],
   "source": [
    "%%sql\n",
    "SELECT COUNT(*) AS missing_empty_strings_rows\n",
    "FROM safety\n",
    "WHERE incident_date IS NULL OR incident_date = '';"
   ]
  },
  {
   "cell_type": "markdown",
   "id": "ede5e54e",
   "metadata": {
    "id": "ede5e54e"
   },
   "source": [
    "#### 3. Write a query to return all the rows in the table where \"incident_date\" OR  \"days_lost\" values are missing or null."
   ]
  },
  {
   "cell_type": "code",
   "execution_count": 11,
   "id": "aeb5982c",
   "metadata": {
    "colab": {
     "base_uri": "https://localhost:8080/",
     "height": 177
    },
    "executionInfo": {
     "elapsed": 100,
     "status": "ok",
     "timestamp": 1752850395190,
     "user": {
      "displayName": "Benjamin Bennett Alexander",
      "userId": "14614847693800833280"
     },
     "user_tz": -180
    },
    "id": "aeb5982c",
    "outputId": "91f16737-a68c-4ab3-a150-786dc573931e"
   },
   "outputs": [
    {
     "name": "stdout",
     "output_type": "stream",
     "text": [
      " * sqlite:///safety_data.db\n",
      "Done.\n"
     ]
    },
    {
     "data": {
      "text/html": [
       "<table>\n",
       "    <thead>\n",
       "        <tr>\n",
       "            <th>employee_id</th>\n",
       "            <th>employee_name</th>\n",
       "            <th>department</th>\n",
       "            <th>incident_date</th>\n",
       "            <th>incident_type</th>\n",
       "            <th>days_lost</th>\n",
       "            <th>injury_severity</th>\n",
       "        </tr>\n",
       "    </thead>\n",
       "    <tbody>\n",
       "        <tr>\n",
       "            <td>2</td>\n",
       "            <td>Jane Smith</td>\n",
       "            <td>Maintenance</td>\n",
       "            <td></td>\n",
       "            <td>Fall</td>\n",
       "            <td>5</td>\n",
       "            <td>Moderate</td>\n",
       "        </tr>\n",
       "        <tr>\n",
       "            <td>4</td>\n",
       "            <td>Mary Johnson</td>\n",
       "            <td>Quality Control</td>\n",
       "            <td>2023-03-15</td>\n",
       "            <td></td>\n",
       "            <td>2</td>\n",
       "            <td>Minor</td>\n",
       "        </tr>\n",
       "        <tr>\n",
       "            <td>10</td>\n",
       "            <td>Barbara Clark</td>\n",
       "            <td>Maintenance</td>\n",
       "            <td>2023-07-09</td>\n",
       "            <td></td>\n",
       "            <td>2</td>\n",
       "            <td>Minor</td>\n",
       "        </tr>\n",
       "        <tr>\n",
       "            <td>17</td>\n",
       "            <td>David Wright</td>\n",
       "            <td>Quality Control</td>\n",
       "            <td></td>\n",
       "            <td>Machine Accident</td>\n",
       "            <td>7</td>\n",
       "            <td>Severe</td>\n",
       "        </tr>\n",
       "        <tr>\n",
       "            <td>23</td>\n",
       "            <td>Matthew Perez</td>\n",
       "            <td>Manufacturing</td>\n",
       "            <td></td>\n",
       "            <td>Slip</td>\n",
       "            <td>2</td>\n",
       "            <td>Minor</td>\n",
       "        </tr>\n",
       "    </tbody>\n",
       "</table>"
      ],
      "text/plain": [
       "[('2', 'Jane Smith', 'Maintenance', '', 'Fall', 5, 'Moderate'),\n",
       " ('4', 'Mary Johnson', 'Quality Control', '2023-03-15', '', 2, 'Minor'),\n",
       " ('10', 'Barbara Clark', 'Maintenance', '2023-07-09', '', 2, 'Minor'),\n",
       " ('17', 'David Wright', 'Quality Control', '', 'Machine Accident', 7, 'Severe'),\n",
       " ('23', 'Matthew Perez', 'Manufacturing', '', 'Slip', 2, 'Minor')]"
      ]
     },
     "execution_count": 11,
     "metadata": {},
     "output_type": "execute_result"
    }
   ],
   "source": [
    "%%sql\n",
    "SELECT * FROM safety\n",
    "WHERE incident_date IS NULL OR incident_date = ''\n",
    "   OR incident_type IS NULL OR incident_type = '';"
   ]
  },
  {
   "cell_type": "markdown",
   "id": "97445d8b",
   "metadata": {
    "id": "97445d8b"
   },
   "source": [
    "#### 4. Write a query to return the MIN, MAX and AVERAGE values of the days_lost column."
   ]
  },
  {
   "cell_type": "code",
   "execution_count": 12,
   "id": "8c696ab2",
   "metadata": {
    "colab": {
     "base_uri": "https://localhost:8080/"
    },
    "executionInfo": {
     "elapsed": 40,
     "status": "ok",
     "timestamp": 1752850395191,
     "user": {
      "displayName": "Benjamin Bennett Alexander",
      "userId": "14614847693800833280"
     },
     "user_tz": -180
    },
    "id": "8c696ab2",
    "outputId": "d69dd772-fa7b-4636-eeb9-3770922c80a6"
   },
   "outputs": [
    {
     "name": "stdout",
     "output_type": "stream",
     "text": [
      " * sqlite:///safety_data.db\n",
      "4 rows affected.\n"
     ]
    },
    {
     "data": {
      "text/plain": [
       "[]"
      ]
     },
     "execution_count": 12,
     "metadata": {},
     "output_type": "execute_result"
    }
   ],
   "source": [
    "%%sql\n",
    "UPDATE safety\n",
    "SET days_lost = CASE\n",
    "                   WHEN days_lost = '' THEN 1\n",
    "                   ELSE days_lost\n",
    "               END\n",
    "WHERE days_lost = '';"
   ]
  },
  {
   "cell_type": "code",
   "execution_count": 13,
   "id": "fd3a61a8",
   "metadata": {
    "colab": {
     "base_uri": "https://localhost:8080/",
     "height": 94
    },
    "executionInfo": {
     "elapsed": 26,
     "status": "ok",
     "timestamp": 1752850395196,
     "user": {
      "displayName": "Benjamin Bennett Alexander",
      "userId": "14614847693800833280"
     },
     "user_tz": -180
    },
    "id": "fd3a61a8",
    "outputId": "7eaebf0f-eb5f-4b34-ca50-37365175ac04"
   },
   "outputs": [
    {
     "name": "stdout",
     "output_type": "stream",
     "text": [
      " * sqlite:///safety_data.db\n",
      "Done.\n"
     ]
    },
    {
     "data": {
      "text/html": [
       "<table>\n",
       "    <thead>\n",
       "        <tr>\n",
       "            <th>min_value</th>\n",
       "            <th>max_value</th>\n",
       "            <th>avg_value</th>\n",
       "        </tr>\n",
       "    </thead>\n",
       "    <tbody>\n",
       "        <tr>\n",
       "            <td>1</td>\n",
       "            <td>10</td>\n",
       "            <td>4.233333333333333</td>\n",
       "        </tr>\n",
       "    </tbody>\n",
       "</table>"
      ],
      "text/plain": [
       "[(1, 10, 4.233333333333333)]"
      ]
     },
     "execution_count": 13,
     "metadata": {},
     "output_type": "execute_result"
    }
   ],
   "source": [
    "%%sql\n",
    "SELECT\n",
    "    MIN(days_lost) AS min_value,\n",
    "    MAX(days_lost) AS max_value,\n",
    "    AVG(days_lost) AS avg_value\n",
    "FROM safety;"
   ]
  },
  {
   "cell_type": "markdown",
   "id": "365ecba4",
   "metadata": {
    "id": "365ecba4"
   },
   "source": [
    "#### 5. It has come to your attention that the missing values in the \"incident_type\" column is \"fall\" injuries. Update the table by replacing the missing values in the column with \"fall\" values"
   ]
  },
  {
   "cell_type": "code",
   "execution_count": 14,
   "id": "92abb3c5",
   "metadata": {
    "colab": {
     "base_uri": "https://localhost:8080/"
    },
    "executionInfo": {
     "elapsed": 20,
     "status": "ok",
     "timestamp": 1752850395217,
     "user": {
      "displayName": "Benjamin Bennett Alexander",
      "userId": "14614847693800833280"
     },
     "user_tz": -180
    },
    "id": "92abb3c5",
    "outputId": "2a50e3bd-af5b-49a3-a9ec-bff448acd27f"
   },
   "outputs": [
    {
     "name": "stdout",
     "output_type": "stream",
     "text": [
      " * sqlite:///safety_data.db\n",
      "2 rows affected.\n"
     ]
    },
    {
     "data": {
      "text/plain": [
       "[]"
      ]
     },
     "execution_count": 14,
     "metadata": {},
     "output_type": "execute_result"
    }
   ],
   "source": [
    "%%sql\n",
    "UPDATE safety\n",
    "SET incident_type = CASE\n",
    "                        WHEN incident_type = '' THEN 'Fall'\n",
    "                        ELSE incident_type\n",
    "                    END\n",
    "WHERE incident_type = '';"
   ]
  },
  {
   "cell_type": "code",
   "execution_count": 15,
   "id": "964d2d91",
   "metadata": {
    "colab": {
     "base_uri": "https://localhost:8080/",
     "height": 94
    },
    "executionInfo": {
     "elapsed": 45,
     "status": "ok",
     "timestamp": 1752850395265,
     "user": {
      "displayName": "Benjamin Bennett Alexander",
      "userId": "14614847693800833280"
     },
     "user_tz": -180
    },
    "id": "964d2d91",
    "outputId": "0242b308-693e-4416-8629-40d16d1bab1b"
   },
   "outputs": [
    {
     "name": "stdout",
     "output_type": "stream",
     "text": [
      " * sqlite:///safety_data.db\n",
      "Done.\n"
     ]
    },
    {
     "data": {
      "text/html": [
       "<table>\n",
       "    <thead>\n",
       "        <tr>\n",
       "            <th>total_empty_string</th>\n",
       "        </tr>\n",
       "    </thead>\n",
       "    <tbody>\n",
       "        <tr>\n",
       "            <td>0</td>\n",
       "        </tr>\n",
       "    </tbody>\n",
       "</table>"
      ],
      "text/plain": [
       "[(0,)]"
      ]
     },
     "execution_count": 15,
     "metadata": {},
     "output_type": "execute_result"
    }
   ],
   "source": [
    "%%sql\n",
    "SELECT COUNT(*) AS total_empty_string\n",
    "FROM safety\n",
    "WHERE incident_type = '';"
   ]
  },
  {
   "cell_type": "code",
   "execution_count": 15,
   "id": "3508824e",
   "metadata": {
    "executionInfo": {
     "elapsed": 12,
     "status": "ok",
     "timestamp": 1752850395268,
     "user": {
      "displayName": "Benjamin Bennett Alexander",
      "userId": "14614847693800833280"
     },
     "user_tz": -180
    },
    "id": "3508824e"
   },
   "outputs": [],
   "source": []
  }
 ],
 "metadata": {
  "colab": {
   "provenance": []
  },
  "kernelspec": {
   "display_name": "Python 3 (ipykernel)",
   "language": "python",
   "name": "python3"
  },
  "language_info": {
   "codemirror_mode": {
    "name": "ipython",
    "version": 3
   },
   "file_extension": ".py",
   "mimetype": "text/x-python",
   "name": "python",
   "nbconvert_exporter": "python",
   "pygments_lexer": "ipython3",
   "version": "3.10.5"
  }
 },
 "nbformat": 4,
 "nbformat_minor": 5
}

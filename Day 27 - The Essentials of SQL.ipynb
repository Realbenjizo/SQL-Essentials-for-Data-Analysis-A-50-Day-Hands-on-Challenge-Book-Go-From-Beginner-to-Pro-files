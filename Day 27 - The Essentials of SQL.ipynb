{
 "cells": [
  {
   "cell_type": "markdown",
   "id": "HphlGqs8CtIS",
   "metadata": {
    "id": "HphlGqs8CtIS"
   },
   "source": [
    "## Question 1: **Answer**"
   ]
  },
  {
   "cell_type": "code",
   "execution_count": 1,
   "id": "ba2ef396",
   "metadata": {
    "executionInfo": {
     "elapsed": 673,
     "status": "ok",
     "timestamp": 1752920569798,
     "user": {
      "displayName": "Benjamin Bennett Alexander",
      "userId": "14614847693800833280"
     },
     "user_tz": -180
    },
    "id": "ba2ef396"
   },
   "outputs": [],
   "source": [
    "import pandas as pd\n",
    "import sqlite3"
   ]
  },
  {
   "cell_type": "code",
   "execution_count": null,
   "id": "caece0cd",
   "metadata": {
    "executionInfo": {
     "elapsed": 657,
     "status": "ok",
     "timestamp": 1752920570448,
     "user": {
      "displayName": "Benjamin Bennett Alexander",
      "userId": "14614847693800833280"
     },
     "user_tz": -180
    },
    "id": "caece0cd"
   },
   "outputs": [],
   "source": [
    "def add_data_to_database(input_data):\n",
    "    try:\n",
    "        data = pd.read_csv(input_data)\n",
    "        # Creating a database\n",
    "        engine = sqlite3.connect('music_business.db')\n",
    "        data.to_sql('music', con=engine, index = False)\n",
    "    except Exception as e:\n",
    "        print(f\"Error: {e}\")\n",
    "\n",
    "data = \"/content/music_store.csv\"\n",
    "add_data_to_database(data)"
   ]
  },
  {
   "cell_type": "code",
   "execution_count": 3,
   "id": "3fb8b15d",
   "metadata": {
    "executionInfo": {
     "elapsed": 865,
     "status": "ok",
     "timestamp": 1752920571315,
     "user": {
      "displayName": "Benjamin Bennett Alexander",
      "userId": "14614847693800833280"
     },
     "user_tz": -180
    },
    "id": "3fb8b15d"
   },
   "outputs": [],
   "source": [
    "# Loading SQL extension\n",
    "%load_ext sql"
   ]
  },
  {
   "cell_type": "code",
   "execution_count": 4,
   "id": "cc9dd900",
   "metadata": {
    "executionInfo": {
     "elapsed": 51,
     "status": "ok",
     "timestamp": 1752920571376,
     "user": {
      "displayName": "Benjamin Bennett Alexander",
      "userId": "14614847693800833280"
     },
     "user_tz": -180
    },
    "id": "cc9dd900"
   },
   "outputs": [],
   "source": [
    "#  Connecting to the database\n",
    "%sql sqlite:///music_business.db"
   ]
  },
  {
   "cell_type": "code",
   "execution_count": 5,
   "id": "NeYOZgIb6Jif",
   "metadata": {
    "executionInfo": {
     "elapsed": 5,
     "status": "ok",
     "timestamp": 1752920571386,
     "user": {
      "displayName": "Benjamin Bennett Alexander",
      "userId": "14614847693800833280"
     },
     "user_tz": -180
    },
    "id": "NeYOZgIb6Jif"
   },
   "outputs": [],
   "source": [
    "# Default to duplicated style\n",
    "%config SqlMagic.style = '_DEPRECATED_DEFAULT'"
   ]
  },
  {
   "cell_type": "code",
   "execution_count": 6,
   "id": "b0131394",
   "metadata": {
    "colab": {
     "base_uri": "https://localhost:8080/",
     "height": 177
    },
    "executionInfo": {
     "elapsed": 22,
     "status": "ok",
     "timestamp": 1752920571494,
     "user": {
      "displayName": "Benjamin Bennett Alexander",
      "userId": "14614847693800833280"
     },
     "user_tz": -180
    },
    "id": "b0131394",
    "outputId": "dfe2a066-9b55-439c-967b-3f94d6394e8a"
   },
   "outputs": [
    {
     "name": "stdout",
     "output_type": "stream",
     "text": [
      " * sqlite:///music_business.db\n",
      "Done.\n"
     ]
    },
    {
     "data": {
      "text/html": [
       "<table>\n",
       "    <thead>\n",
       "        <tr>\n",
       "            <th>customer_id</th>\n",
       "            <th>customer_name</th>\n",
       "            <th>contact_number</th>\n",
       "            <th>purchase_date</th>\n",
       "            <th>product_type</th>\n",
       "            <th>product_name</th>\n",
       "            <th>quantity</th>\n",
       "            <th>price</th>\n",
       "        </tr>\n",
       "    </thead>\n",
       "    <tbody>\n",
       "        <tr>\n",
       "            <td>1</td>\n",
       "            <td>Alice Smith</td>\n",
       "            <td>123-456-7890</td>\n",
       "            <td>2023-01-05</td>\n",
       "            <td>Instruments</td>\n",
       "            <td>Guitar</td>\n",
       "            <td>13.0</td>\n",
       "            <td>200.0</td>\n",
       "        </tr>\n",
       "        <tr>\n",
       "            <td>2</td>\n",
       "            <td>Bob Johnson</td>\n",
       "            <td>987-654-3210</td>\n",
       "            <td>2023-10-07</td>\n",
       "            <td>Instruments</td>\n",
       "            <td>Keyboard</td>\n",
       "            <td>20.0</td>\n",
       "            <td>300.0</td>\n",
       "        </tr>\n",
       "        <tr>\n",
       "            <td>3</td>\n",
       "            <td>Charlie Brown</td>\n",
       "            <td>567-890-1234</td>\n",
       "            <td>2023-02-07</td>\n",
       "            <td>Accessories</td>\n",
       "            <td>Strings</td>\n",
       "            <td>18.0</td>\n",
       "            <td>50.0</td>\n",
       "        </tr>\n",
       "        <tr>\n",
       "            <td>4</td>\n",
       "            <td>David Williams</td>\n",
       "            <td>789-012-3456</td>\n",
       "            <td>2023-02-09</td>\n",
       "            <td>Accessories</td>\n",
       "            <td>Pedals</td>\n",
       "            <td>21.0</td>\n",
       "            <td>80.0</td>\n",
       "        </tr>\n",
       "        <tr>\n",
       "            <td>5</td>\n",
       "            <td>Emily Jones</td>\n",
       "            <td>345-678-9012</td>\n",
       "            <td>2023-03-09</td>\n",
       "            <td>Music Books</td>\n",
       "            <td>Theory Book</td>\n",
       "            <td>19.0</td>\n",
       "            <td>100.0</td>\n",
       "        </tr>\n",
       "    </tbody>\n",
       "</table>"
      ],
      "text/plain": [
       "[(1, 'Alice Smith', '123-456-7890', '2023-01-05', 'Instruments', 'Guitar', 13.0, 200.0),\n",
       " (2, 'Bob Johnson', '987-654-3210', '2023-10-07', 'Instruments', 'Keyboard', 20.0, 300.0),\n",
       " (3, 'Charlie Brown', '567-890-1234', '2023-02-07', 'Accessories', 'Strings', 18.0, 50.0),\n",
       " (4, 'David Williams', '789-012-3456', '2023-02-09', 'Accessories', 'Pedals', 21.0, 80.0),\n",
       " (5, 'Emily Jones', '345-678-9012', '2023-03-09', 'Music Books', 'Theory Book', 19.0, 100.0)]"
      ]
     },
     "execution_count": 6,
     "metadata": {},
     "output_type": "execute_result"
    }
   ],
   "source": [
    "%%sql\n",
    "SELECT * FROM music\n",
    "LIMIT 5;"
   ]
  },
  {
   "cell_type": "markdown",
   "id": "ab2a8051",
   "metadata": {
    "id": "ab2a8051"
   },
   "source": [
    "## Question 2: **Answer**"
   ]
  },
  {
   "cell_type": "code",
   "execution_count": 7,
   "id": "66e07fcd",
   "metadata": {
    "colab": {
     "base_uri": "https://localhost:8080/",
     "height": 94
    },
    "executionInfo": {
     "elapsed": 18,
     "status": "ok",
     "timestamp": 1752920571509,
     "user": {
      "displayName": "Benjamin Bennett Alexander",
      "userId": "14614847693800833280"
     },
     "user_tz": -180
    },
    "id": "66e07fcd",
    "outputId": "b0ddf02a-98af-4f31-bc81-2353a795f724"
   },
   "outputs": [
    {
     "name": "stdout",
     "output_type": "stream",
     "text": [
      " * sqlite:///music_business.db\n",
      "Done.\n"
     ]
    },
    {
     "data": {
      "text/html": [
       "<table>\n",
       "    <thead>\n",
       "        <tr>\n",
       "            <th>customer_name</th>\n",
       "            <th>product_type</th>\n",
       "        </tr>\n",
       "    </thead>\n",
       "    <tbody>\n",
       "        <tr>\n",
       "            <td>Charlie Brown</td>\n",
       "            <td>Accessories</td>\n",
       "        </tr>\n",
       "    </tbody>\n",
       "</table>"
      ],
      "text/plain": [
       "[('Charlie Brown', 'Accessories')]"
      ]
     },
     "execution_count": 7,
     "metadata": {},
     "output_type": "execute_result"
    }
   ],
   "source": [
    "%%sql\n",
    "SELECT\n",
    "    customer_name,\n",
    "    product_type\n",
    "FROM music\n",
    "WHERE\n",
    "    customer_name = 'Charlie Brown' AND\n",
    "    (product_type = 'Instruments' OR product_type = 'Accessories')"
   ]
  },
  {
   "cell_type": "markdown",
   "id": "d331e3c2",
   "metadata": {
    "id": "d331e3c2"
   },
   "source": [
    "## Question 3: **Answer**"
   ]
  },
  {
   "cell_type": "code",
   "execution_count": 8,
   "id": "fafa44b1",
   "metadata": {
    "colab": {
     "base_uri": "https://localhost:8080/",
     "height": 115
    },
    "executionInfo": {
     "elapsed": 62,
     "status": "ok",
     "timestamp": 1752920571603,
     "user": {
      "displayName": "Benjamin Bennett Alexander",
      "userId": "14614847693800833280"
     },
     "user_tz": -180
    },
    "id": "fafa44b1",
    "outputId": "af194f94-d4d6-44e8-eb20-eff0e2f96640"
   },
   "outputs": [
    {
     "name": "stdout",
     "output_type": "stream",
     "text": [
      " * sqlite:///music_business.db\n",
      "Done.\n"
     ]
    },
    {
     "data": {
      "text/html": [
       "<table>\n",
       "    <thead>\n",
       "        <tr>\n",
       "            <th>customer_name</th>\n",
       "            <th>quantity</th>\n",
       "            <th>day_of_month</th>\n",
       "        </tr>\n",
       "    </thead>\n",
       "    <tbody>\n",
       "        <tr>\n",
       "            <td>David Williams</td>\n",
       "            <td>21.0</td>\n",
       "            <td>09</td>\n",
       "        </tr>\n",
       "        <tr>\n",
       "            <td>Peter Jones</td>\n",
       "            <td>21.0</td>\n",
       "            <td>02</td>\n",
       "        </tr>\n",
       "    </tbody>\n",
       "</table>"
      ],
      "text/plain": [
       "[('David Williams', 21.0, '09'), ('Peter Jones', 21.0, '02')]"
      ]
     },
     "execution_count": 8,
     "metadata": {},
     "output_type": "execute_result"
    }
   ],
   "source": [
    "%%sql\n",
    "-- CTE to calculate the maximum quantity\n",
    "WITH max_quantity AS(\n",
    "    SELECT\n",
    "    MAX(quantity) AS max_quatity\n",
    "    FROM music\n",
    ")\n",
    "-- Main query to return name, quantity and day\n",
    "SELECT\n",
    "    customer_name,\n",
    "    quantity,\n",
    "    STRFTIME('%d', purchase_date) AS day_of_month\n",
    "FROM music\n",
    "WHERE quantity = (SELECT * FROM max_quantity);"
   ]
  },
  {
   "cell_type": "markdown",
   "id": "27d88beb",
   "metadata": {
    "id": "27d88beb"
   },
   "source": [
    "## Question 4: **Answer**"
   ]
  },
  {
   "cell_type": "code",
   "execution_count": 9,
   "id": "xszC6hDsbIX8",
   "metadata": {
    "colab": {
     "base_uri": "https://localhost:8080/",
     "height": 94
    },
    "executionInfo": {
     "elapsed": 26,
     "status": "ok",
     "timestamp": 1752920571607,
     "user": {
      "displayName": "Benjamin Bennett Alexander",
      "userId": "14614847693800833280"
     },
     "user_tz": -180
    },
    "id": "xszC6hDsbIX8",
    "outputId": "1d45b49e-7efc-41ab-fd3e-a4848356112c"
   },
   "outputs": [
    {
     "name": "stdout",
     "output_type": "stream",
     "text": [
      " * sqlite:///music_business.db\n",
      "Done.\n"
     ]
    },
    {
     "data": {
      "text/html": [
       "<table>\n",
       "    <thead>\n",
       "        <tr>\n",
       "            <th>total_sales_value</th>\n",
       "            <th>total_quantity</th>\n",
       "            <th>high_price_sales_value</th>\n",
       "            <th>high_price_quantity</th>\n",
       "        </tr>\n",
       "    </thead>\n",
       "    <tbody>\n",
       "        <tr>\n",
       "            <td>12865.0</td>\n",
       "            <td>111.0</td>\n",
       "            <td>10800.0</td>\n",
       "            <td>18.0</td>\n",
       "        </tr>\n",
       "    </tbody>\n",
       "</table>"
      ],
      "text/plain": [
       "[(12865.0, 111.0, 10800.0, 18.0)]"
      ]
     },
     "execution_count": 9,
     "metadata": {},
     "output_type": "execute_result"
    }
   ],
   "source": [
    "%%sql\n",
    "SELECT\n",
    "    SUM(quantity * price) AS total_sales_value,\n",
    "    SUM(quantity) AS total_quantity,\n",
    "    -- Calculate sales value for high-value products\n",
    "    SUM(CASE WHEN price > 100 THEN quantity * price ELSE 0 END)\n",
    "    AS high_price_sales_value,\n",
    "    -- Calculate quantity value for high-value products\n",
    "    SUM(CASE WHEN price > 100 THEN quantity ELSE 0 END)\n",
    "    AS high_price_quantity\n",
    "FROM music\n",
    "WHERE purchase_date BETWEEN '2023-10-21' AND '2023-12-02';"
   ]
  },
  {
   "cell_type": "markdown",
   "id": "a728c3d8",
   "metadata": {
    "id": "a728c3d8"
   },
   "source": [
    " ## Question 5: **Answer**"
   ]
  },
  {
   "cell_type": "code",
   "execution_count": 10,
   "id": "48025416",
   "metadata": {
    "colab": {
     "base_uri": "https://localhost:8080/",
     "height": 94
    },
    "executionInfo": {
     "elapsed": 27,
     "status": "ok",
     "timestamp": 1752920571636,
     "user": {
      "displayName": "Benjamin Bennett Alexander",
      "userId": "14614847693800833280"
     },
     "user_tz": -180
    },
    "id": "48025416",
    "outputId": "17c9f4cb-282f-4aab-8f15-c430db75d4d3"
   },
   "outputs": [
    {
     "name": "stdout",
     "output_type": "stream",
     "text": [
      " * sqlite:///music_business.db\n",
      "Done.\n"
     ]
    },
    {
     "data": {
      "text/html": [
       "<table>\n",
       "    <thead>\n",
       "        <tr>\n",
       "            <th>total_revenue_guitar</th>\n",
       "            <th>revenue_percentage</th>\n",
       "        </tr>\n",
       "    </thead>\n",
       "    <tbody>\n",
       "        <tr>\n",
       "            <td>8850.0</td>\n",
       "            <td>0.19</td>\n",
       "        </tr>\n",
       "    </tbody>\n",
       "</table>"
      ],
      "text/plain": [
       "[(8850.0, 0.19)]"
      ]
     },
     "execution_count": 10,
     "metadata": {},
     "output_type": "execute_result"
    }
   ],
   "source": [
    "%%sql\n",
    "-- CTE calculating total sales per product\n",
    "WITH total_sales AS (\n",
    "    SELECT\n",
    "        product_name,\n",
    "        SUM(quantity * price) AS total\n",
    "    FROM music\n",
    "    WHERE product_name LIKE 'Guitar%' OR product_name LIKE '%Guitar'\n",
    "    GROUP BY product_name)\n",
    "\n",
    "--Main Query to return revenue and percentage\n",
    "SELECT\n",
    "    SUM(total) AS total_revenue_guitar,\n",
    "    ROUND(sum(total)/(SELECT SUM(quantity * price) FROM music), 2)\n",
    "    AS revenue_percentage\n",
    "FROM total_sales;"
   ]
  },
  {
   "cell_type": "markdown",
   "id": "NMMrtD4IDr4i",
   "metadata": {
    "id": "NMMrtD4IDr4i"
   },
   "source": [
    "## Altenative method"
   ]
  },
  {
   "cell_type": "code",
   "execution_count": 11,
   "id": "R_OWkft6wipe",
   "metadata": {
    "colab": {
     "base_uri": "https://localhost:8080/",
     "height": 94
    },
    "executionInfo": {
     "elapsed": 53,
     "status": "ok",
     "timestamp": 1752920571693,
     "user": {
      "displayName": "Benjamin Bennett Alexander",
      "userId": "14614847693800833280"
     },
     "user_tz": -180
    },
    "id": "R_OWkft6wipe",
    "outputId": "35858863-8054-41a2-f7ca-d87310db8263"
   },
   "outputs": [
    {
     "name": "stdout",
     "output_type": "stream",
     "text": [
      " * sqlite:///music_business.db\n",
      "Done.\n"
     ]
    },
    {
     "data": {
      "text/html": [
       "<table>\n",
       "    <thead>\n",
       "        <tr>\n",
       "            <th>total_revenue_guitar</th>\n",
       "            <th>percentage</th>\n",
       "        </tr>\n",
       "    </thead>\n",
       "    <tbody>\n",
       "        <tr>\n",
       "            <td>8850.0</td>\n",
       "            <td>0.19</td>\n",
       "        </tr>\n",
       "    </tbody>\n",
       "</table>"
      ],
      "text/plain": [
       "[(8850.0, 0.19)]"
      ]
     },
     "execution_count": 11,
     "metadata": {},
     "output_type": "execute_result"
    }
   ],
   "source": [
    "%%sql\n",
    "SELECT\n",
    "-- Calculating the guitar products revenue\n",
    "    SUM(CASE\n",
    "        WHEN product_name LIKE 'Guitar%' OR product_name LIKE '%Guitar'\n",
    "        THEN quantity * price\n",
    "        ELSE 0\n",
    "    END) AS total_revenue_guitar,\n",
    "    -- Calculating the percentage contribution of guitar revenue\n",
    "    ROUND(SUM(CASE\n",
    "        WHEN product_name LIKE 'Guitar%' OR product_name LIKE '%Guitar'\n",
    "        THEN quantity * price\n",
    "        ELSE 0\n",
    "    END) / SUM(quantity * price), 2) AS percentage\n",
    "FROM music;"
   ]
  },
  {
   "cell_type": "code",
   "execution_count": 12,
   "id": "C7APZ4lTahO9",
   "metadata": {
    "executionInfo": {
     "elapsed": 7,
     "status": "ok",
     "timestamp": 1752920571704,
     "user": {
      "displayName": "Benjamin Bennett Alexander",
      "userId": "14614847693800833280"
     },
     "user_tz": -180
    },
    "id": "C7APZ4lTahO9"
   },
   "outputs": [],
   "source": [
    "# %%sql\n",
    "# DROP TABLE music;"
   ]
  }
 ],
 "metadata": {
  "colab": {
   "provenance": []
  },
  "kernelspec": {
   "display_name": "Python 3 (ipykernel)",
   "language": "python",
   "name": "python3"
  },
  "language_info": {
   "codemirror_mode": {
    "name": "ipython",
    "version": 3
   },
   "file_extension": ".py",
   "mimetype": "text/x-python",
   "name": "python",
   "nbconvert_exporter": "python",
   "pygments_lexer": "ipython3",
   "version": "3.10.5"
  }
 },
 "nbformat": 4,
 "nbformat_minor": 5
}

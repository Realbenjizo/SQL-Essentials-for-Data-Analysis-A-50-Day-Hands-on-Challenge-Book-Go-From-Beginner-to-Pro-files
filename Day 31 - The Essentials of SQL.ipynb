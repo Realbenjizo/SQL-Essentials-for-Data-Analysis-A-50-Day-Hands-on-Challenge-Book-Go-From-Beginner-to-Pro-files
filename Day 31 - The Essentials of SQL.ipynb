{
 "cells": [
  {
   "cell_type": "markdown",
   "id": "Qwq46w36o_Tt",
   "metadata": {
    "id": "Qwq46w36o_Tt"
   },
   "source": [
    "## Question 1: **Answer**"
   ]
  },
  {
   "cell_type": "code",
   "execution_count": 1,
   "id": "c508a365",
   "metadata": {
    "executionInfo": {
     "elapsed": 616,
     "status": "ok",
     "timestamp": 1752926649185,
     "user": {
      "displayName": "Benjamin Bennett Alexander",
      "userId": "14614847693800833280"
     },
     "user_tz": -180
    },
    "id": "c508a365"
   },
   "outputs": [],
   "source": [
    "import pandas as pd\n",
    "import sqlite3"
   ]
  },
  {
   "cell_type": "code",
   "execution_count": null,
   "id": "df3935bd",
   "metadata": {
    "executionInfo": {
     "elapsed": 849,
     "status": "ok",
     "timestamp": 1752926650025,
     "user": {
      "displayName": "Benjamin Bennett Alexander",
      "userId": "14614847693800833280"
     },
     "user_tz": -180
    },
    "id": "df3935bd"
   },
   "outputs": [],
   "source": [
    "def add_data_to_database(input_data):\n",
    "    try:\n",
    "        df = pd.read_csv(input_data)\n",
    "        engine = sqlite3.connect('cleaning_expenses_records.db')\n",
    "        df.to_sql('expenses', con=engine, index = False)\n",
    "    except Exception as e:\n",
    "        print(f\"Error: {e}\")\n",
    "\n",
    "data = \"/content/cleaning_expenses.csv\"\n",
    "add_data_to_database(data)"
   ]
  },
  {
   "cell_type": "code",
   "execution_count": 3,
   "id": "b2ea2171",
   "metadata": {
    "executionInfo": {
     "elapsed": 753,
     "status": "ok",
     "timestamp": 1752926650789,
     "user": {
      "displayName": "Benjamin Bennett Alexander",
      "userId": "14614847693800833280"
     },
     "user_tz": -180
    },
    "id": "b2ea2171"
   },
   "outputs": [],
   "source": [
    " # Loading SQL extension\n",
    "%load_ext sql"
   ]
  },
  {
   "cell_type": "code",
   "execution_count": 4,
   "id": "34d3f81b",
   "metadata": {
    "executionInfo": {
     "elapsed": 41,
     "status": "ok",
     "timestamp": 1752926650836,
     "user": {
      "displayName": "Benjamin Bennett Alexander",
      "userId": "14614847693800833280"
     },
     "user_tz": -180
    },
    "id": "34d3f81b"
   },
   "outputs": [],
   "source": [
    "# Connecting to the database\n",
    "%sql sqlite:///cleaning_expenses_records.db"
   ]
  },
  {
   "cell_type": "code",
   "execution_count": 5,
   "id": "OdlplX8dNsKb",
   "metadata": {
    "executionInfo": {
     "elapsed": 22,
     "status": "ok",
     "timestamp": 1752926650862,
     "user": {
      "displayName": "Benjamin Bennett Alexander",
      "userId": "14614847693800833280"
     },
     "user_tz": -180
    },
    "id": "OdlplX8dNsKb"
   },
   "outputs": [],
   "source": [
    "# Default to duplicated style\n",
    "%config SqlMagic.style = '_DEPRECATED_DEFAULT'"
   ]
  },
  {
   "cell_type": "markdown",
   "id": "3da18ffd",
   "metadata": {
    "id": "3da18ffd"
   },
   "source": [
    "#### 1. View the first five rows"
   ]
  },
  {
   "cell_type": "code",
   "execution_count": 6,
   "id": "6b5d7c71",
   "metadata": {
    "colab": {
     "base_uri": "https://localhost:8080/",
     "height": 177
    },
    "executionInfo": {
     "elapsed": 93,
     "status": "ok",
     "timestamp": 1752926651015,
     "user": {
      "displayName": "Benjamin Bennett Alexander",
      "userId": "14614847693800833280"
     },
     "user_tz": -180
    },
    "id": "6b5d7c71",
    "outputId": "48c45bde-2a18-48e5-c285-e881793f8383"
   },
   "outputs": [
    {
     "name": "stdout",
     "output_type": "stream",
     "text": [
      " * sqlite:///cleaning_expenses_records.db\n",
      "Done.\n"
     ]
    },
    {
     "data": {
      "text/html": [
       "<table>\n",
       "    <thead>\n",
       "        <tr>\n",
       "            <th>date</th>\n",
       "            <th>category</th>\n",
       "            <th>description</th>\n",
       "            <th>amount</th>\n",
       "        </tr>\n",
       "    </thead>\n",
       "    <tbody>\n",
       "        <tr>\n",
       "            <td>2020-01-05</td>\n",
       "            <td>Supplies</td>\n",
       "            <td>Cleaning products</td>\n",
       "            <td>150</td>\n",
       "        </tr>\n",
       "        <tr>\n",
       "            <td>2020-01-08</td>\n",
       "            <td>Labor</td>\n",
       "            <td>Wages for cleaners </td>\n",
       "            <td>300</td>\n",
       "        </tr>\n",
       "        <tr>\n",
       "            <td>2020-01-12</td>\n",
       "            <td>Marketing</td>\n",
       "            <td>Online advertising (Facebook)</td>\n",
       "            <td>50</td>\n",
       "        </tr>\n",
       "        <tr>\n",
       "            <td>2020-01-15</td>\n",
       "            <td>Supplies</td>\n",
       "            <td>Trash bags and gloves</td>\n",
       "            <td>25</td>\n",
       "        </tr>\n",
       "        <tr>\n",
       "            <td>2020-01-20</td>\n",
       "            <td>Labor</td>\n",
       "            <td>Wages for cleaners </td>\n",
       "            <td>425</td>\n",
       "        </tr>\n",
       "    </tbody>\n",
       "</table>"
      ],
      "text/plain": [
       "[('2020-01-05', 'Supplies', 'Cleaning products', 150),\n",
       " ('2020-01-08', 'Labor', 'Wages for cleaners ', 300),\n",
       " ('2020-01-12', 'Marketing', 'Online advertising (Facebook)', 50),\n",
       " ('2020-01-15', 'Supplies', 'Trash bags and gloves', 25),\n",
       " ('2020-01-20', 'Labor', 'Wages for cleaners ', 425)]"
      ]
     },
     "execution_count": 6,
     "metadata": {},
     "output_type": "execute_result"
    }
   ],
   "source": [
    "%%sql\n",
    "SELECT * FROM expenses\n",
    "LIMIT 5;"
   ]
  },
  {
   "cell_type": "markdown",
   "id": "50efcedf",
   "metadata": {
    "id": "50efcedf"
   },
   "source": [
    "## Question 2: **Answer**"
   ]
  },
  {
   "cell_type": "code",
   "execution_count": 7,
   "id": "Vrfjx0lEpIzv",
   "metadata": {
    "colab": {
     "base_uri": "https://localhost:8080/",
     "height": 94
    },
    "executionInfo": {
     "elapsed": 73,
     "status": "ok",
     "timestamp": 1752926651022,
     "user": {
      "displayName": "Benjamin Bennett Alexander",
      "userId": "14614847693800833280"
     },
     "user_tz": -180
    },
    "id": "Vrfjx0lEpIzv",
    "outputId": "8ad27e13-1474-48e4-db1d-3d24c24f2815"
   },
   "outputs": [
    {
     "name": "stdout",
     "output_type": "stream",
     "text": [
      " * sqlite:///cleaning_expenses_records.db\n",
      "Done.\n"
     ]
    },
    {
     "data": {
      "text/html": [
       "<table>\n",
       "    <thead>\n",
       "        <tr>\n",
       "            <th>month</th>\n",
       "            <th>total_labor_cost</th>\n",
       "            <th>percentage_share</th>\n",
       "        </tr>\n",
       "    </thead>\n",
       "    <tbody>\n",
       "        <tr>\n",
       "            <td>03</td>\n",
       "            <td>275</td>\n",
       "            <td>11.0</td>\n",
       "        </tr>\n",
       "    </tbody>\n",
       "</table>"
      ],
      "text/plain": [
       "[('03', 275, 11.0)]"
      ]
     },
     "execution_count": 7,
     "metadata": {},
     "output_type": "execute_result"
    }
   ],
   "source": [
    "%%sql\n",
    "-- Calculate total labor costs per month\n",
    "WITH labor_costs AS (\n",
    "    SELECT\n",
    "    STRFTIME('%m', date) AS month,\n",
    "    SUM(amount) AS total_labor_cost\n",
    "FROM expenses\n",
    "WHERE category = 'Labor'\n",
    "GROUP BY month\n",
    "),\n",
    "-- Find the minimum labor cost across all months\n",
    "min_labor_cost AS (\n",
    "    SELECT MIN(total_labor_cost) AS min_cost FROM labor_costs\n",
    ")\n",
    "--  Retrieve the month(s) with the lowest labor cost\n",
    "SELECT\n",
    "    lc.month,\n",
    "    lc.total_labor_cost,\n",
    "\n",
    "    -- Calculate percentage contribution of the minimum labor cost month\n",
    "    (ROUND(lc.total_labor_cost/(SELECT CAST(SUM(total_labor_cost) AS REAL)\n",
    "                               FROM labor_costs), 2) * 100)\n",
    "    AS percentage_share\n",
    "FROM labor_costs lc\n",
    "JOIN min_labor_cost ml\n",
    "ON lc.total_labor_cost = ml.min_cost;"
   ]
  },
  {
   "cell_type": "markdown",
   "id": "INYJZvlFnLcG",
   "metadata": {
    "id": "INYJZvlFnLcG"
   },
   "source": [
    "## Question 3 : **Answer**"
   ]
  },
  {
   "cell_type": "code",
   "execution_count": 8,
   "id": "7PIT4mIclglR",
   "metadata": {
    "colab": {
     "base_uri": "https://localhost:8080/"
    },
    "executionInfo": {
     "elapsed": 45,
     "status": "ok",
     "timestamp": 1752926651031,
     "user": {
      "displayName": "Benjamin Bennett Alexander",
      "userId": "14614847693800833280"
     },
     "user_tz": -180
    },
    "id": "7PIT4mIclglR",
    "outputId": "84b73506-2caf-4c55-93e4-d40fb0e2b287"
   },
   "outputs": [
    {
     "name": "stdout",
     "output_type": "stream",
     "text": [
      " * sqlite:///cleaning_expenses_records.db\n",
      "Done.\n"
     ]
    },
    {
     "data": {
      "text/plain": [
       "[]"
      ]
     },
     "execution_count": 8,
     "metadata": {},
     "output_type": "execute_result"
    }
   ],
   "source": [
    "%%sql\n",
    "CREATE VIEW IF NOT EXISTS marketing_expenses_summary AS\n",
    "SELECT\n",
    "    description,\n",
    "    SUM(amount) AS total_marketing_costs\n",
    "FROM expenses\n",
    "GROUP BY description;"
   ]
  },
  {
   "cell_type": "code",
   "execution_count": 9,
   "id": "1WZUisIbmCz2",
   "metadata": {
    "colab": {
     "base_uri": "https://localhost:8080/",
     "height": 94
    },
    "executionInfo": {
     "elapsed": 103,
     "status": "ok",
     "timestamp": 1752926651137,
     "user": {
      "displayName": "Benjamin Bennett Alexander",
      "userId": "14614847693800833280"
     },
     "user_tz": -180
    },
    "id": "1WZUisIbmCz2",
    "outputId": "5be78f9e-cf3c-4a5d-9011-40d511af6420"
   },
   "outputs": [
    {
     "name": "stdout",
     "output_type": "stream",
     "text": [
      " * sqlite:///cleaning_expenses_records.db\n",
      "Done.\n"
     ]
    },
    {
     "data": {
      "text/html": [
       "<table>\n",
       "    <thead>\n",
       "        <tr>\n",
       "            <th>total_spent</th>\n",
       "            <th>online_advertising_percentage</th>\n",
       "            <th>email_marketing_percentage</th>\n",
       "        </tr>\n",
       "    </thead>\n",
       "    <tbody>\n",
       "        <tr>\n",
       "            <td>125.0</td>\n",
       "            <td>40.0</td>\n",
       "            <td>60.0</td>\n",
       "        </tr>\n",
       "    </tbody>\n",
       "</table>"
      ],
      "text/plain": [
       "[(125.0, 40.0, 60.0)]"
      ]
     },
     "execution_count": 9,
     "metadata": {},
     "output_type": "execute_result"
    }
   ],
   "source": [
    "%%sql\n",
    "SELECT\n",
    "    ROUND(SUM(total_marketing_costs)) AS total_spent,\n",
    "\n",
    "    -- Calculating online advertising percentage share\n",
    "    ROUND(SUM(CASE WHEN description LIKE 'Online advertising (Facebook)'\n",
    "                   THEN total_marketing_costs ELSE 0 END) * 100.0 /\n",
    "          SUM(total_marketing_costs), 2) AS online_advertising_percentage,\n",
    "\n",
    "    -- Calculating email marketing percentage share\n",
    "    ROUND(SUM(CASE WHEN description LIKE 'Email marketing campaign'\n",
    "                   THEN total_marketing_costs ELSE 0 END) * 100.0 /\n",
    "          SUM(total_marketing_costs), 2) AS email_marketing_percentage\n",
    "FROM marketing_expenses_summary\n",
    "WHERE description LIKE 'Online advertising (Facebook)'\n",
    "      OR description LIKE 'Email marketing campaign';"
   ]
  },
  {
   "cell_type": "markdown",
   "id": "4a4e5612",
   "metadata": {
    "id": "4a4e5612"
   },
   "source": [
    "## Question 4: **Answer**"
   ]
  },
  {
   "cell_type": "code",
   "execution_count": 10,
   "id": "cbc7b9ec",
   "metadata": {
    "colab": {
     "base_uri": "https://localhost:8080/",
     "height": 94
    },
    "executionInfo": {
     "elapsed": 83,
     "status": "ok",
     "timestamp": 1752926651139,
     "user": {
      "displayName": "Benjamin Bennett Alexander",
      "userId": "14614847693800833280"
     },
     "user_tz": -180
    },
    "id": "cbc7b9ec",
    "outputId": "e5f17404-2b60-4a9e-8816-7e24af19328f"
   },
   "outputs": [
    {
     "name": "stdout",
     "output_type": "stream",
     "text": [
      " * sqlite:///cleaning_expenses_records.db\n",
      "Done.\n"
     ]
    },
    {
     "data": {
      "text/html": [
       "<table>\n",
       "    <thead>\n",
       "        <tr>\n",
       "            <th>month</th>\n",
       "            <th>cleaning_supply_expense</th>\n",
       "        </tr>\n",
       "    </thead>\n",
       "    <tbody>\n",
       "        <tr>\n",
       "            <td>02</td>\n",
       "            <td>90</td>\n",
       "        </tr>\n",
       "    </tbody>\n",
       "</table>"
      ],
      "text/plain": [
       "[('02', 90)]"
      ]
     },
     "execution_count": 10,
     "metadata": {},
     "output_type": "execute_result"
    }
   ],
   "source": [
    "%%sql\n",
    "SELECT\n",
    "    STRFTIME('%m', date) AS month,\n",
    "    SUM(amount) AS cleaning_supply_expense\n",
    "FROM expenses\n",
    "WHERE category = 'Supplies' AND STRFTIME('%m', date) = '02';"
   ]
  },
  {
   "cell_type": "markdown",
   "id": "af4e909c",
   "metadata": {
    "id": "af4e909c"
   },
   "source": [
    "## Question 5: **Answer**"
   ]
  },
  {
   "cell_type": "code",
   "execution_count": 11,
   "id": "__CV2Qgo_3pB",
   "metadata": {
    "colab": {
     "base_uri": "https://localhost:8080/",
     "height": 94
    },
    "executionInfo": {
     "elapsed": 67,
     "status": "ok",
     "timestamp": 1752926651143,
     "user": {
      "displayName": "Benjamin Bennett Alexander",
      "userId": "14614847693800833280"
     },
     "user_tz": -180
    },
    "id": "__CV2Qgo_3pB",
    "outputId": "afb11b13-ab9c-4666-d491-84d84fe0f62a"
   },
   "outputs": [
    {
     "name": "stdout",
     "output_type": "stream",
     "text": [
      " * sqlite:///cleaning_expenses_records.db\n",
      "Done.\n"
     ]
    },
    {
     "data": {
      "text/html": [
       "<table>\n",
       "    <thead>\n",
       "        <tr>\n",
       "            <th>total_selected_costs</th>\n",
       "            <th>percentage_share</th>\n",
       "        </tr>\n",
       "    </thead>\n",
       "    <tbody>\n",
       "        <tr>\n",
       "            <td>3160</td>\n",
       "            <td>73.23%</td>\n",
       "        </tr>\n",
       "    </tbody>\n",
       "</table>"
      ],
      "text/plain": [
       "[(3160, '73.23%')]"
      ]
     },
     "execution_count": 11,
     "metadata": {},
     "output_type": "execute_result"
    }
   ],
   "source": [
    "%%sql\n",
    "SELECT\n",
    "    SUM(total_costs) AS total_selected_costs,\n",
    "    ROUND(SUM(total_costs) * 100.0 / (SELECT SUM(amount) FROM expenses), 2) || '%'\n",
    "    AS percentage_share\n",
    "FROM (\n",
    "    SELECT\n",
    "        category,\n",
    "        SUM(amount) AS total_costs,\n",
    "        RANK() OVER (ORDER BY SUM(amount) DESC) AS category_rank\n",
    "    FROM expenses\n",
    "    GROUP BY category\n",
    ") AS ranked_costs\n",
    "WHERE category_rank IN (1, 3, 5);"
   ]
  },
  {
   "cell_type": "code",
   "execution_count": 11,
   "id": "7d4a2353",
   "metadata": {
    "executionInfo": {
     "elapsed": 22,
     "status": "ok",
     "timestamp": 1752926651145,
     "user": {
      "displayName": "Benjamin Bennett Alexander",
      "userId": "14614847693800833280"
     },
     "user_tz": -180
    },
    "id": "7d4a2353"
   },
   "outputs": [],
   "source": []
  }
 ],
 "metadata": {
  "colab": {
   "provenance": []
  },
  "kernelspec": {
   "display_name": "Python 3 (ipykernel)",
   "language": "python",
   "name": "python3"
  },
  "language_info": {
   "codemirror_mode": {
    "name": "ipython",
    "version": 3
   },
   "file_extension": ".py",
   "mimetype": "text/x-python",
   "name": "python",
   "nbconvert_exporter": "python",
   "pygments_lexer": "ipython3",
   "version": "3.10.5"
  }
 },
 "nbformat": 4,
 "nbformat_minor": 5
}

{
 "cells": [
  {
   "cell_type": "markdown",
   "id": "_dtijA41gF2S",
   "metadata": {
    "id": "_dtijA41gF2S"
   },
   "source": [
    "## Question 1: **Answer**"
   ]
  },
  {
   "cell_type": "code",
   "execution_count": 1,
   "id": "9bf1cef1",
   "metadata": {
    "executionInfo": {
     "elapsed": 549,
     "status": "ok",
     "timestamp": 1752932295060,
     "user": {
      "displayName": "Benjamin Bennett Alexander",
      "userId": "14614847693800833280"
     },
     "user_tz": -180
    },
    "id": "9bf1cef1"
   },
   "outputs": [],
   "source": [
    "import pandas as pd\n",
    "import sqlite3"
   ]
  },
  {
   "cell_type": "code",
   "execution_count": null,
   "id": "a8c94bbe",
   "metadata": {
    "colab": {
     "base_uri": "https://localhost:8080/"
    },
    "executionInfo": {
     "elapsed": 671,
     "status": "ok",
     "timestamp": 1752932295735,
     "user": {
      "displayName": "Benjamin Bennett Alexander",
      "userId": "14614847693800833280"
     },
     "user_tz": -180
    },
    "id": "a8c94bbe",
    "outputId": "58d20645-f7b7-4dac-b88b-fa2cfb957061"
   },
   "outputs": [
    {
     "name": "stdout",
     "output_type": "stream",
     "text": [
      "Table added successfully\n"
     ]
    }
   ],
   "source": [
    "def add_data_to_database(input_data):\n",
    "    try:\n",
    "        df = pd.read_csv(input_data)\n",
    "        engine = sqlite3.connect(\"soccer_data.db\")\n",
    "        df.to_sql('soccer', con=engine, index = False)\n",
    "        print(\"Table added successfully\")\n",
    "    except Exception as e:\n",
    "            print(f\"Error: {e}\")\n",
    "\n",
    "# Loading data\n",
    "data = \"/content/soccer_stats.csv\"\n",
    "add_data_to_database(data)"
   ]
  },
  {
   "cell_type": "code",
   "execution_count": 3,
   "id": "73bbb4d8",
   "metadata": {
    "executionInfo": {
     "elapsed": 2625,
     "status": "ok",
     "timestamp": 1752932298358,
     "user": {
      "displayName": "Benjamin Bennett Alexander",
      "userId": "14614847693800833280"
     },
     "user_tz": -180
    },
    "id": "73bbb4d8"
   },
   "outputs": [],
   "source": [
    "# Loading SQL extension\n",
    "%load_ext sql"
   ]
  },
  {
   "cell_type": "code",
   "execution_count": 4,
   "id": "6be6ef10",
   "metadata": {
    "executionInfo": {
     "elapsed": 3,
     "status": "ok",
     "timestamp": 1752932298366,
     "user": {
      "displayName": "Benjamin Bennett Alexander",
      "userId": "14614847693800833280"
     },
     "user_tz": -180
    },
    "id": "6be6ef10"
   },
   "outputs": [],
   "source": [
    "# Connecting to the database\n",
    "%sql sqlite:///soccer_data.db"
   ]
  },
  {
   "cell_type": "code",
   "execution_count": 5,
   "id": "ohH1E8v5O4hV",
   "metadata": {
    "executionInfo": {
     "elapsed": 4,
     "status": "ok",
     "timestamp": 1752932298374,
     "user": {
      "displayName": "Benjamin Bennett Alexander",
      "userId": "14614847693800833280"
     },
     "user_tz": -180
    },
    "id": "ohH1E8v5O4hV"
   },
   "outputs": [],
   "source": [
    "# Default to duplicated style\n",
    "%config SqlMagic.style = '_DEPRECATED_DEFAULT'"
   ]
  },
  {
   "cell_type": "code",
   "execution_count": 6,
   "id": "94860140",
   "metadata": {
    "colab": {
     "base_uri": "https://localhost:8080/",
     "height": 177
    },
    "executionInfo": {
     "elapsed": 25,
     "status": "ok",
     "timestamp": 1752932298403,
     "user": {
      "displayName": "Benjamin Bennett Alexander",
      "userId": "14614847693800833280"
     },
     "user_tz": -180
    },
    "id": "94860140",
    "outputId": "06b7823a-c6f0-42d6-e293-705aaf8ec995"
   },
   "outputs": [
    {
     "name": "stdout",
     "output_type": "stream",
     "text": [
      " * sqlite:///soccer_data.db\n",
      "Done.\n"
     ]
    },
    {
     "data": {
      "text/html": [
       "<table>\n",
       "    <thead>\n",
       "        <tr>\n",
       "            <th>player_name</th>\n",
       "            <th>position</th>\n",
       "            <th>nationality</th>\n",
       "            <th>club</th>\n",
       "            <th>league</th>\n",
       "            <th>goals_scored</th>\n",
       "            <th>assists</th>\n",
       "            <th>shots_on_target</th>\n",
       "            <th>minutes_played</th>\n",
       "            <th>clean_sheets</th>\n",
       "            <th>yellow_cards</th>\n",
       "            <th>red_cards</th>\n",
       "        </tr>\n",
       "    </thead>\n",
       "    <tbody>\n",
       "        <tr>\n",
       "            <td>Lionel Messi</td>\n",
       "            <td>Forward</td>\n",
       "            <td>Argentina</td>\n",
       "            <td>Paris Saint-Germain</td>\n",
       "            <td>Ligue 1</td>\n",
       "            <td>40</td>\n",
       "            <td>24</td>\n",
       "            <td>46</td>\n",
       "            <td>3420</td>\n",
       "            <td>0</td>\n",
       "            <td>10</td>\n",
       "            <td>0</td>\n",
       "        </tr>\n",
       "        <tr>\n",
       "            <td>Robert Lewandowski</td>\n",
       "            <td>Forward</td>\n",
       "            <td>Poland</td>\n",
       "            <td>Bayern Munich</td>\n",
       "            <td>Bundesliga</td>\n",
       "            <td>50</td>\n",
       "            <td>10</td>\n",
       "            <td>66</td>\n",
       "            <td>3240</td>\n",
       "            <td>0</td>\n",
       "            <td>7</td>\n",
       "            <td>0</td>\n",
       "        </tr>\n",
       "        <tr>\n",
       "            <td>Kylian Mbappé</td>\n",
       "            <td>Forward</td>\n",
       "            <td>France</td>\n",
       "            <td>Paris Saint-Germain</td>\n",
       "            <td>Ligue 1</td>\n",
       "            <td>28</td>\n",
       "            <td>17</td>\n",
       "            <td>41</td>\n",
       "            <td>2790</td>\n",
       "            <td>0</td>\n",
       "            <td>9</td>\n",
       "            <td>0</td>\n",
       "        </tr>\n",
       "        <tr>\n",
       "            <td>Kevin De Bruyne</td>\n",
       "            <td>Midfielder</td>\n",
       "            <td>Belgium</td>\n",
       "            <td>Manchester City</td>\n",
       "            <td>Premier League</td>\n",
       "            <td>15</td>\n",
       "            <td>14</td>\n",
       "            <td>30</td>\n",
       "            <td>2880</td>\n",
       "            <td>0</td>\n",
       "            <td>4</td>\n",
       "            <td>0</td>\n",
       "        </tr>\n",
       "        <tr>\n",
       "            <td>Mohamed Salah</td>\n",
       "            <td>Forward</td>\n",
       "            <td>Egypt</td>\n",
       "            <td>Liverpool</td>\n",
       "            <td>Premier League</td>\n",
       "            <td>32</td>\n",
       "            <td>14</td>\n",
       "            <td>42</td>\n",
       "            <td>3060</td>\n",
       "            <td>0</td>\n",
       "            <td>3</td>\n",
       "            <td>0</td>\n",
       "        </tr>\n",
       "    </tbody>\n",
       "</table>"
      ],
      "text/plain": [
       "[('Lionel Messi', 'Forward', 'Argentina', 'Paris Saint-Germain', 'Ligue 1', 40, 24, 46, 3420, 0, 10, 0),\n",
       " ('Robert Lewandowski', 'Forward', 'Poland', 'Bayern Munich', 'Bundesliga', 50, 10, 66, 3240, 0, 7, 0),\n",
       " ('Kylian Mbappé', 'Forward', 'France', 'Paris Saint-Germain', 'Ligue 1', 28, 17, 41, 2790, 0, 9, 0),\n",
       " ('Kevin De Bruyne', 'Midfielder', 'Belgium', 'Manchester City', 'Premier League', 15, 14, 30, 2880, 0, 4, 0),\n",
       " ('Mohamed Salah', 'Forward', 'Egypt', 'Liverpool', 'Premier League', 32, 14, 42, 3060, 0, 3, 0)]"
      ]
     },
     "execution_count": 6,
     "metadata": {},
     "output_type": "execute_result"
    }
   ],
   "source": [
    "%%sql\n",
    "SELECT * FROM soccer\n",
    "LIMIT 5;"
   ]
  },
  {
   "cell_type": "code",
   "execution_count": 7,
   "id": "755c4cd3",
   "metadata": {
    "colab": {
     "base_uri": "https://localhost:8080/",
     "height": 94
    },
    "executionInfo": {
     "elapsed": 97,
     "status": "ok",
     "timestamp": 1752932298504,
     "user": {
      "displayName": "Benjamin Bennett Alexander",
      "userId": "14614847693800833280"
     },
     "user_tz": -180
    },
    "id": "755c4cd3",
    "outputId": "8bae2158-4a74-4403-a17f-4e99580d247f"
   },
   "outputs": [
    {
     "name": "stdout",
     "output_type": "stream",
     "text": [
      " * sqlite:///soccer_data.db\n",
      "Done.\n"
     ]
    },
    {
     "data": {
      "text/html": [
       "<table>\n",
       "    <thead>\n",
       "        <tr>\n",
       "            <th>number_of_nationalities</th>\n",
       "        </tr>\n",
       "    </thead>\n",
       "    <tbody>\n",
       "        <tr>\n",
       "            <td>15</td>\n",
       "        </tr>\n",
       "    </tbody>\n",
       "</table>"
      ],
      "text/plain": [
       "[(15,)]"
      ]
     },
     "execution_count": 7,
     "metadata": {},
     "output_type": "execute_result"
    }
   ],
   "source": [
    "%%sql\n",
    "SELECT\n",
    "    COUNT(DISTINCT(nationality)) AS\n",
    "    number_of_nationalities\n",
    "FROM soccer;"
   ]
  },
  {
   "cell_type": "markdown",
   "id": "d6b03c7d",
   "metadata": {
    "id": "d6b03c7d"
   },
   "source": [
    "## Question 2: **Answer**"
   ]
  },
  {
   "cell_type": "code",
   "execution_count": 8,
   "id": "9m9tHcqbwJiZ",
   "metadata": {
    "colab": {
     "base_uri": "https://localhost:8080/",
     "height": 136
    },
    "executionInfo": {
     "elapsed": 30,
     "status": "ok",
     "timestamp": 1752932298538,
     "user": {
      "displayName": "Benjamin Bennett Alexander",
      "userId": "14614847693800833280"
     },
     "user_tz": -180
    },
    "id": "9m9tHcqbwJiZ",
    "outputId": "677b8a76-5a97-4f73-caf8-a2be90637fc5"
   },
   "outputs": [
    {
     "name": "stdout",
     "output_type": "stream",
     "text": [
      " * sqlite:///soccer_data.db\n",
      "Done.\n"
     ]
    },
    {
     "data": {
      "text/html": [
       "<table>\n",
       "    <thead>\n",
       "        <tr>\n",
       "            <th>league</th>\n",
       "            <th>player_name</th>\n",
       "            <th>goals_scored</th>\n",
       "        </tr>\n",
       "    </thead>\n",
       "    <tbody>\n",
       "        <tr>\n",
       "            <td>Bundesliga</td>\n",
       "            <td>Robert Lewandowski</td>\n",
       "            <td>50</td>\n",
       "        </tr>\n",
       "        <tr>\n",
       "            <td>Ligue 1</td>\n",
       "            <td>Lionel Messi</td>\n",
       "            <td>40</td>\n",
       "        </tr>\n",
       "        <tr>\n",
       "            <td>Premier League</td>\n",
       "            <td>Mohamed Salah</td>\n",
       "            <td>32</td>\n",
       "        </tr>\n",
       "    </tbody>\n",
       "</table>"
      ],
      "text/plain": [
       "[('Bundesliga', 'Robert Lewandowski', 50),\n",
       " ('Ligue 1', 'Lionel Messi', 40),\n",
       " ('Premier League', 'Mohamed Salah', 32)]"
      ]
     },
     "execution_count": 8,
     "metadata": {},
     "output_type": "execute_result"
    }
   ],
   "source": [
    "%%sql\n",
    "-- Ranking the top scorers within each league\n",
    "WITH top_scorers AS (\n",
    "    SELECT\n",
    "        player_name,\n",
    "        league,\n",
    "        goals_scored,\n",
    "        RANK() OVER (PARTITION BY league ORDER BY goals_scored DESC)\n",
    "        AS rank\n",
    "    FROM soccer\n",
    "    WHERE league IN ('Bundesliga', 'Ligue 1', 'Premier League')\n",
    ")\n",
    "-- Selecting top ranked players per league\n",
    "SELECT\n",
    "    league,\n",
    "    player_name,\n",
    "    goals_scored\n",
    "FROM top_scorers\n",
    "WHERE rank = 1\n",
    "ORDER BY goals_scored DESC;"
   ]
  },
  {
   "cell_type": "markdown",
   "id": "MZp4QPk1zB1w",
   "metadata": {
    "id": "MZp4QPk1zB1w"
   },
   "source": [
    "## Question 3: **Answer**"
   ]
  },
  {
   "cell_type": "code",
   "execution_count": 9,
   "id": "TQkIp5sBavNs",
   "metadata": {
    "colab": {
     "base_uri": "https://localhost:8080/",
     "height": 115
    },
    "executionInfo": {
     "elapsed": 30,
     "status": "ok",
     "timestamp": 1752932298562,
     "user": {
      "displayName": "Benjamin Bennett Alexander",
      "userId": "14614847693800833280"
     },
     "user_tz": -180
    },
    "id": "TQkIp5sBavNs",
    "outputId": "c2c30667-5898-4537-8265-b34d7865579f"
   },
   "outputs": [
    {
     "name": "stdout",
     "output_type": "stream",
     "text": [
      " * sqlite:///soccer_data.db\n",
      "Done.\n"
     ]
    },
    {
     "data": {
      "text/html": [
       "<table>\n",
       "    <thead>\n",
       "        <tr>\n",
       "            <th>league</th>\n",
       "            <th>total_goals_per_league</th>\n",
       "            <th>percentage_of_total_goals</th>\n",
       "        </tr>\n",
       "    </thead>\n",
       "    <tbody>\n",
       "        <tr>\n",
       "            <td>Bundesliga</td>\n",
       "            <td>83</td>\n",
       "            <td>43.92</td>\n",
       "        </tr>\n",
       "        <tr>\n",
       "            <td>Ligue 1</td>\n",
       "            <td>74</td>\n",
       "            <td>39.15</td>\n",
       "        </tr>\n",
       "    </tbody>\n",
       "</table>"
      ],
      "text/plain": [
       "[('Bundesliga', 83, 43.92), ('Ligue 1', 74, 39.15)]"
      ]
     },
     "execution_count": 9,
     "metadata": {},
     "output_type": "execute_result"
    }
   ],
   "source": [
    "%%sql\n",
    "-- CTE to rank players based on goals scored\n",
    "WITH ranked_players AS (\n",
    "    SELECT\n",
    "        league,\n",
    "        player_name,\n",
    "        goals_scored,\n",
    "        RANK() OVER (ORDER BY goals_scored DESC) AS rank\n",
    "    FROM soccer\n",
    "),\n",
    "-- CTE to filter the top 5 players\n",
    "top_5_players AS (\n",
    "    SELECT\n",
    "        league,\n",
    "        player_name,\n",
    "        goals_scored\n",
    "    FROM ranked_players\n",
    "    WHERE rank <= 5\n",
    "),\n",
    "-- CTE to calculate league-specific statistics for top 5 players\n",
    "league_statistics AS (\n",
    "    SELECT\n",
    "        league,\n",
    "        SUM(goals_scored) AS total_goals_per_league,\n",
    "        COUNT(*) AS player_count_in_top_5\n",
    "    FROM top_5_players\n",
    "    GROUP BY league\n",
    "),\n",
    "-- CTE to find the maximum player count among leagues\n",
    "max_player_count AS (\n",
    "    SELECT\n",
    "        MAX(player_count_in_top_5) AS max_count\n",
    "    FROM league_statistics\n",
    ")\n",
    "/*\n",
    "Main query to return the league(s) with the most players\n",
    "in the top 5 and their goal percentage\n",
    "*/\n",
    "\n",
    "SELECT\n",
    "    league,\n",
    "    total_goals_per_league,\n",
    "     ROUND((total_goals_per_league /\n",
    "       (SELECT CAST(SUM(goals_scored) AS REAL) FROM top_5_players)) * 100, 2)\n",
    "       AS percentage_of_total_goals\n",
    "FROM league_statistics\n",
    "WHERE player_count_in_top_5 = (SELECT max_count FROM max_player_count);"
   ]
  },
  {
   "cell_type": "markdown",
   "id": "R1_l8nLVr7cJ",
   "metadata": {
    "id": "R1_l8nLVr7cJ"
   },
   "source": [
    "## Question 4: **Answer**"
   ]
  },
  {
   "cell_type": "code",
   "execution_count": 10,
   "id": "kxgZPba2r_Wx",
   "metadata": {
    "colab": {
     "base_uri": "https://localhost:8080/",
     "height": 115
    },
    "executionInfo": {
     "elapsed": 21,
     "status": "ok",
     "timestamp": 1752932298586,
     "user": {
      "displayName": "Benjamin Bennett Alexander",
      "userId": "14614847693800833280"
     },
     "user_tz": -180
    },
    "id": "kxgZPba2r_Wx",
    "outputId": "eb9e0bed-d1e3-41c0-b608-90ef0cf6bc8d"
   },
   "outputs": [
    {
     "name": "stdout",
     "output_type": "stream",
     "text": [
      " * sqlite:///soccer_data.db\n",
      "Done.\n"
     ]
    },
    {
     "data": {
      "text/html": [
       "<table>\n",
       "    <thead>\n",
       "        <tr>\n",
       "            <th>player_name</th>\n",
       "            <th>position</th>\n",
       "            <th>clean_sheets</th>\n",
       "            <th>defender_league</th>\n",
       "        </tr>\n",
       "    </thead>\n",
       "    <tbody>\n",
       "        <tr>\n",
       "            <td>Virgil van Dijk</td>\n",
       "            <td>Defender</td>\n",
       "            <td>10</td>\n",
       "            <td>Defender in the Premiership</td>\n",
       "        </tr>\n",
       "        <tr>\n",
       "            <td>João Cancelo</td>\n",
       "            <td>Defender</td>\n",
       "            <td>10</td>\n",
       "            <td>Defender in the Premiership</td>\n",
       "        </tr>\n",
       "    </tbody>\n",
       "</table>"
      ],
      "text/plain": [
       "[('Virgil van Dijk', 'Defender', 10, 'Defender in the Premiership'),\n",
       " ('João Cancelo', 'Defender', 10, 'Defender in the Premiership')]"
      ]
     },
     "execution_count": 10,
     "metadata": {},
     "output_type": "execute_result"
    }
   ],
   "source": [
    "%%sql\n",
    "SELECT\n",
    "    player_name,\n",
    "    position,\n",
    "    clean_sheets,\n",
    "    CASE\n",
    "        WHEN 'Premier League' IN (SELECT league FROM soccer) THEN\n",
    "        'Defender in the Premiership' ELSE 'Defender not in the Premiership'\n",
    "    END AS defender_league\n",
    "FROM soccer\n",
    "WHERE position = 'Defender'\n",
    "      AND clean_sheets = (SELECT MAX(clean_sheets) FROM soccer);"
   ]
  },
  {
   "cell_type": "code",
   "execution_count": 10,
   "id": "BM7nhSMt4yIy",
   "metadata": {
    "executionInfo": {
     "elapsed": 8,
     "status": "ok",
     "timestamp": 1752932298626,
     "user": {
      "displayName": "Benjamin Bennett Alexander",
      "userId": "14614847693800833280"
     },
     "user_tz": -180
    },
    "id": "BM7nhSMt4yIy"
   },
   "outputs": [],
   "source": []
  },
  {
   "cell_type": "markdown",
   "id": "k9iERWFB5C0y",
   "metadata": {
    "id": "k9iERWFB5C0y"
   },
   "source": [
    "## Question 5: **Answer**"
   ]
  },
  {
   "cell_type": "code",
   "execution_count": 11,
   "id": "48KJi0bP4y3K",
   "metadata": {
    "colab": {
     "base_uri": "https://localhost:8080/",
     "height": 115
    },
    "executionInfo": {
     "elapsed": 26,
     "status": "ok",
     "timestamp": 1752932298656,
     "user": {
      "displayName": "Benjamin Bennett Alexander",
      "userId": "14614847693800833280"
     },
     "user_tz": -180
    },
    "id": "48KJi0bP4y3K",
    "outputId": "2b087894-16b6-4637-9a1c-52c95c9ce78e"
   },
   "outputs": [
    {
     "name": "stdout",
     "output_type": "stream",
     "text": [
      " * sqlite:///soccer_data.db\n",
      "Done.\n"
     ]
    },
    {
     "data": {
      "text/html": [
       "<table>\n",
       "    <thead>\n",
       "        <tr>\n",
       "            <th>player_name</th>\n",
       "            <th>conversion_percentage</th>\n",
       "        </tr>\n",
       "    </thead>\n",
       "    <tbody>\n",
       "        <tr>\n",
       "            <td>Lionel Messi</td>\n",
       "            <td>&nbsp;&nbsp;&nbsp;&nbsp;&nbsp;&nbsp;&nbsp;&nbsp;&nbsp;&nbsp;&nbsp;&nbsp;&nbsp;&nbsp;&nbsp;86.96</td>\n",
       "        </tr>\n",
       "        <tr>\n",
       "            <td>Thiago Alcântara</td>\n",
       "            <td>&nbsp;&nbsp;&nbsp;&nbsp;&nbsp;&nbsp;&nbsp;&nbsp;&nbsp;&nbsp;&nbsp;&nbsp;&nbsp;&nbsp;&nbsp;&nbsp;&nbsp;0.0</td>\n",
       "        </tr>\n",
       "    </tbody>\n",
       "</table>"
      ],
      "text/plain": [
       "[('Lionel Messi', '               86.96'),\n",
       " ('Thiago Alcântara', '                 0.0')]"
      ]
     },
     "execution_count": 11,
     "metadata": {},
     "output_type": "execute_result"
    }
   ],
   "source": [
    "%%sql\n",
    "--CTE to calculate efficiency and assign ranks\n",
    "WITH player_efficiency_and_rank AS (\n",
    "    SELECT\n",
    "        player_name,\n",
    "        goals_scored,\n",
    "        shots_on_target,\n",
    "        CAST(goals_scored AS REAL) / shots_on_target * 100\n",
    "        AS goal_conversion_percentage,\n",
    "        RANK() OVER (ORDER BY CAST(goals_scored AS REAL) / shots_on_target * 100 DESC)\n",
    "        AS highest_rank,\n",
    "        RANK() OVER (ORDER BY CAST(goals_scored AS REAL) / shots_on_target * 100 ASC)\n",
    "        AS lowest_rank\n",
    "    FROM soccer\n",
    "    WHERE shots_on_target > 0\n",
    ")\n",
    "-- Returning player name and conversion rates\n",
    "SELECT\n",
    "    player_name,\n",
    "    printf('%20s', ROUND(goal_conversion_percentage, 2)) AS conversion_percentage\n",
    "FROM player_efficiency_and_rank\n",
    "WHERE highest_rank = 1 OR lowest_rank = 1;"
   ]
  },
  {
   "cell_type": "markdown",
   "id": "c550520e",
   "metadata": {
    "id": "c550520e"
   },
   "source": [
    "## Question 6: **Answer**"
   ]
  },
  {
   "cell_type": "code",
   "execution_count": 12,
   "id": "4vEEdHijXeHB",
   "metadata": {
    "colab": {
     "base_uri": "https://localhost:8080/",
     "height": 94
    },
    "executionInfo": {
     "elapsed": 69,
     "status": "ok",
     "timestamp": 1752932298728,
     "user": {
      "displayName": "Benjamin Bennett Alexander",
      "userId": "14614847693800833280"
     },
     "user_tz": -180
    },
    "id": "4vEEdHijXeHB",
    "outputId": "aab55957-cb2c-4890-cd04-e58ebbe0a2c3"
   },
   "outputs": [
    {
     "name": "stdout",
     "output_type": "stream",
     "text": [
      " * sqlite:///soccer_data.db\n",
      "Done.\n"
     ]
    },
    {
     "data": {
      "text/html": [
       "<table>\n",
       "    <thead>\n",
       "        <tr>\n",
       "            <th>spanish_league</th>\n",
       "            <th>total_goals_la_liga</th>\n",
       "            <th>english_league</th>\n",
       "            <th>total_goals_premier_league</th>\n",
       "            <th>goal_difference</th>\n",
       "        </tr>\n",
       "    </thead>\n",
       "    <tbody>\n",
       "        <tr>\n",
       "            <td>La Liga</td>\n",
       "            <td>51</td>\n",
       "            <td>Premier League</td>\n",
       "            <td>60</td>\n",
       "            <td>-9</td>\n",
       "        </tr>\n",
       "    </tbody>\n",
       "</table>"
      ],
      "text/plain": [
       "[('La Liga', 51, 'Premier League', 60, -9)]"
      ]
     },
     "execution_count": 12,
     "metadata": {},
     "output_type": "execute_result"
    }
   ],
   "source": [
    "%%sql\n",
    "-- CTE to retrive two high scores from La Liga\n",
    "WITH top_two_la_liga AS (\n",
    "    SELECT\n",
    "        league,\n",
    "        SUM(goals_scored) AS total_goals\n",
    "    FROM (\n",
    "        SELECT\n",
    "            league,\n",
    "            goals_scored\n",
    "        FROM soccer\n",
    "        WHERE league = 'La Liga'\n",
    "        ORDER BY goals_scored DESC\n",
    "        LIMIT 2\n",
    "    ) subquery_la_liga\n",
    "),\n",
    "-- CTE to retrive two high scores from Premier League\n",
    "top_two_premier_league AS (\n",
    "    SELECT\n",
    "        league,\n",
    "        SUM(goals_scored) AS total_goals\n",
    "    FROM (\n",
    "        SELECT\n",
    "            league,\n",
    "            goals_scored\n",
    "        FROM soccer\n",
    "        WHERE league = 'Premier League'\n",
    "        ORDER BY goals_scored DESC\n",
    "        LIMIT 2\n",
    "    ) subquery_premier_league\n",
    ")\n",
    "-- Main query to combine the results of two CTEs.\n",
    "SELECT\n",
    "    'La Liga' AS spanish_league,\n",
    "    (SELECT total_goals FROM top_two_la_liga) AS total_goals_la_liga,\n",
    "    'Premier League' AS english_league,\n",
    "    (SELECT total_goals FROM top_two_premier_league) AS total_goals_premier_league,\n",
    "    (SELECT total_goals FROM top_two_la_liga) -\n",
    "    (SELECT total_goals FROM top_two_premier_league) AS goal_difference;"
   ]
  },
  {
   "cell_type": "code",
   "execution_count": 13,
   "id": "0u3X54F_pJKi",
   "metadata": {
    "executionInfo": {
     "elapsed": 7,
     "status": "ok",
     "timestamp": 1752932298742,
     "user": {
      "displayName": "Benjamin Bennett Alexander",
      "userId": "14614847693800833280"
     },
     "user_tz": -180
    },
    "id": "0u3X54F_pJKi"
   },
   "outputs": [],
   "source": [
    "# %%sql\n",
    "# DROP TABLE soccer;"
   ]
  }
 ],
 "metadata": {
  "colab": {
   "provenance": []
  },
  "kernelspec": {
   "display_name": "Python 3 (ipykernel)",
   "language": "python",
   "name": "python3"
  },
  "language_info": {
   "codemirror_mode": {
    "name": "ipython",
    "version": 3
   },
   "file_extension": ".py",
   "mimetype": "text/x-python",
   "name": "python",
   "nbconvert_exporter": "python",
   "pygments_lexer": "ipython3",
   "version": "3.10.5"
  }
 },
 "nbformat": 4,
 "nbformat_minor": 5
}

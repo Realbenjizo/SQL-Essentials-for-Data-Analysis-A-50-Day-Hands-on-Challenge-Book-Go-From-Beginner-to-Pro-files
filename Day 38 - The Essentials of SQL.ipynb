{
 "cells": [
  {
   "cell_type": "markdown",
   "id": "wMj-5ROiAg7X",
   "metadata": {
    "id": "wMj-5ROiAg7X"
   },
   "source": [
    "## Question 1: **Answer**"
   ]
  },
  {
   "cell_type": "code",
   "execution_count": 1,
   "id": "4705f132",
   "metadata": {
    "executionInfo": {
     "elapsed": 1133,
     "status": "ok",
     "timestamp": 1752937091875,
     "user": {
      "displayName": "Benjamin Bennett Alexander",
      "userId": "14614847693800833280"
     },
     "user_tz": -180
    },
    "id": "4705f132"
   },
   "outputs": [],
   "source": [
    "import pandas as pd\n",
    "import sqlite3"
   ]
  },
  {
   "cell_type": "code",
   "execution_count": null,
   "id": "edd62fcf",
   "metadata": {
    "executionInfo": {
     "elapsed": 1233,
     "status": "ok",
     "timestamp": 1752937093125,
     "user": {
      "displayName": "Benjamin Bennett Alexander",
      "userId": "14614847693800833280"
     },
     "user_tz": -180
    },
    "id": "edd62fcf"
   },
   "outputs": [],
   "source": [
    "def add_data_to_database(input_data):\n",
    "    try:\n",
    "        df = pd.read_csv(input_data)\n",
    "        engine = sqlite3.connect(\"social_media_data.db\")\n",
    "        df.to_sql('social_media',con=engine, index = False)\n",
    "    except Exception as e:\n",
    "            print(f\"Error: {e}\")\n",
    "\n",
    "data = \"/content/social_media_behavior.csv\"\n",
    "add_data_to_database(data)"
   ]
  },
  {
   "cell_type": "code",
   "execution_count": 3,
   "id": "7f2f04b0",
   "metadata": {
    "executionInfo": {
     "elapsed": 934,
     "status": "ok",
     "timestamp": 1752937094057,
     "user": {
      "displayName": "Benjamin Bennett Alexander",
      "userId": "14614847693800833280"
     },
     "user_tz": -180
    },
    "id": "7f2f04b0"
   },
   "outputs": [],
   "source": [
    "# Loading SQL extension\n",
    "%load_ext sql"
   ]
  },
  {
   "cell_type": "code",
   "execution_count": 4,
   "id": "b7e2934a",
   "metadata": {
    "executionInfo": {
     "elapsed": 41,
     "status": "ok",
     "timestamp": 1752937094102,
     "user": {
      "displayName": "Benjamin Bennett Alexander",
      "userId": "14614847693800833280"
     },
     "user_tz": -180
    },
    "id": "b7e2934a"
   },
   "outputs": [],
   "source": [
    "# Connecting to the database\n",
    "%sql sqlite:///social_media_data.db"
   ]
  },
  {
   "cell_type": "code",
   "execution_count": 5,
   "id": "FaPQJr5eZTAU",
   "metadata": {
    "executionInfo": {
     "elapsed": 22,
     "status": "ok",
     "timestamp": 1752937094128,
     "user": {
      "displayName": "Benjamin Bennett Alexander",
      "userId": "14614847693800833280"
     },
     "user_tz": -180
    },
    "id": "FaPQJr5eZTAU"
   },
   "outputs": [],
   "source": [
    "# Default to duplicated style\n",
    "%config SqlMagic.style = '_DEPRECATED_DEFAULT'"
   ]
  },
  {
   "cell_type": "markdown",
   "id": "3ce100d0",
   "metadata": {
    "id": "3ce100d0"
   },
   "source": [
    "#### 1. View the first 5 rows"
   ]
  },
  {
   "cell_type": "code",
   "execution_count": 6,
   "id": "7a40ef63",
   "metadata": {
    "colab": {
     "base_uri": "https://localhost:8080/",
     "height": 177
    },
    "executionInfo": {
     "elapsed": 174,
     "status": "ok",
     "timestamp": 1752937094315,
     "user": {
      "displayName": "Benjamin Bennett Alexander",
      "userId": "14614847693800833280"
     },
     "user_tz": -180
    },
    "id": "7a40ef63",
    "outputId": "5d19eb4c-a6ca-4d6f-8248-abfc991d72cb"
   },
   "outputs": [
    {
     "name": "stdout",
     "output_type": "stream",
     "text": [
      " * sqlite:///social_media_data.db\n",
      "Done.\n"
     ]
    },
    {
     "data": {
      "text/html": [
       "<table>\n",
       "    <thead>\n",
       "        <tr>\n",
       "            <th>id</th>\n",
       "            <th>gender</th>\n",
       "            <th>age</th>\n",
       "            <th>education</th>\n",
       "            <th>profession</th>\n",
       "            <th>workDuration</th>\n",
       "            <th>typeSocial</th>\n",
       "            <th>useSocial</th>\n",
       "            <th>productivity</th>\n",
       "            <th>socialDuration</th>\n",
       "        </tr>\n",
       "    </thead>\n",
       "    <tbody>\n",
       "        <tr>\n",
       "            <td>1</td>\n",
       "            <td>male</td>\n",
       "            <td>35</td>\n",
       "            <td>master</td>\n",
       "            <td>manager</td>\n",
       "            <td>8 years</td>\n",
       "            <td>facebook,twitter,youtube</td>\n",
       "            <td>often</td>\n",
       "            <td>yes</td>\n",
       "            <td>6</td>\n",
       "        </tr>\n",
       "        <tr>\n",
       "            <td>2</td>\n",
       "            <td>male</td>\n",
       "            <td>27</td>\n",
       "            <td>degree</td>\n",
       "            <td>officer</td>\n",
       "            <td>5 years</td>\n",
       "            <td>facebook,youtube,tiktok,snapchat</td>\n",
       "            <td>regulary</td>\n",
       "            <td>no</td>\n",
       "            <td>7</td>\n",
       "        </tr>\n",
       "        <tr>\n",
       "            <td>3</td>\n",
       "            <td>female</td>\n",
       "            <td>24</td>\n",
       "            <td>degree</td>\n",
       "            <td>officer</td>\n",
       "            <td>4 years</td>\n",
       "            <td>facebook,twitter,linkedin,tiktok,snapchat,youtube,instagram,pinterest</td>\n",
       "            <td>everytime</td>\n",
       "            <td>no</td>\n",
       "            <td>4</td>\n",
       "        </tr>\n",
       "        <tr>\n",
       "            <td>4</td>\n",
       "            <td>male</td>\n",
       "            <td>35</td>\n",
       "            <td>master</td>\n",
       "            <td>manager</td>\n",
       "            <td>8 years</td>\n",
       "            <td>facebook,twitter,youtube</td>\n",
       "            <td>often</td>\n",
       "            <td>yes</td>\n",
       "            <td>8</td>\n",
       "        </tr>\n",
       "        <tr>\n",
       "            <td>5</td>\n",
       "            <td>male</td>\n",
       "            <td>27</td>\n",
       "            <td>degree</td>\n",
       "            <td>officer</td>\n",
       "            <td>5 years</td>\n",
       "            <td>facebook,youtube,tiktok,snapchat</td>\n",
       "            <td>regulary</td>\n",
       "            <td>no</td>\n",
       "            <td>6</td>\n",
       "        </tr>\n",
       "    </tbody>\n",
       "</table>"
      ],
      "text/plain": [
       "[(1, 'male', 35, 'master', 'manager', '8 years', 'facebook,twitter,youtube', 'often', 'yes', 6),\n",
       " (2, 'male', 27, 'degree', 'officer', '5 years', 'facebook,youtube,tiktok,snapchat', 'regulary', 'no', 7),\n",
       " (3, 'female', 24, 'degree', 'officer', '4 years', 'facebook,twitter,linkedin,tiktok,snapchat,youtube,instagram,pinterest', 'everytime', 'no', 4),\n",
       " (4, 'male', 35, 'master', 'manager', '8 years', 'facebook,twitter,youtube', 'often', 'yes', 8),\n",
       " (5, 'male', 27, 'degree', 'officer', '5 years', 'facebook,youtube,tiktok,snapchat', 'regulary', 'no', 6)]"
      ]
     },
     "execution_count": 6,
     "metadata": {},
     "output_type": "execute_result"
    }
   ],
   "source": [
    "%%sql\n",
    "SELECT * FROM social_media\n",
    "LIMIT 5;"
   ]
  },
  {
   "cell_type": "markdown",
   "id": "ac49ef09",
   "metadata": {
    "id": "ac49ef09"
   },
   "source": [
    "## Question 2: **Answer**"
   ]
  },
  {
   "cell_type": "code",
   "execution_count": 7,
   "id": "LGVk92sl0fga",
   "metadata": {
    "colab": {
     "base_uri": "https://localhost:8080/",
     "height": 94
    },
    "executionInfo": {
     "elapsed": 79,
     "status": "ok",
     "timestamp": 1752937094319,
     "user": {
      "displayName": "Benjamin Bennett Alexander",
      "userId": "14614847693800833280"
     },
     "user_tz": -180
    },
    "id": "LGVk92sl0fga",
    "outputId": "db98e662-775c-4489-96e4-9b3106089b62"
   },
   "outputs": [
    {
     "name": "stdout",
     "output_type": "stream",
     "text": [
      " * sqlite:///social_media_data.db\n",
      "Done.\n"
     ]
    },
    {
     "data": {
      "text/html": [
       "<table>\n",
       "    <thead>\n",
       "        <tr>\n",
       "            <th>more_than_3_accts</th>\n",
       "            <th>all_users_count</th>\n",
       "            <th>percentage</th>\n",
       "        </tr>\n",
       "    </thead>\n",
       "    <tbody>\n",
       "        <tr>\n",
       "            <td>28</td>\n",
       "            <td>39</td>\n",
       "            <td>71.79</td>\n",
       "        </tr>\n",
       "    </tbody>\n",
       "</table>"
      ],
      "text/plain": [
       "[(28, 39, 71.79)]"
      ]
     },
     "execution_count": 7,
     "metadata": {},
     "output_type": "execute_result"
    }
   ],
   "source": [
    "%%sql\n",
    "SELECT\n",
    "    more_than_3_accts,\n",
    "    all_users_count,\n",
    "    ROUND(more_than_3_accts / CAST((all_users_count) AS REAL) * 100, 2)\n",
    "    AS percentage\n",
    "FROM\n",
    "    -- Subquery to return users with more than 3 accounts\n",
    "    (SELECT\n",
    "       SUM(CASE WHEN (LENGTH(typeSocial) - LENGTH(REPLACE(typeSocial, ',', '')) + 1) > 3 THEN 1\n",
    "                ELSE 0\n",
    "            END) AS more_than_3_accts\n",
    "    FROM social_media),\n",
    "    -- Subquery to count all users\n",
    "    (SELECT\n",
    "        COUNT(*) AS all_users_count\n",
    "    FROM social_media)"
   ]
  },
  {
   "cell_type": "markdown",
   "id": "AW0-dux1Olop",
   "metadata": {
    "id": "AW0-dux1Olop"
   },
   "source": [
    "## Question 3: **Answer**"
   ]
  },
  {
   "cell_type": "code",
   "execution_count": 8,
   "id": "DsOXieO0uCA2",
   "metadata": {
    "colab": {
     "base_uri": "https://localhost:8080/",
     "height": 94
    },
    "executionInfo": {
     "elapsed": 41,
     "status": "ok",
     "timestamp": 1752937094321,
     "user": {
      "displayName": "Benjamin Bennett Alexander",
      "userId": "14614847693800833280"
     },
     "user_tz": -180
    },
    "id": "DsOXieO0uCA2",
    "outputId": "ed0926f9-04f6-4daa-fee5-cdeeb02aaa53"
   },
   "outputs": [
    {
     "name": "stdout",
     "output_type": "stream",
     "text": [
      " * sqlite:///social_media_data.db\n",
      "Done.\n"
     ]
    },
    {
     "data": {
      "text/html": [
       "<table>\n",
       "    <thead>\n",
       "        <tr>\n",
       "            <th>more_than_3_accounts</th>\n",
       "            <th>fewer_than_3_accounts</th>\n",
       "        </tr>\n",
       "    </thead>\n",
       "    <tbody>\n",
       "        <tr>\n",
       "            <td>3</td>\n",
       "            <td>0</td>\n",
       "        </tr>\n",
       "    </tbody>\n",
       "</table>"
      ],
      "text/plain": [
       "[(3, 0)]"
      ]
     },
     "execution_count": 8,
     "metadata": {},
     "output_type": "execute_result"
    }
   ],
   "source": [
    "%%sql\n",
    "SELECT\n",
    "    -- Users with master's or are managers AND have more than 3 accounts\n",
    "    SUM(CASE\n",
    "            WHEN (education = 'master' OR profession = 'manager')\n",
    "                 AND (LENGTH(typeSocial) - LENGTH(REPLACE(typeSocial, ',', '')) + 1) > 3\n",
    "            THEN 1\n",
    "            ELSE 0\n",
    "        END\n",
    "    ) AS more_than_3_accounts,\n",
    "\n",
    "    -- Users with master's or are managers AND have less than 3 accounts\n",
    "    SUM(CASE\n",
    "            WHEN (education = 'master' OR profession = 'manager')\n",
    "                 AND (LENGTH(typeSocial) - LENGTH(REPLACE(typeSocial, ',', '')) + 1) < 3\n",
    "            THEN 1\n",
    "            ELSE 0\n",
    "        END\n",
    "    ) AS fewer_than_3_accounts\n",
    "FROM social_media;"
   ]
  },
  {
   "cell_type": "markdown",
   "id": "5to4UpFpUNXh",
   "metadata": {
    "id": "5to4UpFpUNXh"
   },
   "source": [
    "## Question 4: **Answer**\n",
    "\n"
   ]
  },
  {
   "cell_type": "code",
   "execution_count": 9,
   "id": "UwEkl73C3zJB",
   "metadata": {
    "colab": {
     "base_uri": "https://localhost:8080/",
     "height": 94
    },
    "executionInfo": {
     "elapsed": 28,
     "status": "ok",
     "timestamp": 1752937094342,
     "user": {
      "displayName": "Benjamin Bennett Alexander",
      "userId": "14614847693800833280"
     },
     "user_tz": -180
    },
    "id": "UwEkl73C3zJB",
    "outputId": "214e9ccd-fcba-4dbe-8cc1-cef83bb26088"
   },
   "outputs": [
    {
     "name": "stdout",
     "output_type": "stream",
     "text": [
      " * sqlite:///social_media_data.db\n",
      "Done.\n"
     ]
    },
    {
     "data": {
      "text/html": [
       "<table>\n",
       "    <thead>\n",
       "        <tr>\n",
       "            <th>age_group_20_29_count</th>\n",
       "            <th>percentage_20_29</th>\n",
       "            <th>age_group_30_39_count</th>\n",
       "            <th>percentage_30_39</th>\n",
       "        </tr>\n",
       "    </thead>\n",
       "    <tbody>\n",
       "        <tr>\n",
       "            <td>13</td>\n",
       "            <td>59.09</td>\n",
       "            <td>2</td>\n",
       "            <td>15.38</td>\n",
       "        </tr>\n",
       "    </tbody>\n",
       "</table>"
      ],
      "text/plain": [
       "[(13, 59.09, 2, 15.38)]"
      ]
     },
     "execution_count": 9,
     "metadata": {},
     "output_type": "execute_result"
    }
   ],
   "source": [
    "%%sql\n",
    "SELECT\n",
    "    -- Count and percentage for age group 20-29\n",
    "    age_group_20_29_count,\n",
    "    ROUND((age_group_20_29_count / age_group_20_29_total_count * 100), 2)\n",
    "    AS percentage_20_29,\n",
    "\n",
    "    -- Count and percentage for age group 30-39\n",
    "    age_group_30_39_count,\n",
    "    ROUND((age_group_30_39_count / age_group_30_39_total_count * 100), 2)\n",
    "    AS percentage_30_39\n",
    "FROM (\n",
    "    SELECT\n",
    "        -- Users aged 20–29 who use social media \"everytime\"\n",
    "        SUM(CASE WHEN age BETWEEN 20 AND 29 AND usesocial = 'everytime' THEN 1 ELSE 0 END)\n",
    "        AS age_group_20_29_count,\n",
    "\n",
    "        -- Total users aged 20–29\n",
    "        CAST(SUM(CASE WHEN age BETWEEN 20 AND 29 THEN 1 ELSE 0 END) AS REAL)\n",
    "        AS age_group_20_29_total_count,\n",
    "\n",
    "        -- Users aged 30–39 who use social media \"everytime\"\n",
    "        SUM(CASE WHEN age BETWEEN 30 AND 39 AND usesocial = 'everytime' THEN 1 ELSE 0 END)\n",
    "        AS age_group_30_39_count,\n",
    "\n",
    "        -- Total users aged 30–39\n",
    "        CAST(SUM(CASE WHEN age BETWEEN 30 AND 39 THEN 1 ELSE 0 END) AS REAL)\n",
    "        AS age_group_30_39_total_count\n",
    "    FROM social_media\n",
    ") AS group_analysis;"
   ]
  },
  {
   "cell_type": "markdown",
   "id": "doplPay4WvxI",
   "metadata": {
    "id": "doplPay4WvxI"
   },
   "source": [
    "## Question 5: **Answer**"
   ]
  },
  {
   "cell_type": "code",
   "execution_count": 10,
   "id": "tYFt3TJeUWcg",
   "metadata": {
    "colab": {
     "base_uri": "https://localhost:8080/",
     "height": 94
    },
    "executionInfo": {
     "elapsed": 54,
     "status": "ok",
     "timestamp": 1752937094403,
     "user": {
      "displayName": "Benjamin Bennett Alexander",
      "userId": "14614847693800833280"
     },
     "user_tz": -180
    },
    "id": "tYFt3TJeUWcg",
    "outputId": "2d1d51d1-5936-4b3a-ec2a-e14463a22e20"
   },
   "outputs": [
    {
     "name": "stdout",
     "output_type": "stream",
     "text": [
      " * sqlite:///social_media_data.db\n",
      "Done.\n"
     ]
    },
    {
     "data": {
      "text/html": [
       "<table>\n",
       "    <thead>\n",
       "        <tr>\n",
       "            <th>male_count</th>\n",
       "            <th>female_count</th>\n",
       "            <th>female_to_male_percentage</th>\n",
       "        </tr>\n",
       "    </thead>\n",
       "    <tbody>\n",
       "        <tr>\n",
       "            <td>8</td>\n",
       "            <td>7</td>\n",
       "            <td>87.5</td>\n",
       "        </tr>\n",
       "    </tbody>\n",
       "</table>"
      ],
      "text/plain": [
       "[(8, 7, 87.5)]"
      ]
     },
     "execution_count": 10,
     "metadata": {},
     "output_type": "execute_result"
    }
   ],
   "source": [
    "%%sql\n",
    "SELECT\n",
    "    -- Count of male users\n",
    "    SUM(CASE WHEN gender = 'male' THEN 1 ELSE 0 END) AS male_count,\n",
    "\n",
    "    -- Count of female users\n",
    "    SUM(CASE WHEN gender = 'female' THEN 1 ELSE 0 END) AS female_count,\n",
    "\n",
    "    -- Percentage of female users compared to male users\n",
    "    ROUND((SUM(CASE WHEN gender = 'female' THEN 1 ELSE 0 END) * 100.0) /\n",
    "        NULLIF(SUM(CASE WHEN gender = 'male' THEN 1 ELSE 0 END), 0),2 )\n",
    "        AS female_to_male_percentage\n",
    "FROM social_media\n",
    "WHERE\n",
    "    -- Filter for users with more than three social media accounts\n",
    "    (LENGTH(typeSocial) - LENGTH(REPLACE(typeSocial, ',', '')) + 1) > 3\n",
    "    AND socialDuration BETWEEN 5 AND 10;"
   ]
  }
 ],
 "metadata": {
  "colab": {
   "provenance": []
  },
  "kernelspec": {
   "display_name": "Python 3 (ipykernel)",
   "language": "python",
   "name": "python3"
  },
  "language_info": {
   "codemirror_mode": {
    "name": "ipython",
    "version": 3
   },
   "file_extension": ".py",
   "mimetype": "text/x-python",
   "name": "python",
   "nbconvert_exporter": "python",
   "pygments_lexer": "ipython3",
   "version": "3.10.5"
  }
 },
 "nbformat": 4,
 "nbformat_minor": 5
}

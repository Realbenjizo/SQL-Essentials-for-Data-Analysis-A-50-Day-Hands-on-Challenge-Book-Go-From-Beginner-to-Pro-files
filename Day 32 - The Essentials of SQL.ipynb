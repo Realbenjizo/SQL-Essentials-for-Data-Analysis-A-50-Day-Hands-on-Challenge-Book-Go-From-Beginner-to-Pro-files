{
 "cells": [
  {
   "cell_type": "markdown",
   "id": "OWFrpmO5tUKi",
   "metadata": {
    "id": "OWFrpmO5tUKi"
   },
   "source": [
    "## Question 1: **Answer**"
   ]
  },
  {
   "cell_type": "code",
   "execution_count": 1,
   "id": "8ea7d5b4",
   "metadata": {
    "executionInfo": {
     "elapsed": 1075,
     "status": "ok",
     "timestamp": 1752927264024,
     "user": {
      "displayName": "Benjamin Bennett Alexander",
      "userId": "14614847693800833280"
     },
     "user_tz": -180
    },
    "id": "8ea7d5b4"
   },
   "outputs": [],
   "source": [
    "import pandas as pd\n",
    "import sqlite3\n",
    "import matplotlib.pyplot as plt"
   ]
  },
  {
   "cell_type": "code",
   "execution_count": null,
   "id": "492e3233",
   "metadata": {
    "executionInfo": {
     "elapsed": 802,
     "status": "ok",
     "timestamp": 1752927264823,
     "user": {
      "displayName": "Benjamin Bennett Alexander",
      "userId": "14614847693800833280"
     },
     "user_tz": -180
    },
    "id": "492e3233"
   },
   "outputs": [],
   "source": [
    "def add_data_to_database(input_data):\n",
    "    try:\n",
    "        df = pd.read_csv(input_data)\n",
    "        engine = sqlite3.connect('farming_business_records.db')\n",
    "        df.to_sql('farm_records', con=engine, index = False)\n",
    "    except Exception as e:\n",
    "        print(f\"Error: {e}\")\n",
    "\n",
    "# Loading data\n",
    "data = \"/content/farming_business.csv\"\n",
    "add_data_to_database(data)"
   ]
  },
  {
   "cell_type": "code",
   "execution_count": 3,
   "id": "76e76139",
   "metadata": {
    "executionInfo": {
     "elapsed": 1040,
     "status": "ok",
     "timestamp": 1752927265877,
     "user": {
      "displayName": "Benjamin Bennett Alexander",
      "userId": "14614847693800833280"
     },
     "user_tz": -180
    },
    "id": "76e76139"
   },
   "outputs": [],
   "source": [
    "# Loading SQL extension\n",
    "%load_ext sql"
   ]
  },
  {
   "cell_type": "code",
   "execution_count": 4,
   "id": "32c40ac9",
   "metadata": {
    "executionInfo": {
     "elapsed": 35,
     "status": "ok",
     "timestamp": 1752927265937,
     "user": {
      "displayName": "Benjamin Bennett Alexander",
      "userId": "14614847693800833280"
     },
     "user_tz": -180
    },
    "id": "32c40ac9"
   },
   "outputs": [],
   "source": [
    "# Connecting to the database\n",
    "%sql sqlite:///farming_business_records.db"
   ]
  },
  {
   "cell_type": "code",
   "execution_count": 5,
   "id": "6j7wOZpnIbzr",
   "metadata": {
    "executionInfo": {
     "elapsed": 8,
     "status": "ok",
     "timestamp": 1752927265950,
     "user": {
      "displayName": "Benjamin Bennett Alexander",
      "userId": "14614847693800833280"
     },
     "user_tz": -180
    },
    "id": "6j7wOZpnIbzr"
   },
   "outputs": [],
   "source": [
    "# Default to duplicated style\n",
    "%config SqlMagic.style = '_DEPRECATED_DEFAULT'"
   ]
  },
  {
   "cell_type": "code",
   "execution_count": 6,
   "id": "a0dc2803",
   "metadata": {
    "colab": {
     "base_uri": "https://localhost:8080/",
     "height": 591
    },
    "executionInfo": {
     "elapsed": 147,
     "status": "ok",
     "timestamp": 1752927266095,
     "user": {
      "displayName": "Benjamin Bennett Alexander",
      "userId": "14614847693800833280"
     },
     "user_tz": -180
    },
    "id": "a0dc2803",
    "outputId": "fb4f6298-8d02-4c31-fb04-74a7f88ceac0"
   },
   "outputs": [
    {
     "name": "stdout",
     "output_type": "stream",
     "text": [
      " * sqlite:///farming_business_records.db\n",
      "Done.\n"
     ]
    },
    {
     "data": {
      "text/html": [
       "<table>\n",
       "    <thead>\n",
       "        <tr>\n",
       "            <th>date</th>\n",
       "            <th>crop</th>\n",
       "            <th>quantity_harvested</th>\n",
       "            <th>price_per_unit</th>\n",
       "            <th>expenses</th>\n",
       "            <th>sold</th>\n",
       "            <th>unsold</th>\n",
       "            <th>location</th>\n",
       "            <th>weather</th>\n",
       "        </tr>\n",
       "    </thead>\n",
       "    <tbody>\n",
       "        <tr>\n",
       "            <td>10 01 2019</td>\n",
       "            <td>Wheat</td>\n",
       "            <td>1000</td>\n",
       "            <td>0.5</td>\n",
       "            <td>800</td>\n",
       "            <td>750</td>\n",
       "            <td>250</td>\n",
       "            <td>Sunnyside Meadows</td>\n",
       "            <td>Sunny</td>\n",
       "        </tr>\n",
       "        <tr>\n",
       "            <td>15 01 2019</td>\n",
       "            <td>Lettuce</td>\n",
       "            <td>500</td>\n",
       "            <td>1.25</td>\n",
       "            <td>300</td>\n",
       "            <td>400</td>\n",
       "            <td>100</td>\n",
       "            <td>Windmill Ridge</td>\n",
       "            <td>Rainy</td>\n",
       "        </tr>\n",
       "        <tr>\n",
       "            <td>20 01 2019</td>\n",
       "            <td>Tomatoes</td>\n",
       "            <td>250</td>\n",
       "            <td>2.0</td>\n",
       "            <td>400</td>\n",
       "            <td>150</td>\n",
       "            <td>100</td>\n",
       "            <td>Sunnyside Meadows</td>\n",
       "            <td>Snowy</td>\n",
       "        </tr>\n",
       "        <tr>\n",
       "            <td>25 01 2019</td>\n",
       "            <td>Potatoes</td>\n",
       "            <td>800</td>\n",
       "            <td>0.75</td>\n",
       "            <td>500</td>\n",
       "            <td>600</td>\n",
       "            <td>200</td>\n",
       "            <td>Windmill Ridge</td>\n",
       "            <td>Cloudy</td>\n",
       "        </tr>\n",
       "        <tr>\n",
       "            <td>1 02 2019</td>\n",
       "            <td>Corn</td>\n",
       "            <td>1500</td>\n",
       "            <td>0.4</td>\n",
       "            <td>900</td>\n",
       "            <td>1200</td>\n",
       "            <td>300</td>\n",
       "            <td>Sunnyside Meadows</td>\n",
       "            <td>Sunny</td>\n",
       "        </tr>\n",
       "        <tr>\n",
       "            <td>5 02 2019</td>\n",
       "            <td>Carrots</td>\n",
       "            <td>300</td>\n",
       "            <td>1.5</td>\n",
       "            <td>200</td>\n",
       "            <td>250</td>\n",
       "            <td>50</td>\n",
       "            <td>Windmill Ridge</td>\n",
       "            <td>Windy</td>\n",
       "        </tr>\n",
       "        <tr>\n",
       "            <td>10 02 2019</td>\n",
       "            <td>Apples</td>\n",
       "            <td>750</td>\n",
       "            <td>1.75</td>\n",
       "            <td>500</td>\n",
       "            <td>650</td>\n",
       "            <td>100</td>\n",
       "            <td>Sunnyside Meadows</td>\n",
       "            <td>Foggy</td>\n",
       "        </tr>\n",
       "        <tr>\n",
       "            <td>15 02 2019</td>\n",
       "            <td>Strawberries</td>\n",
       "            <td>125</td>\n",
       "            <td>3.0</td>\n",
       "            <td>200</td>\n",
       "            <td>75</td>\n",
       "            <td>50</td>\n",
       "            <td>Windmill Ridge</td>\n",
       "            <td>Sunny</td>\n",
       "        </tr>\n",
       "        <tr>\n",
       "            <td>20 02 2019</td>\n",
       "            <td>Spinach</td>\n",
       "            <td>400</td>\n",
       "            <td>1.0</td>\n",
       "            <td>250</td>\n",
       "            <td>300</td>\n",
       "            <td>100</td>\n",
       "            <td>Sunnyside Meadows</td>\n",
       "            <td>Rainy</td>\n",
       "        </tr>\n",
       "        <tr>\n",
       "            <td>25 02 2019</td>\n",
       "            <td>Bell Peppers</td>\n",
       "            <td>200</td>\n",
       "            <td>2.5</td>\n",
       "            <td>300</td>\n",
       "            <td>150</td>\n",
       "            <td>50</td>\n",
       "            <td>Windmill Ridge</td>\n",
       "            <td>Cloudy</td>\n",
       "        </tr>\n",
       "        <tr>\n",
       "            <td>1 03 2019</td>\n",
       "            <td>Broccoli</td>\n",
       "            <td>350</td>\n",
       "            <td>1.1</td>\n",
       "            <td>200</td>\n",
       "            <td>275</td>\n",
       "            <td>75</td>\n",
       "            <td>Sunnyside Meadows</td>\n",
       "            <td>Sunny</td>\n",
       "        </tr>\n",
       "        <tr>\n",
       "            <td>5 03 2019</td>\n",
       "            <td>Onions</td>\n",
       "            <td>500</td>\n",
       "            <td>0.8</td>\n",
       "            <td>300</td>\n",
       "            <td>400</td>\n",
       "            <td>100</td>\n",
       "            <td>Windmill Ridge</td>\n",
       "            <td>Windy</td>\n",
       "        </tr>\n",
       "        <tr>\n",
       "            <td>10 03 2019</td>\n",
       "            <td>Grapes</td>\n",
       "            <td>600</td>\n",
       "            <td>2.0</td>\n",
       "            <td>400</td>\n",
       "            <td>500</td>\n",
       "            <td>100</td>\n",
       "            <td>Sunnyside Meadows</td>\n",
       "            <td>Foggy</td>\n",
       "        </tr>\n",
       "        <tr>\n",
       "            <td>15 03 2019</td>\n",
       "            <td>Blueberries</td>\n",
       "            <td>100</td>\n",
       "            <td>4.0</td>\n",
       "            <td>150</td>\n",
       "            <td>75</td>\n",
       "            <td>25</td>\n",
       "            <td>Windmill Ridge</td>\n",
       "            <td>Sunny</td>\n",
       "        </tr>\n",
       "        <tr>\n",
       "            <td>20 03 2019</td>\n",
       "            <td>Kale</td>\n",
       "            <td>250</td>\n",
       "            <td>1.25</td>\n",
       "            <td>150</td>\n",
       "            <td>200</td>\n",
       "            <td>50</td>\n",
       "            <td>Sunnyside Meadows</td>\n",
       "            <td>Rainy</td>\n",
       "        </tr>\n",
       "        <tr>\n",
       "            <td>25 03 2019</td>\n",
       "            <td>Cucumbers</td>\n",
       "            <td>150</td>\n",
       "            <td>2.25</td>\n",
       "            <td>200</td>\n",
       "            <td>100</td>\n",
       "            <td>50</td>\n",
       "            <td>Windmill Ridge</td>\n",
       "            <td>Cloudy</td>\n",
       "        </tr>\n",
       "        <tr>\n",
       "            <td>1 04 2019</td>\n",
       "            <td>Peas</td>\n",
       "            <td>400</td>\n",
       "            <td>1.0</td>\n",
       "            <td>250</td>\n",
       "            <td>300</td>\n",
       "            <td>100</td>\n",
       "            <td>Sunnyside Meadows</td>\n",
       "            <td>Sunny</td>\n",
       "        </tr>\n",
       "        <tr>\n",
       "            <td>5 04 2019</td>\n",
       "            <td>Asparagus</td>\n",
       "            <td>200</td>\n",
       "            <td>3.5</td>\n",
       "            <td>150</td>\n",
       "            <td>125</td>\n",
       "            <td>75</td>\n",
       "            <td>Windmill Ridge</td>\n",
       "            <td>Windy</td>\n",
       "        </tr>\n",
       "        <tr>\n",
       "            <td>10 04 2019</td>\n",
       "            <td>Watermelon</td>\n",
       "            <td>500</td>\n",
       "            <td>2.75</td>\n",
       "            <td>350</td>\n",
       "            <td>400</td>\n",
       "            <td>100</td>\n",
       "            <td>Sunnyside Meadows</td>\n",
       "            <td>Foggy</td>\n",
       "        </tr>\n",
       "        <tr>\n",
       "            <td>15 04 2019</td>\n",
       "            <td>Cherries</td>\n",
       "            <td>75</td>\n",
       "            <td>5.0</td>\n",
       "            <td>100</td>\n",
       "            <td>50</td>\n",
       "            <td>25</td>\n",
       "            <td>Windmill Ridge</td>\n",
       "            <td>Sunny</td>\n",
       "        </tr>\n",
       "        <tr>\n",
       "            <td>20 04 2019</td>\n",
       "            <td>Lettuce</td>\n",
       "            <td>550</td>\n",
       "            <td>1.15</td>\n",
       "            <td>325</td>\n",
       "            <td>425</td>\n",
       "            <td>125</td>\n",
       "            <td>Sunnyside Meadows</td>\n",
       "            <td>Rainy</td>\n",
       "        </tr>\n",
       "        <tr>\n",
       "            <td>25 04 2019</td>\n",
       "            <td>Carrots</td>\n",
       "            <td>325</td>\n",
       "            <td>1.4</td>\n",
       "            <td>225</td>\n",
       "            <td>275</td>\n",
       "            <td>50</td>\n",
       "            <td>Windmill Ridge</td>\n",
       "            <td>Cloudy</td>\n",
       "        </tr>\n",
       "        <tr>\n",
       "            <td>1 05 2019</td>\n",
       "            <td>Tomatoes</td>\n",
       "            <td>275</td>\n",
       "            <td>1.85</td>\n",
       "            <td>425</td>\n",
       "            <td>175</td>\n",
       "            <td>100</td>\n",
       "            <td>Sunnyside Meadows</td>\n",
       "            <td>Sunny</td>\n",
       "        </tr>\n",
       "        <tr>\n",
       "            <td>5 05 2019</td>\n",
       "            <td>Strawberries</td>\n",
       "            <td>150</td>\n",
       "            <td>2.8</td>\n",
       "            <td>250</td>\n",
       "            <td>85</td>\n",
       "            <td>65</td>\n",
       "            <td>Windmill Ridge</td>\n",
       "            <td>Windy</td>\n",
       "        </tr>\n",
       "        <tr>\n",
       "            <td>10 05 2019</td>\n",
       "            <td>Bell Peppers</td>\n",
       "            <td>225</td>\n",
       "            <td>2.35</td>\n",
       "            <td>350</td>\n",
       "            <td>175</td>\n",
       "            <td>50</td>\n",
       "            <td>Sunnyside Meadows</td>\n",
       "            <td>Foggy</td>\n",
       "        </tr>\n",
       "    </tbody>\n",
       "</table>"
      ],
      "text/plain": [
       "[('10 01 2019', 'Wheat', 1000, 0.5, 800, 750, 250, 'Sunnyside Meadows', 'Sunny'),\n",
       " ('15 01 2019', 'Lettuce', 500, 1.25, 300, 400, 100, 'Windmill Ridge', 'Rainy'),\n",
       " ('20 01 2019', 'Tomatoes', 250, 2.0, 400, 150, 100, 'Sunnyside Meadows', 'Snowy'),\n",
       " ('25 01 2019', 'Potatoes', 800, 0.75, 500, 600, 200, 'Windmill Ridge', 'Cloudy'),\n",
       " ('1 02 2019', 'Corn', 1500, 0.4, 900, 1200, 300, 'Sunnyside Meadows', 'Sunny'),\n",
       " ('5 02 2019', 'Carrots', 300, 1.5, 200, 250, 50, 'Windmill Ridge', 'Windy'),\n",
       " ('10 02 2019', 'Apples', 750, 1.75, 500, 650, 100, 'Sunnyside Meadows', 'Foggy'),\n",
       " ('15 02 2019', 'Strawberries', 125, 3.0, 200, 75, 50, 'Windmill Ridge', 'Sunny'),\n",
       " ('20 02 2019', 'Spinach', 400, 1.0, 250, 300, 100, 'Sunnyside Meadows', 'Rainy'),\n",
       " ('25 02 2019', 'Bell Peppers', 200, 2.5, 300, 150, 50, 'Windmill Ridge', 'Cloudy'),\n",
       " ('1 03 2019', 'Broccoli', 350, 1.1, 200, 275, 75, 'Sunnyside Meadows', 'Sunny'),\n",
       " ('5 03 2019', 'Onions', 500, 0.8, 300, 400, 100, 'Windmill Ridge', 'Windy'),\n",
       " ('10 03 2019', 'Grapes', 600, 2.0, 400, 500, 100, 'Sunnyside Meadows', 'Foggy'),\n",
       " ('15 03 2019', 'Blueberries', 100, 4.0, 150, 75, 25, 'Windmill Ridge', 'Sunny'),\n",
       " ('20 03 2019', 'Kale', 250, 1.25, 150, 200, 50, 'Sunnyside Meadows', 'Rainy'),\n",
       " ('25 03 2019', 'Cucumbers', 150, 2.25, 200, 100, 50, 'Windmill Ridge', 'Cloudy'),\n",
       " ('1 04 2019', 'Peas', 400, 1.0, 250, 300, 100, 'Sunnyside Meadows', 'Sunny'),\n",
       " ('5 04 2019', 'Asparagus', 200, 3.5, 150, 125, 75, 'Windmill Ridge', 'Windy'),\n",
       " ('10 04 2019', 'Watermelon', 500, 2.75, 350, 400, 100, 'Sunnyside Meadows', 'Foggy'),\n",
       " ('15 04 2019', 'Cherries', 75, 5.0, 100, 50, 25, 'Windmill Ridge', 'Sunny'),\n",
       " ('20 04 2019', 'Lettuce', 550, 1.15, 325, 425, 125, 'Sunnyside Meadows', 'Rainy'),\n",
       " ('25 04 2019', 'Carrots', 325, 1.4, 225, 275, 50, 'Windmill Ridge', 'Cloudy'),\n",
       " ('1 05 2019', 'Tomatoes', 275, 1.85, 425, 175, 100, 'Sunnyside Meadows', 'Sunny'),\n",
       " ('5 05 2019', 'Strawberries', 150, 2.8, 250, 85, 65, 'Windmill Ridge', 'Windy'),\n",
       " ('10 05 2019', 'Bell Peppers', 225, 2.35, 350, 175, 50, 'Sunnyside Meadows', 'Foggy')]"
      ]
     },
     "execution_count": 6,
     "metadata": {},
     "output_type": "execute_result"
    }
   ],
   "source": [
    "%%sql\n",
    "SELECT * FROM farm_records\n",
    "LIMIT 5;"
   ]
  },
  {
   "cell_type": "markdown",
   "id": "692754ee",
   "metadata": {
    "id": "692754ee"
   },
   "source": [
    "## Question 2: **Answer**"
   ]
  },
  {
   "cell_type": "code",
   "execution_count": 7,
   "id": "2cb25c2d",
   "metadata": {
    "colab": {
     "base_uri": "https://localhost:8080/",
     "height": 136
    },
    "executionInfo": {
     "elapsed": 139,
     "status": "ok",
     "timestamp": 1752927266238,
     "user": {
      "displayName": "Benjamin Bennett Alexander",
      "userId": "14614847693800833280"
     },
     "user_tz": -180
    },
    "id": "2cb25c2d",
    "outputId": "c9c102e7-6596-40a1-a04f-be47e26f30e8"
   },
   "outputs": [
    {
     "name": "stdout",
     "output_type": "stream",
     "text": [
      " * sqlite:///farming_business_records.db\n",
      "Done.\n"
     ]
    },
    {
     "data": {
      "text/html": [
       "<table>\n",
       "    <thead>\n",
       "        <tr>\n",
       "            <th>crop</th>\n",
       "            <th>total_revenue</th>\n",
       "        </tr>\n",
       "    </thead>\n",
       "    <tbody>\n",
       "        <tr>\n",
       "            <td>Apples</td>\n",
       "            <td>1137.5</td>\n",
       "        </tr>\n",
       "        <tr>\n",
       "            <td>Watermelon</td>\n",
       "            <td>1100.0</td>\n",
       "        </tr>\n",
       "        <tr>\n",
       "            <td>Grapes</td>\n",
       "            <td>1000.0</td>\n",
       "        </tr>\n",
       "    </tbody>\n",
       "</table>"
      ],
      "text/plain": [
       "[('Apples', 1137.5), ('Watermelon', 1100.0), ('Grapes', 1000.0)]"
      ]
     },
     "execution_count": 7,
     "metadata": {},
     "output_type": "execute_result"
    }
   ],
   "source": [
    "%%sql\n",
    "SELECT\n",
    "    crop,\n",
    "    SUM(price_per_unit * sold) AS total_revenue\n",
    "FROM farm_records\n",
    "GROUP BY crop\n",
    "ORDER BY total_revenue DESC\n",
    "LIMIT 3;"
   ]
  },
  {
   "cell_type": "markdown",
   "id": "h-0Ymh_yv5-h",
   "metadata": {
    "id": "h-0Ymh_yv5-h"
   },
   "source": [
    "## Question 3: **Answer**"
   ]
  },
  {
   "cell_type": "code",
   "execution_count": 8,
   "id": "O5VwFQIqqMvx",
   "metadata": {
    "colab": {
     "base_uri": "https://localhost:8080/",
     "height": 94
    },
    "executionInfo": {
     "elapsed": 130,
     "status": "ok",
     "timestamp": 1752927266246,
     "user": {
      "displayName": "Benjamin Bennett Alexander",
      "userId": "14614847693800833280"
     },
     "user_tz": -180
    },
    "id": "O5VwFQIqqMvx",
    "outputId": "9d1838ee-9596-46d6-a795-6ea8bc967a3b"
   },
   "outputs": [
    {
     "name": "stdout",
     "output_type": "stream",
     "text": [
      " * sqlite:///farming_business_records.db\n",
      "Done.\n"
     ]
    },
    {
     "data": {
      "text/html": [
       "<table>\n",
       "    <thead>\n",
       "        <tr>\n",
       "            <th>weather</th>\n",
       "            <th>total_harvested</th>\n",
       "            <th>percentage_sold</th>\n",
       "            <th>percentage_unsold</th>\n",
       "            <th>percent_difference</th>\n",
       "        </tr>\n",
       "    </thead>\n",
       "    <tbody>\n",
       "        <tr>\n",
       "            <td>Foggy</td>\n",
       "            <td>2075</td>\n",
       "            <td>83.13</td>\n",
       "            <td>16.87</td>\n",
       "            <td>66.27</td>\n",
       "        </tr>\n",
       "    </tbody>\n",
       "</table>"
      ],
      "text/plain": [
       "[('Foggy', 2075, 83.13, 16.87, 66.27)]"
      ]
     },
     "execution_count": 8,
     "metadata": {},
     "output_type": "execute_result"
    }
   ],
   "source": [
    "%%sql\n",
    "-- Calculate total harvested and percentages for each weather condition\n",
    "WITH percentages_calculation AS (\n",
    "    SELECT\n",
    "        weather,\n",
    "        SUM(quantity_harvested) AS total_harvested,\n",
    "        ROUND(SUM(sold) * 100.0 / SUM(quantity_harvested), 2)\n",
    "        AS percentage_sold,\n",
    "        ROUND(SUM(unsold) * 100.0 / SUM(quantity_harvested), 2)\n",
    "        AS percentage_unsold,\n",
    "        ROUND(ABS(SUM(sold) - SUM(unsold)) * 100.0 / SUM(quantity_harvested), 2)\n",
    "        AS percent_difference\n",
    "    FROM farm_records\n",
    "    GROUP BY weather\n",
    "),\n",
    "-- Identify the maximum percentage difference across all weather conditions\n",
    "max_percentage_difference AS (\n",
    "    SELECT MAX(percent_difference) AS difference\n",
    "    FROM percentages_calculation\n",
    ")\n",
    "-- Retrieve the weather condition with the largest percentage difference\n",
    "SELECT\n",
    "    pc.weather,\n",
    "    pc.total_harvested,\n",
    "    pc.percentage_sold,\n",
    "    pc.percentage_unsold,\n",
    "    pc.percent_difference\n",
    "FROM percentages_calculation pc\n",
    "JOIN max_percentage_difference mp\n",
    "ON pc.percent_difference = mp.difference;"
   ]
  },
  {
   "cell_type": "markdown",
   "id": "39e088ec",
   "metadata": {
    "id": "39e088ec"
   },
   "source": [
    "## Question 4: **Answer**"
   ]
  },
  {
   "cell_type": "code",
   "execution_count": 9,
   "id": "4c7y30rezPB9",
   "metadata": {
    "colab": {
     "base_uri": "https://localhost:8080/",
     "height": 94
    },
    "executionInfo": {
     "elapsed": 109,
     "status": "ok",
     "timestamp": 1752927266248,
     "user": {
      "displayName": "Benjamin Bennett Alexander",
      "userId": "14614847693800833280"
     },
     "user_tz": -180
    },
    "id": "4c7y30rezPB9",
    "outputId": "baa2e1c0-bd00-4e18-f030-60d6e586a62c"
   },
   "outputs": [
    {
     "name": "stdout",
     "output_type": "stream",
     "text": [
      " * sqlite:///farming_business_records.db\n",
      "Done.\n"
     ]
    },
    {
     "data": {
      "text/html": [
       "<table>\n",
       "    <thead>\n",
       "        <tr>\n",
       "            <th>farm_name</th>\n",
       "            <th>profit</th>\n",
       "            <th>profit_margin</th>\n",
       "        </tr>\n",
       "    </thead>\n",
       "    <tbody>\n",
       "        <tr>\n",
       "            <td>Windmill Ridge</td>\n",
       "            <td>2762.5</td>\n",
       "            <td>&nbsp;&nbsp;&nbsp;&nbsp;&nbsp;&nbsp;&nbsp;&nbsp;&nbsp;&nbsp;&nbsp;&nbsp;&nbsp;&nbsp;&nbsp;&nbsp;49.0</td>\n",
       "        </tr>\n",
       "    </tbody>\n",
       "</table>"
      ],
      "text/plain": [
       "[('Windmill Ridge', 2762.5, '                49.0')]"
      ]
     },
     "execution_count": 9,
     "metadata": {},
     "output_type": "execute_result"
    }
   ],
   "source": [
    "%%sql\n",
    "-- Calculate the total revenue and costs per location\n",
    "WITH farm_totals AS (\n",
    "  SELECT\n",
    "          location,\n",
    "          SUM(quantity_harvested * price_per_unit) AS\n",
    "          total_revenue,\n",
    "          SUM(expenses) AS total_expenses\n",
    "  FROM farm_records\n",
    "  GROUP BY location\n",
    "),\n",
    "-- Calculate the difference between revenue and expences\n",
    "profit_calculation AS (\n",
    "    SELECT (total_revenue - total_expenses) AS profit\n",
    "    FROM farm_totals\n",
    "),\n",
    "-- Retrieve the minimum profit\n",
    "minimum_profit AS (\n",
    "    SELECT MIN(profit)\n",
    "    AS revenue_cost_difference\n",
    "    FROM profit_calculation\n",
    ")\n",
    "-- Return the location with the least profit\n",
    "SELECT\n",
    "       location AS farm_name,\n",
    "       total_revenue - total_expenses AS profit,\n",
    "       -- Calculating the profit margin\n",
    "       printf('%20s', ROUND((total_revenue - total_expenses) /\n",
    "                      total_revenue * 100, 2)) AS profit_margin\n",
    "FROM farm_totals\n",
    "WHERE profit = (SELECT revenue_cost_difference\n",
    "                FROM minimum_profit);"
   ]
  },
  {
   "cell_type": "markdown",
   "id": "EcznadQ7whHT",
   "metadata": {
    "id": "EcznadQ7whHT"
   },
   "source": [
    "## Question 5: **Answer**"
   ]
  },
  {
   "cell_type": "code",
   "execution_count": 10,
   "id": "SrWj2GqC0W-R",
   "metadata": {
    "colab": {
     "base_uri": "https://localhost:8080/",
     "height": 94
    },
    "executionInfo": {
     "elapsed": 95,
     "status": "ok",
     "timestamp": 1752927266251,
     "user": {
      "displayName": "Benjamin Bennett Alexander",
      "userId": "14614847693800833280"
     },
     "user_tz": -180
    },
    "id": "SrWj2GqC0W-R",
    "outputId": "bf0c5135-9668-440d-b2a4-b637910b0036"
   },
   "outputs": [
    {
     "name": "stdout",
     "output_type": "stream",
     "text": [
      " * sqlite:///farming_business_records.db\n",
      "Done.\n"
     ]
    },
    {
     "data": {
      "text/html": [
       "<table>\n",
       "    <thead>\n",
       "        <tr>\n",
       "            <th>crop</th>\n",
       "            <th>quantity_harvested</th>\n",
       "            <th>inventory_level</th>\n",
       "            <th>inventory_percentage</th>\n",
       "            <th>rank_by_inventory</th>\n",
       "        </tr>\n",
       "    </thead>\n",
       "    <tbody>\n",
       "        <tr>\n",
       "            <td>Strawberries</td>\n",
       "            <td>150</td>\n",
       "            <td>65</td>\n",
       "            <td>43.33</td>\n",
       "            <td>1</td>\n",
       "        </tr>\n",
       "    </tbody>\n",
       "</table>"
      ],
      "text/plain": [
       "[('Strawberries', 150, 65, 43.33, 1)]"
      ]
     },
     "execution_count": 10,
     "metadata": {},
     "output_type": "execute_result"
    }
   ],
   "source": [
    "%%sql\n",
    "WITH crop_inventory AS (\n",
    "  SELECT\n",
    "      crop,\n",
    "      quantity_harvested,\n",
    "      (quantity_harvested - sold) AS inventory_level,\n",
    "      ROUND(((quantity_harvested - sold) * 100.0) / quantity_harvested, 2)\n",
    "      AS inventory_percentage\n",
    "  FROM farm_records\n",
    "),\n",
    "ranked_inventory AS (\n",
    "  SELECT\n",
    "      crop,\n",
    "      quantity_harvested,\n",
    "      inventory_level,\n",
    "      inventory_percentage,\n",
    "      RANK() OVER (ORDER BY inventory_percentage DESC)\n",
    "      AS rank_by_inventory\n",
    "  FROM crop_inventory\n",
    ")\n",
    "SELECT\n",
    "    crop,\n",
    "    quantity_harvested,\n",
    "    inventory_level,\n",
    "    inventory_percentage,\n",
    "    rank_by_inventory\n",
    "FROM ranked_inventory\n",
    "WHERE rank_by_inventory = 1;"
   ]
  },
  {
   "cell_type": "markdown",
   "id": "c98e9cda",
   "metadata": {
    "id": "c98e9cda"
   },
   "source": [
    "## Question 5: **Answer**"
   ]
  },
  {
   "cell_type": "code",
   "execution_count": 11,
   "id": "bfe151af",
   "metadata": {
    "colab": {
     "base_uri": "https://localhost:8080/",
     "height": 177
    },
    "executionInfo": {
     "elapsed": 40,
     "status": "ok",
     "timestamp": 1752927266276,
     "user": {
      "displayName": "Benjamin Bennett Alexander",
      "userId": "14614847693800833280"
     },
     "user_tz": -180
    },
    "id": "bfe151af",
    "outputId": "bf374721-d59b-4a0b-ea8b-e07f9b94d89b"
   },
   "outputs": [
    {
     "name": "stdout",
     "output_type": "stream",
     "text": [
      " * sqlite:///farming_business_records.db\n",
      "Done.\n"
     ]
    },
    {
     "data": {
      "text/html": [
       "<table>\n",
       "    <thead>\n",
       "        <tr>\n",
       "            <th>crop</th>\n",
       "            <th>harvest_count</th>\n",
       "            <th>total_harvested</th>\n",
       "        </tr>\n",
       "    </thead>\n",
       "    <tbody>\n",
       "        <tr>\n",
       "            <td>Bell Peppers</td>\n",
       "            <td>2</td>\n",
       "            <td>425</td>\n",
       "        </tr>\n",
       "        <tr>\n",
       "            <td>Carrots</td>\n",
       "            <td>2</td>\n",
       "            <td>625</td>\n",
       "        </tr>\n",
       "        <tr>\n",
       "            <td>Lettuce</td>\n",
       "            <td>2</td>\n",
       "            <td>1050</td>\n",
       "        </tr>\n",
       "        <tr>\n",
       "            <td>Strawberries</td>\n",
       "            <td>2</td>\n",
       "            <td>275</td>\n",
       "        </tr>\n",
       "        <tr>\n",
       "            <td>Tomatoes</td>\n",
       "            <td>2</td>\n",
       "            <td>525</td>\n",
       "        </tr>\n",
       "    </tbody>\n",
       "</table>"
      ],
      "text/plain": [
       "[('Bell Peppers', 2, 425),\n",
       " ('Carrots', 2, 625),\n",
       " ('Lettuce', 2, 1050),\n",
       " ('Strawberries', 2, 275),\n",
       " ('Tomatoes', 2, 525)]"
      ]
     },
     "execution_count": 11,
     "metadata": {},
     "output_type": "execute_result"
    }
   ],
   "source": [
    "%%sql\n",
    "SELECT\n",
    "    crop,\n",
    "    COUNT(*) AS harvest_count,\n",
    "    SUM(quantity_harvested) AS total_harvested\n",
    "FROM farm_records\n",
    "GROUP BY crop\n",
    "HAVING harvest_count > 1;"
   ]
  },
  {
   "cell_type": "code",
   "execution_count": 12,
   "id": "DovSVooJkDkB",
   "metadata": {
    "executionInfo": {
     "elapsed": 5,
     "status": "ok",
     "timestamp": 1752927266286,
     "user": {
      "displayName": "Benjamin Bennett Alexander",
      "userId": "14614847693800833280"
     },
     "user_tz": -180
    },
    "id": "DovSVooJkDkB"
   },
   "outputs": [],
   "source": [
    "# Assign query to variable\n",
    "query = \"\"\"\n",
    "SELECT\n",
    "    crop,\n",
    "    COUNT(*) AS harvest_count,\n",
    "    SUM(quantity_harvested) AS total_harvested\n",
    "FROM farm_records\n",
    "GROUP BY crop\n",
    "HAVING harvest_count > 1;\n",
    "\"\"\"\n",
    "# Connect to database\n",
    "conn = sqlite3.connect(\"farming_business_records.db\")"
   ]
  },
  {
   "cell_type": "code",
   "execution_count": 13,
   "id": "wUj4mzkxkbUP",
   "metadata": {
    "colab": {
     "base_uri": "https://localhost:8080/"
    },
    "executionInfo": {
     "elapsed": 23,
     "status": "ok",
     "timestamp": 1752927266313,
     "user": {
      "displayName": "Benjamin Bennett Alexander",
      "userId": "14614847693800833280"
     },
     "user_tz": -180
    },
    "id": "wUj4mzkxkbUP",
    "outputId": "9cc13403-8077-49ad-f062-dc7382853ccc"
   },
   "outputs": [
    {
     "name": "stdout",
     "output_type": "stream",
     "text": [
      "           crop  harvest_count  total_harvested\n",
      "0  Bell Peppers              2              425\n",
      "1       Carrots              2              625\n",
      "2       Lettuce              2             1050\n",
      "3  Strawberries              2              275\n",
      "4      Tomatoes              2              525\n"
     ]
    }
   ],
   "source": [
    "# Creating a DataFrame from query\n",
    "df = pd.read_sql_query(query, conn)\n",
    "print(df)"
   ]
  },
  {
   "cell_type": "code",
   "execution_count": 14,
   "id": "cK39_5gYgdOu",
   "metadata": {
    "colab": {
     "base_uri": "https://localhost:8080/",
     "height": 630
    },
    "executionInfo": {
     "elapsed": 46,
     "status": "ok",
     "timestamp": 1752927266352,
     "user": {
      "displayName": "Benjamin Bennett Alexander",
      "userId": "14614847693800833280"
     },
     "user_tz": -180
    },
    "id": "cK39_5gYgdOu",
    "outputId": "177d74e2-9287-4df0-ed78-562452ce7331"
   },
   "outputs": [
    {
     "data": {
      "image/png": "[encoded data removed]",
      "text/plain": [
       "<Figure size 1000x600 with 1 Axes>"
      ]
     },
     "metadata": {},
     "output_type": "display_data"
    }
   ],
   "source": [
    "# Creating a bar plot\n",
    "plt.figure(figsize=(10, 6))\n",
    "bars = plt.bar(df[\"crop\"], df[\"total_harvested\"], color=\"skyblue\")\n",
    "\n",
    "# Finding the crop with the highest total harvest\n",
    "max_harvest_crop = df.loc[df[\"total_harvested\"].idxmax(), \"crop\"]\n",
    "\n",
    "# Highlighting the crop with the highest harvest\n",
    "for bar, crop in zip(bars, df[\"crop\"]):\n",
    "    if crop == max_harvest_crop:\n",
    "        bar.set_color(\"red\")\n",
    "\n",
    "plt.xlabel(\"Crop\")\n",
    "plt.ylabel(\"Total Harvested\")\n",
    "plt.title(\"Total Harvested Crops (Highlighting Highest Yield)\", fontsize=20)\n",
    "plt.xticks(rotation=45, ha=\"right\")\n",
    "plt.show()\n",
    "# Closing connection\n",
    "conn.close()"
   ]
  }
 ],
 "metadata": {
  "colab": {
   "provenance": []
  },
  "kernelspec": {
   "display_name": "Python 3 (ipykernel)",
   "language": "python",
   "name": "python3"
  },
  "language_info": {
   "codemirror_mode": {
    "name": "ipython",
    "version": 3
   },
   "file_extension": ".py",
   "mimetype": "text/x-python",
   "name": "python",
   "nbconvert_exporter": "python",
   "pygments_lexer": "ipython3",
   "version": "3.10.5"
  }
 },
 "nbformat": 4,
 "nbformat_minor": 5
}

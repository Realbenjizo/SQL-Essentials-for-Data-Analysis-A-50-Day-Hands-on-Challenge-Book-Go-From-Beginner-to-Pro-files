{
 "cells": [
  {
   "cell_type": "markdown",
   "id": "8I7Sygg-k2iH",
   "metadata": {
    "id": "8I7Sygg-k2iH"
   },
   "source": [
    "## Question 1: **Answer**"
   ]
  },
  {
   "cell_type": "code",
   "execution_count": 1,
   "id": "8ec9f560",
   "metadata": {
    "executionInfo": {
     "elapsed": 561,
     "status": "ok",
     "timestamp": 1752936913919,
     "user": {
      "displayName": "Benjamin Bennett Alexander",
      "userId": "14614847693800833280"
     },
     "user_tz": -180
    },
    "id": "8ec9f560"
   },
   "outputs": [],
   "source": [
    "import pandas as pd\n",
    "import sqlite3"
   ]
  },
  {
   "cell_type": "code",
   "execution_count": null,
   "id": "32803c8b",
   "metadata": {
    "executionInfo": {
     "elapsed": 1248,
     "status": "ok",
     "timestamp": 1752936915166,
     "user": {
      "displayName": "Benjamin Bennett Alexander",
      "userId": "14614847693800833280"
     },
     "user_tz": -180
    },
    "id": "32803c8b"
   },
   "outputs": [],
   "source": [
    "def add_data_to_database(input_data):\n",
    "    try:\n",
    "        df = pd.read_csv(input_data)\n",
    "        engine = sqlite3.connect(\"runners_stats_data.db\")\n",
    "        df.to_sql('runners',con=engine, index = False)\n",
    "    except Exception as e:\n",
    "            print(f\"Error: {e}\")\n",
    "\n",
    "data= \"/content/long_distance_runners.csv\"\n",
    "add_data_to_database(data)"
   ]
  },
  {
   "cell_type": "code",
   "execution_count": 3,
   "id": "cb568adb",
   "metadata": {
    "executionInfo": {
     "elapsed": 868,
     "status": "ok",
     "timestamp": 1752936916039,
     "user": {
      "displayName": "Benjamin Bennett Alexander",
      "userId": "14614847693800833280"
     },
     "user_tz": -180
    },
    "id": "cb568adb"
   },
   "outputs": [],
   "source": [
    "# Loading SQL extension\n",
    "%load_ext sql"
   ]
  },
  {
   "cell_type": "code",
   "execution_count": 4,
   "id": "73b13d97",
   "metadata": {
    "executionInfo": {
     "elapsed": 30,
     "status": "ok",
     "timestamp": 1752936916086,
     "user": {
      "displayName": "Benjamin Bennett Alexander",
      "userId": "14614847693800833280"
     },
     "user_tz": -180
    },
    "id": "73b13d97"
   },
   "outputs": [],
   "source": [
    "# Connecting to the database\n",
    "%sql sqlite:///runners_stats_data.db"
   ]
  },
  {
   "cell_type": "code",
   "execution_count": 5,
   "id": "Gop-lezMMi9L",
   "metadata": {
    "executionInfo": {
     "elapsed": 10,
     "status": "ok",
     "timestamp": 1752936916116,
     "user": {
      "displayName": "Benjamin Bennett Alexander",
      "userId": "14614847693800833280"
     },
     "user_tz": -180
    },
    "id": "Gop-lezMMi9L"
   },
   "outputs": [],
   "source": [
    "# Default to duplicated style\n",
    "%config SqlMagic.style = '_DEPRECATED_DEFAULT'"
   ]
  },
  {
   "cell_type": "markdown",
   "id": "6239a162",
   "metadata": {
    "id": "6239a162"
   },
   "source": [
    "#### 1. View the first 5 rows"
   ]
  },
  {
   "cell_type": "code",
   "execution_count": 6,
   "id": "b1198f97",
   "metadata": {
    "colab": {
     "base_uri": "https://localhost:8080/",
     "height": 177
    },
    "executionInfo": {
     "elapsed": 76,
     "status": "ok",
     "timestamp": 1752936916197,
     "user": {
      "displayName": "Benjamin Bennett Alexander",
      "userId": "14614847693800833280"
     },
     "user_tz": -180
    },
    "id": "b1198f97",
    "outputId": "2100a0d7-20e6-48c7-a620-41dd156c0b91"
   },
   "outputs": [
    {
     "name": "stdout",
     "output_type": "stream",
     "text": [
      " * sqlite:///runners_stats_data.db\n",
      "Done.\n"
     ]
    },
    {
     "data": {
      "text/html": [
       "<table>\n",
       "    <thead>\n",
       "        <tr>\n",
       "            <th>name</th>\n",
       "            <th>nationality</th>\n",
       "            <th>distance</th>\n",
       "            <th>best_time</th>\n",
       "            <th>year</th>\n",
       "            <th>championships</th>\n",
       "            <th>world_records</th>\n",
       "            <th>olympic_gold_medals</th>\n",
       "            <th>olympic_silver_medals</th>\n",
       "            <th>olympic_bronze_medals</th>\n",
       "        </tr>\n",
       "    </thead>\n",
       "    <tbody>\n",
       "        <tr>\n",
       "            <td>Eliud Kipchoge</td>\n",
       "            <td>Kenya</td>\n",
       "            <td>Marathon</td>\n",
       "            <td>02:01:39</td>\n",
       "            <td>2018</td>\n",
       "            <td>6</td>\n",
       "            <td>4</td>\n",
       "            <td>3</td>\n",
       "            <td>0</td>\n",
       "            <td>1</td>\n",
       "        </tr>\n",
       "        <tr>\n",
       "            <td>Brigid Kosgei</td>\n",
       "            <td>Kenya</td>\n",
       "            <td>Marathon</td>\n",
       "            <td>02:14:04</td>\n",
       "            <td>2019</td>\n",
       "            <td>2</td>\n",
       "            <td>1</td>\n",
       "            <td>1</td>\n",
       "            <td>0</td>\n",
       "            <td>0</td>\n",
       "        </tr>\n",
       "        <tr>\n",
       "            <td>Paula Radcliffe</td>\n",
       "            <td>UK</td>\n",
       "            <td>Marathon</td>\n",
       "            <td>02:15:25</td>\n",
       "            <td>2003</td>\n",
       "            <td>3</td>\n",
       "            <td>3</td>\n",
       "            <td>0</td>\n",
       "            <td>0</td>\n",
       "            <td>0</td>\n",
       "        </tr>\n",
       "        <tr>\n",
       "            <td>Haile Gebrselassie</td>\n",
       "            <td>Ethiopia</td>\n",
       "            <td>Marathon</td>\n",
       "            <td>02:03:59</td>\n",
       "            <td>2008</td>\n",
       "            <td>10</td>\n",
       "            <td>4</td>\n",
       "            <td>3</td>\n",
       "            <td>1</td>\n",
       "            <td>1</td>\n",
       "        </tr>\n",
       "        <tr>\n",
       "            <td>Kenenisa Bekele</td>\n",
       "            <td>Ethiopia</td>\n",
       "            <td>Marathon</td>\n",
       "            <td>02:01:41</td>\n",
       "            <td>2016</td>\n",
       "            <td>4</td>\n",
       "            <td>3</td>\n",
       "            <td>2</td>\n",
       "            <td>1</td>\n",
       "            <td>0</td>\n",
       "        </tr>\n",
       "    </tbody>\n",
       "</table>"
      ],
      "text/plain": [
       "[('Eliud Kipchoge', 'Kenya', 'Marathon', '02:01:39', 2018, 6, 4, 3, 0, 1),\n",
       " ('Brigid Kosgei', 'Kenya', 'Marathon', '02:14:04', 2019, 2, 1, 1, 0, 0),\n",
       " ('Paula Radcliffe', 'UK', 'Marathon', '02:15:25', 2003, 3, 3, 0, 0, 0),\n",
       " ('Haile Gebrselassie', 'Ethiopia', 'Marathon', '02:03:59', 2008, 10, 4, 3, 1, 1),\n",
       " ('Kenenisa Bekele', 'Ethiopia', 'Marathon', '02:01:41', 2016, 4, 3, 2, 1, 0)]"
      ]
     },
     "execution_count": 6,
     "metadata": {},
     "output_type": "execute_result"
    }
   ],
   "source": [
    "%%sql\n",
    "SELECT * FROM runners LIMIT 5;"
   ]
  },
  {
   "cell_type": "markdown",
   "id": "dee6014b",
   "metadata": {
    "id": "dee6014b"
   },
   "source": [
    "## Question 2: **Answer**"
   ]
  },
  {
   "cell_type": "code",
   "execution_count": 7,
   "id": "NbLFkolSOdRm",
   "metadata": {
    "colab": {
     "base_uri": "https://localhost:8080/",
     "height": 239
    },
    "executionInfo": {
     "elapsed": 49,
     "status": "ok",
     "timestamp": 1752936916272,
     "user": {
      "displayName": "Benjamin Bennett Alexander",
      "userId": "14614847693800833280"
     },
     "user_tz": -180
    },
    "id": "NbLFkolSOdRm",
    "outputId": "34017c7f-e64b-485d-a0b6-1d25a359eab5"
   },
   "outputs": [
    {
     "name": "stdout",
     "output_type": "stream",
     "text": [
      " * sqlite:///runners_stats_data.db\n",
      "Done.\n"
     ]
    },
    {
     "data": {
      "text/html": [
       "<table>\n",
       "    <thead>\n",
       "        <tr>\n",
       "            <th>name</th>\n",
       "            <th>nationality</th>\n",
       "            <th>total_medals</th>\n",
       "            <th>rank</th>\n",
       "        </tr>\n",
       "    </thead>\n",
       "    <tbody>\n",
       "        <tr>\n",
       "            <td>Mary Keitany</td>\n",
       "            <td>Kenya</td>\n",
       "            <td>8</td>\n",
       "            <td>1</td>\n",
       "        </tr>\n",
       "        <tr>\n",
       "            <td>Vivian Cheruiyot</td>\n",
       "            <td>Kenya</td>\n",
       "            <td>8</td>\n",
       "            <td>1</td>\n",
       "        </tr>\n",
       "        <tr>\n",
       "            <td>Tirunesh Dibaba</td>\n",
       "            <td>Ethiopia</td>\n",
       "            <td>8</td>\n",
       "            <td>1</td>\n",
       "        </tr>\n",
       "        <tr>\n",
       "            <td>Eliud Kipchoge</td>\n",
       "            <td>Kenya</td>\n",
       "            <td>7</td>\n",
       "            <td>2</td>\n",
       "        </tr>\n",
       "        <tr>\n",
       "            <td>Haile Gebrselassie</td>\n",
       "            <td>Ethiopia</td>\n",
       "            <td>7</td>\n",
       "            <td>2</td>\n",
       "        </tr>\n",
       "        <tr>\n",
       "            <td>Haile Gebrselassie</td>\n",
       "            <td>Ethiopia</td>\n",
       "            <td>7</td>\n",
       "            <td>2</td>\n",
       "        </tr>\n",
       "        <tr>\n",
       "            <td>Joshua Cheptegei</td>\n",
       "            <td>Uganda</td>\n",
       "            <td>6</td>\n",
       "            <td>3</td>\n",
       "        </tr>\n",
       "        <tr>\n",
       "            <td>Kenenisa Bekele</td>\n",
       "            <td>Ethiopia</td>\n",
       "            <td>6</td>\n",
       "            <td>3</td>\n",
       "        </tr>\n",
       "    </tbody>\n",
       "</table>"
      ],
      "text/plain": [
       "[('Mary Keitany', 'Kenya', 8, 1),\n",
       " ('Vivian Cheruiyot', 'Kenya', 8, 1),\n",
       " ('Tirunesh Dibaba', 'Ethiopia', 8, 1),\n",
       " ('Eliud Kipchoge', 'Kenya', 7, 2),\n",
       " ('Haile Gebrselassie', 'Ethiopia', 7, 2),\n",
       " ('Haile Gebrselassie', 'Ethiopia', 7, 2),\n",
       " ('Joshua Cheptegei', 'Uganda', 6, 3),\n",
       " ('Kenenisa Bekele', 'Ethiopia', 6, 3)]"
      ]
     },
     "execution_count": 7,
     "metadata": {},
     "output_type": "execute_result"
    }
   ],
   "source": [
    "%%sql\n",
    "-- Ranking runners based on medals achievement\n",
    "WITH ranked_runners AS (\n",
    "    SELECT\n",
    "        name,\n",
    "        nationality,\n",
    "        world_records,\n",
    "        (olympic_gold_medals + world_records) AS total_medals,\n",
    "        DENSE_RANK() OVER (ORDER BY (world_records +\n",
    "                                     olympic_gold_medals) DESC) AS rank\n",
    "    FROM runners\n",
    ")\n",
    "-- Main query identifying top three ranked runners\n",
    "SELECT\n",
    "    name,\n",
    "    nationality,\n",
    "    total_medals,\n",
    "    rank\n",
    "FROM ranked_runners\n",
    "WHERE rank <= 3;"
   ]
  },
  {
   "cell_type": "markdown",
   "id": "Y4A5ceUPlHGm",
   "metadata": {
    "id": "Y4A5ceUPlHGm"
   },
   "source": [
    "## Question 3: **Answer**"
   ]
  },
  {
   "cell_type": "code",
   "execution_count": 8,
   "id": "3fT2clHgBob6",
   "metadata": {
    "colab": {
     "base_uri": "https://localhost:8080/",
     "height": 94
    },
    "executionInfo": {
     "elapsed": 42,
     "status": "ok",
     "timestamp": 1752936916319,
     "user": {
      "displayName": "Benjamin Bennett Alexander",
      "userId": "14614847693800833280"
     },
     "user_tz": -180
    },
    "id": "3fT2clHgBob6",
    "outputId": "79584512-4ceb-4982-c785-f18e2ae8707e"
   },
   "outputs": [
    {
     "name": "stdout",
     "output_type": "stream",
     "text": [
      " * sqlite:///runners_stats_data.db\n",
      "Done.\n"
     ]
    },
    {
     "data": {
      "text/html": [
       "<table>\n",
       "    <thead>\n",
       "        <tr>\n",
       "            <th>nationality</th>\n",
       "            <th>count_of_winners</th>\n",
       "            <th>total_medals</th>\n",
       "        </tr>\n",
       "    </thead>\n",
       "    <tbody>\n",
       "        <tr>\n",
       "            <td>Kenya</td>\n",
       "            <td>5</td>\n",
       "            <td>31</td>\n",
       "        </tr>\n",
       "    </tbody>\n",
       "</table>"
      ],
      "text/plain": [
       "[('Kenya', 5, 31)]"
      ]
     },
     "execution_count": 8,
     "metadata": {},
     "output_type": "execute_result"
    }
   ],
   "source": [
    "%%sql\n",
    "-- Filter marathon runners\n",
    "WITH successful_runners AS (\n",
    "    SELECT\n",
    "        nationality,\n",
    "        (championships + olympic_gold_medals + olympic_silver_medals)\n",
    "        AS total_medals\n",
    "    FROM runners\n",
    "    WHERE championships > 0 AND olympic_gold_medals > 0 AND olympic_silver_medals > 0\n",
    "    AND distance = 'Marathon'\n",
    "),\n",
    "--Aggregate and group by nationality\n",
    "totals_per_nation AS (\n",
    "    SELECT\n",
    "        nationality,\n",
    "        SUM(total_medals) AS total_medals,\n",
    "        COUNT(*) AS count_of_winners\n",
    "    FROM successful_runners\n",
    "    GROUP BY nationality\n",
    "),\n",
    "-- Identify maximum count of eligible runners\n",
    "max_value AS (\n",
    "    SELECT\n",
    "        MAX(count_of_winners) AS max_winners_count\n",
    "    FROM totals_per_nation\n",
    ")\n",
    "-- Main query to retrive nation with max count\n",
    "SELECT\n",
    "    nationality,\n",
    "    count_of_winners,\n",
    "    total_medals\n",
    "FROM totals_per_nation\n",
    "WHERE count_of_winners = (SELECT max_winners_count FROM max_value)\n",
    "ORDER BY total_medals DESC;"
   ]
  },
  {
   "cell_type": "markdown",
   "id": "WsLMc4ZtlQAM",
   "metadata": {
    "id": "WsLMc4ZtlQAM"
   },
   "source": [
    "## Question 4: **Answer**"
   ]
  },
  {
   "cell_type": "code",
   "execution_count": 9,
   "id": "JA43YPvMgY9t",
   "metadata": {
    "colab": {
     "base_uri": "https://localhost:8080/",
     "height": 115
    },
    "executionInfo": {
     "elapsed": 32,
     "status": "ok",
     "timestamp": 1752936916355,
     "user": {
      "displayName": "Benjamin Bennett Alexander",
      "userId": "14614847693800833280"
     },
     "user_tz": -180
    },
    "id": "JA43YPvMgY9t",
    "outputId": "2ff216a0-6c5b-4341-d403-7488d72f5f15"
   },
   "outputs": [
    {
     "name": "stdout",
     "output_type": "stream",
     "text": [
      " * sqlite:///runners_stats_data.db\n",
      "Done.\n"
     ]
    },
    {
     "data": {
      "text/html": [
       "<table>\n",
       "    <thead>\n",
       "        <tr>\n",
       "            <th>distance</th>\n",
       "            <th>name</th>\n",
       "            <th>best_time</th>\n",
       "        </tr>\n",
       "    </thead>\n",
       "    <tbody>\n",
       "        <tr>\n",
       "            <td>Marathon</td>\n",
       "            <td>Eliud Kipchoge</td>\n",
       "            <td>02:01:39</td>\n",
       "        </tr>\n",
       "        <tr>\n",
       "            <td>5000m</td>\n",
       "            <td>Sifan Hassan</td>\n",
       "            <td>00:10:10</td>\n",
       "        </tr>\n",
       "    </tbody>\n",
       "</table>"
      ],
      "text/plain": [
       "[('Marathon', 'Eliud Kipchoge', '02:01:39'),\n",
       " ('5000m', 'Sifan Hassan', '00:10:10')]"
      ]
     },
     "execution_count": 9,
     "metadata": {},
     "output_type": "execute_result"
    }
   ],
   "source": [
    "%%sql\n",
    "-- Using INNER JOINs to find the fastest runners in 5000m and Marathon\n",
    "SELECT\n",
    "    r.distance,\n",
    "    r.name,\n",
    "    r.best_time\n",
    "FROM runners r\n",
    "JOIN (\n",
    "    SELECT distance, MIN(best_time) AS best_time\n",
    "    FROM runners\n",
    "    WHERE distance IN ('5000m', 'Marathon')\n",
    "    GROUP BY distance\n",
    ") fastest_times\n",
    "ON r.distance = fastest_times.distance AND r.best_time = fastest_times.best_time;"
   ]
  },
  {
   "cell_type": "markdown",
   "id": "kIGXzTKnlb2m",
   "metadata": {
    "id": "kIGXzTKnlb2m"
   },
   "source": [
    "## Question 5: **Answer**"
   ]
  },
  {
   "cell_type": "code",
   "execution_count": 10,
   "id": "oMA2foAbjDWl",
   "metadata": {
    "colab": {
     "base_uri": "https://localhost:8080/",
     "height": 298
    },
    "executionInfo": {
     "elapsed": 30,
     "status": "ok",
     "timestamp": 1752936916380,
     "user": {
      "displayName": "Benjamin Bennett Alexander",
      "userId": "14614847693800833280"
     },
     "user_tz": -180
    },
    "id": "oMA2foAbjDWl",
    "outputId": "7b91a1cd-79f5-4366-e5c7-79d5b540a958"
   },
   "outputs": [
    {
     "name": "stdout",
     "output_type": "stream",
     "text": [
      " * sqlite:///runners_stats_data.db\n",
      "Done.\n",
      "Done.\n"
     ]
    },
    {
     "data": {
      "text/html": [
       "<table>\n",
       "    <thead>\n",
       "        <tr>\n",
       "            <th>year</th>\n",
       "            <th>runner_name</th>\n",
       "            <th>finish_time</th>\n",
       "        </tr>\n",
       "    </thead>\n",
       "    <tbody>\n",
       "        <tr>\n",
       "            <td>2018</td>\n",
       "            <td>Eliud Kipchoge</td>\n",
       "            <td>02:01:39</td>\n",
       "        </tr>\n",
       "        <tr>\n",
       "            <td>2016</td>\n",
       "            <td>Kenenisa Bekele</td>\n",
       "            <td>02:01:41</td>\n",
       "        </tr>\n",
       "        <tr>\n",
       "            <td>2014</td>\n",
       "            <td>Dennis Kipruto Kimetto</td>\n",
       "            <td>02:02:57</td>\n",
       "        </tr>\n",
       "        <tr>\n",
       "            <td>2011</td>\n",
       "            <td>Geoffrey Mutai</td>\n",
       "            <td>02:03:02</td>\n",
       "        </tr>\n",
       "        <tr>\n",
       "            <td>2013</td>\n",
       "            <td>Wilson Kiprop</td>\n",
       "            <td>02:03:03</td>\n",
       "        </tr>\n",
       "        <tr>\n",
       "            <td>2008</td>\n",
       "            <td>Haile Gebrselassie</td>\n",
       "            <td>02:03:59</td>\n",
       "        </tr>\n",
       "        <tr>\n",
       "            <td>2012</td>\n",
       "            <td>Abel Kirui</td>\n",
       "            <td>02:05:04</td>\n",
       "        </tr>\n",
       "        <tr>\n",
       "            <td>2019</td>\n",
       "            <td>Brigid Kosgei</td>\n",
       "            <td>02:14:04</td>\n",
       "        </tr>\n",
       "        <tr>\n",
       "            <td>2003</td>\n",
       "            <td>Paula Radcliffe</td>\n",
       "            <td>02:15:25</td>\n",
       "        </tr>\n",
       "        <tr>\n",
       "            <td>2017</td>\n",
       "            <td>Mary Keitany</td>\n",
       "            <td>02:17:01</td>\n",
       "        </tr>\n",
       "    </tbody>\n",
       "</table>"
      ],
      "text/plain": [
       "[(2018, 'Eliud Kipchoge', '02:01:39'),\n",
       " (2016, 'Kenenisa Bekele', '02:01:41'),\n",
       " (2014, 'Dennis Kipruto Kimetto', '02:02:57'),\n",
       " (2011, 'Geoffrey Mutai', '02:03:02'),\n",
       " (2013, 'Wilson Kiprop', '02:03:03'),\n",
       " (2008, 'Haile Gebrselassie', '02:03:59'),\n",
       " (2012, 'Abel Kirui', '02:05:04'),\n",
       " (2019, 'Brigid Kosgei', '02:14:04'),\n",
       " (2003, 'Paula Radcliffe', '02:15:25'),\n",
       " (2017, 'Mary Keitany', '02:17:01')]"
      ]
     },
     "execution_count": 10,
     "metadata": {},
     "output_type": "execute_result"
    }
   ],
   "source": [
    "%%sql\n",
    "-- Ranking of marathon runners for each year using ROW_NUMBER\n",
    "CREATE VIEW IF NOT EXISTS ranked_marathon_runners AS\n",
    "SELECT\n",
    "    year,\n",
    "    name AS runner_name,\n",
    "    best_time AS finish_time,\n",
    "    ROW_NUMBER() OVER (PARTITION BY year ORDER BY best_time) AS rank\n",
    "FROM runners\n",
    "WHERE distance = 'Marathon';\n",
    "\n",
    "-- Returning best runner in each year\n",
    "SELECT\n",
    "    year,\n",
    "    runner_name,\n",
    "    finish_time\n",
    "FROM ranked_marathon_runners\n",
    "WHERE rank = 1\n",
    "ORDER BY finish_time;"
   ]
  },
  {
   "cell_type": "markdown",
   "id": "dU9Nuv03llvl",
   "metadata": {
    "id": "dU9Nuv03llvl"
   },
   "source": [
    "## Question 6 **Answer**"
   ]
  },
  {
   "cell_type": "code",
   "execution_count": 11,
   "id": "3wOCSpXOm2Kd",
   "metadata": {
    "colab": {
     "base_uri": "https://localhost:8080/",
     "height": 94
    },
    "executionInfo": {
     "elapsed": 17,
     "status": "ok",
     "timestamp": 1752936916457,
     "user": {
      "displayName": "Benjamin Bennett Alexander",
      "userId": "14614847693800833280"
     },
     "user_tz": -180
    },
    "id": "3wOCSpXOm2Kd",
    "outputId": "1d7ce45f-4ac7-42b4-b802-d239ab1e41fe"
   },
   "outputs": [
    {
     "name": "stdout",
     "output_type": "stream",
     "text": [
      " * sqlite:///runners_stats_data.db\n",
      "Done.\n"
     ]
    },
    {
     "data": {
      "text/html": [
       "<table>\n",
       "    <thead>\n",
       "        <tr>\n",
       "            <th>best_average_time_to_2013</th>\n",
       "            <th>best_average_time_from_2014</th>\n",
       "        </tr>\n",
       "    </thead>\n",
       "    <tbody>\n",
       "        <tr>\n",
       "            <td>02:06:06</td>\n",
       "            <td>02:07:28</td>\n",
       "        </tr>\n",
       "    </tbody>\n",
       "</table>"
      ],
      "text/plain": [
       "[('02:06:06', '02:07:28')]"
      ]
     },
     "execution_count": 11,
     "metadata": {},
     "output_type": "execute_result"
    }
   ],
   "source": [
    "%%sql\n",
    "SELECT\n",
    "    STRFTIME('%H:%M:%S', AVG(\n",
    "        CASE\n",
    "            WHEN year <= 2013\n",
    "            THEN\n",
    "                CAST(SUBSTR(finish_time, 1, 2) AS INTEGER) * 3600 +\n",
    "                CAST(SUBSTR(finish_time, 4, 2) AS INTEGER) * 60 +\n",
    "                CAST(SUBSTR(finish_time, 7, 2) AS INTEGER)\n",
    "            ELSE NULL\n",
    "        END), 'unixepoch') AS best_average_time_to_2013,\n",
    "    STRFTIME('%H:%M:%S', AVG(\n",
    "        CASE\n",
    "            WHEN year >= 2014\n",
    "            THEN\n",
    "                CAST(SUBSTR(finish_time, 1, 2) AS INTEGER) * 3600 +\n",
    "                CAST(SUBSTR(finish_time, 4, 2) AS INTEGER) * 60 +\n",
    "                CAST(SUBSTR(finish_time, 7, 2) AS INTEGER)\n",
    "            ELSE NULL\n",
    "        END), 'unixepoch') AS best_average_time_from_2014\n",
    "FROM ranked_marathon_runners\n",
    "WHERE rank = 1;"
   ]
  },
  {
   "cell_type": "code",
   "execution_count": 11,
   "id": "9f83f3fd",
   "metadata": {
    "executionInfo": {
     "elapsed": 7,
     "status": "ok",
     "timestamp": 1752936916473,
     "user": {
      "displayName": "Benjamin Bennett Alexander",
      "userId": "14614847693800833280"
     },
     "user_tz": -180
    },
    "id": "9f83f3fd"
   },
   "outputs": [],
   "source": []
  }
 ],
 "metadata": {
  "colab": {
   "provenance": []
  },
  "kernelspec": {
   "display_name": "Python 3 (ipykernel)",
   "language": "python",
   "name": "python3"
  },
  "language_info": {
   "codemirror_mode": {
    "name": "ipython",
    "version": 3
   },
   "file_extension": ".py",
   "mimetype": "text/x-python",
   "name": "python",
   "nbconvert_exporter": "python",
   "pygments_lexer": "ipython3",
   "version": "3.10.5"
  }
 },
 "nbformat": 4,
 "nbformat_minor": 5
}
